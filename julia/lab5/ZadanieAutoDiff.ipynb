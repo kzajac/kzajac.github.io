{
 "cells": [
  {
   "cell_type": "markdown",
   "metadata": {},
   "source": [
    "# Automatyczne różniczkowanie (Automatic Differentiation)\n",
    "\n",
    "Dwa popularne sposoby na liczenie pochodnych w programach komputerowych to:\n",
    "* różniczkowanie symboliczne -- mało wydajne, trudne w implementacji, wymaga stworzenia całej maszynerii do obliczeń symbolicznych\n",
    "* różniczkowanie numeryczne -- wprowadza sporo błędów zaokrągleń\n",
    "\n",
    "Trzecim sposobem jest **automatyczne różniczkowanie**. Jednym ze sposobów na jego zaimplementowanie jest metaprogramowanie w języku, który daje nam dostęp do swojego drzewa składniowego w trakcie kompilacji (przykłady: Lisp, Julia, Haskell). Idea, w dużym skrócie, jest następująca: umiemy różniczkować funkcje elementarne takie, jak: +, -, /, *, sin, cos, etc. Bardziej skomplikowane pochodne możemy obliczać, używając prostych właściwości pochodnych sum, iloczynów, etc. W takim razie stosunkowo łatwo zaimplementować makro, które na wejściu przyjmuje funkcję (konkretnie: reprezentację jej kodu) i generuje funkcję, będącą jej pochodną.\n",
    "\n",
    "Zadanie polega na napisaniu funkcji w Języku Julia, która przyjmie obiekt `Expr`, reprezentujący działanie na jednej zmiennej (e.g. `:(x * x + 10 * x)`) i zwraca obiekt `Expr` reprezentujący to działanie zróżniczkowane (po tej zmiennej, która w nim występuje -- w powyższym przykładzie po `x`).\n",
    "\n",
    "Różniczkowanie powinno wspierać następujące operacje: dodawanie, odejmowanie, mnożenie, dzielenie. W implementacji może być pomocny ten [bardzo ciekawy artykuł](https://int8.io/automatic-differentiation-machine-learning-julia/).\n",
    "\n",
    "Funkcja powinna mieć następującą sygnaturę:"
   ]
  },
  {
   "cell_type": "code",
   "execution_count": 1,
   "metadata": {},
   "outputs": [
    {
     "data": {
      "text/plain": [
       "autodiff (generic function with 1 method)"
      ]
     },
     "execution_count": 1,
     "metadata": {},
     "output_type": "execute_result"
    }
   ],
   "source": [
    "function autodiff(ex::Expr)::Expr\n",
    "    ???\n",
    "end"
   ]
  },
  {
   "cell_type": "markdown",
   "metadata": {},
   "source": [
    "A jej wywoływanie powinno wyglądać tak:"
   ]
  },
  {
   "cell_type": "code",
   "execution_count": null,
   "metadata": {
    "collapsed": true
   },
   "outputs": [],
   "source": [
    "autodiff(:(x + x*x*x))"
   ]
  },
  {
   "cell_type": "markdown",
   "metadata": {},
   "source": [
    "#### Podpowiedź:\n",
    "\n",
    "Funkcja powinna działać mniej więcej tak:\n",
    "* dla każdej reguły różniczkowania definiujemy metodę funkcji `autodiff`. Reguły, które należy uwzględnić, to:\n",
    "    * pochodna ze stałej   (n/dx)\n",
    "    * pochodna ze zmiennej (x/dx)\n",
    "    * pochodna sumy\n",
    "    * pochodna różnicy\n",
    "    * pochodna iloczynu\n",
    "    * pochodna ilorazu\n",
    "* definujemy top-level metodę funkcji `autodiff` dla `Expr`, która:\n",
    "    * jeśli dostała złożone wyrażenie, np. `x + x`, wywoła odpowiednią regułę. Pytania pomocnicze:\n",
    "        * jak zapisywane są takie wyrażenia w AST?\n",
    "        * jak dostać operator?\n",
    "        * można to sprawdzić, pisząc `dump(:(x + x))`\n",
    "    * jeśli dostała proste wyrażenie, używa po prostu dispatchu do wywołania na nim funkcji `autodiff`. Pytanie pomocnicze:\n",
    "        * jakie trzeba uwzględnić typy wyrażeń?"
   ]
  },
  {
   "cell_type": "code",
   "execution_count": 2,
   "metadata": {},
   "outputs": [
    {
     "name": "stdout",
     "output_type": "stream",
     "text": [
      "Expr\n",
      "  head: Symbol call\n",
      "  args: Array{Any}((3,))\n",
      "    1: Symbol +\n",
      "    2: Symbol x\n",
      "    3: Symbol x\n",
      "  typ: Any\n"
     ]
    }
   ],
   "source": [
    "dump(:(x+x))"
   ]
  },
  {
   "cell_type": "markdown",
   "metadata": {},
   "source": [
    "### Zadanie bonusowe:\n",
    "\n",
    "Napisać funkcję `autodiffFun`, która przyjmie funkcję jednej zmiennej (prostą: z jednym wyrażeniem, postaci `f(x) = expr[x]`) i zwróci funkcję będącą jej pochodną.\n",
    "\n",
    "```\n",
    "f(x) = x * x + x - 10\n",
    "g = autodiffFun(f)\n",
    "g(5) == 1\n",
    "```"
   ]
  },
  {
   "cell_type": "code",
   "execution_count": null,
   "metadata": {
    "collapsed": true
   },
   "outputs": [],
   "source": []
  }
 ],
 "metadata": {
  "kernelspec": {
   "display_name": "Julia 0.6.2",
   "language": "julia",
   "name": "julia-0.6"
  },
  "language_info": {
   "file_extension": ".jl",
   "mimetype": "application/julia",
   "name": "julia",
   "version": "0.6.2"
  }
 },
 "nbformat": 4,
 "nbformat_minor": 2
}
