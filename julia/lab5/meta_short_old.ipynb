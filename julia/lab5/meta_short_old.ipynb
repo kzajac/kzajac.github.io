{
 "cells": [
  {
   "cell_type": "markdown",
   "metadata": {},
   "source": [
    "### Metaprogramowanie - skrót z wykładu.\n",
    "W celu pełnego zrozumienia tematu należy zapoznać się z wykładem."
   ]
  },
  {
   "cell_type": "markdown",
   "metadata": {},
   "source": [
    "<b>“code is data and data is code“</b>\n",
    "\n",
    "Kazdy kawalek kodu jest reprezentowany wewnetrznie jako zwykla struktura danych w Julii (nazywana wyrazeniem - expression) \n",
    "\n"
   ]
  },
  {
   "cell_type": "markdown",
   "metadata": {},
   "source": [
    "### Wyrażenia"
   ]
  },
  {
   "cell_type": "code",
   "execution_count": 1,
   "metadata": {
    "collapsed": false
   },
   "outputs": [
    {
     "data": {
      "text/plain": [
       "\"12 + 30\""
      ]
     },
     "execution_count": 1,
     "metadata": {},
     "output_type": "execute_result"
    }
   ],
   "source": [
    "# program w Julii mozna wyciagnac z napisu np.:  \n",
    "prog = \"12 + 30\""
   ]
  },
  {
   "cell_type": "code",
   "execution_count": 2,
   "metadata": {
    "collapsed": false
   },
   "outputs": [
    {
     "data": {
      "text/plain": [
       ":(12 + 30)"
      ]
     },
     "execution_count": 2,
     "metadata": {},
     "output_type": "execute_result"
    }
   ],
   "source": [
    "# możemy  zamienić napis na wyrażenie.\n",
    "ex1 = parse(prog)"
   ]
  },
  {
   "cell_type": "code",
   "execution_count": 3,
   "metadata": {
    "collapsed": false
   },
   "outputs": [
    {
     "data": {
      "text/plain": [
       "Expr"
      ]
     },
     "execution_count": 3,
     "metadata": {},
     "output_type": "execute_result"
    }
   ],
   "source": [
    "typeof(ex1)"
   ]
  },
  {
   "cell_type": "markdown",
   "metadata": {},
   "source": [
    "Reprezentacja kodu to typ Expr\n",
    "\n",
    "```julia\n",
    "type Expr\n",
    " head::Symbol\n",
    " args::Array{Any,1}\n",
    " typ\n",
    "end\n",
    "```"
   ]
  },
  {
   "cell_type": "code",
   "execution_count": 4,
   "metadata": {
    "collapsed": false
   },
   "outputs": [
    {
     "data": {
      "text/plain": [
       ":call"
      ]
     },
     "execution_count": 4,
     "metadata": {},
     "output_type": "execute_result"
    }
   ],
   "source": [
    "# rodzaj wyrażenia\n",
    "#mozliwe rodzaje wyrazen http://docs.julialang.org/en/stable/devdocs/ast/\n",
    "ex1.head"
   ]
  },
  {
   "cell_type": "code",
   "execution_count": 5,
   "metadata": {
    "collapsed": false
   },
   "outputs": [
    {
     "data": {
      "text/plain": [
       "3-element Array{Any,1}:\n",
       "   :+\n",
       " 12  \n",
       " 30  "
      ]
     },
     "execution_count": 5,
     "metadata": {},
     "output_type": "execute_result"
    }
   ],
   "source": [
    "# arguementy\n",
    "ex1.args"
   ]
  },
  {
   "cell_type": "code",
   "execution_count": 6,
   "metadata": {
    "collapsed": false
   },
   "outputs": [
    {
     "data": {
      "text/plain": [
       "Any"
      ]
     },
     "execution_count": 6,
     "metadata": {},
     "output_type": "execute_result"
    }
   ],
   "source": [
    "# typ zwracany\n",
    "ex1.typ"
   ]
  },
  {
   "cell_type": "code",
   "execution_count": 7,
   "metadata": {
    "collapsed": false
   },
   "outputs": [
    {
     "data": {
      "text/plain": [
       ":(12 + 30)"
      ]
     },
     "execution_count": 7,
     "metadata": {},
     "output_type": "execute_result"
    }
   ],
   "source": [
    "# wyrażenia możemy tworzyć ręcznie\n",
    "ex2 = Expr(:call, :+, 12, 30)"
   ]
  },
  {
   "cell_type": "code",
   "execution_count": 8,
   "metadata": {
    "collapsed": false
   },
   "outputs": [
    {
     "data": {
      "text/plain": [
       "true"
      ]
     },
     "execution_count": 8,
     "metadata": {},
     "output_type": "execute_result"
    }
   ],
   "source": [
    "ex1==ex2"
   ]
  },
  {
   "cell_type": "code",
   "execution_count": 9,
   "metadata": {
    "collapsed": false
   },
   "outputs": [
    {
     "name": "stdout",
     "output_type": "stream",
     "text": [
      "Expr\n",
      "  head: Symbol call\n",
      "  args: Array{Any}((3,))\n",
      "    1: Symbol -\n",
      "    2: Expr\n",
      "      head: Symbol call\n",
      "      args: Array{Any}((3,))\n",
      "        1: Symbol +\n",
      "        2: Int64 2\n",
      "        3: Expr\n",
      "          head: Symbol call\n",
      "          args: Array{Any}((3,))\n",
      "            1: Symbol *\n",
      "            2: Symbol a\n",
      "            3: Symbol b\n",
      "          typ: Any\n",
      "      typ: Any\n",
      "    3: Symbol c\n",
      "  typ: Any\n"
     ]
    }
   ],
   "source": [
    "# Drzewo składni abstrakcyjnej (AST - abstract syntax tree)\n",
    "ex3 = parse(\"2+a*b-c\")\n",
    "dump(ex3)"
   ]
  },
  {
   "cell_type": "code",
   "execution_count": 10,
   "metadata": {
    "collapsed": false
   },
   "outputs": [
    {
     "data": {
      "image/png": "[encoded data removed]",
      "text/plain": [
       "443×354 Array{GrayA{N0f8},2}:\n",
       " GrayA{N0f8}(0.506,0.0)  GrayA{N0f8}(0.506,0.0)  …  GrayA{N0f8}(0.506,0.0)\n",
       " GrayA{N0f8}(0.506,0.0)  GrayA{N0f8}(0.506,0.0)     GrayA{N0f8}(0.506,0.0)\n",
       " GrayA{N0f8}(0.506,0.0)  GrayA{N0f8}(0.506,0.0)     GrayA{N0f8}(0.506,0.0)\n",
       " GrayA{N0f8}(0.506,0.0)  GrayA{N0f8}(0.506,0.0)     GrayA{N0f8}(0.506,0.0)\n",
       " GrayA{N0f8}(0.506,0.0)  GrayA{N0f8}(0.506,0.0)     GrayA{N0f8}(0.506,0.0)\n",
       " GrayA{N0f8}(0.506,0.0)  GrayA{N0f8}(0.506,0.0)  …  GrayA{N0f8}(0.506,0.0)\n",
       " GrayA{N0f8}(0.506,0.0)  GrayA{N0f8}(0.506,0.0)     GrayA{N0f8}(0.506,0.0)\n",
       " GrayA{N0f8}(0.506,0.0)  GrayA{N0f8}(0.506,0.0)     GrayA{N0f8}(0.506,0.0)\n",
       " GrayA{N0f8}(0.506,0.0)  GrayA{N0f8}(0.506,0.0)     GrayA{N0f8}(0.506,0.0)\n",
       " GrayA{N0f8}(0.506,0.0)  GrayA{N0f8}(0.506,0.0)     GrayA{N0f8}(0.506,0.0)\n",
       " GrayA{N0f8}(0.506,0.0)  GrayA{N0f8}(0.506,0.0)  …  GrayA{N0f8}(0.506,0.0)\n",
       " GrayA{N0f8}(0.506,0.0)  GrayA{N0f8}(0.506,0.0)     GrayA{N0f8}(0.506,0.0)\n",
       " GrayA{N0f8}(0.506,0.0)  GrayA{N0f8}(0.506,0.0)     GrayA{N0f8}(0.506,0.0)\n",
       " ⋮                                               ⋱                        \n",
       " GrayA{N0f8}(0.506,0.0)  GrayA{N0f8}(0.506,0.0)     GrayA{N0f8}(0.506,0.0)\n",
       " GrayA{N0f8}(0.506,0.0)  GrayA{N0f8}(0.506,0.0)     GrayA{N0f8}(0.506,0.0)\n",
       " GrayA{N0f8}(0.506,0.0)  GrayA{N0f8}(0.506,0.0)     GrayA{N0f8}(0.506,0.0)\n",
       " GrayA{N0f8}(0.506,0.0)  GrayA{N0f8}(0.506,0.0)     GrayA{N0f8}(0.506,0.0)\n",
       " GrayA{N0f8}(0.506,0.0)  GrayA{N0f8}(0.506,0.0)  …  GrayA{N0f8}(0.506,0.0)\n",
       " GrayA{N0f8}(0.506,0.0)  GrayA{N0f8}(0.506,0.0)     GrayA{N0f8}(0.506,0.0)\n",
       " GrayA{N0f8}(0.506,0.0)  GrayA{N0f8}(0.506,0.0)     GrayA{N0f8}(0.506,0.0)\n",
       " GrayA{N0f8}(0.506,0.0)  GrayA{N0f8}(0.506,0.0)     GrayA{N0f8}(0.506,0.0)\n",
       " GrayA{N0f8}(0.506,0.0)  GrayA{N0f8}(0.506,0.0)     GrayA{N0f8}(0.506,0.0)\n",
       " GrayA{N0f8}(0.506,0.0)  GrayA{N0f8}(0.506,0.0)  …  GrayA{N0f8}(0.506,0.0)\n",
       " GrayA{N0f8}(0.506,0.0)  GrayA{N0f8}(0.506,0.0)     GrayA{N0f8}(0.506,0.0)\n",
       " GrayA{N0f8}(0.506,0.0)  GrayA{N0f8}(0.506,0.0)     GrayA{N0f8}(0.506,0.0)"
      ]
     },
     "execution_count": 10,
     "metadata": {},
     "output_type": "execute_result"
    }
   ],
   "source": [
    "#Drzewo skladni abstrakcyjnej - wizualnie\n",
    "#wyswietlenie obrazka png wymaga zaistalowania pakietow Pkg.add(\"Images\"); Pkg.add(\"FileIO\")\n",
    "using Images\n",
    "using FileIO\n",
    "img = load(\"/home/user/drzewo.png\")"
   ]
  },
  {
   "cell_type": "code",
   "execution_count": 11,
   "metadata": {
    "collapsed": false
   },
   "outputs": [
    {
     "data": {
      "text/plain": [
       "true"
      ]
     },
     "execution_count": 11,
     "metadata": {},
     "output_type": "execute_result"
    }
   ],
   "source": [
    "# to jest to samo\n",
    ":(a + b*c + 1)  == \n",
    "parse(\"a + b*c + 1\") ==\n",
    "Expr(:call, :+, :a, Expr(:call, :*, :b, :c), 1)"
   ]
  },
  {
   "cell_type": "markdown",
   "metadata": {},
   "source": [
    "### Interpolacja"
   ]
  },
  {
   "cell_type": "code",
   "execution_count": 12,
   "metadata": {
    "collapsed": false
   },
   "outputs": [
    {
     "name": "stdout",
     "output_type": "stream",
     "text": [
      "Expr\n",
      "  head: Symbol call\n",
      "  args: Array{Any}((3,))\n",
      "    1: Symbol +\n",
      "    2: Int64 1\n",
      "    3: Symbol b\n",
      "  typ: Any\n"
     ]
    }
   ],
   "source": [
    "# wyrazenie nastepujace po $ jest od razu obliczane \n",
    "# moze byc uzyta do wygodnego i czytelnego tworzenia wyrażeń\n",
    "a = 1;\n",
    "ex = :($a + b)\n",
    "dump(ex)"
   ]
  },
  {
   "cell_type": "markdown",
   "metadata": {},
   "source": [
    "### Ewaluacja"
   ]
  },
  {
   "cell_type": "code",
   "execution_count": 13,
   "metadata": {
    "collapsed": false
   },
   "outputs": [
    {
     "data": {
      "text/plain": [
       "3"
      ]
     },
     "execution_count": 13,
     "metadata": {},
     "output_type": "execute_result"
    }
   ],
   "source": [
    "# funkcja eval() wylicza wartosc wyrazenia\n",
    "ex = :(1+2)\n",
    "eval(ex)"
   ]
  },
  {
   "cell_type": "markdown",
   "metadata": {},
   "source": [
    "### Makra"
   ]
  },
  {
   "cell_type": "markdown",
   "metadata": {},
   "source": [
    "Etapy przetwarzania kodu(przypomnienie):\n",
    " \n",
    " 1. zrodla\n",
    " 2. parsowanie\n",
    " 3. <b>rozwijanie makr</b>\n",
    " 4. lowering (@code_lowered) - posrednia reprezentacje kodu  w formie Abstract Syntax Three\n",
    " 5. type inference - okreslanie typow\n",
    " 6. inlining - funkcje inline\n",
    " 7. generated function expansion (@code_typed)\n",
    " 8. generacja kodu (@code_llvm)\n",
    " 9. native compilation - do assemblera (@code_native)\n",
    " 10. RUN\n",
    " \n",
    "  Makra pozwalaja programiscie tworzyc i wstawiac fragmenty kodu przed wykonaniem calosci kodu. \n",
    "  \n",
    "  Makra generalnie  działają na wyrażeniach (mogą też przyjmować symbole i literały jako argumenty) i zwracają wyrażenia"
   ]
  },
  {
   "cell_type": "code",
   "execution_count": 14,
   "metadata": {
    "collapsed": false
   },
   "outputs": [
    {
     "data": {
      "text/plain": [
       "@myassert (macro with 1 method)"
      ]
     },
     "execution_count": 14,
     "metadata": {},
     "output_type": "execute_result"
    }
   ],
   "source": [
    "# Przykład: tutaj nie byloby mozliwe napisanie tego jako funkcji myassert(), \n",
    "# poniewaz nie moznaby było wypisać zawartości wyrażenia ex, \n",
    "# na etapie wykonania funkcji  znamy tylko wartość ex \n",
    "# t.j. wiemy,  czy ex jest true/false a nie wiemy że to powstało np. z porównania 1==1.0 .\n",
    "\n",
    "macro myassert(ex)\n",
    "    return :($ex ? nothing : error(\"Assertion failed: \", $(string(ex))))\n",
    "end"
   ]
  },
  {
   "cell_type": "code",
   "execution_count": 15,
   "metadata": {
    "collapsed": false
   },
   "outputs": [],
   "source": [
    "@myassert 1==1.0"
   ]
  },
  {
   "cell_type": "code",
   "execution_count": 16,
   "metadata": {
    "collapsed": false
   },
   "outputs": [
    {
     "ename": "LoadError",
     "evalue": "Assertion failed: 1 == 0",
     "output_type": "error",
     "traceback": [
      "Assertion failed: 1 == 0",
      "",
      " in error(::String, ::String, ::Vararg{String,N}) at ./error.jl:22"
     ]
    }
   ],
   "source": [
    "@myassert 1==0"
   ]
  },
  {
   "cell_type": "code",
   "execution_count": 17,
   "metadata": {
    "collapsed": false
   },
   "outputs": [
    {
     "data": {
      "text/plain": [
       ":(if 1 == 1\n",
       "        nothing\n",
       "    else \n",
       "        error(\"Assertion failed: \",\"1 == 1\")\n",
       "    end)"
      ]
     },
     "execution_count": 17,
     "metadata": {},
     "output_type": "execute_result"
    }
   ],
   "source": [
    "# funkcja macroexpand pokazuje w jakie wyrażenie rozwija się makro\n",
    "macroexpand(:(@myassert(1==1)))"
   ]
  },
  {
   "cell_type": "markdown",
   "metadata": {},
   "source": [
    "#### Użycie makr do przyspieszania obliczeń - przykład z algorytmem Hornera\n",
    "\n",
    "Sluzy do obliczania wartosci wielomianow $a_nx^n+a_{n-1}x^{n-1}+ ... +a_0$ \n",
    "\n",
    "$ b_n=a_n $\n",
    "\n",
    "$ b_{n-1}=a_{n-1}+b_nx$\n",
    "\n",
    "$ b_{n-2}=a_{n-2}+b_{n-1}x$\n",
    "\n",
    "....\n",
    "\n",
    "$b_{0}=a_{0}+b_{1}x$"
   ]
  },
  {
   "cell_type": "code",
   "execution_count": 18,
   "metadata": {
    "collapsed": false
   },
   "outputs": [
    {
     "data": {
      "text/plain": [
       "poly_horner (generic function with 1 method)"
      ]
     },
     "execution_count": 18,
     "metadata": {},
     "output_type": "execute_result"
    }
   ],
   "source": [
    "# funkcja wykonuje pętlę przepisaną z algorytmu:\n",
    "function poly_horner(x, a...)\n",
    "    b=zero(x)\n",
    "    for i= length(a):-1:1\n",
    "        b= a[i] + b * x\n",
    "    end\n",
    "    return b\n",
    "end"
   ]
  },
  {
   "cell_type": "code",
   "execution_count": 19,
   "metadata": {
    "collapsed": false
   },
   "outputs": [
    {
     "data": {
      "text/plain": [
       "f_horner (generic function with 1 method)"
      ]
     },
     "execution_count": 19,
     "metadata": {},
     "output_type": "execute_result"
    }
   ],
   "source": [
    "f_horner(x)=poly_horner(x,1,2,3,4,5)"
   ]
  },
  {
   "cell_type": "code",
   "execution_count": 20,
   "metadata": {
    "collapsed": false
   },
   "outputs": [
    {
     "data": {
      "text/plain": [
       "BenchmarkTools.Trial: \n",
       "  memory estimate:  16 bytes\n",
       "  allocs estimate:  1\n",
       "  --------------\n",
       "  minimum time:     29.262 ns (0.00% GC)\n",
       "  median time:      31.781 ns (0.00% GC)\n",
       "  mean time:        37.090 ns (3.11% GC)\n",
       "  maximum time:     3.509 μs (0.00% GC)\n",
       "  --------------\n",
       "  samples:          10000\n",
       "  evals/sample:     994\n",
       "  time tolerance:   5.00%\n",
       "  memory tolerance: 1.00%"
      ]
     },
     "execution_count": 20,
     "metadata": {},
     "output_type": "execute_result"
    }
   ],
   "source": [
    "# pomiar czasu i pamięci:\n",
    "f_horner(1)\n",
    "using BenchmarkTools\n",
    "@benchmark f_horner(3.5)"
   ]
  },
  {
   "cell_type": "code",
   "execution_count": 21,
   "metadata": {
    "collapsed": false
   },
   "outputs": [
    {
     "data": {
      "text/plain": [
       "@horner (macro with 1 method)"
      ]
     },
     "execution_count": 21,
     "metadata": {},
     "output_type": "execute_result"
    }
   ],
   "source": [
    "# to makro zwraca wyrażenie - używa pętli, aby wyprodukować ostateczny \"wzór\" wstawiając wartości\n",
    "# współczynników wielomianu\n",
    "\n",
    "# można to zrobić, bo na tym etapie wiadomo, ile razy użyć pętli.\n",
    "# dzięki temu pętla jest wykonywana tylko raz, na etapie rozwijania makra.\n",
    "\n",
    "# dygresja: pomocnicza funkcja esc() - wyrażenie jest brane \"jak jest\", nie jest w zaden sposób przekszalcane \n",
    "# przez makro dla celów \"hygienic\" (więcej na wykładzie)   \n",
    "\n",
    "macro horner(x, p...)\n",
    "    ex= esc(p[end])\n",
    "    for i = length(p)-1:-1:1\n",
    "         ex= :(muladd(t, $ex, $(esc(p[i]))))\n",
    "    end\n",
    "    Expr(:block, :(t=$(esc(x))), ex)\n",
    "end"
   ]
  },
  {
   "cell_type": "code",
   "execution_count": 22,
   "metadata": {
    "collapsed": false
   },
   "outputs": [
    {
     "data": {
      "text/plain": [
       "quote \n",
       "    #61#t = 3.5\n",
       "    muladd(#61#t,muladd(#61#t,muladd(#61#t,muladd(#61#t,5,4),3),2),1)\n",
       "end"
      ]
     },
     "execution_count": 22,
     "metadata": {},
     "output_type": "execute_result"
    }
   ],
   "source": [
    "macroexpand(:(@horner(3.5,1,2,3,4,5)))\n",
    "# dygresja: do zmiennej t został dodany unikalny identyfikator dla celów hygienic (więcej na wykładzie) "
   ]
  },
  {
   "cell_type": "code",
   "execution_count": 23,
   "metadata": {
    "collapsed": false
   },
   "outputs": [
    {
     "data": {
      "text/plain": [
       "f_horner_macro (generic function with 1 method)"
      ]
     },
     "execution_count": 23,
     "metadata": {},
     "output_type": "execute_result"
    }
   ],
   "source": [
    "f_horner_macro(x)=@horner(x, 1,2,3,4,5)"
   ]
  },
  {
   "cell_type": "code",
   "execution_count": 24,
   "metadata": {
    "collapsed": false
   },
   "outputs": [
    {
     "data": {
      "text/plain": [
       "15"
      ]
     },
     "execution_count": 24,
     "metadata": {},
     "output_type": "execute_result"
    }
   ],
   "source": [
    "f_horner_macro(1)"
   ]
  },
  {
   "cell_type": "code",
   "execution_count": 25,
   "metadata": {
    "collapsed": false
   },
   "outputs": [
    {
     "data": {
      "text/plain": [
       "BenchmarkTools.Trial: \n",
       "  memory estimate:  0 bytes\n",
       "  allocs estimate:  0\n",
       "  --------------\n",
       "  minimum time:     1.661 ns (0.00% GC)\n",
       "  median time:      1.718 ns (0.00% GC)\n",
       "  mean time:        1.829 ns (0.00% GC)\n",
       "  maximum time:     122.751 ns (0.00% GC)\n",
       "  --------------\n",
       "  samples:          10000\n",
       "  evals/sample:     1000\n",
       "  time tolerance:   5.00%\n",
       "  memory tolerance: 1.00%"
      ]
     },
     "execution_count": 25,
     "metadata": {},
     "output_type": "execute_result"
    }
   ],
   "source": [
    "#pomiar czasu i pamięci:\n",
    "@benchmark f_horner_macro(3.5)"
   ]
  },
  {
   "cell_type": "markdown",
   "metadata": {},
   "source": [
    "### Generated functions"
   ]
  },
  {
   "cell_type": "markdown",
   "metadata": {
    "collapsed": false
   },
   "source": [
    "Funkcja  rozwija sie  w <b>momencie kompilacji</b> kiedy znane sa typy argumentow.\n",
    "\n",
    "Funkcje generowane sa rozwijane na pozniejszym etapie niz makra (na etapie rozwijania makr nie sa znane typy argumentow)\n",
    "\n",
    "Etapy przetwarzania kodu(przypomnienie):\n",
    " \n",
    " 1. zrodla\n",
    " 2. parsowanie\n",
    " 3. rozwijanie makr\n",
    " 4. lowering (@code_lowered) - posrednia reprezentacje kodu  w formie Abstract Syntax Three\n",
    " 5. type inference - okreslanie typow\n",
    " 6. inlining - funkcje inline\n",
    " 7. <b>generated function expansion </b> (@code_typed)\n",
    " 8. generacja kodu (@code_llvm)\n",
    " 9. native compilation - do assemblera (@code_native)\n",
    " 10. RUN\n",
    " \n",
    "W ciele funkcji generowanych dzialamy na typach argumentow\n",
    " \n",
    "Generalna zasada: funkcja jest generowana <b> raz na kazde wywolanie z innym typem</b>, na etapie kompilacji, a nie wykonania \n",
    "\n",
    "Funcje generowane sa uzywane do przeniesienia czesci dzialan z etapu wykonania  na etap kompilacji, wtedy te dzialania wykonywane sa raz na typ, a nie przy kazdym uruchomieniu.\n",
    "\n",
    "Przykladem uzycia jest technika <b> loop-unrolling </b>- usuwanie petli i zamienianie je wyrazeniami\n",
    "\n",
    "Przydatne np. w typie zapisany jest już rozmiar struktury danych i możemy z tej informacji skorzystać na etapie \n",
    "kompilacji.\n",
    "\n",
    "UWAGA: Funkcja moze byc generowana wiecej razy niz liczba wywolan z roznymi typami - nie jest to zabronione, jest to kwestia implementacji Julii, dlatego nie nalezy wprowadzac efektow ubocznych do jej dzialania \n"
   ]
  },
  {
   "cell_type": "code",
   "execution_count": 26,
   "metadata": {
    "collapsed": false
   },
   "outputs": [
    {
     "data": {
      "text/plain": [
       "prod_dim (generic function with 1 method)"
      ]
     },
     "execution_count": 26,
     "metadata": {},
     "output_type": "execute_result"
    }
   ],
   "source": [
    "# mnożymy wymiary tablicy np dla tablicy o wymiarach 10x5x5 wyjdzie 250\n",
    "# zwykła funkcja realizująca  algorytm\n",
    "\n",
    "function prod_dim{T, N}(x::Array{T,N})\n",
    "     s=1\n",
    "    for i = 1:N\n",
    "        s= s* size(x,i)\n",
    "    end\n",
    "    return s\n",
    "end"
   ]
  },
  {
   "cell_type": "code",
   "execution_count": 27,
   "metadata": {
    "collapsed": false
   },
   "outputs": [
    {
     "data": {
      "text/plain": [
       "250"
      ]
     },
     "execution_count": 27,
     "metadata": {},
     "output_type": "execute_result"
    }
   ],
   "source": [
    "A1=rand(10,5,5)\n",
    "prod_dim(A1)"
   ]
  },
  {
   "cell_type": "code",
   "execution_count": 28,
   "metadata": {
    "collapsed": false
   },
   "outputs": [
    {
     "data": {
      "text/plain": [
       "prod_dim_gen (generic function with 1 method)"
      ]
     },
     "execution_count": 28,
     "metadata": {},
     "output_type": "execute_result"
    }
   ],
   "source": [
    "# funkcja generowana korzysta z parametru N typu  Array mówiącego o rozmiarze tablicy\n",
    "# używa pętli do produkcji wzoru. \n",
    "@generated function prod_dim_gen{T, N}(x::Array{T,N})\n",
    "    ex= :(1)\n",
    "    for i= 1:N\n",
    "        ex= :(size(x, $i)*$ex)\n",
    "    end\n",
    "    return ex\n",
    "end"
   ]
  },
  {
   "cell_type": "code",
   "execution_count": 29,
   "metadata": {
    "collapsed": false
   },
   "outputs": [
    {
     "data": {
      "text/plain": [
       "250"
      ]
     },
     "execution_count": 29,
     "metadata": {},
     "output_type": "execute_result"
    }
   ],
   "source": [
    "prod_dim_gen(A1)"
   ]
  },
  {
   "cell_type": "code",
   "execution_count": 30,
   "metadata": {
    "collapsed": false
   },
   "outputs": [
    {
     "data": {
      "text/plain": [
       "prod_dim_gen_impl (generic function with 1 method)"
      ]
     },
     "execution_count": 30,
     "metadata": {},
     "output_type": "execute_result"
    }
   ],
   "source": [
    "# wyciągamy ciało funnkci generowanej i wywołujemy jako zwykłą funkcję po to, żeby zoabaczyć co zwraca funkcja generowana \n",
    "function prod_dim_gen_impl{T, N}(x::Array{T,N})\n",
    "    ex= :(1)\n",
    "    for i= 1:N\n",
    "        ex= :(size(x, $i)*$ex)\n",
    "    end\n",
    "    return ex\n",
    "end"
   ]
  },
  {
   "cell_type": "code",
   "execution_count": 31,
   "metadata": {
    "collapsed": false
   },
   "outputs": [
    {
     "data": {
      "text/plain": [
       ":(size(x,3) * (size(x,2) * (size(x,1) * 1)))"
      ]
     },
     "execution_count": 31,
     "metadata": {},
     "output_type": "execute_result"
    }
   ],
   "source": [
    "prod_dim_gen_impl(A1)"
   ]
  }
 ],
 "metadata": {
  "kernelspec": {
   "display_name": "Julia 0.5.0",
   "language": "julia",
   "name": "julia-0.5"
  },
  "language_info": {
   "file_extension": ".jl",
   "mimetype": "application/julia",
   "name": "julia",
   "version": "0.5.0"
  }
 },
 "nbformat": 4,
 "nbformat_minor": 0
}
