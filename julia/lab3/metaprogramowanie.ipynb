{
 "cells": [
  {
   "cell_type": "markdown",
   "metadata": {},
   "source": [
    "## Metaprogramowanie\n",
    "\n",
    "Plan:\n",
    "\n",
    "+ reprezentacja programu jako struktury danych\n",
    "+ drzewo skladni abstrakcyjnej\n",
    "+ symbole\n",
    "+ wyrazenia ich interpolacja i ewaluacja\n",
    "+ makra\n",
    "+ makra hygienic \n",
    "+ makra uzywane w celu poprawy efektywnosci \n",
    "+ funkcje generowane"
   ]
  },
  {
   "cell_type": "markdown",
   "metadata": {},
   "source": [
    "### Reprezentacja programu"
   ]
  },
  {
   "cell_type": "markdown",
   "metadata": {},
   "source": [
    "<b>“code is data and data is code“</b>\n",
    "\n",
    "Kazdy kawalek kodu jest reprezentowany wewnetrznie jako zwykla struktura danych w Julii (nazywana wyrazeniem - expression) \n",
    "\n",
    "Homoikoniczność (homoiconics) (grecki: homo=\"tak samo\",  icon=\"reprezentacja\")  to cecha jezykow programowania:\n",
    " - kod programu jest struktura danych dostepnych z poziomu jezyka\n",
    " - program moze trasformowac, a takze generowac nowy kod.\n",
    "\n",
    "w Julii rozwiazania dot homoikoniczności sa inspirowane przez jezyk Lisp, gdzie kod i dane to po prostu listy. \n"
   ]
  },
  {
   "cell_type": "code",
   "execution_count": 1,
   "metadata": {
    "collapsed": false
   },
   "outputs": [
    {
     "data": {
      "text/plain": [
       "\"12 + 30\""
      ]
     },
     "execution_count": 1,
     "metadata": {},
     "output_type": "execute_result"
    }
   ],
   "source": [
    "# program w Julii mozna wyciagnac z napisu np.:  \n",
    "prog = \"12 + 30\""
   ]
  },
  {
   "cell_type": "code",
   "execution_count": 2,
   "metadata": {
    "collapsed": false
   },
   "outputs": [
    {
     "data": {
      "text/plain": [
       ":(12 + 30)"
      ]
     },
     "execution_count": 2,
     "metadata": {},
     "output_type": "execute_result"
    }
   ],
   "source": [
    "# możemy dokonać ich rozkładu gramatycznego\n",
    "ex1 = parse(prog)"
   ]
  },
  {
   "cell_type": "code",
   "execution_count": 3,
   "metadata": {
    "collapsed": false
   },
   "outputs": [
    {
     "data": {
      "text/plain": [
       "Expr"
      ]
     },
     "execution_count": 3,
     "metadata": {},
     "output_type": "execute_result"
    }
   ],
   "source": [
    "typeof(ex1)"
   ]
  },
  {
   "cell_type": "markdown",
   "metadata": {},
   "source": [
    "Reprezentacja kodu to typ Expr\n",
    "\n",
    "```julia\n",
    "type Expr\n",
    " head::Symbol\n",
    " args::Array{Any,1}\n",
    " typ\n",
    "end\n",
    "```"
   ]
  },
  {
   "cell_type": "code",
   "execution_count": 4,
   "metadata": {
    "collapsed": false
   },
   "outputs": [
    {
     "data": {
      "text/plain": [
       "3-element Array{Symbol,1}:\n",
       " :head\n",
       " :args\n",
       " :typ "
      ]
     },
     "execution_count": 4,
     "metadata": {},
     "output_type": "execute_result"
    }
   ],
   "source": [
    "ex1 |> fieldnames"
   ]
  },
  {
   "cell_type": "code",
   "execution_count": 5,
   "metadata": {
    "collapsed": false
   },
   "outputs": [
    {
     "data": {
      "text/plain": [
       ":call"
      ]
     },
     "execution_count": 5,
     "metadata": {},
     "output_type": "execute_result"
    }
   ],
   "source": [
    "# rodzaj wyrażenia\n",
    "#mozliwe rodzaje wyrazen http://docs.julialang.org/en/stable/devdocs/ast/\n",
    "ex1.head"
   ]
  },
  {
   "cell_type": "code",
   "execution_count": 6,
   "metadata": {
    "collapsed": false
   },
   "outputs": [
    {
     "data": {
      "text/plain": [
       "3-element Array{Any,1}:\n",
       "   :+\n",
       " 12  \n",
       " 30  "
      ]
     },
     "execution_count": 6,
     "metadata": {},
     "output_type": "execute_result"
    }
   ],
   "source": [
    "# arguementy\n",
    "ex1.args"
   ]
  },
  {
   "cell_type": "code",
   "execution_count": 7,
   "metadata": {
    "collapsed": false
   },
   "outputs": [
    {
     "data": {
      "text/plain": [
       "Any"
      ]
     },
     "execution_count": 7,
     "metadata": {},
     "output_type": "execute_result"
    }
   ],
   "source": [
    "# typ zwracany\n",
    "ex1.typ"
   ]
  },
  {
   "cell_type": "code",
   "execution_count": 8,
   "metadata": {
    "collapsed": false
   },
   "outputs": [
    {
     "data": {
      "text/plain": [
       ":(12 + 30)"
      ]
     },
     "execution_count": 8,
     "metadata": {},
     "output_type": "execute_result"
    }
   ],
   "source": [
    "# wyrażenia możemy tworzyć ręcznie\n",
    "ex2 = Expr(:call, :+, 12, 30)"
   ]
  },
  {
   "cell_type": "code",
   "execution_count": 9,
   "metadata": {
    "collapsed": false
   },
   "outputs": [
    {
     "data": {
      "text/plain": [
       "true"
      ]
     },
     "execution_count": 9,
     "metadata": {},
     "output_type": "execute_result"
    }
   ],
   "source": [
    "ex1==ex2"
   ]
  },
  {
   "cell_type": "code",
   "execution_count": 10,
   "metadata": {
    "collapsed": false
   },
   "outputs": [
    {
     "name": "stdout",
     "output_type": "stream",
     "text": [
      "Expr\n",
      "  head: Symbol call\n",
      "  args: Array{Any}((3,))\n",
      "    1: Symbol -\n",
      "    2: Expr\n",
      "      head: Symbol call\n",
      "      args: Array{Any}((3,))\n",
      "        1: Symbol +\n",
      "        2: Int64 2\n",
      "        3: Expr\n",
      "          head: Symbol call\n",
      "          args: Array{Any}((3,))\n",
      "            1: Symbol *\n",
      "            2: Symbol a\n",
      "            3: Symbol b\n",
      "          typ: Any\n",
      "      typ: Any\n",
      "    3: Symbol c\n",
      "  typ: Any\n"
     ]
    }
   ],
   "source": [
    "# Drzewo składni abstrakcyjnej (AST - abstract syntax tree)\n",
    "ex3 = parse(\"2+a*b-c\")\n",
    "dump(ex3)"
   ]
  },
  {
   "cell_type": "code",
   "execution_count": 11,
   "metadata": {
    "collapsed": false
   },
   "outputs": [
    {
     "data": {
      "image/png": "[encoded data removed]",
      "text/plain": [
       "443×354 Array{GrayA{N0f8},2}:\n",
       " GrayA{N0f8}(0.506,0.0)  GrayA{N0f8}(0.506,0.0)  …  GrayA{N0f8}(0.506,0.0)\n",
       " GrayA{N0f8}(0.506,0.0)  GrayA{N0f8}(0.506,0.0)     GrayA{N0f8}(0.506,0.0)\n",
       " GrayA{N0f8}(0.506,0.0)  GrayA{N0f8}(0.506,0.0)     GrayA{N0f8}(0.506,0.0)\n",
       " GrayA{N0f8}(0.506,0.0)  GrayA{N0f8}(0.506,0.0)     GrayA{N0f8}(0.506,0.0)\n",
       " GrayA{N0f8}(0.506,0.0)  GrayA{N0f8}(0.506,0.0)     GrayA{N0f8}(0.506,0.0)\n",
       " GrayA{N0f8}(0.506,0.0)  GrayA{N0f8}(0.506,0.0)  …  GrayA{N0f8}(0.506,0.0)\n",
       " GrayA{N0f8}(0.506,0.0)  GrayA{N0f8}(0.506,0.0)     GrayA{N0f8}(0.506,0.0)\n",
       " GrayA{N0f8}(0.506,0.0)  GrayA{N0f8}(0.506,0.0)     GrayA{N0f8}(0.506,0.0)\n",
       " GrayA{N0f8}(0.506,0.0)  GrayA{N0f8}(0.506,0.0)     GrayA{N0f8}(0.506,0.0)\n",
       " GrayA{N0f8}(0.506,0.0)  GrayA{N0f8}(0.506,0.0)     GrayA{N0f8}(0.506,0.0)\n",
       " GrayA{N0f8}(0.506,0.0)  GrayA{N0f8}(0.506,0.0)  …  GrayA{N0f8}(0.506,0.0)\n",
       " GrayA{N0f8}(0.506,0.0)  GrayA{N0f8}(0.506,0.0)     GrayA{N0f8}(0.506,0.0)\n",
       " GrayA{N0f8}(0.506,0.0)  GrayA{N0f8}(0.506,0.0)     GrayA{N0f8}(0.506,0.0)\n",
       " ⋮                                               ⋱                        \n",
       " GrayA{N0f8}(0.506,0.0)  GrayA{N0f8}(0.506,0.0)     GrayA{N0f8}(0.506,0.0)\n",
       " GrayA{N0f8}(0.506,0.0)  GrayA{N0f8}(0.506,0.0)     GrayA{N0f8}(0.506,0.0)\n",
       " GrayA{N0f8}(0.506,0.0)  GrayA{N0f8}(0.506,0.0)     GrayA{N0f8}(0.506,0.0)\n",
       " GrayA{N0f8}(0.506,0.0)  GrayA{N0f8}(0.506,0.0)     GrayA{N0f8}(0.506,0.0)\n",
       " GrayA{N0f8}(0.506,0.0)  GrayA{N0f8}(0.506,0.0)  …  GrayA{N0f8}(0.506,0.0)\n",
       " GrayA{N0f8}(0.506,0.0)  GrayA{N0f8}(0.506,0.0)     GrayA{N0f8}(0.506,0.0)\n",
       " GrayA{N0f8}(0.506,0.0)  GrayA{N0f8}(0.506,0.0)     GrayA{N0f8}(0.506,0.0)\n",
       " GrayA{N0f8}(0.506,0.0)  GrayA{N0f8}(0.506,0.0)     GrayA{N0f8}(0.506,0.0)\n",
       " GrayA{N0f8}(0.506,0.0)  GrayA{N0f8}(0.506,0.0)     GrayA{N0f8}(0.506,0.0)\n",
       " GrayA{N0f8}(0.506,0.0)  GrayA{N0f8}(0.506,0.0)  …  GrayA{N0f8}(0.506,0.0)\n",
       " GrayA{N0f8}(0.506,0.0)  GrayA{N0f8}(0.506,0.0)     GrayA{N0f8}(0.506,0.0)\n",
       " GrayA{N0f8}(0.506,0.0)  GrayA{N0f8}(0.506,0.0)     GrayA{N0f8}(0.506,0.0)"
      ]
     },
     "execution_count": 11,
     "metadata": {},
     "output_type": "execute_result"
    }
   ],
   "source": [
    "#Drzewo skladni abstrakcyjnej - wizualnie\n",
    "#wyswietlenie obrazka png wymaga zaistalowania pakietow Pkg.add(\"Images\"); Pkg.add(\"FileIO\")\n",
    "using Images\n",
    "using FileIO\n",
    "img = load(\"/home/user/drzewo.png\")"
   ]
  },
  {
   "cell_type": "code",
   "execution_count": 12,
   "metadata": {
    "collapsed": false
   },
   "outputs": [
    {
     "name": "stdout",
     "output_type": "stream",
     "text": [
      "(:call, :-, (:call, :+, 2, (:call, :*, :a, :b)), :c)"
     ]
    }
   ],
   "source": [
    "Meta.show_sexpr(ex3)"
   ]
  },
  {
   "cell_type": "markdown",
   "metadata": {},
   "source": [
    "### Symbole"
   ]
  },
  {
   "cell_type": "markdown",
   "metadata": {},
   "source": [
    "symbol czyli tzw. \"interned string\" - Julia przechowuje tylko jedna kopie, ktorej nie mozna zmieniac w trakcie dzialania programu  "
   ]
  },
  {
   "cell_type": "code",
   "execution_count": 13,
   "metadata": {
    "collapsed": false
   },
   "outputs": [
    {
     "data": {
      "text/plain": [
       ":foo"
      ]
     },
     "execution_count": 13,
     "metadata": {},
     "output_type": "execute_result"
    }
   ],
   "source": [
    ":foo"
   ]
  },
  {
   "cell_type": "code",
   "execution_count": 14,
   "metadata": {
    "collapsed": false
   },
   "outputs": [
    {
     "data": {
      "text/plain": [
       "Symbol"
      ]
     },
     "execution_count": 14,
     "metadata": {},
     "output_type": "execute_result"
    }
   ],
   "source": [
    "typeof(:foo)"
   ]
  },
  {
   "cell_type": "markdown",
   "metadata": {},
   "source": [
    "Konstruktor symbol"
   ]
  },
  {
   "cell_type": "code",
   "execution_count": 15,
   "metadata": {
    "collapsed": false
   },
   "outputs": [
    {
     "data": {
      "text/plain": [
       "true"
      ]
     },
     "execution_count": 15,
     "metadata": {},
     "output_type": "execute_result"
    }
   ],
   "source": [
    "Symbol(\"foo\")==:foo"
   ]
  },
  {
   "cell_type": "code",
   "execution_count": 16,
   "metadata": {
    "collapsed": false
   },
   "outputs": [
    {
     "data": {
      "text/plain": [
       ":var_sym"
      ]
     },
     "execution_count": 16,
     "metadata": {},
     "output_type": "execute_result"
    }
   ],
   "source": [
    "Symbol(:var,'_',\"sym\")"
   ]
  },
  {
   "cell_type": "markdown",
   "metadata": {},
   "source": [
    "### Wyrażenia "
   ]
  },
  {
   "cell_type": "code",
   "execution_count": 17,
   "metadata": {
    "collapsed": false
   },
   "outputs": [
    {
     "data": {
      "text/plain": [
       ":(a + b * c + 1)"
      ]
     },
     "execution_count": 17,
     "metadata": {},
     "output_type": "execute_result"
    }
   ],
   "source": [
    "# cytowanie (quote operator)  - traktuj argument jak dane, nie jak kod\n",
    "ex = :(a+b*c+1)"
   ]
  },
  {
   "cell_type": "code",
   "execution_count": 18,
   "metadata": {
    "collapsed": false
   },
   "outputs": [
    {
     "data": {
      "text/plain": [
       "Expr"
      ]
     },
     "execution_count": 18,
     "metadata": {},
     "output_type": "execute_result"
    }
   ],
   "source": [
    "typeof(ex)"
   ]
  },
  {
   "cell_type": "code",
   "execution_count": 19,
   "metadata": {
    "collapsed": false
   },
   "outputs": [
    {
     "name": "stdout",
     "output_type": "stream",
     "text": [
      "Expr\n",
      "  head: Symbol call\n",
      "  args: Array{Any}((4,))\n",
      "    1: Symbol +\n",
      "    2: Symbol a\n",
      "    3: Expr\n",
      "      head: Symbol call\n",
      "      args: Array{Any}((3,))\n",
      "        1: Symbol *\n",
      "        2: Symbol b\n",
      "        3: Symbol c\n",
      "      typ: Any\n",
      "    4: Int64 1\n",
      "  typ: Any\n"
     ]
    }
   ],
   "source": [
    "dump(ex)"
   ]
  },
  {
   "cell_type": "code",
   "execution_count": 20,
   "metadata": {
    "collapsed": false
   },
   "outputs": [
    {
     "data": {
      "text/plain": [
       "true"
      ]
     },
     "execution_count": 20,
     "metadata": {},
     "output_type": "execute_result"
    }
   ],
   "source": [
    "# to jest to samo\n",
    ":(a + b*c + 1)  == \n",
    "parse(\"a + b*c + 1\") ==\n",
    "Expr(:call, :+, :a, Expr(:call, :*, :b, :c), 1)"
   ]
  },
  {
   "cell_type": "code",
   "execution_count": 21,
   "metadata": {
    "collapsed": false
   },
   "outputs": [
    {
     "data": {
      "text/plain": [
       "quote  # In[21], line 2:\n",
       "    x = 1 # In[21], line 3:\n",
       "    y = 2 # In[21], line 4:\n",
       "    x + y\n",
       "end"
      ]
     },
     "execution_count": 21,
     "metadata": {},
     "output_type": "execute_result"
    }
   ],
   "source": [
    "#  reprezentacja blokow jako wyrazen\n",
    "ex4=:(begin x = 1\n",
    "        y = 2\n",
    "        x + y\n",
    "        end)"
   ]
  },
  {
   "cell_type": "code",
   "execution_count": 22,
   "metadata": {
    "collapsed": false
   },
   "outputs": [
    {
     "name": "stdout",
     "output_type": "stream",
     "text": [
      "Expr\n",
      "  head: Symbol block\n",
      "  args: Array{Any}((6,))\n",
      "    1: Expr\n",
      "      head: Symbol line\n",
      "      args: Array{Any}((2,))\n",
      "        1: Int64 2\n",
      "        2: Symbol In[21]\n",
      "      typ: Any\n",
      "    2: Expr\n",
      "      head: Symbol =\n",
      "      args: Array{Any}((2,))\n",
      "        1: Symbol x\n",
      "        2: Int64 1\n",
      "      typ: Any\n",
      "    3: Expr\n",
      "      head: Symbol line\n",
      "      args: Array{Any}((2,))\n",
      "        1: Int64 3\n",
      "        2: Symbol In[21]\n",
      "      typ: Any\n",
      "    4: Expr\n",
      "      head: Symbol =\n",
      "      args: Array{Any}((2,))\n",
      "        1: Symbol y\n",
      "        2: Int64 2\n",
      "      typ: Any\n",
      "    5: Expr\n",
      "      head: Symbol line\n",
      "      args: Array{Any}((2,))\n",
      "        1: Int64 4\n",
      "        2: Symbol In[21]\n",
      "      typ: Any\n",
      "    6: Expr\n",
      "      head: Symbol call\n",
      "      args: Array{Any}((3,))\n",
      "        1: Symbol +\n",
      "        2: Symbol x\n",
      "        3: Symbol y\n",
      "      typ: Any\n",
      "  typ: Any\n"
     ]
    }
   ],
   "source": [
    "dump(ex4)"
   ]
  },
  {
   "cell_type": "code",
   "execution_count": 23,
   "metadata": {
    "collapsed": false
   },
   "outputs": [
    {
     "data": {
      "text/plain": [
       "quote  # In[23], line 3:\n",
       "    x = 1 # In[23], line 4:\n",
       "    y = 2 # In[23], line 5:\n",
       "    x + y\n",
       "end"
      ]
     },
     "execution_count": 23,
     "metadata": {},
     "output_type": "execute_result"
    }
   ],
   "source": [
    "# inny sposob na wyrazenie zawierajace reprezentacje blokow (taki  sam efekt  jak wyzej)\n",
    "ex = quote \n",
    "        x = 1\n",
    "        y = 2\n",
    "        x + y\n",
    "    end"
   ]
  },
  {
   "cell_type": "code",
   "execution_count": 24,
   "metadata": {
    "collapsed": false
   },
   "outputs": [
    {
     "name": "stdout",
     "output_type": "stream",
     "text": [
      "Expr\n",
      "  head: Symbol block\n",
      "  args: Array{Any}((6,))\n",
      "    1: Expr\n",
      "      head: Symbol line\n",
      "      args: Array{Any}((2,))\n",
      "        1: Int64 3\n",
      "        2: Symbol In[23]\n",
      "      typ: Any\n",
      "    2: Expr\n",
      "      head: Symbol =\n",
      "      args: Array{Any}((2,))\n",
      "        1: Symbol x\n",
      "        2: Int64 1\n",
      "      typ: Any\n",
      "    3: Expr\n",
      "      head: Symbol line\n",
      "      args: Array{Any}((2,))\n",
      "        1: Int64 4\n",
      "        2: Symbol In[23]\n",
      "      typ: Any\n",
      "    4: Expr\n",
      "      head: Symbol =\n",
      "      args: Array{Any}((2,))\n",
      "        1: Symbol y\n",
      "        2: Int64 2\n",
      "      typ: Any\n",
      "    5: Expr\n",
      "      head: Symbol line\n",
      "      args: Array{Any}((2,))\n",
      "        1: Int64 5\n",
      "        2: Symbol In[23]\n",
      "      typ: Any\n",
      "    6: Expr\n",
      "      head: Symbol call\n",
      "      args: Array{Any}((3,))\n",
      "        1: Symbol +\n",
      "        2: Symbol x\n",
      "        3: Symbol y\n",
      "      typ: Any\n",
      "  typ: Any\n"
     ]
    }
   ],
   "source": [
    "dump(ex)"
   ]
  },
  {
   "cell_type": "markdown",
   "metadata": {},
   "source": [
    "### Interpolacja"
   ]
  },
  {
   "cell_type": "code",
   "execution_count": 25,
   "metadata": {
    "collapsed": false
   },
   "outputs": [
    {
     "name": "stdout",
     "output_type": "stream",
     "text": [
      "Expr\n",
      "  head: Symbol call\n",
      "  args: Array{Any}((3,))\n",
      "    1: Symbol +\n",
      "    2: Int64 1\n",
      "    3: Symbol b\n",
      "  typ: Any\n"
     ]
    }
   ],
   "source": [
    "# wyrazenie nastepujace po $ jest od razu obliczane \n",
    "# moze byc uzyta do wygodnego i czytelnego tworzenia wyrazen \n",
    "a = 1;\n",
    "ex = :($a + b)\n",
    "dump(ex)"
   ]
  },
  {
   "cell_type": "markdown",
   "metadata": {},
   "source": [
    "### Ewaluacja"
   ]
  },
  {
   "cell_type": "code",
   "execution_count": 26,
   "metadata": {
    "collapsed": false
   },
   "outputs": [
    {
     "data": {
      "text/plain": [
       "3"
      ]
     },
     "execution_count": 26,
     "metadata": {},
     "output_type": "execute_result"
    }
   ],
   "source": [
    "# funkcja eval() wylicza wartosc wyrazenia\n",
    "ex = :(1+2)\n",
    "eval(ex)"
   ]
  },
  {
   "cell_type": "code",
   "execution_count": 27,
   "metadata": {
    "collapsed": false
   },
   "outputs": [
    {
     "data": {
      "text/plain": [
       ":(a + b)"
      ]
     },
     "execution_count": 27,
     "metadata": {},
     "output_type": "execute_result"
    }
   ],
   "source": [
    "ex = :(a + b)"
   ]
  },
  {
   "cell_type": "code",
   "execution_count": 28,
   "metadata": {
    "collapsed": false
   },
   "outputs": [
    {
     "ename": "LoadError",
     "evalue": "UndefVarError: b not defined",
     "output_type": "error",
     "traceback": [
      "UndefVarError: b not defined",
      "",
      " in eval(::Module, ::Any) at ./boot.jl:234",
      " in eval(::Any) at ./boot.jl:233"
     ]
    }
   ],
   "source": [
    "eval(ex)"
   ]
  },
  {
   "cell_type": "code",
   "execution_count": 29,
   "metadata": {
    "collapsed": false
   },
   "outputs": [
    {
     "data": {
      "text/plain": [
       "3"
      ]
     },
     "execution_count": 29,
     "metadata": {},
     "output_type": "execute_result"
    }
   ],
   "source": [
    "a = 1; b = 2;\n",
    "eval(ex)"
   ]
  },
  {
   "cell_type": "code",
   "execution_count": 30,
   "metadata": {
    "collapsed": false
   },
   "outputs": [
    {
     "data": {
      "text/plain": [
       ":(x = 1)"
      ]
     },
     "execution_count": 30,
     "metadata": {},
     "output_type": "execute_result"
    }
   ],
   "source": [
    "# definiujemy wyrazenie nadajace x wartosc 1\n",
    "ex = :(x = 1)"
   ]
  },
  {
   "cell_type": "code",
   "execution_count": 31,
   "metadata": {
    "collapsed": false
   },
   "outputs": [
    {
     "ename": "LoadError",
     "evalue": "UndefVarError: x not defined",
     "output_type": "error",
     "traceback": [
      "UndefVarError: x not defined",
      ""
     ]
    }
   ],
   "source": [
    "# wyrazenie nie jest jeszcze obliczone\n",
    "x"
   ]
  },
  {
   "cell_type": "code",
   "execution_count": 32,
   "metadata": {
    "collapsed": false
   },
   "outputs": [
    {
     "data": {
      "text/plain": [
       "1"
      ]
     },
     "execution_count": 32,
     "metadata": {},
     "output_type": "execute_result"
    }
   ],
   "source": [
    "# kiedy wyrazenie jest obliczone pojawia się efekt uboczny w postaci nadanej wartosci x\n",
    "eval(ex)"
   ]
  },
  {
   "cell_type": "code",
   "execution_count": 33,
   "metadata": {
    "collapsed": false
   },
   "outputs": [
    {
     "data": {
      "text/plain": [
       "1"
      ]
     },
     "execution_count": 33,
     "metadata": {},
     "output_type": "execute_result"
    }
   ],
   "source": [
    "x"
   ]
  },
  {
   "cell_type": "code",
   "execution_count": 34,
   "metadata": {
    "collapsed": false
   },
   "outputs": [
    {
     "data": {
      "text/plain": [
       "3"
      ]
     },
     "execution_count": 34,
     "metadata": {},
     "output_type": "execute_result"
    }
   ],
   "source": [
    "#przyklad:\n",
    "a=1;b=1\n",
    "# za \"a\" jest od razu podstawiane \"1\", b jest symbolem obliczanym pozniej przy uzyciu funkcji eval \n",
    "ex = Expr(:call, :+, a, :b)\n",
    "a=0;b=2\n",
    "eval(ex)"
   ]
  },
  {
   "cell_type": "markdown",
   "metadata": {},
   "source": [
    "#### Funkcje na wyrazeniach"
   ]
  },
  {
   "cell_type": "code",
   "execution_count": 35,
   "metadata": {
    "collapsed": false
   },
   "outputs": [
    {
     "data": {
      "text/plain": [
       ":(1 + 4 * 5)"
      ]
     },
     "execution_count": 35,
     "metadata": {},
     "output_type": "execute_result"
    }
   ],
   "source": [
    "#mozemy manipulowac wyrazeniami \n",
    "#przyklad funkcji, ktora jako argumenty pobiera wyrazenia i zwraca wyprodukowane wyrazenie\n",
    "function math_expr(op, op1, op2)\n",
    "         expr = Expr(:call, op, op1, op2)\n",
    "         return expr\n",
    "end\n",
    "ex=math_expr(:+, 1, Expr(:call, :*, 4, 5))"
   ]
  },
  {
   "cell_type": "code",
   "execution_count": 36,
   "metadata": {
    "collapsed": false
   },
   "outputs": [
    {
     "data": {
      "text/plain": [
       "21"
      ]
     },
     "execution_count": 36,
     "metadata": {},
     "output_type": "execute_result"
    }
   ],
   "source": [
    "eval(ex)"
   ]
  },
  {
   "cell_type": "code",
   "execution_count": 37,
   "metadata": {
    "collapsed": false
   },
   "outputs": [
    {
     "data": {
      "text/plain": [
       "make_expr2 (generic function with 1 method)"
      ]
     },
     "execution_count": 37,
     "metadata": {},
     "output_type": "execute_result"
    }
   ],
   "source": [
    "# Funkcja, ktora podwaja liczbowe argumenty, nie zmieniajac reszty wyrazenia:\n",
    "function make_expr2(op, opr1, opr2)\n",
    "     opr1f, opr2f = map(x -> isa(x, Number) ? 2*x : x, (opr1, opr2))\n",
    "     retexpr = Expr(:call, op, opr1f, opr2f)\n",
    "     return retexpr\n",
    "end"
   ]
  },
  {
   "cell_type": "code",
   "execution_count": 38,
   "metadata": {
    "collapsed": false
   },
   "outputs": [
    {
     "data": {
      "text/plain": [
       ":(2 + 4)"
      ]
     },
     "execution_count": 38,
     "metadata": {},
     "output_type": "execute_result"
    }
   ],
   "source": [
    "make_expr2(:+, 1, 2)"
   ]
  },
  {
   "cell_type": "code",
   "execution_count": 39,
   "metadata": {
    "collapsed": false
   },
   "outputs": [
    {
     "data": {
      "text/plain": [
       ":(2 + 5 * 8)"
      ]
     },
     "execution_count": 39,
     "metadata": {},
     "output_type": "execute_result"
    }
   ],
   "source": [
    "ex = make_expr2(:+, 1, Expr(:call, :*, 5, 8))"
   ]
  },
  {
   "cell_type": "code",
   "execution_count": 40,
   "metadata": {
    "collapsed": false
   },
   "outputs": [
    {
     "data": {
      "text/plain": [
       "42"
      ]
     },
     "execution_count": 40,
     "metadata": {},
     "output_type": "execute_result"
    }
   ],
   "source": [
    "eval(ex)"
   ]
  },
  {
   "cell_type": "markdown",
   "metadata": {},
   "source": [
    "### Makra"
   ]
  },
  {
   "cell_type": "markdown",
   "metadata": {},
   "source": [
    "Etapy przetwarzania kodu(przypomnienie):\n",
    " \n",
    " 1. zrodla\n",
    " 2. parsowanie\n",
    " 3. <b>rozwijanie makr</b>\n",
    " 4. lowering (@code_lowered) - posrednia reprezentacje kodu  w formie Abstract Syntax Three\n",
    " 5. type inference - okreslanie typow\n",
    " 6. inlining - funkcje inline\n",
    " 7. generated function expansion (@code_typed)\n",
    " 8. generacja kodu (@code_llvm)\n",
    " 9. native compilation - do assemblera (@code_native)\n",
    " 10. RUN\n",
    " \n",
    "  Makra pozwalaja programiscie tworzyc i wstawiac fragmenty kodu przed wykonaniem calosci kodu.        "
   ]
  },
  {
   "cell_type": "code",
   "execution_count": 41,
   "metadata": {
    "collapsed": false
   },
   "outputs": [
    {
     "data": {
      "text/plain": [
       "@sayhello (macro with 1 method)"
      ]
     },
     "execution_count": 41,
     "metadata": {},
     "output_type": "execute_result"
    }
   ],
   "source": [
    "macro sayhello()\n",
    "    return :( println(\"Hello, world!\") )\n",
    "end"
   ]
  },
  {
   "cell_type": "markdown",
   "metadata": {},
   "source": [
    "kompilator zastapi @sayhello przez  :(println(\"Hello, world!\"))"
   ]
  },
  {
   "cell_type": "code",
   "execution_count": 42,
   "metadata": {
    "collapsed": false
   },
   "outputs": [
    {
     "name": "stdout",
     "output_type": "stream",
     "text": [
      "Hello, world!\n"
     ]
    }
   ],
   "source": [
    "#makro jest wykonywane przy uzyciu symbolu @\n",
    "@sayhello"
   ]
  },
  {
   "cell_type": "code",
   "execution_count": 43,
   "metadata": {
    "collapsed": false
   },
   "outputs": [
    {
     "data": {
      "text/plain": [
       "@sayhello (macro with 2 methods)"
      ]
     },
     "execution_count": 43,
     "metadata": {},
     "output_type": "execute_result"
    }
   ],
   "source": [
    "#makro z parametrami:\n",
    "macro sayhello(name1, name2)\n",
    "    return :( println(\"Hello, \", $name1, \" i \", $name2) )\n",
    "end\n"
   ]
  },
  {
   "cell_type": "code",
   "execution_count": 44,
   "metadata": {
    "collapsed": false
   },
   "outputs": [
    {
     "data": {
      "text/plain": [
       ":(println(\"Hello, \",\"Ala\",\" i \",\"Ola\"))"
      ]
     },
     "execution_count": 44,
     "metadata": {},
     "output_type": "execute_result"
    }
   ],
   "source": [
    "#makroexpand  pokazuje na jakie wyrazenie makro jest rozwijane bez wywolywania eval() na nim\n",
    "#nastepuje interpolacja name1 i name2\n",
    "macroexpand(:(@sayhello(\"Ala\", \"Ola\")))"
   ]
  },
  {
   "cell_type": "code",
   "execution_count": 45,
   "metadata": {
    "collapsed": false
   },
   "outputs": [
    {
     "name": "stdout",
     "output_type": "stream",
     "text": [
      "Hello, Ala i Ola\n"
     ]
    }
   ],
   "source": [
    "@sayhello(\"Ala\", \"Ola\")"
   ]
  },
  {
   "cell_type": "code",
   "execution_count": 46,
   "metadata": {
    "collapsed": false
   },
   "outputs": [
    {
     "name": "stdout",
     "output_type": "stream",
     "text": [
      "Hello, Ola i Ala\n"
     ]
    }
   ],
   "source": [
    "@sayhello \"Ola\" \"Ala\""
   ]
  },
  {
   "cell_type": "code",
   "execution_count": 47,
   "metadata": {
    "collapsed": false
   },
   "outputs": [
    {
     "ename": "LoadError",
     "evalue": "MethodError: no method matching @sayhello(::Expr)\u001b[0m\nClosest candidates are:\n  @sayhello(::ANY, \u001b[1m\u001b[31m::ANY\u001b[0m) at In[43]:3\n  @sayhello() at In[41]:2\u001b[0m",
     "output_type": "error",
     "traceback": [
      "MethodError: no method matching @sayhello(::Expr)\u001b[0m\nClosest candidates are:\n  @sayhello(::ANY, \u001b[1m\u001b[31m::ANY\u001b[0m) at In[43]:3\n  @sayhello() at In[41]:2\u001b[0m",
      ""
     ]
    }
   ],
   "source": [
    "# Nie nalezy mieszac notacji \"nawiasowej\"  z  notacja \"z odstepami\", poniewaz\n",
    "# odstep pomiedzy nazwa makra i argumentami powoduje, ze Julia traktuje argument jako krotke:\n",
    "@sayhello (\"Ala\",\"Ola\")"
   ]
  },
  {
   "cell_type": "code",
   "execution_count": 48,
   "metadata": {
    "collapsed": false
   },
   "outputs": [
    {
     "data": {
      "text/plain": [
       "@showarg (macro with 1 method)"
      ]
     },
     "execution_count": 48,
     "metadata": {},
     "output_type": "execute_result"
    }
   ],
   "source": [
    "# makro otrzymuje parametry jako symbole, literaly lub wyrazenie\n",
    "#mozna to badac funkcja  show() \n",
    "macro showarg(x)\n",
    "   show(x)\n",
    "end"
   ]
  },
  {
   "cell_type": "code",
   "execution_count": 49,
   "metadata": {
    "collapsed": false
   },
   "outputs": [
    {
     "name": "stdout",
     "output_type": "stream",
     "text": [
      ":a"
     ]
    }
   ],
   "source": [
    "# symbol\n",
    "@showarg(a)"
   ]
  },
  {
   "cell_type": "code",
   "execution_count": 50,
   "metadata": {
    "collapsed": false
   },
   "outputs": [
    {
     "name": "stdout",
     "output_type": "stream",
     "text": [
      "1"
     ]
    }
   ],
   "source": [
    "#literal\n",
    "@showarg(1)"
   ]
  },
  {
   "cell_type": "code",
   "execution_count": 51,
   "metadata": {
    "collapsed": false
   },
   "outputs": [
    {
     "name": "stdout",
     "output_type": "stream",
     "text": [
      ":(1 + 2)"
     ]
    }
   ],
   "source": [
    "# wyrazenie\n",
    "@showarg(1+2)"
   ]
  },
  {
   "cell_type": "code",
   "execution_count": 52,
   "metadata": {
    "collapsed": false
   },
   "outputs": [
    {
     "name": "stdout",
     "output_type": "stream",
     "text": [
      ":(println(\"hej\"))"
     ]
    }
   ],
   "source": [
    "#wyrazenie\n",
    "@showarg (println(\"hej\"))"
   ]
  },
  {
   "cell_type": "markdown",
   "metadata": {},
   "source": [
    "Makra pozwalaja programiscie tworzyc i wstawiac fragmenty kodu przed wykonaniem calosci. Szczegolowy przyklad:"
   ]
  },
  {
   "cell_type": "code",
   "execution_count": 53,
   "metadata": {
    "collapsed": false
   },
   "outputs": [
    {
     "data": {
      "text/plain": [
       "@twostep (macro with 1 method)"
      ]
     },
     "execution_count": 53,
     "metadata": {},
     "output_type": "execute_result"
    }
   ],
   "source": [
    "macro twostep(arg)\n",
    "    println(\"I execute at parse time. The argument is: \", arg)\n",
    "\n",
    "    return :(println(\"I execute at runtime. The argument is: \", $arg))\n",
    "end"
   ]
  },
  {
   "cell_type": "code",
   "execution_count": 54,
   "metadata": {
    "collapsed": false
   },
   "outputs": [
    {
     "name": "stdout",
     "output_type": "stream",
     "text": [
      "I execute at parse time. The argument is: $(Expr(:quote, :((1,2,3))))\n"
     ]
    }
   ],
   "source": [
    "ex = macroexpand( :(@twostep :(1,2,3) ));"
   ]
  },
  {
   "cell_type": "code",
   "execution_count": 55,
   "metadata": {
    "collapsed": false
   },
   "outputs": [
    {
     "data": {
      "text/plain": [
       "Expr"
      ]
     },
     "execution_count": 55,
     "metadata": {},
     "output_type": "execute_result"
    }
   ],
   "source": [
    "typeof(ex)"
   ]
  },
  {
   "cell_type": "code",
   "execution_count": 56,
   "metadata": {
    "collapsed": false
   },
   "outputs": [
    {
     "data": {
      "text/plain": [
       ":(println(\"I execute at runtime. The argument is: \",$(Expr(:copyast, :($(QuoteNode(:((1,2,3)))))))))"
      ]
     },
     "execution_count": 56,
     "metadata": {},
     "output_type": "execute_result"
    }
   ],
   "source": [
    "ex\n",
    "\n",
    "# typ copyast - argumentem tego wyrazenia jest drzewo AST  kopiowane rekurencyjnie na etapie wykonania \n",
    "\n",
    "# QuoteNode - pomocniczy typ danych w posredniej reprezentacji kodu\n",
    "# zawiera pole wartosc, w ktorej przechowywuje symbole i wyrazenia, zwraca zawartosc tego pola  bez evaluacji \n",
    "# np. dla symbolu :a zwraca po prostu a,  a nie obliczona wartosc a  "
   ]
  },
  {
   "cell_type": "code",
   "execution_count": 57,
   "metadata": {
    "collapsed": false
   },
   "outputs": [
    {
     "name": "stdout",
     "output_type": "stream",
     "text": [
      "I execute at runtime. The argument is: (1,2,3)\n"
     ]
    }
   ],
   "source": [
    "eval(ex)"
   ]
  },
  {
   "cell_type": "code",
   "execution_count": 58,
   "metadata": {
    "collapsed": false
   },
   "outputs": [
    {
     "name": "stdout",
     "output_type": "stream",
     "text": [
      "I execute at parse time. The argument is: (1,2,3)\n",
      "I execute at runtime. The argument is: (1,2,3)\n"
     ]
    }
   ],
   "source": [
    "@twostep (1,2,3)"
   ]
  },
  {
   "cell_type": "code",
   "execution_count": 59,
   "metadata": {
    "collapsed": false
   },
   "outputs": [
    {
     "data": {
      "text/plain": [
       "@myassert (macro with 1 method)"
      ]
     },
     "execution_count": 59,
     "metadata": {},
     "output_type": "execute_result"
    }
   ],
   "source": [
    "# Tutaj nie byloby mozliwe napisanie tego jako funkcji myassert(), \n",
    "# poniewaz nie moznaby bylo wypisac zawartosci wyrazenia ex, \n",
    "# na etapie wykonania znamy tylko wartosc ex \n",
    "# t.j. wiemy,  czy ex jest true/false a nie wiemy ze to powstalo np. z porownania 1==1.0 .\n",
    "\n",
    "macro myassert(ex)\n",
    "    return :($ex ? nothing : error(\"Assertion failed: \", $(string(ex))))\n",
    "end"
   ]
  },
  {
   "cell_type": "code",
   "execution_count": 60,
   "metadata": {
    "collapsed": false
   },
   "outputs": [],
   "source": [
    "@myassert 1==1.0"
   ]
  },
  {
   "cell_type": "code",
   "execution_count": 61,
   "metadata": {
    "collapsed": false
   },
   "outputs": [
    {
     "ename": "LoadError",
     "evalue": "Assertion failed: 1 == 0",
     "output_type": "error",
     "traceback": [
      "Assertion failed: 1 == 0",
      "",
      " in error(::String, ::String, ::Vararg{String,N}) at ./error.jl:22"
     ]
    }
   ],
   "source": [
    "@myassert 1==0"
   ]
  },
  {
   "cell_type": "code",
   "execution_count": 62,
   "metadata": {
    "collapsed": false
   },
   "outputs": [
    {
     "data": {
      "text/plain": [
       ":(if 1 == 1\n",
       "        nothing\n",
       "    else \n",
       "        error(\"Assertion failed: \",\"1 == 1\")\n",
       "    end)"
      ]
     },
     "execution_count": 62,
     "metadata": {},
     "output_type": "execute_result"
    }
   ],
   "source": [
    "macroexpand(:(@myassert(1==1)))"
   ]
  },
  {
   "cell_type": "code",
   "execution_count": 63,
   "metadata": {
    "collapsed": false
   },
   "outputs": [
    {
     "data": {
      "text/plain": [
       "@assert (macro with 1 method)"
      ]
     },
     "execution_count": 63,
     "metadata": {},
     "output_type": "execute_result"
    }
   ],
   "source": [
    "# tutaj bardziej zaawansowane przetwarzanie argumentow makra w fazie parsowania zanim wyprodukujemy wyrazenie\n",
    "# dla fazy wykonania\n",
    "macro assert(ex, msgs...)\n",
    "    msg_body = isempty(msgs) ? ex : msgs[1]\n",
    "    msg = string(msg_body)\n",
    "    return :($ex ? nothing : throw(AssertionError($msg)))\n",
    "end\n"
   ]
  },
  {
   "cell_type": "code",
   "execution_count": 64,
   "metadata": {
    "collapsed": false
   },
   "outputs": [
    {
     "data": {
      "text/plain": [
       ":(if a == b\n",
       "        nothing\n",
       "    else \n",
       "        throw(AssertionError(\"a == b\"))\n",
       "    end)"
      ]
     },
     "execution_count": 64,
     "metadata": {},
     "output_type": "execute_result"
    }
   ],
   "source": [
    "macroexpand(:(@assert a==b))"
   ]
  },
  {
   "cell_type": "code",
   "execution_count": 65,
   "metadata": {
    "collapsed": false
   },
   "outputs": [
    {
     "data": {
      "text/plain": [
       ":(if a == b\n",
       "        nothing\n",
       "    else \n",
       "        throw(AssertionError(\"a should equal b!\"))\n",
       "    end)"
      ]
     },
     "execution_count": 65,
     "metadata": {},
     "output_type": "execute_result"
    }
   ],
   "source": [
    "macroexpand(:(@assert a==b \"a should equal b!\"))"
   ]
  },
  {
   "cell_type": "markdown",
   "metadata": {},
   "source": [
    "### Hygienic macros\n",
    "Makra \"hygienic\" musza upewnic sie, ze zmienne, ktore wprowadzaja i zwracane wartosci nie \"kloca sie\" z istniejacymi zmiennymi w kodzie do ktorego sie rozwina.\n",
    "\n",
    "Ilustracja:"
   ]
  },
  {
   "cell_type": "code",
   "execution_count": 66,
   "metadata": {
    "collapsed": false
   },
   "outputs": [
    {
     "data": {
      "text/plain": [
       "@time2 (macro with 1 method)"
      ]
     },
     "execution_count": 66,
     "metadata": {},
     "output_type": "execute_result"
    }
   ],
   "source": [
    "macro time2(ex)\n",
    "  return quote\n",
    "    local t0 = time()\n",
    "    local val = $ex\n",
    "    local t1 = time()\n",
    "    println(\"elapsed time: \", t1-t0, \" seconds\")\n",
    "    val\n",
    "  end\n",
    "end"
   ]
  },
  {
   "cell_type": "markdown",
   "metadata": {},
   "source": [
    "Chcemy\n",
    "-  t0, t1, val - prywatne tymczasowe zmienne\n",
    "-  time(), println() standardowe funkcje, uzytkownik moze miec zdefioniowana zmienna time\n",
    "\n",
    "Co jesli wyrazenie uzytkownika <i>ex</i> np. zawiera podstawienie do zmiennych t0 lub t1 ? \n",
    "Co jesli uzytkownik ma zdefioniowana zmienna time ?\n"
   ]
  },
  {
   "cell_type": "markdown",
   "metadata": {},
   "source": [
    "Julia rozwiazuje czesc problemow w ten sposob:\n",
    "\n",
    "zmienna jest klasyfikowana jako local:\n",
    " - jesli nastepuje przypisywanie do zmiennej i nie jest ona zadeklarowana jako globalna\n",
    " - lub jesli jest wprost zadeklarowana jako local\n",
    " - lub jesli jest uzyta jako argument funkcji\n",
    "\n",
    "jesli zmienna jest lokalna <b>nastepuje zmiana jej nazwy</b> na unikalna poprzez uzycie gensym()\n",
    "\n"
   ]
  },
  {
   "cell_type": "code",
   "execution_count": 67,
   "metadata": {
    "collapsed": false
   },
   "outputs": [
    {
     "data": {
      "text/plain": [
       ":(#4#x = 0)"
      ]
     },
     "execution_count": 67,
     "metadata": {},
     "output_type": "execute_result"
    }
   ],
   "source": [
    "macro zerox1()\n",
    "  return :(x=0)\n",
    "end\n",
    "macroexpand(:(@zerox1))"
   ]
  },
  {
   "cell_type": "code",
   "execution_count": 68,
   "metadata": {
    "collapsed": false
   },
   "outputs": [
    {
     "data": {
      "text/plain": [
       "foo (generic function with 1 method)"
      ]
     },
     "execution_count": 68,
     "metadata": {},
     "output_type": "execute_result"
    }
   ],
   "source": [
    "function foo()\n",
    "  x = 1\n",
    "  @zerox1\n",
    "  x  \n",
    "end"
   ]
  },
  {
   "cell_type": "code",
   "execution_count": 69,
   "metadata": {
    "collapsed": false
   },
   "outputs": [
    {
     "data": {
      "text/plain": [
       "1"
      ]
     },
     "execution_count": 69,
     "metadata": {},
     "output_type": "execute_result"
    }
   ],
   "source": [
    "foo()"
   ]
  },
  {
   "cell_type": "markdown",
   "metadata": {},
   "source": [
    "Funkcja esc(ex) - wyrazenie ex nie jest rozwijane w trakcie rozwijania makra, tylko jest wklejane do wyniku \"tak jak jest\". \n",
    "\n",
    "W ten sposob mozemy kontrolowac, ktore zmienne maja wplywac na zmienne uzytkownika makra, a ktore nie."
   ]
  },
  {
   "cell_type": "code",
   "execution_count": 70,
   "metadata": {
    "collapsed": false
   },
   "outputs": [
    {
     "data": {
      "text/plain": [
       "foo2 (generic function with 1 method)"
      ]
     },
     "execution_count": 70,
     "metadata": {},
     "output_type": "execute_result"
    }
   ],
   "source": [
    "macro zerox2()\n",
    "  return esc(:(x=0))\n",
    "end\n",
    "\n",
    "function foo2()\n",
    "  x = 1\n",
    "  @zerox2\n",
    "  x  # is zero\n",
    "end"
   ]
  },
  {
   "cell_type": "code",
   "execution_count": 71,
   "metadata": {
    "collapsed": false
   },
   "outputs": [
    {
     "data": {
      "text/plain": [
       "0"
      ]
     },
     "execution_count": 71,
     "metadata": {},
     "output_type": "execute_result"
    }
   ],
   "source": [
    "foo2()"
   ]
  },
  {
   "cell_type": "code",
   "execution_count": 72,
   "metadata": {
    "collapsed": false
   },
   "outputs": [
    {
     "data": {
      "text/plain": [
       ":(x = 0)"
      ]
     },
     "execution_count": 72,
     "metadata": {},
     "output_type": "execute_result"
    }
   ],
   "source": [
    "macroexpand(:(@zerox2))"
   ]
  },
  {
   "cell_type": "code",
   "execution_count": 73,
   "metadata": {
    "collapsed": false
   },
   "outputs": [
    {
     "name": "stdout",
     "output_type": "stream",
     "text": [
      "elapsed time: 0.0056269168853759766 seconds\n"
     ]
    },
    {
     "data": {
      "text/plain": [
       "quote  # In[73], line 4:\n",
       "    local #9#t0 = time() # In[73], line 5:\n",
       "    local #10#val = factorial(10) # In[73], line 6:\n",
       "    local #11#t1 = time() # In[73], line 7:\n",
       "    println(\"elapsed time: \",#11#t1 - #9#t0,\" seconds\") # In[73], line 8:\n",
       "    #10#val\n",
       "end"
      ]
     },
     "execution_count": 73,
     "metadata": {},
     "output_type": "execute_result"
    }
   ],
   "source": [
    "#przyklad makro timeit\n",
    "macro timeit(ex)\n",
    "  return quote\n",
    "    local t0 = time()\n",
    "    local val = $(esc(ex))\n",
    "    local t1 = time()\n",
    "    println(\"elapsed time: \", t1-t0, \" seconds\")\n",
    "    val\n",
    "  end\n",
    "end\n",
    "@timeit factorial(10)\n",
    "macroexpand(:(@timeit factorial(10)))"
   ]
  },
  {
   "cell_type": "markdown",
   "metadata": {},
   "source": [
    "Uwaga: w dokumentacji Julia powinna radzic sobie ze zmiennymi globalnymi biorac je ze srodowiska definicji makra\n",
    "Niestety robi to tylko, jesli uzyjemy mechanizmu modulow.\n",
    "Jest to bug dot makr higienic\n",
    "https://github.com/JuliaLang/julia/issues/14893"
   ]
  },
  {
   "cell_type": "code",
   "execution_count": 74,
   "metadata": {
    "collapsed": false
   },
   "outputs": [
    {
     "name": "stdout",
     "output_type": "stream",
     "text": [
      "(x,x,x)\n",
      "(2,2,2)\n",
      "1\n"
     ]
    }
   ],
   "source": [
    "#bledne dzialanie (bug)\n",
    "macro g(y)\n",
    "    :((x, $y, $(esc(y))))\n",
    "end\n",
    "\n",
    "x = 1\n",
    "function t()\n",
    "    x = 2\n",
    "    println(macroexpand(:(@g(x))))\n",
    "    println(@g(x))\n",
    "end\n",
    "\n",
    "t()\n",
    "println(x)"
   ]
  },
  {
   "cell_type": "code",
   "execution_count": 75,
   "metadata": {
    "collapsed": false
   },
   "outputs": [
    {
     "name": "stdout",
     "output_type": "stream",
     "text": [
      "(A.x,A.x,x)\n",
      "(1,1,2)\n",
      "3\n"
     ]
    }
   ],
   "source": [
    "# poprawne dzialanie\n",
    "module A\n",
    "macro g(y)\n",
    "    :((x, $y, $(esc(y))))\n",
    "end\n",
    "x = 1\n",
    "end\n",
    "\n",
    "x = 3\n",
    "\n",
    "function t1()\n",
    "    x = 2\n",
    "    println(macroexpand(:(A.@g(x))))\n",
    "    println(A.@g(x))\n",
    "end\n",
    "\n",
    "t1()\n",
    "println(x)"
   ]
  },
  {
   "cell_type": "markdown",
   "metadata": {},
   "source": [
    "#### Uzycie makr do przyspieszania obliczen - przyklad z algorytmem Hornera\n",
    "\n",
    "Sluzy do obliczania wartosci wielomianow $a_nx^n+a_{n-1}x^{n-1}+ ... +a_0$ \n",
    "\n",
    "$ b_n=a_n $\n",
    "\n",
    "$ b_{n-1}=a_{n-1}+b_nx$\n",
    "\n",
    "$ b_{n-2}=a_{n-2}+b_{n-1}x$\n",
    "\n",
    "....\n",
    "\n",
    "$b_{0}=a_{0}+b_{1}x$"
   ]
  },
  {
   "cell_type": "code",
   "execution_count": 76,
   "metadata": {
    "collapsed": false
   },
   "outputs": [
    {
     "data": {
      "text/plain": [
       "poly_horner (generic function with 1 method)"
      ]
     },
     "execution_count": 76,
     "metadata": {},
     "output_type": "execute_result"
    }
   ],
   "source": [
    "function poly_horner(x, a...)\n",
    "    b=zero(x)\n",
    "    for i= length(a):-1:1\n",
    "        b= a[i] + b * x\n",
    "    end\n",
    "    return b\n",
    "end"
   ]
  },
  {
   "cell_type": "code",
   "execution_count": 77,
   "metadata": {
    "collapsed": false
   },
   "outputs": [
    {
     "data": {
      "text/plain": [
       "f_horner (generic function with 1 method)"
      ]
     },
     "execution_count": 77,
     "metadata": {},
     "output_type": "execute_result"
    }
   ],
   "source": [
    "f_horner(x)=poly_horner(x,1,2,3,4,5)"
   ]
  },
  {
   "cell_type": "code",
   "execution_count": 78,
   "metadata": {
    "collapsed": false
   },
   "outputs": [
    {
     "data": {
      "text/plain": [
       "BenchmarkTools.Trial: \n",
       "  memory estimate:  16 bytes\n",
       "  allocs estimate:  1\n",
       "  --------------\n",
       "  minimum time:     29.496 ns (0.00% GC)\n",
       "  median time:      30.618 ns (0.00% GC)\n",
       "  mean time:        33.400 ns (3.58% GC)\n",
       "  maximum time:     2.065 μs (97.23% GC)\n",
       "  --------------\n",
       "  samples:          10000\n",
       "  evals/sample:     994\n",
       "  time tolerance:   5.00%\n",
       "  memory tolerance: 1.00%"
      ]
     },
     "execution_count": 78,
     "metadata": {},
     "output_type": "execute_result"
    }
   ],
   "source": [
    "f_horner(1)\n",
    "using BenchmarkTools\n",
    "@benchmark f_horner(3.5)"
   ]
  },
  {
   "cell_type": "code",
   "execution_count": 79,
   "metadata": {
    "collapsed": false
   },
   "outputs": [
    {
     "data": {
      "text/plain": [
       "@horner (macro with 1 method)"
      ]
     },
     "execution_count": 79,
     "metadata": {},
     "output_type": "execute_result"
    }
   ],
   "source": [
    "macro horner(x, p...)\n",
    "    ex= esc(p[end])\n",
    "    for i = length(p)-1:-1:1\n",
    "         ex= :(muladd(t, $ex, $(esc(p[i]))))\n",
    "    end\n",
    "    Expr(:block, :(t=$(esc(x))), ex)\n",
    "end"
   ]
  },
  {
   "cell_type": "code",
   "execution_count": 80,
   "metadata": {
    "collapsed": false
   },
   "outputs": [
    {
     "data": {
      "text/plain": [
       "quote \n",
       "    #241#t = 3.5\n",
       "    muladd(#241#t,muladd(#241#t,muladd(#241#t,muladd(#241#t,5,4),3),2),1)\n",
       "end"
      ]
     },
     "execution_count": 80,
     "metadata": {},
     "output_type": "execute_result"
    }
   ],
   "source": [
    "macroexpand(:(@horner(3.5,1,2,3,4,5)))"
   ]
  },
  {
   "cell_type": "code",
   "execution_count": 81,
   "metadata": {
    "collapsed": false
   },
   "outputs": [
    {
     "data": {
      "text/plain": [
       "f_horner_macro (generic function with 1 method)"
      ]
     },
     "execution_count": 81,
     "metadata": {},
     "output_type": "execute_result"
    }
   ],
   "source": [
    "f_horner_macro(x)=@horner(x, 1,2,3,4,5)"
   ]
  },
  {
   "cell_type": "code",
   "execution_count": 82,
   "metadata": {
    "collapsed": false
   },
   "outputs": [
    {
     "data": {
      "text/plain": [
       "15"
      ]
     },
     "execution_count": 82,
     "metadata": {},
     "output_type": "execute_result"
    }
   ],
   "source": [
    "f_horner_macro(1)"
   ]
  },
  {
   "cell_type": "code",
   "execution_count": 83,
   "metadata": {
    "collapsed": false
   },
   "outputs": [
    {
     "data": {
      "text/plain": [
       "BenchmarkTools.Trial: \n",
       "  memory estimate:  0 bytes\n",
       "  allocs estimate:  0\n",
       "  --------------\n",
       "  minimum time:     1.662 ns (0.00% GC)\n",
       "  median time:      1.720 ns (0.00% GC)\n",
       "  mean time:        1.783 ns (0.00% GC)\n",
       "  maximum time:     29.544 ns (0.00% GC)\n",
       "  --------------\n",
       "  samples:          10000\n",
       "  evals/sample:     1000\n",
       "  time tolerance:   5.00%\n",
       "  memory tolerance: 1.00%"
      ]
     },
     "execution_count": 83,
     "metadata": {},
     "output_type": "execute_result"
    }
   ],
   "source": [
    "@benchmark f_horner_macro(3.5)"
   ]
  },
  {
   "cell_type": "markdown",
   "metadata": {},
   "source": [
    "### Generacja kodu"
   ]
  },
  {
   "cell_type": "code",
   "execution_count": 84,
   "metadata": {
    "collapsed": false
   },
   "outputs": [],
   "source": [
    "# funkcja eval moze sluzyc do wygodnej generacji kodu, \n",
    "#ten kod generuje w petli wersje 3 argumentowe dla operatorow dwuargumentowych \n",
    "import Base.+\n",
    "import Base.*\n",
    "import Base.&\n",
    "import Base.|\n",
    "import Base.$\n",
    "for op = (:+, :*, :&, :|, :$)\n",
    "  eval(quote \n",
    "    ($op)(a,b,c) =  ($op)(($op)(a,b),c)\n",
    "  end)\n",
    "end\n"
   ]
  },
  {
   "cell_type": "code",
   "execution_count": 85,
   "metadata": {
    "collapsed": false
   },
   "outputs": [
    {
     "name": "stderr",
     "output_type": "stream",
     "text": [
      "WARNING: Method definition +(Any, Any, Any) in module Main at In[84]:10 overwritten at In[85]:3.\n",
      "WARNING: Method definition *(Any, Any, Any) in module Main at In[84]:10 overwritten at In[85]:3.\n",
      "WARNING: Method definition &(Any, Any, Any) in module Main at In[84]:10 overwritten at In[85]:3.\n",
      "WARNING: Method definition |(Any, Any, Any) in module Main at In[84]:10 overwritten at In[85]:3.\n",
      "WARNING: Method definition $(Any, Any, Any) in module Main at In[84]:10 overwritten at In[85]:3.\n"
     ]
    }
   ],
   "source": [
    "#to mozna napisac prosciej tak\n",
    "for op = (:+, :*, :&, :|, :$)\n",
    "  eval(:(($op)(a,b,c) = ($op)(($op)(a,b),c)))\n",
    "end"
   ]
  },
  {
   "cell_type": "code",
   "execution_count": 86,
   "metadata": {
    "collapsed": false
   },
   "outputs": [
    {
     "name": "stderr",
     "output_type": "stream",
     "text": [
      "WARNING: Method definition +(Any, Any, Any) in module Main at In[85]:3 overwritten at In[86]:3.\n",
      "WARNING: Method definition *(Any, Any, Any) in module Main at In[85]:3 overwritten at In[86]:3.\n",
      "WARNING: Method definition &(Any, Any, Any) in module Main at In[85]:3 overwritten at In[86]:3.\n",
      "WARNING: Method definition |(Any, Any, Any) in module Main at In[85]:3 overwritten at In[86]:3.\n",
      "WARNING: Method definition $(Any, Any, Any) in module Main at In[85]:3 overwritten at In[86]:3.\n"
     ]
    }
   ],
   "source": [
    "# albo dalej uproscic uzywajac makra @eval\n",
    "for op = (:+, :*, :&, :|, :$)\n",
    "  @eval ($op)(a,b,c) = ($op)(($op)(a,b),c)\n",
    "end"
   ]
  },
  {
   "cell_type": "markdown",
   "metadata": {},
   "source": [
    "### Generated functions"
   ]
  },
  {
   "cell_type": "markdown",
   "metadata": {
    "collapsed": false
   },
   "source": [
    "Funkcja  rozwija sie  w <b>momencie kompilacji</b> kiedy znane sa typy argumentow.\n",
    "\n",
    "Funkcje generowane sa rozwijane na pozniejszym etapie niz makra (na etapie rozwijania makr nie sa znane typy argumentow)\n",
    "\n",
    "W ciele funkcji generowanych dzialamy na typach argumentow\n",
    " \n",
    "Generalna zasada: funkcja jest generowana <b> raz na kazde wywolanie z innym typem</b>, na etapie kompilacji, a nie wykonania \n",
    "\n",
    "Funcje generowane sa uzywane do przeniesienia czesci dzialan z etapu wykonania  na etap kompilacji, wtedy te dzialania wykonywane sa raz na typ, a nie przy kazdym uruchomieniu.\n",
    "\n",
    "Przykladem uzycia jest technika <b> loop-unrolling </b>- usuwanie petli i zamienianie je wyrazeniami\n",
    "\n",
    "UWAGA: Funkcja moze byc generowana wiecej razy niz liczba wywolan z roznymi typami - nie jest to zabronione, jest to kwestia implementacji Julii, dlatego nie nalezy wprowadzac efektow ubocznych do jej dzialania \n"
   ]
  },
  {
   "cell_type": "code",
   "execution_count": 87,
   "metadata": {
    "collapsed": false
   },
   "outputs": [
    {
     "data": {
      "text/plain": [
       "prod_dim (generic function with 1 method)"
      ]
     },
     "execution_count": 87,
     "metadata": {},
     "output_type": "execute_result"
    }
   ],
   "source": [
    "# mnozenym wymiary tablicy np dla tablicy o wymiarach 10x5x5 wyjdzie 250\n",
    "function prod_dim{T, N}(x::Array{T,N})\n",
    "     s=1\n",
    "    for i = 1:N\n",
    "        s= s* size(x,i)\n",
    "    end\n",
    "    return s\n",
    "end"
   ]
  },
  {
   "cell_type": "code",
   "execution_count": 88,
   "metadata": {
    "collapsed": false
   },
   "outputs": [
    {
     "data": {
      "text/plain": [
       "10×5×5 Array{Float64,3}:\n",
       "[:, :, 1] =\n",
       " 0.498674  0.366678  0.70634   0.0917911  0.251301\n",
       " 0.758486  0.608502  0.828472  0.12586    0.392426\n",
       " 0.408533  0.284468  0.536478  0.252608   0.276671\n",
       " 0.827966  0.250599  0.199775  0.46077    0.767781\n",
       " 0.898436  0.171314  0.271707  0.34488    0.788187\n",
       " 0.825358  0.612386  0.253353  0.943004   0.831145\n",
       " 0.521736  0.839714  0.329378  0.791577   0.735238\n",
       " 0.770981  0.92662   0.390179  0.217324   0.450329\n",
       " 0.44564   0.466917  0.347214  0.278655   0.454796\n",
       " 0.455781  0.24763   0.60404   0.590953   0.769947\n",
       "\n",
       "[:, :, 2] =\n",
       " 0.0772007  0.712693  0.804545   0.291472   0.669629 \n",
       " 0.755343   0.791166  0.729609   0.343929   0.957457 \n",
       " 0.406871   0.613459  0.927818   0.79755    0.658058 \n",
       " 0.516785   0.386104  0.804158   0.150702   0.153677 \n",
       " 0.618345   0.358165  0.0601231  0.188762   0.563219 \n",
       " 0.032639   0.672303  0.91762    0.35147    0.331243 \n",
       " 0.219929   0.357514  0.107508   0.956219   0.166644 \n",
       " 0.712933   0.413519  0.29303    0.545689   0.658218 \n",
       " 0.505226   0.877898  0.238263   0.660261   0.0984779\n",
       " 0.335451   0.115994  0.648355   0.0434947  0.532089 \n",
       "\n",
       "[:, :, 3] =\n",
       " 0.976277  0.832231    0.385319  0.760036  0.0930627\n",
       " 0.555699  0.00182217  0.733274  0.790134  0.105788 \n",
       " 0.464017  0.2985      0.868437  0.979023  0.662344 \n",
       " 0.771049  0.209628    0.761213  0.651543  0.905948 \n",
       " 0.310307  0.0717087   0.360769  0.327317  0.407755 \n",
       " 0.371093  0.57346     0.492544  0.683007  0.277702 \n",
       " 0.986212  0.150022    0.490754  0.868132  0.253314 \n",
       " 0.927135  0.391821    0.830581  0.544474  0.140364 \n",
       " 0.72611   0.289751    0.754999  0.797146  0.809865 \n",
       " 0.19854   0.539397    0.552678  0.528397  0.107455 \n",
       "\n",
       "[:, :, 4] =\n",
       " 0.896567  0.926391    0.758089   0.866072  0.456014 \n",
       " 0.546197  0.330457    0.727169   0.764726  0.477951 \n",
       " 0.78184   0.827802    0.65504    0.717738  0.58763  \n",
       " 0.978781  0.967506    0.0431938  0.091819  0.745094 \n",
       " 0.597208  0.11618     0.82868    0.482533  0.0442437\n",
       " 0.371657  0.687121    0.264529   0.143491  0.558476 \n",
       " 0.511204  0.0606721   0.710223   0.227354  0.26548  \n",
       " 0.552977  0.454194    0.469866   0.198763  0.916542 \n",
       " 0.600176  0.00156806  0.886065   0.819391  0.987694 \n",
       " 0.754669  0.685417    0.131158   0.636593  0.0603096\n",
       "\n",
       "[:, :, 5] =\n",
       " 0.818064    0.56416    0.856566  0.177523  0.391175\n",
       " 0.526457    0.348394   0.790416  0.860633  0.711424\n",
       " 0.945776    0.327584   0.126995  0.816287  0.465267\n",
       " 0.213259    0.500848   0.333186  0.943855  0.695979\n",
       " 0.829504    0.0940647  0.349606  0.687105  0.258633\n",
       " 0.868525    0.643952   0.234578  0.043777  0.878381\n",
       " 0.392311    0.346254   0.771146  0.236703  0.601947\n",
       " 0.103875    0.0205591  0.64036   0.578037  0.448249\n",
       " 0.00400047  0.607785   0.990629  0.196958  0.502959\n",
       " 0.451836    0.769982   0.668048  0.343709  0.232141"
      ]
     },
     "execution_count": 88,
     "metadata": {},
     "output_type": "execute_result"
    }
   ],
   "source": [
    "A1=rand(10,5,5)"
   ]
  },
  {
   "cell_type": "code",
   "execution_count": 89,
   "metadata": {
    "collapsed": false
   },
   "outputs": [
    {
     "data": {
      "text/plain": [
       "250"
      ]
     },
     "execution_count": 89,
     "metadata": {},
     "output_type": "execute_result"
    }
   ],
   "source": [
    "prod_dim(A1)"
   ]
  },
  {
   "cell_type": "code",
   "execution_count": 90,
   "metadata": {
    "collapsed": false
   },
   "outputs": [
    {
     "data": {
      "text/plain": [
       "prod_dim_gen (generic function with 1 method)"
      ]
     },
     "execution_count": 90,
     "metadata": {},
     "output_type": "execute_result"
    }
   ],
   "source": [
    "@generated function prod_dim_gen{T, N}(x::Array{T,N})\n",
    "    ex= :(1)\n",
    "    for i= 1:N\n",
    "        ex= :(size(x, $i)*$ex)\n",
    "    end\n",
    "    return ex\n",
    "end"
   ]
  },
  {
   "cell_type": "code",
   "execution_count": 91,
   "metadata": {
    "collapsed": false
   },
   "outputs": [
    {
     "data": {
      "text/plain": [
       "250"
      ]
     },
     "execution_count": 91,
     "metadata": {},
     "output_type": "execute_result"
    }
   ],
   "source": [
    "prod_dim_gen(A1)"
   ]
  },
  {
   "cell_type": "code",
   "execution_count": 92,
   "metadata": {
    "collapsed": false
   },
   "outputs": [
    {
     "data": {
      "text/plain": [
       "prod_dim_gen_impl (generic function with 1 method)"
      ]
     },
     "execution_count": 92,
     "metadata": {},
     "output_type": "execute_result"
    }
   ],
   "source": [
    "function prod_dim_gen_impl{T, N}(x::Array{T,N})\n",
    "    ex= :(1)\n",
    "    for i= 1:N\n",
    "        ex= :(size(x, $i)*$ex)\n",
    "    end\n",
    "    return ex\n",
    "end"
   ]
  },
  {
   "cell_type": "code",
   "execution_count": 93,
   "metadata": {
    "collapsed": false
   },
   "outputs": [
    {
     "data": {
      "text/plain": [
       ":(size(x,3) * (size(x,2) * (size(x,1) * 1)))"
      ]
     },
     "execution_count": 93,
     "metadata": {},
     "output_type": "execute_result"
    }
   ],
   "source": [
    "prod_dim_gen_impl(A1)"
   ]
  },
  {
   "cell_type": "markdown",
   "metadata": {},
   "source": [
    "#### Przyklad z wyliczaniem indeksu"
   ]
  },
  {
   "cell_type": "code",
   "execution_count": 94,
   "metadata": {
    "collapsed": false
   },
   "outputs": [
    {
     "data": {
      "image/png": "[encoded data removed]",
      "text/plain": [
       "741×1142 Array{RGBA{N0f8},2}:\n",
       " RGBA{N0f8}(0.0,0.0,0.0,0.0)  …  RGBA{N0f8}(0.0,0.0,0.0,0.0)\n",
       " RGBA{N0f8}(0.0,0.0,0.0,0.0)     RGBA{N0f8}(0.0,0.0,0.0,0.0)\n",
       " RGBA{N0f8}(0.0,0.0,0.0,0.0)     RGBA{N0f8}(0.0,0.0,0.0,0.0)\n",
       " RGBA{N0f8}(0.0,0.0,0.0,0.0)     RGBA{N0f8}(0.0,0.0,0.0,0.0)\n",
       " RGBA{N0f8}(0.0,0.0,0.0,0.0)     RGBA{N0f8}(0.0,0.0,0.0,0.0)\n",
       " RGBA{N0f8}(0.0,0.0,0.0,0.0)  …  RGBA{N0f8}(0.0,0.0,0.0,0.0)\n",
       " RGBA{N0f8}(0.0,0.0,0.0,0.0)     RGBA{N0f8}(0.0,0.0,0.0,0.0)\n",
       " RGBA{N0f8}(0.0,0.0,0.0,0.0)     RGBA{N0f8}(0.0,0.0,0.0,0.0)\n",
       " RGBA{N0f8}(0.0,0.0,0.0,0.0)     RGBA{N0f8}(0.0,0.0,0.0,0.0)\n",
       " RGBA{N0f8}(0.0,0.0,0.0,0.0)     RGBA{N0f8}(0.0,0.0,0.0,0.0)\n",
       " RGBA{N0f8}(0.0,0.0,0.0,0.0)  …  RGBA{N0f8}(0.0,0.0,0.0,0.0)\n",
       " RGBA{N0f8}(0.0,0.0,0.0,0.0)     RGBA{N0f8}(0.0,0.0,0.0,0.0)\n",
       " RGBA{N0f8}(0.0,0.0,0.0,0.0)     RGBA{N0f8}(0.0,0.0,0.0,0.0)\n",
       " ⋮                            ⋱                             \n",
       " RGBA{N0f8}(0.0,0.0,0.0,0.0)     RGBA{N0f8}(0.0,0.0,0.0,0.0)\n",
       " RGBA{N0f8}(0.0,0.0,0.0,0.0)  …  RGBA{N0f8}(0.0,0.0,0.0,0.0)\n",
       " RGBA{N0f8}(0.0,0.0,0.0,0.0)     RGBA{N0f8}(0.0,0.0,0.0,0.0)\n",
       " RGBA{N0f8}(0.0,0.0,0.0,0.0)     RGBA{N0f8}(0.0,0.0,0.0,0.0)\n",
       " RGBA{N0f8}(0.0,0.0,0.0,0.0)     RGBA{N0f8}(0.0,0.0,0.0,0.0)\n",
       " RGBA{N0f8}(0.0,0.0,0.0,0.0)     RGBA{N0f8}(0.0,0.0,0.0,0.0)\n",
       " RGBA{N0f8}(0.0,0.0,0.0,0.0)  …  RGBA{N0f8}(0.0,0.0,0.0,0.0)\n",
       " RGBA{N0f8}(0.0,0.0,0.0,0.0)     RGBA{N0f8}(0.0,0.0,0.0,0.0)\n",
       " RGBA{N0f8}(0.0,0.0,0.0,0.0)     RGBA{N0f8}(0.0,0.0,0.0,0.0)\n",
       " RGBA{N0f8}(0.0,0.0,0.0,0.0)     RGBA{N0f8}(0.0,0.0,0.0,0.0)\n",
       " RGBA{N0f8}(0.0,0.0,0.0,0.0)     RGBA{N0f8}(0.0,0.0,0.0,0.0)\n",
       " RGBA{N0f8}(0.0,0.0,0.0,0.0)  …  RGBA{N0f8}(0.0,0.0,0.0,0.0)"
      ]
     },
     "execution_count": 94,
     "metadata": {},
     "output_type": "execute_result"
    }
   ],
   "source": [
    "# chodzi o wyliczenie liniowego indeksu w kostce wielowymiarowej\n",
    "# rysunek dla dwu wymiarow:\n",
    "using Images\n",
    "using FileIO\n",
    "img = load(\"/home/user/kostka.png\")"
   ]
  },
  {
   "cell_type": "code",
   "execution_count": 95,
   "metadata": {
    "collapsed": false
   },
   "outputs": [
    {
     "data": {
      "text/plain": [
       "sub2ind_loop (generic function with 1 method)"
      ]
     },
     "execution_count": 95,
     "metadata": {},
     "output_type": "execute_result"
    }
   ],
   "source": [
    "\n",
    "function sub2ind_loop{N}(dims::NTuple{N}, I::Integer...)\n",
    "    # N - rozmiar tablicy\n",
    "    ind = I[N] - 1\n",
    "\n",
    "    for i = N-1:-1:1\n",
    "       print(I[i]-1, \" + \", dims[i], \" * \", ind)\n",
    "        ind = I[i]-1 + dims[i]*ind\n",
    "        println(\" = \", ind)\n",
    "    end\n",
    "    println(ind)\n",
    "    return ind + 1\n",
    "end\n"
   ]
  },
  {
   "cell_type": "code",
   "execution_count": 96,
   "metadata": {
    "collapsed": false
   },
   "outputs": [
    {
     "name": "stdout",
     "output_type": "stream",
     "text": [
      "1 + 5 * 2 = 11\n",
      "11\n"
     ]
    },
    {
     "data": {
      "text/plain": [
       "12"
      ]
     },
     "execution_count": 96,
     "metadata": {},
     "output_type": "execute_result"
    }
   ],
   "source": [
    "sub2ind_loop((5,4), 2,3)"
   ]
  },
  {
   "cell_type": "code",
   "execution_count": 97,
   "metadata": {
    "collapsed": false
   },
   "outputs": [
    {
     "name": "stdout",
     "output_type": "stream",
     "text": [
      "2 + 4 * 1 = 6\n",
      "1 + 5 * 6 = 31\n",
      "31\n"
     ]
    },
    {
     "data": {
      "text/plain": [
       "32"
      ]
     },
     "execution_count": 97,
     "metadata": {},
     "output_type": "execute_result"
    }
   ],
   "source": [
    "sub2ind_loop((5,4,3), 2,3,2)"
   ]
  },
  {
   "cell_type": "code",
   "execution_count": 98,
   "metadata": {
    "collapsed": false
   },
   "outputs": [
    {
     "data": {
      "text/plain": [
       "sub2ind_gen (generic function with 1 method)"
      ]
     },
     "execution_count": 98,
     "metadata": {},
     "output_type": "execute_result"
    }
   ],
   "source": [
    "# przez uzycie funkcji generowanej mozemy wykonac petle juz na etapie kompilacji rozwijajac ja w wyrazenie\n",
    "# poniewaz wszyskie informacje, ktore potrzebujemy (ilosc wywolan petli) sa zapisane w typie argumentow NTuple{N}\n",
    "\n",
    "\n",
    "@generated function sub2ind_gen{N}(dims::NTuple{N}, I::Integer...)\n",
    "    ex = :(I[$N] - 1)\n",
    "    for i = N-1:-1:1\n",
    "        ex = :(I[$i] - 1 + dims[$i]*$ex)\n",
    "    end\n",
    "    return :($ex + 1)\n",
    "end"
   ]
  },
  {
   "cell_type": "code",
   "execution_count": 99,
   "metadata": {
    "collapsed": false
   },
   "outputs": [
    {
     "data": {
      "text/plain": [
       "sub2ind_gen_impl (generic function with 1 method)"
      ]
     },
     "execution_count": 99,
     "metadata": {},
     "output_type": "execute_result"
    }
   ],
   "source": [
    "# zeby podgladnac, do czego powyzsza funkcja sie wygeneruje, tworzymy zwykla funkcje z takim samym cialem  i wywolujemy\n",
    "\n",
    "function sub2ind_gen_impl{N}(dims::Type{NTuple{N}}, I...)\n",
    "           ex = :(I[$N] - 1)\n",
    "           for i = N-1:-1:1\n",
    "               ex = :(I[$i] - 1 + dims[$i]*$ex)\n",
    "           end\n",
    "           return :($ex + 1)\n",
    "end"
   ]
  },
  {
   "cell_type": "code",
   "execution_count": 100,
   "metadata": {
    "collapsed": false
   },
   "outputs": [
    {
     "data": {
      "text/plain": [
       ":(((I[1] - 1) + dims[1] * (I[2] - 1)) + 1)"
      ]
     },
     "execution_count": 100,
     "metadata": {},
     "output_type": "execute_result"
    }
   ],
   "source": [
    "#widac, ze petla zniknela, mamy ostateczne wyrazenie z odwolaniami do elementow tablic.\n",
    "sub2ind_gen_impl(Tuple{Int,Int}, Int, Int)"
   ]
  }
 ],
 "metadata": {
  "kernelspec": {
   "display_name": "Julia 0.5.0",
   "language": "julia",
   "name": "julia-0.5"
  },
  "language_info": {
   "file_extension": ".jl",
   "mimetype": "application/julia",
   "name": "julia",
   "version": "0.5.0"
  }
 },
 "nbformat": 4,
 "nbformat_minor": 0
}
