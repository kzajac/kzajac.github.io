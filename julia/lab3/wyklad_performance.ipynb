{
 "cells": [
  {
   "cell_type": "markdown",
   "metadata": {},
   "source": [
    "Materiał na podstawie:\n",
    "- http://docs.julialang.org/en/stable/manual\n",
    "- książki Avik Senegupta Julia High Performance \n",
    "- materiałów Piotra Gawrona (Instytut Informatyki Teoretycznej i Stosowanej PAN)\n"
   ]
  },
  {
   "cell_type": "markdown",
   "metadata": {},
   "source": [
    "### Plan\n",
    "\n",
    "- Narzedzia do pomiaru i analizy wydajnosci\n",
    "- Na co zwracać uwagę przy pisaniu programów w Julii:\n",
    "  - Typy\n",
    "  - Kontenery\n",
    "  - Funkcje\n",
    "- Makra przyspieszające działanie programu\n",
    "- Makra pokazujace kod na różnych etapach analizy przez kompilator \n"
   ]
  },
  {
   "cell_type": "markdown",
   "metadata": {},
   "source": [
    "### Profiler - ogólnie \n",
    "- narzędzie do dynamicznej analizy danych\n",
    "- mierzy np. czas wykonania, zużytą pamięć, częstość wywołań funkcji itd.\n",
    "- techniki zbierania danych:\n",
    "   - event-based: zbieranie danych podczas dobrze zdefiniowanych zdarzeń (np. wejścia do funkcji)\n",
    "   - statistical: zbiera dane statystyczne w regularnych odstępach czasu wykorzystując przerwania systemu \n",
    "   - instrumented: do kodu dodaje się instrukcje zbierające dane, uwaga na  heisenbugs !\n",
    "   - simulation based: zbiera dane uruchamiając niezmodikowany program w symulowanym środowisku"
   ]
  },
  {
   "cell_type": "markdown",
   "metadata": {},
   "source": [
    "### Profiler w Julii\n",
    "- Statistical: 1 ms (Unix systems), 10 ms (Windows), \n",
    "- faktycznie odstępy czasu zależą od obciążenia systemu\n",
    "- wynikiem jest tzw backtrace - \"zdjęcie\" danego stanu wykonania \n",
    "- każdy backtrace zawiera:\n",
    "  - wykonującą się właśnie funkcję i jej numer lini w kodzie\n",
    "  - łańcuch wszystkich wywołań prowadzący do tej linii kodu"
   ]
  },
  {
   "cell_type": "markdown",
   "metadata": {},
   "source": [
    "### Wady i zalety profilera w Julii\n",
    "- Zalety:\n",
    "   - nie trzeba modyfikować kodu\n",
    "   - można używać do Julii, ale też do innych języków z niej wywoływanych\n",
    "   - minimalny narzut (użycie profilera nie spowalnia kodu)\n",
    "- Wady \n",
    "   - szum statystyczny, \n",
    "   - może  nie wyłapać wszystkich istotnych wywołań \n"
   ]
  },
  {
   "cell_type": "markdown",
   "metadata": {},
   "source": [
    "## Narzędzia do oceny wydajności"
   ]
  },
  {
   "cell_type": "code",
   "execution_count": 1,
   "metadata": {
    "collapsed": false
   },
   "outputs": [
    {
     "data": {
      "text/plain": [
       "myfunc (generic function with 1 method)"
      ]
     },
     "execution_count": 1,
     "metadata": {},
     "output_type": "execute_result"
    }
   ],
   "source": [
    "function myfunc(n)\n",
    "    for i = 1:n\n",
    "        A=rand(100, 300, 200)\n",
    "        maximum(A)\n",
    "    end\n",
    "end\n"
   ]
  },
  {
   "cell_type": "code",
   "execution_count": 2,
   "metadata": {
    "collapsed": false
   },
   "outputs": [],
   "source": [
    "myfunc(1) # kompilacja (za pierwszym razem wykonanie trwa dluzej)"
   ]
  },
  {
   "cell_type": "code",
   "execution_count": 3,
   "metadata": {
    "collapsed": false
   },
   "outputs": [],
   "source": [
    "Profile.clear()\n",
    "@profile myfunc(10)"
   ]
  },
  {
   "cell_type": "code",
   "execution_count": 4,
   "metadata": {
    "collapsed": false
   },
   "outputs": [
    {
     "name": "stdout",
     "output_type": "stream",
     "text": [
      "788 ./task.jl:360; (::IJulia.##13#19)()\n",
      " 788 ...Julia/src/eventloop.jl:8; eventloop(::ZMQ.Socket)\n",
      "  788 ...rc/execute_request.jl:157; execute_request(::ZMQ.Socket, ::...\n",
      "   788 ./loading.jl:441; include_string(::String, ::String)\n",
      "    788 ./<missing>:?; anonymous\n",
      "     788 ./profile.jl:16; macro expansion;\n",
      "      454 ./In[1]:3; myfunc(::Int64)\n",
      "       281 ./random.jl:362; rand!(::MersenneTwister, ::Ar...\n",
      "        281 ./dSFMT.jl:84; dsfmt_fill_array_close_open!(...\n",
      "       173 ./random.jl:230; rand\n",
      "        173 ./random.jl:229; rand\n",
      "         173 ./random.jl:297; rand\n",
      "          173 ./random.jl:300; rand\n",
      "      334 ./In[1]:4; myfunc(::Int64)\n",
      "       334 ./reduce.jl:162; _mapreduce(::Base.#identity, ...\n",
      "        27  ./reduce.jl:272; mapreduce_impl(::Base.#identi...\n",
      "        16  ./reduce.jl:278; mapreduce_impl(::Base.#identi...\n",
      "        290 ./reduce.jl:280; mapreduce_impl(::Base.#identi...\n",
      "        1   ./reduce.jl:281; mapreduce_impl(::Base.#identi...\n"
     ]
    }
   ],
   "source": [
    "Profile.print()"
   ]
  },
  {
   "cell_type": "code",
   "execution_count": 5,
   "metadata": {
    "collapsed": false,
    "scrolled": true
   },
   "outputs": [
    {
     "name": "stdout",
     "output_type": "stream",
     "text": [
      " Count File                        Line Function                               \n",
      "   788 ./<missing>                   -1 anonymous                              \n",
      "   454 ./In[1]                        3 myfunc(::Int64)                        \n",
      "   334 ./In[1]                        4 myfunc(::Int64)                        \n",
      "   281 ./dSFMT.jl                    84 dsfmt_fill_array_close_open!(::Base... \n",
      "   788 ./loading.jl                 441 include_string(::String, ::String)     \n",
      "   788 ./profile.jl                  16 macro expansion;                       \n",
      "   281 ./random.jl                  362 rand!(::MersenneTwister, ::Array{Fl... \n",
      "   173 ./random.jl                  229 rand                                   \n",
      "   173 ./random.jl                  230 rand                                   \n",
      "   173 ./random.jl                  297 rand                                   \n",
      "   173 ./random.jl                  300 rand                                   \n",
      "   334 ./reduce.jl                  162 _mapreduce(::Base.#identity, ::Base... \n",
      "    27 ./reduce.jl                  272 mapreduce_impl(::Base.#identity, ::... \n",
      "    16 ./reduce.jl                  278 mapreduce_impl(::Base.#identity, ::... \n",
      "   290 ./reduce.jl                  280 mapreduce_impl(::Base.#identity, ::... \n",
      "     1 ./reduce.jl                  281 mapreduce_impl(::Base.#identity, ::... \n",
      "   788 ./task.jl                    360 (::IJulia.##13#19)()                   \n",
      "   788 ...IJulia/src/eventloop.jl     8 eventloop(::ZMQ.Socket)                \n",
      "   788 .../src/execute_request.jl   157 execute_request(::ZMQ.Socket, ::IJu... \n"
     ]
    }
   ],
   "source": [
    "Profile.print(format=:flat)"
   ]
  },
  {
   "cell_type": "markdown",
   "metadata": {},
   "source": [
    "Uwaga: graficzna wersja profilera wymaga doinstalowania \n",
    "```julia\n",
    "Pkg.add(\"ProfileView\")\n",
    "```"
   ]
  },
  {
   "cell_type": "code",
   "execution_count": 6,
   "metadata": {
    "collapsed": false
   },
   "outputs": [
    {
     "data": {
      "image/svg+xml": [
       "<?xml version=\"1.0\" standalone=\"no\"?>\n",
       "<!DOCTYPE svg PUBLIC \"-//W3C//DTD SVG 1.1//EN\" \"http://www.w3.org/Graphics/SVG/1.1/DTD/svg11.dtd\">\n",
       "<svg version=\"1.1\" width=\"1200\" height=\"190\" viewBox=\"0 0 1200 190\" xmlns=\"http://www.w3.org/2000/svg\" >\n",
       "<defs >\n",
       "    <linearGradient id=\"background\" y1=\"0\" y2=\"1\" x1=\"0\" x2=\"0\" >\n",
       "        <stop stop-color=\"#eeeeee\" offset=\"5%\" />\n",
       "        <stop stop-color=\"#eeeeb0\" offset=\"95%\" />\n",
       "    </linearGradient>\n",
       "    <clipPath id=\"fig-1aa461de5e274ca187981b6ff4b0e7a3-image-frame\">\n",
       "      <rect id=\"fig-1aa461de5e274ca187981b6ff4b0e7a3-clip-rect\" x=\"0\" y=\"0\" width=\"1200\" height=\"190\" />\n",
       "    </clipPath>\n",
       "</defs>\n",
       "<style type=\"text/css\">\n",
       "    rect[rx]:hover { stroke:black; stroke-width:1; }\n",
       "    text:hover { stroke:black; stroke-width:1; stroke-opacity:0.35; }\n",
       "</style>\n",
       "<g id=\"fig-1aa461de5e274ca187981b6ff4b0e7a3-frame\" clip-path=\"url(#fig-1aa461de5e274ca187981b6ff4b0e7a3-image-frame)\">\n",
       "<rect class=\"pvbackground\" x=\"0.0\" y=\"0\" width=\"1200.0\" height=\"190.0\" fill=\"url(#background)\"  />\n",
       "<text class=\"pvbackground\" text-anchor=\"middle\" x=\"600\" y=\"24\" font-size=\"17\" font-family=\"Verdana\" fill=\"rgb(0,0,0)\"  >Profile results</text>\n",
       "<text text-anchor=\"left\" x=\"10\" y=\"173\" font-size=\"12\" font-family=\"Verdana\" fill=\"rgb(0,0,0)\"  >Function:</text>\n",
       "<text text-anchor=\"\" x=\"70\" y=\"173\" font-size=\"12\" font-family=\"Verdana\" fill=\"rgb(0,0,0)\" id=\"fig-1aa461de5e274ca187981b6ff4b0e7a3-details\" > </text>\n",
       "<g id=\"fig-1aa461de5e274ca187981b6ff4b0e7a3-viewport\" transform=\"scale(1)\">\n",
       "<rect vector-effect=\"non-scaling-stroke\" x=\"10.0\" y=\"135.0\" width=\"1178.5025380710658\" height=\"15.0\" fill=\"rgb(232,112,221)\" rx=\"2\" ry=\"2\" data-shortinfo=\"#13 in task.jl:360\" data-info=\"#13 in ./task.jl:360\"/>\n",
       "<text text-anchor=\"\" x=\"14.0\" y=\"146.5\" font-size=\"12\" font-family=\"Verdana\" fill=\"rgb(0,0,0)\" ></text>\n",
       "<rect vector-effect=\"non-scaling-stroke\" x=\"10.0\" y=\"120.0\" width=\"1178.5025380710658\" height=\"15.0\" fill=\"rgb(255,164,156)\" rx=\"2\" ry=\"2\" data-shortinfo=\"eventloop in eventloop.jl:8\" data-info=\"eventloop in /home/kzajac/.julia/v0.5/IJulia/src/eventloop.jl:8\"/>\n",
       "<text text-anchor=\"\" x=\"14.0\" y=\"131.5\" font-size=\"12\" font-family=\"Verdana\" fill=\"rgb(0,0,0)\" ></text>\n",
       "<rect vector-effect=\"non-scaling-stroke\" x=\"10.0\" y=\"105.0\" width=\"1178.5025380710658\" height=\"15.0\" fill=\"rgb(232,112,221)\" rx=\"2\" ry=\"2\" data-shortinfo=\"execute_request in execute_request.jl:157\" data-info=\"execute_request in /home/kzajac/.julia/v0.5/IJulia/src/execute_request.jl:157\"/>\n",
       "<text text-anchor=\"\" x=\"14.0\" y=\"116.5\" font-size=\"12\" font-family=\"Verdana\" fill=\"rgb(0,0,0)\" ></text>\n",
       "<rect vector-effect=\"non-scaling-stroke\" x=\"10.0\" y=\"90.0\" width=\"1178.5025380710658\" height=\"15.0\" fill=\"rgb(255,164,156)\" rx=\"2\" ry=\"2\" data-shortinfo=\"include_string in loading.jl:441\" data-info=\"include_string in ./loading.jl:441\"/>\n",
       "<text text-anchor=\"\" x=\"14.0\" y=\"101.5\" font-size=\"12\" font-family=\"Verdana\" fill=\"rgb(0,0,0)\" ></text>\n",
       "<rect vector-effect=\"non-scaling-stroke\" x=\"10.0\" y=\"75.0\" width=\"1178.5025380710658\" height=\"15.0\" fill=\"rgb(232,112,221)\" rx=\"2\" ry=\"2\" data-shortinfo=\"macro expansion; in profile.jl:16; anonymous in &amp;lt;missing&amp;gt;:-1\" data-info=\"macro expansion; in ./profile.jl:16; anonymous in ./&amp;lt;missing&amp;gt;:-1\"/>\n",
       "<text text-anchor=\"\" x=\"14.0\" y=\"86.5\" font-size=\"12\" font-family=\"Verdana\" fill=\"rgb(0,0,0)\" ></text>\n",
       "<rect vector-effect=\"non-scaling-stroke\" x=\"10.0\" y=\"60.0\" width=\"420.78680203045684\" height=\"15.0\" fill=\"rgb(255,164,156)\" rx=\"2\" ry=\"2\" data-shortinfo=\"myfunc in In[1]:3\" data-info=\"myfunc in ./In[1]:3\"/>\n",
       "<text text-anchor=\"\" x=\"14.0\" y=\"71.5\" font-size=\"12\" font-family=\"Verdana\" fill=\"rgb(0,0,0)\" ></text>\n",
       "<rect vector-effect=\"non-scaling-stroke\" x=\"430.78680203045684\" y=\"60.0\" width=\"500.1522842639594\" height=\"15.0\" fill=\"rgb(158,158,158)\" rx=\"2\" ry=\"2\" data-shortinfo=\"myfunc in In[1]:4\" data-info=\"myfunc in ./In[1]:4\"/>\n",
       "<text text-anchor=\"\" x=\"434.78680203045684\" y=\"71.5\" font-size=\"12\" font-family=\"Verdana\" fill=\"rgb(0,0,0)\" ></text>\n",
       "<rect vector-effect=\"non-scaling-stroke\" x=\"930.9390862944163\" y=\"60.0\" width=\"257.5634517766496\" height=\"15.0\" fill=\"rgb(205,185,255)\" rx=\"2\" ry=\"2\" data-shortinfo=\"rand in random.jl:300; rand in random.jl:297; rand in random.jl:229; rand in random.jl:230; myfunc in In[1]:3\" data-info=\"rand in ./random.jl:300; rand in ./random.jl:297; rand in ./random.jl:229; rand in ./random.jl:230; myfunc in ./In[1]:3\"/>\n",
       "<text text-anchor=\"\" x=\"934.9390862944163\" y=\"71.5\" font-size=\"12\" font-family=\"Verdana\" fill=\"rgb(0,0,0)\" ></text>\n",
       "<rect vector-effect=\"non-scaling-stroke\" x=\"10.0\" y=\"45.0\" width=\"420.78680203045684\" height=\"15.0\" fill=\"rgb(232,112,221)\" rx=\"2\" ry=\"2\" data-shortinfo=\"rand! in random.jl:362\" data-info=\"rand! in ./random.jl:362\"/>\n",
       "<text text-anchor=\"\" x=\"14.0\" y=\"56.5\" font-size=\"12\" font-family=\"Verdana\" fill=\"rgb(0,0,0)\" ></text>\n",
       "<rect vector-effect=\"non-scaling-stroke\" x=\"430.78680203045684\" y=\"45.0\" width=\"500.1522842639594\" height=\"15.0\" fill=\"rgb(50,180,78)\" rx=\"2\" ry=\"2\" data-shortinfo=\"_mapreduce in reduce.jl:162\" data-info=\"_mapreduce in ./reduce.jl:162\"/>\n",
       "<text text-anchor=\"\" x=\"434.78680203045684\" y=\"56.5\" font-size=\"12\" font-family=\"Verdana\" fill=\"rgb(0,0,0)\" ></text>\n",
       "<rect vector-effect=\"non-scaling-stroke\" x=\"10.0\" y=\"30.0\" width=\"420.78680203045684\" height=\"15.0\" fill=\"rgb(255,164,156)\" rx=\"2\" ry=\"2\" data-shortinfo=\"dsfmt_fill_array_close_open! in dSFMT.jl:84\" data-info=\"dsfmt_fill_array_close_open! in ./dSFMT.jl:84\"/>\n",
       "<text text-anchor=\"\" x=\"14.0\" y=\"41.5\" font-size=\"12\" font-family=\"Verdana\" fill=\"rgb(0,0,0)\" ></text>\n",
       "<rect vector-effect=\"non-scaling-stroke\" x=\"430.78680203045684\" y=\"30.0\" width=\"40.43147208121826\" height=\"15.0\" fill=\"rgb(158,158,158)\" rx=\"2\" ry=\"2\" data-shortinfo=\"mapreduce_impl in reduce.jl:272\" data-info=\"mapreduce_impl in ./reduce.jl:272\"/>\n",
       "<text text-anchor=\"\" x=\"434.78680203045684\" y=\"41.5\" font-size=\"12\" font-family=\"Verdana\" fill=\"rgb(0,0,0)\" ></text>\n",
       "<rect vector-effect=\"non-scaling-stroke\" x=\"471.2182741116751\" y=\"30.0\" width=\"23.95939086294419\" height=\"15.0\" fill=\"rgb(205,185,255)\" rx=\"2\" ry=\"2\" data-shortinfo=\"mapreduce_impl in reduce.jl:278\" data-info=\"mapreduce_impl in ./reduce.jl:278\"/>\n",
       "<text text-anchor=\"\" x=\"475.2182741116751\" y=\"41.5\" font-size=\"12\" font-family=\"Verdana\" fill=\"rgb(0,0,0)\" ></text>\n",
       "<rect vector-effect=\"non-scaling-stroke\" x=\"495.1776649746193\" y=\"30.0\" width=\"95.83756345177659\" height=\"15.0\" fill=\"rgb(255,141,62)\" rx=\"2\" ry=\"2\" data-shortinfo=\"mapreduce_impl in reduce.jl:280\" data-info=\"mapreduce_impl in ./reduce.jl:280\"/>\n",
       "<text text-anchor=\"\" x=\"499.1776649746193\" y=\"41.5\" font-size=\"12\" font-family=\"Verdana\" fill=\"rgb(0,0,0)\" ></text>\n",
       "<rect vector-effect=\"non-scaling-stroke\" x=\"591.0152284263959\" y=\"30.0\" width=\"23.959390862944247\" height=\"15.0\" fill=\"rgb(255,141,62)\" rx=\"2\" ry=\"2\" data-shortinfo=\"mapreduce_impl in reduce.jl:280\" data-info=\"mapreduce_impl in ./reduce.jl:280\"/>\n",
       "<text text-anchor=\"\" x=\"595.0152284263959\" y=\"41.5\" font-size=\"12\" font-family=\"Verdana\" fill=\"rgb(0,0,0)\" ></text>\n",
       "<rect vector-effect=\"non-scaling-stroke\" x=\"614.9746192893401\" y=\"30.0\" width=\"28.451776649746193\" height=\"15.0\" fill=\"rgb(255,141,62)\" rx=\"2\" ry=\"2\" data-shortinfo=\"mapreduce_impl in reduce.jl:280\" data-info=\"mapreduce_impl in ./reduce.jl:280\"/>\n",
       "<text text-anchor=\"\" x=\"618.9746192893401\" y=\"41.5\" font-size=\"12\" font-family=\"Verdana\" fill=\"rgb(0,0,0)\" ></text>\n",
       "<rect vector-effect=\"non-scaling-stroke\" x=\"643.4263959390863\" y=\"30.0\" width=\"26.954314720812135\" height=\"15.0\" fill=\"rgb(255,141,62)\" rx=\"2\" ry=\"2\" data-shortinfo=\"mapreduce_impl in reduce.jl:280\" data-info=\"mapreduce_impl in ./reduce.jl:280\"/>\n",
       "<text text-anchor=\"\" x=\"647.4263959390863\" y=\"41.5\" font-size=\"12\" font-family=\"Verdana\" fill=\"rgb(0,0,0)\" ></text>\n",
       "<rect vector-effect=\"non-scaling-stroke\" x=\"670.3807106598985\" y=\"30.0\" width=\"106.31979695431471\" height=\"15.0\" fill=\"rgb(255,141,62)\" rx=\"2\" ry=\"2\" data-shortinfo=\"mapreduce_impl in reduce.jl:280\" data-info=\"mapreduce_impl in ./reduce.jl:280\"/>\n",
       "<text text-anchor=\"\" x=\"674.3807106598985\" y=\"41.5\" font-size=\"12\" font-family=\"Verdana\" fill=\"rgb(0,0,0)\" ></text>\n",
       "<rect vector-effect=\"non-scaling-stroke\" x=\"776.7005076142132\" y=\"30.0\" width=\"2.9949238578680024\" height=\"15.0\" fill=\"rgb(255,141,62)\" rx=\"2\" ry=\"2\" data-shortinfo=\"mapreduce_impl in reduce.jl:280\" data-info=\"mapreduce_impl in ./reduce.jl:280\"/>\n",
       "<text text-anchor=\"\" x=\"780.7005076142132\" y=\"41.5\" font-size=\"12\" font-family=\"Verdana\" fill=\"rgb(0,0,0)\" ></text>\n",
       "<rect vector-effect=\"non-scaling-stroke\" x=\"779.6954314720812\" y=\"30.0\" width=\"82.36040609137058\" height=\"15.0\" fill=\"rgb(255,141,62)\" rx=\"2\" ry=\"2\" data-shortinfo=\"mapreduce_impl in reduce.jl:280\" data-info=\"mapreduce_impl in ./reduce.jl:280\"/>\n",
       "<text text-anchor=\"\" x=\"783.6954314720812\" y=\"41.5\" font-size=\"12\" font-family=\"Verdana\" fill=\"rgb(0,0,0)\" ></text>\n",
       "<rect vector-effect=\"non-scaling-stroke\" x=\"862.0558375634517\" y=\"30.0\" width=\"32.944162436548254\" height=\"15.0\" fill=\"rgb(255,141,62)\" rx=\"2\" ry=\"2\" data-shortinfo=\"mapreduce_impl in reduce.jl:280\" data-info=\"mapreduce_impl in ./reduce.jl:280\"/>\n",
       "<text text-anchor=\"\" x=\"866.0558375634517\" y=\"41.5\" font-size=\"12\" font-family=\"Verdana\" fill=\"rgb(0,0,0)\" ></text>\n",
       "<rect vector-effect=\"non-scaling-stroke\" x=\"895.0\" y=\"30.0\" width=\"34.4416243654822\" height=\"15.0\" fill=\"rgb(255,141,62)\" rx=\"2\" ry=\"2\" data-shortinfo=\"mapreduce_impl in reduce.jl:280\" data-info=\"mapreduce_impl in ./reduce.jl:280\"/>\n",
       "<text text-anchor=\"\" x=\"899.0\" y=\"41.5\" font-size=\"12\" font-family=\"Verdana\" fill=\"rgb(0,0,0)\" ></text>\n",
       "<rect vector-effect=\"non-scaling-stroke\" x=\"929.4416243654822\" y=\"30.0\" width=\"1.497461928934058\" height=\"15.0\" fill=\"rgb(180,211,70)\" rx=\"2\" ry=\"2\" data-shortinfo=\"mapreduce_impl in reduce.jl:281\" data-info=\"mapreduce_impl in ./reduce.jl:281\"/>\n",
       "<text text-anchor=\"\" x=\"933.4416243654822\" y=\"41.5\" font-size=\"12\" font-family=\"Verdana\" fill=\"rgb(0,0,0)\" ></text>\n",
       "    </g></g>\n",
       "    <script><![CDATA[(function(N){var k=/[\\.\\/]/,L=/\\s*,\\s*/,C=function(a,d){return a-d},a,v,y={n:{}},M=function(){for(var a=0,d=this.length;a<d;a++)if(\"undefined\"!=typeof this[a])return this[a]},A=function(){for(var a=this.length;--a;)if(\"undefined\"!=typeof this[a])return this[a]},w=function(k,d){k=String(k);var f=v,n=Array.prototype.slice.call(arguments,2),u=w.listeners(k),p=0,b,q=[],e={},l=[],r=a;l.firstDefined=M;l.lastDefined=A;a=k;for(var s=v=0,x=u.length;s<x;s++)\"zIndex\"in u[s]&&(q.push(u[s].zIndex),0>u[s].zIndex&&\n",
       "(e[u[s].zIndex]=u[s]));for(q.sort(C);0>q[p];)if(b=e[q[p++] ],l.push(b.apply(d,n)),v)return v=f,l;for(s=0;s<x;s++)if(b=u[s],\"zIndex\"in b)if(b.zIndex==q[p]){l.push(b.apply(d,n));if(v)break;do if(p++,(b=e[q[p] ])&&l.push(b.apply(d,n)),v)break;while(b)}else e[b.zIndex]=b;else if(l.push(b.apply(d,n)),v)break;v=f;a=r;return l};w._events=y;w.listeners=function(a){a=a.split(k);var d=y,f,n,u,p,b,q,e,l=[d],r=[];u=0;for(p=a.length;u<p;u++){e=[];b=0;for(q=l.length;b<q;b++)for(d=l[b].n,f=[d[a[u] ],d[\"*\"] ],n=2;n--;)if(d=\n",
       "f[n])e.push(d),r=r.concat(d.f||[]);l=e}return r};w.on=function(a,d){a=String(a);if(\"function\"!=typeof d)return function(){};for(var f=a.split(L),n=0,u=f.length;n<u;n++)(function(a){a=a.split(k);for(var b=y,f,e=0,l=a.length;e<l;e++)b=b.n,b=b.hasOwnProperty(a[e])&&b[a[e] ]||(b[a[e] ]={n:{}});b.f=b.f||[];e=0;for(l=b.f.length;e<l;e++)if(b.f[e]==d){f=!0;break}!f&&b.f.push(d)})(f[n]);return function(a){+a==+a&&(d.zIndex=+a)}};w.f=function(a){var d=[].slice.call(arguments,1);return function(){w.apply(null,\n",
       "[a,null].concat(d).concat([].slice.call(arguments,0)))}};w.stop=function(){v=1};w.nt=function(k){return k?(new RegExp(\"(?:\\\\.|\\\\/|^)\"+k+\"(?:\\\\.|\\\\/|$)\")).test(a):a};w.nts=function(){return a.split(k)};w.off=w.unbind=function(a,d){if(a){var f=a.split(L);if(1<f.length)for(var n=0,u=f.length;n<u;n++)w.off(f[n],d);else{for(var f=a.split(k),p,b,q,e,l=[y],n=0,u=f.length;n<u;n++)for(e=0;e<l.length;e+=q.length-2){q=[e,1];p=l[e].n;if(\"*\"!=f[n])p[f[n] ]&&q.push(p[f[n] ]);else for(b in p)p.hasOwnProperty(b)&&\n",
       "q.push(p[b]);l.splice.apply(l,q)}n=0;for(u=l.length;n<u;n++)for(p=l[n];p.n;){if(d){if(p.f){e=0;for(f=p.f.length;e<f;e++)if(p.f[e]==d){p.f.splice(e,1);break}!p.f.length&&delete p.f}for(b in p.n)if(p.n.hasOwnProperty(b)&&p.n[b].f){q=p.n[b].f;e=0;for(f=q.length;e<f;e++)if(q[e]==d){q.splice(e,1);break}!q.length&&delete p.n[b].f}}else for(b in delete p.f,p.n)p.n.hasOwnProperty(b)&&p.n[b].f&&delete p.n[b].f;p=p.n}}}else w._events=y={n:{}}};w.once=function(a,d){var f=function(){w.unbind(a,f);return d.apply(this,\n",
       "arguments)};return w.on(a,f)};w.version=\"0.4.2\";w.toString=function(){return\"You are running Eve 0.4.2\"};\"undefined\"!=typeof module&&module.exports?module.exports=w:\"function\"===typeof define&&define.amd?define(\"eve\",[],function(){return w}):N.eve=w})(this);\n",
       "(function(N,k){\"function\"===typeof define&&define.amd?define(\"Snap.svg\",[\"eve\"],function(L){return k(N,L)}):k(N,N.eve)})(this,function(N,k){var L=function(a){var k={},y=N.requestAnimationFrame||N.webkitRequestAnimationFrame||N.mozRequestAnimationFrame||N.oRequestAnimationFrame||N.msRequestAnimationFrame||function(a){setTimeout(a,16)},M=Array.isArray||function(a){return a instanceof Array||\"[object Array]\"==Object.prototype.toString.call(a)},A=0,w=\"M\"+(+new Date).toString(36),z=function(a){if(null==\n",
       "a)return this.s;var b=this.s-a;this.b+=this.dur*b;this.B+=this.dur*b;this.s=a},d=function(a){if(null==a)return this.spd;this.spd=a},f=function(a){if(null==a)return this.dur;this.s=this.s*a/this.dur;this.dur=a},n=function(){delete k[this.id];this.update();a(\"mina.stop.\"+this.id,this)},u=function(){this.pdif||(delete k[this.id],this.update(),this.pdif=this.get()-this.b)},p=function(){this.pdif&&(this.b=this.get()-this.pdif,delete this.pdif,k[this.id]=this)},b=function(){var a;if(M(this.start)){a=[];\n",
       "for(var b=0,e=this.start.length;b<e;b++)a[b]=+this.start[b]+(this.end[b]-this.start[b])*this.easing(this.s)}else a=+this.start+(this.end-this.start)*this.easing(this.s);this.set(a)},q=function(){var l=0,b;for(b in k)if(k.hasOwnProperty(b)){var e=k[b],f=e.get();l++;e.s=(f-e.b)/(e.dur/e.spd);1<=e.s&&(delete k[b],e.s=1,l--,function(b){setTimeout(function(){a(\"mina.finish.\"+b.id,b)})}(e));e.update()}l&&y(q)},e=function(a,r,s,x,G,h,J){a={id:w+(A++).toString(36),start:a,end:r,b:s,s:0,dur:x-s,spd:1,get:G,\n",
       "set:h,easing:J||e.linear,status:z,speed:d,duration:f,stop:n,pause:u,resume:p,update:b};k[a.id]=a;r=0;for(var K in k)if(k.hasOwnProperty(K)&&(r++,2==r))break;1==r&&y(q);return a};e.time=Date.now||function(){return+new Date};e.getById=function(a){return k[a]||null};e.linear=function(a){return a};e.easeout=function(a){return Math.pow(a,1.7)};e.easein=function(a){return Math.pow(a,0.48)};e.easeinout=function(a){if(1==a)return 1;if(0==a)return 0;var b=0.48-a/1.04,e=Math.sqrt(0.1734+b*b);a=e-b;a=Math.pow(Math.abs(a),\n",
       "1/3)*(0>a?-1:1);b=-e-b;b=Math.pow(Math.abs(b),1/3)*(0>b?-1:1);a=a+b+0.5;return 3*(1-a)*a*a+a*a*a};e.backin=function(a){return 1==a?1:a*a*(2.70158*a-1.70158)};e.backout=function(a){if(0==a)return 0;a-=1;return a*a*(2.70158*a+1.70158)+1};e.elastic=function(a){return a==!!a?a:Math.pow(2,-10*a)*Math.sin(2*(a-0.075)*Math.PI/0.3)+1};e.bounce=function(a){a<1/2.75?a*=7.5625*a:a<2/2.75?(a-=1.5/2.75,a=7.5625*a*a+0.75):a<2.5/2.75?(a-=2.25/2.75,a=7.5625*a*a+0.9375):(a-=2.625/2.75,a=7.5625*a*a+0.984375);return a};\n",
       "return N.mina=e}(\"undefined\"==typeof k?function(){}:k),C=function(){function a(c,t){if(c){if(c.tagName)return x(c);if(y(c,\"array\")&&a.set)return a.set.apply(a,c);if(c instanceof e)return c;if(null==t)return c=G.doc.querySelector(c),x(c)}return new s(null==c?\"100%\":c,null==t?\"100%\":t)}function v(c,a){if(a){\"#text\"==c&&(c=G.doc.createTextNode(a.text||\"\"));\"string\"==typeof c&&(c=v(c));if(\"string\"==typeof a)return\"xlink:\"==a.substring(0,6)?c.getAttributeNS(m,a.substring(6)):\"xml:\"==a.substring(0,4)?c.getAttributeNS(la,\n",
       "a.substring(4)):c.getAttribute(a);for(var da in a)if(a[h](da)){var b=J(a[da]);b?\"xlink:\"==da.substring(0,6)?c.setAttributeNS(m,da.substring(6),b):\"xml:\"==da.substring(0,4)?c.setAttributeNS(la,da.substring(4),b):c.setAttribute(da,b):c.removeAttribute(da)}}else c=G.doc.createElementNS(la,c);return c}function y(c,a){a=J.prototype.toLowerCase.call(a);return\"finite\"==a?isFinite(c):\"array\"==a&&(c instanceof Array||Array.isArray&&Array.isArray(c))?!0:\"null\"==a&&null===c||a==typeof c&&null!==c||\"object\"==\n",
       "a&&c===Object(c)||$.call(c).slice(8,-1).toLowerCase()==a}function M(c){if(\"function\"==typeof c||Object(c)!==c)return c;var a=new c.constructor,b;for(b in c)c[h](b)&&(a[b]=M(c[b]));return a}function A(c,a,b){function m(){var e=Array.prototype.slice.call(arguments,0),f=e.join(\"\\u2400\"),d=m.cache=m.cache||{},l=m.count=m.count||[];if(d[h](f)){a:for(var e=l,l=f,B=0,H=e.length;B<H;B++)if(e[B]===l){e.push(e.splice(B,1)[0]);break a}return b?b(d[f]):d[f]}1E3<=l.length&&delete d[l.shift()];l.push(f);d[f]=c.apply(a,\n",
       "e);return b?b(d[f]):d[f]}return m}function w(c,a,b,m,e,f){return null==e?(c-=b,a-=m,c||a?(180*I.atan2(-a,-c)/C+540)%360:0):w(c,a,e,f)-w(b,m,e,f)}function z(c){return c%360*C/180}function d(c){var a=[];c=c.replace(/(?:^|\\s)(\\w+)\\(([^)]+)\\)/g,function(c,b,m){m=m.split(/\\s*,\\s*|\\s+/);\"rotate\"==b&&1==m.length&&m.push(0,0);\"scale\"==b&&(2<m.length?m=m.slice(0,2):2==m.length&&m.push(0,0),1==m.length&&m.push(m[0],0,0));\"skewX\"==b?a.push([\"m\",1,0,I.tan(z(m[0])),1,0,0]):\"skewY\"==b?a.push([\"m\",1,I.tan(z(m[0])),\n",
       "0,1,0,0]):a.push([b.charAt(0)].concat(m));return c});return a}function f(c,t){var b=O(c),m=new a.Matrix;if(b)for(var e=0,f=b.length;e<f;e++){var h=b[e],d=h.length,B=J(h[0]).toLowerCase(),H=h[0]!=B,l=H?m.invert():0,E;\"t\"==B&&2==d?m.translate(h[1],0):\"t\"==B&&3==d?H?(d=l.x(0,0),B=l.y(0,0),H=l.x(h[1],h[2]),l=l.y(h[1],h[2]),m.translate(H-d,l-B)):m.translate(h[1],h[2]):\"r\"==B?2==d?(E=E||t,m.rotate(h[1],E.x+E.width/2,E.y+E.height/2)):4==d&&(H?(H=l.x(h[2],h[3]),l=l.y(h[2],h[3]),m.rotate(h[1],H,l)):m.rotate(h[1],\n",
       "h[2],h[3])):\"s\"==B?2==d||3==d?(E=E||t,m.scale(h[1],h[d-1],E.x+E.width/2,E.y+E.height/2)):4==d?H?(H=l.x(h[2],h[3]),l=l.y(h[2],h[3]),m.scale(h[1],h[1],H,l)):m.scale(h[1],h[1],h[2],h[3]):5==d&&(H?(H=l.x(h[3],h[4]),l=l.y(h[3],h[4]),m.scale(h[1],h[2],H,l)):m.scale(h[1],h[2],h[3],h[4])):\"m\"==B&&7==d&&m.add(h[1],h[2],h[3],h[4],h[5],h[6])}return m}function n(c,t){if(null==t){var m=!0;t=\"linearGradient\"==c.type||\"radialGradient\"==c.type?c.node.getAttribute(\"gradientTransform\"):\"pattern\"==c.type?c.node.getAttribute(\"patternTransform\"):\n",
       "c.node.getAttribute(\"transform\");if(!t)return new a.Matrix;t=d(t)}else t=a._.rgTransform.test(t)?J(t).replace(/\\.{3}|\\u2026/g,c._.transform||aa):d(t),y(t,\"array\")&&(t=a.path?a.path.toString.call(t):J(t)),c._.transform=t;var b=f(t,c.getBBox(1));if(m)return b;c.matrix=b}function u(c){c=c.node.ownerSVGElement&&x(c.node.ownerSVGElement)||c.node.parentNode&&x(c.node.parentNode)||a.select(\"svg\")||a(0,0);var t=c.select(\"defs\"),t=null==t?!1:t.node;t||(t=r(\"defs\",c.node).node);return t}function p(c){return c.node.ownerSVGElement&&\n",
       "x(c.node.ownerSVGElement)||a.select(\"svg\")}function b(c,a,m){function b(c){if(null==c)return aa;if(c==+c)return c;v(B,{width:c});try{return B.getBBox().width}catch(a){return 0}}function h(c){if(null==c)return aa;if(c==+c)return c;v(B,{height:c});try{return B.getBBox().height}catch(a){return 0}}function e(b,B){null==a?d[b]=B(c.attr(b)||0):b==a&&(d=B(null==m?c.attr(b)||0:m))}var f=p(c).node,d={},B=f.querySelector(\".svg---mgr\");B||(B=v(\"rect\"),v(B,{x:-9E9,y:-9E9,width:10,height:10,\"class\":\"svg---mgr\",\n",
       "fill:\"none\"}),f.appendChild(B));switch(c.type){case \"rect\":e(\"rx\",b),e(\"ry\",h);case \"image\":e(\"width\",b),e(\"height\",h);case \"text\":e(\"x\",b);e(\"y\",h);break;case \"circle\":e(\"cx\",b);e(\"cy\",h);e(\"r\",b);break;case \"ellipse\":e(\"cx\",b);e(\"cy\",h);e(\"rx\",b);e(\"ry\",h);break;case \"line\":e(\"x1\",b);e(\"x2\",b);e(\"y1\",h);e(\"y2\",h);break;case \"marker\":e(\"refX\",b);e(\"markerWidth\",b);e(\"refY\",h);e(\"markerHeight\",h);break;case \"radialGradient\":e(\"fx\",b);e(\"fy\",h);break;case \"tspan\":e(\"dx\",b);e(\"dy\",h);break;default:e(a,\n",
       "b)}f.removeChild(B);return d}function q(c){y(c,\"array\")||(c=Array.prototype.slice.call(arguments,0));for(var a=0,b=0,m=this.node;this[a];)delete this[a++];for(a=0;a<c.length;a++)\"set\"==c[a].type?c[a].forEach(function(c){m.appendChild(c.node)}):m.appendChild(c[a].node);for(var h=m.childNodes,a=0;a<h.length;a++)this[b++]=x(h[a]);return this}function e(c){if(c.snap in E)return E[c.snap];var a=this.id=V(),b;try{b=c.ownerSVGElement}catch(m){}this.node=c;b&&(this.paper=new s(b));this.type=c.tagName;this.anims=\n",
       "{};this._={transform:[]};c.snap=a;E[a]=this;\"g\"==this.type&&(this.add=q);if(this.type in{g:1,mask:1,pattern:1})for(var e in s.prototype)s.prototype[h](e)&&(this[e]=s.prototype[e])}function l(c){this.node=c}function r(c,a){var b=v(c);a.appendChild(b);return x(b)}function s(c,a){var b,m,f,d=s.prototype;if(c&&\"svg\"==c.tagName){if(c.snap in E)return E[c.snap];var l=c.ownerDocument;b=new e(c);m=c.getElementsByTagName(\"desc\")[0];f=c.getElementsByTagName(\"defs\")[0];m||(m=v(\"desc\"),m.appendChild(l.createTextNode(\"Created with Snap\")),\n",
       "b.node.appendChild(m));f||(f=v(\"defs\"),b.node.appendChild(f));b.defs=f;for(var ca in d)d[h](ca)&&(b[ca]=d[ca]);b.paper=b.root=b}else b=r(\"svg\",G.doc.body),v(b.node,{height:a,version:1.1,width:c,xmlns:la});return b}function x(c){return!c||c instanceof e||c instanceof l?c:c.tagName&&\"svg\"==c.tagName.toLowerCase()?new s(c):c.tagName&&\"object\"==c.tagName.toLowerCase()&&\"image/svg+xml\"==c.type?new s(c.contentDocument.getElementsByTagName(\"svg\")[0]):new e(c)}a.version=\"0.3.0\";a.toString=function(){return\"Snap v\"+\n",
       "this.version};a._={};var G={win:N,doc:N.document};a._.glob=G;var h=\"hasOwnProperty\",J=String,K=parseFloat,U=parseInt,I=Math,P=I.max,Q=I.min,Y=I.abs,C=I.PI,aa=\"\",$=Object.prototype.toString,F=/^\\s*((#[a-f\\d]{6})|(#[a-f\\d]{3})|rgba?\\(\\s*([\\d\\.]+%?\\s*,\\s*[\\d\\.]+%?\\s*,\\s*[\\d\\.]+%?(?:\\s*,\\s*[\\d\\.]+%?)?)\\s*\\)|hsba?\\(\\s*([\\d\\.]+(?:deg|\\xb0|%)?\\s*,\\s*[\\d\\.]+%?\\s*,\\s*[\\d\\.]+(?:%?\\s*,\\s*[\\d\\.]+)?%?)\\s*\\)|hsla?\\(\\s*([\\d\\.]+(?:deg|\\xb0|%)?\\s*,\\s*[\\d\\.]+%?\\s*,\\s*[\\d\\.]+(?:%?\\s*,\\s*[\\d\\.]+)?%?)\\s*\\))\\s*$/i;a._.separator=\n",
       "RegExp(\"[,\\t\\n\\x0B\\f\\r \\u00a0\\u1680\\u180e\\u2000\\u2001\\u2002\\u2003\\u2004\\u2005\\u2006\\u2007\\u2008\\u2009\\u200a\\u202f\\u205f\\u3000\\u2028\\u2029]+\");var S=RegExp(\"[\\t\\n\\x0B\\f\\r \\u00a0\\u1680\\u180e\\u2000\\u2001\\u2002\\u2003\\u2004\\u2005\\u2006\\u2007\\u2008\\u2009\\u200a\\u202f\\u205f\\u3000\\u2028\\u2029]*,[\\t\\n\\x0B\\f\\r \\u00a0\\u1680\\u180e\\u2000\\u2001\\u2002\\u2003\\u2004\\u2005\\u2006\\u2007\\u2008\\u2009\\u200a\\u202f\\u205f\\u3000\\u2028\\u2029]*\"),X={hs:1,rg:1},W=RegExp(\"([a-z])[\\t\\n\\x0B\\f\\r \\u00a0\\u1680\\u180e\\u2000\\u2001\\u2002\\u2003\\u2004\\u2005\\u2006\\u2007\\u2008\\u2009\\u200a\\u202f\\u205f\\u3000\\u2028\\u2029,]*((-?\\\\d*\\\\.?\\\\d*(?:e[\\\\-+]?\\\\d+)?[\\t\\n\\x0B\\f\\r \\u00a0\\u1680\\u180e\\u2000\\u2001\\u2002\\u2003\\u2004\\u2005\\u2006\\u2007\\u2008\\u2009\\u200a\\u202f\\u205f\\u3000\\u2028\\u2029]*,?[\\t\\n\\x0B\\f\\r \\u00a0\\u1680\\u180e\\u2000\\u2001\\u2002\\u2003\\u2004\\u2005\\u2006\\u2007\\u2008\\u2009\\u200a\\u202f\\u205f\\u3000\\u2028\\u2029]*)+)\",\n",
       "\"ig\"),ma=RegExp(\"([rstm])[\\t\\n\\x0B\\f\\r \\u00a0\\u1680\\u180e\\u2000\\u2001\\u2002\\u2003\\u2004\\u2005\\u2006\\u2007\\u2008\\u2009\\u200a\\u202f\\u205f\\u3000\\u2028\\u2029,]*((-?\\\\d*\\\\.?\\\\d*(?:e[\\\\-+]?\\\\d+)?[\\t\\n\\x0B\\f\\r \\u00a0\\u1680\\u180e\\u2000\\u2001\\u2002\\u2003\\u2004\\u2005\\u2006\\u2007\\u2008\\u2009\\u200a\\u202f\\u205f\\u3000\\u2028\\u2029]*,?[\\t\\n\\x0B\\f\\r \\u00a0\\u1680\\u180e\\u2000\\u2001\\u2002\\u2003\\u2004\\u2005\\u2006\\u2007\\u2008\\u2009\\u200a\\u202f\\u205f\\u3000\\u2028\\u2029]*)+)\",\"ig\"),Z=RegExp(\"(-?\\\\d*\\\\.?\\\\d*(?:e[\\\\-+]?\\\\d+)?)[\\t\\n\\x0B\\f\\r \\u00a0\\u1680\\u180e\\u2000\\u2001\\u2002\\u2003\\u2004\\u2005\\u2006\\u2007\\u2008\\u2009\\u200a\\u202f\\u205f\\u3000\\u2028\\u2029]*,?[\\t\\n\\x0B\\f\\r \\u00a0\\u1680\\u180e\\u2000\\u2001\\u2002\\u2003\\u2004\\u2005\\u2006\\u2007\\u2008\\u2009\\u200a\\u202f\\u205f\\u3000\\u2028\\u2029]*\",\n",
       "\"ig\"),na=0,ba=\"S\"+(+new Date).toString(36),V=function(){return ba+(na++).toString(36)},m=\"http://www.w3.org/1999/xlink\",la=\"http://www.w3.org/2000/svg\",E={},ca=a.url=function(c){return\"url('#\"+c+\"')\"};a._.$=v;a._.id=V;a.format=function(){var c=/\\{([^\\}]+)\\}/g,a=/(?:(?:^|\\.)(.+?)(?=\\[|\\.|$|\\()|\\[('|\")(.+?)\\2\\])(\\(\\))?/g,b=function(c,b,m){var h=m;b.replace(a,function(c,a,b,m,t){a=a||m;h&&(a in h&&(h=h[a]),\"function\"==typeof h&&t&&(h=h()))});return h=(null==h||h==m?c:h)+\"\"};return function(a,m){return J(a).replace(c,\n",
       "function(c,a){return b(c,a,m)})}}();a._.clone=M;a._.cacher=A;a.rad=z;a.deg=function(c){return 180*c/C%360};a.angle=w;a.is=y;a.snapTo=function(c,a,b){b=y(b,\"finite\")?b:10;if(y(c,\"array\"))for(var m=c.length;m--;){if(Y(c[m]-a)<=b)return c[m]}else{c=+c;m=a%c;if(m<b)return a-m;if(m>c-b)return a-m+c}return a};a.getRGB=A(function(c){if(!c||(c=J(c)).indexOf(\"-\")+1)return{r:-1,g:-1,b:-1,hex:\"none\",error:1,toString:ka};if(\"none\"==c)return{r:-1,g:-1,b:-1,hex:\"none\",toString:ka};!X[h](c.toLowerCase().substring(0,\n",
       "2))&&\"#\"!=c.charAt()&&(c=T(c));if(!c)return{r:-1,g:-1,b:-1,hex:\"none\",error:1,toString:ka};var b,m,e,f,d;if(c=c.match(F)){c[2]&&(e=U(c[2].substring(5),16),m=U(c[2].substring(3,5),16),b=U(c[2].substring(1,3),16));c[3]&&(e=U((d=c[3].charAt(3))+d,16),m=U((d=c[3].charAt(2))+d,16),b=U((d=c[3].charAt(1))+d,16));c[4]&&(d=c[4].split(S),b=K(d[0]),\"%\"==d[0].slice(-1)&&(b*=2.55),m=K(d[1]),\"%\"==d[1].slice(-1)&&(m*=2.55),e=K(d[2]),\"%\"==d[2].slice(-1)&&(e*=2.55),\"rgba\"==c[1].toLowerCase().slice(0,4)&&(f=K(d[3])),\n",
       "d[3]&&\"%\"==d[3].slice(-1)&&(f/=100));if(c[5])return d=c[5].split(S),b=K(d[0]),\"%\"==d[0].slice(-1)&&(b/=100),m=K(d[1]),\"%\"==d[1].slice(-1)&&(m/=100),e=K(d[2]),\"%\"==d[2].slice(-1)&&(e/=100),\"deg\"!=d[0].slice(-3)&&\"\\u00b0\"!=d[0].slice(-1)||(b/=360),\"hsba\"==c[1].toLowerCase().slice(0,4)&&(f=K(d[3])),d[3]&&\"%\"==d[3].slice(-1)&&(f/=100),a.hsb2rgb(b,m,e,f);if(c[6])return d=c[6].split(S),b=K(d[0]),\"%\"==d[0].slice(-1)&&(b/=100),m=K(d[1]),\"%\"==d[1].slice(-1)&&(m/=100),e=K(d[2]),\"%\"==d[2].slice(-1)&&(e/=100),\n",
       "\"deg\"!=d[0].slice(-3)&&\"\\u00b0\"!=d[0].slice(-1)||(b/=360),\"hsla\"==c[1].toLowerCase().slice(0,4)&&(f=K(d[3])),d[3]&&\"%\"==d[3].slice(-1)&&(f/=100),a.hsl2rgb(b,m,e,f);b=Q(I.round(b),255);m=Q(I.round(m),255);e=Q(I.round(e),255);f=Q(P(f,0),1);c={r:b,g:m,b:e,toString:ka};c.hex=\"#\"+(16777216|e|m<<8|b<<16).toString(16).slice(1);c.opacity=y(f,\"finite\")?f:1;return c}return{r:-1,g:-1,b:-1,hex:\"none\",error:1,toString:ka}},a);a.hsb=A(function(c,b,m){return a.hsb2rgb(c,b,m).hex});a.hsl=A(function(c,b,m){return a.hsl2rgb(c,\n",
       "b,m).hex});a.rgb=A(function(c,a,b,m){if(y(m,\"finite\")){var e=I.round;return\"rgba(\"+[e(c),e(a),e(b),+m.toFixed(2)]+\")\"}return\"#\"+(16777216|b|a<<8|c<<16).toString(16).slice(1)});var T=function(c){var a=G.doc.getElementsByTagName(\"head\")[0]||G.doc.getElementsByTagName(\"svg\")[0];T=A(function(c){if(\"red\"==c.toLowerCase())return\"rgb(255, 0, 0)\";a.style.color=\"rgb(255, 0, 0)\";a.style.color=c;c=G.doc.defaultView.getComputedStyle(a,aa).getPropertyValue(\"color\");return\"rgb(255, 0, 0)\"==c?null:c});return T(c)},\n",
       "qa=function(){return\"hsb(\"+[this.h,this.s,this.b]+\")\"},ra=function(){return\"hsl(\"+[this.h,this.s,this.l]+\")\"},ka=function(){return 1==this.opacity||null==this.opacity?this.hex:\"rgba(\"+[this.r,this.g,this.b,this.opacity]+\")\"},D=function(c,b,m){null==b&&y(c,\"object\")&&\"r\"in c&&\"g\"in c&&\"b\"in c&&(m=c.b,b=c.g,c=c.r);null==b&&y(c,string)&&(m=a.getRGB(c),c=m.r,b=m.g,m=m.b);if(1<c||1<b||1<m)c/=255,b/=255,m/=255;return[c,b,m]},oa=function(c,b,m,e){c=I.round(255*c);b=I.round(255*b);m=I.round(255*m);c={r:c,\n",
       "g:b,b:m,opacity:y(e,\"finite\")?e:1,hex:a.rgb(c,b,m),toString:ka};y(e,\"finite\")&&(c.opacity=e);return c};a.color=function(c){var b;y(c,\"object\")&&\"h\"in c&&\"s\"in c&&\"b\"in c?(b=a.hsb2rgb(c),c.r=b.r,c.g=b.g,c.b=b.b,c.opacity=1,c.hex=b.hex):y(c,\"object\")&&\"h\"in c&&\"s\"in c&&\"l\"in c?(b=a.hsl2rgb(c),c.r=b.r,c.g=b.g,c.b=b.b,c.opacity=1,c.hex=b.hex):(y(c,\"string\")&&(c=a.getRGB(c)),y(c,\"object\")&&\"r\"in c&&\"g\"in c&&\"b\"in c&&!(\"error\"in c)?(b=a.rgb2hsl(c),c.h=b.h,c.s=b.s,c.l=b.l,b=a.rgb2hsb(c),c.v=b.b):(c={hex:\"none\"},\n",
       "c.r=c.g=c.b=c.h=c.s=c.v=c.l=-1,c.error=1));c.toString=ka;return c};a.hsb2rgb=function(c,a,b,m){y(c,\"object\")&&\"h\"in c&&\"s\"in c&&\"b\"in c&&(b=c.b,a=c.s,c=c.h,m=c.o);var e,h,d;c=360*c%360/60;d=b*a;a=d*(1-Y(c%2-1));b=e=h=b-d;c=~~c;b+=[d,a,0,0,a,d][c];e+=[a,d,d,a,0,0][c];h+=[0,0,a,d,d,a][c];return oa(b,e,h,m)};a.hsl2rgb=function(c,a,b,m){y(c,\"object\")&&\"h\"in c&&\"s\"in c&&\"l\"in c&&(b=c.l,a=c.s,c=c.h);if(1<c||1<a||1<b)c/=360,a/=100,b/=100;var e,h,d;c=360*c%360/60;d=2*a*(0.5>b?b:1-b);a=d*(1-Y(c%2-1));b=e=\n",
       "h=b-d/2;c=~~c;b+=[d,a,0,0,a,d][c];e+=[a,d,d,a,0,0][c];h+=[0,0,a,d,d,a][c];return oa(b,e,h,m)};a.rgb2hsb=function(c,a,b){b=D(c,a,b);c=b[0];a=b[1];b=b[2];var m,e;m=P(c,a,b);e=m-Q(c,a,b);c=((0==e?0:m==c?(a-b)/e:m==a?(b-c)/e+2:(c-a)/e+4)+360)%6*60/360;return{h:c,s:0==e?0:e/m,b:m,toString:qa}};a.rgb2hsl=function(c,a,b){b=D(c,a,b);c=b[0];a=b[1];b=b[2];var m,e,h;m=P(c,a,b);e=Q(c,a,b);h=m-e;c=((0==h?0:m==c?(a-b)/h:m==a?(b-c)/h+2:(c-a)/h+4)+360)%6*60/360;m=(m+e)/2;return{h:c,s:0==h?0:0.5>m?h/(2*m):h/(2-2*\n",
       "m),l:m,toString:ra}};a.parsePathString=function(c){if(!c)return null;var b=a.path(c);if(b.arr)return a.path.clone(b.arr);var m={a:7,c:6,o:2,h:1,l:2,m:2,r:4,q:4,s:4,t:2,v:1,u:3,z:0},e=[];y(c,\"array\")&&y(c[0],\"array\")&&(e=a.path.clone(c));e.length||J(c).replace(W,function(c,a,b){var h=[];c=a.toLowerCase();b.replace(Z,function(c,a){a&&h.push(+a)});\"m\"==c&&2<h.length&&(e.push([a].concat(h.splice(0,2))),c=\"l\",a=\"m\"==a?\"l\":\"L\");\"o\"==c&&1==h.length&&e.push([a,h[0] ]);if(\"r\"==c)e.push([a].concat(h));else for(;h.length>=\n",
       "m[c]&&(e.push([a].concat(h.splice(0,m[c]))),m[c]););});e.toString=a.path.toString;b.arr=a.path.clone(e);return e};var O=a.parseTransformString=function(c){if(!c)return null;var b=[];y(c,\"array\")&&y(c[0],\"array\")&&(b=a.path.clone(c));b.length||J(c).replace(ma,function(c,a,m){var e=[];a.toLowerCase();m.replace(Z,function(c,a){a&&e.push(+a)});b.push([a].concat(e))});b.toString=a.path.toString;return b};a._.svgTransform2string=d;a._.rgTransform=RegExp(\"^[a-z][\\t\\n\\x0B\\f\\r \\u00a0\\u1680\\u180e\\u2000\\u2001\\u2002\\u2003\\u2004\\u2005\\u2006\\u2007\\u2008\\u2009\\u200a\\u202f\\u205f\\u3000\\u2028\\u2029]*-?\\\\.?\\\\d\",\n",
       "\"i\");a._.transform2matrix=f;a._unit2px=b;a._.getSomeDefs=u;a._.getSomeSVG=p;a.select=function(c){return x(G.doc.querySelector(c))};a.selectAll=function(c){c=G.doc.querySelectorAll(c);for(var b=(a.set||Array)(),m=0;m<c.length;m++)b.push(x(c[m]));return b};setInterval(function(){for(var c in E)if(E[h](c)){var a=E[c],b=a.node;(\"svg\"!=a.type&&!b.ownerSVGElement||\"svg\"==a.type&&(!b.parentNode||\"ownerSVGElement\"in b.parentNode&&!b.ownerSVGElement))&&delete E[c]}},1E4);(function(c){function m(c){function a(c,\n",
       "b){var m=v(c.node,b);(m=(m=m&&m.match(d))&&m[2])&&\"#\"==m.charAt()&&(m=m.substring(1))&&(f[m]=(f[m]||[]).concat(function(a){var m={};m[b]=ca(a);v(c.node,m)}))}function b(c){var a=v(c.node,\"xlink:href\");a&&\"#\"==a.charAt()&&(a=a.substring(1))&&(f[a]=(f[a]||[]).concat(function(a){c.attr(\"xlink:href\",\"#\"+a)}))}var e=c.selectAll(\"*\"),h,d=/^\\s*url\\((\"|'|)(.*)\\1\\)\\s*$/;c=[];for(var f={},l=0,E=e.length;l<E;l++){h=e[l];a(h,\"fill\");a(h,\"stroke\");a(h,\"filter\");a(h,\"mask\");a(h,\"clip-path\");b(h);var t=v(h.node,\n",
       "\"id\");t&&(v(h.node,{id:h.id}),c.push({old:t,id:h.id}))}l=0;for(E=c.length;l<E;l++)if(e=f[c[l].old])for(h=0,t=e.length;h<t;h++)e[h](c[l].id)}function e(c,a,b){return function(m){m=m.slice(c,a);1==m.length&&(m=m[0]);return b?b(m):m}}function d(c){return function(){var a=c?\"<\"+this.type:\"\",b=this.node.attributes,m=this.node.childNodes;if(c)for(var e=0,h=b.length;e<h;e++)a+=\" \"+b[e].name+'=\"'+b[e].value.replace(/\"/g,'\\\\\"')+'\"';if(m.length){c&&(a+=\">\");e=0;for(h=m.length;e<h;e++)3==m[e].nodeType?a+=m[e].nodeValue:\n",
       "1==m[e].nodeType&&(a+=x(m[e]).toString());c&&(a+=\"</\"+this.type+\">\")}else c&&(a+=\"/>\");return a}}c.attr=function(c,a){if(!c)return this;if(y(c,\"string\"))if(1<arguments.length){var b={};b[c]=a;c=b}else return k(\"snap.util.getattr.\"+c,this).firstDefined();for(var m in c)c[h](m)&&k(\"snap.util.attr.\"+m,this,c[m]);return this};c.getBBox=function(c){if(!a.Matrix||!a.path)return this.node.getBBox();var b=this,m=new a.Matrix;if(b.removed)return a._.box();for(;\"use\"==b.type;)if(c||(m=m.add(b.transform().localMatrix.translate(b.attr(\"x\")||\n",
       "0,b.attr(\"y\")||0))),b.original)b=b.original;else var e=b.attr(\"xlink:href\"),b=b.original=b.node.ownerDocument.getElementById(e.substring(e.indexOf(\"#\")+1));var e=b._,h=a.path.get[b.type]||a.path.get.deflt;try{if(c)return e.bboxwt=h?a.path.getBBox(b.realPath=h(b)):a._.box(b.node.getBBox()),a._.box(e.bboxwt);b.realPath=h(b);b.matrix=b.transform().localMatrix;e.bbox=a.path.getBBox(a.path.map(b.realPath,m.add(b.matrix)));return a._.box(e.bbox)}catch(d){return a._.box()}};var f=function(){return this.string};\n",
       "c.transform=function(c){var b=this._;if(null==c){var m=this;c=new a.Matrix(this.node.getCTM());for(var e=n(this),h=[e],d=new a.Matrix,l=e.toTransformString(),b=J(e)==J(this.matrix)?J(b.transform):l;\"svg\"!=m.type&&(m=m.parent());)h.push(n(m));for(m=h.length;m--;)d.add(h[m]);return{string:b,globalMatrix:c,totalMatrix:d,localMatrix:e,diffMatrix:c.clone().add(e.invert()),global:c.toTransformString(),total:d.toTransformString(),local:l,toString:f}}c instanceof a.Matrix?this.matrix=c:n(this,c);this.node&&\n",
       "(\"linearGradient\"==this.type||\"radialGradient\"==this.type?v(this.node,{gradientTransform:this.matrix}):\"pattern\"==this.type?v(this.node,{patternTransform:this.matrix}):v(this.node,{transform:this.matrix}));return this};c.parent=function(){return x(this.node.parentNode)};c.append=c.add=function(c){if(c){if(\"set\"==c.type){var a=this;c.forEach(function(c){a.add(c)});return this}c=x(c);this.node.appendChild(c.node);c.paper=this.paper}return this};c.appendTo=function(c){c&&(c=x(c),c.append(this));return this};\n",
       "c.prepend=function(c){if(c){if(\"set\"==c.type){var a=this,b;c.forEach(function(c){b?b.after(c):a.prepend(c);b=c});return this}c=x(c);var m=c.parent();this.node.insertBefore(c.node,this.node.firstChild);this.add&&this.add();c.paper=this.paper;this.parent()&&this.parent().add();m&&m.add()}return this};c.prependTo=function(c){c=x(c);c.prepend(this);return this};c.before=function(c){if(\"set\"==c.type){var a=this;c.forEach(function(c){var b=c.parent();a.node.parentNode.insertBefore(c.node,a.node);b&&b.add()});\n",
       "this.parent().add();return this}c=x(c);var b=c.parent();this.node.parentNode.insertBefore(c.node,this.node);this.parent()&&this.parent().add();b&&b.add();c.paper=this.paper;return this};c.after=function(c){c=x(c);var a=c.parent();this.node.nextSibling?this.node.parentNode.insertBefore(c.node,this.node.nextSibling):this.node.parentNode.appendChild(c.node);this.parent()&&this.parent().add();a&&a.add();c.paper=this.paper;return this};c.insertBefore=function(c){c=x(c);var a=this.parent();c.node.parentNode.insertBefore(this.node,\n",
       "c.node);this.paper=c.paper;a&&a.add();c.parent()&&c.parent().add();return this};c.insertAfter=function(c){c=x(c);var a=this.parent();c.node.parentNode.insertBefore(this.node,c.node.nextSibling);this.paper=c.paper;a&&a.add();c.parent()&&c.parent().add();return this};c.remove=function(){var c=this.parent();this.node.parentNode&&this.node.parentNode.removeChild(this.node);delete this.paper;this.removed=!0;c&&c.add();return this};c.select=function(c){return x(this.node.querySelector(c))};c.selectAll=\n",
       "function(c){c=this.node.querySelectorAll(c);for(var b=(a.set||Array)(),m=0;m<c.length;m++)b.push(x(c[m]));return b};c.asPX=function(c,a){null==a&&(a=this.attr(c));return+b(this,c,a)};c.use=function(){var c,a=this.node.id;a||(a=this.id,v(this.node,{id:a}));c=\"linearGradient\"==this.type||\"radialGradient\"==this.type||\"pattern\"==this.type?r(this.type,this.node.parentNode):r(\"use\",this.node.parentNode);v(c.node,{\"xlink:href\":\"#\"+a});c.original=this;return c};var l=/\\S+/g;c.addClass=function(c){var a=(c||\n",
       "\"\").match(l)||[];c=this.node;var b=c.className.baseVal,m=b.match(l)||[],e,h,d;if(a.length){for(e=0;d=a[e++];)h=m.indexOf(d),~h||m.push(d);a=m.join(\" \");b!=a&&(c.className.baseVal=a)}return this};c.removeClass=function(c){var a=(c||\"\").match(l)||[];c=this.node;var b=c.className.baseVal,m=b.match(l)||[],e,h;if(m.length){for(e=0;h=a[e++];)h=m.indexOf(h),~h&&m.splice(h,1);a=m.join(\" \");b!=a&&(c.className.baseVal=a)}return this};c.hasClass=function(c){return!!~(this.node.className.baseVal.match(l)||[]).indexOf(c)};\n",
       "c.toggleClass=function(c,a){if(null!=a)return a?this.addClass(c):this.removeClass(c);var b=(c||\"\").match(l)||[],m=this.node,e=m.className.baseVal,h=e.match(l)||[],d,f,E;for(d=0;E=b[d++];)f=h.indexOf(E),~f?h.splice(f,1):h.push(E);b=h.join(\" \");e!=b&&(m.className.baseVal=b);return this};c.clone=function(){var c=x(this.node.cloneNode(!0));v(c.node,\"id\")&&v(c.node,{id:c.id});m(c);c.insertAfter(this);return c};c.toDefs=function(){u(this).appendChild(this.node);return this};c.pattern=c.toPattern=function(c,\n",
       "a,b,m){var e=r(\"pattern\",u(this));null==c&&(c=this.getBBox());y(c,\"object\")&&\"x\"in c&&(a=c.y,b=c.width,m=c.height,c=c.x);v(e.node,{x:c,y:a,width:b,height:m,patternUnits:\"userSpaceOnUse\",id:e.id,viewBox:[c,a,b,m].join(\" \")});e.node.appendChild(this.node);return e};c.marker=function(c,a,b,m,e,h){var d=r(\"marker\",u(this));null==c&&(c=this.getBBox());y(c,\"object\")&&\"x\"in c&&(a=c.y,b=c.width,m=c.height,e=c.refX||c.cx,h=c.refY||c.cy,c=c.x);v(d.node,{viewBox:[c,a,b,m].join(\" \"),markerWidth:b,markerHeight:m,\n",
       "orient:\"auto\",refX:e||0,refY:h||0,id:d.id});d.node.appendChild(this.node);return d};var E=function(c,a,b,m){\"function\"!=typeof b||b.length||(m=b,b=L.linear);this.attr=c;this.dur=a;b&&(this.easing=b);m&&(this.callback=m)};a._.Animation=E;a.animation=function(c,a,b,m){return new E(c,a,b,m)};c.inAnim=function(){var c=[],a;for(a in this.anims)this.anims[h](a)&&function(a){c.push({anim:new E(a._attrs,a.dur,a.easing,a._callback),mina:a,curStatus:a.status(),status:function(c){return a.status(c)},stop:function(){a.stop()}})}(this.anims[a]);\n",
       "return c};a.animate=function(c,a,b,m,e,h){\"function\"!=typeof e||e.length||(h=e,e=L.linear);var d=L.time();c=L(c,a,d,d+m,L.time,b,e);h&&k.once(\"mina.finish.\"+c.id,h);return c};c.stop=function(){for(var c=this.inAnim(),a=0,b=c.length;a<b;a++)c[a].stop();return this};c.animate=function(c,a,b,m){\"function\"!=typeof b||b.length||(m=b,b=L.linear);c instanceof E&&(m=c.callback,b=c.easing,a=b.dur,c=c.attr);var d=[],f=[],l={},t,ca,n,T=this,q;for(q in c)if(c[h](q)){T.equal?(n=T.equal(q,J(c[q])),t=n.from,ca=\n",
       "n.to,n=n.f):(t=+T.attr(q),ca=+c[q]);var la=y(t,\"array\")?t.length:1;l[q]=e(d.length,d.length+la,n);d=d.concat(t);f=f.concat(ca)}t=L.time();var p=L(d,f,t,t+a,L.time,function(c){var a={},b;for(b in l)l[h](b)&&(a[b]=l[b](c));T.attr(a)},b);T.anims[p.id]=p;p._attrs=c;p._callback=m;k(\"snap.animcreated.\"+T.id,p);k.once(\"mina.finish.\"+p.id,function(){delete T.anims[p.id];m&&m.call(T)});k.once(\"mina.stop.\"+p.id,function(){delete T.anims[p.id]});return T};var T={};c.data=function(c,b){var m=T[this.id]=T[this.id]||\n",
       "{};if(0==arguments.length)return k(\"snap.data.get.\"+this.id,this,m,null),m;if(1==arguments.length){if(a.is(c,\"object\")){for(var e in c)c[h](e)&&this.data(e,c[e]);return this}k(\"snap.data.get.\"+this.id,this,m[c],c);return m[c]}m[c]=b;k(\"snap.data.set.\"+this.id,this,b,c);return this};c.removeData=function(c){null==c?T[this.id]={}:T[this.id]&&delete T[this.id][c];return this};c.outerSVG=c.toString=d(1);c.innerSVG=d()})(e.prototype);a.parse=function(c){var a=G.doc.createDocumentFragment(),b=!0,m=G.doc.createElement(\"div\");\n",
       "c=J(c);c.match(/^\\s*<\\s*svg(?:\\s|>)/)||(c=\"<svg>\"+c+\"</svg>\",b=!1);m.innerHTML=c;if(c=m.getElementsByTagName(\"svg\")[0])if(b)a=c;else for(;c.firstChild;)a.appendChild(c.firstChild);m.innerHTML=aa;return new l(a)};l.prototype.select=e.prototype.select;l.prototype.selectAll=e.prototype.selectAll;a.fragment=function(){for(var c=Array.prototype.slice.call(arguments,0),b=G.doc.createDocumentFragment(),m=0,e=c.length;m<e;m++){var h=c[m];h.node&&h.node.nodeType&&b.appendChild(h.node);h.nodeType&&b.appendChild(h);\n",
       "\"string\"==typeof h&&b.appendChild(a.parse(h).node)}return new l(b)};a._.make=r;a._.wrap=x;s.prototype.el=function(c,a){var b=r(c,this.node);a&&b.attr(a);return b};k.on(\"snap.util.getattr\",function(){var c=k.nt(),c=c.substring(c.lastIndexOf(\".\")+1),a=c.replace(/[A-Z]/g,function(c){return\"-\"+c.toLowerCase()});return pa[h](a)?this.node.ownerDocument.defaultView.getComputedStyle(this.node,null).getPropertyValue(a):v(this.node,c)});var pa={\"alignment-baseline\":0,\"baseline-shift\":0,clip:0,\"clip-path\":0,\n",
       "\"clip-rule\":0,color:0,\"color-interpolation\":0,\"color-interpolation-filters\":0,\"color-profile\":0,\"color-rendering\":0,cursor:0,direction:0,display:0,\"dominant-baseline\":0,\"enable-background\":0,fill:0,\"fill-opacity\":0,\"fill-rule\":0,filter:0,\"flood-color\":0,\"flood-opacity\":0,font:0,\"font-family\":0,\"font-size\":0,\"font-size-adjust\":0,\"font-stretch\":0,\"font-style\":0,\"font-variant\":0,\"font-weight\":0,\"glyph-orientation-horizontal\":0,\"glyph-orientation-vertical\":0,\"image-rendering\":0,kerning:0,\"letter-spacing\":0,\n",
       "\"lighting-color\":0,marker:0,\"marker-end\":0,\"marker-mid\":0,\"marker-start\":0,mask:0,opacity:0,overflow:0,\"pointer-events\":0,\"shape-rendering\":0,\"stop-color\":0,\"stop-opacity\":0,stroke:0,\"stroke-dasharray\":0,\"stroke-dashoffset\":0,\"stroke-linecap\":0,\"stroke-linejoin\":0,\"stroke-miterlimit\":0,\"stroke-opacity\":0,\"stroke-width\":0,\"text-anchor\":0,\"text-decoration\":0,\"text-rendering\":0,\"unicode-bidi\":0,visibility:0,\"word-spacing\":0,\"writing-mode\":0};k.on(\"snap.util.attr\",function(c){var a=k.nt(),b={},a=a.substring(a.lastIndexOf(\".\")+\n",
       "1);b[a]=c;var m=a.replace(/-(\\w)/gi,function(c,a){return a.toUpperCase()}),a=a.replace(/[A-Z]/g,function(c){return\"-\"+c.toLowerCase()});pa[h](a)?this.node.style[m]=null==c?aa:c:v(this.node,b)});a.ajax=function(c,a,b,m){var e=new XMLHttpRequest,h=V();if(e){if(y(a,\"function\"))m=b,b=a,a=null;else if(y(a,\"object\")){var d=[],f;for(f in a)a.hasOwnProperty(f)&&d.push(encodeURIComponent(f)+\"=\"+encodeURIComponent(a[f]));a=d.join(\"&\")}e.open(a?\"POST\":\"GET\",c,!0);a&&(e.setRequestHeader(\"X-Requested-With\",\"XMLHttpRequest\"),\n",
       "e.setRequestHeader(\"Content-type\",\"application/x-www-form-urlencoded\"));b&&(k.once(\"snap.ajax.\"+h+\".0\",b),k.once(\"snap.ajax.\"+h+\".200\",b),k.once(\"snap.ajax.\"+h+\".304\",b));e.onreadystatechange=function(){4==e.readyState&&k(\"snap.ajax.\"+h+\".\"+e.status,m,e)};if(4==e.readyState)return e;e.send(a);return e}};a.load=function(c,b,m){a.ajax(c,function(c){c=a.parse(c.responseText);m?b.call(m,c):b(c)})};a.getElementByPoint=function(c,a){var b,m,e=G.doc.elementFromPoint(c,a);if(G.win.opera&&\"svg\"==e.tagName){b=\n",
       "e;m=b.getBoundingClientRect();b=b.ownerDocument;var h=b.body,d=b.documentElement;b=m.top+(g.win.pageYOffset||d.scrollTop||h.scrollTop)-(d.clientTop||h.clientTop||0);m=m.left+(g.win.pageXOffset||d.scrollLeft||h.scrollLeft)-(d.clientLeft||h.clientLeft||0);h=e.createSVGRect();h.x=c-m;h.y=a-b;h.width=h.height=1;b=e.getIntersectionList(h,null);b.length&&(e=b[b.length-1])}return e?x(e):null};a.plugin=function(c){c(a,e,s,G,l)};return G.win.Snap=a}();C.plugin(function(a,k,y,M,A){function w(a,d,f,b,q,e){null==\n",
       "d&&\"[object SVGMatrix]\"==z.call(a)?(this.a=a.a,this.b=a.b,this.c=a.c,this.d=a.d,this.e=a.e,this.f=a.f):null!=a?(this.a=+a,this.b=+d,this.c=+f,this.d=+b,this.e=+q,this.f=+e):(this.a=1,this.c=this.b=0,this.d=1,this.f=this.e=0)}var z=Object.prototype.toString,d=String,f=Math;(function(n){function k(a){return a[0]*a[0]+a[1]*a[1]}function p(a){var d=f.sqrt(k(a));a[0]&&(a[0]/=d);a[1]&&(a[1]/=d)}n.add=function(a,d,e,f,n,p){var k=[[],[],[] ],u=[[this.a,this.c,this.e],[this.b,this.d,this.f],[0,0,1] ];d=[[a,\n",
       "e,n],[d,f,p],[0,0,1] ];a&&a instanceof w&&(d=[[a.a,a.c,a.e],[a.b,a.d,a.f],[0,0,1] ]);for(a=0;3>a;a++)for(e=0;3>e;e++){for(f=n=0;3>f;f++)n+=u[a][f]*d[f][e];k[a][e]=n}this.a=k[0][0];this.b=k[1][0];this.c=k[0][1];this.d=k[1][1];this.e=k[0][2];this.f=k[1][2];return this};n.invert=function(){var a=this.a*this.d-this.b*this.c;return new w(this.d/a,-this.b/a,-this.c/a,this.a/a,(this.c*this.f-this.d*this.e)/a,(this.b*this.e-this.a*this.f)/a)};n.clone=function(){return new w(this.a,this.b,this.c,this.d,this.e,\n",
       "this.f)};n.translate=function(a,d){return this.add(1,0,0,1,a,d)};n.scale=function(a,d,e,f){null==d&&(d=a);(e||f)&&this.add(1,0,0,1,e,f);this.add(a,0,0,d,0,0);(e||f)&&this.add(1,0,0,1,-e,-f);return this};n.rotate=function(b,d,e){b=a.rad(b);d=d||0;e=e||0;var l=+f.cos(b).toFixed(9);b=+f.sin(b).toFixed(9);this.add(l,b,-b,l,d,e);return this.add(1,0,0,1,-d,-e)};n.x=function(a,d){return a*this.a+d*this.c+this.e};n.y=function(a,d){return a*this.b+d*this.d+this.f};n.get=function(a){return+this[d.fromCharCode(97+\n",
       "a)].toFixed(4)};n.toString=function(){return\"matrix(\"+[this.get(0),this.get(1),this.get(2),this.get(3),this.get(4),this.get(5)].join()+\")\"};n.offset=function(){return[this.e.toFixed(4),this.f.toFixed(4)]};n.determinant=function(){return this.a*this.d-this.b*this.c};n.split=function(){var b={};b.dx=this.e;b.dy=this.f;var d=[[this.a,this.c],[this.b,this.d] ];b.scalex=f.sqrt(k(d[0]));p(d[0]);b.shear=d[0][0]*d[1][0]+d[0][1]*d[1][1];d[1]=[d[1][0]-d[0][0]*b.shear,d[1][1]-d[0][1]*b.shear];b.scaley=f.sqrt(k(d[1]));\n",
       "p(d[1]);b.shear/=b.scaley;0>this.determinant()&&(b.scalex=-b.scalex);var e=-d[0][1],d=d[1][1];0>d?(b.rotate=a.deg(f.acos(d)),0>e&&(b.rotate=360-b.rotate)):b.rotate=a.deg(f.asin(e));b.isSimple=!+b.shear.toFixed(9)&&(b.scalex.toFixed(9)==b.scaley.toFixed(9)||!b.rotate);b.isSuperSimple=!+b.shear.toFixed(9)&&b.scalex.toFixed(9)==b.scaley.toFixed(9)&&!b.rotate;b.noRotation=!+b.shear.toFixed(9)&&!b.rotate;return b};n.toTransformString=function(a){a=a||this.split();if(+a.shear.toFixed(9))return\"m\"+[this.get(0),\n",
       "this.get(1),this.get(2),this.get(3),this.get(4),this.get(5)];a.scalex=+a.scalex.toFixed(4);a.scaley=+a.scaley.toFixed(4);a.rotate=+a.rotate.toFixed(4);return(a.dx||a.dy?\"t\"+[+a.dx.toFixed(4),+a.dy.toFixed(4)]:\"\")+(1!=a.scalex||1!=a.scaley?\"s\"+[a.scalex,a.scaley,0,0]:\"\")+(a.rotate?\"r\"+[+a.rotate.toFixed(4),0,0]:\"\")}})(w.prototype);a.Matrix=w;a.matrix=function(a,d,f,b,k,e){return new w(a,d,f,b,k,e)}});C.plugin(function(a,v,y,M,A){function w(h){return function(d){k.stop();d instanceof A&&1==d.node.childNodes.length&&\n",
       "(\"radialGradient\"==d.node.firstChild.tagName||\"linearGradient\"==d.node.firstChild.tagName||\"pattern\"==d.node.firstChild.tagName)&&(d=d.node.firstChild,b(this).appendChild(d),d=u(d));if(d instanceof v)if(\"radialGradient\"==d.type||\"linearGradient\"==d.type||\"pattern\"==d.type){d.node.id||e(d.node,{id:d.id});var f=l(d.node.id)}else f=d.attr(h);else f=a.color(d),f.error?(f=a(b(this).ownerSVGElement).gradient(d))?(f.node.id||e(f.node,{id:f.id}),f=l(f.node.id)):f=d:f=r(f);d={};d[h]=f;e(this.node,d);this.node.style[h]=\n",
       "x}}function z(a){k.stop();a==+a&&(a+=\"px\");this.node.style.fontSize=a}function d(a){var b=[];a=a.childNodes;for(var e=0,f=a.length;e<f;e++){var l=a[e];3==l.nodeType&&b.push(l.nodeValue);\"tspan\"==l.tagName&&(1==l.childNodes.length&&3==l.firstChild.nodeType?b.push(l.firstChild.nodeValue):b.push(d(l)))}return b}function f(){k.stop();return this.node.style.fontSize}var n=a._.make,u=a._.wrap,p=a.is,b=a._.getSomeDefs,q=/^url\\(#?([^)]+)\\)$/,e=a._.$,l=a.url,r=String,s=a._.separator,x=\"\";k.on(\"snap.util.attr.mask\",\n",
       "function(a){if(a instanceof v||a instanceof A){k.stop();a instanceof A&&1==a.node.childNodes.length&&(a=a.node.firstChild,b(this).appendChild(a),a=u(a));if(\"mask\"==a.type)var d=a;else d=n(\"mask\",b(this)),d.node.appendChild(a.node);!d.node.id&&e(d.node,{id:d.id});e(this.node,{mask:l(d.id)})}});(function(a){k.on(\"snap.util.attr.clip\",a);k.on(\"snap.util.attr.clip-path\",a);k.on(\"snap.util.attr.clipPath\",a)})(function(a){if(a instanceof v||a instanceof A){k.stop();if(\"clipPath\"==a.type)var d=a;else d=\n",
       "n(\"clipPath\",b(this)),d.node.appendChild(a.node),!d.node.id&&e(d.node,{id:d.id});e(this.node,{\"clip-path\":l(d.id)})}});k.on(\"snap.util.attr.fill\",w(\"fill\"));k.on(\"snap.util.attr.stroke\",w(\"stroke\"));var G=/^([lr])(?:\\(([^)]*)\\))?(.*)$/i;k.on(\"snap.util.grad.parse\",function(a){a=r(a);var b=a.match(G);if(!b)return null;a=b[1];var e=b[2],b=b[3],e=e.split(/\\s*,\\s*/).map(function(a){return+a==a?+a:a});1==e.length&&0==e[0]&&(e=[]);b=b.split(\"-\");b=b.map(function(a){a=a.split(\":\");var b={color:a[0]};a[1]&&\n",
       "(b.offset=parseFloat(a[1]));return b});return{type:a,params:e,stops:b}});k.on(\"snap.util.attr.d\",function(b){k.stop();p(b,\"array\")&&p(b[0],\"array\")&&(b=a.path.toString.call(b));b=r(b);b.match(/[ruo]/i)&&(b=a.path.toAbsolute(b));e(this.node,{d:b})})(-1);k.on(\"snap.util.attr.#text\",function(a){k.stop();a=r(a);for(a=M.doc.createTextNode(a);this.node.firstChild;)this.node.removeChild(this.node.firstChild);this.node.appendChild(a)})(-1);k.on(\"snap.util.attr.path\",function(a){k.stop();this.attr({d:a})})(-1);\n",
       "k.on(\"snap.util.attr.class\",function(a){k.stop();this.node.className.baseVal=a})(-1);k.on(\"snap.util.attr.viewBox\",function(a){a=p(a,\"object\")&&\"x\"in a?[a.x,a.y,a.width,a.height].join(\" \"):p(a,\"array\")?a.join(\" \"):a;e(this.node,{viewBox:a});k.stop()})(-1);k.on(\"snap.util.attr.transform\",function(a){this.transform(a);k.stop()})(-1);k.on(\"snap.util.attr.r\",function(a){\"rect\"==this.type&&(k.stop(),e(this.node,{rx:a,ry:a}))})(-1);k.on(\"snap.util.attr.textpath\",function(a){k.stop();if(\"text\"==this.type){var d,\n",
       "f;if(!a&&this.textPath){for(a=this.textPath;a.node.firstChild;)this.node.appendChild(a.node.firstChild);a.remove();delete this.textPath}else if(p(a,\"string\")?(d=b(this),a=u(d.parentNode).path(a),d.appendChild(a.node),d=a.id,a.attr({id:d})):(a=u(a),a instanceof v&&(d=a.attr(\"id\"),d||(d=a.id,a.attr({id:d})))),d)if(a=this.textPath,f=this.node,a)a.attr({\"xlink:href\":\"#\"+d});else{for(a=e(\"textPath\",{\"xlink:href\":\"#\"+d});f.firstChild;)a.appendChild(f.firstChild);f.appendChild(a);this.textPath=u(a)}}})(-1);\n",
       "k.on(\"snap.util.attr.text\",function(a){if(\"text\"==this.type){for(var b=this.node,d=function(a){var b=e(\"tspan\");if(p(a,\"array\"))for(var f=0;f<a.length;f++)b.appendChild(d(a[f]));else b.appendChild(M.doc.createTextNode(a));b.normalize&&b.normalize();return b};b.firstChild;)b.removeChild(b.firstChild);for(a=d(a);a.firstChild;)b.appendChild(a.firstChild)}k.stop()})(-1);k.on(\"snap.util.attr.fontSize\",z)(-1);k.on(\"snap.util.attr.font-size\",z)(-1);k.on(\"snap.util.getattr.transform\",function(){k.stop();\n",
       "return this.transform()})(-1);k.on(\"snap.util.getattr.textpath\",function(){k.stop();return this.textPath})(-1);(function(){function b(d){return function(){k.stop();var b=M.doc.defaultView.getComputedStyle(this.node,null).getPropertyValue(\"marker-\"+d);return\"none\"==b?b:a(M.doc.getElementById(b.match(q)[1]))}}function d(a){return function(b){k.stop();var d=\"marker\"+a.charAt(0).toUpperCase()+a.substring(1);if(\"\"==b||!b)this.node.style[d]=\"none\";else if(\"marker\"==b.type){var f=b.node.id;f||e(b.node,{id:b.id});\n",
       "this.node.style[d]=l(f)}}}k.on(\"snap.util.getattr.marker-end\",b(\"end\"))(-1);k.on(\"snap.util.getattr.markerEnd\",b(\"end\"))(-1);k.on(\"snap.util.getattr.marker-start\",b(\"start\"))(-1);k.on(\"snap.util.getattr.markerStart\",b(\"start\"))(-1);k.on(\"snap.util.getattr.marker-mid\",b(\"mid\"))(-1);k.on(\"snap.util.getattr.markerMid\",b(\"mid\"))(-1);k.on(\"snap.util.attr.marker-end\",d(\"end\"))(-1);k.on(\"snap.util.attr.markerEnd\",d(\"end\"))(-1);k.on(\"snap.util.attr.marker-start\",d(\"start\"))(-1);k.on(\"snap.util.attr.markerStart\",\n",
       "d(\"start\"))(-1);k.on(\"snap.util.attr.marker-mid\",d(\"mid\"))(-1);k.on(\"snap.util.attr.markerMid\",d(\"mid\"))(-1)})();k.on(\"snap.util.getattr.r\",function(){if(\"rect\"==this.type&&e(this.node,\"rx\")==e(this.node,\"ry\"))return k.stop(),e(this.node,\"rx\")})(-1);k.on(\"snap.util.getattr.text\",function(){if(\"text\"==this.type||\"tspan\"==this.type){k.stop();var a=d(this.node);return 1==a.length?a[0]:a}})(-1);k.on(\"snap.util.getattr.#text\",function(){return this.node.textContent})(-1);k.on(\"snap.util.getattr.viewBox\",\n",
       "function(){k.stop();var b=e(this.node,\"viewBox\");if(b)return b=b.split(s),a._.box(+b[0],+b[1],+b[2],+b[3])})(-1);k.on(\"snap.util.getattr.points\",function(){var a=e(this.node,\"points\");k.stop();if(a)return a.split(s)})(-1);k.on(\"snap.util.getattr.path\",function(){var a=e(this.node,\"d\");k.stop();return a})(-1);k.on(\"snap.util.getattr.class\",function(){return this.node.className.baseVal})(-1);k.on(\"snap.util.getattr.fontSize\",f)(-1);k.on(\"snap.util.getattr.font-size\",f)(-1)});C.plugin(function(a,v,y,\n",
       "M,A){function w(a){return a}function z(a){return function(b){return+b.toFixed(3)+a}}var d={\"+\":function(a,b){return a+b},\"-\":function(a,b){return a-b},\"/\":function(a,b){return a/b},\"*\":function(a,b){return a*b}},f=String,n=/[a-z]+$/i,u=/^\\s*([+\\-\\/*])\\s*=\\s*([\\d.eE+\\-]+)\\s*([^\\d\\s]+)?\\s*$/;k.on(\"snap.util.attr\",function(a){if(a=f(a).match(u)){var b=k.nt(),b=b.substring(b.lastIndexOf(\".\")+1),q=this.attr(b),e={};k.stop();var l=a[3]||\"\",r=q.match(n),s=d[a[1] ];r&&r==l?a=s(parseFloat(q),+a[2]):(q=this.asPX(b),\n",
       "a=s(this.asPX(b),this.asPX(b,a[2]+l)));isNaN(q)||isNaN(a)||(e[b]=a,this.attr(e))}})(-10);k.on(\"snap.util.equal\",function(a,b){var q=f(this.attr(a)||\"\"),e=f(b).match(u);if(e){k.stop();var l=e[3]||\"\",r=q.match(n),s=d[e[1] ];if(r&&r==l)return{from:parseFloat(q),to:s(parseFloat(q),+e[2]),f:z(r)};q=this.asPX(a);return{from:q,to:s(q,this.asPX(a,e[2]+l)),f:w}}})(-10)});C.plugin(function(a,v,y,M,A){var w=y.prototype,z=a.is;w.rect=function(a,d,k,p,b,q){var e;null==q&&(q=b);z(a,\"object\")&&\"[object Object]\"==\n",
       "a?e=a:null!=a&&(e={x:a,y:d,width:k,height:p},null!=b&&(e.rx=b,e.ry=q));return this.el(\"rect\",e)};w.circle=function(a,d,k){var p;z(a,\"object\")&&\"[object Object]\"==a?p=a:null!=a&&(p={cx:a,cy:d,r:k});return this.el(\"circle\",p)};var d=function(){function a(){this.parentNode.removeChild(this)}return function(d,k){var p=M.doc.createElement(\"img\"),b=M.doc.body;p.style.cssText=\"position:absolute;left:-9999em;top:-9999em\";p.onload=function(){k.call(p);p.onload=p.onerror=null;b.removeChild(p)};p.onerror=a;\n",
       "b.appendChild(p);p.src=d}}();w.image=function(f,n,k,p,b){var q=this.el(\"image\");if(z(f,\"object\")&&\"src\"in f)q.attr(f);else if(null!=f){var e={\"xlink:href\":f,preserveAspectRatio:\"none\"};null!=n&&null!=k&&(e.x=n,e.y=k);null!=p&&null!=b?(e.width=p,e.height=b):d(f,function(){a._.$(q.node,{width:this.offsetWidth,height:this.offsetHeight})});a._.$(q.node,e)}return q};w.ellipse=function(a,d,k,p){var b;z(a,\"object\")&&\"[object Object]\"==a?b=a:null!=a&&(b={cx:a,cy:d,rx:k,ry:p});return this.el(\"ellipse\",b)};\n",
       "w.path=function(a){var d;z(a,\"object\")&&!z(a,\"array\")?d=a:a&&(d={d:a});return this.el(\"path\",d)};w.group=w.g=function(a){var d=this.el(\"g\");1==arguments.length&&a&&!a.type?d.attr(a):arguments.length&&d.add(Array.prototype.slice.call(arguments,0));return d};w.svg=function(a,d,k,p,b,q,e,l){var r={};z(a,\"object\")&&null==d?r=a:(null!=a&&(r.x=a),null!=d&&(r.y=d),null!=k&&(r.width=k),null!=p&&(r.height=p),null!=b&&null!=q&&null!=e&&null!=l&&(r.viewBox=[b,q,e,l]));return this.el(\"svg\",r)};w.mask=function(a){var d=\n",
       "this.el(\"mask\");1==arguments.length&&a&&!a.type?d.attr(a):arguments.length&&d.add(Array.prototype.slice.call(arguments,0));return d};w.ptrn=function(a,d,k,p,b,q,e,l){if(z(a,\"object\"))var r=a;else arguments.length?(r={},null!=a&&(r.x=a),null!=d&&(r.y=d),null!=k&&(r.width=k),null!=p&&(r.height=p),null!=b&&null!=q&&null!=e&&null!=l&&(r.viewBox=[b,q,e,l])):r={patternUnits:\"userSpaceOnUse\"};return this.el(\"pattern\",r)};w.use=function(a){return null!=a?(make(\"use\",this.node),a instanceof v&&(a.attr(\"id\")||\n",
       "a.attr({id:ID()}),a=a.attr(\"id\")),this.el(\"use\",{\"xlink:href\":a})):v.prototype.use.call(this)};w.text=function(a,d,k){var p={};z(a,\"object\")?p=a:null!=a&&(p={x:a,y:d,text:k||\"\"});return this.el(\"text\",p)};w.line=function(a,d,k,p){var b={};z(a,\"object\")?b=a:null!=a&&(b={x1:a,x2:k,y1:d,y2:p});return this.el(\"line\",b)};w.polyline=function(a){1<arguments.length&&(a=Array.prototype.slice.call(arguments,0));var d={};z(a,\"object\")&&!z(a,\"array\")?d=a:null!=a&&(d={points:a});return this.el(\"polyline\",d)};\n",
       "w.polygon=function(a){1<arguments.length&&(a=Array.prototype.slice.call(arguments,0));var d={};z(a,\"object\")&&!z(a,\"array\")?d=a:null!=a&&(d={points:a});return this.el(\"polygon\",d)};(function(){function d(){return this.selectAll(\"stop\")}function n(b,d){var f=e(\"stop\"),k={offset:+d+\"%\"};b=a.color(b);k[\"stop-color\"]=b.hex;1>b.opacity&&(k[\"stop-opacity\"]=b.opacity);e(f,k);this.node.appendChild(f);return this}function u(){if(\"linearGradient\"==this.type){var b=e(this.node,\"x1\")||0,d=e(this.node,\"x2\")||\n",
       "1,f=e(this.node,\"y1\")||0,k=e(this.node,\"y2\")||0;return a._.box(b,f,math.abs(d-b),math.abs(k-f))}b=this.node.r||0;return a._.box((this.node.cx||0.5)-b,(this.node.cy||0.5)-b,2*b,2*b)}function p(a,d){function f(a,b){for(var d=(b-u)/(a-w),e=w;e<a;e++)h[e].offset=+(+u+d*(e-w)).toFixed(2);w=a;u=b}var n=k(\"snap.util.grad.parse\",null,d).firstDefined(),p;if(!n)return null;n.params.unshift(a);p=\"l\"==n.type.toLowerCase()?b.apply(0,n.params):q.apply(0,n.params);n.type!=n.type.toLowerCase()&&e(p.node,{gradientUnits:\"userSpaceOnUse\"});\n",
       "var h=n.stops,n=h.length,u=0,w=0;n--;for(var v=0;v<n;v++)\"offset\"in h[v]&&f(v,h[v].offset);h[n].offset=h[n].offset||100;f(n,h[n].offset);for(v=0;v<=n;v++){var y=h[v];p.addStop(y.color,y.offset)}return p}function b(b,k,p,q,w){b=a._.make(\"linearGradient\",b);b.stops=d;b.addStop=n;b.getBBox=u;null!=k&&e(b.node,{x1:k,y1:p,x2:q,y2:w});return b}function q(b,k,p,q,w,h){b=a._.make(\"radialGradient\",b);b.stops=d;b.addStop=n;b.getBBox=u;null!=k&&e(b.node,{cx:k,cy:p,r:q});null!=w&&null!=h&&e(b.node,{fx:w,fy:h});\n",
       "return b}var e=a._.$;w.gradient=function(a){return p(this.defs,a)};w.gradientLinear=function(a,d,e,f){return b(this.defs,a,d,e,f)};w.gradientRadial=function(a,b,d,e,f){return q(this.defs,a,b,d,e,f)};w.toString=function(){var b=this.node.ownerDocument,d=b.createDocumentFragment(),b=b.createElement(\"div\"),e=this.node.cloneNode(!0);d.appendChild(b);b.appendChild(e);a._.$(e,{xmlns:\"http://www.w3.org/2000/svg\"});b=b.innerHTML;d.removeChild(d.firstChild);return b};w.clear=function(){for(var a=this.node.firstChild,\n",
       "b;a;)b=a.nextSibling,\"defs\"!=a.tagName?a.parentNode.removeChild(a):w.clear.call({node:a}),a=b}})()});C.plugin(function(a,k,y,M){function A(a){var b=A.ps=A.ps||{};b[a]?b[a].sleep=100:b[a]={sleep:100};setTimeout(function(){for(var d in b)b[L](d)&&d!=a&&(b[d].sleep--,!b[d].sleep&&delete b[d])});return b[a]}function w(a,b,d,e){null==a&&(a=b=d=e=0);null==b&&(b=a.y,d=a.width,e=a.height,a=a.x);return{x:a,y:b,width:d,w:d,height:e,h:e,x2:a+d,y2:b+e,cx:a+d/2,cy:b+e/2,r1:F.min(d,e)/2,r2:F.max(d,e)/2,r0:F.sqrt(d*\n",
       "d+e*e)/2,path:s(a,b,d,e),vb:[a,b,d,e].join(\" \")}}function z(){return this.join(\",\").replace(N,\"$1\")}function d(a){a=C(a);a.toString=z;return a}function f(a,b,d,h,f,k,l,n,p){if(null==p)return e(a,b,d,h,f,k,l,n);if(0>p||e(a,b,d,h,f,k,l,n)<p)p=void 0;else{var q=0.5,O=1-q,s;for(s=e(a,b,d,h,f,k,l,n,O);0.01<Z(s-p);)q/=2,O+=(s<p?1:-1)*q,s=e(a,b,d,h,f,k,l,n,O);p=O}return u(a,b,d,h,f,k,l,n,p)}function n(b,d){function e(a){return+(+a).toFixed(3)}return a._.cacher(function(a,h,l){a instanceof k&&(a=a.attr(\"d\"));\n",
       "a=I(a);for(var n,p,D,q,O=\"\",s={},c=0,t=0,r=a.length;t<r;t++){D=a[t];if(\"M\"==D[0])n=+D[1],p=+D[2];else{q=f(n,p,D[1],D[2],D[3],D[4],D[5],D[6]);if(c+q>h){if(d&&!s.start){n=f(n,p,D[1],D[2],D[3],D[4],D[5],D[6],h-c);O+=[\"C\"+e(n.start.x),e(n.start.y),e(n.m.x),e(n.m.y),e(n.x),e(n.y)];if(l)return O;s.start=O;O=[\"M\"+e(n.x),e(n.y)+\"C\"+e(n.n.x),e(n.n.y),e(n.end.x),e(n.end.y),e(D[5]),e(D[6])].join();c+=q;n=+D[5];p=+D[6];continue}if(!b&&!d)return n=f(n,p,D[1],D[2],D[3],D[4],D[5],D[6],h-c)}c+=q;n=+D[5];p=+D[6]}O+=\n",
       "D.shift()+D}s.end=O;return n=b?c:d?s:u(n,p,D[0],D[1],D[2],D[3],D[4],D[5],1)},null,a._.clone)}function u(a,b,d,e,h,f,k,l,n){var p=1-n,q=ma(p,3),s=ma(p,2),c=n*n,t=c*n,r=q*a+3*s*n*d+3*p*n*n*h+t*k,q=q*b+3*s*n*e+3*p*n*n*f+t*l,s=a+2*n*(d-a)+c*(h-2*d+a),t=b+2*n*(e-b)+c*(f-2*e+b),x=d+2*n*(h-d)+c*(k-2*h+d),c=e+2*n*(f-e)+c*(l-2*f+e);a=p*a+n*d;b=p*b+n*e;h=p*h+n*k;f=p*f+n*l;l=90-180*F.atan2(s-x,t-c)/S;return{x:r,y:q,m:{x:s,y:t},n:{x:x,y:c},start:{x:a,y:b},end:{x:h,y:f},alpha:l}}function p(b,d,e,h,f,n,k,l){a.is(b,\n",
       "\"array\")||(b=[b,d,e,h,f,n,k,l]);b=U.apply(null,b);return w(b.min.x,b.min.y,b.max.x-b.min.x,b.max.y-b.min.y)}function b(a,b,d){return b>=a.x&&b<=a.x+a.width&&d>=a.y&&d<=a.y+a.height}function q(a,d){a=w(a);d=w(d);return b(d,a.x,a.y)||b(d,a.x2,a.y)||b(d,a.x,a.y2)||b(d,a.x2,a.y2)||b(a,d.x,d.y)||b(a,d.x2,d.y)||b(a,d.x,d.y2)||b(a,d.x2,d.y2)||(a.x<d.x2&&a.x>d.x||d.x<a.x2&&d.x>a.x)&&(a.y<d.y2&&a.y>d.y||d.y<a.y2&&d.y>a.y)}function e(a,b,d,e,h,f,n,k,l){null==l&&(l=1);l=(1<l?1:0>l?0:l)/2;for(var p=[-0.1252,\n",
       "0.1252,-0.3678,0.3678,-0.5873,0.5873,-0.7699,0.7699,-0.9041,0.9041,-0.9816,0.9816],q=[0.2491,0.2491,0.2335,0.2335,0.2032,0.2032,0.1601,0.1601,0.1069,0.1069,0.0472,0.0472],s=0,c=0;12>c;c++)var t=l*p[c]+l,r=t*(t*(-3*a+9*d-9*h+3*n)+6*a-12*d+6*h)-3*a+3*d,t=t*(t*(-3*b+9*e-9*f+3*k)+6*b-12*e+6*f)-3*b+3*e,s=s+q[c]*F.sqrt(r*r+t*t);return l*s}function l(a,b,d){a=I(a);b=I(b);for(var h,f,l,n,k,s,r,O,x,c,t=d?0:[],w=0,v=a.length;w<v;w++)if(x=a[w],\"M\"==x[0])h=k=x[1],f=s=x[2];else{\"C\"==x[0]?(x=[h,f].concat(x.slice(1)),\n",
       "h=x[6],f=x[7]):(x=[h,f,h,f,k,s,k,s],h=k,f=s);for(var G=0,y=b.length;G<y;G++)if(c=b[G],\"M\"==c[0])l=r=c[1],n=O=c[2];else{\"C\"==c[0]?(c=[l,n].concat(c.slice(1)),l=c[6],n=c[7]):(c=[l,n,l,n,r,O,r,O],l=r,n=O);var z;var K=x,B=c;z=d;var H=p(K),J=p(B);if(q(H,J)){for(var H=e.apply(0,K),J=e.apply(0,B),H=~~(H/8),J=~~(J/8),U=[],A=[],F={},M=z?0:[],P=0;P<H+1;P++){var C=u.apply(0,K.concat(P/H));U.push({x:C.x,y:C.y,t:P/H})}for(P=0;P<J+1;P++)C=u.apply(0,B.concat(P/J)),A.push({x:C.x,y:C.y,t:P/J});for(P=0;P<H;P++)for(K=\n",
       "0;K<J;K++){var Q=U[P],L=U[P+1],B=A[K],C=A[K+1],N=0.001>Z(L.x-Q.x)?\"y\":\"x\",S=0.001>Z(C.x-B.x)?\"y\":\"x\",R;R=Q.x;var Y=Q.y,V=L.x,ea=L.y,fa=B.x,ga=B.y,ha=C.x,ia=C.y;if(W(R,V)<X(fa,ha)||X(R,V)>W(fa,ha)||W(Y,ea)<X(ga,ia)||X(Y,ea)>W(ga,ia))R=void 0;else{var $=(R*ea-Y*V)*(fa-ha)-(R-V)*(fa*ia-ga*ha),aa=(R*ea-Y*V)*(ga-ia)-(Y-ea)*(fa*ia-ga*ha),ja=(R-V)*(ga-ia)-(Y-ea)*(fa-ha);if(ja){var $=$/ja,aa=aa/ja,ja=+$.toFixed(2),ba=+aa.toFixed(2);R=ja<+X(R,V).toFixed(2)||ja>+W(R,V).toFixed(2)||ja<+X(fa,ha).toFixed(2)||\n",
       "ja>+W(fa,ha).toFixed(2)||ba<+X(Y,ea).toFixed(2)||ba>+W(Y,ea).toFixed(2)||ba<+X(ga,ia).toFixed(2)||ba>+W(ga,ia).toFixed(2)?void 0:{x:$,y:aa}}else R=void 0}R&&F[R.x.toFixed(4)]!=R.y.toFixed(4)&&(F[R.x.toFixed(4)]=R.y.toFixed(4),Q=Q.t+Z((R[N]-Q[N])/(L[N]-Q[N]))*(L.t-Q.t),B=B.t+Z((R[S]-B[S])/(C[S]-B[S]))*(C.t-B.t),0<=Q&&1>=Q&&0<=B&&1>=B&&(z?M++:M.push({x:R.x,y:R.y,t1:Q,t2:B})))}z=M}else z=z?0:[];if(d)t+=z;else{H=0;for(J=z.length;H<J;H++)z[H].segment1=w,z[H].segment2=G,z[H].bez1=x,z[H].bez2=c;t=t.concat(z)}}}return t}\n",
       "function r(a){var b=A(a);if(b.bbox)return C(b.bbox);if(!a)return w();a=I(a);for(var d=0,e=0,h=[],f=[],l,n=0,k=a.length;n<k;n++)l=a[n],\"M\"==l[0]?(d=l[1],e=l[2],h.push(d),f.push(e)):(d=U(d,e,l[1],l[2],l[3],l[4],l[5],l[6]),h=h.concat(d.min.x,d.max.x),f=f.concat(d.min.y,d.max.y),d=l[5],e=l[6]);a=X.apply(0,h);l=X.apply(0,f);h=W.apply(0,h);f=W.apply(0,f);f=w(a,l,h-a,f-l);b.bbox=C(f);return f}function s(a,b,d,e,h){if(h)return[[\"M\",+a+ +h,b],[\"l\",d-2*h,0],[\"a\",h,h,0,0,1,h,h],[\"l\",0,e-2*h],[\"a\",h,h,0,0,1,\n",
       "-h,h],[\"l\",2*h-d,0],[\"a\",h,h,0,0,1,-h,-h],[\"l\",0,2*h-e],[\"a\",h,h,0,0,1,h,-h],[\"z\"] ];a=[[\"M\",a,b],[\"l\",d,0],[\"l\",0,e],[\"l\",-d,0],[\"z\"] ];a.toString=z;return a}function x(a,b,d,e,h){null==h&&null==e&&(e=d);a=+a;b=+b;d=+d;e=+e;if(null!=h){var f=Math.PI/180,l=a+d*Math.cos(-e*f);a+=d*Math.cos(-h*f);var n=b+d*Math.sin(-e*f);b+=d*Math.sin(-h*f);d=[[\"M\",l,n],[\"A\",d,d,0,+(180<h-e),0,a,b] ]}else d=[[\"M\",a,b],[\"m\",0,-e],[\"a\",d,e,0,1,1,0,2*e],[\"a\",d,e,0,1,1,0,-2*e],[\"z\"] ];d.toString=z;return d}function G(b){var e=\n",
       "A(b);if(e.abs)return d(e.abs);Q(b,\"array\")&&Q(b&&b[0],\"array\")||(b=a.parsePathString(b));if(!b||!b.length)return[[\"M\",0,0] ];var h=[],f=0,l=0,n=0,k=0,p=0;\"M\"==b[0][0]&&(f=+b[0][1],l=+b[0][2],n=f,k=l,p++,h[0]=[\"M\",f,l]);for(var q=3==b.length&&\"M\"==b[0][0]&&\"R\"==b[1][0].toUpperCase()&&\"Z\"==b[2][0].toUpperCase(),s,r,w=p,c=b.length;w<c;w++){h.push(s=[]);r=b[w];p=r[0];if(p!=p.toUpperCase())switch(s[0]=p.toUpperCase(),s[0]){case \"A\":s[1]=r[1];s[2]=r[2];s[3]=r[3];s[4]=r[4];s[5]=r[5];s[6]=+r[6]+f;s[7]=+r[7]+\n",
       "l;break;case \"V\":s[1]=+r[1]+l;break;case \"H\":s[1]=+r[1]+f;break;case \"R\":for(var t=[f,l].concat(r.slice(1)),u=2,v=t.length;u<v;u++)t[u]=+t[u]+f,t[++u]=+t[u]+l;h.pop();h=h.concat(P(t,q));break;case \"O\":h.pop();t=x(f,l,r[1],r[2]);t.push(t[0]);h=h.concat(t);break;case \"U\":h.pop();h=h.concat(x(f,l,r[1],r[2],r[3]));s=[\"U\"].concat(h[h.length-1].slice(-2));break;case \"M\":n=+r[1]+f,k=+r[2]+l;default:for(u=1,v=r.length;u<v;u++)s[u]=+r[u]+(u%2?f:l)}else if(\"R\"==p)t=[f,l].concat(r.slice(1)),h.pop(),h=h.concat(P(t,\n",
       "q)),s=[\"R\"].concat(r.slice(-2));else if(\"O\"==p)h.pop(),t=x(f,l,r[1],r[2]),t.push(t[0]),h=h.concat(t);else if(\"U\"==p)h.pop(),h=h.concat(x(f,l,r[1],r[2],r[3])),s=[\"U\"].concat(h[h.length-1].slice(-2));else for(t=0,u=r.length;t<u;t++)s[t]=r[t];p=p.toUpperCase();if(\"O\"!=p)switch(s[0]){case \"Z\":f=+n;l=+k;break;case \"H\":f=s[1];break;case \"V\":l=s[1];break;case \"M\":n=s[s.length-2],k=s[s.length-1];default:f=s[s.length-2],l=s[s.length-1]}}h.toString=z;e.abs=d(h);return h}function h(a,b,d,e){return[a,b,d,e,d,\n",
       "e]}function J(a,b,d,e,h,f){var l=1/3,n=2/3;return[l*a+n*d,l*b+n*e,l*h+n*d,l*f+n*e,h,f]}function K(b,d,e,h,f,l,n,k,p,s){var r=120*S/180,q=S/180*(+f||0),c=[],t,x=a._.cacher(function(a,b,c){var d=a*F.cos(c)-b*F.sin(c);a=a*F.sin(c)+b*F.cos(c);return{x:d,y:a}});if(s)v=s[0],t=s[1],l=s[2],u=s[3];else{t=x(b,d,-q);b=t.x;d=t.y;t=x(k,p,-q);k=t.x;p=t.y;F.cos(S/180*f);F.sin(S/180*f);t=(b-k)/2;v=(d-p)/2;u=t*t/(e*e)+v*v/(h*h);1<u&&(u=F.sqrt(u),e*=u,h*=u);var u=e*e,w=h*h,u=(l==n?-1:1)*F.sqrt(Z((u*w-u*v*v-w*t*t)/\n",
       "(u*v*v+w*t*t)));l=u*e*v/h+(b+k)/2;var u=u*-h*t/e+(d+p)/2,v=F.asin(((d-u)/h).toFixed(9));t=F.asin(((p-u)/h).toFixed(9));v=b<l?S-v:v;t=k<l?S-t:t;0>v&&(v=2*S+v);0>t&&(t=2*S+t);n&&v>t&&(v-=2*S);!n&&t>v&&(t-=2*S)}if(Z(t-v)>r){var c=t,w=k,G=p;t=v+r*(n&&t>v?1:-1);k=l+e*F.cos(t);p=u+h*F.sin(t);c=K(k,p,e,h,f,0,n,w,G,[t,c,l,u])}l=t-v;f=F.cos(v);r=F.sin(v);n=F.cos(t);t=F.sin(t);l=F.tan(l/4);e=4/3*e*l;l*=4/3*h;h=[b,d];b=[b+e*r,d-l*f];d=[k+e*t,p-l*n];k=[k,p];b[0]=2*h[0]-b[0];b[1]=2*h[1]-b[1];if(s)return[b,d,k].concat(c);\n",
       "c=[b,d,k].concat(c).join().split(\",\");s=[];k=0;for(p=c.length;k<p;k++)s[k]=k%2?x(c[k-1],c[k],q).y:x(c[k],c[k+1],q).x;return s}function U(a,b,d,e,h,f,l,k){for(var n=[],p=[[],[] ],s,r,c,t,q=0;2>q;++q)0==q?(r=6*a-12*d+6*h,s=-3*a+9*d-9*h+3*l,c=3*d-3*a):(r=6*b-12*e+6*f,s=-3*b+9*e-9*f+3*k,c=3*e-3*b),1E-12>Z(s)?1E-12>Z(r)||(s=-c/r,0<s&&1>s&&n.push(s)):(t=r*r-4*c*s,c=F.sqrt(t),0>t||(t=(-r+c)/(2*s),0<t&&1>t&&n.push(t),s=(-r-c)/(2*s),0<s&&1>s&&n.push(s)));for(r=q=n.length;q--;)s=n[q],c=1-s,p[0][q]=c*c*c*a+3*\n",
       "c*c*s*d+3*c*s*s*h+s*s*s*l,p[1][q]=c*c*c*b+3*c*c*s*e+3*c*s*s*f+s*s*s*k;p[0][r]=a;p[1][r]=b;p[0][r+1]=l;p[1][r+1]=k;p[0].length=p[1].length=r+2;return{min:{x:X.apply(0,p[0]),y:X.apply(0,p[1])},max:{x:W.apply(0,p[0]),y:W.apply(0,p[1])}}}function I(a,b){var e=!b&&A(a);if(!b&&e.curve)return d(e.curve);var f=G(a),l=b&&G(b),n={x:0,y:0,bx:0,by:0,X:0,Y:0,qx:null,qy:null},k={x:0,y:0,bx:0,by:0,X:0,Y:0,qx:null,qy:null},p=function(a,b,c){if(!a)return[\"C\",b.x,b.y,b.x,b.y,b.x,b.y];a[0]in{T:1,Q:1}||(b.qx=b.qy=null);\n",
       "switch(a[0]){case \"M\":b.X=a[1];b.Y=a[2];break;case \"A\":a=[\"C\"].concat(K.apply(0,[b.x,b.y].concat(a.slice(1))));break;case \"S\":\"C\"==c||\"S\"==c?(c=2*b.x-b.bx,b=2*b.y-b.by):(c=b.x,b=b.y);a=[\"C\",c,b].concat(a.slice(1));break;case \"T\":\"Q\"==c||\"T\"==c?(b.qx=2*b.x-b.qx,b.qy=2*b.y-b.qy):(b.qx=b.x,b.qy=b.y);a=[\"C\"].concat(J(b.x,b.y,b.qx,b.qy,a[1],a[2]));break;case \"Q\":b.qx=a[1];b.qy=a[2];a=[\"C\"].concat(J(b.x,b.y,a[1],a[2],a[3],a[4]));break;case \"L\":a=[\"C\"].concat(h(b.x,b.y,a[1],a[2]));break;case \"H\":a=[\"C\"].concat(h(b.x,\n",
       "b.y,a[1],b.y));break;case \"V\":a=[\"C\"].concat(h(b.x,b.y,b.x,a[1]));break;case \"Z\":a=[\"C\"].concat(h(b.x,b.y,b.X,b.Y))}return a},s=function(a,b){if(7<a[b].length){a[b].shift();for(var c=a[b];c.length;)q[b]=\"A\",l&&(u[b]=\"A\"),a.splice(b++,0,[\"C\"].concat(c.splice(0,6)));a.splice(b,1);v=W(f.length,l&&l.length||0)}},r=function(a,b,c,d,e){a&&b&&\"M\"==a[e][0]&&\"M\"!=b[e][0]&&(b.splice(e,0,[\"M\",d.x,d.y]),c.bx=0,c.by=0,c.x=a[e][1],c.y=a[e][2],v=W(f.length,l&&l.length||0))},q=[],u=[],c=\"\",t=\"\",x=0,v=W(f.length,\n",
       "l&&l.length||0);for(;x<v;x++){f[x]&&(c=f[x][0]);\"C\"!=c&&(q[x]=c,x&&(t=q[x-1]));f[x]=p(f[x],n,t);\"A\"!=q[x]&&\"C\"==c&&(q[x]=\"C\");s(f,x);l&&(l[x]&&(c=l[x][0]),\"C\"!=c&&(u[x]=c,x&&(t=u[x-1])),l[x]=p(l[x],k,t),\"A\"!=u[x]&&\"C\"==c&&(u[x]=\"C\"),s(l,x));r(f,l,n,k,x);r(l,f,k,n,x);var w=f[x],z=l&&l[x],y=w.length,U=l&&z.length;n.x=w[y-2];n.y=w[y-1];n.bx=$(w[y-4])||n.x;n.by=$(w[y-3])||n.y;k.bx=l&&($(z[U-4])||k.x);k.by=l&&($(z[U-3])||k.y);k.x=l&&z[U-2];k.y=l&&z[U-1]}l||(e.curve=d(f));return l?[f,l]:f}function P(a,\n",
       "b){for(var d=[],e=0,h=a.length;h-2*!b>e;e+=2){var f=[{x:+a[e-2],y:+a[e-1]},{x:+a[e],y:+a[e+1]},{x:+a[e+2],y:+a[e+3]},{x:+a[e+4],y:+a[e+5]}];b?e?h-4==e?f[3]={x:+a[0],y:+a[1]}:h-2==e&&(f[2]={x:+a[0],y:+a[1]},f[3]={x:+a[2],y:+a[3]}):f[0]={x:+a[h-2],y:+a[h-1]}:h-4==e?f[3]=f[2]:e||(f[0]={x:+a[e],y:+a[e+1]});d.push([\"C\",(-f[0].x+6*f[1].x+f[2].x)/6,(-f[0].y+6*f[1].y+f[2].y)/6,(f[1].x+6*f[2].x-f[3].x)/6,(f[1].y+6*f[2].y-f[3].y)/6,f[2].x,f[2].y])}return d}y=k.prototype;var Q=a.is,C=a._.clone,L=\"hasOwnProperty\",\n",
       "N=/,?([a-z]),?/gi,$=parseFloat,F=Math,S=F.PI,X=F.min,W=F.max,ma=F.pow,Z=F.abs;M=n(1);var na=n(),ba=n(0,1),V=a._unit2px;a.path=A;a.path.getTotalLength=M;a.path.getPointAtLength=na;a.path.getSubpath=function(a,b,d){if(1E-6>this.getTotalLength(a)-d)return ba(a,b).end;a=ba(a,d,1);return b?ba(a,b).end:a};y.getTotalLength=function(){if(this.node.getTotalLength)return this.node.getTotalLength()};y.getPointAtLength=function(a){return na(this.attr(\"d\"),a)};y.getSubpath=function(b,d){return a.path.getSubpath(this.attr(\"d\"),\n",
       "b,d)};a._.box=w;a.path.findDotsAtSegment=u;a.path.bezierBBox=p;a.path.isPointInsideBBox=b;a.path.isBBoxIntersect=q;a.path.intersection=function(a,b){return l(a,b)};a.path.intersectionNumber=function(a,b){return l(a,b,1)};a.path.isPointInside=function(a,d,e){var h=r(a);return b(h,d,e)&&1==l(a,[[\"M\",d,e],[\"H\",h.x2+10] ],1)%2};a.path.getBBox=r;a.path.get={path:function(a){return a.attr(\"path\")},circle:function(a){a=V(a);return x(a.cx,a.cy,a.r)},ellipse:function(a){a=V(a);return x(a.cx||0,a.cy||0,a.rx,\n",
       "a.ry)},rect:function(a){a=V(a);return s(a.x||0,a.y||0,a.width,a.height,a.rx,a.ry)},image:function(a){a=V(a);return s(a.x||0,a.y||0,a.width,a.height)},line:function(a){return\"M\"+[a.attr(\"x1\")||0,a.attr(\"y1\")||0,a.attr(\"x2\"),a.attr(\"y2\")]},polyline:function(a){return\"M\"+a.attr(\"points\")},polygon:function(a){return\"M\"+a.attr(\"points\")+\"z\"},deflt:function(a){a=a.node.getBBox();return s(a.x,a.y,a.width,a.height)}};a.path.toRelative=function(b){var e=A(b),h=String.prototype.toLowerCase;if(e.rel)return d(e.rel);\n",
       "a.is(b,\"array\")&&a.is(b&&b[0],\"array\")||(b=a.parsePathString(b));var f=[],l=0,n=0,k=0,p=0,s=0;\"M\"==b[0][0]&&(l=b[0][1],n=b[0][2],k=l,p=n,s++,f.push([\"M\",l,n]));for(var r=b.length;s<r;s++){var q=f[s]=[],x=b[s];if(x[0]!=h.call(x[0]))switch(q[0]=h.call(x[0]),q[0]){case \"a\":q[1]=x[1];q[2]=x[2];q[3]=x[3];q[4]=x[4];q[5]=x[5];q[6]=+(x[6]-l).toFixed(3);q[7]=+(x[7]-n).toFixed(3);break;case \"v\":q[1]=+(x[1]-n).toFixed(3);break;case \"m\":k=x[1],p=x[2];default:for(var c=1,t=x.length;c<t;c++)q[c]=+(x[c]-(c%2?l:\n",
       "n)).toFixed(3)}else for(f[s]=[],\"m\"==x[0]&&(k=x[1]+l,p=x[2]+n),q=0,c=x.length;q<c;q++)f[s][q]=x[q];x=f[s].length;switch(f[s][0]){case \"z\":l=k;n=p;break;case \"h\":l+=+f[s][x-1];break;case \"v\":n+=+f[s][x-1];break;default:l+=+f[s][x-2],n+=+f[s][x-1]}}f.toString=z;e.rel=d(f);return f};a.path.toAbsolute=G;a.path.toCubic=I;a.path.map=function(a,b){if(!b)return a;var d,e,h,f,l,n,k;a=I(a);h=0;for(l=a.length;h<l;h++)for(k=a[h],f=1,n=k.length;f<n;f+=2)d=b.x(k[f],k[f+1]),e=b.y(k[f],k[f+1]),k[f]=d,k[f+1]=e;return a};\n",
       "a.path.toString=z;a.path.clone=d});C.plugin(function(a,v,y,C){var A=Math.max,w=Math.min,z=function(a){this.items=[];this.bindings={};this.length=0;this.type=\"set\";if(a)for(var f=0,n=a.length;f<n;f++)a[f]&&(this[this.items.length]=this.items[this.items.length]=a[f],this.length++)};v=z.prototype;v.push=function(){for(var a,f,n=0,k=arguments.length;n<k;n++)if(a=arguments[n])f=this.items.length,this[f]=this.items[f]=a,this.length++;return this};v.pop=function(){this.length&&delete this[this.length--];\n",
       "return this.items.pop()};v.forEach=function(a,f){for(var n=0,k=this.items.length;n<k&&!1!==a.call(f,this.items[n],n);n++);return this};v.animate=function(d,f,n,u){\"function\"!=typeof n||n.length||(u=n,n=L.linear);d instanceof a._.Animation&&(u=d.callback,n=d.easing,f=n.dur,d=d.attr);var p=arguments;if(a.is(d,\"array\")&&a.is(p[p.length-1],\"array\"))var b=!0;var q,e=function(){q?this.b=q:q=this.b},l=0,r=u&&function(){l++==this.length&&u.call(this)};return this.forEach(function(a,l){k.once(\"snap.animcreated.\"+\n",
       "a.id,e);b?p[l]&&a.animate.apply(a,p[l]):a.animate(d,f,n,r)})};v.remove=function(){for(;this.length;)this.pop().remove();return this};v.bind=function(a,f,k){var u={};if(\"function\"==typeof f)this.bindings[a]=f;else{var p=k||a;this.bindings[a]=function(a){u[p]=a;f.attr(u)}}return this};v.attr=function(a){var f={},k;for(k in a)if(this.bindings[k])this.bindings[k](a[k]);else f[k]=a[k];a=0;for(k=this.items.length;a<k;a++)this.items[a].attr(f);return this};v.clear=function(){for(;this.length;)this.pop()};\n",
       "v.splice=function(a,f,k){a=0>a?A(this.length+a,0):a;f=A(0,w(this.length-a,f));var u=[],p=[],b=[],q;for(q=2;q<arguments.length;q++)b.push(arguments[q]);for(q=0;q<f;q++)p.push(this[a+q]);for(;q<this.length-a;q++)u.push(this[a+q]);var e=b.length;for(q=0;q<e+u.length;q++)this.items[a+q]=this[a+q]=q<e?b[q]:u[q-e];for(q=this.items.length=this.length-=f-e;this[q];)delete this[q++];return new z(p)};v.exclude=function(a){for(var f=0,k=this.length;f<k;f++)if(this[f]==a)return this.splice(f,1),!0;return!1};\n",
       "v.insertAfter=function(a){for(var f=this.items.length;f--;)this.items[f].insertAfter(a);return this};v.getBBox=function(){for(var a=[],f=[],k=[],u=[],p=this.items.length;p--;)if(!this.items[p].removed){var b=this.items[p].getBBox();a.push(b.x);f.push(b.y);k.push(b.x+b.width);u.push(b.y+b.height)}a=w.apply(0,a);f=w.apply(0,f);k=A.apply(0,k);u=A.apply(0,u);return{x:a,y:f,x2:k,y2:u,width:k-a,height:u-f,cx:a+(k-a)/2,cy:f+(u-f)/2}};v.clone=function(a){a=new z;for(var f=0,k=this.items.length;f<k;f++)a.push(this.items[f].clone());\n",
       "return a};v.toString=function(){return\"Snap\\u2018s set\"};v.type=\"set\";a.set=function(){var a=new z;arguments.length&&a.push.apply(a,Array.prototype.slice.call(arguments,0));return a}});C.plugin(function(a,v,y,C){function A(a){var b=a[0];switch(b.toLowerCase()){case \"t\":return[b,0,0];case \"m\":return[b,1,0,0,1,0,0];case \"r\":return 4==a.length?[b,0,a[2],a[3] ]:[b,0];case \"s\":return 5==a.length?[b,1,1,a[3],a[4] ]:3==a.length?[b,1,1]:[b,1]}}function w(b,d,f){d=q(d).replace(/\\.{3}|\\u2026/g,b);b=a.parseTransformString(b)||\n",
       "[];d=a.parseTransformString(d)||[];for(var k=Math.max(b.length,d.length),p=[],v=[],h=0,w,z,y,I;h<k;h++){y=b[h]||A(d[h]);I=d[h]||A(y);if(y[0]!=I[0]||\"r\"==y[0].toLowerCase()&&(y[2]!=I[2]||y[3]!=I[3])||\"s\"==y[0].toLowerCase()&&(y[3]!=I[3]||y[4]!=I[4])){b=a._.transform2matrix(b,f());d=a._.transform2matrix(d,f());p=[[\"m\",b.a,b.b,b.c,b.d,b.e,b.f] ];v=[[\"m\",d.a,d.b,d.c,d.d,d.e,d.f] ];break}p[h]=[];v[h]=[];w=0;for(z=Math.max(y.length,I.length);w<z;w++)w in y&&(p[h][w]=y[w]),w in I&&(v[h][w]=I[w])}return{from:u(p),\n",
       "to:u(v),f:n(p)}}function z(a){return a}function d(a){return function(b){return+b.toFixed(3)+a}}function f(b){return a.rgb(b[0],b[1],b[2])}function n(a){var b=0,d,f,k,n,h,p,q=[];d=0;for(f=a.length;d<f;d++){h=\"[\";p=['\"'+a[d][0]+'\"'];k=1;for(n=a[d].length;k<n;k++)p[k]=\"val[\"+b++ +\"]\";h+=p+\"]\";q[d]=h}return Function(\"val\",\"return Snap.path.toString.call([\"+q+\"])\")}function u(a){for(var b=[],d=0,f=a.length;d<f;d++)for(var k=1,n=a[d].length;k<n;k++)b.push(a[d][k]);return b}var p={},b=/[a-z]+$/i,q=String;\n",
       "p.stroke=p.fill=\"colour\";v.prototype.equal=function(a,b){return k(\"snap.util.equal\",this,a,b).firstDefined()};k.on(\"snap.util.equal\",function(e,k){var r,s;r=q(this.attr(e)||\"\");var x=this;if(r==+r&&k==+k)return{from:+r,to:+k,f:z};if(\"colour\"==p[e])return r=a.color(r),s=a.color(k),{from:[r.r,r.g,r.b,r.opacity],to:[s.r,s.g,s.b,s.opacity],f:f};if(\"transform\"==e||\"gradientTransform\"==e||\"patternTransform\"==e)return k instanceof a.Matrix&&(k=k.toTransformString()),a._.rgTransform.test(k)||(k=a._.svgTransform2string(k)),\n",
       "w(r,k,function(){return x.getBBox(1)});if(\"d\"==e||\"path\"==e)return r=a.path.toCubic(r,k),{from:u(r[0]),to:u(r[1]),f:n(r[0])};if(\"points\"==e)return r=q(r).split(a._.separator),s=q(k).split(a._.separator),{from:r,to:s,f:function(a){return a}};aUnit=r.match(b);s=q(k).match(b);return aUnit&&aUnit==s?{from:parseFloat(r),to:parseFloat(k),f:d(aUnit)}:{from:this.asPX(e),to:this.asPX(e,k),f:z}})});C.plugin(function(a,v,y,C){var A=v.prototype,w=\"createTouch\"in C.doc;v=\"click dblclick mousedown mousemove mouseout mouseover mouseup touchstart touchmove touchend touchcancel\".split(\" \");\n",
       "var z={mousedown:\"touchstart\",mousemove:\"touchmove\",mouseup:\"touchend\"},d=function(a,b){var d=\"y\"==a?\"scrollTop\":\"scrollLeft\",e=b&&b.node?b.node.ownerDocument:C.doc;return e[d in e.documentElement?\"documentElement\":\"body\"][d]},f=function(){this.returnValue=!1},n=function(){return this.originalEvent.preventDefault()},u=function(){this.cancelBubble=!0},p=function(){return this.originalEvent.stopPropagation()},b=function(){if(C.doc.addEventListener)return function(a,b,e,f){var k=w&&z[b]?z[b]:b,l=function(k){var l=\n",
       "d(\"y\",f),q=d(\"x\",f);if(w&&z.hasOwnProperty(b))for(var r=0,u=k.targetTouches&&k.targetTouches.length;r<u;r++)if(k.targetTouches[r].target==a||a.contains(k.targetTouches[r].target)){u=k;k=k.targetTouches[r];k.originalEvent=u;k.preventDefault=n;k.stopPropagation=p;break}return e.call(f,k,k.clientX+q,k.clientY+l)};b!==k&&a.addEventListener(b,l,!1);a.addEventListener(k,l,!1);return function(){b!==k&&a.removeEventListener(b,l,!1);a.removeEventListener(k,l,!1);return!0}};if(C.doc.attachEvent)return function(a,\n",
       "b,e,h){var k=function(a){a=a||h.node.ownerDocument.window.event;var b=d(\"y\",h),k=d(\"x\",h),k=a.clientX+k,b=a.clientY+b;a.preventDefault=a.preventDefault||f;a.stopPropagation=a.stopPropagation||u;return e.call(h,a,k,b)};a.attachEvent(\"on\"+b,k);return function(){a.detachEvent(\"on\"+b,k);return!0}}}(),q=[],e=function(a){for(var b=a.clientX,e=a.clientY,f=d(\"y\"),l=d(\"x\"),n,p=q.length;p--;){n=q[p];if(w)for(var r=a.touches&&a.touches.length,u;r--;){if(u=a.touches[r],u.identifier==n.el._drag.id||n.el.node.contains(u.target)){b=\n",
       "u.clientX;e=u.clientY;(a.originalEvent?a.originalEvent:a).preventDefault();break}}else a.preventDefault();b+=l;e+=f;k(\"snap.drag.move.\"+n.el.id,n.move_scope||n.el,b-n.el._drag.x,e-n.el._drag.y,b,e,a)}},l=function(b){a.unmousemove(e).unmouseup(l);for(var d=q.length,f;d--;)f=q[d],f.el._drag={},k(\"snap.drag.end.\"+f.el.id,f.end_scope||f.start_scope||f.move_scope||f.el,b);q=[]};for(y=v.length;y--;)(function(d){a[d]=A[d]=function(e,f){a.is(e,\"function\")&&(this.events=this.events||[],this.events.push({name:d,\n",
       "f:e,unbind:b(this.node||document,d,e,f||this)}));return this};a[\"un\"+d]=A[\"un\"+d]=function(a){for(var b=this.events||[],e=b.length;e--;)if(b[e].name==d&&(b[e].f==a||!a)){b[e].unbind();b.splice(e,1);!b.length&&delete this.events;break}return this}})(v[y]);A.hover=function(a,b,d,e){return this.mouseover(a,d).mouseout(b,e||d)};A.unhover=function(a,b){return this.unmouseover(a).unmouseout(b)};var r=[];A.drag=function(b,d,f,h,n,p){function u(r,v,w){(r.originalEvent||r).preventDefault();this._drag.x=v;\n",
       "this._drag.y=w;this._drag.id=r.identifier;!q.length&&a.mousemove(e).mouseup(l);q.push({el:this,move_scope:h,start_scope:n,end_scope:p});d&&k.on(\"snap.drag.start.\"+this.id,d);b&&k.on(\"snap.drag.move.\"+this.id,b);f&&k.on(\"snap.drag.end.\"+this.id,f);k(\"snap.drag.start.\"+this.id,n||h||this,v,w,r)}if(!arguments.length){var v;return this.drag(function(a,b){this.attr({transform:v+(v?\"T\":\"t\")+[a,b]})},function(){v=this.transform().local})}this._drag={};r.push({el:this,start:u});this.mousedown(u);return this};\n",
       "A.undrag=function(){for(var b=r.length;b--;)r[b].el==this&&(this.unmousedown(r[b].start),r.splice(b,1),k.unbind(\"snap.drag.*.\"+this.id));!r.length&&a.unmousemove(e).unmouseup(l);return this}});C.plugin(function(a,v,y,C){y=y.prototype;var A=/^\\s*url\\((.+)\\)/,w=String,z=a._.$;a.filter={};y.filter=function(d){var f=this;\"svg\"!=f.type&&(f=f.paper);d=a.parse(w(d));var k=a._.id(),u=z(\"filter\");z(u,{id:k,filterUnits:\"userSpaceOnUse\"});u.appendChild(d.node);f.defs.appendChild(u);return new v(u)};k.on(\"snap.util.getattr.filter\",\n",
       "function(){k.stop();var d=z(this.node,\"filter\");if(d)return(d=w(d).match(A))&&a.select(d[1])});k.on(\"snap.util.attr.filter\",function(d){if(d instanceof v&&\"filter\"==d.type){k.stop();var f=d.node.id;f||(z(d.node,{id:d.id}),f=d.id);z(this.node,{filter:a.url(f)})}d&&\"none\"!=d||(k.stop(),this.node.removeAttribute(\"filter\"))});a.filter.blur=function(d,f){null==d&&(d=2);return a.format('<feGaussianBlur stdDeviation=\"{def}\"/>',{def:null==f?d:[d,f]})};a.filter.blur.toString=function(){return this()};a.filter.shadow=\n",
       "function(d,f,k,u,p){\"string\"==typeof k&&(p=u=k,k=4);\"string\"!=typeof u&&(p=u,u=\"#000\");null==k&&(k=4);null==p&&(p=1);null==d&&(d=0,f=2);null==f&&(f=d);u=a.color(u||\"#000\");return a.format('<feGaussianBlur in=\"SourceAlpha\" stdDeviation=\"{blur}\"/><feOffset dx=\"{dx}\" dy=\"{dy}\" result=\"offsetblur\"/><feFlood flood-color=\"{color}\"/><feComposite in2=\"offsetblur\" operator=\"in\"/><feComponentTransfer><feFuncA type=\"linear\" slope=\"{opacity}\"/></feComponentTransfer><feMerge><feMergeNode/><feMergeNode in=\"SourceGraphic\"/></feMerge>',\n",
       "{color:u,dx:d,dy:f,blur:k,opacity:p})};a.filter.shadow.toString=function(){return this()};a.filter.grayscale=function(d){null==d&&(d=1);return a.format('<feColorMatrix type=\"matrix\" values=\"{a} {b} {c} 0 0 {d} {e} {f} 0 0 {g} {b} {h} 0 0 0 0 0 1 0\"/>',{a:0.2126+0.7874*(1-d),b:0.7152-0.7152*(1-d),c:0.0722-0.0722*(1-d),d:0.2126-0.2126*(1-d),e:0.7152+0.2848*(1-d),f:0.0722-0.0722*(1-d),g:0.2126-0.2126*(1-d),h:0.0722+0.9278*(1-d)})};a.filter.grayscale.toString=function(){return this()};a.filter.sepia=\n",
       "function(d){null==d&&(d=1);return a.format('<feColorMatrix type=\"matrix\" values=\"{a} {b} {c} 0 0 {d} {e} {f} 0 0 {g} {h} {i} 0 0 0 0 0 1 0\"/>',{a:0.393+0.607*(1-d),b:0.769-0.769*(1-d),c:0.189-0.189*(1-d),d:0.349-0.349*(1-d),e:0.686+0.314*(1-d),f:0.168-0.168*(1-d),g:0.272-0.272*(1-d),h:0.534-0.534*(1-d),i:0.131+0.869*(1-d)})};a.filter.sepia.toString=function(){return this()};a.filter.saturate=function(d){null==d&&(d=1);return a.format('<feColorMatrix type=\"saturate\" values=\"{amount}\"/>',{amount:1-\n",
       "d})};a.filter.saturate.toString=function(){return this()};a.filter.hueRotate=function(d){return a.format('<feColorMatrix type=\"hueRotate\" values=\"{angle}\"/>',{angle:d||0})};a.filter.hueRotate.toString=function(){return this()};a.filter.invert=function(d){null==d&&(d=1);return a.format('<feComponentTransfer><feFuncR type=\"table\" tableValues=\"{amount} {amount2}\"/><feFuncG type=\"table\" tableValues=\"{amount} {amount2}\"/><feFuncB type=\"table\" tableValues=\"{amount} {amount2}\"/></feComponentTransfer>',{amount:d,\n",
       "amount2:1-d})};a.filter.invert.toString=function(){return this()};a.filter.brightness=function(d){null==d&&(d=1);return a.format('<feComponentTransfer><feFuncR type=\"linear\" slope=\"{amount}\"/><feFuncG type=\"linear\" slope=\"{amount}\"/><feFuncB type=\"linear\" slope=\"{amount}\"/></feComponentTransfer>',{amount:d})};a.filter.brightness.toString=function(){return this()};a.filter.contrast=function(d){null==d&&(d=1);return a.format('<feComponentTransfer><feFuncR type=\"linear\" slope=\"{amount}\" intercept=\"{amount2}\"/><feFuncG type=\"linear\" slope=\"{amount}\" intercept=\"{amount2}\"/><feFuncB type=\"linear\" slope=\"{amount}\" intercept=\"{amount2}\"/></feComponentTransfer>',\n",
       "{amount:d,amount2:0.5-d/2})};a.filter.contrast.toString=function(){return this()}});return C});\n",
       "]]></script>\n",
       "    <script><![CDATA[\n",
       "        (function(glob, factory){\n",
       "    if (typeof define == \"function\" && define.amd) {\n",
       "        define(\"ProfileView\", [\"Snap.svg\"], function (Snap){\n",
       "            return factory(Snap);\n",
       "        });\n",
       "    }\n",
       "    else {\n",
       "        glob.ProfileView = factory(glob.Snap);\n",
       "    }\n",
       "}(this, function(Snap){\n",
       "    var ProfileView = {};\n",
       "\n",
       "    var avgcharwidth = 6;\n",
       "    var default_transition_time = 300;\n",
       "    var viewport_scale = 0.9;\n",
       "\n",
       "    var format_text = function(text, available_len){\n",
       "        if (available_len < 3*avgcharwidth) {\n",
       "            return \"\";\n",
       "        }\n",
       "        else if (text.length*avgcharwidth > available_len) {\n",
       "            nchars = Math.round(available_len/avgcharwidth)-2;\n",
       "            return text.slice(0,nchars) + \"..\"\n",
       "        }\n",
       "        return text;\n",
       "    }\n",
       "\n",
       "    // Shift the view port to center on xc, then scale in the x direction\n",
       "    ProfileView.move_and_zoom = function(xc, xs, xScale, fig, delta_t){\n",
       "        if (typeof delta_t === 'undefined') { delta_t = default_transition_time; }\n",
       "        if (typeof xs === 'undefined') {xs = xc;}\n",
       "\n",
       "        var oldScale = fig.scale;\n",
       "        var oldShift = fig.shift;\n",
       "\n",
       "        fig.scale = xScale;\n",
       "        fig.shift = xc;\n",
       "\n",
       "        xScale *= viewport_scale;\n",
       "\n",
       "        var oldxshift = -(oldShift - 0.5*fig.clip_width);\n",
       "        var xshift = -(xc - 0.5*fig.clip_width);\n",
       "\n",
       "        fig.texts.forEach(function(text){\n",
       "            text.node.textContent = \"\";\n",
       "        });\n",
       "\n",
       "        if (delta_t != 0){\n",
       "            Snap.animate(0, 1, function(step){\n",
       "\n",
       "                var scale = oldScale + (xScale - oldScale)*step\n",
       "                var rMatrix = new Snap.Matrix;\n",
       "                rMatrix.translate(oldxshift + (xshift - oldxshift)*step, 0);\n",
       "                rMatrix.scale(scale, 1, xs, fig.clip_middle);\n",
       "                fig.viewport.attr({\n",
       "                    transform: rMatrix\n",
       "                })\n",
       "                fig.rects.forEach(function(rect){\n",
       "                    rect.attr({\n",
       "                        rx: 2/scale,\n",
       "                        ry: 2/scale\n",
       "                    });\n",
       "                })\n",
       "\n",
       "            }, delta_t, null, function(){\n",
       "                fig.rects.forEach(function(rect, i){\n",
       "                    var bbox = rect.getBBox();\n",
       "                    var text = fig.texts[i];\n",
       "                    var shortinfo = rect.node.getAttribute(\"data-shortinfo\");\n",
       "\n",
       "                    var tMatrix = new Snap.Matrix;\n",
       "                    tMatrix.scale(1.0/xScale, 1, bbox.x, bbox.y);\n",
       "\n",
       "                    text.node.textContent = format_text(shortinfo, bbox.w*xScale);\n",
       "                    text.transform(tMatrix);\n",
       "                });\n",
       "            });\n",
       "        }\n",
       "        else {\n",
       "            var rMatrix = new Snap.Matrix;\n",
       "            rMatrix.translate(xshift, 0);\n",
       "            rMatrix.scale(xScale, 1, xs, fig.clip_middle);\n",
       "\n",
       "            fig.viewport.transform(rMatrix);\n",
       "            fig.rects.forEach(function(rect, i){\n",
       "                rect.attr({\n",
       "                    rx: 2/xScale,\n",
       "                    ry: 2/xScale\n",
       "                });\n",
       "                var bbox = rect.getBBox();\n",
       "                var text = fig.texts[i];\n",
       "                var shortinfo = rect.node.getAttribute(\"data-shortinfo\");\n",
       "\n",
       "                var tMatrix = new Snap.Matrix;\n",
       "                tMatrix.scale(1.0/xScale, 1, bbox.x, bbox.y);\n",
       "\n",
       "                text.node.textContent = format_text(shortinfo, bbox.w*xScale);\n",
       "                text.transform(tMatrix);\n",
       "            });\n",
       "       }\n",
       "\n",
       "    }\n",
       "\n",
       "    ProfileView.reset = function(fig) {\n",
       "        ProfileView.move_and_zoom(fig.viewport_cx, fig.viewport_cx, viewport_scale, fig);\n",
       "    }\n",
       "\n",
       "    return ProfileView;\n",
       "}));\n",
       "\n",
       "        (function (glob, factory) {\n",
       "            if (typeof require === \"function\" && typeof define === \"function\" && define.amd) {\n",
       "                require([\"Snap.svg\", \"ProfileView\"], function (Snap, ProfileView) {\n",
       "                    factory(Snap, ProfileView);\n",
       "                });\n",
       "          } else {\n",
       "              factory(glob.Snap, glob.ProfileView);\n",
       "          }\n",
       "        })(window, function (Snap, ProfileView) {\n",
       "            var svg = Snap.select('svg').node;\n",
       "            var pt = svg.createSVGPoint();\n",
       "\n",
       "            var fig = {};\n",
       "\n",
       "            fig.viewport = Snap.select('#fig-1aa461de5e274ca187981b6ff4b0e7a3-viewport');\n",
       "            fig.frame = Snap.select('#fig-1aa461de5e274ca187981b6ff4b0e7a3-frame');\n",
       "\n",
       "            fig.viewport_cx = fig.viewport.getBBox().cx;\n",
       "\n",
       "            fig.rects = Snap.selectAll('#fig-1aa461de5e274ca187981b6ff4b0e7a3-viewport rect');\n",
       "            fig.texts = Snap.selectAll('#fig-1aa461de5e274ca187981b6ff4b0e7a3-viewport text');\n",
       "            fig.clip = Snap.select('#fig-1aa461de5e274ca187981b6ff4b0e7a3-clip-rect');\n",
       "            fig.clip_width  = fig.clip.getBBox().w;\n",
       "            fig.clip_middle = fig.clip.getBBox().cy;\n",
       "            fig.details = document.getElementById(\"fig-1aa461de5e274ca187981b6ff4b0e7a3-details\").firstChild; \n",
       "\n",
       "            fig.scale = 1.0;\n",
       "            fig.shift = fig.viewport_cx;\n",
       "\n",
       "            ProfileView.reset(fig)\n",
       "\n",
       "            fig.rects.forEach(function(rect, i){\n",
       "                rect.dblclick(function(){\n",
       "                    bbox = rect.getBBox();\n",
       "                    ProfileView.move_and_zoom(bbox.cx, bbox.cx, fig.clip_width/bbox.w, fig);\n",
       "                })\n",
       "                .mouseover(function(){\n",
       "                    fig.details.nodeValue = rect.node.getAttribute(\"data-info\");\n",
       "                })\n",
       "                .mouseout(function(){\n",
       "                    fig.details.nodeValue = \"\";\n",
       "                });\n",
       "\n",
       "            })\n",
       "            fig.texts.forEach(function(text, i){\n",
       "                text.dblclick(function(){\n",
       "                    bbox = fig.rects[i].getBBox();\n",
       "                    ProfileView.move_and_zoom(bbox.cx, bbox.cx, fig.clip_width/bbox.w, fig);\n",
       "                })\n",
       "                .mouseover(function(){\n",
       "                    fig.details.nodeValue = fig.rects[i].node.getAttribute(\"data-info\");\n",
       "                })\n",
       "                .mouseout(function(){\n",
       "                    fig.details.nodeValue = \"\";\n",
       "                });\n",
       "            })\n",
       "            Snap.selectAll(\"#fig-1aa461de5e274ca187981b6ff4b0e7a3-frame .pvbackground\").forEach(function(bg){\n",
       "               bg.dblclick(function(e){\n",
       "                   ProfileView.reset(fig);\n",
       "                });\n",
       "            });\n",
       "\n",
       "            function throttle(delay, callback) {\n",
       "                var previousCall = new Date().getTime();\n",
       "                return function() {\n",
       "                    var time = new Date().getTime();\n",
       "\n",
       "                    if ((time - previousCall) >= delay) {\n",
       "                        previousCall = time;\n",
       "                        callback.apply(null, arguments);\n",
       "                    }\n",
       "                    else {\n",
       "                        arguments[0].preventDefault();\n",
       "                    }\n",
       "                };\n",
       "            }\n",
       "\n",
       "            var MouseWheelHandler = throttle(400, function(e) {\n",
       "                e.preventDefault();\n",
       "                var e = window.event || e;\n",
       "                var delta = Math.max(-1, Math.min(1, (e.wheelDelta || -e.detail)));\n",
       "                pt.x = e.clientX;\n",
       "                pt.y = e.clientY;\n",
       "\n",
       "                pt.matrixTransform(fig.viewport.node.getScreenCTM().inverse());\n",
       "                var targetScale = fig.scale + 0.2*delta;\n",
       "                ProfileView.move_and_zoom(fig.shift, pt.x, targetScale, fig, 400);\n",
       "                return false;\n",
       "            })\n",
       "            frame = fig.frame.node;\n",
       "            if (frame.addEventListener) {\n",
       "                frame.addEventListener(\"mousewheel\", MouseWheelHandler, false);\n",
       "                frame.addEventListener(\"DOMMouseScroll\", MouseWheelHandler, false);\n",
       "            }\n",
       "            else {\n",
       "                frame.attachEvent(\"onmousewheel\", MouseWheelHandler);\n",
       "            }\n",
       "\n",
       "        fig.viewport.drag();\n",
       "}); ]]></script>\n",
       "</svg>\n"
      ],
      "text/plain": [
       "ProfileView.ProfileData(ColorTypes.RGB{FixedPointNumbers.Normed{UInt8,8}}[RGB{N0f8}(0.91,0.439,0.867) RGB{N0f8}(1.0,0.643,0.612) … RGB{N0f8}(0.91,0.439,0.867) RGB{N0f8}(1.0,0.643,0.612); RGB{N0f8}(0.91,0.439,0.867) RGB{N0f8}(1.0,0.643,0.612) … RGB{N0f8}(0.91,0.439,0.867) RGB{N0f8}(1.0,0.643,0.612); … ; RGB{N0f8}(0.91,0.439,0.867) RGB{N0f8}(1.0,0.643,0.612) … RGB{N0f8}(1.0,1.0,1.0) RGB{N0f8}(1.0,1.0,1.0); RGB{N0f8}(0.91,0.439,0.867) RGB{N0f8}(1.0,0.643,0.612) … RGB{N0f8}(1.0,1.0,1.0) RGB{N0f8}(1.0,1.0,1.0)],Dict(0x00007f10d19fc6fd=>StackFrame[ in gc_push_root at gc.c:1181 [inlined], in push_root at gc.c:1410],0x00007f10d19fdc46=>StackFrame[ in gc_push_root at gc.c:1183 [inlined], in gc_mark_module at gc.c:1212],0x00007f0eb99ba6b8=>StackFrame[ in execute_request(::ZMQ.Socket, ::IJulia.Msg) at execute_request.jl:157],0x00007f10d19fc90e=>StackFrame[ in gc_push_root at gc.c:1181 [inlined], in push_root at gc.c:1362],0x00007f0eb99b0500=>StackFrame[ in ip:0x7f0eb99b04ff],0x00007f10d19fb691=>StackFrame[ in sweep_page at gc.c:957 [inlined], in sweep_pool_region at gc.c:1018 [inlined], in gc_sweep_pool at gc.c:1089],0x00007f0eb99c506a=>StackFrame[ in _mapreduce(::Base.#identity, ::Base.#scalarmax, ::Base.LinearFast, ::Array{Float64,3}) at reduce.jl:162],0x00007f10d19fc075=>StackFrame[ in gc_push_root at gc.c:1184 [inlined], in push_root at gc.c:1460],0x00007f10d19fd59c=>StackFrame[ in gc_setmark_pool_ at gc.c:505 [inlined], in gc_setmark_pool at gc.c:524 [inlined], in gc_setmark at gc.c:531 [inlined], in push_root at gc.c:1353],0x00007f10d19fc69a=>StackFrame[ in push_root at gc.c:1396]…),ProfileView.TagData[ProfileView.TagData(0x00007f0eb99b04ea,0) ProfileView.TagData(0x00007f0eb99af1a3,0) … ProfileView.TagData(0x00007f0eb99c4c69,0) ProfileView.TagData(0x00007f0eb99c49f4,0); ProfileView.TagData(0x00007f0eb99b04ea,0) ProfileView.TagData(0x00007f0eb99af1a3,0) … ProfileView.TagData(0x00007f0eb99c4c69,0) ProfileView.TagData(0x00007f0eb99c49f4,0); … ; ProfileView.TagData(0x00007f0eb99b04ea,0) ProfileView.TagData(0x00007f0eb99af1a3,0) … ProfileView.TagData(0x0000000000000000,-1) ProfileView.TagData(0x0000000000000000,-1); ProfileView.TagData(0x00007f0eb99b04ea,0) ProfileView.TagData(0x00007f0eb99af1a3,0) … ProfileView.TagData(0x0000000000000000,-1) ProfileView.TagData(0x0000000000000000,-1)],12)"
      ]
     },
     "execution_count": 6,
     "metadata": {},
     "output_type": "execute_result"
    }
   ],
   "source": [
    "using ProfileView\n",
    "ProfileView.view()"
   ]
  },
  {
   "cell_type": "code",
   "execution_count": 7,
   "metadata": {
    "collapsed": true
   },
   "outputs": [],
   "source": [
    "Profile.clear()"
   ]
  },
  {
   "cell_type": "code",
   "execution_count": 8,
   "metadata": {
    "collapsed": false
   },
   "outputs": [],
   "source": [
    "function profile_test(n)\n",
    "    for i = 1:n\n",
    "        A = randn(100,100,20)\n",
    "        m = maximum(A)\n",
    "        Afft = fft(A)\n",
    "        Am = mapslices(sum, A, 2)\n",
    "        B = A[:,:,5]\n",
    "        Bsort = mapslices(sort, B, 1)\n",
    "        b = rand(100)\n",
    "        C = B.*b\n",
    "    end\n",
    "end\n",
    "\n",
    "profile_test(1)  # kompilacja\n",
    "Profile.clear()  # usuń dane z poprzedniego profilowania\n",
    "@profile profile_test(10)"
   ]
  },
  {
   "cell_type": "code",
   "execution_count": 9,
   "metadata": {
    "collapsed": false
   },
   "outputs": [
    {
     "name": "stdout",
     "output_type": "stream",
     "text": [
      "247 ./task.jl:360; (::IJulia.##13#19)()\n",
      " 247 ...Julia/src/eventloop.jl:8; eventloop(::ZMQ.Socket)\n",
      "  247 ...rc/execute_request.jl:157; execute_request(::ZMQ.Socket, ::...\n",
      "   247 ./loading.jl:441; include_string(::String, ::String)\n",
      "    247 ./<missing>:?; anonymous\n",
      "     247 ./profile.jl:16; macro expansion;\n",
      "      34  ./In[8]:3; profile_test(::Int64)\n",
      "       26 ./random.jl:1208; randn!(::MersenneTwister, ::A...\n",
      "        5  ./random.jl:0; randn(::MersenneTwister, ::Ty...\n",
      "        17 ./random.jl:1202; randn(::MersenneTwister, ::Ty...\n",
      "         7 ./random.jl:1130; randn\n",
      "          7 ./random.jl:263; rand_ui52\n",
      "           7 ./random.jl:125; rand_ui52_raw\n",
      "            3 ./random.jl:124; rand_ui52_raw_inbounds\n",
      "             3 ./random.jl:117; rand_inbounds\n",
      "              3 ./random.jl:104; mt_pop!\n",
      "            4 ./random.jl:111; reserve_1\n",
      "             4 ./random.jl:107; gen_rand\n",
      "              4 ./dSFMT.jl:75; dsfmt_fill_array_close1_ope...\n",
      "         1 ./random.jl:1131; randn\n",
      "         7 ./random.jl:1133; randn\n",
      "         2 ./random.jl:1135; randn\n",
      "          1 ./random.jl:1147; randn_unlikely(::MersenneTwi...\n",
      "      15  ./In[8]:4; profile_test(::Int64)\n",
      "       15 ./reduce.jl:162; _mapreduce(::Base.#identity, :...\n",
      "        2  ./reduce.jl:272; mapreduce_impl(::Base.#identi...\n",
      "        13 ./reduce.jl:280; mapreduce_impl(::Base.#identi...\n",
      "      103 ./In[8]:5; profile_test(::Int64)\n",
      "       8  ./dft.jl:43; copy1(::Type{Complex{Float64}}...\n",
      "       12 ./dft.jl:44; copy1(::Type{Complex{Float64}}...\n",
      "        12 ./multidimensional.jl:725; circcopy!(::Array{Complex{Flo...\n",
      "         12 ./abstractarray.jl:559; copy!(::Base.LinearFast, ::Ar...\n",
      "       83 ./dft.jl:57; fft(::Array{Complex{Float64},3...\n",
      "        3  ./fft/FFTW.jl:585; #plan_fft#5(::UInt32, ::Float...\n",
      "         1 ./fft/FFTW.jl:463; Base.DFT.FFTW.cFFTWPlan{Compl...\n",
      "          1 ./fft/FFTW.jl:419; dims_howmany(::Array{Complex{...\n",
      "           1 ./array.jl:741; hcat(::Array{Int64,1}, ::Arr...\n",
      "         2 ./fft/FFTW.jl:464; Base.DFT.FFTW.cFFTWPlan{Compl...\n",
      "        3  ./fft/FFTW.jl:617; *\n",
      "        77 ./fft/FFTW.jl:618; *\n",
      "      85  ./In[8]:6; profile_test(::Int64)\n",
      "       1  ./abstractarray.jl:1623; mapslices(::Base.#sum, ::Arra...\n",
      "       1  ./abstractarray.jl:1644; mapslices(::Base.#sum, ::Arra...\n",
      "        1 ./abstractarray.jl:832; setindex!(::Array{Float64,3}, ...\n",
      "         1 ./multidimensional.jl:365; _setindex!(::Base.LinearFast,...\n",
      "          1 ./abstractarray.jl:284; checkbounds\n",
      "       6  ./abstractarray.jl:1648; mapslices(::Base.#sum, ::Arra...\n",
      "       1  ./abstractarray.jl:1652; mapslices(::Base.#sum, ::Arra...\n",
      "       11 ./abstractarray.jl:1653; mapslices(::Base.#sum, ::Arra...\n",
      "       25 ./abstractarray.jl:1655; mapslices(::Base.#sum, ::Arra...\n",
      "        7 ./multidimensional.jl:340; _unsafe_getindex!(::Array{Floa...\n",
      "         7 ./multidimensional.jl:348; macro expansion\n",
      "          4 ./cartesian.jl:62; macro expansion\n",
      "          3 ./cartesian.jl:64; macro expansion\n",
      "           3 ./multidimensional.jl:350; macro expansion\n",
      "       39 ./abstractarray.jl:1656; mapslices(::Base.#sum, ::Arra...\n",
      "        15 ./abstractarray.jl:0; setindex!(::Array{Float64,3},...\n",
      "        10 ./abstractarray.jl:832; setindex!(::Array{Float64,3},...\n",
      "         2 ./multidimensional.jl:366; _setindex!(::Base.LinearFast,...\n",
      "      2   ./In[8]:7; profile_test(::Int64)\n",
      "       2 ./multidimensional.jl:291; _unsafe_getindex(::Base.Linear...\n",
      "        1 ./multidimensional.jl:296; macro expansion\n",
      "        1 ./multidimensional.jl:298; macro expansion\n",
      "         1 ./multidimensional.jl:340; _unsafe_getindex!\n",
      "          1 ./multidimensional.jl:348; macro expansion\n",
      "           1 ./cartesian.jl:64; macro expansion\n",
      "            1 ./multidimensional.jl:350; macro expansion\n",
      "      7   ./In[8]:8; profile_test(::Int64)\n",
      "       1 ./abstractarray.jl:1637; mapslices(::Base.#sort, ::Arra...\n",
      "       6 ./abstractarray.jl:1656; mapslices(::Base.#sort, ::Arra...\n",
      "        1 ./abstractarray.jl:832; setindex!(::Array{Float64,2}, ...\n",
      "         1 ./multidimensional.jl:421; _unsafe_batchsetindex!(::Arra...\n",
      "          1 ./multidimensional.jl:429; macro expansion\n",
      "           1 ./cartesian.jl:64; macro expansion\n",
      "            1 ./multidimensional.jl:431; macro expansion\n",
      "        5 ./sort.jl:417; sort(::Array{Float64,1})\n",
      "         5 ./sort.jl:417; #sort#8(::Array{Any,1}, ::Fun...\n",
      "          2 ./abstractarray.jl:653; copymutable\n",
      "          1 ./array.jl:65; copy!(::Array{Float64,1}, ::I...\n",
      "           1 ./array.jl:51; unsafe_copy!(::Array{Float64,...\n",
      "            1 ./array.jl:44; unsafe_copy!\n",
      "          2 ./sort.jl:623; sort!(::Array{Float64,1}, ::B...\n",
      "           1 ./sort.jl:608; fpsort!(::Array{Float64,1}, ...\n",
      "           1 ./sort.jl:614; fpsort!(::Array{Float64,1}, ...\n",
      "            1 ./sort.jl:293; sort!(::Array{Float64,1}, :...\n",
      "             1 ./sort.jl:220; sort!(::Array{Float64,1}, :...\n",
      "      1   ./In[8]:10; profile_test(::Int64)\n",
      "       1 ...rse/sparsematrix.jl:1718; .*(::Array{Float64,2}, ::Array...\n",
      "        1 ...rse/sparsematrix.jl:1681; broadcast_zpreserving\n",
      "         1 ./broadcast.jl:230; broadcast\n",
      "          1 ./broadcast.jl:228; broadcast_t\n",
      "           1 ./broadcast.jl:172; broadcast!\n",
      "            1 ./broadcast.jl:117; _broadcast!(::Base.#*, ::Ar...\n",
      "             1 ./broadcast.jl:123; macro expansion\n",
      "              1 ./simdloop.jl:72; macro expansion\n"
     ]
    }
   ],
   "source": [
    "Profile.print()"
   ]
  },
  {
   "cell_type": "code",
   "execution_count": 10,
   "metadata": {
    "collapsed": false
   },
   "outputs": [
    {
     "name": "stdout",
     "output_type": "stream",
     "text": [
      " Count File                        Line Function                               \n",
      "   247 ./<missing>                   -1 anonymous                              \n",
      "    34 ./In[8]                        3 profile_test(::Int64)                  \n",
      "    15 ./In[8]                        4 profile_test(::Int64)                  \n",
      "   103 ./In[8]                        5 profile_test(::Int64)                  \n",
      "    85 ./In[8]                        6 profile_test(::Int64)                  \n",
      "     2 ./In[8]                        7 profile_test(::Int64)                  \n",
      "     7 ./In[8]                        8 profile_test(::Int64)                  \n",
      "     1 ./In[8]                       10 profile_test(::Int64)                  \n",
      "     1 ./abstractarray.jl           284 checkbounds                            \n",
      "    12 ./abstractarray.jl           559 copy!(::Base.LinearFast, ::Array{Co... \n",
      "     2 ./abstractarray.jl           653 copymutable                            \n",
      "     1 ./abstractarray.jl          1623 mapslices(::Base.#sum, ::Array{Floa... \n",
      "     1 ./abstractarray.jl          1637 mapslices(::Base.#sort, ::Array{Flo... \n",
      "     1 ./abstractarray.jl          1644 mapslices(::Base.#sum, ::Array{Floa... \n",
      "     6 ./abstractarray.jl          1648 mapslices(::Base.#sum, ::Array{Floa... \n",
      "     1 ./abstractarray.jl          1652 mapslices(::Base.#sum, ::Array{Floa... \n",
      "    11 ./abstractarray.jl          1653 mapslices(::Base.#sum, ::Array{Floa... \n",
      "    25 ./abstractarray.jl          1655 mapslices(::Base.#sum, ::Array{Floa... \n",
      "    45 ./abstractarray.jl          1656 mapslices(::Base.#sort, ::Array{Flo... \n",
      "    12 ./abstractarray.jl           832 setindex!(::Array{Float64,3}, ::Flo... \n",
      "     1 ./array.jl                    65 copy!(::Array{Float64,1}, ::Int64, ... \n",
      "     1 ./array.jl                   741 hcat(::Array{Int64,1}, ::Array{Int6... \n",
      "     1 ./array.jl                    44 unsafe_copy!                           \n",
      "     1 ./array.jl                    51 unsafe_copy!(::Array{Float64,1}, ::... \n",
      "     1 ./broadcast.jl               117 _broadcast!(::Base.#*, ::Array{Floa... \n",
      "     1 ./broadcast.jl               172 broadcast!                             \n",
      "     1 ./broadcast.jl               230 broadcast                              \n",
      "     1 ./broadcast.jl               228 broadcast_t                            \n",
      "     1 ./broadcast.jl               123 macro expansion                        \n",
      "     4 ./cartesian.jl                62 macro expansion                        \n",
      "     5 ./cartesian.jl                64 macro expansion                        \n",
      "     4 ./dSFMT.jl                    75 dsfmt_fill_array_close1_open2!(::Ba... \n",
      "     8 ./dft.jl                      43 copy1(::Type{Complex{Float64}}, ::A... \n",
      "    12 ./dft.jl                      44 copy1(::Type{Complex{Float64}}, ::A... \n",
      "    83 ./dft.jl                      57 fft(::Array{Complex{Float64},3}, ::... \n",
      "     3 ./fft/FFTW.jl                585 #plan_fft#5(::UInt32, ::Float64, ::... \n",
      "     3 ./fft/FFTW.jl                617 *                                      \n",
      "    77 ./fft/FFTW.jl                618 *                                      \n",
      "     1 ./fft/FFTW.jl                463 Base.DFT.FFTW.cFFTWPlan{Complex{Flo... \n",
      "     2 ./fft/FFTW.jl                464 Base.DFT.FFTW.cFFTWPlan{Complex{Flo... \n",
      "     1 ./fft/FFTW.jl                419 dims_howmany(::Array{Complex{Float6... \n",
      "   247 ./loading.jl                 441 include_string(::String, ::String)     \n",
      "     1 ./multidimensional.jl        365 _setindex!(::Base.LinearFast, ::Arr... \n",
      "     2 ./multidimensional.jl        366 _setindex!(::Base.LinearFast, ::Arr... \n",
      "     1 ./multidimensional.jl        421 _unsafe_batchsetindex!(::Array{Floa... \n",
      "     1 ./multidimensional.jl        340 _unsafe_getindex!                      \n",
      "     7 ./multidimensional.jl        340 _unsafe_getindex!(::Array{Float64,1... \n",
      "     2 ./multidimensional.jl        291 _unsafe_getindex(::Base.LinearFast,... \n",
      "    12 ./multidimensional.jl        725 circcopy!(::Array{Complex{Float64},... \n",
      "     1 ./multidimensional.jl        296 macro expansion                        \n",
      "     1 ./multidimensional.jl        298 macro expansion                        \n",
      "     8 ./multidimensional.jl        348 macro expansion                        \n",
      "     4 ./multidimensional.jl        350 macro expansion                        \n",
      "     1 ./multidimensional.jl        429 macro expansion                        \n",
      "     1 ./multidimensional.jl        431 macro expansion                        \n",
      "   247 ./profile.jl                  16 macro expansion;                       \n",
      "     4 ./random.jl                  107 gen_rand                               \n",
      "     3 ./random.jl                  104 mt_pop!                                \n",
      "     3 ./random.jl                  117 rand_inbounds                          \n",
      "     7 ./random.jl                  263 rand_ui52                              \n",
      "     7 ./random.jl                  125 rand_ui52_raw                          \n",
      "     3 ./random.jl                  124 rand_ui52_raw_inbounds                 \n",
      "    26 ./random.jl                 1208 randn!(::MersenneTwister, ::Array{F... \n",
      "     7 ./random.jl                 1130 randn                                  \n",
      "     1 ./random.jl                 1131 randn                                  \n",
      "     7 ./random.jl                 1133 randn                                  \n",
      "     2 ./random.jl                 1135 randn                                  \n",
      "    17 ./random.jl                 1202 randn(::MersenneTwister, ::Type{Flo... \n",
      "     1 ./random.jl                 1147 randn_unlikely(::MersenneTwister, :... \n",
      "     4 ./random.jl                  111 reserve_1                              \n",
      "    15 ./reduce.jl                  162 _mapreduce(::Base.#identity, ::Base... \n",
      "     2 ./reduce.jl                  272 mapreduce_impl(::Base.#identity, ::... \n",
      "    13 ./reduce.jl                  280 mapreduce_impl(::Base.#identity, ::... \n",
      "     1 ./simdloop.jl                 72 macro expansion                        \n",
      "     5 ./sort.jl                    417 #sort#8(::Array{Any,1}, ::Function,... \n",
      "     1 ./sort.jl                    608 fpsort!(::Array{Float64,1}, ::Base.... \n",
      "     1 ./sort.jl                    614 fpsort!(::Array{Float64,1}, ::Base.... \n",
      "     1 ./sort.jl                    220 sort!(::Array{Float64,1}, ::Int64, ... \n",
      "     1 ./sort.jl                    293 sort!(::Array{Float64,1}, ::Int64, ... \n",
      "     2 ./sort.jl                    623 sort!(::Array{Float64,1}, ::Base.So... \n",
      "     5 ./sort.jl                    417 sort(::Array{Float64,1})               \n",
      "     1 ./sparse/sparsematrix.jl    1718 .*(::Array{Float64,2}, ::Array{Floa... \n",
      "     1 ./sparse/sparsematrix.jl    1681 broadcast_zpreserving                  \n",
      "   247 ./task.jl                    360 (::IJulia.##13#19)()                   \n",
      "   247 ...IJulia/src/eventloop.jl     8 eventloop(::ZMQ.Socket)                \n",
      "   247 .../src/execute_request.jl   157 execute_request(::ZMQ.Socket, ::IJu... \n"
     ]
    }
   ],
   "source": [
    "Profile.print(format=:flat)"
   ]
  },
  {
   "cell_type": "markdown",
   "metadata": {},
   "source": [
    "Uwaga: graficzna wersja profilera wymaga doinstalowania \n",
    "```julia\n",
    "Pkg.add(\"ProfileView\")\n",
    "```"
   ]
  },
  {
   "cell_type": "code",
   "execution_count": 11,
   "metadata": {
    "collapsed": false
   },
   "outputs": [
    {
     "data": {
      "image/svg+xml": [
       "<?xml version=\"1.0\" standalone=\"no\"?>\n",
       "<!DOCTYPE svg PUBLIC \"-//W3C//DTD SVG 1.1//EN\" \"http://www.w3.org/Graphics/SVG/1.1/DTD/svg11.dtd\">\n",
       "<svg version=\"1.1\" width=\"1200\" height=\"265\" viewBox=\"0 0 1200 265\" xmlns=\"http://www.w3.org/2000/svg\" >\n",
       "<defs >\n",
       "    <linearGradient id=\"background\" y1=\"0\" y2=\"1\" x1=\"0\" x2=\"0\" >\n",
       "        <stop stop-color=\"#eeeeee\" offset=\"5%\" />\n",
       "        <stop stop-color=\"#eeeeb0\" offset=\"95%\" />\n",
       "    </linearGradient>\n",
       "    <clipPath id=\"fig-1a0b470385d3415b8663332a15fe1d44-image-frame\">\n",
       "      <rect id=\"fig-1a0b470385d3415b8663332a15fe1d44-clip-rect\" x=\"0\" y=\"0\" width=\"1200\" height=\"265\" />\n",
       "    </clipPath>\n",
       "</defs>\n",
       "<style type=\"text/css\">\n",
       "    rect[rx]:hover { stroke:black; stroke-width:1; }\n",
       "    text:hover { stroke:black; stroke-width:1; stroke-opacity:0.35; }\n",
       "</style>\n",
       "<g id=\"fig-1a0b470385d3415b8663332a15fe1d44-frame\" clip-path=\"url(#fig-1a0b470385d3415b8663332a15fe1d44-image-frame)\">\n",
       "<rect class=\"pvbackground\" x=\"0.0\" y=\"0\" width=\"1200.0\" height=\"265.0\" fill=\"url(#background)\"  />\n",
       "<text class=\"pvbackground\" text-anchor=\"middle\" x=\"600\" y=\"24\" font-size=\"17\" font-family=\"Verdana\" fill=\"rgb(0,0,0)\"  >Profile results</text>\n",
       "<text text-anchor=\"left\" x=\"10\" y=\"248\" font-size=\"12\" font-family=\"Verdana\" fill=\"rgb(0,0,0)\"  >Function:</text>\n",
       "<text text-anchor=\"\" x=\"70\" y=\"248\" font-size=\"12\" font-family=\"Verdana\" fill=\"rgb(0,0,0)\" id=\"fig-1a0b470385d3415b8663332a15fe1d44-details\" > </text>\n",
       "<g id=\"fig-1a0b470385d3415b8663332a15fe1d44-viewport\" transform=\"scale(1)\">\n",
       "<rect vector-effect=\"non-scaling-stroke\" x=\"10.0\" y=\"210.0\" width=\"1175.241935483871\" height=\"15.0\" fill=\"rgb(232,112,221)\" rx=\"2\" ry=\"2\" data-shortinfo=\"#13 in task.jl:360\" data-info=\"#13 in ./task.jl:360\"/>\n",
       "<text text-anchor=\"\" x=\"14.0\" y=\"221.5\" font-size=\"12\" font-family=\"Verdana\" fill=\"rgb(0,0,0)\" ></text>\n",
       "<rect vector-effect=\"non-scaling-stroke\" x=\"10.0\" y=\"195.0\" width=\"1175.241935483871\" height=\"15.0\" fill=\"rgb(255,164,156)\" rx=\"2\" ry=\"2\" data-shortinfo=\"eventloop in eventloop.jl:8\" data-info=\"eventloop in /home/kzajac/.julia/v0.5/IJulia/src/eventloop.jl:8\"/>\n",
       "<text text-anchor=\"\" x=\"14.0\" y=\"206.5\" font-size=\"12\" font-family=\"Verdana\" fill=\"rgb(0,0,0)\" ></text>\n",
       "<rect vector-effect=\"non-scaling-stroke\" x=\"10.0\" y=\"180.0\" width=\"1175.241935483871\" height=\"15.0\" fill=\"rgb(232,112,221)\" rx=\"2\" ry=\"2\" data-shortinfo=\"execute_request in execute_request.jl:157\" data-info=\"execute_request in /home/kzajac/.julia/v0.5/IJulia/src/execute_request.jl:157\"/>\n",
       "<text text-anchor=\"\" x=\"14.0\" y=\"191.5\" font-size=\"12\" font-family=\"Verdana\" fill=\"rgb(0,0,0)\" ></text>\n",
       "<rect vector-effect=\"non-scaling-stroke\" x=\"10.0\" y=\"165.0\" width=\"1175.241935483871\" height=\"15.0\" fill=\"rgb(255,164,156)\" rx=\"2\" ry=\"2\" data-shortinfo=\"include_string in loading.jl:441\" data-info=\"include_string in ./loading.jl:441\"/>\n",
       "<text text-anchor=\"\" x=\"14.0\" y=\"176.5\" font-size=\"12\" font-family=\"Verdana\" fill=\"rgb(0,0,0)\" ></text>\n",
       "<rect vector-effect=\"non-scaling-stroke\" x=\"10.0\" y=\"150.0\" width=\"1175.241935483871\" height=\"15.0\" fill=\"rgb(232,112,221)\" rx=\"2\" ry=\"2\" data-shortinfo=\"macro expansion; in profile.jl:16; anonymous in &amp;lt;missing&amp;gt;:-1\" data-info=\"macro expansion; in ./profile.jl:16; anonymous in ./&amp;lt;missing&amp;gt;:-1\"/>\n",
       "<text text-anchor=\"\" x=\"14.0\" y=\"161.5\" font-size=\"12\" font-family=\"Verdana\" fill=\"rgb(0,0,0)\" ></text>\n",
       "<rect vector-effect=\"non-scaling-stroke\" x=\"10.0\" y=\"135.0\" width=\"137.98387096774192\" height=\"15.0\" fill=\"rgb(255,164,156)\" rx=\"2\" ry=\"2\" data-shortinfo=\"profile_test in In[8]:3\" data-info=\"profile_test in ./In[8]:3\"/>\n",
       "<text text-anchor=\"\" x=\"14.0\" y=\"146.5\" font-size=\"12\" font-family=\"Verdana\" fill=\"rgb(0,0,0)\" ></text>\n",
       "<rect vector-effect=\"non-scaling-stroke\" x=\"147.98387096774192\" y=\"135.0\" width=\"23.790322580645153\" height=\"15.0\" fill=\"rgb(255,164,156)\" rx=\"2\" ry=\"2\" data-shortinfo=\"profile_test in In[8]:3\" data-info=\"profile_test in ./In[8]:3\"/>\n",
       "<text text-anchor=\"\" x=\"151.98387096774192\" y=\"146.5\" font-size=\"12\" font-family=\"Verdana\" fill=\"rgb(0,0,0)\" ></text>\n",
       "<rect vector-effect=\"non-scaling-stroke\" x=\"171.77419354838707\" y=\"135.0\" width=\"71.37096774193549\" height=\"15.0\" fill=\"rgb(158,158,158)\" rx=\"2\" ry=\"2\" data-shortinfo=\"profile_test in In[8]:4\" data-info=\"profile_test in ./In[8]:4\"/>\n",
       "<text text-anchor=\"\" x=\"175.77419354838707\" y=\"146.5\" font-size=\"12\" font-family=\"Verdana\" fill=\"rgb(0,0,0)\" ></text>\n",
       "<rect vector-effect=\"non-scaling-stroke\" x=\"243.14516129032256\" y=\"135.0\" width=\"394.91935483870964\" height=\"15.0\" fill=\"rgb(205,185,255)\" rx=\"2\" ry=\"2\" data-shortinfo=\"profile_test in In[8]:5\" data-info=\"profile_test in ./In[8]:5\"/>\n",
       "<text text-anchor=\"\" x=\"247.14516129032256\" y=\"146.5\" font-size=\"12\" font-family=\"Verdana\" fill=\"rgb(0,0,0)\" ></text>\n",
       "<rect vector-effect=\"non-scaling-stroke\" x=\"638.0645161290322\" y=\"135.0\" width=\"95.16129032258073\" height=\"15.0\" fill=\"rgb(205,185,255)\" rx=\"2\" ry=\"2\" data-shortinfo=\"profile_test in In[8]:5\" data-info=\"profile_test in ./In[8]:5\"/>\n",
       "<text text-anchor=\"\" x=\"642.0645161290322\" y=\"146.5\" font-size=\"12\" font-family=\"Verdana\" fill=\"rgb(0,0,0)\" ></text>\n",
       "<rect vector-effect=\"non-scaling-stroke\" x=\"733.2258064516129\" y=\"135.0\" width=\"404.4354838709676\" height=\"15.0\" fill=\"rgb(255,141,62)\" rx=\"2\" ry=\"2\" data-shortinfo=\"profile_test in In[8]:6\" data-info=\"profile_test in ./In[8]:6\"/>\n",
       "<text text-anchor=\"\" x=\"737.2258064516129\" y=\"146.5\" font-size=\"12\" font-family=\"Verdana\" fill=\"rgb(0,0,0)\" ></text>\n",
       "<rect vector-effect=\"non-scaling-stroke\" x=\"1137.6612903225805\" y=\"135.0\" width=\"9.51612903225805\" height=\"15.0\" fill=\"rgb(180,211,70)\" rx=\"2\" ry=\"2\" data-shortinfo=\"profile_test in In[8]:7\" data-info=\"profile_test in ./In[8]:7\"/>\n",
       "<text text-anchor=\"\" x=\"1141.6612903225805\" y=\"146.5\" font-size=\"12\" font-family=\"Verdana\" fill=\"rgb(0,0,0)\" ></text>\n",
       "<rect vector-effect=\"non-scaling-stroke\" x=\"1147.1774193548385\" y=\"135.0\" width=\"33.3064516129034\" height=\"15.0\" fill=\"rgb(255,164,156)\" rx=\"2\" ry=\"2\" data-shortinfo=\"profile_test in In[8]:8\" data-info=\"profile_test in ./In[8]:8\"/>\n",
       "<text text-anchor=\"\" x=\"1151.1774193548385\" y=\"146.5\" font-size=\"12\" font-family=\"Verdana\" fill=\"rgb(0,0,0)\" ></text>\n",
       "<rect vector-effect=\"non-scaling-stroke\" x=\"1180.483870967742\" y=\"135.0\" width=\"4.758064516129025\" height=\"15.0\" fill=\"rgb(158,158,158)\" rx=\"2\" ry=\"2\" data-shortinfo=\"profile_test in In[8]:10\" data-info=\"profile_test in ./In[8]:10\"/>\n",
       "<text text-anchor=\"\" x=\"1184.483870967742\" y=\"146.5\" font-size=\"12\" font-family=\"Verdana\" fill=\"rgb(0,0,0)\" ></text>\n",
       "<rect vector-effect=\"non-scaling-stroke\" x=\"10.0\" y=\"120.0\" width=\"118.9516129032258\" height=\"15.0\" fill=\"rgb(232,112,221)\" rx=\"2\" ry=\"2\" data-shortinfo=\"randn! in random.jl:1208\" data-info=\"randn! in ./random.jl:1208\"/>\n",
       "<text text-anchor=\"\" x=\"14.0\" y=\"131.5\" font-size=\"12\" font-family=\"Verdana\" fill=\"rgb(0,0,0)\" ></text>\n",
       "<rect vector-effect=\"non-scaling-stroke\" x=\"128.9516129032258\" y=\"120.0\" width=\"4.758064516129025\" height=\"15.0\" fill=\"rgb(232,112,221)\" rx=\"2\" ry=\"2\" data-shortinfo=\"randn! in random.jl:1208\" data-info=\"randn! in ./random.jl:1208\"/>\n",
       "<text text-anchor=\"\" x=\"132.9516129032258\" y=\"131.5\" font-size=\"12\" font-family=\"Verdana\" fill=\"rgb(0,0,0)\" ></text>\n",
       "<rect vector-effect=\"non-scaling-stroke\" x=\"133.70967741935482\" y=\"120.0\" width=\"14.274193548387103\" height=\"15.0\" fill=\"rgb(50,180,78)\" rx=\"2\" ry=\"2\" data-shortinfo=\" in :-1\" data-info=\" in :-1\"/>\n",
       "<text text-anchor=\"\" x=\"137.70967741935482\" y=\"131.5\" font-size=\"12\" font-family=\"Verdana\" fill=\"rgb(0,0,0)\" ></text>\n",
       "<rect vector-effect=\"non-scaling-stroke\" x=\"171.77419354838707\" y=\"120.0\" width=\"71.37096774193549\" height=\"15.0\" fill=\"rgb(26,162,255)\" rx=\"2\" ry=\"2\" data-shortinfo=\"_mapreduce in reduce.jl:162\" data-info=\"_mapreduce in ./reduce.jl:162\"/>\n",
       "<text text-anchor=\"\" x=\"175.77419354838707\" y=\"131.5\" font-size=\"12\" font-family=\"Verdana\" fill=\"rgb(0,0,0)\" ></text>\n",
       "<rect vector-effect=\"non-scaling-stroke\" x=\"243.14516129032256\" y=\"120.0\" width=\"14.274193548387075\" height=\"15.0\" fill=\"rgb(210,165,23)\" rx=\"2\" ry=\"2\" data-shortinfo=\"fft in dft.jl:57\" data-info=\"fft in ./dft.jl:57\"/>\n",
       "<text text-anchor=\"\" x=\"247.14516129032256\" y=\"131.5\" font-size=\"12\" font-family=\"Verdana\" fill=\"rgb(0,0,0)\" ></text>\n",
       "<rect vector-effect=\"non-scaling-stroke\" x=\"257.41935483870964\" y=\"120.0\" width=\"14.274193548387132\" height=\"15.0\" fill=\"rgb(0,222,230)\" rx=\"2\" ry=\"2\" data-shortinfo=\"* in FFTW.jl:617; fft in dft.jl:57\" data-info=\"* in ./fft/FFTW.jl:617; fft in ./dft.jl:57\"/>\n",
       "<text text-anchor=\"\" x=\"261.41935483870964\" y=\"131.5\" font-size=\"12\" font-family=\"Verdana\" fill=\"rgb(0,0,0)\" ></text>\n",
       "<rect vector-effect=\"non-scaling-stroke\" x=\"271.69354838709677\" y=\"120.0\" width=\"366.37096774193543\" height=\"15.0\" fill=\"rgb(232,112,221)\" rx=\"2\" ry=\"2\" data-shortinfo=\"* in FFTW.jl:618; fft in dft.jl:57\" data-info=\"* in ./fft/FFTW.jl:618; fft in ./dft.jl:57\"/>\n",
       "<text text-anchor=\"\" x=\"275.69354838709677\" y=\"131.5\" font-size=\"12\" font-family=\"Verdana\" fill=\"rgb(0,0,0)\" ></text>\n",
       "<rect vector-effect=\"non-scaling-stroke\" x=\"638.0645161290322\" y=\"120.0\" width=\"38.06451612903231\" height=\"15.0\" fill=\"rgb(50,180,78)\" rx=\"2\" ry=\"2\" data-shortinfo=\"copy1 in dft.jl:43\" data-info=\"copy1 in ./dft.jl:43\"/>\n",
       "<text text-anchor=\"\" x=\"642.0645161290322\" y=\"131.5\" font-size=\"12\" font-family=\"Verdana\" fill=\"rgb(0,0,0)\" ></text>\n",
       "<rect vector-effect=\"non-scaling-stroke\" x=\"676.1290322580645\" y=\"120.0\" width=\"57.09677419354841\" height=\"15.0\" fill=\"rgb(26,162,255)\" rx=\"2\" ry=\"2\" data-shortinfo=\"copy1 in dft.jl:44\" data-info=\"copy1 in ./dft.jl:44\"/>\n",
       "<text text-anchor=\"\" x=\"680.1290322580645\" y=\"131.5\" font-size=\"12\" font-family=\"Verdana\" fill=\"rgb(0,0,0)\" ></text>\n",
       "<rect vector-effect=\"non-scaling-stroke\" x=\"733.2258064516129\" y=\"120.0\" width=\"4.758064516129025\" height=\"15.0\" fill=\"rgb(210,165,23)\" rx=\"2\" ry=\"2\" data-shortinfo=\"mapslices in abstractarray.jl:1623\" data-info=\"mapslices in ./abstractarray.jl:1623\"/>\n",
       "<text text-anchor=\"\" x=\"737.2258064516129\" y=\"131.5\" font-size=\"12\" font-family=\"Verdana\" fill=\"rgb(0,0,0)\" ></text>\n",
       "<rect vector-effect=\"non-scaling-stroke\" x=\"737.983870967742\" y=\"120.0\" width=\"4.758064516129025\" height=\"15.0\" fill=\"rgb(0,222,230)\" rx=\"2\" ry=\"2\" data-shortinfo=\"mapslices in abstractarray.jl:1644\" data-info=\"mapslices in ./abstractarray.jl:1644\"/>\n",
       "<text text-anchor=\"\" x=\"741.983870967742\" y=\"131.5\" font-size=\"12\" font-family=\"Verdana\" fill=\"rgb(0,0,0)\" ></text>\n",
       "<rect vector-effect=\"non-scaling-stroke\" x=\"742.741935483871\" y=\"120.0\" width=\"4.758064516129025\" height=\"15.0\" fill=\"rgb(232,112,221)\" rx=\"2\" ry=\"2\" data-shortinfo=\"mapslices in abstractarray.jl:1648\" data-info=\"mapslices in ./abstractarray.jl:1648\"/>\n",
       "<text text-anchor=\"\" x=\"746.741935483871\" y=\"131.5\" font-size=\"12\" font-family=\"Verdana\" fill=\"rgb(0,0,0)\" ></text>\n",
       "<rect vector-effect=\"non-scaling-stroke\" x=\"747.5\" y=\"120.0\" width=\"4.758064516129025\" height=\"15.0\" fill=\"rgb(232,112,221)\" rx=\"2\" ry=\"2\" data-shortinfo=\"mapslices in abstractarray.jl:1648\" data-info=\"mapslices in ./abstractarray.jl:1648\"/>\n",
       "<text text-anchor=\"\" x=\"751.5\" y=\"131.5\" font-size=\"12\" font-family=\"Verdana\" fill=\"rgb(0,0,0)\" ></text>\n",
       "<rect vector-effect=\"non-scaling-stroke\" x=\"752.258064516129\" y=\"120.0\" width=\"9.51612903225805\" height=\"15.0\" fill=\"rgb(232,112,221)\" rx=\"2\" ry=\"2\" data-shortinfo=\"mapslices in abstractarray.jl:1648\" data-info=\"mapslices in ./abstractarray.jl:1648\"/>\n",
       "<text text-anchor=\"\" x=\"756.258064516129\" y=\"131.5\" font-size=\"12\" font-family=\"Verdana\" fill=\"rgb(0,0,0)\" ></text>\n",
       "<rect vector-effect=\"non-scaling-stroke\" x=\"761.7741935483871\" y=\"120.0\" width=\"9.51612903225805\" height=\"15.0\" fill=\"rgb(232,112,221)\" rx=\"2\" ry=\"2\" data-shortinfo=\"mapslices in abstractarray.jl:1648\" data-info=\"mapslices in ./abstractarray.jl:1648\"/>\n",
       "<text text-anchor=\"\" x=\"765.7741935483871\" y=\"131.5\" font-size=\"12\" font-family=\"Verdana\" fill=\"rgb(0,0,0)\" ></text>\n",
       "<rect vector-effect=\"non-scaling-stroke\" x=\"771.2903225806451\" y=\"120.0\" width=\"4.758064516129025\" height=\"15.0\" fill=\"rgb(50,180,78)\" rx=\"2\" ry=\"2\" data-shortinfo=\"mapslices in abstractarray.jl:1652\" data-info=\"mapslices in ./abstractarray.jl:1652\"/>\n",
       "<text text-anchor=\"\" x=\"775.2903225806451\" y=\"131.5\" font-size=\"12\" font-family=\"Verdana\" fill=\"rgb(0,0,0)\" ></text>\n",
       "<rect vector-effect=\"non-scaling-stroke\" x=\"776.0483870967741\" y=\"120.0\" width=\"14.274193548387075\" height=\"15.0\" fill=\"rgb(26,162,255)\" rx=\"2\" ry=\"2\" data-shortinfo=\"mapslices in abstractarray.jl:1653\" data-info=\"mapslices in ./abstractarray.jl:1653\"/>\n",
       "<text text-anchor=\"\" x=\"780.0483870967741\" y=\"131.5\" font-size=\"12\" font-family=\"Verdana\" fill=\"rgb(0,0,0)\" ></text>\n",
       "<rect vector-effect=\"non-scaling-stroke\" x=\"790.3225806451612\" y=\"120.0\" width=\"28.548387096774263\" height=\"15.0\" fill=\"rgb(26,162,255)\" rx=\"2\" ry=\"2\" data-shortinfo=\"mapslices in abstractarray.jl:1653\" data-info=\"mapslices in ./abstractarray.jl:1653\"/>\n",
       "<text text-anchor=\"\" x=\"794.3225806451612\" y=\"131.5\" font-size=\"12\" font-family=\"Verdana\" fill=\"rgb(0,0,0)\" ></text>\n",
       "<rect vector-effect=\"non-scaling-stroke\" x=\"818.8709677419355\" y=\"120.0\" width=\"9.51612903225805\" height=\"15.0\" fill=\"rgb(26,162,255)\" rx=\"2\" ry=\"2\" data-shortinfo=\"mapslices in abstractarray.jl:1653\" data-info=\"mapslices in ./abstractarray.jl:1653\"/>\n",
       "<text text-anchor=\"\" x=\"822.8709677419355\" y=\"131.5\" font-size=\"12\" font-family=\"Verdana\" fill=\"rgb(0,0,0)\" ></text>\n",
       "<rect vector-effect=\"non-scaling-stroke\" x=\"828.3870967741935\" y=\"120.0\" width=\"61.85483870967744\" height=\"15.0\" fill=\"rgb(210,165,23)\" rx=\"2\" ry=\"2\" data-shortinfo=\"mapslices in abstractarray.jl:1655\" data-info=\"mapslices in ./abstractarray.jl:1655\"/>\n",
       "<text text-anchor=\"\" x=\"832.3870967741935\" y=\"131.5\" font-size=\"12\" font-family=\"Verdana\" fill=\"rgb(0,0,0)\" ></text>\n",
       "<rect vector-effect=\"non-scaling-stroke\" x=\"890.241935483871\" y=\"120.0\" width=\"57.0967741935483\" height=\"15.0\" fill=\"rgb(210,165,23)\" rx=\"2\" ry=\"2\" data-shortinfo=\"mapslices in abstractarray.jl:1655\" data-info=\"mapslices in ./abstractarray.jl:1655\"/>\n",
       "<text text-anchor=\"\" x=\"894.241935483871\" y=\"131.5\" font-size=\"12\" font-family=\"Verdana\" fill=\"rgb(0,0,0)\" ></text>\n",
       "<rect vector-effect=\"non-scaling-stroke\" x=\"947.3387096774193\" y=\"120.0\" width=\"142.74193548387098\" height=\"15.0\" fill=\"rgb(0,222,230)\" rx=\"2\" ry=\"2\" data-shortinfo=\"mapslices in abstractarray.jl:1656\" data-info=\"mapslices in ./abstractarray.jl:1656\"/>\n",
       "<text text-anchor=\"\" x=\"951.3387096774193\" y=\"131.5\" font-size=\"12\" font-family=\"Verdana\" fill=\"rgb(0,0,0)\" ></text>\n",
       "<rect vector-effect=\"non-scaling-stroke\" x=\"1090.0806451612902\" y=\"120.0\" width=\"42.822580645161224\" height=\"15.0\" fill=\"rgb(0,222,230)\" rx=\"2\" ry=\"2\" data-shortinfo=\"mapslices in abstractarray.jl:1656\" data-info=\"mapslices in ./abstractarray.jl:1656\"/>\n",
       "<text text-anchor=\"\" x=\"1094.0806451612902\" y=\"131.5\" font-size=\"12\" font-family=\"Verdana\" fill=\"rgb(0,0,0)\" ></text>\n",
       "<rect vector-effect=\"non-scaling-stroke\" x=\"1132.9032258064515\" y=\"120.0\" width=\"4.758064516129025\" height=\"15.0\" fill=\"rgb(232,112,221)\" rx=\"2\" ry=\"2\" data-shortinfo=\" in builtins.c:136\" data-info=\" in /home/centos/buildbot/slave/package_tarball64/build/src/builtins.c:136\"/>\n",
       "<text text-anchor=\"\" x=\"1136.9032258064515\" y=\"131.5\" font-size=\"12\" font-family=\"Verdana\" fill=\"rgb(0,0,0)\" ></text>\n",
       "<rect vector-effect=\"non-scaling-stroke\" x=\"1137.6612903225805\" y=\"120.0\" width=\"4.758064516129025\" height=\"15.0\" fill=\"rgb(50,180,78)\" rx=\"2\" ry=\"2\" data-shortinfo=\"macro expansion in multidimensional.jl:296; _unsafe_getindex in multidimensional.jl:291\" data-info=\"macro expansion in ./multidimensional.jl:296; _unsafe_getindex in ./multidimensional.jl:291\"/>\n",
       "<text text-anchor=\"\" x=\"1141.6612903225805\" y=\"131.5\" font-size=\"12\" font-family=\"Verdana\" fill=\"rgb(0,0,0)\" ></text>\n",
       "<rect vector-effect=\"non-scaling-stroke\" x=\"1142.4193548387095\" y=\"120.0\" width=\"4.758064516129025\" height=\"15.0\" fill=\"rgb(26,162,255)\" rx=\"2\" ry=\"2\" data-shortinfo=\"macro expansion in multidimensional.jl:350; macro expansion in cartesian.jl:64; macro expansion in multidimensional.jl:348; _unsafe_getindex! in multidimensional.jl:340; macro expansion in multidimensional.jl:298; _unsafe_getindex in multidimensional.jl:291\" data-info=\"macro expansion in ./multidimensional.jl:350; macro expansion in ./cartesian.jl:64; macro expansion in ./multidimensional.jl:348; _unsafe_getindex! in ./multidimensional.jl:340; macro expansion in ./multidimensional.jl:298; _unsafe_getindex in ./multidimensional.jl:291\"/>\n",
       "<text text-anchor=\"\" x=\"1146.4193548387095\" y=\"131.5\" font-size=\"12\" font-family=\"Verdana\" fill=\"rgb(0,0,0)\" ></text>\n",
       "<rect vector-effect=\"non-scaling-stroke\" x=\"1147.1774193548385\" y=\"120.0\" width=\"4.758064516129252\" height=\"15.0\" fill=\"rgb(210,165,23)\" rx=\"2\" ry=\"2\" data-shortinfo=\"mapslices in abstractarray.jl:1637\" data-info=\"mapslices in ./abstractarray.jl:1637\"/>\n",
       "<text text-anchor=\"\" x=\"1151.1774193548385\" y=\"131.5\" font-size=\"12\" font-family=\"Verdana\" fill=\"rgb(0,0,0)\" ></text>\n",
       "<rect vector-effect=\"non-scaling-stroke\" x=\"1151.9354838709678\" y=\"120.0\" width=\"23.790322580645125\" height=\"15.0\" fill=\"rgb(0,222,230)\" rx=\"2\" ry=\"2\" data-shortinfo=\"mapslices in abstractarray.jl:1656\" data-info=\"mapslices in ./abstractarray.jl:1656\"/>\n",
       "<text text-anchor=\"\" x=\"1155.9354838709678\" y=\"131.5\" font-size=\"12\" font-family=\"Verdana\" fill=\"rgb(0,0,0)\" ></text>\n",
       "<rect vector-effect=\"non-scaling-stroke\" x=\"1175.725806451613\" y=\"120.0\" width=\"4.758064516129025\" height=\"15.0\" fill=\"rgb(0,222,230)\" rx=\"2\" ry=\"2\" data-shortinfo=\"mapslices in abstractarray.jl:1656\" data-info=\"mapslices in ./abstractarray.jl:1656\"/>\n",
       "<text text-anchor=\"\" x=\"1179.725806451613\" y=\"131.5\" font-size=\"12\" font-family=\"Verdana\" fill=\"rgb(0,0,0)\" ></text>\n",
       "<rect vector-effect=\"non-scaling-stroke\" x=\"1180.483870967742\" y=\"120.0\" width=\"4.758064516129025\" height=\"15.0\" fill=\"rgb(232,112,221)\" rx=\"2\" ry=\"2\" data-shortinfo=\"broadcast! in broadcast.jl:172; broadcast_t in broadcast.jl:228; broadcast in broadcast.jl:230; broadcast_zpreserving in sparsematrix.jl:1681; .* in sparsematrix.jl:1718\" data-info=\"broadcast! in ./broadcast.jl:172; broadcast_t in ./broadcast.jl:228; broadcast in ./broadcast.jl:230; broadcast_zpreserving in ./sparse/sparsematrix.jl:1681; .* in ./sparse/sparsematrix.jl:1718\"/>\n",
       "<text text-anchor=\"\" x=\"1184.483870967742\" y=\"131.5\" font-size=\"12\" font-family=\"Verdana\" fill=\"rgb(0,0,0)\" ></text>\n",
       "<rect vector-effect=\"non-scaling-stroke\" x=\"10.0\" y=\"105.0\" width=\"19.032258064516128\" height=\"15.0\" fill=\"rgb(255,164,156)\" rx=\"2\" ry=\"2\" data-shortinfo=\"gen_rand in random.jl:107; reserve_1 in random.jl:111; rand_ui52_raw in random.jl:125; rand_ui52 in random.jl:263; randn in random.jl:1130; randn in random.jl:1202\" data-info=\"gen_rand in ./random.jl:107; reserve_1 in ./random.jl:111; rand_ui52_raw in ./random.jl:125; rand_ui52 in ./random.jl:263; randn in ./random.jl:1130; randn in ./random.jl:1202\"/>\n",
       "<text text-anchor=\"\" x=\"14.0\" y=\"116.5\" font-size=\"12\" font-family=\"Verdana\" fill=\"rgb(0,0,0)\" ></text>\n",
       "<rect vector-effect=\"non-scaling-stroke\" x=\"29.032258064516128\" y=\"105.0\" width=\"4.758064516129032\" height=\"15.0\" fill=\"rgb(158,158,158)\" rx=\"2\" ry=\"2\" data-shortinfo=\"mt_pop! in random.jl:104; rand_inbounds in random.jl:117; rand_ui52_raw_inbounds in random.jl:124; rand_ui52_raw in random.jl:125; rand_ui52 in random.jl:263; randn in random.jl:1130; randn in random.jl:1202\" data-info=\"mt_pop! in ./random.jl:104; rand_inbounds in ./random.jl:117; rand_ui52_raw_inbounds in ./random.jl:124; rand_ui52_raw in ./random.jl:125; rand_ui52 in ./random.jl:263; randn in ./random.jl:1130; randn in ./random.jl:1202\"/>\n",
       "<text text-anchor=\"\" x=\"33.03225806451613\" y=\"116.5\" font-size=\"12\" font-family=\"Verdana\" fill=\"rgb(0,0,0)\" ></text>\n",
       "<rect vector-effect=\"non-scaling-stroke\" x=\"33.79032258064516\" y=\"105.0\" width=\"4.758064516129032\" height=\"15.0\" fill=\"rgb(158,158,158)\" rx=\"2\" ry=\"2\" data-shortinfo=\"mt_pop! in random.jl:104; rand_inbounds in random.jl:117; rand_ui52_raw_inbounds in random.jl:124; rand_ui52_raw in random.jl:125; rand_ui52 in random.jl:263; randn in random.jl:1130; randn in random.jl:1202\" data-info=\"mt_pop! in ./random.jl:104; rand_inbounds in ./random.jl:117; rand_ui52_raw_inbounds in ./random.jl:124; rand_ui52_raw in ./random.jl:125; rand_ui52 in ./random.jl:263; randn in ./random.jl:1130; randn in ./random.jl:1202\"/>\n",
       "<text text-anchor=\"\" x=\"37.79032258064516\" y=\"116.5\" font-size=\"12\" font-family=\"Verdana\" fill=\"rgb(0,0,0)\" ></text>\n",
       "<rect vector-effect=\"non-scaling-stroke\" x=\"38.54838709677419\" y=\"105.0\" width=\"4.758064516129032\" height=\"15.0\" fill=\"rgb(158,158,158)\" rx=\"2\" ry=\"2\" data-shortinfo=\"mt_pop! in random.jl:104; rand_inbounds in random.jl:117; rand_ui52_raw_inbounds in random.jl:124; rand_ui52_raw in random.jl:125; rand_ui52 in random.jl:263; randn in random.jl:1130; randn in random.jl:1202\" data-info=\"mt_pop! in ./random.jl:104; rand_inbounds in ./random.jl:117; rand_ui52_raw_inbounds in ./random.jl:124; rand_ui52_raw in ./random.jl:125; rand_ui52 in ./random.jl:263; randn in ./random.jl:1130; randn in ./random.jl:1202\"/>\n",
       "<text text-anchor=\"\" x=\"42.54838709677419\" y=\"116.5\" font-size=\"12\" font-family=\"Verdana\" fill=\"rgb(0,0,0)\" ></text>\n",
       "<rect vector-effect=\"non-scaling-stroke\" x=\"43.306451612903224\" y=\"105.0\" width=\"9.516129032258064\" height=\"15.0\" fill=\"rgb(205,185,255)\" rx=\"2\" ry=\"2\" data-shortinfo=\"randn in random.jl:0\" data-info=\"randn in ./random.jl:0\"/>\n",
       "<text text-anchor=\"\" x=\"47.306451612903224\" y=\"116.5\" font-size=\"12\" font-family=\"Verdana\" fill=\"rgb(0,0,0)\" ></text>\n",
       "<rect vector-effect=\"non-scaling-stroke\" x=\"52.82258064516129\" y=\"105.0\" width=\"9.516129032258064\" height=\"15.0\" fill=\"rgb(205,185,255)\" rx=\"2\" ry=\"2\" data-shortinfo=\"randn in random.jl:0\" data-info=\"randn in ./random.jl:0\"/>\n",
       "<text text-anchor=\"\" x=\"56.82258064516129\" y=\"116.5\" font-size=\"12\" font-family=\"Verdana\" fill=\"rgb(0,0,0)\" ></text>\n",
       "<rect vector-effect=\"non-scaling-stroke\" x=\"62.33870967741935\" y=\"105.0\" width=\"4.758064516129032\" height=\"15.0\" fill=\"rgb(205,185,255)\" rx=\"2\" ry=\"2\" data-shortinfo=\"randn in random.jl:0\" data-info=\"randn in ./random.jl:0\"/>\n",
       "<text text-anchor=\"\" x=\"66.33870967741936\" y=\"116.5\" font-size=\"12\" font-family=\"Verdana\" fill=\"rgb(0,0,0)\" ></text>\n",
       "<rect vector-effect=\"non-scaling-stroke\" x=\"67.09677419354838\" y=\"105.0\" width=\"4.758064516129025\" height=\"15.0\" fill=\"rgb(255,141,62)\" rx=\"2\" ry=\"2\" data-shortinfo=\"randn in random.jl:1131; randn in random.jl:1202\" data-info=\"randn in ./random.jl:1131; randn in ./random.jl:1202\"/>\n",
       "<text text-anchor=\"\" x=\"71.09677419354838\" y=\"116.5\" font-size=\"12\" font-family=\"Verdana\" fill=\"rgb(0,0,0)\" ></text>\n",
       "<rect vector-effect=\"non-scaling-stroke\" x=\"71.85483870967741\" y=\"105.0\" width=\"4.758064516129039\" height=\"15.0\" fill=\"rgb(180,211,70)\" rx=\"2\" ry=\"2\" data-shortinfo=\"randn in random.jl:1133; randn in random.jl:1202\" data-info=\"randn in ./random.jl:1133; randn in ./random.jl:1202\"/>\n",
       "<text text-anchor=\"\" x=\"75.85483870967741\" y=\"116.5\" font-size=\"12\" font-family=\"Verdana\" fill=\"rgb(0,0,0)\" ></text>\n",
       "<rect vector-effect=\"non-scaling-stroke\" x=\"76.61290322580645\" y=\"105.0\" width=\"4.758064516129039\" height=\"15.0\" fill=\"rgb(180,211,70)\" rx=\"2\" ry=\"2\" data-shortinfo=\"randn in random.jl:1133; randn in random.jl:1202\" data-info=\"randn in ./random.jl:1133; randn in ./random.jl:1202\"/>\n",
       "<text text-anchor=\"\" x=\"80.61290322580645\" y=\"116.5\" font-size=\"12\" font-family=\"Verdana\" fill=\"rgb(0,0,0)\" ></text>\n",
       "<rect vector-effect=\"non-scaling-stroke\" x=\"81.37096774193549\" y=\"105.0\" width=\"23.790322580645153\" height=\"15.0\" fill=\"rgb(180,211,70)\" rx=\"2\" ry=\"2\" data-shortinfo=\"randn in random.jl:1133; randn in random.jl:1202\" data-info=\"randn in ./random.jl:1133; randn in ./random.jl:1202\"/>\n",
       "<text text-anchor=\"\" x=\"85.37096774193549\" y=\"116.5\" font-size=\"12\" font-family=\"Verdana\" fill=\"rgb(0,0,0)\" ></text>\n",
       "<rect vector-effect=\"non-scaling-stroke\" x=\"105.16129032258064\" y=\"105.0\" width=\"9.516129032258064\" height=\"15.0\" fill=\"rgb(255,164,156)\" rx=\"2\" ry=\"2\" data-shortinfo=\"randn in random.jl:1135; randn in random.jl:1202\" data-info=\"randn in ./random.jl:1135; randn in ./random.jl:1202\"/>\n",
       "<text text-anchor=\"\" x=\"109.16129032258064\" y=\"116.5\" font-size=\"12\" font-family=\"Verdana\" fill=\"rgb(0,0,0)\" ></text>\n",
       "<rect vector-effect=\"non-scaling-stroke\" x=\"171.77419354838707\" y=\"105.0\" width=\"9.516129032258078\" height=\"15.0\" fill=\"rgb(158,158,158)\" rx=\"2\" ry=\"2\" data-shortinfo=\"mapreduce_impl in reduce.jl:272\" data-info=\"mapreduce_impl in ./reduce.jl:272\"/>\n",
       "<text text-anchor=\"\" x=\"175.77419354838707\" y=\"116.5\" font-size=\"12\" font-family=\"Verdana\" fill=\"rgb(0,0,0)\" ></text>\n",
       "<rect vector-effect=\"non-scaling-stroke\" x=\"181.29032258064515\" y=\"105.0\" width=\"4.758064516129025\" height=\"15.0\" fill=\"rgb(205,185,255)\" rx=\"2\" ry=\"2\" data-shortinfo=\"mapreduce_impl in reduce.jl:280\" data-info=\"mapreduce_impl in ./reduce.jl:280\"/>\n",
       "<text text-anchor=\"\" x=\"185.29032258064515\" y=\"116.5\" font-size=\"12\" font-family=\"Verdana\" fill=\"rgb(0,0,0)\" ></text>\n",
       "<rect vector-effect=\"non-scaling-stroke\" x=\"186.04838709677418\" y=\"105.0\" width=\"4.758064516129053\" height=\"15.0\" fill=\"rgb(205,185,255)\" rx=\"2\" ry=\"2\" data-shortinfo=\"mapreduce_impl in reduce.jl:280\" data-info=\"mapreduce_impl in ./reduce.jl:280\"/>\n",
       "<text text-anchor=\"\" x=\"190.04838709677418\" y=\"116.5\" font-size=\"12\" font-family=\"Verdana\" fill=\"rgb(0,0,0)\" ></text>\n",
       "<rect vector-effect=\"non-scaling-stroke\" x=\"190.80645161290323\" y=\"105.0\" width=\"14.274193548387075\" height=\"15.0\" fill=\"rgb(205,185,255)\" rx=\"2\" ry=\"2\" data-shortinfo=\"mapreduce_impl in reduce.jl:280\" data-info=\"mapreduce_impl in ./reduce.jl:280\"/>\n",
       "<text text-anchor=\"\" x=\"194.80645161290323\" y=\"116.5\" font-size=\"12\" font-family=\"Verdana\" fill=\"rgb(0,0,0)\" ></text>\n",
       "<rect vector-effect=\"non-scaling-stroke\" x=\"205.0806451612903\" y=\"105.0\" width=\"14.274193548387103\" height=\"15.0\" fill=\"rgb(205,185,255)\" rx=\"2\" ry=\"2\" data-shortinfo=\"mapreduce_impl in reduce.jl:280\" data-info=\"mapreduce_impl in ./reduce.jl:280\"/>\n",
       "<text text-anchor=\"\" x=\"209.0806451612903\" y=\"116.5\" font-size=\"12\" font-family=\"Verdana\" fill=\"rgb(0,0,0)\" ></text>\n",
       "<rect vector-effect=\"non-scaling-stroke\" x=\"219.3548387096774\" y=\"105.0\" width=\"19.032258064516128\" height=\"15.0\" fill=\"rgb(205,185,255)\" rx=\"2\" ry=\"2\" data-shortinfo=\"mapreduce_impl in reduce.jl:280\" data-info=\"mapreduce_impl in ./reduce.jl:280\"/>\n",
       "<text text-anchor=\"\" x=\"223.3548387096774\" y=\"116.5\" font-size=\"12\" font-family=\"Verdana\" fill=\"rgb(0,0,0)\" ></text>\n",
       "<rect vector-effect=\"non-scaling-stroke\" x=\"238.38709677419354\" y=\"105.0\" width=\"4.758064516129025\" height=\"15.0\" fill=\"rgb(205,185,255)\" rx=\"2\" ry=\"2\" data-shortinfo=\"mapreduce_impl in reduce.jl:280\" data-info=\"mapreduce_impl in ./reduce.jl:280\"/>\n",
       "<text text-anchor=\"\" x=\"242.38709677419354\" y=\"116.5\" font-size=\"12\" font-family=\"Verdana\" fill=\"rgb(0,0,0)\" ></text>\n",
       "<rect vector-effect=\"non-scaling-stroke\" x=\"243.14516129032256\" y=\"105.0\" width=\"14.274193548387075\" height=\"15.0\" fill=\"rgb(255,141,62)\" rx=\"2\" ry=\"2\" data-shortinfo=\"#plan_fft#5 in FFTW.jl:585\" data-info=\"#plan_fft#5 in ./fft/FFTW.jl:585\"/>\n",
       "<text text-anchor=\"\" x=\"247.14516129032256\" y=\"116.5\" font-size=\"12\" font-family=\"Verdana\" fill=\"rgb(0,0,0)\" ></text>\n",
       "<rect vector-effect=\"non-scaling-stroke\" x=\"676.1290322580645\" y=\"105.0\" width=\"57.09677419354841\" height=\"15.0\" fill=\"rgb(180,211,70)\" rx=\"2\" ry=\"2\" data-shortinfo=\"circcopy! in multidimensional.jl:725\" data-info=\"circcopy! in ./multidimensional.jl:725\"/>\n",
       "<text text-anchor=\"\" x=\"680.1290322580645\" y=\"116.5\" font-size=\"12\" font-family=\"Verdana\" fill=\"rgb(0,0,0)\" ></text>\n",
       "<rect vector-effect=\"non-scaling-stroke\" x=\"737.983870967742\" y=\"105.0\" width=\"4.758064516129025\" height=\"15.0\" fill=\"rgb(255,164,156)\" rx=\"2\" ry=\"2\" data-shortinfo=\"setindex! in abstractarray.jl:832\" data-info=\"setindex! in ./abstractarray.jl:832\"/>\n",
       "<text text-anchor=\"\" x=\"741.983870967742\" y=\"116.5\" font-size=\"12\" font-family=\"Verdana\" fill=\"rgb(0,0,0)\" ></text>\n",
       "<rect vector-effect=\"non-scaling-stroke\" x=\"852.1774193548387\" y=\"105.0\" width=\"4.758064516129025\" height=\"15.0\" fill=\"rgb(158,158,158)\" rx=\"2\" ry=\"2\" data-shortinfo=\"macro expansion in cartesian.jl:62; macro expansion in multidimensional.jl:348; _unsafe_getindex! in multidimensional.jl:340\" data-info=\"macro expansion in ./cartesian.jl:62; macro expansion in ./multidimensional.jl:348; _unsafe_getindex! in ./multidimensional.jl:340\"/>\n",
       "<text text-anchor=\"\" x=\"856.1774193548387\" y=\"116.5\" font-size=\"12\" font-family=\"Verdana\" fill=\"rgb(0,0,0)\" ></text>\n",
       "<rect vector-effect=\"non-scaling-stroke\" x=\"856.9354838709677\" y=\"105.0\" width=\"14.274193548387075\" height=\"15.0\" fill=\"rgb(158,158,158)\" rx=\"2\" ry=\"2\" data-shortinfo=\"macro expansion in cartesian.jl:62; macro expansion in multidimensional.jl:348; _unsafe_getindex! in multidimensional.jl:340\" data-info=\"macro expansion in ./cartesian.jl:62; macro expansion in ./multidimensional.jl:348; _unsafe_getindex! in ./multidimensional.jl:340\"/>\n",
       "<text text-anchor=\"\" x=\"860.9354838709677\" y=\"116.5\" font-size=\"12\" font-family=\"Verdana\" fill=\"rgb(0,0,0)\" ></text>\n",
       "<rect vector-effect=\"non-scaling-stroke\" x=\"871.2096774193548\" y=\"105.0\" width=\"14.274193548387188\" height=\"15.0\" fill=\"rgb(205,185,255)\" rx=\"2\" ry=\"2\" data-shortinfo=\"macro expansion in multidimensional.jl:350; macro expansion in cartesian.jl:64; macro expansion in multidimensional.jl:348; _unsafe_getindex! in multidimensional.jl:340\" data-info=\"macro expansion in ./multidimensional.jl:350; macro expansion in ./cartesian.jl:64; macro expansion in ./multidimensional.jl:348; _unsafe_getindex! in ./multidimensional.jl:340\"/>\n",
       "<text text-anchor=\"\" x=\"875.2096774193548\" y=\"116.5\" font-size=\"12\" font-family=\"Verdana\" fill=\"rgb(0,0,0)\" ></text>\n",
       "<rect vector-effect=\"non-scaling-stroke\" x=\"966.3709677419355\" y=\"105.0\" width=\"71.37096774193549\" height=\"15.0\" fill=\"rgb(255,141,62)\" rx=\"2\" ry=\"2\" data-shortinfo=\"setindex! in abstractarray.jl:0\" data-info=\"setindex! in ./abstractarray.jl:0\"/>\n",
       "<text text-anchor=\"\" x=\"970.3709677419355\" y=\"116.5\" font-size=\"12\" font-family=\"Verdana\" fill=\"rgb(0,0,0)\" ></text>\n",
       "<rect vector-effect=\"non-scaling-stroke\" x=\"1037.741935483871\" y=\"105.0\" width=\"38.0645161290322\" height=\"15.0\" fill=\"rgb(180,211,70)\" rx=\"2\" ry=\"2\" data-shortinfo=\"setindex! in abstractarray.jl:832\" data-info=\"setindex! in ./abstractarray.jl:832\"/>\n",
       "<text text-anchor=\"\" x=\"1041.741935483871\" y=\"116.5\" font-size=\"12\" font-family=\"Verdana\" fill=\"rgb(0,0,0)\" ></text>\n",
       "<rect vector-effect=\"non-scaling-stroke\" x=\"1075.8064516129032\" y=\"105.0\" width=\"9.51612903225805\" height=\"15.0\" fill=\"rgb(180,211,70)\" rx=\"2\" ry=\"2\" data-shortinfo=\"setindex! in abstractarray.jl:832\" data-info=\"setindex! in ./abstractarray.jl:832\"/>\n",
       "<text text-anchor=\"\" x=\"1079.8064516129032\" y=\"116.5\" font-size=\"12\" font-family=\"Verdana\" fill=\"rgb(0,0,0)\" ></text>\n",
       "<rect vector-effect=\"non-scaling-stroke\" x=\"1151.9354838709678\" y=\"105.0\" width=\"23.790322580645125\" height=\"15.0\" fill=\"rgb(255,164,156)\" rx=\"2\" ry=\"2\" data-shortinfo=\"sort in sort.jl:417\" data-info=\"sort in ./sort.jl:417\"/>\n",
       "<text text-anchor=\"\" x=\"1155.9354838709678\" y=\"116.5\" font-size=\"12\" font-family=\"Verdana\" fill=\"rgb(0,0,0)\" ></text>\n",
       "<rect vector-effect=\"non-scaling-stroke\" x=\"1175.725806451613\" y=\"105.0\" width=\"4.758064516129025\" height=\"15.0\" fill=\"rgb(158,158,158)\" rx=\"2\" ry=\"2\" data-shortinfo=\"setindex! in abstractarray.jl:832\" data-info=\"setindex! in ./abstractarray.jl:832\"/>\n",
       "<text text-anchor=\"\" x=\"1179.725806451613\" y=\"116.5\" font-size=\"12\" font-family=\"Verdana\" fill=\"rgb(0,0,0)\" ></text>\n",
       "<rect vector-effect=\"non-scaling-stroke\" x=\"1180.483870967742\" y=\"105.0\" width=\"4.758064516129025\" height=\"15.0\" fill=\"rgb(205,185,255)\" rx=\"2\" ry=\"2\" data-shortinfo=\"macro expansion in simdloop.jl:72; macro expansion in broadcast.jl:123; _broadcast! in broadcast.jl:117\" data-info=\"macro expansion in ./simdloop.jl:72; macro expansion in ./broadcast.jl:123; _broadcast! in ./broadcast.jl:117\"/>\n",
       "<text text-anchor=\"\" x=\"1184.483870967742\" y=\"116.5\" font-size=\"12\" font-family=\"Verdana\" fill=\"rgb(0,0,0)\" ></text>\n",
       "<rect vector-effect=\"non-scaling-stroke\" x=\"10.0\" y=\"90.0\" width=\"19.032258064516128\" height=\"15.0\" fill=\"rgb(232,112,221)\" rx=\"2\" ry=\"2\" data-shortinfo=\"dsfmt_fill_array_close1_open2! in dSFMT.jl:75\" data-info=\"dsfmt_fill_array_close1_open2! in ./dSFMT.jl:75\"/>\n",
       "<text text-anchor=\"\" x=\"14.0\" y=\"101.5\" font-size=\"12\" font-family=\"Verdana\" fill=\"rgb(0,0,0)\" ></text>\n",
       "<rect vector-effect=\"non-scaling-stroke\" x=\"105.16129032258064\" y=\"90.0\" width=\"4.758064516129025\" height=\"15.0\" fill=\"rgb(50,180,78)\" rx=\"2\" ry=\"2\" data-shortinfo=\"randn_unlikely in random.jl:1147\" data-info=\"randn_unlikely in ./random.jl:1147\"/>\n",
       "<text text-anchor=\"\" x=\"109.16129032258064\" y=\"101.5\" font-size=\"12\" font-family=\"Verdana\" fill=\"rgb(0,0,0)\" ></text>\n",
       "<rect vector-effect=\"non-scaling-stroke\" x=\"243.14516129032256\" y=\"90.0\" width=\"4.758064516129025\" height=\"15.0\" fill=\"rgb(26,162,255)\" rx=\"2\" ry=\"2\" data-shortinfo=\"Type in FFTW.jl:463\" data-info=\"Type in ./fft/FFTW.jl:463\"/>\n",
       "<text text-anchor=\"\" x=\"247.14516129032256\" y=\"101.5\" font-size=\"12\" font-family=\"Verdana\" fill=\"rgb(0,0,0)\" ></text>\n",
       "<rect vector-effect=\"non-scaling-stroke\" x=\"247.9032258064516\" y=\"90.0\" width=\"9.51612903225805\" height=\"15.0\" fill=\"rgb(210,165,23)\" rx=\"2\" ry=\"2\" data-shortinfo=\"Type in FFTW.jl:464\" data-info=\"Type in ./fft/FFTW.jl:464\"/>\n",
       "<text text-anchor=\"\" x=\"251.9032258064516\" y=\"101.5\" font-size=\"12\" font-family=\"Verdana\" fill=\"rgb(0,0,0)\" ></text>\n",
       "<rect vector-effect=\"non-scaling-stroke\" x=\"676.1290322580645\" y=\"90.0\" width=\"52.338709677419274\" height=\"15.0\" fill=\"rgb(0,222,230)\" rx=\"2\" ry=\"2\" data-shortinfo=\"copy! in abstractarray.jl:559\" data-info=\"copy! in ./abstractarray.jl:559\"/>\n",
       "<text text-anchor=\"\" x=\"680.1290322580645\" y=\"101.5\" font-size=\"12\" font-family=\"Verdana\" fill=\"rgb(0,0,0)\" ></text>\n",
       "<rect vector-effect=\"non-scaling-stroke\" x=\"728.4677419354838\" y=\"90.0\" width=\"4.758064516129139\" height=\"15.0\" fill=\"rgb(0,222,230)\" rx=\"2\" ry=\"2\" data-shortinfo=\"copy! in abstractarray.jl:559\" data-info=\"copy! in ./abstractarray.jl:559\"/>\n",
       "<text text-anchor=\"\" x=\"732.4677419354838\" y=\"101.5\" font-size=\"12\" font-family=\"Verdana\" fill=\"rgb(0,0,0)\" ></text>\n",
       "<rect vector-effect=\"non-scaling-stroke\" x=\"737.983870967742\" y=\"90.0\" width=\"4.758064516129025\" height=\"15.0\" fill=\"rgb(232,112,221)\" rx=\"2\" ry=\"2\" data-shortinfo=\"checkbounds in abstractarray.jl:284; _setindex! in multidimensional.jl:365\" data-info=\"checkbounds in ./abstractarray.jl:284; _setindex! in ./multidimensional.jl:365\"/>\n",
       "<text text-anchor=\"\" x=\"741.983870967742\" y=\"101.5\" font-size=\"12\" font-family=\"Verdana\" fill=\"rgb(0,0,0)\" ></text>\n",
       "<rect vector-effect=\"non-scaling-stroke\" x=\"1061.532258064516\" y=\"90.0\" width=\"9.51612903225805\" height=\"15.0\" fill=\"rgb(50,180,78)\" rx=\"2\" ry=\"2\" data-shortinfo=\"_setindex! in multidimensional.jl:366\" data-info=\"_setindex! in ./multidimensional.jl:366\"/>\n",
       "<text text-anchor=\"\" x=\"1065.532258064516\" y=\"101.5\" font-size=\"12\" font-family=\"Verdana\" fill=\"rgb(0,0,0)\" ></text>\n",
       "<rect vector-effect=\"non-scaling-stroke\" x=\"1151.9354838709678\" y=\"90.0\" width=\"9.51612903225805\" height=\"15.0\" fill=\"rgb(26,162,255)\" rx=\"2\" ry=\"2\" data-shortinfo=\"copymutable in abstractarray.jl:653; #sort#8 in sort.jl:417\" data-info=\"copymutable in ./abstractarray.jl:653; #sort#8 in ./sort.jl:417\"/>\n",
       "<text text-anchor=\"\" x=\"1155.9354838709678\" y=\"101.5\" font-size=\"12\" font-family=\"Verdana\" fill=\"rgb(0,0,0)\" ></text>\n",
       "<rect vector-effect=\"non-scaling-stroke\" x=\"1161.4516129032259\" y=\"90.0\" width=\"9.51612903225805\" height=\"15.0\" fill=\"rgb(210,165,23)\" rx=\"2\" ry=\"2\" data-shortinfo=\"#sort#8 in sort.jl:417\" data-info=\"#sort#8 in ./sort.jl:417\"/>\n",
       "<text text-anchor=\"\" x=\"1165.4516129032259\" y=\"101.5\" font-size=\"12\" font-family=\"Verdana\" fill=\"rgb(0,0,0)\" ></text>\n",
       "<rect vector-effect=\"non-scaling-stroke\" x=\"1170.967741935484\" y=\"90.0\" width=\"4.758064516129025\" height=\"15.0\" fill=\"rgb(210,165,23)\" rx=\"2\" ry=\"2\" data-shortinfo=\"#sort#8 in sort.jl:417\" data-info=\"#sort#8 in ./sort.jl:417\"/>\n",
       "<text text-anchor=\"\" x=\"1174.967741935484\" y=\"101.5\" font-size=\"12\" font-family=\"Verdana\" fill=\"rgb(0,0,0)\" ></text>\n",
       "<rect vector-effect=\"non-scaling-stroke\" x=\"1175.725806451613\" y=\"90.0\" width=\"4.758064516129025\" height=\"15.0\" fill=\"rgb(0,222,230)\" rx=\"2\" ry=\"2\" data-shortinfo=\"macro expansion in multidimensional.jl:431; macro expansion in cartesian.jl:64; macro expansion in multidimensional.jl:429; _unsafe_batchsetindex! in multidimensional.jl:421\" data-info=\"macro expansion in ./multidimensional.jl:431; macro expansion in ./cartesian.jl:64; macro expansion in ./multidimensional.jl:429; _unsafe_batchsetindex! in ./multidimensional.jl:421\"/>\n",
       "<text text-anchor=\"\" x=\"1179.725806451613\" y=\"101.5\" font-size=\"12\" font-family=\"Verdana\" fill=\"rgb(0,0,0)\" ></text>\n",
       "<rect vector-effect=\"non-scaling-stroke\" x=\"243.14516129032256\" y=\"75.0\" width=\"4.758064516129025\" height=\"15.0\" fill=\"rgb(255,164,156)\" rx=\"2\" ry=\"2\" data-shortinfo=\"dims_howmany in FFTW.jl:419\" data-info=\"dims_howmany in ./fft/FFTW.jl:419\"/>\n",
       "<text text-anchor=\"\" x=\"247.14516129032256\" y=\"86.5\" font-size=\"12\" font-family=\"Verdana\" fill=\"rgb(0,0,0)\" ></text>\n",
       "<rect vector-effect=\"non-scaling-stroke\" x=\"1161.4516129032259\" y=\"75.0\" width=\"9.51612903225805\" height=\"15.0\" fill=\"rgb(158,158,158)\" rx=\"2\" ry=\"2\" data-shortinfo=\"sort! in sort.jl:623\" data-info=\"sort! in ./sort.jl:623\"/>\n",
       "<text text-anchor=\"\" x=\"1165.4516129032259\" y=\"86.5\" font-size=\"12\" font-family=\"Verdana\" fill=\"rgb(0,0,0)\" ></text>\n",
       "<rect vector-effect=\"non-scaling-stroke\" x=\"1170.967741935484\" y=\"75.0\" width=\"4.758064516129025\" height=\"15.0\" fill=\"rgb(205,185,255)\" rx=\"2\" ry=\"2\" data-shortinfo=\"copy! in array.jl:65\" data-info=\"copy! in ./array.jl:65\"/>\n",
       "<text text-anchor=\"\" x=\"1174.967741935484\" y=\"86.5\" font-size=\"12\" font-family=\"Verdana\" fill=\"rgb(0,0,0)\" ></text>\n",
       "<rect vector-effect=\"non-scaling-stroke\" x=\"243.14516129032256\" y=\"60.0\" width=\"4.758064516129025\" height=\"15.0\" fill=\"rgb(232,112,221)\" rx=\"2\" ry=\"2\" data-shortinfo=\"hcat in array.jl:741\" data-info=\"hcat in ./array.jl:741\"/>\n",
       "<text text-anchor=\"\" x=\"247.14516129032256\" y=\"71.5\" font-size=\"12\" font-family=\"Verdana\" fill=\"rgb(0,0,0)\" ></text>\n",
       "<rect vector-effect=\"non-scaling-stroke\" x=\"1161.4516129032259\" y=\"60.0\" width=\"4.758064516129025\" height=\"15.0\" fill=\"rgb(50,180,78)\" rx=\"2\" ry=\"2\" data-shortinfo=\"fpsort! in sort.jl:608\" data-info=\"fpsort! in ./sort.jl:608\"/>\n",
       "<text text-anchor=\"\" x=\"1165.4516129032259\" y=\"71.5\" font-size=\"12\" font-family=\"Verdana\" fill=\"rgb(0,0,0)\" ></text>\n",
       "<rect vector-effect=\"non-scaling-stroke\" x=\"1166.2096774193549\" y=\"60.0\" width=\"4.758064516129025\" height=\"15.0\" fill=\"rgb(26,162,255)\" rx=\"2\" ry=\"2\" data-shortinfo=\"fpsort! in sort.jl:614\" data-info=\"fpsort! in ./sort.jl:614\"/>\n",
       "<text text-anchor=\"\" x=\"1170.2096774193549\" y=\"71.5\" font-size=\"12\" font-family=\"Verdana\" fill=\"rgb(0,0,0)\" ></text>\n",
       "<rect vector-effect=\"non-scaling-stroke\" x=\"1170.967741935484\" y=\"60.0\" width=\"4.758064516129025\" height=\"15.0\" fill=\"rgb(210,165,23)\" rx=\"2\" ry=\"2\" data-shortinfo=\"unsafe_copy! in array.jl:44; unsafe_copy! in array.jl:51\" data-info=\"unsafe_copy! in ./array.jl:44; unsafe_copy! in ./array.jl:51\"/>\n",
       "<text text-anchor=\"\" x=\"1174.967741935484\" y=\"71.5\" font-size=\"12\" font-family=\"Verdana\" fill=\"rgb(0,0,0)\" ></text>\n",
       "<rect vector-effect=\"non-scaling-stroke\" x=\"1166.2096774193549\" y=\"45.0\" width=\"4.758064516129025\" height=\"15.0\" fill=\"rgb(255,164,156)\" rx=\"2\" ry=\"2\" data-shortinfo=\"sort! in sort.jl:293\" data-info=\"sort! in ./sort.jl:293\"/>\n",
       "<text text-anchor=\"\" x=\"1170.2096774193549\" y=\"56.5\" font-size=\"12\" font-family=\"Verdana\" fill=\"rgb(0,0,0)\" ></text>\n",
       "<rect vector-effect=\"non-scaling-stroke\" x=\"1166.2096774193549\" y=\"30.0\" width=\"4.758064516129025\" height=\"15.0\" fill=\"rgb(232,112,221)\" rx=\"2\" ry=\"2\" data-shortinfo=\"sort! in sort.jl:220\" data-info=\"sort! in ./sort.jl:220\"/>\n",
       "<text text-anchor=\"\" x=\"1170.2096774193549\" y=\"41.5\" font-size=\"12\" font-family=\"Verdana\" fill=\"rgb(0,0,0)\" ></text>\n",
       "    </g></g>\n",
       "    <script><![CDATA[(function(N){var k=/[\\.\\/]/,L=/\\s*,\\s*/,C=function(a,d){return a-d},a,v,y={n:{}},M=function(){for(var a=0,d=this.length;a<d;a++)if(\"undefined\"!=typeof this[a])return this[a]},A=function(){for(var a=this.length;--a;)if(\"undefined\"!=typeof this[a])return this[a]},w=function(k,d){k=String(k);var f=v,n=Array.prototype.slice.call(arguments,2),u=w.listeners(k),p=0,b,q=[],e={},l=[],r=a;l.firstDefined=M;l.lastDefined=A;a=k;for(var s=v=0,x=u.length;s<x;s++)\"zIndex\"in u[s]&&(q.push(u[s].zIndex),0>u[s].zIndex&&\n",
       "(e[u[s].zIndex]=u[s]));for(q.sort(C);0>q[p];)if(b=e[q[p++] ],l.push(b.apply(d,n)),v)return v=f,l;for(s=0;s<x;s++)if(b=u[s],\"zIndex\"in b)if(b.zIndex==q[p]){l.push(b.apply(d,n));if(v)break;do if(p++,(b=e[q[p] ])&&l.push(b.apply(d,n)),v)break;while(b)}else e[b.zIndex]=b;else if(l.push(b.apply(d,n)),v)break;v=f;a=r;return l};w._events=y;w.listeners=function(a){a=a.split(k);var d=y,f,n,u,p,b,q,e,l=[d],r=[];u=0;for(p=a.length;u<p;u++){e=[];b=0;for(q=l.length;b<q;b++)for(d=l[b].n,f=[d[a[u] ],d[\"*\"] ],n=2;n--;)if(d=\n",
       "f[n])e.push(d),r=r.concat(d.f||[]);l=e}return r};w.on=function(a,d){a=String(a);if(\"function\"!=typeof d)return function(){};for(var f=a.split(L),n=0,u=f.length;n<u;n++)(function(a){a=a.split(k);for(var b=y,f,e=0,l=a.length;e<l;e++)b=b.n,b=b.hasOwnProperty(a[e])&&b[a[e] ]||(b[a[e] ]={n:{}});b.f=b.f||[];e=0;for(l=b.f.length;e<l;e++)if(b.f[e]==d){f=!0;break}!f&&b.f.push(d)})(f[n]);return function(a){+a==+a&&(d.zIndex=+a)}};w.f=function(a){var d=[].slice.call(arguments,1);return function(){w.apply(null,\n",
       "[a,null].concat(d).concat([].slice.call(arguments,0)))}};w.stop=function(){v=1};w.nt=function(k){return k?(new RegExp(\"(?:\\\\.|\\\\/|^)\"+k+\"(?:\\\\.|\\\\/|$)\")).test(a):a};w.nts=function(){return a.split(k)};w.off=w.unbind=function(a,d){if(a){var f=a.split(L);if(1<f.length)for(var n=0,u=f.length;n<u;n++)w.off(f[n],d);else{for(var f=a.split(k),p,b,q,e,l=[y],n=0,u=f.length;n<u;n++)for(e=0;e<l.length;e+=q.length-2){q=[e,1];p=l[e].n;if(\"*\"!=f[n])p[f[n] ]&&q.push(p[f[n] ]);else for(b in p)p.hasOwnProperty(b)&&\n",
       "q.push(p[b]);l.splice.apply(l,q)}n=0;for(u=l.length;n<u;n++)for(p=l[n];p.n;){if(d){if(p.f){e=0;for(f=p.f.length;e<f;e++)if(p.f[e]==d){p.f.splice(e,1);break}!p.f.length&&delete p.f}for(b in p.n)if(p.n.hasOwnProperty(b)&&p.n[b].f){q=p.n[b].f;e=0;for(f=q.length;e<f;e++)if(q[e]==d){q.splice(e,1);break}!q.length&&delete p.n[b].f}}else for(b in delete p.f,p.n)p.n.hasOwnProperty(b)&&p.n[b].f&&delete p.n[b].f;p=p.n}}}else w._events=y={n:{}}};w.once=function(a,d){var f=function(){w.unbind(a,f);return d.apply(this,\n",
       "arguments)};return w.on(a,f)};w.version=\"0.4.2\";w.toString=function(){return\"You are running Eve 0.4.2\"};\"undefined\"!=typeof module&&module.exports?module.exports=w:\"function\"===typeof define&&define.amd?define(\"eve\",[],function(){return w}):N.eve=w})(this);\n",
       "(function(N,k){\"function\"===typeof define&&define.amd?define(\"Snap.svg\",[\"eve\"],function(L){return k(N,L)}):k(N,N.eve)})(this,function(N,k){var L=function(a){var k={},y=N.requestAnimationFrame||N.webkitRequestAnimationFrame||N.mozRequestAnimationFrame||N.oRequestAnimationFrame||N.msRequestAnimationFrame||function(a){setTimeout(a,16)},M=Array.isArray||function(a){return a instanceof Array||\"[object Array]\"==Object.prototype.toString.call(a)},A=0,w=\"M\"+(+new Date).toString(36),z=function(a){if(null==\n",
       "a)return this.s;var b=this.s-a;this.b+=this.dur*b;this.B+=this.dur*b;this.s=a},d=function(a){if(null==a)return this.spd;this.spd=a},f=function(a){if(null==a)return this.dur;this.s=this.s*a/this.dur;this.dur=a},n=function(){delete k[this.id];this.update();a(\"mina.stop.\"+this.id,this)},u=function(){this.pdif||(delete k[this.id],this.update(),this.pdif=this.get()-this.b)},p=function(){this.pdif&&(this.b=this.get()-this.pdif,delete this.pdif,k[this.id]=this)},b=function(){var a;if(M(this.start)){a=[];\n",
       "for(var b=0,e=this.start.length;b<e;b++)a[b]=+this.start[b]+(this.end[b]-this.start[b])*this.easing(this.s)}else a=+this.start+(this.end-this.start)*this.easing(this.s);this.set(a)},q=function(){var l=0,b;for(b in k)if(k.hasOwnProperty(b)){var e=k[b],f=e.get();l++;e.s=(f-e.b)/(e.dur/e.spd);1<=e.s&&(delete k[b],e.s=1,l--,function(b){setTimeout(function(){a(\"mina.finish.\"+b.id,b)})}(e));e.update()}l&&y(q)},e=function(a,r,s,x,G,h,J){a={id:w+(A++).toString(36),start:a,end:r,b:s,s:0,dur:x-s,spd:1,get:G,\n",
       "set:h,easing:J||e.linear,status:z,speed:d,duration:f,stop:n,pause:u,resume:p,update:b};k[a.id]=a;r=0;for(var K in k)if(k.hasOwnProperty(K)&&(r++,2==r))break;1==r&&y(q);return a};e.time=Date.now||function(){return+new Date};e.getById=function(a){return k[a]||null};e.linear=function(a){return a};e.easeout=function(a){return Math.pow(a,1.7)};e.easein=function(a){return Math.pow(a,0.48)};e.easeinout=function(a){if(1==a)return 1;if(0==a)return 0;var b=0.48-a/1.04,e=Math.sqrt(0.1734+b*b);a=e-b;a=Math.pow(Math.abs(a),\n",
       "1/3)*(0>a?-1:1);b=-e-b;b=Math.pow(Math.abs(b),1/3)*(0>b?-1:1);a=a+b+0.5;return 3*(1-a)*a*a+a*a*a};e.backin=function(a){return 1==a?1:a*a*(2.70158*a-1.70158)};e.backout=function(a){if(0==a)return 0;a-=1;return a*a*(2.70158*a+1.70158)+1};e.elastic=function(a){return a==!!a?a:Math.pow(2,-10*a)*Math.sin(2*(a-0.075)*Math.PI/0.3)+1};e.bounce=function(a){a<1/2.75?a*=7.5625*a:a<2/2.75?(a-=1.5/2.75,a=7.5625*a*a+0.75):a<2.5/2.75?(a-=2.25/2.75,a=7.5625*a*a+0.9375):(a-=2.625/2.75,a=7.5625*a*a+0.984375);return a};\n",
       "return N.mina=e}(\"undefined\"==typeof k?function(){}:k),C=function(){function a(c,t){if(c){if(c.tagName)return x(c);if(y(c,\"array\")&&a.set)return a.set.apply(a,c);if(c instanceof e)return c;if(null==t)return c=G.doc.querySelector(c),x(c)}return new s(null==c?\"100%\":c,null==t?\"100%\":t)}function v(c,a){if(a){\"#text\"==c&&(c=G.doc.createTextNode(a.text||\"\"));\"string\"==typeof c&&(c=v(c));if(\"string\"==typeof a)return\"xlink:\"==a.substring(0,6)?c.getAttributeNS(m,a.substring(6)):\"xml:\"==a.substring(0,4)?c.getAttributeNS(la,\n",
       "a.substring(4)):c.getAttribute(a);for(var da in a)if(a[h](da)){var b=J(a[da]);b?\"xlink:\"==da.substring(0,6)?c.setAttributeNS(m,da.substring(6),b):\"xml:\"==da.substring(0,4)?c.setAttributeNS(la,da.substring(4),b):c.setAttribute(da,b):c.removeAttribute(da)}}else c=G.doc.createElementNS(la,c);return c}function y(c,a){a=J.prototype.toLowerCase.call(a);return\"finite\"==a?isFinite(c):\"array\"==a&&(c instanceof Array||Array.isArray&&Array.isArray(c))?!0:\"null\"==a&&null===c||a==typeof c&&null!==c||\"object\"==\n",
       "a&&c===Object(c)||$.call(c).slice(8,-1).toLowerCase()==a}function M(c){if(\"function\"==typeof c||Object(c)!==c)return c;var a=new c.constructor,b;for(b in c)c[h](b)&&(a[b]=M(c[b]));return a}function A(c,a,b){function m(){var e=Array.prototype.slice.call(arguments,0),f=e.join(\"\\u2400\"),d=m.cache=m.cache||{},l=m.count=m.count||[];if(d[h](f)){a:for(var e=l,l=f,B=0,H=e.length;B<H;B++)if(e[B]===l){e.push(e.splice(B,1)[0]);break a}return b?b(d[f]):d[f]}1E3<=l.length&&delete d[l.shift()];l.push(f);d[f]=c.apply(a,\n",
       "e);return b?b(d[f]):d[f]}return m}function w(c,a,b,m,e,f){return null==e?(c-=b,a-=m,c||a?(180*I.atan2(-a,-c)/C+540)%360:0):w(c,a,e,f)-w(b,m,e,f)}function z(c){return c%360*C/180}function d(c){var a=[];c=c.replace(/(?:^|\\s)(\\w+)\\(([^)]+)\\)/g,function(c,b,m){m=m.split(/\\s*,\\s*|\\s+/);\"rotate\"==b&&1==m.length&&m.push(0,0);\"scale\"==b&&(2<m.length?m=m.slice(0,2):2==m.length&&m.push(0,0),1==m.length&&m.push(m[0],0,0));\"skewX\"==b?a.push([\"m\",1,0,I.tan(z(m[0])),1,0,0]):\"skewY\"==b?a.push([\"m\",1,I.tan(z(m[0])),\n",
       "0,1,0,0]):a.push([b.charAt(0)].concat(m));return c});return a}function f(c,t){var b=O(c),m=new a.Matrix;if(b)for(var e=0,f=b.length;e<f;e++){var h=b[e],d=h.length,B=J(h[0]).toLowerCase(),H=h[0]!=B,l=H?m.invert():0,E;\"t\"==B&&2==d?m.translate(h[1],0):\"t\"==B&&3==d?H?(d=l.x(0,0),B=l.y(0,0),H=l.x(h[1],h[2]),l=l.y(h[1],h[2]),m.translate(H-d,l-B)):m.translate(h[1],h[2]):\"r\"==B?2==d?(E=E||t,m.rotate(h[1],E.x+E.width/2,E.y+E.height/2)):4==d&&(H?(H=l.x(h[2],h[3]),l=l.y(h[2],h[3]),m.rotate(h[1],H,l)):m.rotate(h[1],\n",
       "h[2],h[3])):\"s\"==B?2==d||3==d?(E=E||t,m.scale(h[1],h[d-1],E.x+E.width/2,E.y+E.height/2)):4==d?H?(H=l.x(h[2],h[3]),l=l.y(h[2],h[3]),m.scale(h[1],h[1],H,l)):m.scale(h[1],h[1],h[2],h[3]):5==d&&(H?(H=l.x(h[3],h[4]),l=l.y(h[3],h[4]),m.scale(h[1],h[2],H,l)):m.scale(h[1],h[2],h[3],h[4])):\"m\"==B&&7==d&&m.add(h[1],h[2],h[3],h[4],h[5],h[6])}return m}function n(c,t){if(null==t){var m=!0;t=\"linearGradient\"==c.type||\"radialGradient\"==c.type?c.node.getAttribute(\"gradientTransform\"):\"pattern\"==c.type?c.node.getAttribute(\"patternTransform\"):\n",
       "c.node.getAttribute(\"transform\");if(!t)return new a.Matrix;t=d(t)}else t=a._.rgTransform.test(t)?J(t).replace(/\\.{3}|\\u2026/g,c._.transform||aa):d(t),y(t,\"array\")&&(t=a.path?a.path.toString.call(t):J(t)),c._.transform=t;var b=f(t,c.getBBox(1));if(m)return b;c.matrix=b}function u(c){c=c.node.ownerSVGElement&&x(c.node.ownerSVGElement)||c.node.parentNode&&x(c.node.parentNode)||a.select(\"svg\")||a(0,0);var t=c.select(\"defs\"),t=null==t?!1:t.node;t||(t=r(\"defs\",c.node).node);return t}function p(c){return c.node.ownerSVGElement&&\n",
       "x(c.node.ownerSVGElement)||a.select(\"svg\")}function b(c,a,m){function b(c){if(null==c)return aa;if(c==+c)return c;v(B,{width:c});try{return B.getBBox().width}catch(a){return 0}}function h(c){if(null==c)return aa;if(c==+c)return c;v(B,{height:c});try{return B.getBBox().height}catch(a){return 0}}function e(b,B){null==a?d[b]=B(c.attr(b)||0):b==a&&(d=B(null==m?c.attr(b)||0:m))}var f=p(c).node,d={},B=f.querySelector(\".svg---mgr\");B||(B=v(\"rect\"),v(B,{x:-9E9,y:-9E9,width:10,height:10,\"class\":\"svg---mgr\",\n",
       "fill:\"none\"}),f.appendChild(B));switch(c.type){case \"rect\":e(\"rx\",b),e(\"ry\",h);case \"image\":e(\"width\",b),e(\"height\",h);case \"text\":e(\"x\",b);e(\"y\",h);break;case \"circle\":e(\"cx\",b);e(\"cy\",h);e(\"r\",b);break;case \"ellipse\":e(\"cx\",b);e(\"cy\",h);e(\"rx\",b);e(\"ry\",h);break;case \"line\":e(\"x1\",b);e(\"x2\",b);e(\"y1\",h);e(\"y2\",h);break;case \"marker\":e(\"refX\",b);e(\"markerWidth\",b);e(\"refY\",h);e(\"markerHeight\",h);break;case \"radialGradient\":e(\"fx\",b);e(\"fy\",h);break;case \"tspan\":e(\"dx\",b);e(\"dy\",h);break;default:e(a,\n",
       "b)}f.removeChild(B);return d}function q(c){y(c,\"array\")||(c=Array.prototype.slice.call(arguments,0));for(var a=0,b=0,m=this.node;this[a];)delete this[a++];for(a=0;a<c.length;a++)\"set\"==c[a].type?c[a].forEach(function(c){m.appendChild(c.node)}):m.appendChild(c[a].node);for(var h=m.childNodes,a=0;a<h.length;a++)this[b++]=x(h[a]);return this}function e(c){if(c.snap in E)return E[c.snap];var a=this.id=V(),b;try{b=c.ownerSVGElement}catch(m){}this.node=c;b&&(this.paper=new s(b));this.type=c.tagName;this.anims=\n",
       "{};this._={transform:[]};c.snap=a;E[a]=this;\"g\"==this.type&&(this.add=q);if(this.type in{g:1,mask:1,pattern:1})for(var e in s.prototype)s.prototype[h](e)&&(this[e]=s.prototype[e])}function l(c){this.node=c}function r(c,a){var b=v(c);a.appendChild(b);return x(b)}function s(c,a){var b,m,f,d=s.prototype;if(c&&\"svg\"==c.tagName){if(c.snap in E)return E[c.snap];var l=c.ownerDocument;b=new e(c);m=c.getElementsByTagName(\"desc\")[0];f=c.getElementsByTagName(\"defs\")[0];m||(m=v(\"desc\"),m.appendChild(l.createTextNode(\"Created with Snap\")),\n",
       "b.node.appendChild(m));f||(f=v(\"defs\"),b.node.appendChild(f));b.defs=f;for(var ca in d)d[h](ca)&&(b[ca]=d[ca]);b.paper=b.root=b}else b=r(\"svg\",G.doc.body),v(b.node,{height:a,version:1.1,width:c,xmlns:la});return b}function x(c){return!c||c instanceof e||c instanceof l?c:c.tagName&&\"svg\"==c.tagName.toLowerCase()?new s(c):c.tagName&&\"object\"==c.tagName.toLowerCase()&&\"image/svg+xml\"==c.type?new s(c.contentDocument.getElementsByTagName(\"svg\")[0]):new e(c)}a.version=\"0.3.0\";a.toString=function(){return\"Snap v\"+\n",
       "this.version};a._={};var G={win:N,doc:N.document};a._.glob=G;var h=\"hasOwnProperty\",J=String,K=parseFloat,U=parseInt,I=Math,P=I.max,Q=I.min,Y=I.abs,C=I.PI,aa=\"\",$=Object.prototype.toString,F=/^\\s*((#[a-f\\d]{6})|(#[a-f\\d]{3})|rgba?\\(\\s*([\\d\\.]+%?\\s*,\\s*[\\d\\.]+%?\\s*,\\s*[\\d\\.]+%?(?:\\s*,\\s*[\\d\\.]+%?)?)\\s*\\)|hsba?\\(\\s*([\\d\\.]+(?:deg|\\xb0|%)?\\s*,\\s*[\\d\\.]+%?\\s*,\\s*[\\d\\.]+(?:%?\\s*,\\s*[\\d\\.]+)?%?)\\s*\\)|hsla?\\(\\s*([\\d\\.]+(?:deg|\\xb0|%)?\\s*,\\s*[\\d\\.]+%?\\s*,\\s*[\\d\\.]+(?:%?\\s*,\\s*[\\d\\.]+)?%?)\\s*\\))\\s*$/i;a._.separator=\n",
       "RegExp(\"[,\\t\\n\\x0B\\f\\r \\u00a0\\u1680\\u180e\\u2000\\u2001\\u2002\\u2003\\u2004\\u2005\\u2006\\u2007\\u2008\\u2009\\u200a\\u202f\\u205f\\u3000\\u2028\\u2029]+\");var S=RegExp(\"[\\t\\n\\x0B\\f\\r \\u00a0\\u1680\\u180e\\u2000\\u2001\\u2002\\u2003\\u2004\\u2005\\u2006\\u2007\\u2008\\u2009\\u200a\\u202f\\u205f\\u3000\\u2028\\u2029]*,[\\t\\n\\x0B\\f\\r \\u00a0\\u1680\\u180e\\u2000\\u2001\\u2002\\u2003\\u2004\\u2005\\u2006\\u2007\\u2008\\u2009\\u200a\\u202f\\u205f\\u3000\\u2028\\u2029]*\"),X={hs:1,rg:1},W=RegExp(\"([a-z])[\\t\\n\\x0B\\f\\r \\u00a0\\u1680\\u180e\\u2000\\u2001\\u2002\\u2003\\u2004\\u2005\\u2006\\u2007\\u2008\\u2009\\u200a\\u202f\\u205f\\u3000\\u2028\\u2029,]*((-?\\\\d*\\\\.?\\\\d*(?:e[\\\\-+]?\\\\d+)?[\\t\\n\\x0B\\f\\r \\u00a0\\u1680\\u180e\\u2000\\u2001\\u2002\\u2003\\u2004\\u2005\\u2006\\u2007\\u2008\\u2009\\u200a\\u202f\\u205f\\u3000\\u2028\\u2029]*,?[\\t\\n\\x0B\\f\\r \\u00a0\\u1680\\u180e\\u2000\\u2001\\u2002\\u2003\\u2004\\u2005\\u2006\\u2007\\u2008\\u2009\\u200a\\u202f\\u205f\\u3000\\u2028\\u2029]*)+)\",\n",
       "\"ig\"),ma=RegExp(\"([rstm])[\\t\\n\\x0B\\f\\r \\u00a0\\u1680\\u180e\\u2000\\u2001\\u2002\\u2003\\u2004\\u2005\\u2006\\u2007\\u2008\\u2009\\u200a\\u202f\\u205f\\u3000\\u2028\\u2029,]*((-?\\\\d*\\\\.?\\\\d*(?:e[\\\\-+]?\\\\d+)?[\\t\\n\\x0B\\f\\r \\u00a0\\u1680\\u180e\\u2000\\u2001\\u2002\\u2003\\u2004\\u2005\\u2006\\u2007\\u2008\\u2009\\u200a\\u202f\\u205f\\u3000\\u2028\\u2029]*,?[\\t\\n\\x0B\\f\\r \\u00a0\\u1680\\u180e\\u2000\\u2001\\u2002\\u2003\\u2004\\u2005\\u2006\\u2007\\u2008\\u2009\\u200a\\u202f\\u205f\\u3000\\u2028\\u2029]*)+)\",\"ig\"),Z=RegExp(\"(-?\\\\d*\\\\.?\\\\d*(?:e[\\\\-+]?\\\\d+)?)[\\t\\n\\x0B\\f\\r \\u00a0\\u1680\\u180e\\u2000\\u2001\\u2002\\u2003\\u2004\\u2005\\u2006\\u2007\\u2008\\u2009\\u200a\\u202f\\u205f\\u3000\\u2028\\u2029]*,?[\\t\\n\\x0B\\f\\r \\u00a0\\u1680\\u180e\\u2000\\u2001\\u2002\\u2003\\u2004\\u2005\\u2006\\u2007\\u2008\\u2009\\u200a\\u202f\\u205f\\u3000\\u2028\\u2029]*\",\n",
       "\"ig\"),na=0,ba=\"S\"+(+new Date).toString(36),V=function(){return ba+(na++).toString(36)},m=\"http://www.w3.org/1999/xlink\",la=\"http://www.w3.org/2000/svg\",E={},ca=a.url=function(c){return\"url('#\"+c+\"')\"};a._.$=v;a._.id=V;a.format=function(){var c=/\\{([^\\}]+)\\}/g,a=/(?:(?:^|\\.)(.+?)(?=\\[|\\.|$|\\()|\\[('|\")(.+?)\\2\\])(\\(\\))?/g,b=function(c,b,m){var h=m;b.replace(a,function(c,a,b,m,t){a=a||m;h&&(a in h&&(h=h[a]),\"function\"==typeof h&&t&&(h=h()))});return h=(null==h||h==m?c:h)+\"\"};return function(a,m){return J(a).replace(c,\n",
       "function(c,a){return b(c,a,m)})}}();a._.clone=M;a._.cacher=A;a.rad=z;a.deg=function(c){return 180*c/C%360};a.angle=w;a.is=y;a.snapTo=function(c,a,b){b=y(b,\"finite\")?b:10;if(y(c,\"array\"))for(var m=c.length;m--;){if(Y(c[m]-a)<=b)return c[m]}else{c=+c;m=a%c;if(m<b)return a-m;if(m>c-b)return a-m+c}return a};a.getRGB=A(function(c){if(!c||(c=J(c)).indexOf(\"-\")+1)return{r:-1,g:-1,b:-1,hex:\"none\",error:1,toString:ka};if(\"none\"==c)return{r:-1,g:-1,b:-1,hex:\"none\",toString:ka};!X[h](c.toLowerCase().substring(0,\n",
       "2))&&\"#\"!=c.charAt()&&(c=T(c));if(!c)return{r:-1,g:-1,b:-1,hex:\"none\",error:1,toString:ka};var b,m,e,f,d;if(c=c.match(F)){c[2]&&(e=U(c[2].substring(5),16),m=U(c[2].substring(3,5),16),b=U(c[2].substring(1,3),16));c[3]&&(e=U((d=c[3].charAt(3))+d,16),m=U((d=c[3].charAt(2))+d,16),b=U((d=c[3].charAt(1))+d,16));c[4]&&(d=c[4].split(S),b=K(d[0]),\"%\"==d[0].slice(-1)&&(b*=2.55),m=K(d[1]),\"%\"==d[1].slice(-1)&&(m*=2.55),e=K(d[2]),\"%\"==d[2].slice(-1)&&(e*=2.55),\"rgba\"==c[1].toLowerCase().slice(0,4)&&(f=K(d[3])),\n",
       "d[3]&&\"%\"==d[3].slice(-1)&&(f/=100));if(c[5])return d=c[5].split(S),b=K(d[0]),\"%\"==d[0].slice(-1)&&(b/=100),m=K(d[1]),\"%\"==d[1].slice(-1)&&(m/=100),e=K(d[2]),\"%\"==d[2].slice(-1)&&(e/=100),\"deg\"!=d[0].slice(-3)&&\"\\u00b0\"!=d[0].slice(-1)||(b/=360),\"hsba\"==c[1].toLowerCase().slice(0,4)&&(f=K(d[3])),d[3]&&\"%\"==d[3].slice(-1)&&(f/=100),a.hsb2rgb(b,m,e,f);if(c[6])return d=c[6].split(S),b=K(d[0]),\"%\"==d[0].slice(-1)&&(b/=100),m=K(d[1]),\"%\"==d[1].slice(-1)&&(m/=100),e=K(d[2]),\"%\"==d[2].slice(-1)&&(e/=100),\n",
       "\"deg\"!=d[0].slice(-3)&&\"\\u00b0\"!=d[0].slice(-1)||(b/=360),\"hsla\"==c[1].toLowerCase().slice(0,4)&&(f=K(d[3])),d[3]&&\"%\"==d[3].slice(-1)&&(f/=100),a.hsl2rgb(b,m,e,f);b=Q(I.round(b),255);m=Q(I.round(m),255);e=Q(I.round(e),255);f=Q(P(f,0),1);c={r:b,g:m,b:e,toString:ka};c.hex=\"#\"+(16777216|e|m<<8|b<<16).toString(16).slice(1);c.opacity=y(f,\"finite\")?f:1;return c}return{r:-1,g:-1,b:-1,hex:\"none\",error:1,toString:ka}},a);a.hsb=A(function(c,b,m){return a.hsb2rgb(c,b,m).hex});a.hsl=A(function(c,b,m){return a.hsl2rgb(c,\n",
       "b,m).hex});a.rgb=A(function(c,a,b,m){if(y(m,\"finite\")){var e=I.round;return\"rgba(\"+[e(c),e(a),e(b),+m.toFixed(2)]+\")\"}return\"#\"+(16777216|b|a<<8|c<<16).toString(16).slice(1)});var T=function(c){var a=G.doc.getElementsByTagName(\"head\")[0]||G.doc.getElementsByTagName(\"svg\")[0];T=A(function(c){if(\"red\"==c.toLowerCase())return\"rgb(255, 0, 0)\";a.style.color=\"rgb(255, 0, 0)\";a.style.color=c;c=G.doc.defaultView.getComputedStyle(a,aa).getPropertyValue(\"color\");return\"rgb(255, 0, 0)\"==c?null:c});return T(c)},\n",
       "qa=function(){return\"hsb(\"+[this.h,this.s,this.b]+\")\"},ra=function(){return\"hsl(\"+[this.h,this.s,this.l]+\")\"},ka=function(){return 1==this.opacity||null==this.opacity?this.hex:\"rgba(\"+[this.r,this.g,this.b,this.opacity]+\")\"},D=function(c,b,m){null==b&&y(c,\"object\")&&\"r\"in c&&\"g\"in c&&\"b\"in c&&(m=c.b,b=c.g,c=c.r);null==b&&y(c,string)&&(m=a.getRGB(c),c=m.r,b=m.g,m=m.b);if(1<c||1<b||1<m)c/=255,b/=255,m/=255;return[c,b,m]},oa=function(c,b,m,e){c=I.round(255*c);b=I.round(255*b);m=I.round(255*m);c={r:c,\n",
       "g:b,b:m,opacity:y(e,\"finite\")?e:1,hex:a.rgb(c,b,m),toString:ka};y(e,\"finite\")&&(c.opacity=e);return c};a.color=function(c){var b;y(c,\"object\")&&\"h\"in c&&\"s\"in c&&\"b\"in c?(b=a.hsb2rgb(c),c.r=b.r,c.g=b.g,c.b=b.b,c.opacity=1,c.hex=b.hex):y(c,\"object\")&&\"h\"in c&&\"s\"in c&&\"l\"in c?(b=a.hsl2rgb(c),c.r=b.r,c.g=b.g,c.b=b.b,c.opacity=1,c.hex=b.hex):(y(c,\"string\")&&(c=a.getRGB(c)),y(c,\"object\")&&\"r\"in c&&\"g\"in c&&\"b\"in c&&!(\"error\"in c)?(b=a.rgb2hsl(c),c.h=b.h,c.s=b.s,c.l=b.l,b=a.rgb2hsb(c),c.v=b.b):(c={hex:\"none\"},\n",
       "c.r=c.g=c.b=c.h=c.s=c.v=c.l=-1,c.error=1));c.toString=ka;return c};a.hsb2rgb=function(c,a,b,m){y(c,\"object\")&&\"h\"in c&&\"s\"in c&&\"b\"in c&&(b=c.b,a=c.s,c=c.h,m=c.o);var e,h,d;c=360*c%360/60;d=b*a;a=d*(1-Y(c%2-1));b=e=h=b-d;c=~~c;b+=[d,a,0,0,a,d][c];e+=[a,d,d,a,0,0][c];h+=[0,0,a,d,d,a][c];return oa(b,e,h,m)};a.hsl2rgb=function(c,a,b,m){y(c,\"object\")&&\"h\"in c&&\"s\"in c&&\"l\"in c&&(b=c.l,a=c.s,c=c.h);if(1<c||1<a||1<b)c/=360,a/=100,b/=100;var e,h,d;c=360*c%360/60;d=2*a*(0.5>b?b:1-b);a=d*(1-Y(c%2-1));b=e=\n",
       "h=b-d/2;c=~~c;b+=[d,a,0,0,a,d][c];e+=[a,d,d,a,0,0][c];h+=[0,0,a,d,d,a][c];return oa(b,e,h,m)};a.rgb2hsb=function(c,a,b){b=D(c,a,b);c=b[0];a=b[1];b=b[2];var m,e;m=P(c,a,b);e=m-Q(c,a,b);c=((0==e?0:m==c?(a-b)/e:m==a?(b-c)/e+2:(c-a)/e+4)+360)%6*60/360;return{h:c,s:0==e?0:e/m,b:m,toString:qa}};a.rgb2hsl=function(c,a,b){b=D(c,a,b);c=b[0];a=b[1];b=b[2];var m,e,h;m=P(c,a,b);e=Q(c,a,b);h=m-e;c=((0==h?0:m==c?(a-b)/h:m==a?(b-c)/h+2:(c-a)/h+4)+360)%6*60/360;m=(m+e)/2;return{h:c,s:0==h?0:0.5>m?h/(2*m):h/(2-2*\n",
       "m),l:m,toString:ra}};a.parsePathString=function(c){if(!c)return null;var b=a.path(c);if(b.arr)return a.path.clone(b.arr);var m={a:7,c:6,o:2,h:1,l:2,m:2,r:4,q:4,s:4,t:2,v:1,u:3,z:0},e=[];y(c,\"array\")&&y(c[0],\"array\")&&(e=a.path.clone(c));e.length||J(c).replace(W,function(c,a,b){var h=[];c=a.toLowerCase();b.replace(Z,function(c,a){a&&h.push(+a)});\"m\"==c&&2<h.length&&(e.push([a].concat(h.splice(0,2))),c=\"l\",a=\"m\"==a?\"l\":\"L\");\"o\"==c&&1==h.length&&e.push([a,h[0] ]);if(\"r\"==c)e.push([a].concat(h));else for(;h.length>=\n",
       "m[c]&&(e.push([a].concat(h.splice(0,m[c]))),m[c]););});e.toString=a.path.toString;b.arr=a.path.clone(e);return e};var O=a.parseTransformString=function(c){if(!c)return null;var b=[];y(c,\"array\")&&y(c[0],\"array\")&&(b=a.path.clone(c));b.length||J(c).replace(ma,function(c,a,m){var e=[];a.toLowerCase();m.replace(Z,function(c,a){a&&e.push(+a)});b.push([a].concat(e))});b.toString=a.path.toString;return b};a._.svgTransform2string=d;a._.rgTransform=RegExp(\"^[a-z][\\t\\n\\x0B\\f\\r \\u00a0\\u1680\\u180e\\u2000\\u2001\\u2002\\u2003\\u2004\\u2005\\u2006\\u2007\\u2008\\u2009\\u200a\\u202f\\u205f\\u3000\\u2028\\u2029]*-?\\\\.?\\\\d\",\n",
       "\"i\");a._.transform2matrix=f;a._unit2px=b;a._.getSomeDefs=u;a._.getSomeSVG=p;a.select=function(c){return x(G.doc.querySelector(c))};a.selectAll=function(c){c=G.doc.querySelectorAll(c);for(var b=(a.set||Array)(),m=0;m<c.length;m++)b.push(x(c[m]));return b};setInterval(function(){for(var c in E)if(E[h](c)){var a=E[c],b=a.node;(\"svg\"!=a.type&&!b.ownerSVGElement||\"svg\"==a.type&&(!b.parentNode||\"ownerSVGElement\"in b.parentNode&&!b.ownerSVGElement))&&delete E[c]}},1E4);(function(c){function m(c){function a(c,\n",
       "b){var m=v(c.node,b);(m=(m=m&&m.match(d))&&m[2])&&\"#\"==m.charAt()&&(m=m.substring(1))&&(f[m]=(f[m]||[]).concat(function(a){var m={};m[b]=ca(a);v(c.node,m)}))}function b(c){var a=v(c.node,\"xlink:href\");a&&\"#\"==a.charAt()&&(a=a.substring(1))&&(f[a]=(f[a]||[]).concat(function(a){c.attr(\"xlink:href\",\"#\"+a)}))}var e=c.selectAll(\"*\"),h,d=/^\\s*url\\((\"|'|)(.*)\\1\\)\\s*$/;c=[];for(var f={},l=0,E=e.length;l<E;l++){h=e[l];a(h,\"fill\");a(h,\"stroke\");a(h,\"filter\");a(h,\"mask\");a(h,\"clip-path\");b(h);var t=v(h.node,\n",
       "\"id\");t&&(v(h.node,{id:h.id}),c.push({old:t,id:h.id}))}l=0;for(E=c.length;l<E;l++)if(e=f[c[l].old])for(h=0,t=e.length;h<t;h++)e[h](c[l].id)}function e(c,a,b){return function(m){m=m.slice(c,a);1==m.length&&(m=m[0]);return b?b(m):m}}function d(c){return function(){var a=c?\"<\"+this.type:\"\",b=this.node.attributes,m=this.node.childNodes;if(c)for(var e=0,h=b.length;e<h;e++)a+=\" \"+b[e].name+'=\"'+b[e].value.replace(/\"/g,'\\\\\"')+'\"';if(m.length){c&&(a+=\">\");e=0;for(h=m.length;e<h;e++)3==m[e].nodeType?a+=m[e].nodeValue:\n",
       "1==m[e].nodeType&&(a+=x(m[e]).toString());c&&(a+=\"</\"+this.type+\">\")}else c&&(a+=\"/>\");return a}}c.attr=function(c,a){if(!c)return this;if(y(c,\"string\"))if(1<arguments.length){var b={};b[c]=a;c=b}else return k(\"snap.util.getattr.\"+c,this).firstDefined();for(var m in c)c[h](m)&&k(\"snap.util.attr.\"+m,this,c[m]);return this};c.getBBox=function(c){if(!a.Matrix||!a.path)return this.node.getBBox();var b=this,m=new a.Matrix;if(b.removed)return a._.box();for(;\"use\"==b.type;)if(c||(m=m.add(b.transform().localMatrix.translate(b.attr(\"x\")||\n",
       "0,b.attr(\"y\")||0))),b.original)b=b.original;else var e=b.attr(\"xlink:href\"),b=b.original=b.node.ownerDocument.getElementById(e.substring(e.indexOf(\"#\")+1));var e=b._,h=a.path.get[b.type]||a.path.get.deflt;try{if(c)return e.bboxwt=h?a.path.getBBox(b.realPath=h(b)):a._.box(b.node.getBBox()),a._.box(e.bboxwt);b.realPath=h(b);b.matrix=b.transform().localMatrix;e.bbox=a.path.getBBox(a.path.map(b.realPath,m.add(b.matrix)));return a._.box(e.bbox)}catch(d){return a._.box()}};var f=function(){return this.string};\n",
       "c.transform=function(c){var b=this._;if(null==c){var m=this;c=new a.Matrix(this.node.getCTM());for(var e=n(this),h=[e],d=new a.Matrix,l=e.toTransformString(),b=J(e)==J(this.matrix)?J(b.transform):l;\"svg\"!=m.type&&(m=m.parent());)h.push(n(m));for(m=h.length;m--;)d.add(h[m]);return{string:b,globalMatrix:c,totalMatrix:d,localMatrix:e,diffMatrix:c.clone().add(e.invert()),global:c.toTransformString(),total:d.toTransformString(),local:l,toString:f}}c instanceof a.Matrix?this.matrix=c:n(this,c);this.node&&\n",
       "(\"linearGradient\"==this.type||\"radialGradient\"==this.type?v(this.node,{gradientTransform:this.matrix}):\"pattern\"==this.type?v(this.node,{patternTransform:this.matrix}):v(this.node,{transform:this.matrix}));return this};c.parent=function(){return x(this.node.parentNode)};c.append=c.add=function(c){if(c){if(\"set\"==c.type){var a=this;c.forEach(function(c){a.add(c)});return this}c=x(c);this.node.appendChild(c.node);c.paper=this.paper}return this};c.appendTo=function(c){c&&(c=x(c),c.append(this));return this};\n",
       "c.prepend=function(c){if(c){if(\"set\"==c.type){var a=this,b;c.forEach(function(c){b?b.after(c):a.prepend(c);b=c});return this}c=x(c);var m=c.parent();this.node.insertBefore(c.node,this.node.firstChild);this.add&&this.add();c.paper=this.paper;this.parent()&&this.parent().add();m&&m.add()}return this};c.prependTo=function(c){c=x(c);c.prepend(this);return this};c.before=function(c){if(\"set\"==c.type){var a=this;c.forEach(function(c){var b=c.parent();a.node.parentNode.insertBefore(c.node,a.node);b&&b.add()});\n",
       "this.parent().add();return this}c=x(c);var b=c.parent();this.node.parentNode.insertBefore(c.node,this.node);this.parent()&&this.parent().add();b&&b.add();c.paper=this.paper;return this};c.after=function(c){c=x(c);var a=c.parent();this.node.nextSibling?this.node.parentNode.insertBefore(c.node,this.node.nextSibling):this.node.parentNode.appendChild(c.node);this.parent()&&this.parent().add();a&&a.add();c.paper=this.paper;return this};c.insertBefore=function(c){c=x(c);var a=this.parent();c.node.parentNode.insertBefore(this.node,\n",
       "c.node);this.paper=c.paper;a&&a.add();c.parent()&&c.parent().add();return this};c.insertAfter=function(c){c=x(c);var a=this.parent();c.node.parentNode.insertBefore(this.node,c.node.nextSibling);this.paper=c.paper;a&&a.add();c.parent()&&c.parent().add();return this};c.remove=function(){var c=this.parent();this.node.parentNode&&this.node.parentNode.removeChild(this.node);delete this.paper;this.removed=!0;c&&c.add();return this};c.select=function(c){return x(this.node.querySelector(c))};c.selectAll=\n",
       "function(c){c=this.node.querySelectorAll(c);for(var b=(a.set||Array)(),m=0;m<c.length;m++)b.push(x(c[m]));return b};c.asPX=function(c,a){null==a&&(a=this.attr(c));return+b(this,c,a)};c.use=function(){var c,a=this.node.id;a||(a=this.id,v(this.node,{id:a}));c=\"linearGradient\"==this.type||\"radialGradient\"==this.type||\"pattern\"==this.type?r(this.type,this.node.parentNode):r(\"use\",this.node.parentNode);v(c.node,{\"xlink:href\":\"#\"+a});c.original=this;return c};var l=/\\S+/g;c.addClass=function(c){var a=(c||\n",
       "\"\").match(l)||[];c=this.node;var b=c.className.baseVal,m=b.match(l)||[],e,h,d;if(a.length){for(e=0;d=a[e++];)h=m.indexOf(d),~h||m.push(d);a=m.join(\" \");b!=a&&(c.className.baseVal=a)}return this};c.removeClass=function(c){var a=(c||\"\").match(l)||[];c=this.node;var b=c.className.baseVal,m=b.match(l)||[],e,h;if(m.length){for(e=0;h=a[e++];)h=m.indexOf(h),~h&&m.splice(h,1);a=m.join(\" \");b!=a&&(c.className.baseVal=a)}return this};c.hasClass=function(c){return!!~(this.node.className.baseVal.match(l)||[]).indexOf(c)};\n",
       "c.toggleClass=function(c,a){if(null!=a)return a?this.addClass(c):this.removeClass(c);var b=(c||\"\").match(l)||[],m=this.node,e=m.className.baseVal,h=e.match(l)||[],d,f,E;for(d=0;E=b[d++];)f=h.indexOf(E),~f?h.splice(f,1):h.push(E);b=h.join(\" \");e!=b&&(m.className.baseVal=b);return this};c.clone=function(){var c=x(this.node.cloneNode(!0));v(c.node,\"id\")&&v(c.node,{id:c.id});m(c);c.insertAfter(this);return c};c.toDefs=function(){u(this).appendChild(this.node);return this};c.pattern=c.toPattern=function(c,\n",
       "a,b,m){var e=r(\"pattern\",u(this));null==c&&(c=this.getBBox());y(c,\"object\")&&\"x\"in c&&(a=c.y,b=c.width,m=c.height,c=c.x);v(e.node,{x:c,y:a,width:b,height:m,patternUnits:\"userSpaceOnUse\",id:e.id,viewBox:[c,a,b,m].join(\" \")});e.node.appendChild(this.node);return e};c.marker=function(c,a,b,m,e,h){var d=r(\"marker\",u(this));null==c&&(c=this.getBBox());y(c,\"object\")&&\"x\"in c&&(a=c.y,b=c.width,m=c.height,e=c.refX||c.cx,h=c.refY||c.cy,c=c.x);v(d.node,{viewBox:[c,a,b,m].join(\" \"),markerWidth:b,markerHeight:m,\n",
       "orient:\"auto\",refX:e||0,refY:h||0,id:d.id});d.node.appendChild(this.node);return d};var E=function(c,a,b,m){\"function\"!=typeof b||b.length||(m=b,b=L.linear);this.attr=c;this.dur=a;b&&(this.easing=b);m&&(this.callback=m)};a._.Animation=E;a.animation=function(c,a,b,m){return new E(c,a,b,m)};c.inAnim=function(){var c=[],a;for(a in this.anims)this.anims[h](a)&&function(a){c.push({anim:new E(a._attrs,a.dur,a.easing,a._callback),mina:a,curStatus:a.status(),status:function(c){return a.status(c)},stop:function(){a.stop()}})}(this.anims[a]);\n",
       "return c};a.animate=function(c,a,b,m,e,h){\"function\"!=typeof e||e.length||(h=e,e=L.linear);var d=L.time();c=L(c,a,d,d+m,L.time,b,e);h&&k.once(\"mina.finish.\"+c.id,h);return c};c.stop=function(){for(var c=this.inAnim(),a=0,b=c.length;a<b;a++)c[a].stop();return this};c.animate=function(c,a,b,m){\"function\"!=typeof b||b.length||(m=b,b=L.linear);c instanceof E&&(m=c.callback,b=c.easing,a=b.dur,c=c.attr);var d=[],f=[],l={},t,ca,n,T=this,q;for(q in c)if(c[h](q)){T.equal?(n=T.equal(q,J(c[q])),t=n.from,ca=\n",
       "n.to,n=n.f):(t=+T.attr(q),ca=+c[q]);var la=y(t,\"array\")?t.length:1;l[q]=e(d.length,d.length+la,n);d=d.concat(t);f=f.concat(ca)}t=L.time();var p=L(d,f,t,t+a,L.time,function(c){var a={},b;for(b in l)l[h](b)&&(a[b]=l[b](c));T.attr(a)},b);T.anims[p.id]=p;p._attrs=c;p._callback=m;k(\"snap.animcreated.\"+T.id,p);k.once(\"mina.finish.\"+p.id,function(){delete T.anims[p.id];m&&m.call(T)});k.once(\"mina.stop.\"+p.id,function(){delete T.anims[p.id]});return T};var T={};c.data=function(c,b){var m=T[this.id]=T[this.id]||\n",
       "{};if(0==arguments.length)return k(\"snap.data.get.\"+this.id,this,m,null),m;if(1==arguments.length){if(a.is(c,\"object\")){for(var e in c)c[h](e)&&this.data(e,c[e]);return this}k(\"snap.data.get.\"+this.id,this,m[c],c);return m[c]}m[c]=b;k(\"snap.data.set.\"+this.id,this,b,c);return this};c.removeData=function(c){null==c?T[this.id]={}:T[this.id]&&delete T[this.id][c];return this};c.outerSVG=c.toString=d(1);c.innerSVG=d()})(e.prototype);a.parse=function(c){var a=G.doc.createDocumentFragment(),b=!0,m=G.doc.createElement(\"div\");\n",
       "c=J(c);c.match(/^\\s*<\\s*svg(?:\\s|>)/)||(c=\"<svg>\"+c+\"</svg>\",b=!1);m.innerHTML=c;if(c=m.getElementsByTagName(\"svg\")[0])if(b)a=c;else for(;c.firstChild;)a.appendChild(c.firstChild);m.innerHTML=aa;return new l(a)};l.prototype.select=e.prototype.select;l.prototype.selectAll=e.prototype.selectAll;a.fragment=function(){for(var c=Array.prototype.slice.call(arguments,0),b=G.doc.createDocumentFragment(),m=0,e=c.length;m<e;m++){var h=c[m];h.node&&h.node.nodeType&&b.appendChild(h.node);h.nodeType&&b.appendChild(h);\n",
       "\"string\"==typeof h&&b.appendChild(a.parse(h).node)}return new l(b)};a._.make=r;a._.wrap=x;s.prototype.el=function(c,a){var b=r(c,this.node);a&&b.attr(a);return b};k.on(\"snap.util.getattr\",function(){var c=k.nt(),c=c.substring(c.lastIndexOf(\".\")+1),a=c.replace(/[A-Z]/g,function(c){return\"-\"+c.toLowerCase()});return pa[h](a)?this.node.ownerDocument.defaultView.getComputedStyle(this.node,null).getPropertyValue(a):v(this.node,c)});var pa={\"alignment-baseline\":0,\"baseline-shift\":0,clip:0,\"clip-path\":0,\n",
       "\"clip-rule\":0,color:0,\"color-interpolation\":0,\"color-interpolation-filters\":0,\"color-profile\":0,\"color-rendering\":0,cursor:0,direction:0,display:0,\"dominant-baseline\":0,\"enable-background\":0,fill:0,\"fill-opacity\":0,\"fill-rule\":0,filter:0,\"flood-color\":0,\"flood-opacity\":0,font:0,\"font-family\":0,\"font-size\":0,\"font-size-adjust\":0,\"font-stretch\":0,\"font-style\":0,\"font-variant\":0,\"font-weight\":0,\"glyph-orientation-horizontal\":0,\"glyph-orientation-vertical\":0,\"image-rendering\":0,kerning:0,\"letter-spacing\":0,\n",
       "\"lighting-color\":0,marker:0,\"marker-end\":0,\"marker-mid\":0,\"marker-start\":0,mask:0,opacity:0,overflow:0,\"pointer-events\":0,\"shape-rendering\":0,\"stop-color\":0,\"stop-opacity\":0,stroke:0,\"stroke-dasharray\":0,\"stroke-dashoffset\":0,\"stroke-linecap\":0,\"stroke-linejoin\":0,\"stroke-miterlimit\":0,\"stroke-opacity\":0,\"stroke-width\":0,\"text-anchor\":0,\"text-decoration\":0,\"text-rendering\":0,\"unicode-bidi\":0,visibility:0,\"word-spacing\":0,\"writing-mode\":0};k.on(\"snap.util.attr\",function(c){var a=k.nt(),b={},a=a.substring(a.lastIndexOf(\".\")+\n",
       "1);b[a]=c;var m=a.replace(/-(\\w)/gi,function(c,a){return a.toUpperCase()}),a=a.replace(/[A-Z]/g,function(c){return\"-\"+c.toLowerCase()});pa[h](a)?this.node.style[m]=null==c?aa:c:v(this.node,b)});a.ajax=function(c,a,b,m){var e=new XMLHttpRequest,h=V();if(e){if(y(a,\"function\"))m=b,b=a,a=null;else if(y(a,\"object\")){var d=[],f;for(f in a)a.hasOwnProperty(f)&&d.push(encodeURIComponent(f)+\"=\"+encodeURIComponent(a[f]));a=d.join(\"&\")}e.open(a?\"POST\":\"GET\",c,!0);a&&(e.setRequestHeader(\"X-Requested-With\",\"XMLHttpRequest\"),\n",
       "e.setRequestHeader(\"Content-type\",\"application/x-www-form-urlencoded\"));b&&(k.once(\"snap.ajax.\"+h+\".0\",b),k.once(\"snap.ajax.\"+h+\".200\",b),k.once(\"snap.ajax.\"+h+\".304\",b));e.onreadystatechange=function(){4==e.readyState&&k(\"snap.ajax.\"+h+\".\"+e.status,m,e)};if(4==e.readyState)return e;e.send(a);return e}};a.load=function(c,b,m){a.ajax(c,function(c){c=a.parse(c.responseText);m?b.call(m,c):b(c)})};a.getElementByPoint=function(c,a){var b,m,e=G.doc.elementFromPoint(c,a);if(G.win.opera&&\"svg\"==e.tagName){b=\n",
       "e;m=b.getBoundingClientRect();b=b.ownerDocument;var h=b.body,d=b.documentElement;b=m.top+(g.win.pageYOffset||d.scrollTop||h.scrollTop)-(d.clientTop||h.clientTop||0);m=m.left+(g.win.pageXOffset||d.scrollLeft||h.scrollLeft)-(d.clientLeft||h.clientLeft||0);h=e.createSVGRect();h.x=c-m;h.y=a-b;h.width=h.height=1;b=e.getIntersectionList(h,null);b.length&&(e=b[b.length-1])}return e?x(e):null};a.plugin=function(c){c(a,e,s,G,l)};return G.win.Snap=a}();C.plugin(function(a,k,y,M,A){function w(a,d,f,b,q,e){null==\n",
       "d&&\"[object SVGMatrix]\"==z.call(a)?(this.a=a.a,this.b=a.b,this.c=a.c,this.d=a.d,this.e=a.e,this.f=a.f):null!=a?(this.a=+a,this.b=+d,this.c=+f,this.d=+b,this.e=+q,this.f=+e):(this.a=1,this.c=this.b=0,this.d=1,this.f=this.e=0)}var z=Object.prototype.toString,d=String,f=Math;(function(n){function k(a){return a[0]*a[0]+a[1]*a[1]}function p(a){var d=f.sqrt(k(a));a[0]&&(a[0]/=d);a[1]&&(a[1]/=d)}n.add=function(a,d,e,f,n,p){var k=[[],[],[] ],u=[[this.a,this.c,this.e],[this.b,this.d,this.f],[0,0,1] ];d=[[a,\n",
       "e,n],[d,f,p],[0,0,1] ];a&&a instanceof w&&(d=[[a.a,a.c,a.e],[a.b,a.d,a.f],[0,0,1] ]);for(a=0;3>a;a++)for(e=0;3>e;e++){for(f=n=0;3>f;f++)n+=u[a][f]*d[f][e];k[a][e]=n}this.a=k[0][0];this.b=k[1][0];this.c=k[0][1];this.d=k[1][1];this.e=k[0][2];this.f=k[1][2];return this};n.invert=function(){var a=this.a*this.d-this.b*this.c;return new w(this.d/a,-this.b/a,-this.c/a,this.a/a,(this.c*this.f-this.d*this.e)/a,(this.b*this.e-this.a*this.f)/a)};n.clone=function(){return new w(this.a,this.b,this.c,this.d,this.e,\n",
       "this.f)};n.translate=function(a,d){return this.add(1,0,0,1,a,d)};n.scale=function(a,d,e,f){null==d&&(d=a);(e||f)&&this.add(1,0,0,1,e,f);this.add(a,0,0,d,0,0);(e||f)&&this.add(1,0,0,1,-e,-f);return this};n.rotate=function(b,d,e){b=a.rad(b);d=d||0;e=e||0;var l=+f.cos(b).toFixed(9);b=+f.sin(b).toFixed(9);this.add(l,b,-b,l,d,e);return this.add(1,0,0,1,-d,-e)};n.x=function(a,d){return a*this.a+d*this.c+this.e};n.y=function(a,d){return a*this.b+d*this.d+this.f};n.get=function(a){return+this[d.fromCharCode(97+\n",
       "a)].toFixed(4)};n.toString=function(){return\"matrix(\"+[this.get(0),this.get(1),this.get(2),this.get(3),this.get(4),this.get(5)].join()+\")\"};n.offset=function(){return[this.e.toFixed(4),this.f.toFixed(4)]};n.determinant=function(){return this.a*this.d-this.b*this.c};n.split=function(){var b={};b.dx=this.e;b.dy=this.f;var d=[[this.a,this.c],[this.b,this.d] ];b.scalex=f.sqrt(k(d[0]));p(d[0]);b.shear=d[0][0]*d[1][0]+d[0][1]*d[1][1];d[1]=[d[1][0]-d[0][0]*b.shear,d[1][1]-d[0][1]*b.shear];b.scaley=f.sqrt(k(d[1]));\n",
       "p(d[1]);b.shear/=b.scaley;0>this.determinant()&&(b.scalex=-b.scalex);var e=-d[0][1],d=d[1][1];0>d?(b.rotate=a.deg(f.acos(d)),0>e&&(b.rotate=360-b.rotate)):b.rotate=a.deg(f.asin(e));b.isSimple=!+b.shear.toFixed(9)&&(b.scalex.toFixed(9)==b.scaley.toFixed(9)||!b.rotate);b.isSuperSimple=!+b.shear.toFixed(9)&&b.scalex.toFixed(9)==b.scaley.toFixed(9)&&!b.rotate;b.noRotation=!+b.shear.toFixed(9)&&!b.rotate;return b};n.toTransformString=function(a){a=a||this.split();if(+a.shear.toFixed(9))return\"m\"+[this.get(0),\n",
       "this.get(1),this.get(2),this.get(3),this.get(4),this.get(5)];a.scalex=+a.scalex.toFixed(4);a.scaley=+a.scaley.toFixed(4);a.rotate=+a.rotate.toFixed(4);return(a.dx||a.dy?\"t\"+[+a.dx.toFixed(4),+a.dy.toFixed(4)]:\"\")+(1!=a.scalex||1!=a.scaley?\"s\"+[a.scalex,a.scaley,0,0]:\"\")+(a.rotate?\"r\"+[+a.rotate.toFixed(4),0,0]:\"\")}})(w.prototype);a.Matrix=w;a.matrix=function(a,d,f,b,k,e){return new w(a,d,f,b,k,e)}});C.plugin(function(a,v,y,M,A){function w(h){return function(d){k.stop();d instanceof A&&1==d.node.childNodes.length&&\n",
       "(\"radialGradient\"==d.node.firstChild.tagName||\"linearGradient\"==d.node.firstChild.tagName||\"pattern\"==d.node.firstChild.tagName)&&(d=d.node.firstChild,b(this).appendChild(d),d=u(d));if(d instanceof v)if(\"radialGradient\"==d.type||\"linearGradient\"==d.type||\"pattern\"==d.type){d.node.id||e(d.node,{id:d.id});var f=l(d.node.id)}else f=d.attr(h);else f=a.color(d),f.error?(f=a(b(this).ownerSVGElement).gradient(d))?(f.node.id||e(f.node,{id:f.id}),f=l(f.node.id)):f=d:f=r(f);d={};d[h]=f;e(this.node,d);this.node.style[h]=\n",
       "x}}function z(a){k.stop();a==+a&&(a+=\"px\");this.node.style.fontSize=a}function d(a){var b=[];a=a.childNodes;for(var e=0,f=a.length;e<f;e++){var l=a[e];3==l.nodeType&&b.push(l.nodeValue);\"tspan\"==l.tagName&&(1==l.childNodes.length&&3==l.firstChild.nodeType?b.push(l.firstChild.nodeValue):b.push(d(l)))}return b}function f(){k.stop();return this.node.style.fontSize}var n=a._.make,u=a._.wrap,p=a.is,b=a._.getSomeDefs,q=/^url\\(#?([^)]+)\\)$/,e=a._.$,l=a.url,r=String,s=a._.separator,x=\"\";k.on(\"snap.util.attr.mask\",\n",
       "function(a){if(a instanceof v||a instanceof A){k.stop();a instanceof A&&1==a.node.childNodes.length&&(a=a.node.firstChild,b(this).appendChild(a),a=u(a));if(\"mask\"==a.type)var d=a;else d=n(\"mask\",b(this)),d.node.appendChild(a.node);!d.node.id&&e(d.node,{id:d.id});e(this.node,{mask:l(d.id)})}});(function(a){k.on(\"snap.util.attr.clip\",a);k.on(\"snap.util.attr.clip-path\",a);k.on(\"snap.util.attr.clipPath\",a)})(function(a){if(a instanceof v||a instanceof A){k.stop();if(\"clipPath\"==a.type)var d=a;else d=\n",
       "n(\"clipPath\",b(this)),d.node.appendChild(a.node),!d.node.id&&e(d.node,{id:d.id});e(this.node,{\"clip-path\":l(d.id)})}});k.on(\"snap.util.attr.fill\",w(\"fill\"));k.on(\"snap.util.attr.stroke\",w(\"stroke\"));var G=/^([lr])(?:\\(([^)]*)\\))?(.*)$/i;k.on(\"snap.util.grad.parse\",function(a){a=r(a);var b=a.match(G);if(!b)return null;a=b[1];var e=b[2],b=b[3],e=e.split(/\\s*,\\s*/).map(function(a){return+a==a?+a:a});1==e.length&&0==e[0]&&(e=[]);b=b.split(\"-\");b=b.map(function(a){a=a.split(\":\");var b={color:a[0]};a[1]&&\n",
       "(b.offset=parseFloat(a[1]));return b});return{type:a,params:e,stops:b}});k.on(\"snap.util.attr.d\",function(b){k.stop();p(b,\"array\")&&p(b[0],\"array\")&&(b=a.path.toString.call(b));b=r(b);b.match(/[ruo]/i)&&(b=a.path.toAbsolute(b));e(this.node,{d:b})})(-1);k.on(\"snap.util.attr.#text\",function(a){k.stop();a=r(a);for(a=M.doc.createTextNode(a);this.node.firstChild;)this.node.removeChild(this.node.firstChild);this.node.appendChild(a)})(-1);k.on(\"snap.util.attr.path\",function(a){k.stop();this.attr({d:a})})(-1);\n",
       "k.on(\"snap.util.attr.class\",function(a){k.stop();this.node.className.baseVal=a})(-1);k.on(\"snap.util.attr.viewBox\",function(a){a=p(a,\"object\")&&\"x\"in a?[a.x,a.y,a.width,a.height].join(\" \"):p(a,\"array\")?a.join(\" \"):a;e(this.node,{viewBox:a});k.stop()})(-1);k.on(\"snap.util.attr.transform\",function(a){this.transform(a);k.stop()})(-1);k.on(\"snap.util.attr.r\",function(a){\"rect\"==this.type&&(k.stop(),e(this.node,{rx:a,ry:a}))})(-1);k.on(\"snap.util.attr.textpath\",function(a){k.stop();if(\"text\"==this.type){var d,\n",
       "f;if(!a&&this.textPath){for(a=this.textPath;a.node.firstChild;)this.node.appendChild(a.node.firstChild);a.remove();delete this.textPath}else if(p(a,\"string\")?(d=b(this),a=u(d.parentNode).path(a),d.appendChild(a.node),d=a.id,a.attr({id:d})):(a=u(a),a instanceof v&&(d=a.attr(\"id\"),d||(d=a.id,a.attr({id:d})))),d)if(a=this.textPath,f=this.node,a)a.attr({\"xlink:href\":\"#\"+d});else{for(a=e(\"textPath\",{\"xlink:href\":\"#\"+d});f.firstChild;)a.appendChild(f.firstChild);f.appendChild(a);this.textPath=u(a)}}})(-1);\n",
       "k.on(\"snap.util.attr.text\",function(a){if(\"text\"==this.type){for(var b=this.node,d=function(a){var b=e(\"tspan\");if(p(a,\"array\"))for(var f=0;f<a.length;f++)b.appendChild(d(a[f]));else b.appendChild(M.doc.createTextNode(a));b.normalize&&b.normalize();return b};b.firstChild;)b.removeChild(b.firstChild);for(a=d(a);a.firstChild;)b.appendChild(a.firstChild)}k.stop()})(-1);k.on(\"snap.util.attr.fontSize\",z)(-1);k.on(\"snap.util.attr.font-size\",z)(-1);k.on(\"snap.util.getattr.transform\",function(){k.stop();\n",
       "return this.transform()})(-1);k.on(\"snap.util.getattr.textpath\",function(){k.stop();return this.textPath})(-1);(function(){function b(d){return function(){k.stop();var b=M.doc.defaultView.getComputedStyle(this.node,null).getPropertyValue(\"marker-\"+d);return\"none\"==b?b:a(M.doc.getElementById(b.match(q)[1]))}}function d(a){return function(b){k.stop();var d=\"marker\"+a.charAt(0).toUpperCase()+a.substring(1);if(\"\"==b||!b)this.node.style[d]=\"none\";else if(\"marker\"==b.type){var f=b.node.id;f||e(b.node,{id:b.id});\n",
       "this.node.style[d]=l(f)}}}k.on(\"snap.util.getattr.marker-end\",b(\"end\"))(-1);k.on(\"snap.util.getattr.markerEnd\",b(\"end\"))(-1);k.on(\"snap.util.getattr.marker-start\",b(\"start\"))(-1);k.on(\"snap.util.getattr.markerStart\",b(\"start\"))(-1);k.on(\"snap.util.getattr.marker-mid\",b(\"mid\"))(-1);k.on(\"snap.util.getattr.markerMid\",b(\"mid\"))(-1);k.on(\"snap.util.attr.marker-end\",d(\"end\"))(-1);k.on(\"snap.util.attr.markerEnd\",d(\"end\"))(-1);k.on(\"snap.util.attr.marker-start\",d(\"start\"))(-1);k.on(\"snap.util.attr.markerStart\",\n",
       "d(\"start\"))(-1);k.on(\"snap.util.attr.marker-mid\",d(\"mid\"))(-1);k.on(\"snap.util.attr.markerMid\",d(\"mid\"))(-1)})();k.on(\"snap.util.getattr.r\",function(){if(\"rect\"==this.type&&e(this.node,\"rx\")==e(this.node,\"ry\"))return k.stop(),e(this.node,\"rx\")})(-1);k.on(\"snap.util.getattr.text\",function(){if(\"text\"==this.type||\"tspan\"==this.type){k.stop();var a=d(this.node);return 1==a.length?a[0]:a}})(-1);k.on(\"snap.util.getattr.#text\",function(){return this.node.textContent})(-1);k.on(\"snap.util.getattr.viewBox\",\n",
       "function(){k.stop();var b=e(this.node,\"viewBox\");if(b)return b=b.split(s),a._.box(+b[0],+b[1],+b[2],+b[3])})(-1);k.on(\"snap.util.getattr.points\",function(){var a=e(this.node,\"points\");k.stop();if(a)return a.split(s)})(-1);k.on(\"snap.util.getattr.path\",function(){var a=e(this.node,\"d\");k.stop();return a})(-1);k.on(\"snap.util.getattr.class\",function(){return this.node.className.baseVal})(-1);k.on(\"snap.util.getattr.fontSize\",f)(-1);k.on(\"snap.util.getattr.font-size\",f)(-1)});C.plugin(function(a,v,y,\n",
       "M,A){function w(a){return a}function z(a){return function(b){return+b.toFixed(3)+a}}var d={\"+\":function(a,b){return a+b},\"-\":function(a,b){return a-b},\"/\":function(a,b){return a/b},\"*\":function(a,b){return a*b}},f=String,n=/[a-z]+$/i,u=/^\\s*([+\\-\\/*])\\s*=\\s*([\\d.eE+\\-]+)\\s*([^\\d\\s]+)?\\s*$/;k.on(\"snap.util.attr\",function(a){if(a=f(a).match(u)){var b=k.nt(),b=b.substring(b.lastIndexOf(\".\")+1),q=this.attr(b),e={};k.stop();var l=a[3]||\"\",r=q.match(n),s=d[a[1] ];r&&r==l?a=s(parseFloat(q),+a[2]):(q=this.asPX(b),\n",
       "a=s(this.asPX(b),this.asPX(b,a[2]+l)));isNaN(q)||isNaN(a)||(e[b]=a,this.attr(e))}})(-10);k.on(\"snap.util.equal\",function(a,b){var q=f(this.attr(a)||\"\"),e=f(b).match(u);if(e){k.stop();var l=e[3]||\"\",r=q.match(n),s=d[e[1] ];if(r&&r==l)return{from:parseFloat(q),to:s(parseFloat(q),+e[2]),f:z(r)};q=this.asPX(a);return{from:q,to:s(q,this.asPX(a,e[2]+l)),f:w}}})(-10)});C.plugin(function(a,v,y,M,A){var w=y.prototype,z=a.is;w.rect=function(a,d,k,p,b,q){var e;null==q&&(q=b);z(a,\"object\")&&\"[object Object]\"==\n",
       "a?e=a:null!=a&&(e={x:a,y:d,width:k,height:p},null!=b&&(e.rx=b,e.ry=q));return this.el(\"rect\",e)};w.circle=function(a,d,k){var p;z(a,\"object\")&&\"[object Object]\"==a?p=a:null!=a&&(p={cx:a,cy:d,r:k});return this.el(\"circle\",p)};var d=function(){function a(){this.parentNode.removeChild(this)}return function(d,k){var p=M.doc.createElement(\"img\"),b=M.doc.body;p.style.cssText=\"position:absolute;left:-9999em;top:-9999em\";p.onload=function(){k.call(p);p.onload=p.onerror=null;b.removeChild(p)};p.onerror=a;\n",
       "b.appendChild(p);p.src=d}}();w.image=function(f,n,k,p,b){var q=this.el(\"image\");if(z(f,\"object\")&&\"src\"in f)q.attr(f);else if(null!=f){var e={\"xlink:href\":f,preserveAspectRatio:\"none\"};null!=n&&null!=k&&(e.x=n,e.y=k);null!=p&&null!=b?(e.width=p,e.height=b):d(f,function(){a._.$(q.node,{width:this.offsetWidth,height:this.offsetHeight})});a._.$(q.node,e)}return q};w.ellipse=function(a,d,k,p){var b;z(a,\"object\")&&\"[object Object]\"==a?b=a:null!=a&&(b={cx:a,cy:d,rx:k,ry:p});return this.el(\"ellipse\",b)};\n",
       "w.path=function(a){var d;z(a,\"object\")&&!z(a,\"array\")?d=a:a&&(d={d:a});return this.el(\"path\",d)};w.group=w.g=function(a){var d=this.el(\"g\");1==arguments.length&&a&&!a.type?d.attr(a):arguments.length&&d.add(Array.prototype.slice.call(arguments,0));return d};w.svg=function(a,d,k,p,b,q,e,l){var r={};z(a,\"object\")&&null==d?r=a:(null!=a&&(r.x=a),null!=d&&(r.y=d),null!=k&&(r.width=k),null!=p&&(r.height=p),null!=b&&null!=q&&null!=e&&null!=l&&(r.viewBox=[b,q,e,l]));return this.el(\"svg\",r)};w.mask=function(a){var d=\n",
       "this.el(\"mask\");1==arguments.length&&a&&!a.type?d.attr(a):arguments.length&&d.add(Array.prototype.slice.call(arguments,0));return d};w.ptrn=function(a,d,k,p,b,q,e,l){if(z(a,\"object\"))var r=a;else arguments.length?(r={},null!=a&&(r.x=a),null!=d&&(r.y=d),null!=k&&(r.width=k),null!=p&&(r.height=p),null!=b&&null!=q&&null!=e&&null!=l&&(r.viewBox=[b,q,e,l])):r={patternUnits:\"userSpaceOnUse\"};return this.el(\"pattern\",r)};w.use=function(a){return null!=a?(make(\"use\",this.node),a instanceof v&&(a.attr(\"id\")||\n",
       "a.attr({id:ID()}),a=a.attr(\"id\")),this.el(\"use\",{\"xlink:href\":a})):v.prototype.use.call(this)};w.text=function(a,d,k){var p={};z(a,\"object\")?p=a:null!=a&&(p={x:a,y:d,text:k||\"\"});return this.el(\"text\",p)};w.line=function(a,d,k,p){var b={};z(a,\"object\")?b=a:null!=a&&(b={x1:a,x2:k,y1:d,y2:p});return this.el(\"line\",b)};w.polyline=function(a){1<arguments.length&&(a=Array.prototype.slice.call(arguments,0));var d={};z(a,\"object\")&&!z(a,\"array\")?d=a:null!=a&&(d={points:a});return this.el(\"polyline\",d)};\n",
       "w.polygon=function(a){1<arguments.length&&(a=Array.prototype.slice.call(arguments,0));var d={};z(a,\"object\")&&!z(a,\"array\")?d=a:null!=a&&(d={points:a});return this.el(\"polygon\",d)};(function(){function d(){return this.selectAll(\"stop\")}function n(b,d){var f=e(\"stop\"),k={offset:+d+\"%\"};b=a.color(b);k[\"stop-color\"]=b.hex;1>b.opacity&&(k[\"stop-opacity\"]=b.opacity);e(f,k);this.node.appendChild(f);return this}function u(){if(\"linearGradient\"==this.type){var b=e(this.node,\"x1\")||0,d=e(this.node,\"x2\")||\n",
       "1,f=e(this.node,\"y1\")||0,k=e(this.node,\"y2\")||0;return a._.box(b,f,math.abs(d-b),math.abs(k-f))}b=this.node.r||0;return a._.box((this.node.cx||0.5)-b,(this.node.cy||0.5)-b,2*b,2*b)}function p(a,d){function f(a,b){for(var d=(b-u)/(a-w),e=w;e<a;e++)h[e].offset=+(+u+d*(e-w)).toFixed(2);w=a;u=b}var n=k(\"snap.util.grad.parse\",null,d).firstDefined(),p;if(!n)return null;n.params.unshift(a);p=\"l\"==n.type.toLowerCase()?b.apply(0,n.params):q.apply(0,n.params);n.type!=n.type.toLowerCase()&&e(p.node,{gradientUnits:\"userSpaceOnUse\"});\n",
       "var h=n.stops,n=h.length,u=0,w=0;n--;for(var v=0;v<n;v++)\"offset\"in h[v]&&f(v,h[v].offset);h[n].offset=h[n].offset||100;f(n,h[n].offset);for(v=0;v<=n;v++){var y=h[v];p.addStop(y.color,y.offset)}return p}function b(b,k,p,q,w){b=a._.make(\"linearGradient\",b);b.stops=d;b.addStop=n;b.getBBox=u;null!=k&&e(b.node,{x1:k,y1:p,x2:q,y2:w});return b}function q(b,k,p,q,w,h){b=a._.make(\"radialGradient\",b);b.stops=d;b.addStop=n;b.getBBox=u;null!=k&&e(b.node,{cx:k,cy:p,r:q});null!=w&&null!=h&&e(b.node,{fx:w,fy:h});\n",
       "return b}var e=a._.$;w.gradient=function(a){return p(this.defs,a)};w.gradientLinear=function(a,d,e,f){return b(this.defs,a,d,e,f)};w.gradientRadial=function(a,b,d,e,f){return q(this.defs,a,b,d,e,f)};w.toString=function(){var b=this.node.ownerDocument,d=b.createDocumentFragment(),b=b.createElement(\"div\"),e=this.node.cloneNode(!0);d.appendChild(b);b.appendChild(e);a._.$(e,{xmlns:\"http://www.w3.org/2000/svg\"});b=b.innerHTML;d.removeChild(d.firstChild);return b};w.clear=function(){for(var a=this.node.firstChild,\n",
       "b;a;)b=a.nextSibling,\"defs\"!=a.tagName?a.parentNode.removeChild(a):w.clear.call({node:a}),a=b}})()});C.plugin(function(a,k,y,M){function A(a){var b=A.ps=A.ps||{};b[a]?b[a].sleep=100:b[a]={sleep:100};setTimeout(function(){for(var d in b)b[L](d)&&d!=a&&(b[d].sleep--,!b[d].sleep&&delete b[d])});return b[a]}function w(a,b,d,e){null==a&&(a=b=d=e=0);null==b&&(b=a.y,d=a.width,e=a.height,a=a.x);return{x:a,y:b,width:d,w:d,height:e,h:e,x2:a+d,y2:b+e,cx:a+d/2,cy:b+e/2,r1:F.min(d,e)/2,r2:F.max(d,e)/2,r0:F.sqrt(d*\n",
       "d+e*e)/2,path:s(a,b,d,e),vb:[a,b,d,e].join(\" \")}}function z(){return this.join(\",\").replace(N,\"$1\")}function d(a){a=C(a);a.toString=z;return a}function f(a,b,d,h,f,k,l,n,p){if(null==p)return e(a,b,d,h,f,k,l,n);if(0>p||e(a,b,d,h,f,k,l,n)<p)p=void 0;else{var q=0.5,O=1-q,s;for(s=e(a,b,d,h,f,k,l,n,O);0.01<Z(s-p);)q/=2,O+=(s<p?1:-1)*q,s=e(a,b,d,h,f,k,l,n,O);p=O}return u(a,b,d,h,f,k,l,n,p)}function n(b,d){function e(a){return+(+a).toFixed(3)}return a._.cacher(function(a,h,l){a instanceof k&&(a=a.attr(\"d\"));\n",
       "a=I(a);for(var n,p,D,q,O=\"\",s={},c=0,t=0,r=a.length;t<r;t++){D=a[t];if(\"M\"==D[0])n=+D[1],p=+D[2];else{q=f(n,p,D[1],D[2],D[3],D[4],D[5],D[6]);if(c+q>h){if(d&&!s.start){n=f(n,p,D[1],D[2],D[3],D[4],D[5],D[6],h-c);O+=[\"C\"+e(n.start.x),e(n.start.y),e(n.m.x),e(n.m.y),e(n.x),e(n.y)];if(l)return O;s.start=O;O=[\"M\"+e(n.x),e(n.y)+\"C\"+e(n.n.x),e(n.n.y),e(n.end.x),e(n.end.y),e(D[5]),e(D[6])].join();c+=q;n=+D[5];p=+D[6];continue}if(!b&&!d)return n=f(n,p,D[1],D[2],D[3],D[4],D[5],D[6],h-c)}c+=q;n=+D[5];p=+D[6]}O+=\n",
       "D.shift()+D}s.end=O;return n=b?c:d?s:u(n,p,D[0],D[1],D[2],D[3],D[4],D[5],1)},null,a._.clone)}function u(a,b,d,e,h,f,k,l,n){var p=1-n,q=ma(p,3),s=ma(p,2),c=n*n,t=c*n,r=q*a+3*s*n*d+3*p*n*n*h+t*k,q=q*b+3*s*n*e+3*p*n*n*f+t*l,s=a+2*n*(d-a)+c*(h-2*d+a),t=b+2*n*(e-b)+c*(f-2*e+b),x=d+2*n*(h-d)+c*(k-2*h+d),c=e+2*n*(f-e)+c*(l-2*f+e);a=p*a+n*d;b=p*b+n*e;h=p*h+n*k;f=p*f+n*l;l=90-180*F.atan2(s-x,t-c)/S;return{x:r,y:q,m:{x:s,y:t},n:{x:x,y:c},start:{x:a,y:b},end:{x:h,y:f},alpha:l}}function p(b,d,e,h,f,n,k,l){a.is(b,\n",
       "\"array\")||(b=[b,d,e,h,f,n,k,l]);b=U.apply(null,b);return w(b.min.x,b.min.y,b.max.x-b.min.x,b.max.y-b.min.y)}function b(a,b,d){return b>=a.x&&b<=a.x+a.width&&d>=a.y&&d<=a.y+a.height}function q(a,d){a=w(a);d=w(d);return b(d,a.x,a.y)||b(d,a.x2,a.y)||b(d,a.x,a.y2)||b(d,a.x2,a.y2)||b(a,d.x,d.y)||b(a,d.x2,d.y)||b(a,d.x,d.y2)||b(a,d.x2,d.y2)||(a.x<d.x2&&a.x>d.x||d.x<a.x2&&d.x>a.x)&&(a.y<d.y2&&a.y>d.y||d.y<a.y2&&d.y>a.y)}function e(a,b,d,e,h,f,n,k,l){null==l&&(l=1);l=(1<l?1:0>l?0:l)/2;for(var p=[-0.1252,\n",
       "0.1252,-0.3678,0.3678,-0.5873,0.5873,-0.7699,0.7699,-0.9041,0.9041,-0.9816,0.9816],q=[0.2491,0.2491,0.2335,0.2335,0.2032,0.2032,0.1601,0.1601,0.1069,0.1069,0.0472,0.0472],s=0,c=0;12>c;c++)var t=l*p[c]+l,r=t*(t*(-3*a+9*d-9*h+3*n)+6*a-12*d+6*h)-3*a+3*d,t=t*(t*(-3*b+9*e-9*f+3*k)+6*b-12*e+6*f)-3*b+3*e,s=s+q[c]*F.sqrt(r*r+t*t);return l*s}function l(a,b,d){a=I(a);b=I(b);for(var h,f,l,n,k,s,r,O,x,c,t=d?0:[],w=0,v=a.length;w<v;w++)if(x=a[w],\"M\"==x[0])h=k=x[1],f=s=x[2];else{\"C\"==x[0]?(x=[h,f].concat(x.slice(1)),\n",
       "h=x[6],f=x[7]):(x=[h,f,h,f,k,s,k,s],h=k,f=s);for(var G=0,y=b.length;G<y;G++)if(c=b[G],\"M\"==c[0])l=r=c[1],n=O=c[2];else{\"C\"==c[0]?(c=[l,n].concat(c.slice(1)),l=c[6],n=c[7]):(c=[l,n,l,n,r,O,r,O],l=r,n=O);var z;var K=x,B=c;z=d;var H=p(K),J=p(B);if(q(H,J)){for(var H=e.apply(0,K),J=e.apply(0,B),H=~~(H/8),J=~~(J/8),U=[],A=[],F={},M=z?0:[],P=0;P<H+1;P++){var C=u.apply(0,K.concat(P/H));U.push({x:C.x,y:C.y,t:P/H})}for(P=0;P<J+1;P++)C=u.apply(0,B.concat(P/J)),A.push({x:C.x,y:C.y,t:P/J});for(P=0;P<H;P++)for(K=\n",
       "0;K<J;K++){var Q=U[P],L=U[P+1],B=A[K],C=A[K+1],N=0.001>Z(L.x-Q.x)?\"y\":\"x\",S=0.001>Z(C.x-B.x)?\"y\":\"x\",R;R=Q.x;var Y=Q.y,V=L.x,ea=L.y,fa=B.x,ga=B.y,ha=C.x,ia=C.y;if(W(R,V)<X(fa,ha)||X(R,V)>W(fa,ha)||W(Y,ea)<X(ga,ia)||X(Y,ea)>W(ga,ia))R=void 0;else{var $=(R*ea-Y*V)*(fa-ha)-(R-V)*(fa*ia-ga*ha),aa=(R*ea-Y*V)*(ga-ia)-(Y-ea)*(fa*ia-ga*ha),ja=(R-V)*(ga-ia)-(Y-ea)*(fa-ha);if(ja){var $=$/ja,aa=aa/ja,ja=+$.toFixed(2),ba=+aa.toFixed(2);R=ja<+X(R,V).toFixed(2)||ja>+W(R,V).toFixed(2)||ja<+X(fa,ha).toFixed(2)||\n",
       "ja>+W(fa,ha).toFixed(2)||ba<+X(Y,ea).toFixed(2)||ba>+W(Y,ea).toFixed(2)||ba<+X(ga,ia).toFixed(2)||ba>+W(ga,ia).toFixed(2)?void 0:{x:$,y:aa}}else R=void 0}R&&F[R.x.toFixed(4)]!=R.y.toFixed(4)&&(F[R.x.toFixed(4)]=R.y.toFixed(4),Q=Q.t+Z((R[N]-Q[N])/(L[N]-Q[N]))*(L.t-Q.t),B=B.t+Z((R[S]-B[S])/(C[S]-B[S]))*(C.t-B.t),0<=Q&&1>=Q&&0<=B&&1>=B&&(z?M++:M.push({x:R.x,y:R.y,t1:Q,t2:B})))}z=M}else z=z?0:[];if(d)t+=z;else{H=0;for(J=z.length;H<J;H++)z[H].segment1=w,z[H].segment2=G,z[H].bez1=x,z[H].bez2=c;t=t.concat(z)}}}return t}\n",
       "function r(a){var b=A(a);if(b.bbox)return C(b.bbox);if(!a)return w();a=I(a);for(var d=0,e=0,h=[],f=[],l,n=0,k=a.length;n<k;n++)l=a[n],\"M\"==l[0]?(d=l[1],e=l[2],h.push(d),f.push(e)):(d=U(d,e,l[1],l[2],l[3],l[4],l[5],l[6]),h=h.concat(d.min.x,d.max.x),f=f.concat(d.min.y,d.max.y),d=l[5],e=l[6]);a=X.apply(0,h);l=X.apply(0,f);h=W.apply(0,h);f=W.apply(0,f);f=w(a,l,h-a,f-l);b.bbox=C(f);return f}function s(a,b,d,e,h){if(h)return[[\"M\",+a+ +h,b],[\"l\",d-2*h,0],[\"a\",h,h,0,0,1,h,h],[\"l\",0,e-2*h],[\"a\",h,h,0,0,1,\n",
       "-h,h],[\"l\",2*h-d,0],[\"a\",h,h,0,0,1,-h,-h],[\"l\",0,2*h-e],[\"a\",h,h,0,0,1,h,-h],[\"z\"] ];a=[[\"M\",a,b],[\"l\",d,0],[\"l\",0,e],[\"l\",-d,0],[\"z\"] ];a.toString=z;return a}function x(a,b,d,e,h){null==h&&null==e&&(e=d);a=+a;b=+b;d=+d;e=+e;if(null!=h){var f=Math.PI/180,l=a+d*Math.cos(-e*f);a+=d*Math.cos(-h*f);var n=b+d*Math.sin(-e*f);b+=d*Math.sin(-h*f);d=[[\"M\",l,n],[\"A\",d,d,0,+(180<h-e),0,a,b] ]}else d=[[\"M\",a,b],[\"m\",0,-e],[\"a\",d,e,0,1,1,0,2*e],[\"a\",d,e,0,1,1,0,-2*e],[\"z\"] ];d.toString=z;return d}function G(b){var e=\n",
       "A(b);if(e.abs)return d(e.abs);Q(b,\"array\")&&Q(b&&b[0],\"array\")||(b=a.parsePathString(b));if(!b||!b.length)return[[\"M\",0,0] ];var h=[],f=0,l=0,n=0,k=0,p=0;\"M\"==b[0][0]&&(f=+b[0][1],l=+b[0][2],n=f,k=l,p++,h[0]=[\"M\",f,l]);for(var q=3==b.length&&\"M\"==b[0][0]&&\"R\"==b[1][0].toUpperCase()&&\"Z\"==b[2][0].toUpperCase(),s,r,w=p,c=b.length;w<c;w++){h.push(s=[]);r=b[w];p=r[0];if(p!=p.toUpperCase())switch(s[0]=p.toUpperCase(),s[0]){case \"A\":s[1]=r[1];s[2]=r[2];s[3]=r[3];s[4]=r[4];s[5]=r[5];s[6]=+r[6]+f;s[7]=+r[7]+\n",
       "l;break;case \"V\":s[1]=+r[1]+l;break;case \"H\":s[1]=+r[1]+f;break;case \"R\":for(var t=[f,l].concat(r.slice(1)),u=2,v=t.length;u<v;u++)t[u]=+t[u]+f,t[++u]=+t[u]+l;h.pop();h=h.concat(P(t,q));break;case \"O\":h.pop();t=x(f,l,r[1],r[2]);t.push(t[0]);h=h.concat(t);break;case \"U\":h.pop();h=h.concat(x(f,l,r[1],r[2],r[3]));s=[\"U\"].concat(h[h.length-1].slice(-2));break;case \"M\":n=+r[1]+f,k=+r[2]+l;default:for(u=1,v=r.length;u<v;u++)s[u]=+r[u]+(u%2?f:l)}else if(\"R\"==p)t=[f,l].concat(r.slice(1)),h.pop(),h=h.concat(P(t,\n",
       "q)),s=[\"R\"].concat(r.slice(-2));else if(\"O\"==p)h.pop(),t=x(f,l,r[1],r[2]),t.push(t[0]),h=h.concat(t);else if(\"U\"==p)h.pop(),h=h.concat(x(f,l,r[1],r[2],r[3])),s=[\"U\"].concat(h[h.length-1].slice(-2));else for(t=0,u=r.length;t<u;t++)s[t]=r[t];p=p.toUpperCase();if(\"O\"!=p)switch(s[0]){case \"Z\":f=+n;l=+k;break;case \"H\":f=s[1];break;case \"V\":l=s[1];break;case \"M\":n=s[s.length-2],k=s[s.length-1];default:f=s[s.length-2],l=s[s.length-1]}}h.toString=z;e.abs=d(h);return h}function h(a,b,d,e){return[a,b,d,e,d,\n",
       "e]}function J(a,b,d,e,h,f){var l=1/3,n=2/3;return[l*a+n*d,l*b+n*e,l*h+n*d,l*f+n*e,h,f]}function K(b,d,e,h,f,l,n,k,p,s){var r=120*S/180,q=S/180*(+f||0),c=[],t,x=a._.cacher(function(a,b,c){var d=a*F.cos(c)-b*F.sin(c);a=a*F.sin(c)+b*F.cos(c);return{x:d,y:a}});if(s)v=s[0],t=s[1],l=s[2],u=s[3];else{t=x(b,d,-q);b=t.x;d=t.y;t=x(k,p,-q);k=t.x;p=t.y;F.cos(S/180*f);F.sin(S/180*f);t=(b-k)/2;v=(d-p)/2;u=t*t/(e*e)+v*v/(h*h);1<u&&(u=F.sqrt(u),e*=u,h*=u);var u=e*e,w=h*h,u=(l==n?-1:1)*F.sqrt(Z((u*w-u*v*v-w*t*t)/\n",
       "(u*v*v+w*t*t)));l=u*e*v/h+(b+k)/2;var u=u*-h*t/e+(d+p)/2,v=F.asin(((d-u)/h).toFixed(9));t=F.asin(((p-u)/h).toFixed(9));v=b<l?S-v:v;t=k<l?S-t:t;0>v&&(v=2*S+v);0>t&&(t=2*S+t);n&&v>t&&(v-=2*S);!n&&t>v&&(t-=2*S)}if(Z(t-v)>r){var c=t,w=k,G=p;t=v+r*(n&&t>v?1:-1);k=l+e*F.cos(t);p=u+h*F.sin(t);c=K(k,p,e,h,f,0,n,w,G,[t,c,l,u])}l=t-v;f=F.cos(v);r=F.sin(v);n=F.cos(t);t=F.sin(t);l=F.tan(l/4);e=4/3*e*l;l*=4/3*h;h=[b,d];b=[b+e*r,d-l*f];d=[k+e*t,p-l*n];k=[k,p];b[0]=2*h[0]-b[0];b[1]=2*h[1]-b[1];if(s)return[b,d,k].concat(c);\n",
       "c=[b,d,k].concat(c).join().split(\",\");s=[];k=0;for(p=c.length;k<p;k++)s[k]=k%2?x(c[k-1],c[k],q).y:x(c[k],c[k+1],q).x;return s}function U(a,b,d,e,h,f,l,k){for(var n=[],p=[[],[] ],s,r,c,t,q=0;2>q;++q)0==q?(r=6*a-12*d+6*h,s=-3*a+9*d-9*h+3*l,c=3*d-3*a):(r=6*b-12*e+6*f,s=-3*b+9*e-9*f+3*k,c=3*e-3*b),1E-12>Z(s)?1E-12>Z(r)||(s=-c/r,0<s&&1>s&&n.push(s)):(t=r*r-4*c*s,c=F.sqrt(t),0>t||(t=(-r+c)/(2*s),0<t&&1>t&&n.push(t),s=(-r-c)/(2*s),0<s&&1>s&&n.push(s)));for(r=q=n.length;q--;)s=n[q],c=1-s,p[0][q]=c*c*c*a+3*\n",
       "c*c*s*d+3*c*s*s*h+s*s*s*l,p[1][q]=c*c*c*b+3*c*c*s*e+3*c*s*s*f+s*s*s*k;p[0][r]=a;p[1][r]=b;p[0][r+1]=l;p[1][r+1]=k;p[0].length=p[1].length=r+2;return{min:{x:X.apply(0,p[0]),y:X.apply(0,p[1])},max:{x:W.apply(0,p[0]),y:W.apply(0,p[1])}}}function I(a,b){var e=!b&&A(a);if(!b&&e.curve)return d(e.curve);var f=G(a),l=b&&G(b),n={x:0,y:0,bx:0,by:0,X:0,Y:0,qx:null,qy:null},k={x:0,y:0,bx:0,by:0,X:0,Y:0,qx:null,qy:null},p=function(a,b,c){if(!a)return[\"C\",b.x,b.y,b.x,b.y,b.x,b.y];a[0]in{T:1,Q:1}||(b.qx=b.qy=null);\n",
       "switch(a[0]){case \"M\":b.X=a[1];b.Y=a[2];break;case \"A\":a=[\"C\"].concat(K.apply(0,[b.x,b.y].concat(a.slice(1))));break;case \"S\":\"C\"==c||\"S\"==c?(c=2*b.x-b.bx,b=2*b.y-b.by):(c=b.x,b=b.y);a=[\"C\",c,b].concat(a.slice(1));break;case \"T\":\"Q\"==c||\"T\"==c?(b.qx=2*b.x-b.qx,b.qy=2*b.y-b.qy):(b.qx=b.x,b.qy=b.y);a=[\"C\"].concat(J(b.x,b.y,b.qx,b.qy,a[1],a[2]));break;case \"Q\":b.qx=a[1];b.qy=a[2];a=[\"C\"].concat(J(b.x,b.y,a[1],a[2],a[3],a[4]));break;case \"L\":a=[\"C\"].concat(h(b.x,b.y,a[1],a[2]));break;case \"H\":a=[\"C\"].concat(h(b.x,\n",
       "b.y,a[1],b.y));break;case \"V\":a=[\"C\"].concat(h(b.x,b.y,b.x,a[1]));break;case \"Z\":a=[\"C\"].concat(h(b.x,b.y,b.X,b.Y))}return a},s=function(a,b){if(7<a[b].length){a[b].shift();for(var c=a[b];c.length;)q[b]=\"A\",l&&(u[b]=\"A\"),a.splice(b++,0,[\"C\"].concat(c.splice(0,6)));a.splice(b,1);v=W(f.length,l&&l.length||0)}},r=function(a,b,c,d,e){a&&b&&\"M\"==a[e][0]&&\"M\"!=b[e][0]&&(b.splice(e,0,[\"M\",d.x,d.y]),c.bx=0,c.by=0,c.x=a[e][1],c.y=a[e][2],v=W(f.length,l&&l.length||0))},q=[],u=[],c=\"\",t=\"\",x=0,v=W(f.length,\n",
       "l&&l.length||0);for(;x<v;x++){f[x]&&(c=f[x][0]);\"C\"!=c&&(q[x]=c,x&&(t=q[x-1]));f[x]=p(f[x],n,t);\"A\"!=q[x]&&\"C\"==c&&(q[x]=\"C\");s(f,x);l&&(l[x]&&(c=l[x][0]),\"C\"!=c&&(u[x]=c,x&&(t=u[x-1])),l[x]=p(l[x],k,t),\"A\"!=u[x]&&\"C\"==c&&(u[x]=\"C\"),s(l,x));r(f,l,n,k,x);r(l,f,k,n,x);var w=f[x],z=l&&l[x],y=w.length,U=l&&z.length;n.x=w[y-2];n.y=w[y-1];n.bx=$(w[y-4])||n.x;n.by=$(w[y-3])||n.y;k.bx=l&&($(z[U-4])||k.x);k.by=l&&($(z[U-3])||k.y);k.x=l&&z[U-2];k.y=l&&z[U-1]}l||(e.curve=d(f));return l?[f,l]:f}function P(a,\n",
       "b){for(var d=[],e=0,h=a.length;h-2*!b>e;e+=2){var f=[{x:+a[e-2],y:+a[e-1]},{x:+a[e],y:+a[e+1]},{x:+a[e+2],y:+a[e+3]},{x:+a[e+4],y:+a[e+5]}];b?e?h-4==e?f[3]={x:+a[0],y:+a[1]}:h-2==e&&(f[2]={x:+a[0],y:+a[1]},f[3]={x:+a[2],y:+a[3]}):f[0]={x:+a[h-2],y:+a[h-1]}:h-4==e?f[3]=f[2]:e||(f[0]={x:+a[e],y:+a[e+1]});d.push([\"C\",(-f[0].x+6*f[1].x+f[2].x)/6,(-f[0].y+6*f[1].y+f[2].y)/6,(f[1].x+6*f[2].x-f[3].x)/6,(f[1].y+6*f[2].y-f[3].y)/6,f[2].x,f[2].y])}return d}y=k.prototype;var Q=a.is,C=a._.clone,L=\"hasOwnProperty\",\n",
       "N=/,?([a-z]),?/gi,$=parseFloat,F=Math,S=F.PI,X=F.min,W=F.max,ma=F.pow,Z=F.abs;M=n(1);var na=n(),ba=n(0,1),V=a._unit2px;a.path=A;a.path.getTotalLength=M;a.path.getPointAtLength=na;a.path.getSubpath=function(a,b,d){if(1E-6>this.getTotalLength(a)-d)return ba(a,b).end;a=ba(a,d,1);return b?ba(a,b).end:a};y.getTotalLength=function(){if(this.node.getTotalLength)return this.node.getTotalLength()};y.getPointAtLength=function(a){return na(this.attr(\"d\"),a)};y.getSubpath=function(b,d){return a.path.getSubpath(this.attr(\"d\"),\n",
       "b,d)};a._.box=w;a.path.findDotsAtSegment=u;a.path.bezierBBox=p;a.path.isPointInsideBBox=b;a.path.isBBoxIntersect=q;a.path.intersection=function(a,b){return l(a,b)};a.path.intersectionNumber=function(a,b){return l(a,b,1)};a.path.isPointInside=function(a,d,e){var h=r(a);return b(h,d,e)&&1==l(a,[[\"M\",d,e],[\"H\",h.x2+10] ],1)%2};a.path.getBBox=r;a.path.get={path:function(a){return a.attr(\"path\")},circle:function(a){a=V(a);return x(a.cx,a.cy,a.r)},ellipse:function(a){a=V(a);return x(a.cx||0,a.cy||0,a.rx,\n",
       "a.ry)},rect:function(a){a=V(a);return s(a.x||0,a.y||0,a.width,a.height,a.rx,a.ry)},image:function(a){a=V(a);return s(a.x||0,a.y||0,a.width,a.height)},line:function(a){return\"M\"+[a.attr(\"x1\")||0,a.attr(\"y1\")||0,a.attr(\"x2\"),a.attr(\"y2\")]},polyline:function(a){return\"M\"+a.attr(\"points\")},polygon:function(a){return\"M\"+a.attr(\"points\")+\"z\"},deflt:function(a){a=a.node.getBBox();return s(a.x,a.y,a.width,a.height)}};a.path.toRelative=function(b){var e=A(b),h=String.prototype.toLowerCase;if(e.rel)return d(e.rel);\n",
       "a.is(b,\"array\")&&a.is(b&&b[0],\"array\")||(b=a.parsePathString(b));var f=[],l=0,n=0,k=0,p=0,s=0;\"M\"==b[0][0]&&(l=b[0][1],n=b[0][2],k=l,p=n,s++,f.push([\"M\",l,n]));for(var r=b.length;s<r;s++){var q=f[s]=[],x=b[s];if(x[0]!=h.call(x[0]))switch(q[0]=h.call(x[0]),q[0]){case \"a\":q[1]=x[1];q[2]=x[2];q[3]=x[3];q[4]=x[4];q[5]=x[5];q[6]=+(x[6]-l).toFixed(3);q[7]=+(x[7]-n).toFixed(3);break;case \"v\":q[1]=+(x[1]-n).toFixed(3);break;case \"m\":k=x[1],p=x[2];default:for(var c=1,t=x.length;c<t;c++)q[c]=+(x[c]-(c%2?l:\n",
       "n)).toFixed(3)}else for(f[s]=[],\"m\"==x[0]&&(k=x[1]+l,p=x[2]+n),q=0,c=x.length;q<c;q++)f[s][q]=x[q];x=f[s].length;switch(f[s][0]){case \"z\":l=k;n=p;break;case \"h\":l+=+f[s][x-1];break;case \"v\":n+=+f[s][x-1];break;default:l+=+f[s][x-2],n+=+f[s][x-1]}}f.toString=z;e.rel=d(f);return f};a.path.toAbsolute=G;a.path.toCubic=I;a.path.map=function(a,b){if(!b)return a;var d,e,h,f,l,n,k;a=I(a);h=0;for(l=a.length;h<l;h++)for(k=a[h],f=1,n=k.length;f<n;f+=2)d=b.x(k[f],k[f+1]),e=b.y(k[f],k[f+1]),k[f]=d,k[f+1]=e;return a};\n",
       "a.path.toString=z;a.path.clone=d});C.plugin(function(a,v,y,C){var A=Math.max,w=Math.min,z=function(a){this.items=[];this.bindings={};this.length=0;this.type=\"set\";if(a)for(var f=0,n=a.length;f<n;f++)a[f]&&(this[this.items.length]=this.items[this.items.length]=a[f],this.length++)};v=z.prototype;v.push=function(){for(var a,f,n=0,k=arguments.length;n<k;n++)if(a=arguments[n])f=this.items.length,this[f]=this.items[f]=a,this.length++;return this};v.pop=function(){this.length&&delete this[this.length--];\n",
       "return this.items.pop()};v.forEach=function(a,f){for(var n=0,k=this.items.length;n<k&&!1!==a.call(f,this.items[n],n);n++);return this};v.animate=function(d,f,n,u){\"function\"!=typeof n||n.length||(u=n,n=L.linear);d instanceof a._.Animation&&(u=d.callback,n=d.easing,f=n.dur,d=d.attr);var p=arguments;if(a.is(d,\"array\")&&a.is(p[p.length-1],\"array\"))var b=!0;var q,e=function(){q?this.b=q:q=this.b},l=0,r=u&&function(){l++==this.length&&u.call(this)};return this.forEach(function(a,l){k.once(\"snap.animcreated.\"+\n",
       "a.id,e);b?p[l]&&a.animate.apply(a,p[l]):a.animate(d,f,n,r)})};v.remove=function(){for(;this.length;)this.pop().remove();return this};v.bind=function(a,f,k){var u={};if(\"function\"==typeof f)this.bindings[a]=f;else{var p=k||a;this.bindings[a]=function(a){u[p]=a;f.attr(u)}}return this};v.attr=function(a){var f={},k;for(k in a)if(this.bindings[k])this.bindings[k](a[k]);else f[k]=a[k];a=0;for(k=this.items.length;a<k;a++)this.items[a].attr(f);return this};v.clear=function(){for(;this.length;)this.pop()};\n",
       "v.splice=function(a,f,k){a=0>a?A(this.length+a,0):a;f=A(0,w(this.length-a,f));var u=[],p=[],b=[],q;for(q=2;q<arguments.length;q++)b.push(arguments[q]);for(q=0;q<f;q++)p.push(this[a+q]);for(;q<this.length-a;q++)u.push(this[a+q]);var e=b.length;for(q=0;q<e+u.length;q++)this.items[a+q]=this[a+q]=q<e?b[q]:u[q-e];for(q=this.items.length=this.length-=f-e;this[q];)delete this[q++];return new z(p)};v.exclude=function(a){for(var f=0,k=this.length;f<k;f++)if(this[f]==a)return this.splice(f,1),!0;return!1};\n",
       "v.insertAfter=function(a){for(var f=this.items.length;f--;)this.items[f].insertAfter(a);return this};v.getBBox=function(){for(var a=[],f=[],k=[],u=[],p=this.items.length;p--;)if(!this.items[p].removed){var b=this.items[p].getBBox();a.push(b.x);f.push(b.y);k.push(b.x+b.width);u.push(b.y+b.height)}a=w.apply(0,a);f=w.apply(0,f);k=A.apply(0,k);u=A.apply(0,u);return{x:a,y:f,x2:k,y2:u,width:k-a,height:u-f,cx:a+(k-a)/2,cy:f+(u-f)/2}};v.clone=function(a){a=new z;for(var f=0,k=this.items.length;f<k;f++)a.push(this.items[f].clone());\n",
       "return a};v.toString=function(){return\"Snap\\u2018s set\"};v.type=\"set\";a.set=function(){var a=new z;arguments.length&&a.push.apply(a,Array.prototype.slice.call(arguments,0));return a}});C.plugin(function(a,v,y,C){function A(a){var b=a[0];switch(b.toLowerCase()){case \"t\":return[b,0,0];case \"m\":return[b,1,0,0,1,0,0];case \"r\":return 4==a.length?[b,0,a[2],a[3] ]:[b,0];case \"s\":return 5==a.length?[b,1,1,a[3],a[4] ]:3==a.length?[b,1,1]:[b,1]}}function w(b,d,f){d=q(d).replace(/\\.{3}|\\u2026/g,b);b=a.parseTransformString(b)||\n",
       "[];d=a.parseTransformString(d)||[];for(var k=Math.max(b.length,d.length),p=[],v=[],h=0,w,z,y,I;h<k;h++){y=b[h]||A(d[h]);I=d[h]||A(y);if(y[0]!=I[0]||\"r\"==y[0].toLowerCase()&&(y[2]!=I[2]||y[3]!=I[3])||\"s\"==y[0].toLowerCase()&&(y[3]!=I[3]||y[4]!=I[4])){b=a._.transform2matrix(b,f());d=a._.transform2matrix(d,f());p=[[\"m\",b.a,b.b,b.c,b.d,b.e,b.f] ];v=[[\"m\",d.a,d.b,d.c,d.d,d.e,d.f] ];break}p[h]=[];v[h]=[];w=0;for(z=Math.max(y.length,I.length);w<z;w++)w in y&&(p[h][w]=y[w]),w in I&&(v[h][w]=I[w])}return{from:u(p),\n",
       "to:u(v),f:n(p)}}function z(a){return a}function d(a){return function(b){return+b.toFixed(3)+a}}function f(b){return a.rgb(b[0],b[1],b[2])}function n(a){var b=0,d,f,k,n,h,p,q=[];d=0;for(f=a.length;d<f;d++){h=\"[\";p=['\"'+a[d][0]+'\"'];k=1;for(n=a[d].length;k<n;k++)p[k]=\"val[\"+b++ +\"]\";h+=p+\"]\";q[d]=h}return Function(\"val\",\"return Snap.path.toString.call([\"+q+\"])\")}function u(a){for(var b=[],d=0,f=a.length;d<f;d++)for(var k=1,n=a[d].length;k<n;k++)b.push(a[d][k]);return b}var p={},b=/[a-z]+$/i,q=String;\n",
       "p.stroke=p.fill=\"colour\";v.prototype.equal=function(a,b){return k(\"snap.util.equal\",this,a,b).firstDefined()};k.on(\"snap.util.equal\",function(e,k){var r,s;r=q(this.attr(e)||\"\");var x=this;if(r==+r&&k==+k)return{from:+r,to:+k,f:z};if(\"colour\"==p[e])return r=a.color(r),s=a.color(k),{from:[r.r,r.g,r.b,r.opacity],to:[s.r,s.g,s.b,s.opacity],f:f};if(\"transform\"==e||\"gradientTransform\"==e||\"patternTransform\"==e)return k instanceof a.Matrix&&(k=k.toTransformString()),a._.rgTransform.test(k)||(k=a._.svgTransform2string(k)),\n",
       "w(r,k,function(){return x.getBBox(1)});if(\"d\"==e||\"path\"==e)return r=a.path.toCubic(r,k),{from:u(r[0]),to:u(r[1]),f:n(r[0])};if(\"points\"==e)return r=q(r).split(a._.separator),s=q(k).split(a._.separator),{from:r,to:s,f:function(a){return a}};aUnit=r.match(b);s=q(k).match(b);return aUnit&&aUnit==s?{from:parseFloat(r),to:parseFloat(k),f:d(aUnit)}:{from:this.asPX(e),to:this.asPX(e,k),f:z}})});C.plugin(function(a,v,y,C){var A=v.prototype,w=\"createTouch\"in C.doc;v=\"click dblclick mousedown mousemove mouseout mouseover mouseup touchstart touchmove touchend touchcancel\".split(\" \");\n",
       "var z={mousedown:\"touchstart\",mousemove:\"touchmove\",mouseup:\"touchend\"},d=function(a,b){var d=\"y\"==a?\"scrollTop\":\"scrollLeft\",e=b&&b.node?b.node.ownerDocument:C.doc;return e[d in e.documentElement?\"documentElement\":\"body\"][d]},f=function(){this.returnValue=!1},n=function(){return this.originalEvent.preventDefault()},u=function(){this.cancelBubble=!0},p=function(){return this.originalEvent.stopPropagation()},b=function(){if(C.doc.addEventListener)return function(a,b,e,f){var k=w&&z[b]?z[b]:b,l=function(k){var l=\n",
       "d(\"y\",f),q=d(\"x\",f);if(w&&z.hasOwnProperty(b))for(var r=0,u=k.targetTouches&&k.targetTouches.length;r<u;r++)if(k.targetTouches[r].target==a||a.contains(k.targetTouches[r].target)){u=k;k=k.targetTouches[r];k.originalEvent=u;k.preventDefault=n;k.stopPropagation=p;break}return e.call(f,k,k.clientX+q,k.clientY+l)};b!==k&&a.addEventListener(b,l,!1);a.addEventListener(k,l,!1);return function(){b!==k&&a.removeEventListener(b,l,!1);a.removeEventListener(k,l,!1);return!0}};if(C.doc.attachEvent)return function(a,\n",
       "b,e,h){var k=function(a){a=a||h.node.ownerDocument.window.event;var b=d(\"y\",h),k=d(\"x\",h),k=a.clientX+k,b=a.clientY+b;a.preventDefault=a.preventDefault||f;a.stopPropagation=a.stopPropagation||u;return e.call(h,a,k,b)};a.attachEvent(\"on\"+b,k);return function(){a.detachEvent(\"on\"+b,k);return!0}}}(),q=[],e=function(a){for(var b=a.clientX,e=a.clientY,f=d(\"y\"),l=d(\"x\"),n,p=q.length;p--;){n=q[p];if(w)for(var r=a.touches&&a.touches.length,u;r--;){if(u=a.touches[r],u.identifier==n.el._drag.id||n.el.node.contains(u.target)){b=\n",
       "u.clientX;e=u.clientY;(a.originalEvent?a.originalEvent:a).preventDefault();break}}else a.preventDefault();b+=l;e+=f;k(\"snap.drag.move.\"+n.el.id,n.move_scope||n.el,b-n.el._drag.x,e-n.el._drag.y,b,e,a)}},l=function(b){a.unmousemove(e).unmouseup(l);for(var d=q.length,f;d--;)f=q[d],f.el._drag={},k(\"snap.drag.end.\"+f.el.id,f.end_scope||f.start_scope||f.move_scope||f.el,b);q=[]};for(y=v.length;y--;)(function(d){a[d]=A[d]=function(e,f){a.is(e,\"function\")&&(this.events=this.events||[],this.events.push({name:d,\n",
       "f:e,unbind:b(this.node||document,d,e,f||this)}));return this};a[\"un\"+d]=A[\"un\"+d]=function(a){for(var b=this.events||[],e=b.length;e--;)if(b[e].name==d&&(b[e].f==a||!a)){b[e].unbind();b.splice(e,1);!b.length&&delete this.events;break}return this}})(v[y]);A.hover=function(a,b,d,e){return this.mouseover(a,d).mouseout(b,e||d)};A.unhover=function(a,b){return this.unmouseover(a).unmouseout(b)};var r=[];A.drag=function(b,d,f,h,n,p){function u(r,v,w){(r.originalEvent||r).preventDefault();this._drag.x=v;\n",
       "this._drag.y=w;this._drag.id=r.identifier;!q.length&&a.mousemove(e).mouseup(l);q.push({el:this,move_scope:h,start_scope:n,end_scope:p});d&&k.on(\"snap.drag.start.\"+this.id,d);b&&k.on(\"snap.drag.move.\"+this.id,b);f&&k.on(\"snap.drag.end.\"+this.id,f);k(\"snap.drag.start.\"+this.id,n||h||this,v,w,r)}if(!arguments.length){var v;return this.drag(function(a,b){this.attr({transform:v+(v?\"T\":\"t\")+[a,b]})},function(){v=this.transform().local})}this._drag={};r.push({el:this,start:u});this.mousedown(u);return this};\n",
       "A.undrag=function(){for(var b=r.length;b--;)r[b].el==this&&(this.unmousedown(r[b].start),r.splice(b,1),k.unbind(\"snap.drag.*.\"+this.id));!r.length&&a.unmousemove(e).unmouseup(l);return this}});C.plugin(function(a,v,y,C){y=y.prototype;var A=/^\\s*url\\((.+)\\)/,w=String,z=a._.$;a.filter={};y.filter=function(d){var f=this;\"svg\"!=f.type&&(f=f.paper);d=a.parse(w(d));var k=a._.id(),u=z(\"filter\");z(u,{id:k,filterUnits:\"userSpaceOnUse\"});u.appendChild(d.node);f.defs.appendChild(u);return new v(u)};k.on(\"snap.util.getattr.filter\",\n",
       "function(){k.stop();var d=z(this.node,\"filter\");if(d)return(d=w(d).match(A))&&a.select(d[1])});k.on(\"snap.util.attr.filter\",function(d){if(d instanceof v&&\"filter\"==d.type){k.stop();var f=d.node.id;f||(z(d.node,{id:d.id}),f=d.id);z(this.node,{filter:a.url(f)})}d&&\"none\"!=d||(k.stop(),this.node.removeAttribute(\"filter\"))});a.filter.blur=function(d,f){null==d&&(d=2);return a.format('<feGaussianBlur stdDeviation=\"{def}\"/>',{def:null==f?d:[d,f]})};a.filter.blur.toString=function(){return this()};a.filter.shadow=\n",
       "function(d,f,k,u,p){\"string\"==typeof k&&(p=u=k,k=4);\"string\"!=typeof u&&(p=u,u=\"#000\");null==k&&(k=4);null==p&&(p=1);null==d&&(d=0,f=2);null==f&&(f=d);u=a.color(u||\"#000\");return a.format('<feGaussianBlur in=\"SourceAlpha\" stdDeviation=\"{blur}\"/><feOffset dx=\"{dx}\" dy=\"{dy}\" result=\"offsetblur\"/><feFlood flood-color=\"{color}\"/><feComposite in2=\"offsetblur\" operator=\"in\"/><feComponentTransfer><feFuncA type=\"linear\" slope=\"{opacity}\"/></feComponentTransfer><feMerge><feMergeNode/><feMergeNode in=\"SourceGraphic\"/></feMerge>',\n",
       "{color:u,dx:d,dy:f,blur:k,opacity:p})};a.filter.shadow.toString=function(){return this()};a.filter.grayscale=function(d){null==d&&(d=1);return a.format('<feColorMatrix type=\"matrix\" values=\"{a} {b} {c} 0 0 {d} {e} {f} 0 0 {g} {b} {h} 0 0 0 0 0 1 0\"/>',{a:0.2126+0.7874*(1-d),b:0.7152-0.7152*(1-d),c:0.0722-0.0722*(1-d),d:0.2126-0.2126*(1-d),e:0.7152+0.2848*(1-d),f:0.0722-0.0722*(1-d),g:0.2126-0.2126*(1-d),h:0.0722+0.9278*(1-d)})};a.filter.grayscale.toString=function(){return this()};a.filter.sepia=\n",
       "function(d){null==d&&(d=1);return a.format('<feColorMatrix type=\"matrix\" values=\"{a} {b} {c} 0 0 {d} {e} {f} 0 0 {g} {h} {i} 0 0 0 0 0 1 0\"/>',{a:0.393+0.607*(1-d),b:0.769-0.769*(1-d),c:0.189-0.189*(1-d),d:0.349-0.349*(1-d),e:0.686+0.314*(1-d),f:0.168-0.168*(1-d),g:0.272-0.272*(1-d),h:0.534-0.534*(1-d),i:0.131+0.869*(1-d)})};a.filter.sepia.toString=function(){return this()};a.filter.saturate=function(d){null==d&&(d=1);return a.format('<feColorMatrix type=\"saturate\" values=\"{amount}\"/>',{amount:1-\n",
       "d})};a.filter.saturate.toString=function(){return this()};a.filter.hueRotate=function(d){return a.format('<feColorMatrix type=\"hueRotate\" values=\"{angle}\"/>',{angle:d||0})};a.filter.hueRotate.toString=function(){return this()};a.filter.invert=function(d){null==d&&(d=1);return a.format('<feComponentTransfer><feFuncR type=\"table\" tableValues=\"{amount} {amount2}\"/><feFuncG type=\"table\" tableValues=\"{amount} {amount2}\"/><feFuncB type=\"table\" tableValues=\"{amount} {amount2}\"/></feComponentTransfer>',{amount:d,\n",
       "amount2:1-d})};a.filter.invert.toString=function(){return this()};a.filter.brightness=function(d){null==d&&(d=1);return a.format('<feComponentTransfer><feFuncR type=\"linear\" slope=\"{amount}\"/><feFuncG type=\"linear\" slope=\"{amount}\"/><feFuncB type=\"linear\" slope=\"{amount}\"/></feComponentTransfer>',{amount:d})};a.filter.brightness.toString=function(){return this()};a.filter.contrast=function(d){null==d&&(d=1);return a.format('<feComponentTransfer><feFuncR type=\"linear\" slope=\"{amount}\" intercept=\"{amount2}\"/><feFuncG type=\"linear\" slope=\"{amount}\" intercept=\"{amount2}\"/><feFuncB type=\"linear\" slope=\"{amount}\" intercept=\"{amount2}\"/></feComponentTransfer>',\n",
       "{amount:d,amount2:0.5-d/2})};a.filter.contrast.toString=function(){return this()}});return C});\n",
       "]]></script>\n",
       "    <script><![CDATA[\n",
       "        (function(glob, factory){\n",
       "    if (typeof define == \"function\" && define.amd) {\n",
       "        define(\"ProfileView\", [\"Snap.svg\"], function (Snap){\n",
       "            return factory(Snap);\n",
       "        });\n",
       "    }\n",
       "    else {\n",
       "        glob.ProfileView = factory(glob.Snap);\n",
       "    }\n",
       "}(this, function(Snap){\n",
       "    var ProfileView = {};\n",
       "\n",
       "    var avgcharwidth = 6;\n",
       "    var default_transition_time = 300;\n",
       "    var viewport_scale = 0.9;\n",
       "\n",
       "    var format_text = function(text, available_len){\n",
       "        if (available_len < 3*avgcharwidth) {\n",
       "            return \"\";\n",
       "        }\n",
       "        else if (text.length*avgcharwidth > available_len) {\n",
       "            nchars = Math.round(available_len/avgcharwidth)-2;\n",
       "            return text.slice(0,nchars) + \"..\"\n",
       "        }\n",
       "        return text;\n",
       "    }\n",
       "\n",
       "    // Shift the view port to center on xc, then scale in the x direction\n",
       "    ProfileView.move_and_zoom = function(xc, xs, xScale, fig, delta_t){\n",
       "        if (typeof delta_t === 'undefined') { delta_t = default_transition_time; }\n",
       "        if (typeof xs === 'undefined') {xs = xc;}\n",
       "\n",
       "        var oldScale = fig.scale;\n",
       "        var oldShift = fig.shift;\n",
       "\n",
       "        fig.scale = xScale;\n",
       "        fig.shift = xc;\n",
       "\n",
       "        xScale *= viewport_scale;\n",
       "\n",
       "        var oldxshift = -(oldShift - 0.5*fig.clip_width);\n",
       "        var xshift = -(xc - 0.5*fig.clip_width);\n",
       "\n",
       "        fig.texts.forEach(function(text){\n",
       "            text.node.textContent = \"\";\n",
       "        });\n",
       "\n",
       "        if (delta_t != 0){\n",
       "            Snap.animate(0, 1, function(step){\n",
       "\n",
       "                var scale = oldScale + (xScale - oldScale)*step\n",
       "                var rMatrix = new Snap.Matrix;\n",
       "                rMatrix.translate(oldxshift + (xshift - oldxshift)*step, 0);\n",
       "                rMatrix.scale(scale, 1, xs, fig.clip_middle);\n",
       "                fig.viewport.attr({\n",
       "                    transform: rMatrix\n",
       "                })\n",
       "                fig.rects.forEach(function(rect){\n",
       "                    rect.attr({\n",
       "                        rx: 2/scale,\n",
       "                        ry: 2/scale\n",
       "                    });\n",
       "                })\n",
       "\n",
       "            }, delta_t, null, function(){\n",
       "                fig.rects.forEach(function(rect, i){\n",
       "                    var bbox = rect.getBBox();\n",
       "                    var text = fig.texts[i];\n",
       "                    var shortinfo = rect.node.getAttribute(\"data-shortinfo\");\n",
       "\n",
       "                    var tMatrix = new Snap.Matrix;\n",
       "                    tMatrix.scale(1.0/xScale, 1, bbox.x, bbox.y);\n",
       "\n",
       "                    text.node.textContent = format_text(shortinfo, bbox.w*xScale);\n",
       "                    text.transform(tMatrix);\n",
       "                });\n",
       "            });\n",
       "        }\n",
       "        else {\n",
       "            var rMatrix = new Snap.Matrix;\n",
       "            rMatrix.translate(xshift, 0);\n",
       "            rMatrix.scale(xScale, 1, xs, fig.clip_middle);\n",
       "\n",
       "            fig.viewport.transform(rMatrix);\n",
       "            fig.rects.forEach(function(rect, i){\n",
       "                rect.attr({\n",
       "                    rx: 2/xScale,\n",
       "                    ry: 2/xScale\n",
       "                });\n",
       "                var bbox = rect.getBBox();\n",
       "                var text = fig.texts[i];\n",
       "                var shortinfo = rect.node.getAttribute(\"data-shortinfo\");\n",
       "\n",
       "                var tMatrix = new Snap.Matrix;\n",
       "                tMatrix.scale(1.0/xScale, 1, bbox.x, bbox.y);\n",
       "\n",
       "                text.node.textContent = format_text(shortinfo, bbox.w*xScale);\n",
       "                text.transform(tMatrix);\n",
       "            });\n",
       "       }\n",
       "\n",
       "    }\n",
       "\n",
       "    ProfileView.reset = function(fig) {\n",
       "        ProfileView.move_and_zoom(fig.viewport_cx, fig.viewport_cx, viewport_scale, fig);\n",
       "    }\n",
       "\n",
       "    return ProfileView;\n",
       "}));\n",
       "\n",
       "        (function (glob, factory) {\n",
       "            if (typeof require === \"function\" && typeof define === \"function\" && define.amd) {\n",
       "                require([\"Snap.svg\", \"ProfileView\"], function (Snap, ProfileView) {\n",
       "                    factory(Snap, ProfileView);\n",
       "                });\n",
       "          } else {\n",
       "              factory(glob.Snap, glob.ProfileView);\n",
       "          }\n",
       "        })(window, function (Snap, ProfileView) {\n",
       "            var svg = Snap.select('svg').node;\n",
       "            var pt = svg.createSVGPoint();\n",
       "\n",
       "            var fig = {};\n",
       "\n",
       "            fig.viewport = Snap.select('#fig-1a0b470385d3415b8663332a15fe1d44-viewport');\n",
       "            fig.frame = Snap.select('#fig-1a0b470385d3415b8663332a15fe1d44-frame');\n",
       "\n",
       "            fig.viewport_cx = fig.viewport.getBBox().cx;\n",
       "\n",
       "            fig.rects = Snap.selectAll('#fig-1a0b470385d3415b8663332a15fe1d44-viewport rect');\n",
       "            fig.texts = Snap.selectAll('#fig-1a0b470385d3415b8663332a15fe1d44-viewport text');\n",
       "            fig.clip = Snap.select('#fig-1a0b470385d3415b8663332a15fe1d44-clip-rect');\n",
       "            fig.clip_width  = fig.clip.getBBox().w;\n",
       "            fig.clip_middle = fig.clip.getBBox().cy;\n",
       "            fig.details = document.getElementById(\"fig-1a0b470385d3415b8663332a15fe1d44-details\").firstChild; \n",
       "\n",
       "            fig.scale = 1.0;\n",
       "            fig.shift = fig.viewport_cx;\n",
       "\n",
       "            ProfileView.reset(fig)\n",
       "\n",
       "            fig.rects.forEach(function(rect, i){\n",
       "                rect.dblclick(function(){\n",
       "                    bbox = rect.getBBox();\n",
       "                    ProfileView.move_and_zoom(bbox.cx, bbox.cx, fig.clip_width/bbox.w, fig);\n",
       "                })\n",
       "                .mouseover(function(){\n",
       "                    fig.details.nodeValue = rect.node.getAttribute(\"data-info\");\n",
       "                })\n",
       "                .mouseout(function(){\n",
       "                    fig.details.nodeValue = \"\";\n",
       "                });\n",
       "\n",
       "            })\n",
       "            fig.texts.forEach(function(text, i){\n",
       "                text.dblclick(function(){\n",
       "                    bbox = fig.rects[i].getBBox();\n",
       "                    ProfileView.move_and_zoom(bbox.cx, bbox.cx, fig.clip_width/bbox.w, fig);\n",
       "                })\n",
       "                .mouseover(function(){\n",
       "                    fig.details.nodeValue = fig.rects[i].node.getAttribute(\"data-info\");\n",
       "                })\n",
       "                .mouseout(function(){\n",
       "                    fig.details.nodeValue = \"\";\n",
       "                });\n",
       "            })\n",
       "            Snap.selectAll(\"#fig-1a0b470385d3415b8663332a15fe1d44-frame .pvbackground\").forEach(function(bg){\n",
       "               bg.dblclick(function(e){\n",
       "                   ProfileView.reset(fig);\n",
       "                });\n",
       "            });\n",
       "\n",
       "            function throttle(delay, callback) {\n",
       "                var previousCall = new Date().getTime();\n",
       "                return function() {\n",
       "                    var time = new Date().getTime();\n",
       "\n",
       "                    if ((time - previousCall) >= delay) {\n",
       "                        previousCall = time;\n",
       "                        callback.apply(null, arguments);\n",
       "                    }\n",
       "                    else {\n",
       "                        arguments[0].preventDefault();\n",
       "                    }\n",
       "                };\n",
       "            }\n",
       "\n",
       "            var MouseWheelHandler = throttle(400, function(e) {\n",
       "                e.preventDefault();\n",
       "                var e = window.event || e;\n",
       "                var delta = Math.max(-1, Math.min(1, (e.wheelDelta || -e.detail)));\n",
       "                pt.x = e.clientX;\n",
       "                pt.y = e.clientY;\n",
       "\n",
       "                pt.matrixTransform(fig.viewport.node.getScreenCTM().inverse());\n",
       "                var targetScale = fig.scale + 0.2*delta;\n",
       "                ProfileView.move_and_zoom(fig.shift, pt.x, targetScale, fig, 400);\n",
       "                return false;\n",
       "            })\n",
       "            frame = fig.frame.node;\n",
       "            if (frame.addEventListener) {\n",
       "                frame.addEventListener(\"mousewheel\", MouseWheelHandler, false);\n",
       "                frame.addEventListener(\"DOMMouseScroll\", MouseWheelHandler, false);\n",
       "            }\n",
       "            else {\n",
       "                frame.attachEvent(\"onmousewheel\", MouseWheelHandler);\n",
       "            }\n",
       "\n",
       "        fig.viewport.drag();\n",
       "}); ]]></script>\n",
       "</svg>\n"
      ],
      "text/plain": [
       "ProfileView.ProfileData(ColorTypes.RGB{FixedPointNumbers.Normed{UInt8,8}}[RGB{N0f8}(0.91,0.439,0.867) RGB{N0f8}(1.0,0.643,0.612) … RGB{N0f8}(1.0,1.0,1.0) RGB{N0f8}(1.0,1.0,1.0); RGB{N0f8}(0.91,0.439,0.867) RGB{N0f8}(1.0,0.643,0.612) … RGB{N0f8}(1.0,1.0,1.0) RGB{N0f8}(1.0,1.0,1.0); … ; RGB{N0f8}(0.91,0.439,0.867) RGB{N0f8}(1.0,0.643,0.612) … RGB{N0f8}(1.0,1.0,1.0) RGB{N0f8}(1.0,1.0,1.0); RGB{N0f8}(1.0,1.0,1.0) RGB{N0f8}(1.0,1.0,1.0) … RGB{N0f8}(1.0,1.0,1.0) RGB{N0f8}(1.0,1.0,1.0)],Dict(0x00007f0eb5503819=>StackFrame[ in ip:0x7f0eb5503818 at libfftw3.so.3:?],0x00007f0eb9a1875d=>StackFrame[ in macro expansion at cartesian.jl:62 [inlined], in macro expansion at multidimensional.jl:348 [inlined], in _unsafe_getindex!(::Array{Float64,1}, ::Array{Float64,3}, ::Int64, ::Colon, ::Int64) at multidimensional.jl:340],0x00007f10d19ac61e=>StackFrame[ in jl_mutex_wait at julia_threads.h:435 [inlined], in jl_mutex_lock at julia_threads.h:457 [inlined], in inst_datatype at jltypes.c:2183],0x00007f0eb9a1c3b1=>StackFrame[ in fpsort!(::Array{Float64,1}, ::Base.Sort.QuickSortAlg, ::Base.Order.ForwardOrdering) at sort.jl:608],0x00007f10d19c5ed0=>StackFrame[ in jl_gc_wb at julia.h:665 [inlined], in jl_f__apply at builtins.c:542],0x00007f0eb9a0f01f=>StackFrame[ in macro expansion at multidimensional.jl:296 [inlined], in _unsafe_getindex(::Base.LinearFast, ::Array{Float64,3}, ::Colon, ::Colon, ::Int64) at multidimensional.jl:291],0x00007f0eb9a18838=>StackFrame[ in setindex!(::Array{Float64,3}, ::Float64, ::Int64, ::Base.OneTo{Int64}, ::Int64, ::Vararg{Int64,N}) at abstractarray.jl:0],0x00007f10d19ac67a=>StackFrame[ in lookup_type at jltypes.c:2020 [inlined], in inst_datatype at jltypes.c:2184],0x00007f0eb5526845=>StackFrame[ in ip:0x7f0eb5526844 at libfftw3.so.3:?],0x00007f0eb54ebdf7=>StackFrame[ in ip:0x7f0eb54ebdf6 at libfftw3.so.3:?]…),ProfileView.TagData[ProfileView.TagData(0x00007f0eb99b04ea,0) ProfileView.TagData(0x00007f0eb99af1a3,0) … ProfileView.TagData(0x0000000000000000,-1) ProfileView.TagData(0x0000000000000000,-1); ProfileView.TagData(0x00007f0eb99b04ea,0) ProfileView.TagData(0x00007f0eb99af1a3,0) … ProfileView.TagData(0x0000000000000000,-1) ProfileView.TagData(0x0000000000000000,-1); … ; ProfileView.TagData(0x00007f0eb99b04ea,0) ProfileView.TagData(0x00007f0eb99af1a3,0) … ProfileView.TagData(0x0000000000000000,-1) ProfileView.TagData(0x0000000000000000,-1); ProfileView.TagData(0x0000000000000000,-1) ProfileView.TagData(0x0000000000000000,-1) … ProfileView.TagData(0x0000000000000000,-1) ProfileView.TagData(0x0000000000000000,-1)],12)"
      ]
     },
     "execution_count": 11,
     "metadata": {},
     "output_type": "execute_result"
    }
   ],
   "source": [
    "using ProfileView\n",
    "ProfileView.view()"
   ]
  },
  {
   "cell_type": "code",
   "execution_count": 12,
   "metadata": {
    "collapsed": false
   },
   "outputs": [
    {
     "data": {
      "text/plain": [
       "858268"
      ]
     },
     "execution_count": 12,
     "metadata": {},
     "output_type": "execute_result"
    }
   ],
   "source": [
    "# Sprawdzanie alokacji pamięci (ilość zaalokowanej pamięci w bytes)\n",
    "\n",
    "@allocated fft(randn(10,10))"
   ]
  },
  {
   "cell_type": "code",
   "execution_count": 13,
   "metadata": {
    "collapsed": false
   },
   "outputs": [
    {
     "name": "stdout",
     "output_type": "stream",
     "text": [
      "  0.011253 seconds (259 allocations: 19.516 KB)\n"
     ]
    },
    {
     "data": {
      "text/plain": [
       "10×10 Array{Complex{Float64},2}:\n",
       "   7.85056+0.0im       -3.79182+1.32485im   …   -3.79182-1.32485im \n",
       "  -4.94292-2.15768im    7.00043-8.72064im        3.08369-8.19495im \n",
       "   11.2127+3.93277im   -1.46013-1.93623im      -0.305024+4.67589im \n",
       " 0.0799629+7.03881im   -16.4801-4.69813im        2.35229+6.87349im \n",
       "  -4.07138+7.74736im    8.40075+0.833407im      -6.68933-7.72076im \n",
       "   -4.8469+0.0im        3.83038-4.94247im   …    3.83038+4.94247im \n",
       "  -4.07138-7.74736im   -6.68933+7.72076im        8.40075-0.833407im\n",
       " 0.0799629-7.03881im    2.35229-6.87349im       -16.4801+4.69813im \n",
       "   11.2127-3.93277im  -0.305024-4.67589im       -1.46013+1.93623im \n",
       "  -4.94292+2.15768im    3.08369+8.19495im        7.00043+8.72064im "
      ]
     },
     "execution_count": 13,
     "metadata": {},
     "output_type": "execute_result"
    }
   ],
   "source": [
    "# Sprawdzanie czasu obliczeń, ilości alokacji itp.\n",
    "@time fft(randn(10,10))"
   ]
  },
  {
   "cell_type": "code",
   "execution_count": 14,
   "metadata": {
    "collapsed": false
   },
   "outputs": [
    {
     "name": "stdout",
     "output_type": "stream",
     "text": [
      "  0.000242 seconds (79 allocations: 8.531 KB)\n",
      "elapsed time (ns): 241675\n",
      "bytes allocated:   8736\n",
      "pool allocs:       79\n"
     ]
    },
    {
     "data": {
      "text/plain": [
       "10×10 Array{Complex{Float64},2}:\n",
       "   2.40163+0.0im       -17.6801+7.36863im   …   -17.6801-7.36863im \n",
       "   -6.7844+1.72675im   -8.62397-0.167337im       2.91742+9.3997im  \n",
       "   11.9605+2.04336im   -1.16494+10.772im         9.76285+2.24219im \n",
       "   -5.2185-3.01078im  -0.128311-4.02872im        11.5898-7.54955im \n",
       " -0.923558+4.37222im    4.73713-4.55217im        5.33043+5.14325im \n",
       " -0.448956+0.0im       -9.98701-3.89179im   …   -9.98701+3.89179im \n",
       " -0.923558-4.37222im    5.33043-5.14325im        4.73713+4.55217im \n",
       "   -5.2185+3.01078im    11.5898+7.54955im      -0.128311+4.02872im \n",
       "   11.9605-2.04336im    9.76285-2.24219im       -1.16494-10.772im  \n",
       "   -6.7844-1.72675im    2.91742-9.3997im        -8.62397+0.167337im"
      ]
     },
     "execution_count": 14,
     "metadata": {},
     "output_type": "execute_result"
    }
   ],
   "source": [
    "@timev fft(randn(10,10))"
   ]
  },
  {
   "cell_type": "code",
   "execution_count": 15,
   "metadata": {
    "collapsed": false
   },
   "outputs": [
    {
     "name": "stdout",
     "output_type": "stream",
     "text": [
      "elapsed time: 0.019018838 seconds\n"
     ]
    }
   ],
   "source": [
    "tic(); fft(randn(10,10)); toc();"
   ]
  },
  {
   "cell_type": "code",
   "execution_count": 16,
   "metadata": {
    "collapsed": false
   },
   "outputs": [
    {
     "data": {
      "text/plain": [
       "0.00027932"
      ]
     },
     "execution_count": 16,
     "metadata": {},
     "output_type": "execute_result"
    }
   ],
   "source": [
    "#jeśli chcemy dostać wynik pomiaru, jako wartość:\n",
    "@elapsed(fft(randn(10,10)))"
   ]
  },
  {
   "cell_type": "markdown",
   "metadata": {},
   "source": [
    "Powyższe makra (@time etc)  sa użyteczne, jeśli chcemy zidentyfikować wąskie gardlo w programie, nie sa jednak dobre, jeśli chcemy  analizować program na drobnoziarnistym poziomie. Wtedy możemy użyc pakietu BenchmarkTools\n",
    "Uwaga: wymaga doinstalowania \n",
    "```julia\n",
    "Pkg.add(\"BenchmarkTools\")\n",
    "```"
   ]
  },
  {
   "cell_type": "code",
   "execution_count": 17,
   "metadata": {
    "collapsed": false
   },
   "outputs": [
    {
     "data": {
      "text/plain": [
       "BenchmarkTools.Trial: \n",
       "  memory estimate:  8.38 KiB\n",
       "  allocs estimate:  75\n",
       "  --------------\n",
       "  minimum time:     68.526 μs (0.00% GC)\n",
       "  median time:      76.307 μs (0.00% GC)\n",
       "  mean time:        93.970 μs (8.71% GC)\n",
       "  maximum time:     37.917 ms (78.85% GC)\n",
       "  --------------\n",
       "  samples:          10000\n",
       "  evals/sample:     1\n",
       "  time tolerance:   5.00%\n",
       "  memory tolerance: 1.00%"
      ]
     },
     "execution_count": 17,
     "metadata": {},
     "output_type": "execute_result"
    }
   ],
   "source": [
    "using BenchmarkTools\n",
    "@benchmark fft(rand(10,10))"
   ]
  },
  {
   "cell_type": "markdown",
   "metadata": {},
   "source": [
    "## Pisanie wydajnych programów"
   ]
  },
  {
   "cell_type": "code",
   "execution_count": 18,
   "metadata": {
    "collapsed": false
   },
   "outputs": [
    {
     "name": "stdout",
     "output_type": "stream",
     "text": [
      "Variables:\n",
      "  #self#::#f\n",
      "  x::Float64\n",
      "  y\u001b[1m\u001b[31m::Union{Float64,Int64}\u001b[0m\n",
      "  fy::Float64\n",
      "  #temp#@_5\u001b[1m\u001b[31m::Union{Float64,Int64}\u001b[0m\n",
      "  #temp#@_6::LambdaInfo\n",
      "  #temp#@_7::Float64\n",
      "\n",
      "Body:\n",
      "  begin \n",
      "      # meta: location In[18] pos 2\n",
      "      # meta: location float.jl < 332\n",
      "      fy::Float64 = (Base.box)(Float64,(Base.sitofp)(Float64,0))\n",
      "      # meta: pop location\n",
      "      unless (Base.box)(Base.Bool,(Base.or_int)((Base.lt_float)(x::Float64,fy::Float64)::Bool,(Base.box)(Base.Bool,(Base.and_int)((Base.box)(Base.Bool,(Base.and_int)((Base.eq_float)(x::Float64,fy::Float64)::Bool,(Base.lt_float)(fy::Float64,9.223372036854776e18)::Bool)),(Base.slt_int)((Base.box)(Int64,(Base.fptosi)(Int64,fy::Float64)),0)::Bool)))) goto 8\n",
      "      #temp#@_5\u001b[1m\u001b[31m::Union{Float64,Int64}\u001b[0m = 0\n",
      "      goto 10\n",
      "      8: \n",
      "      #temp#@_5\u001b[1m\u001b[31m::Union{Float64,Int64}\u001b[0m = x::Float64\n",
      "      10: \n",
      "      # meta: pop location\n",
      "      y\u001b[1m\u001b[31m::Union{Float64,Int64}\u001b[0m = #temp#@_5\u001b[1m\u001b[31m::Union{Float64,Int64}\u001b[0m # line 6:\n",
      "      unless (Core.isa)(y\u001b[1m\u001b[31m::Union{Float64,Int64}\u001b[0m,Float64)\u001b[1m\u001b[31m::Any\u001b[0m goto 17\n",
      "      #temp#@_6::LambdaInfo = LambdaInfo for *(::Float64, ::Float64)\n",
      "      goto 26\n",
      "      17: \n",
      "      unless (Core.isa)(y\u001b[1m\u001b[31m::Union{Float64,Int64}\u001b[0m,Int64)\u001b[1m\u001b[31m::Any\u001b[0m goto 21\n",
      "      #temp#@_6::LambdaInfo = LambdaInfo for *(::Int64, ::Float64)\n",
      "      goto 26\n",
      "      21: \n",
      "      goto 23\n",
      "      23: \n",
      "      #temp#@_7::Float64 = (y\u001b[1m\u001b[31m::Union{Float64,Int64}\u001b[0m * x::Float64)::Float64\n",
      "      goto 28\n",
      "      26: \n",
      "      #temp#@_7::Float64 = $(Expr(:invoke, :(#temp#@_6), :(Main.*), :(y), :(x)))\n",
      "      28: \n",
      "      return $(Expr(:invoke, LambdaInfo for sin(::Float64), :(Main.sin), :((Base.box)(Base.Float64,(Base.add_float)(#temp#@_7,(Base.box)(Float64,(Base.sitofp)(Float64,1)))))))\n",
      "  end::Float64\n"
     ]
    }
   ],
   "source": [
    "# Dlaczego typy są ważne (statyczność typów). \n",
    "pos(x) = x < 0 ? 0 : x\n",
    "\n",
    "function f(x)\n",
    "    y = pos(x)\n",
    "    sin(y*x+1)\n",
    "end\n",
    "#wykrywamy niepewne typy, widać że ciało funkcji jest dluższe.\n",
    "@code_warntype f(3.2)"
   ]
  },
  {
   "cell_type": "code",
   "execution_count": 19,
   "metadata": {
    "collapsed": false
   },
   "outputs": [
    {
     "name": "stdout",
     "output_type": "stream",
     "text": [
      "Variables:\n",
      "  #self#::#f2\n",
      "  x::Float64\n",
      "  y::Float64\n",
      "  #temp#::Float64\n",
      "\n",
      "Body:\n",
      "  begin \n",
      "      # meta: location In[19] pos2 1\n",
      "      unless (Base.lt_float)(x::Float64,0.0)::Bool goto 5\n",
      "      #temp#::Float64 = 0.0\n",
      "      goto 7\n",
      "      5: \n",
      "      #temp#::Float64 = x::Float64\n",
      "      7: \n",
      "      # meta: pop location\n",
      "      y::Float64 = #temp#::Float64 # line 4:\n",
      "      return $(Expr(:invoke, LambdaInfo for sin(::Float64), :(Main.sin), :((Base.box)(Base.Float64,(Base.add_float)((Base.box)(Base.Float64,(Base.mul_float)(y,x)),(Base.box)(Float64,(Base.sitofp)(Float64,1)))))))\n",
      "  end::Float64\n"
     ]
    }
   ],
   "source": [
    "pos2(x) = x < 0.0 ? 0.0 : x\n",
    "function f2(x)\n",
    "    y = pos2(x)\n",
    "    sin(y*x+1)\n",
    "end\n",
    "@code_warntype f2(3.2)"
   ]
  },
  {
   "cell_type": "markdown",
   "metadata": {},
   "source": [
    "### Zmienne globalne\n",
    "- Unikać zmiennych globalnych, ponieważ są trudne do optymalizacji dla kompilatora,\n",
    "- jeśli kod jest krytyczny ze względu na wydajność, lepiej zamknąć go w funkcji.\n",
    "  + W REPLu wszystkie zmienne są globalne\n",
    "      ```julia\n",
    "      julia> x = 1.0\n",
    "      julia> global x = 1.0\n",
    "      ```\n",
    "  + Zmienne globalne należy annotować typami w miejscu ich faktycznego uzycia\n",
    "      ```julia\n",
    "      global x\n",
    "      y = f(x::Int + 1)\n",
    "      ```\n",
    "  + Uczynienie zmiennej globalnej stala poprawia wydajność:\n",
    "     ```julia\n",
    "          const DEFAULT_VAL = 0\n",
    "      ```\n"
   ]
  },
  {
   "cell_type": "markdown",
   "metadata": {},
   "source": [
    "### Typy - optymalizacja"
   ]
  },
  {
   "cell_type": "markdown",
   "metadata": {},
   "source": [
    "- Należy deklarować typy pola typów złożonych\n",
    "\n",
    "Źle\n",
    "```julia\n",
    "type Foo\n",
    "    field\n",
    "end\n",
    "```\n",
    "\n",
    "Dobrze\n",
    "```julia\n",
    "type Foo\n",
    "    field::Float64\n",
    "end\n",
    "```"
   ]
  },
  {
   "cell_type": "markdown",
   "metadata": {},
   "source": [
    "Jesli \"a\" może być różnego typu, to lepiej użyć typów parametrycznych np:"
   ]
  },
  {
   "cell_type": "code",
   "execution_count": 20,
   "metadata": {
    "collapsed": true
   },
   "outputs": [],
   "source": [
    " type MyType{T<:AbstractFloat}\n",
    "         a::T\n",
    " end"
   ]
  },
  {
   "cell_type": "markdown",
   "metadata": {},
   "source": [
    "niz np."
   ]
  },
  {
   "cell_type": "code",
   "execution_count": 21,
   "metadata": {
    "collapsed": true
   },
   "outputs": [],
   "source": [
    "type MyStillAmbiguousType\n",
    "         a::AbstractFloat\n",
    "end"
   ]
  },
  {
   "cell_type": "markdown",
   "metadata": {},
   "source": [
    "Ponieważ w pierwszym przypadku kompilator ustawi typ na podstawie typu podanego w trakcie wykonania np:"
   ]
  },
  {
   "cell_type": "code",
   "execution_count": 22,
   "metadata": {
    "collapsed": false
   },
   "outputs": [
    {
     "data": {
      "text/plain": [
       "MyType{Float64}(3.2)"
      ]
     },
     "execution_count": 22,
     "metadata": {},
     "output_type": "execute_result"
    }
   ],
   "source": [
    " m = MyType(3.2)"
   ]
  },
  {
   "cell_type": "code",
   "execution_count": 23,
   "metadata": {
    "collapsed": false
   },
   "outputs": [
    {
     "data": {
      "text/plain": [
       "MyStillAmbiguousType(3.2)"
      ]
     },
     "execution_count": 23,
     "metadata": {},
     "output_type": "execute_result"
    }
   ],
   "source": [
    "t = MyStillAmbiguousType(3.2)"
   ]
  },
  {
   "cell_type": "code",
   "execution_count": 24,
   "metadata": {
    "collapsed": false
   },
   "outputs": [
    {
     "data": {
      "text/plain": [
       "MyType{Float64}"
      ]
     },
     "execution_count": 24,
     "metadata": {},
     "output_type": "execute_result"
    }
   ],
   "source": [
    "typeof(m)"
   ]
  },
  {
   "cell_type": "code",
   "execution_count": 25,
   "metadata": {
    "collapsed": false
   },
   "outputs": [
    {
     "data": {
      "text/plain": [
       "MyStillAmbiguousType"
      ]
     },
     "execution_count": 25,
     "metadata": {},
     "output_type": "execute_result"
    }
   ],
   "source": [
    "typeof(t)"
   ]
  },
  {
   "cell_type": "markdown",
   "metadata": {},
   "source": [
    "W typie t można zmieniać typ pola, natomiast w typie m jest on \n",
    "juz ustawiony na stałe (dzięki czemu kompilator może wygenerować bardziej optymalny kod):"
   ]
  },
  {
   "cell_type": "code",
   "execution_count": 26,
   "metadata": {
    "collapsed": false
   },
   "outputs": [
    {
     "data": {
      "text/plain": [
       "Float64"
      ]
     },
     "execution_count": 26,
     "metadata": {},
     "output_type": "execute_result"
    }
   ],
   "source": [
    "typeof(t.a)"
   ]
  },
  {
   "cell_type": "code",
   "execution_count": 27,
   "metadata": {
    "collapsed": false
   },
   "outputs": [
    {
     "data": {
      "text/plain": [
       "Float32"
      ]
     },
     "execution_count": 27,
     "metadata": {},
     "output_type": "execute_result"
    }
   ],
   "source": [
    "t.a=4.5f0\n",
    "typeof(t.a)"
   ]
  },
  {
   "cell_type": "code",
   "execution_count": 28,
   "metadata": {
    "collapsed": false
   },
   "outputs": [
    {
     "data": {
      "text/plain": [
       "Float64"
      ]
     },
     "execution_count": 28,
     "metadata": {},
     "output_type": "execute_result"
    }
   ],
   "source": [
    "typeof(m.a)"
   ]
  },
  {
   "cell_type": "code",
   "execution_count": 29,
   "metadata": {
    "collapsed": false
   },
   "outputs": [
    {
     "data": {
      "text/plain": [
       "Float64"
      ]
     },
     "execution_count": 29,
     "metadata": {},
     "output_type": "execute_result"
    }
   ],
   "source": [
    "m.a=4.5f0\n",
    "typeof(m.a)"
   ]
  },
  {
   "cell_type": "markdown",
   "metadata": {},
   "source": [
    "Możemy to ominąć poprzez wymuszenie typu AbstractFloat explicite (wtedy działa tak samo jak typ MyStillAmbiguousType)"
   ]
  },
  {
   "cell_type": "code",
   "execution_count": 30,
   "metadata": {
    "collapsed": false
   },
   "outputs": [
    {
     "data": {
      "text/plain": [
       "Float64"
      ]
     },
     "execution_count": 30,
     "metadata": {},
     "output_type": "execute_result"
    }
   ],
   "source": [
    "m = MyType{AbstractFloat}(3.2)\n",
    "typeof(m.a)"
   ]
  },
  {
   "cell_type": "code",
   "execution_count": 31,
   "metadata": {
    "collapsed": false
   },
   "outputs": [
    {
     "data": {
      "text/plain": [
       "Float32"
      ]
     },
     "execution_count": 31,
     "metadata": {},
     "output_type": "execute_result"
    }
   ],
   "source": [
    "m.a=4.5f0\n",
    "typeof(m.a)"
   ]
  },
  {
   "cell_type": "markdown",
   "metadata": {},
   "source": [
    "\n",
    "Dlaczego to ma znaczenie można zobaczyć porównujac ilość kodu:"
   ]
  },
  {
   "cell_type": "code",
   "execution_count": 32,
   "metadata": {
    "collapsed": false
   },
   "outputs": [
    {
     "data": {
      "text/plain": [
       "func (generic function with 1 method)"
      ]
     },
     "execution_count": 32,
     "metadata": {},
     "output_type": "execute_result"
    }
   ],
   "source": [
    "func(m::MyType) = m.a+1\n"
   ]
  },
  {
   "cell_type": "code",
   "execution_count": 33,
   "metadata": {
    "collapsed": false
   },
   "outputs": [
    {
     "name": "stdout",
     "output_type": "stream",
     "text": [
      "\n",
      "define double @julia_func_72618(%jl_value_t*) #0 {\n",
      "top:\n",
      "  %1 = bitcast %jl_value_t* %0 to double*\n",
      "  %2 = load double, double* %1, align 16\n",
      "  %3 = fadd double %2, 1.000000e+00\n",
      "  ret double %3\n",
      "}\n"
     ]
    }
   ],
   "source": [
    "code_llvm(func,(MyType{Float64},))"
   ]
  },
  {
   "cell_type": "code",
   "execution_count": 34,
   "metadata": {
    "collapsed": false
   },
   "outputs": [
    {
     "name": "stdout",
     "output_type": "stream",
     "text": [
      "\n",
      "define %jl_value_t* @julia_func_72621(%jl_value_t*) #0 {\n",
      "top:\n",
      "  %ptls_i8 = call i8* asm \"movq %fs:0, $0;\\0Aaddq $$-2672, $0\", \"=r,~{dirflag},~{fpsr},~{flags}\"() #2\n",
      "  %ptls = bitcast i8* %ptls_i8 to %jl_value_t***\n",
      "  %1 = alloca [5 x %jl_value_t*], align 8\n",
      "  %.sub = getelementptr inbounds [5 x %jl_value_t*], [5 x %jl_value_t*]* %1, i64 0, i64 0\n",
      "  %2 = getelementptr [5 x %jl_value_t*], [5 x %jl_value_t*]* %1, i64 0, i64 2\n",
      "  %3 = bitcast %jl_value_t** %2 to i8*\n",
      "  call void @llvm.memset.p0i8.i32(i8* %3, i8 0, i32 24, i32 8, i1 false)\n",
      "  %4 = bitcast [5 x %jl_value_t*]* %1 to i64*\n",
      "  store i64 6, i64* %4, align 8\n",
      "  %5 = getelementptr [5 x %jl_value_t*], [5 x %jl_value_t*]* %1, i64 0, i64 1\n",
      "  %6 = bitcast i8* %ptls_i8 to i64*\n",
      "  %7 = load i64, i64* %6, align 8\n",
      "  %8 = bitcast %jl_value_t** %5 to i64*\n",
      "  store i64 %7, i64* %8, align 8\n",
      "  store %jl_value_t** %.sub, %jl_value_t*** %ptls, align 8\n",
      "  %9 = getelementptr [5 x %jl_value_t*], [5 x %jl_value_t*]* %1, i64 0, i64 4\n",
      "  %10 = getelementptr [5 x %jl_value_t*], [5 x %jl_value_t*]* %1, i64 0, i64 3\n",
      "  %11 = bitcast %jl_value_t* %0 to i64*\n",
      "  %12 = load i64, i64* %11, align 8\n",
      "  %13 = bitcast %jl_value_t** %10 to i64*\n",
      "  store i64 %12, i64* %13, align 8\n",
      "  store %jl_value_t* inttoptr (i64 139701494552792 to %jl_value_t*), %jl_value_t** %2, align 8\n",
      "  store %jl_value_t* inttoptr (i64 139701488828576 to %jl_value_t*), %jl_value_t** %9, align 8\n",
      "  %14 = call %jl_value_t* @jl_apply_generic(%jl_value_t** %2, i32 3)\n",
      "  %15 = load i64, i64* %8, align 8\n",
      "  store i64 %15, i64* %6, align 8\n",
      "  ret %jl_value_t* %14\n",
      "}\n"
     ]
    }
   ],
   "source": [
    "code_llvm(func,(MyType{AbstractFloat},))"
   ]
  },
  {
   "cell_type": "code",
   "execution_count": 35,
   "metadata": {
    "collapsed": false
   },
   "outputs": [
    {
     "name": "stdout",
     "output_type": "stream",
     "text": [
      "# WARNING: This code may not match what actually runs.\n",
      "\n",
      "define %jl_value_t* @julia_func_72624(%jl_value_t*) #0 {\n",
      "top:\n",
      "  %ptls_i8 = call i8* asm \"movq %fs:0, $0;\\0Aaddq $$-2672, $0\", \"=r,~{dirflag},~{fpsr},~{flags}\"() #2\n",
      "  %ptls = bitcast i8* %ptls_i8 to %jl_value_t***\n",
      "  %1 = alloca [7 x %jl_value_t*], align 8\n",
      "  %.sub = getelementptr inbounds [7 x %jl_value_t*], [7 x %jl_value_t*]* %1, i64 0, i64 0\n",
      "  %2 = getelementptr [7 x %jl_value_t*], [7 x %jl_value_t*]* %1, i64 0, i64 2\n",
      "  %3 = bitcast %jl_value_t** %2 to i8*\n",
      "  call void @llvm.memset.p0i8.i32(i8* %3, i8 0, i32 40, i32 8, i1 false)\n",
      "  %4 = bitcast [7 x %jl_value_t*]* %1 to i64*\n",
      "  store i64 10, i64* %4, align 8\n",
      "  %5 = getelementptr [7 x %jl_value_t*], [7 x %jl_value_t*]* %1, i64 0, i64 1\n",
      "  %6 = bitcast i8* %ptls_i8 to i64*\n",
      "  %7 = load i64, i64* %6, align 8\n",
      "  %8 = bitcast %jl_value_t** %5 to i64*\n",
      "  store i64 %7, i64* %8, align 8\n",
      "  store %jl_value_t** %.sub, %jl_value_t*** %ptls, align 8\n",
      "  %9 = getelementptr [7 x %jl_value_t*], [7 x %jl_value_t*]* %1, i64 0, i64 5\n",
      "  %10 = getelementptr [7 x %jl_value_t*], [7 x %jl_value_t*]* %1, i64 0, i64 4\n",
      "  %11 = getelementptr [7 x %jl_value_t*], [7 x %jl_value_t*]* %1, i64 0, i64 3\n",
      "  %12 = getelementptr [7 x %jl_value_t*], [7 x %jl_value_t*]* %1, i64 0, i64 6\n",
      "  store %jl_value_t* %0, %jl_value_t** %9, align 8\n",
      "  store %jl_value_t* inttoptr (i64 139701486652536 to %jl_value_t*), %jl_value_t** %12, align 8\n",
      "  %13 = call %jl_value_t* @jl_f_getfield(%jl_value_t* null, %jl_value_t** %9, i32 2)\n",
      "  store %jl_value_t* %13, %jl_value_t** %11, align 8\n",
      "  store %jl_value_t* inttoptr (i64 139701494552792 to %jl_value_t*), %jl_value_t** %2, align 8\n",
      "  store %jl_value_t* inttoptr (i64 139701488828576 to %jl_value_t*), %jl_value_t** %10, align 8\n",
      "  %14 = call %jl_value_t* @jl_apply_generic(%jl_value_t** %2, i32 3)\n",
      "  %15 = load i64, i64* %8, align 8\n",
      "  store i64 %15, i64* %6, align 8\n",
      "  ret %jl_value_t* %14\n",
      "}\n"
     ]
    }
   ],
   "source": [
    "code_llvm(func,(MyType,))"
   ]
  },
  {
   "cell_type": "markdown",
   "metadata": {},
   "source": [
    "### kontenery - optymalizacja"
   ]
  },
  {
   "cell_type": "code",
   "execution_count": 36,
   "metadata": {
    "collapsed": false
   },
   "outputs": [
    {
     "data": {
      "text/plain": [
       "1-element Array{Real,1}:\n",
       " 0.12136"
      ]
     },
     "execution_count": 36,
     "metadata": {},
     "output_type": "execute_result"
    }
   ],
   "source": [
    "# Nieoptymalnie- nieciagły obszar w pamieci\n",
    "\n",
    "a = Real[]    # typeof(a) = Array{Real,1}\n",
    "if (f3 = rand()) < .8\n",
    "    push!(a, f3)\n",
    "end\n",
    "a"
   ]
  },
  {
   "cell_type": "code",
   "execution_count": 37,
   "metadata": {
    "collapsed": false
   },
   "outputs": [
    {
     "data": {
      "text/plain": [
       "1-element Array{Float64,1}:\n",
       " 0.340361"
      ]
     },
     "execution_count": 37,
     "metadata": {},
     "output_type": "execute_result"
    }
   ],
   "source": [
    "# Optymalnie- ciągły obszar w pamieci\n",
    "\n",
    "a = Float64[] # typeof(a) = Array{Float64,1}\n",
    "if (x2 = rand()) < .8\n",
    "    push!(a, x2)\n",
    "end\n",
    "a"
   ]
  },
  {
   "cell_type": "code",
   "execution_count": 38,
   "metadata": {
    "collapsed": false
   },
   "outputs": [],
   "source": [
    "#kontener na rozne typy kolekcji, pierwszy sposob jest bardziej optymalny\n",
    "type MySimpleContainer{A<:AbstractVector}\n",
    "         a::A\n",
    "end"
   ]
  },
  {
   "cell_type": "code",
   "execution_count": 39,
   "metadata": {
    "collapsed": true
   },
   "outputs": [],
   "source": [
    "#tutaj kompilator nie wie nic o typie kolekcji\n",
    "type MyAmbiguousContainer{T}\n",
    "         a::AbstractVector{T}\n",
    "end"
   ]
  },
  {
   "cell_type": "code",
   "execution_count": 40,
   "metadata": {
    "collapsed": false
   },
   "outputs": [
    {
     "data": {
      "text/plain": [
       "MySimpleContainer{UnitRange{Int64}}"
      ]
     },
     "execution_count": 40,
     "metadata": {},
     "output_type": "execute_result"
    }
   ],
   "source": [
    "c = MySimpleContainer(1:3);\n",
    "typeof(c)"
   ]
  },
  {
   "cell_type": "code",
   "execution_count": 41,
   "metadata": {
    "collapsed": false
   },
   "outputs": [
    {
     "data": {
      "text/plain": [
       "MySimpleContainer{Array{Int64,1}}"
      ]
     },
     "execution_count": 41,
     "metadata": {},
     "output_type": "execute_result"
    }
   ],
   "source": [
    "c = MySimpleContainer([1:3;]);\n",
    "typeof(c)"
   ]
  },
  {
   "cell_type": "code",
   "execution_count": 42,
   "metadata": {
    "collapsed": false
   },
   "outputs": [
    {
     "data": {
      "text/plain": [
       "MyAmbiguousContainer{Int64}"
      ]
     },
     "execution_count": 42,
     "metadata": {},
     "output_type": "execute_result"
    }
   ],
   "source": [
    "b = MyAmbiguousContainer(1:3);\n",
    "typeof(b)"
   ]
  },
  {
   "cell_type": "code",
   "execution_count": 43,
   "metadata": {
    "collapsed": false
   },
   "outputs": [
    {
     "data": {
      "text/plain": [
       "MyAmbiguousContainer{Int64}"
      ]
     },
     "execution_count": 43,
     "metadata": {},
     "output_type": "execute_result"
    }
   ],
   "source": [
    "b = MyAmbiguousContainer([1:3;]);\n",
    "typeof(b)"
   ]
  },
  {
   "cell_type": "code",
   "execution_count": 44,
   "metadata": {
    "collapsed": false
   },
   "outputs": [
    {
     "data": {
      "text/plain": [
       "foo (generic function with 2 methods)"
      ]
     },
     "execution_count": 44,
     "metadata": {},
     "output_type": "execute_result"
    }
   ],
   "source": [
    "#jeśli zawartość kontenera ma zmienne różnych typów, na których chcemy działac w różny sposób, \n",
    "# powinnismy wydzielić i napisać osobne funkcje dla tych typow\n",
    "function sumfoo(c::MySimpleContainer)\n",
    "    s = 0\n",
    "for x in c.a\n",
    "    s += foo(x)\n",
    "end\n",
    "s\n",
    "end\n",
    "\n",
    "foo(x::Integer) = x\n",
    "foo(x::AbstractFloat) = round(x)"
   ]
  },
  {
   "cell_type": "code",
   "execution_count": 45,
   "metadata": {
    "collapsed": false
   },
   "outputs": [
    {
     "data": {
      "text/plain": [
       "6"
      ]
     },
     "execution_count": 45,
     "metadata": {},
     "output_type": "execute_result"
    }
   ],
   "source": [
    "sumfoo(c)"
   ]
  },
  {
   "cell_type": "markdown",
   "metadata": {},
   "source": [
    "A co jeśli chcemy mieć w ogóle różne funkcje dla różnych typow? \n",
    "Wtedy musielibyśmy pisać odrębne funcje dla typów\n",
    "```julia\n",
    "function myfun{T<:AbstractFloat}(c::MySimpleContainer{Vector{T}})\n",
    "    ...\n",
    "end\n",
    "\n",
    "function myfun{T<:Integer}(c::MySimpleContainer{Vector{T}})\n",
    "    ...\n",
    "end\n",
    "```"
   ]
  },
  {
   "cell_type": "code",
   "execution_count": 46,
   "metadata": {
    "collapsed": false
   },
   "outputs": [
    {
     "data": {
      "text/plain": [
       "MyContainer2{Float64,FloatRange{Float64}}"
      ]
     },
     "execution_count": 46,
     "metadata": {},
     "output_type": "execute_result"
    }
   ],
   "source": [
    "#A jeśli mamy różne typy ORAZ kolekcje? \n",
    "#Można stworzyć kontener dla różnych typow kolekcji i różnych typów zawartości tych kolekcji\n",
    "type MyContainer2{T, A<:AbstractVector}\n",
    "    a::A\n",
    "end\n",
    "# zewnętrzny konstruktor\n",
    "MyContainer2(v::AbstractVector) = MyContainer2{eltype(v), typeof(v)}(v)\n",
    "b = MyContainer2(1.3:5);\n",
    "typeof(b)"
   ]
  },
  {
   "cell_type": "code",
   "execution_count": 47,
   "metadata": {
    "collapsed": false
   },
   "outputs": [
    {
     "data": {
      "text/plain": [
       "myfunc2 (generic function with 3 methods)"
      ]
     },
     "execution_count": 47,
     "metadata": {},
     "output_type": "execute_result"
    }
   ],
   "source": [
    "#teraz możemy tworzyć różne funkcje w zależności od typów kolekcji i ich zawartości\n",
    "\n",
    "function myfunc2{T<:Integer, A<:AbstractVector}(c::MyContainer2{T,A})\n",
    "    return c.a[1]+1\n",
    "end\n",
    "\n",
    "#     To powyżej można napisać bardziej zwięźle:\n",
    "#     function myfunc{T<:Integer}(c::MyContainer2{T})\n",
    "\n",
    "function myfunc2{T<:AbstractFloat}(c::MyContainer2{T})\n",
    "    return c.a[1]+2\n",
    "end\n",
    "\n",
    "function myfunc2{T<:Integer}(c::MyContainer2{T,Vector{T}})\n",
    "    return c.a[1]+3\n",
    "end"
   ]
  },
  {
   "cell_type": "code",
   "execution_count": 48,
   "metadata": {
    "collapsed": false
   },
   "outputs": [
    {
     "data": {
      "text/plain": [
       "2"
      ]
     },
     "execution_count": 48,
     "metadata": {},
     "output_type": "execute_result"
    }
   ],
   "source": [
    "myfunc2(MyContainer2(1:3))"
   ]
  },
  {
   "cell_type": "code",
   "execution_count": 49,
   "metadata": {
    "collapsed": false
   },
   "outputs": [
    {
     "data": {
      "text/plain": [
       "3.0"
      ]
     },
     "execution_count": 49,
     "metadata": {},
     "output_type": "execute_result"
    }
   ],
   "source": [
    "myfunc2(MyContainer2(1.0:3))"
   ]
  },
  {
   "cell_type": "code",
   "execution_count": 50,
   "metadata": {
    "collapsed": false
   },
   "outputs": [
    {
     "data": {
      "text/plain": [
       "4"
      ]
     },
     "execution_count": 50,
     "metadata": {},
     "output_type": "execute_result"
    }
   ],
   "source": [
    " myfunc2(MyContainer2([1,2,3]))"
   ]
  },
  {
   "cell_type": "code",
   "execution_count": 51,
   "metadata": {
    "collapsed": false
   },
   "outputs": [
    {
     "data": {
      "text/plain": [
       "MyContainer2{Int64,FloatRange{Float64}}"
      ]
     },
     "execution_count": 51,
     "metadata": {},
     "output_type": "execute_result"
    }
   ],
   "source": [
    "# istnieje wada w tym  rozwiazaniu: nie mamy zapewnione ze\n",
    "# typ T zgadza sie z typem elementow przechowywanych w kolekcji typu A\n",
    "#taki kontener daje sie utworzyc, choc nie ma sensu:\n",
    "b = MyContainer2{Int64, FloatRange{Float64}}(1.3:5);\n",
    "typeof(b)"
   ]
  },
  {
   "cell_type": "code",
   "execution_count": 52,
   "metadata": {
    "collapsed": false
   },
   "outputs": [
    {
     "data": {
      "text/plain": [
       "MyBetterContainer{T<:Real,A<:AbstractArray{T,1}}"
      ]
     },
     "execution_count": 52,
     "metadata": {},
     "output_type": "execute_result"
    }
   ],
   "source": [
    "#dodanie konstruktora wewnetrznego zalatwia ten problem:\n",
    "type MyBetterContainer{T<:Real, A<:AbstractVector}\n",
    "    a::A\n",
    "\n",
    "    MyBetterContainer(v::AbstractVector{T}) = new(v)\n",
    "end\n",
    "MyBetterContainer(v::AbstractVector) = MyBetterContainer{eltype(v),typeof(v)}(v)"
   ]
  },
  {
   "cell_type": "code",
   "execution_count": 53,
   "metadata": {
    "collapsed": false
   },
   "outputs": [
    {
     "data": {
      "text/plain": [
       "MyBetterContainer{Float64,FloatRange{Float64}}"
      ]
     },
     "execution_count": 53,
     "metadata": {},
     "output_type": "execute_result"
    }
   ],
   "source": [
    "b = MyBetterContainer(1.3:5);\n",
    "typeof(b)"
   ]
  },
  {
   "cell_type": "code",
   "execution_count": 54,
   "metadata": {
    "collapsed": false
   },
   "outputs": [
    {
     "ename": "LoadError",
     "evalue": "MethodError: Cannot `convert` an object of type FloatRange{Float64} to an object of type MyBetterContainer{Int64,FloatRange{Float64}}\nThis may have arisen from a call to the constructor MyBetterContainer{Int64,FloatRange{Float64}}(...),\nsince type constructors fall back to convert methods.",
     "output_type": "error",
     "traceback": [
      "MethodError: Cannot `convert` an object of type FloatRange{Float64} to an object of type MyBetterContainer{Int64,FloatRange{Float64}}\nThis may have arisen from a call to the constructor MyBetterContainer{Int64,FloatRange{Float64}}(...),\nsince type constructors fall back to convert methods.",
      "",
      " in MyBetterContainer{Int64,FloatRange{Float64}}(::FloatRange{Float64}) at ./sysimg.jl:53"
     ]
    }
   ],
   "source": [
    "# teraz nie zadziała:\n",
    "b = MyBetterContainer{Int64, FloatRange{Float64}}(1.3:5)"
   ]
  },
  {
   "cell_type": "markdown",
   "metadata": {},
   "source": [
    "- Należy anotować typami wartości przypisywane do nieznanych typów\n",
    "\n",
    "```julia\n",
    "function foo(a::Array{Any,1})\n",
    "    x = a[1]::Int32\n",
    "    b = x+1\n",
    "    ...\n",
    "end\n",
    "```"
   ]
  },
  {
   "cell_type": "markdown",
   "metadata": {},
   "source": [
    "- Argumenty słów-kluczowy powinny mieć typ, poniewaz zmiejszaja narzut jej wywolania:\n",
    "```julia\n",
    "function with_keyword(x; name::Int = 1)\n",
    "    ...\n",
    "end\n",
    "```"
   ]
  },
  {
   "cell_type": "markdown",
   "metadata": {},
   "source": [
    "- Należy zachować stabilność typów \n",
    "- np. tutaj jest źle, bo x z typu Int staje się Float w srodku pętli:\n",
    "\n",
    "```julia\n",
    "function foo()\n",
    "    x = 1\n",
    "    for i = 1:10\n",
    "        x = x/bar()\n",
    "    end\n",
    "    return x\n",
    "end\n",
    "```"
   ]
  },
  {
   "cell_type": "markdown",
   "metadata": {},
   "source": [
    "Jak to naprawić (możliwości):\n",
    "    - zaincjalizować x = 1.0\n",
    "    - zadeklarować typ x: x::Float64 = 1\n",
    "    - konwersja\n"
   ]
  },
  {
   "cell_type": "markdown",
   "metadata": {},
   "source": [
    "### Funkcje\n",
    "\n",
    "- Funkcje należy dzielić na mniejsze\n",
    "    - kompilator moze wybrać wlaściwy kod bardziej optymalnie\n",
    "    - albo nawet zrobic funkcje inline (wklejaną w miejsce pamieci, gdzie zostala wywolana)\n",
    "\n",
    "Nieoptymalnie\n",
    "```julia\n",
    "function norm(A)\n",
    "    if isa(A, Vector)\n",
    "        return sqrt(real(dot(A,A)))\n",
    "    elseif isa(A, Matrix)\n",
    "        return max(svd(A)[2])\n",
    "    else\n",
    "        error(\"norm: invalid argument\")\n",
    "    end\n",
    "end\n",
    "```\n",
    "Optymalnie:\n",
    "```Julia\n",
    "norm(x::Vector) = sqrt(real(dot(x,x)))\n",
    "norm(A::Matrix) = max(svd(A)[2])\n",
    "```"
   ]
  },
  {
   "cell_type": "markdown",
   "metadata": {},
   "source": [
    "- Należy wydzielac funkcje, dla których bedzie wiadomo, na jakim typie operują \n",
    "\n",
    "Nieoptymalnie, ponieważ pętla for nie może być zopytmalizowana pod zawartość tablicy:\n",
    "\n",
    "```julia\n",
    "function strange_twos(n)\n",
    "    a = Array(rand(Bool) ? Int64 : Float64, n)\n",
    "    for i = 1:n\n",
    "        a[i] = 2\n",
    "    end\n",
    "    return a\n",
    "end\n",
    "```\n",
    "\n",
    "Optymalnie, ponieważ kompilator może wybrać optymalną metodę funkcji fill_twos! w zalezności od typów:\n",
    "przechowywanych w tablicy.\n",
    "\n",
    "```julia\n",
    "function fill_twos!(a)\n",
    "    for i=1:length(a)\n",
    "        a[i] = 2\n",
    "    end\n",
    "end\n",
    "\n",
    "function strange_twos(n)\n",
    "    a = Array(rand(Bool) ? Int64 : Float64, n)\n",
    "    fill_twos!(a)\n",
    "    return a\n",
    "end\n",
    "```"
   ]
  },
  {
   "cell_type": "code",
   "execution_count": 55,
   "metadata": {
    "collapsed": false
   },
   "outputs": [
    {
     "data": {
      "text/plain": [
       "4-element Array{Int64,1}:\n",
       " 1\n",
       " 3\n",
       " 2\n",
       " 4"
      ]
     },
     "execution_count": 55,
     "metadata": {},
     "output_type": "execute_result"
    }
   ],
   "source": [
    "# Należy pamiętać o \"column-major\" dostępie do tablic - \n",
    "# pierwszy indeks zmienia się szybciej\n",
    "# tak jak Matlab, R, Fortran \n",
    "# inaczej niz C, Python\n",
    "A = [[1 2]; [3 4]]\n",
    "vec(A)"
   ]
  },
  {
   "cell_type": "code",
   "execution_count": 56,
   "metadata": {
    "collapsed": false
   },
   "outputs": [
    {
     "data": {
      "text/plain": [
       "10×10 Array{Int64,2}:\n",
       "  1   1   1   1   1   1   1   1   1   1\n",
       "  2   2   2   2   2   2   2   2   2   2\n",
       "  3   3   3   3   3   3   3   3   3   3\n",
       "  4   4   4   4   4   4   4   4   4   4\n",
       "  5   5   5   5   5   5   5   5   5   5\n",
       "  6   6   6   6   6   6   6   6   6   6\n",
       "  7   7   7   7   7   7   7   7   7   7\n",
       "  8   8   8   8   8   8   8   8   8   8\n",
       "  9   9   9   9   9   9   9   9   9   9\n",
       " 10  10  10  10  10  10  10  10  10  10"
      ]
     },
     "execution_count": 56,
     "metadata": {},
     "output_type": "execute_result"
    }
   ],
   "source": [
    "\n",
    "function copy_cols{T}(x::Vector{T})\n",
    "    n = size(x, 1)\n",
    "    out = Array(eltype(x), n, n)\n",
    "    for i=1:n\n",
    "        out[:, i] = x\n",
    "    end\n",
    "    out\n",
    "end\n",
    "x = [1,2,3,4,5,6,7,8,9,10]\n",
    "copy_cols(x)\n"
   ]
  },
  {
   "cell_type": "code",
   "execution_count": 57,
   "metadata": {
    "collapsed": false
   },
   "outputs": [
    {
     "data": {
      "text/plain": [
       "10×10 Array{Int64,2}:\n",
       " 1  2  3  4  5  6  7  8  9  10\n",
       " 1  2  3  4  5  6  7  8  9  10\n",
       " 1  2  3  4  5  6  7  8  9  10\n",
       " 1  2  3  4  5  6  7  8  9  10\n",
       " 1  2  3  4  5  6  7  8  9  10\n",
       " 1  2  3  4  5  6  7  8  9  10\n",
       " 1  2  3  4  5  6  7  8  9  10\n",
       " 1  2  3  4  5  6  7  8  9  10\n",
       " 1  2  3  4  5  6  7  8  9  10\n",
       " 1  2  3  4  5  6  7  8  9  10"
      ]
     },
     "execution_count": 57,
     "metadata": {},
     "output_type": "execute_result"
    }
   ],
   "source": [
    "function copy_rows{T}(x::Vector{T})\n",
    "    n = size(x, 1)\n",
    "    out = Array(eltype(x), n, n)\n",
    "    for i=1:n\n",
    "        out[i, :] = x\n",
    "    end\n",
    "    out\n",
    "end\n",
    "x = [1,2,3,4,5,6,7,8,9,10]\n",
    "copy_rows(x)"
   ]
  },
  {
   "cell_type": "code",
   "execution_count": 58,
   "metadata": {
    "collapsed": false
   },
   "outputs": [
    {
     "data": {
      "text/plain": [
       "10×10 Array{Int64,2}:\n",
       "  1   1   1   1   1   1   1   1   1   1\n",
       "  2   2   2   2   2   2   2   2   2   2\n",
       "  3   3   3   3   3   3   3   3   3   3\n",
       "  4   4   4   4   4   4   4   4   4   4\n",
       "  5   5   5   5   5   5   5   5   5   5\n",
       "  6   6   6   6   6   6   6   6   6   6\n",
       "  7   7   7   7   7   7   7   7   7   7\n",
       "  8   8   8   8   8   8   8   8   8   8\n",
       "  9   9   9   9   9   9   9   9   9   9\n",
       " 10  10  10  10  10  10  10  10  10  10"
      ]
     },
     "execution_count": 58,
     "metadata": {},
     "output_type": "execute_result"
    }
   ],
   "source": [
    "function copy_col_row{T}(x::Vector{T})\n",
    "    n = size(x, 1)\n",
    "    out = Array(T, n, n)\n",
    "    for col=1:n, row=1:n\n",
    "        out[row, col] = x[row]\n",
    "    end\n",
    "    out\n",
    "end\n",
    "x = [1,2,3,4,5,6,7,8,9,10]\n",
    "copy_col_row(x)"
   ]
  },
  {
   "cell_type": "code",
   "execution_count": 59,
   "metadata": {
    "collapsed": false
   },
   "outputs": [
    {
     "data": {
      "text/plain": [
       "10×10 Array{Int64,2}:\n",
       " 1  2  3  4  5  6  7  8  9  10\n",
       " 1  2  3  4  5  6  7  8  9  10\n",
       " 1  2  3  4  5  6  7  8  9  10\n",
       " 1  2  3  4  5  6  7  8  9  10\n",
       " 1  2  3  4  5  6  7  8  9  10\n",
       " 1  2  3  4  5  6  7  8  9  10\n",
       " 1  2  3  4  5  6  7  8  9  10\n",
       " 1  2  3  4  5  6  7  8  9  10\n",
       " 1  2  3  4  5  6  7  8  9  10\n",
       " 1  2  3  4  5  6  7  8  9  10"
      ]
     },
     "execution_count": 59,
     "metadata": {},
     "output_type": "execute_result"
    }
   ],
   "source": [
    "function copy_row_col{T}(x::Vector{T})\n",
    "    n = size(x, 1)\n",
    "    out = Array(T, n, n)\n",
    "    for row=1:n, col=1:n\n",
    "        out[row, col] = x[col]\n",
    "    end\n",
    "    out\n",
    "end\n",
    "x = [1,2,3,4,5,6,7,8,9,10]\n",
    "copy_row_col(x)"
   ]
  },
  {
   "cell_type": "code",
   "execution_count": 60,
   "metadata": {
    "collapsed": false
   },
   "outputs": [
    {
     "name": "stdout",
     "output_type": "stream",
     "text": [
      "copy_cols:    7.324507696\n",
      "copy_rows:    20.678803633\n",
      "copy_col_row: 2.513876674\n",
      "copy_row_col: 2.569496687\n"
     ]
    }
   ],
   "source": [
    "x = randn(10000);\n",
    "\n",
    "fmt(f) = println(rpad(string(f)*\": \", 14, ' '), @elapsed f(x))\n",
    "\n",
    "map(fmt, Any[copy_cols, copy_rows, copy_col_row, copy_row_col]);"
   ]
  },
  {
   "cell_type": "markdown",
   "metadata": {},
   "source": [
    "### Makra optymalizujące\n",
    "+ `@inbounds` mówi kompilatorowi, że nie ma sprawdzać czy czytamy poza tablicą.\n",
    "+ `@fastmath` dokonuje takiej zamiamy kolejności operacji na zmiennych zmiennoprzecinkowych, które są dozwolone dla liczb rzeczywistych (w matematyce), w arytmetyce zmiennoprzecinkowej mogą zmieniać wyniki !\n",
    "+ `@simd` wektoryzuje pętlę `for` t.j. uzywa mozliwości procesora, aby pojedyncza operacja może być wykonana na wielu danych jednocześnie. \n"
   ]
  },
  {
   "cell_type": "code",
   "execution_count": 61,
   "metadata": {
    "collapsed": false
   },
   "outputs": [
    {
     "name": "stdout",
     "output_type": "stream",
     "text": [
      "GFlop        = 1"
     ]
    }
   ],
   "source": [
    "function inner( x, y )\n",
    "    s = zero(eltype(x))\n",
    "    for i=1:length(x)\n",
    "        @inbounds s += x[i]*y[i]\n",
    "    end\n",
    "    s\n",
    "end\n",
    "\n",
    "function innersimd( x, y )\n",
    "    s = zero(eltype(x))\n",
    "    @simd for i=1:length(x)\n",
    "        @inbounds s += x[i]*y[i]\n",
    "    end\n",
    "    s\n",
    "end\n",
    "\n",
    "function timeit( n, reps )\n",
    "    x = rand(Float32,n)\n",
    "    y = rand(Float32,n)\n",
    "    s = zero(Float64)\n",
    "    time = @elapsed for j in 1:reps\n",
    "        s+=inner(x,y)\n",
    "    end\n",
    "    println(\"GFlop        = \",2.0*n*reps/time*1E-9)\n",
    "    time = @elapsed for j in 1:reps\n",
    "        s+=innersimd(x,y)\n",
    "    end\n",
    "    println(\"GFlop (SIMD) = \",2.0*n*reps/time*1E-9)\n",
    "end\n",
    "\n",
    "timeit(1000,1000)"
   ]
  },
  {
   "cell_type": "markdown",
   "metadata": {},
   "source": [
    "### Makra pozwalające podglądać kod na różnych etapach przetwarzania.\n",
    " \n",
    " Etapy przetwarzania kodu:\n",
    " \n",
    " 1. źrodla\n",
    " 2. parsowanie\n",
    " 3. rozwijanie makr\n",
    " 4. lowering (@code_lowered) - pośrednia reprezentacja kodu  w formie Abstract Syntax Three\n",
    " 5. type inference - określanie typów\n",
    " 6. inlining - funkcje inline\n",
    " 7. generated function expansion (@code_typed)\n",
    " 8. generacja kodu (@code_llvm)\n",
    " 9. native compilation - do assemblera (@code_native)\n",
    " 10 RUN"
   ]
  },
  {
   "cell_type": "code",
   "execution_count": 62,
   "metadata": {
    "collapsed": false
   },
   "outputs": [
    {
     "data": {
      "text/plain": [
       "f4 (generic function with 1 method)"
      ]
     },
     "execution_count": 62,
     "metadata": {},
     "output_type": "execute_result"
    }
   ],
   "source": [
    "pos5(x) = x < 0 ? 0 : x\n",
    "\n",
    "function f4(x)\n",
    "    y = pos5(x)\n",
    "    sin(y*x+1)\n",
    "end"
   ]
  },
  {
   "cell_type": "code",
   "execution_count": 63,
   "metadata": {
    "collapsed": false
   },
   "outputs": [
    {
     "name": "stdout",
     "output_type": "stream",
     "text": [
      "Variables:\n",
      "  #self#::#f4\n",
      "  x::Float64\n",
      "  y\u001b[1m\u001b[31m::Union{Float64,Int64}\u001b[0m\n",
      "  fy::Float64\n",
      "  #temp#@_5\u001b[1m\u001b[31m::Union{Float64,Int64}\u001b[0m\n",
      "  #temp#@_6::LambdaInfo\n",
      "  #temp#@_7::Float64\n",
      "\n",
      "Body:\n",
      "  begin \n",
      "      # meta: location In[62] pos5 1\n",
      "      # meta: location float.jl < 332\n",
      "      fy::Float64 = (Base.box)(Float64,(Base.sitofp)(Float64,0))\n",
      "      # meta: pop location\n",
      "      unless (Base.box)(Base.Bool,(Base.or_int)((Base.lt_float)(x::Float64,fy::Float64)::Bool,(Base.box)(Base.Bool,(Base.and_int)((Base.box)(Base.Bool,(Base.and_int)((Base.eq_float)(x::Float64,fy::Float64)::Bool,(Base.lt_float)(fy::Float64,9.223372036854776e18)::Bool)),(Base.slt_int)((Base.box)(Int64,(Base.fptosi)(Int64,fy::Float64)),0)::Bool)))) goto 8\n",
      "      #temp#@_5\u001b[1m\u001b[31m::Union{Float64,Int64}\u001b[0m = 0\n",
      "      goto 10\n",
      "      8: \n",
      "      #temp#@_5\u001b[1m\u001b[31m::Union{Float64,Int64}\u001b[0m = x::Float64\n",
      "      10: \n",
      "      # meta: pop location\n",
      "      y\u001b[1m\u001b[31m::Union{Float64,Int64}\u001b[0m = #temp#@_5\u001b[1m\u001b[31m::Union{Float64,Int64}\u001b[0m # line 5:\n",
      "      unless (Core.isa)(y\u001b[1m\u001b[31m::Union{Float64,Int64}\u001b[0m,Float64)\u001b[1m\u001b[31m::Any\u001b[0m goto 17\n",
      "      #temp#@_6::LambdaInfo = LambdaInfo for *(::Float64, ::Float64)\n",
      "      goto 26\n",
      "      17: \n",
      "      unless (Core.isa)(y\u001b[1m\u001b[31m::Union{Float64,Int64}\u001b[0m,Int64)\u001b[1m\u001b[31m::Any\u001b[0m goto 21\n",
      "      #temp#@_6::LambdaInfo = LambdaInfo for *(::Int64, ::Float64)\n",
      "      goto 26\n",
      "      21: \n",
      "      goto 23\n",
      "      23: \n",
      "      #temp#@_7::Float64 = (y\u001b[1m\u001b[31m::Union{Float64,Int64}\u001b[0m * x::Float64)::Float64\n",
      "      goto 28\n",
      "      26: \n",
      "      #temp#@_7::Float64 = $(Expr(:invoke, :(#temp#@_6), :(Main.*), :(y), :(x)))\n",
      "      28: \n",
      "      return $(Expr(:invoke, LambdaInfo for sin(::Float64), :(Main.sin), :((Base.box)(Base.Float64,(Base.add_float)(#temp#@_7,(Base.box)(Float64,(Base.sitofp)(Float64,1)))))))\n",
      "  end::Float64\n"
     ]
    }
   ],
   "source": [
    "#wykrywamy niepewne typy\n",
    "@code_warntype f4(3.2)"
   ]
  },
  {
   "cell_type": "code",
   "execution_count": 64,
   "metadata": {
    "collapsed": false
   },
   "outputs": [
    {
     "name": "stdout",
     "output_type": "stream",
     "text": [
      "search: \u001b[1mc\u001b[22m\u001b[1mo\u001b[22m\u001b[1md\u001b[22m\u001b[1me\u001b[22m\u001b[1m_\u001b[22m\u001b[1ml\u001b[22m\u001b[1mo\u001b[22m\u001b[1mw\u001b[22m\u001b[1me\u001b[22m\u001b[1mr\u001b[22m\u001b[1me\u001b[22m\u001b[1md\u001b[22m @\u001b[1mc\u001b[22m\u001b[1mo\u001b[22m\u001b[1md\u001b[22m\u001b[1me\u001b[22m\u001b[1m_\u001b[22m\u001b[1ml\u001b[22m\u001b[1mo\u001b[22m\u001b[1mw\u001b[22m\u001b[1me\u001b[22m\u001b[1mr\u001b[22m\u001b[1me\u001b[22m\u001b[1md\u001b[22m\n",
      "\n"
     ]
    },
    {
     "data": {
      "text/markdown": [
       "```\n",
       "code_lowered(f, types)\n",
       "```\n",
       "\n",
       "Returns an array of lowered ASTs for the methods matching the given generic function and type signature.\n"
      ],
      "text/plain": [
       "```\n",
       "code_lowered(f, types)\n",
       "```\n",
       "\n",
       "Returns an array of lowered ASTs for the methods matching the given generic function and type signature.\n"
      ]
     },
     "execution_count": 64,
     "metadata": {},
     "output_type": "execute_result"
    }
   ],
   "source": [
    "?code_lowered"
   ]
  },
  {
   "cell_type": "code",
   "execution_count": 65,
   "metadata": {
    "collapsed": false
   },
   "outputs": [
    {
     "data": {
      "text/plain": [
       "LambdaInfo template for f4(x) at In[62]:4\n",
       ":(begin \n",
       "        nothing\n",
       "        y = (Main.pos5)(x) # line 5:\n",
       "        return (Main.sin)(y * x + 1)\n",
       "    end)"
      ]
     },
     "execution_count": 65,
     "metadata": {},
     "output_type": "execute_result"
    }
   ],
   "source": [
    "# pokazuje pośrednią reprezentacje kodu  w formie Abstract Syntax Three\n",
    "@code_lowered f4(3.2)"
   ]
  },
  {
   "cell_type": "code",
   "execution_count": 66,
   "metadata": {
    "collapsed": false
   },
   "outputs": [
    {
     "data": {
      "text/plain": [
       "LambdaInfo for f4(::Float64)\n",
       ":(begin \n",
       "        # meta: location In[62] pos5 1\n",
       "        # meta: location float.jl < 332\n",
       "        fy = (Base.box)(Float64,(Base.sitofp)(Float64,0))\n",
       "        # meta: pop location\n",
       "        unless (Base.box)(Base.Bool,(Base.or_int)((Base.lt_float)(x,fy)::Bool,(Base.box)(Base.Bool,(Base.and_int)((Base.box)(Base.Bool,(Base.and_int)((Base.eq_float)(x,fy)::Bool,(Base.lt_float)(fy,9.223372036854776e18)::Bool)),(Base.slt_int)((Base.box)(Int64,(Base.fptosi)(Int64,fy)),0)::Bool)))) goto 8\n",
       "        #temp#@_5 = 0\n",
       "        goto 10\n",
       "        8: \n",
       "        #temp#@_5 = x\n",
       "        10: \n",
       "        # meta: pop location\n",
       "        y = #temp#@_5 # line 5:\n",
       "        unless (Core.isa)(y,Float64) goto 17\n",
       "        #temp#@_6 = LambdaInfo for *(::Float64, ::Float64)\n",
       "        goto 26\n",
       "        17: \n",
       "        unless (Core.isa)(y,Int64) goto 21\n",
       "        #temp#@_6 = LambdaInfo for *(::Int64, ::Float64)\n",
       "        goto 26\n",
       "        21: \n",
       "        goto 23\n",
       "        23: \n",
       "        #temp#@_7 = (y * x)::Float64\n",
       "        goto 28\n",
       "        26: \n",
       "        #temp#@_7 = $(Expr(:invoke, :(#temp#@_6), :(Main.*), :(y), :(x)))\n",
       "        28: \n",
       "        return $(Expr(:invoke, LambdaInfo for sin(::Float64), :(Main.sin), :((Base.box)(Base.Float64,(Base.add_float)(#temp#@_7,(Base.box)(Float64,(Base.sitofp)(Float64,1)))))))\n",
       "    end::Float64)"
      ]
     },
     "execution_count": 66,
     "metadata": {},
     "output_type": "execute_result"
    }
   ],
   "source": [
    "#kod pośredni pokazujący, jakie typy zostały wywnioskowane\n",
    "@code_typed f4(3.2)"
   ]
  },
  {
   "cell_type": "code",
   "execution_count": 67,
   "metadata": {
    "collapsed": false
   },
   "outputs": [
    {
     "name": "stdout",
     "output_type": "stream",
     "text": [
      "\n",
      "define double @julia_f4_73084(double) #0 {\n",
      "top:\n",
      "  %ptls_i8 = call i8* asm \"movq %fs:0, $0;\\0Aaddq $$-2672, $0\", \"=r,~{dirflag},~{fpsr},~{flags}\"() #2\n",
      "  %ptls = bitcast i8* %ptls_i8 to %jl_value_t***\n",
      "  %1 = alloca [12 x %jl_value_t*], align 8\n",
      "  %.sub = getelementptr inbounds [12 x %jl_value_t*], [12 x %jl_value_t*]* %1, i64 0, i64 0\n",
      "  %2 = getelementptr [12 x %jl_value_t*], [12 x %jl_value_t*]* %1, i64 0, i64 9\n",
      "  %\"#temp#\" = getelementptr [12 x %jl_value_t*], [12 x %jl_value_t*]* %1, i64 0, i64 2\n",
      "  %3 = getelementptr [12 x %jl_value_t*], [12 x %jl_value_t*]* %1, i64 0, i64 8\n",
      "  %4 = bitcast %jl_value_t** %2 to i8*\n",
      "  call void @llvm.memset.p0i8.i32(i8* %4, i8 0, i32 24, i32 8, i1 false)\n",
      "  %5 = bitcast [12 x %jl_value_t*]* %1 to i64*\n",
      "  %6 = bitcast %jl_value_t** %\"#temp#\" to i8*\n",
      "  call void @llvm.memset.p0i8.i64(i8* %6, i8 0, i64 48, i32 8, i1 false)\n",
      "  store i64 20, i64* %5, align 8\n",
      "  %7 = getelementptr [12 x %jl_value_t*], [12 x %jl_value_t*]* %1, i64 0, i64 1\n",
      "  %8 = bitcast i8* %ptls_i8 to i64*\n",
      "  %9 = load i64, i64* %8, align 8\n",
      "  %10 = bitcast %jl_value_t** %7 to i64*\n",
      "  store i64 %9, i64* %10, align 8\n",
      "  store %jl_value_t** %.sub, %jl_value_t*** %ptls, align 8\n",
      "  store %jl_value_t* null, %jl_value_t** %3, align 8\n",
      "  %11 = fcmp uge double %0, 0.000000e+00\n",
      "  br i1 %11, label %L, label %L3\n",
      "\n",
      "L:                                                ; preds = %top\n",
      "  %12 = call %jl_value_t* @jl_gc_pool_alloc(i8* %ptls_i8, i32 1432, i32 16)\n",
      "  %13 = getelementptr inbounds %jl_value_t, %jl_value_t* %12, i64 -1, i32 0\n",
      "  store %jl_value_t* inttoptr (i64 139701489102672 to %jl_value_t*), %jl_value_t** %13, align 8\n",
      "  %14 = bitcast %jl_value_t* %12 to double*\n",
      "  store double %0, double* %14, align 8\n",
      "  br label %L3\n",
      "\n",
      "L3:                                               ; preds = %top, %L\n",
      "  %storemerge = phi %jl_value_t* [ %12, %L ], [ inttoptr (i64 139701488828512 to %jl_value_t*), %top ]\n",
      "  %15 = getelementptr [12 x %jl_value_t*], [12 x %jl_value_t*]* %1, i64 0, i64 3\n",
      "  %16 = getelementptr [12 x %jl_value_t*], [12 x %jl_value_t*]* %1, i64 0, i64 4\n",
      "  %17 = getelementptr [12 x %jl_value_t*], [12 x %jl_value_t*]* %1, i64 0, i64 11\n",
      "  %18 = getelementptr [12 x %jl_value_t*], [12 x %jl_value_t*]* %1, i64 0, i64 10\n",
      "  store %jl_value_t* %storemerge, %jl_value_t** %\"#temp#\", align 8\n",
      "  store %jl_value_t* %storemerge, %jl_value_t** %15, align 8\n",
      "  store %jl_value_t* %storemerge, %jl_value_t** %16, align 8\n",
      "  %19 = getelementptr inbounds %jl_value_t, %jl_value_t* %storemerge, i64 -1, i32 0\n",
      "  %20 = bitcast %jl_value_t** %19 to i64*\n",
      "  %21 = load i64, i64* %20, align 8\n",
      "  %22 = and i64 %21, -16\n",
      "  %23 = inttoptr i64 %22 to %jl_value_t*\n",
      "  %24 = icmp eq %jl_value_t* %23, inttoptr (i64 139701489102672 to %jl_value_t*)\n",
      "  br i1 %24, label %L7, label %L4\n",
      "\n",
      "L4:                                               ; preds = %L3\n",
      "  %25 = getelementptr [12 x %jl_value_t*], [12 x %jl_value_t*]* %1, i64 0, i64 5\n",
      "  store %jl_value_t* %storemerge, %jl_value_t** %25, align 8\n",
      "  %26 = load i64, i64* %20, align 8\n",
      "  %27 = and i64 %26, -16\n",
      "  %28 = inttoptr i64 %27 to %jl_value_t*\n",
      "  %29 = icmp eq %jl_value_t* %28, inttoptr (i64 139701488698800 to %jl_value_t*)\n",
      "  br i1 %29, label %L7, label %L6\n",
      "\n",
      "L6:                                               ; preds = %L4\n",
      "  %30 = getelementptr [12 x %jl_value_t*], [12 x %jl_value_t*]* %1, i64 0, i64 6\n",
      "  store %jl_value_t* %storemerge, %jl_value_t** %18, align 8\n",
      "  store %jl_value_t* inttoptr (i64 139701498604168 to %jl_value_t*), %jl_value_t** %2, align 8\n",
      "  %31 = call %jl_value_t* @jl_gc_pool_alloc(i8* %ptls_i8, i32 1432, i32 16)\n",
      "  %32 = getelementptr inbounds %jl_value_t, %jl_value_t* %31, i64 -1, i32 0\n",
      "  store %jl_value_t* inttoptr (i64 139701489102672 to %jl_value_t*), %jl_value_t** %32, align 8\n",
      "  %33 = bitcast %jl_value_t* %31 to double*\n",
      "  store double %0, double* %33, align 8\n",
      "  store %jl_value_t* %31, %jl_value_t** %17, align 8\n",
      "  %34 = call %jl_value_t* @jl_apply_generic(%jl_value_t** %2, i32 3)\n",
      "  store %jl_value_t* %34, %jl_value_t** %30, align 8\n",
      "  br label %L8\n",
      "\n",
      "L7:                                               ; preds = %L4, %L3\n",
      "  %\"#temp#1.0\" = phi %jl_value_t* [ inttoptr (i64 139701499471440 to %jl_value_t*), %L3 ], [ inttoptr (i64 139701499757136 to %jl_value_t*), %L4 ]\n",
      "  %35 = getelementptr [12 x %jl_value_t*], [12 x %jl_value_t*]* %1, i64 0, i64 7\n",
      "  store %jl_value_t* %\"#temp#1.0\", %jl_value_t** %35, align 8\n",
      "  store %jl_value_t* %storemerge, %jl_value_t** %18, align 8\n",
      "  store %jl_value_t* inttoptr (i64 139701498604168 to %jl_value_t*), %jl_value_t** %2, align 8\n",
      "  %36 = call %jl_value_t* @jl_gc_pool_alloc(i8* %ptls_i8, i32 1432, i32 16)\n",
      "  %37 = getelementptr inbounds %jl_value_t, %jl_value_t* %36, i64 -1, i32 0\n",
      "  store %jl_value_t* inttoptr (i64 139701489102672 to %jl_value_t*), %jl_value_t** %37, align 8\n",
      "  %38 = bitcast %jl_value_t* %36 to double*\n",
      "  store double %0, double* %38, align 8\n",
      "  store %jl_value_t* %36, %jl_value_t** %17, align 8\n",
      "  %39 = call %jl_value_t* @jl_invoke(%jl_value_t* %\"#temp#1.0\", %jl_value_t** %2, i32 3)\n",
      "  store %jl_value_t* %39, %jl_value_t** %3, align 8\n",
      "  br label %L8\n",
      "\n",
      "L8:                                               ; preds = %L7, %L6\n",
      "  %\"#temp#2.sroa.0.0.in.in\" = phi %jl_value_t* [ %39, %L7 ], [ %34, %L6 ]\n",
      "  %40 = bitcast %jl_value_t* %\"#temp#2.sroa.0.0.in.in\" to double*\n",
      "  %\"#temp#2.sroa.0.015\" = load double, double* %40, align 1\n",
      "  %41 = fadd double %\"#temp#2.sroa.0.015\", 1.000000e+00\n",
      "  %42 = call double @julia_sin_73086(double %41) #0\n",
      "  %43 = load i64, i64* %10, align 8\n",
      "  store i64 %43, i64* %8, align 8\n",
      "  ret double %42\n",
      "}\n"
     ]
    }
   ],
   "source": [
    "# kod llvm\n",
    "@code_llvm f4(3.2)"
   ]
  },
  {
   "cell_type": "code",
   "execution_count": 68,
   "metadata": {
    "collapsed": false
   },
   "outputs": [
    {
     "name": "stdout",
     "output_type": "stream",
     "text": [
      "\t.text\n",
      "Filename: In[62]\n",
      "\tpushq\t%rbp\n",
      "\tmovq\t%rsp, %rbp\n",
      "\tpushq\t%r15\n",
      "\tpushq\t%r14\n",
      "\tpushq\t%r12\n",
      "\tpushq\t%rbx\n",
      "\tsubq\t$112, %rsp\n",
      "\tmovabsq\t$139701489102672, %r12  # imm = 0x7F0EC9A1EF50\n",
      "\tmovq\t%fs:0, %rbx\n",
      "\taddq\t$-2672, %rbx            # imm = 0xFFFFFFFFFFFFF590\n",
      "\txorps\t%xmm1, %xmm1\n",
      "\tmovups\t%xmm1, -56(%rbp)\n",
      "\tmovq\t$0, -40(%rbp)\n",
      "\tmovups\t%xmm1, -80(%rbp)\n",
      "\tmovups\t%xmm1, -96(%rbp)\n",
      "\tmovups\t%xmm1, -112(%rbp)\n",
      "\tmovq\t$20, -128(%rbp)\n",
      "\tmovq\t(%rbx), %rax\n",
      "\tmovq\t%rax, -120(%rbp)\n",
      "\tleaq\t-128(%rbp), %rax\n",
      "\tmovq\t%rax, (%rbx)\n",
      "\tmovq\t$0, -64(%rbp)\n",
      "Source line: 1\n",
      "\txorps\t%xmm1, %xmm1\n",
      "\tucomisd\t%xmm0, %xmm1\n",
      "\tja\tL158\n",
      "\tmovabsq\t$jl_gc_pool_alloc, %rax\n",
      "\tmovl\t$1432, %esi             # imm = 0x598\n",
      "\tmovl\t$16, %edx\n",
      "\tmovq\t%rbx, %rdi\n",
      "\tmovsd\t%xmm0, -136(%rbp)\n",
      "\tcallq\t*%rax\n",
      "\tmovsd\t-136(%rbp), %xmm0       # xmm0 = mem[0],zero\n",
      "\tmovq\t%r12, -8(%rax)\n",
      "\tmovsd\t%xmm0, (%rax)\n",
      "\tjmp\tL166\n",
      "L158:\n",
      "\tleaq\t-274160(%r12), %rax\n",
      "L166:\n",
      "\tleaq\t-56(%rbp), %r14\n",
      "\tmovq\t%rax, -112(%rbp)\n",
      "Source line: 4\n",
      "\tmovq\t%rax, -104(%rbp)\n",
      "Source line: 5\n",
      "\tmovq\t%rax, -96(%rbp)\n",
      "\tmovq\t-8(%rax), %rcx\n",
      "\tandq\t$-16, %rcx\n",
      "\tcmpq\t%r12, %rcx\n",
      "\tje\tL307\n",
      "\tmovsd\t%xmm0, -136(%rbp)\n",
      "\tmovq\t%rax, -88(%rbp)\n",
      "\tleaq\t-403872(%r12), %rdx\n",
      "\tcmpq\t%rdx, %rcx\n",
      "\tje\tL325\n",
      "\tmovq\t%rax, -48(%rbp)\n",
      "\tleaq\t9501496(%r12), %rax\n",
      "\tmovq\t%rax, -56(%rbp)\n",
      "\tmovabsq\t$jl_gc_pool_alloc, %rax\n",
      "\tmovl\t$1432, %esi             # imm = 0x598\n",
      "\tmovl\t$16, %edx\n",
      "\tmovq\t%rbx, %rdi\n",
      "\tcallq\t*%rax\n",
      "\tmovq\t%r12, -8(%rax)\n",
      "\tmovsd\t-136(%rbp), %xmm0       # xmm0 = mem[0],zero\n",
      "\tmovsd\t%xmm0, (%rax)\n",
      "\tmovq\t%rax, -40(%rbp)\n",
      "\tmovabsq\t$jl_apply_generic, %rax\n",
      "\tmovl\t$3, %esi\n",
      "\tmovq\t%r14, %rdi\n",
      "\tcallq\t*%rax\n",
      "\tmovq\t%rax, -80(%rbp)\n",
      "\tjmp\tL425\n",
      "L307:\n",
      "\tmovsd\t%xmm0, -136(%rbp)\n",
      "\tleaq\t10368768(%r12), %r15\n",
      "\tjmp\tL333\n",
      "L325:\n",
      "\tleaq\t10654464(%r12), %r15\n",
      "L333:\n",
      "\tmovq\t%r15, -72(%rbp)\n",
      "\tmovq\t%rax, -48(%rbp)\n",
      "\tleaq\t9501496(%r12), %rax\n",
      "\tmovq\t%rax, -56(%rbp)\n",
      "\tmovabsq\t$jl_gc_pool_alloc, %rax\n",
      "\tmovl\t$1432, %esi             # imm = 0x598\n",
      "\tmovl\t$16, %edx\n",
      "\tmovq\t%rbx, %rdi\n",
      "\tcallq\t*%rax\n",
      "\tmovq\t%r12, -8(%rax)\n",
      "\tmovsd\t-136(%rbp), %xmm0       # xmm0 = mem[0],zero\n",
      "\tmovsd\t%xmm0, (%rax)\n",
      "\tmovq\t%rax, -40(%rbp)\n",
      "\tmovabsq\t$jl_invoke, %rax\n",
      "\tmovl\t$3, %edx\n",
      "\tmovq\t%r15, %rdi\n",
      "\tmovq\t%r14, %rsi\n",
      "\tcallq\t*%rax\n",
      "\tmovq\t%rax, -64(%rbp)\n",
      "L425:\n",
      "\tmovsd\t(%rax), %xmm0           # xmm0 = mem[0],zero\n",
      "\tmovabsq\t$139701219220760, %rax  # imm = 0x7F0EB98BDD18\n",
      "\taddsd\t(%rax), %xmm0\n",
      "\tmovabsq\t$sin, %rax\n",
      "\tcallq\t*%rax\n",
      "\tmovq\t-120(%rbp), %rax\n",
      "\tmovq\t%rax, (%rbx)\n",
      "\taddq\t$112, %rsp\n",
      "\tpopq\t%rbx\n",
      "\tpopq\t%r12\n",
      "\tpopq\t%r14\n",
      "\tpopq\t%r15\n",
      "\tpopq\t%rbp\n",
      "\tretq\n",
      "\tnopl\t(%rax,%rax)\n"
     ]
    }
   ],
   "source": [
    "# assembler\n",
    "@code_native f4(3.2)"
   ]
  },
  {
   "cell_type": "code",
   "execution_count": 69,
   "metadata": {
    "collapsed": false
   },
   "outputs": [
    {
     "name": "stdout",
     "output_type": "stream",
     "text": [
      "\t.text\n",
      "Filename: In[69]\n",
      "\tpushq\t%rbp\n",
      "\tmovq\t%rsp, %rbp\n",
      "\tmovapd\t%xmm0, %xmm1\n",
      "Source line: 1\n",
      "\txorpd\t%xmm0, %xmm0\n",
      "\tucomisd\t%xmm1, %xmm0\n",
      "\tmovapd\t%xmm1, %xmm0\n",
      "\tjbe\tL26\n",
      "\txorpd\t%xmm0, %xmm0\n",
      "Source line: 4\n",
      "L26:\n",
      "\tmulsd\t%xmm1, %xmm0\n",
      "\tmovabsq\t$139701219220992, %rax  # imm = 0x7F0EB98BDE00\n",
      "\taddsd\t(%rax), %xmm0\n",
      "\tmovabsq\t$sin, %rax\n",
      "\tcallq\t*%rax\n",
      "\tpopq\t%rbp\n",
      "\tretq\n",
      "\tnopw\t(%rax,%rax)\n"
     ]
    }
   ],
   "source": [
    "pos3(x) = x < 0.0 ? 0.0 : x\n",
    "function f5(x)\n",
    "    y = pos3(x)\n",
    "    sin(y*x+1)\n",
    "end\n",
    "@code_native f5(3.2)"
   ]
  }
 ],
 "metadata": {
  "kernelspec": {
   "display_name": "Julia 0.5.0",
   "language": "julia",
   "name": "julia-0.5"
  },
  "language_info": {
   "file_extension": ".jl",
   "mimetype": "application/julia",
   "name": "julia",
   "version": "0.5.0"
  }
 },
 "nbformat": 4,
 "nbformat_minor": 0
}
