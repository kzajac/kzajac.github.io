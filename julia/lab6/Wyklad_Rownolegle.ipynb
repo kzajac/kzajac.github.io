{
 "cells": [
  {
   "cell_type": "markdown",
   "metadata": {},
   "source": [
    "## Wykład 5\n",
    "---\n",
    "+ Wykonanie współbieżne\n",
    "+ Obliczenia równoległe\n",
    "+ Operacje równoległe wysokopoziomowe\n",
    "+ Dynamiczny scheduling\n",
    "+ Tablice współdzielone\n",
    "+ Menadżer klastra\n",
    "+ Tablice rozproszone\n",
    "+ zbiór Julii\n"
   ]
  },
  {
   "cell_type": "markdown",
   "metadata": {},
   "source": [
    "## Wsparcie dla wykonania współbieżnego\n",
    "\n",
    "Zadania (tasks)  wykonuja zdefiniowaną procedurę. \n",
    "\n",
    "Jest to inny rodzaj przepływu kontroli - od trybu wykonania zwykłych instrikcji różnia sie tym, ze mogą zostać wiele razy  przerwane i wznowione = nie muszą wykonać się po kolei.\n",
    "\n",
    "Za szeregowanie tasków (który kiedy się wykona itd.) odpowiedzialny jest Scheduler\n",
    "\n",
    "Istnieją dwa rodzaje podejścia do przełączania tasków:\n",
    "\n",
    "- <b>preemptive</b> - z wywłaszczeniem - scheduler sam decyduje kiedy przełączyć zadanie aby uzyskać płynną wielozadaniowość.\n",
    "    - plusy: często bardziej wydajne, \n",
    "    - minusy: może prowadzić do wyścigów. np. wątki w Javie. \n",
    "\n",
    "- <b>cooperative</b>  - taski są przełączane tylko w dobrze zdefiniowanych punktach synchronizacyjnych. \n",
    "    - Minusy: jeśli taski nie wykorzystują tej możliwości właściwie, nie kooperują ze sobą, aby efektywnie wykorzystać procesor,  system może działać wolno. \n",
    "    - Plusy: nie trzeba martwić się o sytuacje wyścigu (łatwiejsza implementacja). \n",
    "    - Jest to rozwiązanie, które wybrano w Julii. \n",
    "\n",
    "inne nazwy dla tasków występujących w Julii: symmetric coroutines, lightweight threads, cooperative multitasking,  one-shot continuations.\n",
    "\n",
    "Te możliwości nie oznaczają  automatycznie wykonania tasków na różnych węzłach / procesorach równolegle. \n",
    "\n",
    "Taski mogą przeplatać się w obrębie jednego węzła - mówimy wtedy o wykonaniu współbieżnym.\n",
    "\n",
    "Jeśli używamy wielu węzłów/procesorów - wykonanie jest nie tylko współbieżne, ale i równoległe.\n"
   ]
  },
  {
   "cell_type": "markdown",
   "metadata": {},
   "source": [
    "Kiedy stosuje się wielozadaniowość?\n",
    "\n",
    "- Przy rozwiązywaniu pewnych problemów sposób z wywołaniem kolejnych  funkcji nie jest oczywisty.\n",
    "\n",
    "- Przykładem jest problem producenta i konsumenta, w którym jedna złożona procedura generuje wiele wartości przez jakiś czas  i kolejna procedura ich używa. \n",
    "\n",
    "- Rozwiązanie polegające na tym,że konsument wywoła funkcję producenta nie jest wygodne, ponieważ producent może mieć więcej wartości do wygenerowania i trzeba wtedy czekać na zakończenie ich generacji, tymczasem konsument może  chcieć działać już na tych początkowych wartościach.\n",
    "\n",
    "- Dlatego lepiej użyc mechanizmu przeplatającego - w tym przykładzie funkcja produce() wymusza przełączenie się na task realizujący consume(). Kolejne wywołania consume() powodują przełączanie się na task producenta. "
   ]
  },
  {
   "cell_type": "code",
   "execution_count": 1,
   "metadata": {
    "collapsed": false
   },
   "outputs": [],
   "source": [
    "function producer()\n",
    "         produce(\"start\")\n",
    "         for n=1:4\n",
    "           produce(2n)\n",
    "         end\n",
    "         produce(\"stop\")\n",
    "end;"
   ]
  },
  {
   "cell_type": "code",
   "execution_count": 2,
   "metadata": {
    "collapsed": false
   },
   "outputs": [
    {
     "data": {
      "text/plain": [
       "Task (runnable) @0x00007efc4788a980"
      ]
     },
     "execution_count": 2,
     "metadata": {},
     "output_type": "execute_result"
    }
   ],
   "source": [
    "p = Task(producer)"
   ]
  },
  {
   "cell_type": "code",
   "execution_count": 3,
   "metadata": {
    "collapsed": false
   },
   "outputs": [
    {
     "data": {
      "text/plain": [
       "\"start\""
      ]
     },
     "execution_count": 3,
     "metadata": {},
     "output_type": "execute_result"
    }
   ],
   "source": [
    "consume(p)"
   ]
  },
  {
   "cell_type": "code",
   "execution_count": 4,
   "metadata": {
    "collapsed": false
   },
   "outputs": [
    {
     "data": {
      "text/plain": [
       "2"
      ]
     },
     "execution_count": 4,
     "metadata": {},
     "output_type": "execute_result"
    }
   ],
   "source": [
    "consume(p)"
   ]
  },
  {
   "cell_type": "code",
   "execution_count": 5,
   "metadata": {
    "collapsed": false
   },
   "outputs": [
    {
     "data": {
      "text/plain": [
       "4"
      ]
     },
     "execution_count": 5,
     "metadata": {},
     "output_type": "execute_result"
    }
   ],
   "source": [
    "consume(p)"
   ]
  },
  {
   "cell_type": "code",
   "execution_count": 6,
   "metadata": {
    "collapsed": false
   },
   "outputs": [
    {
     "data": {
      "text/plain": [
       "6"
      ]
     },
     "execution_count": 6,
     "metadata": {},
     "output_type": "execute_result"
    }
   ],
   "source": [
    "consume(p)"
   ]
  },
  {
   "cell_type": "code",
   "execution_count": 7,
   "metadata": {
    "collapsed": false
   },
   "outputs": [
    {
     "data": {
      "text/plain": [
       "8"
      ]
     },
     "execution_count": 7,
     "metadata": {},
     "output_type": "execute_result"
    }
   ],
   "source": [
    "consume(p)"
   ]
  },
  {
   "cell_type": "code",
   "execution_count": 8,
   "metadata": {
    "collapsed": false
   },
   "outputs": [
    {
     "data": {
      "text/plain": [
       "\"stop\""
      ]
     },
     "execution_count": 8,
     "metadata": {},
     "output_type": "execute_result"
    }
   ],
   "source": [
    "consume(p)"
   ]
  },
  {
   "cell_type": "code",
   "execution_count": 9,
   "metadata": {
    "collapsed": false
   },
   "outputs": [
    {
     "data": {
      "text/plain": [
       "()"
      ]
     },
     "execution_count": 9,
     "metadata": {},
     "output_type": "execute_result"
    }
   ],
   "source": [
    "consume(p)"
   ]
  },
  {
   "cell_type": "code",
   "execution_count": 10,
   "metadata": {
    "collapsed": false,
    "scrolled": true
   },
   "outputs": [
    {
     "name": "stdout",
     "output_type": "stream",
     "text": [
      "start\n",
      "2\n",
      "4\n",
      "6\n",
      "8\n",
      "stop\n"
     ]
    }
   ],
   "source": [
    "# można też użyć pętli do konsumowania kolejnych produkowanych wartości.\n",
    "for x in Task(producer)\n",
    "         println(x)\n",
    "       end"
   ]
  },
  {
   "cell_type": "markdown",
   "metadata": {},
   "source": [
    " konstruktor Task() przyjmuje funkcję bezargumentową, \n",
    " "
   ]
  },
  {
   "cell_type": "code",
   "execution_count": 11,
   "metadata": {
    "collapsed": false
   },
   "outputs": [
    {
     "data": {
      "text/plain": [
       "Task (runnable) @0x00007efc47917d00"
      ]
     },
     "execution_count": 11,
     "metadata": {},
     "output_type": "execute_result"
    }
   ],
   "source": [
    "# konstruktor Task() przyjmuje funkcję bezargumentową,  \n",
    "# można to obejść używająć funkcji anonimowej\n",
    "\n",
    "function param_producer(name)\n",
    "    produce(name* \" start\")\n",
    "         for n=1:4\n",
    "           produce(2n)\n",
    "         end\n",
    "    produce(\"stop\")\n",
    "    \n",
    "end\n",
    "\n",
    "p1 = Task(() -> param_producer(\"Zielony Goblin\"))\n",
    "\n",
    "\n",
    "\n",
    "\n"
   ]
  },
  {
   "cell_type": "code",
   "execution_count": 12,
   "metadata": {
    "collapsed": false
   },
   "outputs": [
    {
     "data": {
      "text/plain": [
       "false"
      ]
     },
     "execution_count": 12,
     "metadata": {},
     "output_type": "execute_result"
    }
   ],
   "source": [
    "istaskstarted(p1)"
   ]
  },
  {
   "cell_type": "code",
   "execution_count": 13,
   "metadata": {
    "collapsed": false
   },
   "outputs": [
    {
     "data": {
      "text/plain": [
       "\"Zielony Goblin start\""
      ]
     },
     "execution_count": 13,
     "metadata": {},
     "output_type": "execute_result"
    }
   ],
   "source": [
    "consume(p1)"
   ]
  },
  {
   "cell_type": "code",
   "execution_count": 14,
   "metadata": {
    "collapsed": false
   },
   "outputs": [
    {
     "data": {
      "text/plain": [
       "true"
      ]
     },
     "execution_count": 14,
     "metadata": {},
     "output_type": "execute_result"
    }
   ],
   "source": [
    "istaskstarted(p1)"
   ]
  },
  {
   "cell_type": "code",
   "execution_count": 15,
   "metadata": {
    "collapsed": false
   },
   "outputs": [
    {
     "data": {
      "text/plain": [
       "\"SpiderMan start\""
      ]
     },
     "execution_count": 15,
     "metadata": {},
     "output_type": "execute_result"
    }
   ],
   "source": [
    "# albo użyć makra:\n",
    "p3 = @task param_producer(\"SpiderMan\")\n",
    "consume(p3)"
   ]
  },
  {
   "cell_type": "code",
   "execution_count": 16,
   "metadata": {
    "collapsed": false
   },
   "outputs": [
    {
     "data": {
      "text/plain": [
       "true"
      ]
     },
     "execution_count": 16,
     "metadata": {},
     "output_type": "execute_result"
    }
   ],
   "source": [
    "istaskstarted(p3)"
   ]
  },
  {
   "cell_type": "markdown",
   "metadata": {},
   "source": [
    "Więcej o możliwych funkcjach wykonywanych na taskach (uzyskiwanie informacji, który task jest uruchomiony, możliwości niskopoziomowego przełączania się itd.):\n",
    "\n",
    "https://docs.julialang.org/en/stable/stdlib/parallel/#tasks"
   ]
  },
  {
   "cell_type": "code",
   "execution_count": 17,
   "metadata": {
    "collapsed": false
   },
   "outputs": [
    {
     "data": {
      "text/plain": [
       "13-element Array{Symbol,1}:\n",
       " :parent    \n",
       " :storage   \n",
       " :state     \n",
       " :consumers \n",
       " :donenotify\n",
       " :result    \n",
       " :exception \n",
       " :backtrace \n",
       " :code      \n",
       " :ctx       \n",
       " :bufsz     \n",
       " :stkbuf    \n",
       " :ssize     "
      ]
     },
     "execution_count": 17,
     "metadata": {},
     "output_type": "execute_result"
    }
   ],
   "source": [
    "# zmienna typu Task zawiera wiele informacji\n",
    "fieldnames(p3)"
   ]
  },
  {
   "cell_type": "code",
   "execution_count": 18,
   "metadata": {
    "collapsed": false
   },
   "outputs": [
    {
     "data": {
      "text/plain": [
       ":runnable"
      ]
     },
     "execution_count": 18,
     "metadata": {},
     "output_type": "execute_result"
    }
   ],
   "source": [
    "# Stan tasku:\n",
    "\n",
    "p3.state"
   ]
  },
  {
   "cell_type": "markdown",
   "metadata": {},
   "source": [
    "Inne stany:\n",
    "https://docs.julialang.org/en/stable/manual/control-flow/#task-states"
   ]
  },
  {
   "cell_type": "markdown",
   "metadata": {},
   "source": [
    "Makro @async opakowuje wyrażenie jako Task i dodaje do kolejki  schedulara na <b> lokalnej</b> maszynie."
   ]
  },
  {
   "cell_type": "code",
   "execution_count": 19,
   "metadata": {
    "collapsed": false
   },
   "outputs": [
    {
     "name": "stdout",
     "output_type": "stream",
     "text": [
      "--->\n",
      "+ producent zaczyna\n",
      "* konsument zaczyna\n",
      "odebrałem produkt 1 \n",
      "odebrałem produkt 2\n",
      "+ producent kończy\n",
      "* konsument kończy\n",
      "<---\n"
     ]
    }
   ],
   "source": [
    "println(\"--->\")\n",
    "\n",
    "function producent()\n",
    "    println(\"+ producent zaczyna\")\n",
    "    produce(\"produkt 1 \")\n",
    "    produce(\"produkt 2\")\n",
    "    println(\"+ producent kończy\")\n",
    "end\n",
    "\n",
    "function konsument(p::Task)\n",
    "    println(\"* konsument zaczyna\")\n",
    "    for s in p\n",
    "        println(\"odebrałem \", s)\n",
    "    end\n",
    "    println(\"* konsument kończy\")\n",
    "end\n",
    "\n",
    "@sync begin\n",
    "    a = @async producent()\n",
    "    @async konsument(a)\n",
    "end\n",
    "\n",
    "println(\"<---\")"
   ]
  },
  {
   "cell_type": "code",
   "execution_count": 20,
   "metadata": {
    "collapsed": false
   },
   "outputs": [
    {
     "name": "stdout",
     "output_type": "stream",
     "text": [
      "Główne zadanie\n",
      "Zadanie 1\n",
      " Zadanie 2\n",
      " Zadanie 3\n",
      "  (2) etap 1\n",
      "  (3) etap 1\n",
      "  (1) etap 1\n",
      "  (1) etap 2\n",
      " (2) etap 2\n",
      " (3) etap 2\n"
     ]
    }
   ],
   "source": [
    "# sleep() powoduje zablokowanie tasku, scheduler przełącza na inny, aktywny task. \n",
    "for i in 1:3\n",
    "    @async begin\n",
    "        print(\"Zadanie $i\\n \")\n",
    "        sleep(rand()*0.1)\n",
    "        print(\" ($i) etap 1\\n \")\n",
    "        sleep(rand()*0.1)\n",
    "        print(\" ($i) etap 2\\n\")\n",
    "        sleep(rand()*0.1)\n",
    "    end\n",
    "end\n",
    "print(\"Główne zadanie\\n\")"
   ]
  },
  {
   "cell_type": "code",
   "execution_count": 21,
   "metadata": {
    "collapsed": false
   },
   "outputs": [
    {
     "name": "stdout",
     "output_type": "stream",
     "text": [
      "Zadanie 1\n",
      "(1) etap 1 \n",
      "(1) etap 2\n",
      "Zadanie 2\n",
      "(2) etap 1 \n",
      "(2) etap 2\n",
      "Zadanie 3\n",
      "(3) etap 1 \n",
      "(3) etap 2\n",
      "Główne zadanie\n"
     ]
    }
   ],
   "source": [
    "# jeden ze sposobów wymuszenia kolejności - użycie ReentrantLock do synchronizacji\n",
    "l = ReentrantLock()\n",
    "@sync for i in 1:3\n",
    "    @async begin\n",
    "        lock(l)\n",
    "        try\n",
    "            print(\"Zadanie $i\\n\")\n",
    "            sleep(rand()*0.2)\n",
    "            print(\"($i) etap 1 \\n\")\n",
    "            sleep(rand()*0.2)\n",
    "            print(\"($i) etap 2\\n\")\n",
    "        finally\n",
    "            unlock(l)\n",
    "        end\n",
    "    end\n",
    "end\n",
    "print(\"Główne zadanie\\n\")"
   ]
  },
  {
   "cell_type": "markdown",
   "metadata": {},
   "source": [
    "## Wykonywanie równoległe\n",
    "- Architektura master - worker.\n",
    "- master - proces, z którego sterujemy wykonaniem programu\n",
    "- master zleca wykonanie danej funkcji na innym procesie i ściąga wynik"
   ]
  },
  {
   "cell_type": "code",
   "execution_count": 23,
   "metadata": {
    "collapsed": false
   },
   "outputs": [
    {
     "name": "stdout",
     "output_type": "stream",
     "text": [
      "5\n",
      "[2,3,4,5]\n",
      "4\n"
     ]
    }
   ],
   "source": [
    "# Uruchomienie procesów workerów (zwykle podajemy tyle, ile węzłów chcemy wykorzystać)\n",
    "# jesli uruchamiamy konsole julii to można też użyć opcji \n",
    "# julia -p ilosc_workerów\n",
    "# do usuwania workerów służy  rmprocs() - tylko dla procesu master !\n",
    "if nprocs() == 1\n",
    "    addprocs(4)\n",
    "end\n",
    "# wszystkie procesy\n",
    "nprocs() |> println\n",
    "# procesy workerów\n",
    "# tablica identyfikatorów\n",
    "workers() |> println\n",
    "# ilość\n",
    "nworkers()|> println"
   ]
  },
  {
   "cell_type": "code",
   "execution_count": 23,
   "metadata": {
    "collapsed": false
   },
   "outputs": [
    {
     "data": {
      "text/plain": [
       "1"
      ]
     },
     "execution_count": 23,
     "metadata": {},
     "output_type": "execute_result"
    }
   ],
   "source": [
    "# każdy proces ( w tym główny) ma swój identyfikator\n",
    "myid()"
   ]
  },
  {
   "cell_type": "code",
   "execution_count": 24,
   "metadata": {
    "collapsed": false
   },
   "outputs": [
    {
     "data": {
      "text/plain": [
       "Future(2,1,6,Nullable{Any}())"
      ]
     },
     "execution_count": 24,
     "metadata": {},
     "output_type": "execute_result"
    }
   ],
   "source": [
    "# uruchom funkcje na wybranym workerze, zwraca future\n",
    "# future = \"pudełko\" na wynik, które wypełni się, jak wynik będzie gotowy\n",
    "# argumenty:\n",
    "# 1. funkcja jaka się ma wykonać\n",
    "# 2. identyfikator workera, \n",
    "# 3. parametry funkcji\n",
    "ref = remotecall(myid,workers()[1])"
   ]
  },
  {
   "cell_type": "code",
   "execution_count": 25,
   "metadata": {
    "collapsed": false
   },
   "outputs": [
    {
     "name": "stdout",
     "output_type": "stream",
     "text": [
      "2\n"
     ]
    }
   ],
   "source": [
    "# czekamy na wynik i wypełniamy pudełko\n",
    "_id = fetch(ref)\n",
    "println(_id)"
   ]
  },
  {
   "cell_type": "code",
   "execution_count": 26,
   "metadata": {
    "collapsed": false
   },
   "outputs": [
    {
     "name": "stdout",
     "output_type": "stream",
     "text": [
      "elapsed time: 0.346871615 seconds\n",
      "20\n",
      "elapsed time: 2.427033492 seconds\n"
     ]
    }
   ],
   "source": [
    "tic()\n",
    "ref = remotecall(x->(sleep(x);10x), workers()[1], 2)\n",
    "toc()\n",
    "tic()\n",
    "fetch(ref) |> println\n",
    "toc();"
   ]
  },
  {
   "cell_type": "code",
   "execution_count": 29,
   "metadata": {
    "collapsed": false
   },
   "outputs": [
    {
     "data": {
      "text/plain": [
       "2×2 Array{Float64,2}:\n",
       " 1.83078  1.75558\n",
       " 1.55924  1.25624"
      ]
     },
     "execution_count": 29,
     "metadata": {},
     "output_type": "execute_result"
    }
   ],
   "source": [
    "# przekazywanie RemoteRef między procesami\n",
    "# makro @spawnat oblicza na workerze, którego identyfikator jest podany w pierwszym argumencie\n",
    "# wyrażenie podane w  drugim argumencie \n",
    "# makro - wygodniejsze w użyciu niż funkcja\n",
    "\n",
    "\n",
    "r = remotecall(()->rand(2,2),2)\n",
    "s = @spawnat 3 fetch(r)+1\n",
    "fetch(s)"
   ]
  },
  {
   "cell_type": "code",
   "execution_count": 30,
   "metadata": {
    "collapsed": false
   },
   "outputs": [
    {
     "data": {
      "text/plain": [
       "2×2 Array{Float64,2}:\n",
       " 1.89646  1.2827 \n",
       " 1.36438  1.16835"
      ]
     },
     "execution_count": 30,
     "metadata": {},
     "output_type": "execute_result"
    }
   ],
   "source": [
    "# makro @spawn wybiera zdalny proces. Druga linijka wykona się na tym samym procesie co pierwsza, \n",
    "# aby nie trzeba było przesyłać danych\n",
    "# można definiować własne makra typu @spawn\n",
    "# raz ściągnięty wynik future jest przechowywany lokalnie (cache), wartość przechowywana zdalnie jest kasowana.\n",
    "r = @spawn rand(2,2)\n",
    "s = @spawn 1 .+ fetch(r)\n",
    "fetch(s)"
   ]
  },
  {
   "cell_type": "code",
   "execution_count": 31,
   "metadata": {
    "collapsed": false
   },
   "outputs": [],
   "source": [
    "# Jeśli operujemy na dużych danych warto zadbać, aby ich niepotrzebnie nie przesyłać.\n",
    "\n",
    "# tutaj dane (wygenerowana tablica) są przesyłane z procesu 1 do procesu zdalnego\n",
    "A = rand(1000,1000)\n",
    "Bref = @spawn A^2\n",
    "fetch(Bref)\n",
    "\n",
    "# tutaj tablica generuje się już \"na miejscu\"\n",
    "Bref = @spawn rand(1000,1000)^2\n",
    "fetch(Bref);"
   ]
  },
  {
   "cell_type": "code",
   "execution_count": 32,
   "metadata": {
    "collapsed": false
   },
   "outputs": [
    {
     "data": {
      "text/plain": [
       "rand2 (generic function with 1 method)"
      ]
     },
     "execution_count": 32,
     "metadata": {},
     "output_type": "execute_result"
    }
   ],
   "source": [
    "# Co, jeśli zdefiniujemy własne funkcje, czy będą widoczne na pozostałych procesach?\n",
    "function rand2(dims...)\n",
    "    return 2*rand(dims...)\n",
    "end"
   ]
  },
  {
   "cell_type": "code",
   "execution_count": 33,
   "metadata": {
    "collapsed": false
   },
   "outputs": [
    {
     "data": {
      "text/plain": [
       "2×2 Array{Float64,2}:\n",
       " 1.73838  0.0214448\n",
       " 1.33918  1.82099  "
      ]
     },
     "execution_count": 33,
     "metadata": {},
     "output_type": "execute_result"
    }
   ],
   "source": [
    "rand2(2,2)"
   ]
  },
  {
   "cell_type": "code",
   "execution_count": 34,
   "metadata": {
    "collapsed": false
   },
   "outputs": [
    {
     "data": {
      "text/plain": [
       "2×2 Array{Float64,2}:\n",
       " 1.643    0.424488\n",
       " 1.72305  1.80976 "
      ]
     },
     "execution_count": 34,
     "metadata": {},
     "output_type": "execute_result"
    }
   ],
   "source": [
    "#Proces nr 1 to master - wie o zdefiniowanej funkcji\n",
    "r1 = @spawnat 1 rand2(2,2)\n",
    "fetch(r1)"
   ]
  },
  {
   "cell_type": "code",
   "execution_count": 13,
   "metadata": {
    "collapsed": false
   },
   "outputs": [
    {
     "ename": "LoadError",
     "evalue": "On worker 2:\nUndefVarError: #rand2 not defined\n in deserialize_datatype at ./serialize.jl:823\n in handle_deserialize at ./serialize.jl:571\n in collect at ./array.jl:307\n in deserialize at ./serialize.jl:588\n in handle_deserialize at ./serialize.jl:581\n in deserialize at ./serialize.jl:541\n in deserialize_datatype at ./serialize.jl:829\n in handle_deserialize at ./serialize.jl:571\n in deserialize_msg at ./multi.jl:120\n in message_handler_loop at ./multi.jl:1317\n in process_tcp_streams at ./multi.jl:1276\n in #618 at ./event.jl:68",
     "output_type": "error",
     "traceback": [
      "On worker 2:\nUndefVarError: #rand2 not defined\n in deserialize_datatype at ./serialize.jl:823\n in handle_deserialize at ./serialize.jl:571\n in collect at ./array.jl:307\n in deserialize at ./serialize.jl:588\n in handle_deserialize at ./serialize.jl:581\n in deserialize at ./serialize.jl:541\n in deserialize_datatype at ./serialize.jl:829\n in handle_deserialize at ./serialize.jl:571\n in deserialize_msg at ./multi.jl:120\n in message_handler_loop at ./multi.jl:1317\n in process_tcp_streams at ./multi.jl:1276\n in #618 at ./event.jl:68",
      "",
      " in #remotecall_fetch#606(::Array{Any,1}, ::Function, ::Function, ::Base.Worker, ::Base.RRID, ::Vararg{Any,N}) at ./multi.jl:1070",
      " in remotecall_fetch(::Function, ::Base.Worker, ::Base.RRID, ::Vararg{Any,N}) at ./multi.jl:1062",
      " in #remotecall_fetch#609(::Array{Any,1}, ::Function, ::Function, ::Int64, ::Base.RRID, ::Vararg{Any,N}) at ./multi.jl:1080",
      " in remotecall_fetch(::Function, ::Int64, ::Base.RRID, ::Vararg{Any,N}) at ./multi.jl:1080",
      " in call_on_owner(::Function, ::Future, ::Int64, ::Vararg{Int64,N}) at ./multi.jl:1130",
      " in fetch(::Future) at ./multi.jl:1156"
     ]
    }
   ],
   "source": [
    "# Proces nr 2 nie wie nic o nowo zdefiniowanej funkcji\n",
    "r2 = @spawnat 2 rand2(2,2)\n",
    "fetch(r2)"
   ]
  },
  {
   "cell_type": "code",
   "execution_count": 35,
   "metadata": {
    "collapsed": true
   },
   "outputs": [],
   "source": [
    "# makro everywhere uruchamia kod na wszystkich procesach, \n",
    "# może być użyte do zdefioniowania funkcji wszędzie\n",
    "@everywhere function idtable(dims...)\n",
    "    return myid()*ones(dims...)\n",
    "end"
   ]
  },
  {
   "cell_type": "code",
   "execution_count": 36,
   "metadata": {
    "collapsed": false
   },
   "outputs": [
    {
     "data": {
      "text/plain": [
       "2×2 Array{Float64,2}:\n",
       " 3.0  3.0\n",
       " 3.0  3.0"
      ]
     },
     "execution_count": 36,
     "metadata": {},
     "output_type": "execute_result"
    }
   ],
   "source": [
    "r1 = @spawnat 3 idtable(2,2)\n",
    "fetch(r1)"
   ]
  },
  {
   "cell_type": "code",
   "execution_count": 37,
   "metadata": {
    "collapsed": false
   },
   "outputs": [
    {
     "data": {
      "text/plain": [
       "10000"
      ]
     },
     "execution_count": 37,
     "metadata": {},
     "output_type": "execute_result"
    }
   ],
   "source": [
    "# definiujemy wszędzie A=1, a potem lokalnie zmieniamy A na 10000\n",
    "@everywhere A=1\n",
    "A=10000"
   ]
  },
  {
   "cell_type": "code",
   "execution_count": 17,
   "metadata": {
    "collapsed": false,
    "scrolled": false
   },
   "outputs": [
    {
     "data": {
      "text/plain": [
       "10000"
      ]
     },
     "execution_count": 17,
     "metadata": {},
     "output_type": "execute_result"
    }
   ],
   "source": [
    "A"
   ]
  },
  {
   "cell_type": "code",
   "execution_count": 38,
   "metadata": {
    "collapsed": false
   },
   "outputs": [
    {
     "data": {
      "text/plain": [
       "1"
      ]
     },
     "execution_count": 38,
     "metadata": {},
     "output_type": "execute_result"
    }
   ],
   "source": [
    "# ta funkcja to efektywne połączenie remote_call() i fetch() w jednym.\n",
    "remotecall_fetch(workers()[2],()->A)"
   ]
  },
  {
   "cell_type": "code",
   "execution_count": 39,
   "metadata": {
    "collapsed": false
   },
   "outputs": [
    {
     "data": {
      "text/plain": [
       "(1000,1000)"
      ]
     },
     "execution_count": 39,
     "metadata": {},
     "output_type": "execute_result"
    }
   ],
   "source": [
    "@everywhere B=[(i,j) for i=1:5, j=1:5]\n",
    "B[1,1]=(1000,1000)"
   ]
  },
  {
   "cell_type": "code",
   "execution_count": 40,
   "metadata": {
    "collapsed": false
   },
   "outputs": [
    {
     "data": {
      "text/plain": [
       "5×5 Array{Tuple{Int64,Int64},2}:\n",
       " (1000,1000)  (1,2)  (1,3)  (1,4)  (1,5)\n",
       " (2,1)        (2,2)  (2,3)  (2,4)  (2,5)\n",
       " (3,1)        (3,2)  (3,3)  (3,4)  (3,5)\n",
       " (4,1)        (4,2)  (4,3)  (4,4)  (4,5)\n",
       " (5,1)        (5,2)  (5,3)  (5,4)  (5,5)"
      ]
     },
     "execution_count": 40,
     "metadata": {},
     "output_type": "execute_result"
    }
   ],
   "source": [
    "B"
   ]
  },
  {
   "cell_type": "code",
   "execution_count": 41,
   "metadata": {
    "collapsed": false
   },
   "outputs": [
    {
     "data": {
      "text/plain": [
       "5×5 Array{Tuple{Int64,Int64},2}:\n",
       " (1000,1000)  (1,2)  (1,3)  (1,4)  (1,5)\n",
       " (2,1)        (2,2)  (2,3)  (2,4)  (2,5)\n",
       " (3,1)        (3,2)  (3,3)  (3,4)  (3,5)\n",
       " (4,1)        (4,2)  (4,3)  (4,4)  (4,5)\n",
       " (5,1)        (5,2)  (5,3)  (5,4)  (5,5)"
      ]
     },
     "execution_count": 41,
     "metadata": {},
     "output_type": "execute_result"
    }
   ],
   "source": [
    "# wykonaj funkcję identity() na macierzy B, \n",
    "# tutaj B jest brana z otoczenia funcji remotecall_fetch, czyli procesu 1\n",
    "remotecall_fetch(workers()[2],identity,B)"
   ]
  },
  {
   "cell_type": "code",
   "execution_count": 42,
   "metadata": {
    "collapsed": false
   },
   "outputs": [
    {
     "data": {
      "text/plain": [
       "5×5 Array{Tuple{Int64,Int64},2}:\n",
       " (1,1)  (1,2)  (1,3)  (1,4)  (1,5)\n",
       " (2,1)  (2,2)  (2,3)  (2,4)  (2,5)\n",
       " (3,1)  (3,2)  (3,3)  (3,4)  (3,5)\n",
       " (4,1)  (4,2)  (4,3)  (4,4)  (4,5)\n",
       " (5,1)  (5,2)  (5,3)  (5,4)  (5,5)"
      ]
     },
     "execution_count": 42,
     "metadata": {},
     "output_type": "execute_result"
    }
   ],
   "source": [
    "# tutaj na workerze 2 wykonuje się funkcja nie biorąca żadnych argumentów i zwracająca tamtejsze B\n",
    "remotecall_fetch(workers()[2],()->B)"
   ]
  },
  {
   "cell_type": "markdown",
   "metadata": {},
   "source": [
    "### Operacje równoległe wysokopoziomowe"
   ]
  },
  {
   "cell_type": "code",
   "execution_count": 43,
   "metadata": {
    "collapsed": false
   },
   "outputs": [
    {
     "data": {
      "text/plain": [
       "10409322085141927639670203491499689537738780837791755480023910122413796284563817273031715389609548981241768473547819207141766480065813697534743324177871972318309449519400285796191029154173386427179568557187635957090705352571527670654111047109630289487169691389452699579236618703725748994463357307313300"
      ]
     },
     "execution_count": 43,
     "metadata": {},
     "output_type": "execute_result"
    }
   ],
   "source": [
    "# każda operacja I^100 wykonywana jest równolegle (map) - master nie bierze udziału w obliczeniach\n",
    "# wyniki wszystkich operacji równoległych są sumowane (reduce) - wykonywana w procesie wywołującym \n",
    "\n",
    "@parallel (+) for i=1:1000 \n",
    "        BigInt(i)^100\n",
    "\n",
    "end"
   ]
  },
  {
   "cell_type": "code",
   "execution_count": 44,
   "metadata": {
    "collapsed": false
   },
   "outputs": [
    {
     "data": {
      "text/plain": [
       "10-element Array{Float64,1}:\n",
       " 0.0\n",
       " 0.0\n",
       " 0.0\n",
       " 0.0\n",
       " 0.0\n",
       " 0.0\n",
       " 0.0\n",
       " 0.0\n",
       " 0.0\n",
       " 0.0"
      ]
     },
     "execution_count": 44,
     "metadata": {},
     "output_type": "execute_result"
    }
   ],
   "source": [
    "# tutaj każdy proces ma swoją kopię tablicy a, więć kod nie zadziała dobrze\n",
    "# @sync - czekamy na zakończenie się wszystkich obliczeń.\n",
    "# master nie bierze udziału w obliczeniach.\n",
    "a = zeros(10)\n",
    "@sync @parallel for i=1:10\n",
    "  a[i] = i\n",
    "end\n",
    "a\n"
   ]
  },
  {
   "cell_type": "code",
   "execution_count": 45,
   "metadata": {
    "collapsed": false
   },
   "outputs": [
    {
     "data": {
      "text/plain": [
       "10-element SharedArray{Float64,1}:\n",
       "  1.0\n",
       "  2.0\n",
       "  3.0\n",
       "  4.0\n",
       "  5.0\n",
       "  6.0\n",
       "  7.0\n",
       "  8.0\n",
       "  9.0\n",
       " 10.0"
      ]
     },
     "execution_count": 45,
     "metadata": {},
     "output_type": "execute_result"
    }
   ],
   "source": [
    "# tutaj tablica jest współdzielona (SharedArray), każdy proces modyfikuje jej kawałek.\n",
    "\n",
    "a1=SharedArray(Float64,10)\n",
    "@sync @parallel for i=1:10\n",
    "  a1[i] = i\n",
    "end\n",
    "a1\n",
    "\n"
   ]
  },
  {
   "cell_type": "code",
   "execution_count": 8,
   "metadata": {
    "collapsed": false
   },
   "outputs": [
    {
     "data": {
      "text/plain": [
       "10-element SharedArray{Int8,1}:\n",
       " 2\n",
       " 2\n",
       " 2\n",
       " 3\n",
       " 3\n",
       " 3\n",
       " 4\n",
       " 4\n",
       " 5\n",
       " 5"
      ]
     },
     "execution_count": 8,
     "metadata": {},
     "output_type": "execute_result"
    }
   ],
   "source": [
    "a2=SharedArray(Int8,10)\n",
    "@sync @parallel for i=1:10\n",
    "  a2[i] = myid()\n",
    "end\n",
    "a2"
   ]
  },
  {
   "cell_type": "code",
   "execution_count": 46,
   "metadata": {
    "collapsed": false
   },
   "outputs": [
    {
     "data": {
      "text/plain": [
       "10-element Array{Any,1}:\n",
       " 2\n",
       " 4\n",
       " 5\n",
       " 3\n",
       " 3\n",
       " 2\n",
       " 3\n",
       " 2\n",
       " 3\n",
       " 2"
      ]
     },
     "execution_count": 46,
     "metadata": {},
     "output_type": "execute_result"
    }
   ],
   "source": [
    "# pmap - działa podobnie jak @parallel for bez redukcji, ale jest wydajniejsza dla dłużej trwających operacji.\n",
    "\n",
    "lst = collect(1:10)\n",
    "\n",
    "pmap(x->myid(),lst)\n"
   ]
  },
  {
   "cell_type": "markdown",
   "metadata": {},
   "source": [
    "### Dynamiczny scheduling w funkcji pmap"
   ]
  },
  {
   "cell_type": "code",
   "execution_count": 18,
   "metadata": {
    "collapsed": false
   },
   "outputs": [
    {
     "name": "stderr",
     "output_type": "stream",
     "text": [
      "\u001b[1m\u001b[34mINFO: Recompiling stale cache file /home/user/.julia/lib/v0.5/Images.ji for module Images.\n",
      "\u001b[0m\u001b[1m\u001b[34mINFO: Recompiling stale cache file /home/user/.julia/lib/v0.5/ImageMagick.ji for module ImageMagick.\n",
      "\u001b[0m"
     ]
    },
    {
     "data": {
      "image/png": "[encoded data removed]",
      "text/plain": [
       "618×948 Array{RGBA{N0f8},2}:\n",
       " RGBA{N0f8}(0.506,0.506,0.506,0.0)  …  RGBA{N0f8}(0.506,0.506,0.506,0.0)\n",
       " RGBA{N0f8}(0.506,0.506,0.506,0.0)     RGBA{N0f8}(0.506,0.506,0.506,0.0)\n",
       " RGBA{N0f8}(0.506,0.506,0.506,0.0)     RGBA{N0f8}(0.506,0.506,0.506,0.0)\n",
       " RGBA{N0f8}(0.506,0.506,0.506,0.0)     RGBA{N0f8}(0.506,0.506,0.506,0.0)\n",
       " RGBA{N0f8}(0.506,0.506,0.506,0.0)     RGBA{N0f8}(0.506,0.506,0.506,0.0)\n",
       " RGBA{N0f8}(0.506,0.506,0.506,0.0)  …  RGBA{N0f8}(0.506,0.506,0.506,0.0)\n",
       " RGBA{N0f8}(0.506,0.506,0.506,0.0)     RGBA{N0f8}(0.506,0.506,0.506,0.0)\n",
       " RGBA{N0f8}(0.506,0.506,0.506,0.0)     RGBA{N0f8}(0.506,0.506,0.506,0.0)\n",
       " RGBA{N0f8}(0.506,0.506,0.506,0.0)     RGBA{N0f8}(0.506,0.506,0.506,0.0)\n",
       " RGBA{N0f8}(0.506,0.506,0.506,0.0)     RGBA{N0f8}(0.506,0.506,0.506,0.0)\n",
       " RGBA{N0f8}(0.506,0.506,0.506,0.0)  …  RGBA{N0f8}(0.506,0.506,0.506,0.0)\n",
       " RGBA{N0f8}(0.506,0.506,0.506,0.0)     RGBA{N0f8}(0.506,0.506,0.506,0.0)\n",
       " RGBA{N0f8}(0.506,0.506,0.506,0.0)     RGBA{N0f8}(0.506,0.506,0.506,0.0)\n",
       " ⋮                                  ⋱                                   \n",
       " RGBA{N0f8}(0.506,0.506,0.506,0.0)     RGBA{N0f8}(0.506,0.506,0.506,0.0)\n",
       " RGBA{N0f8}(0.506,0.506,0.506,0.0)     RGBA{N0f8}(0.506,0.506,0.506,0.0)\n",
       " RGBA{N0f8}(0.506,0.506,0.506,0.0)     RGBA{N0f8}(0.506,0.506,0.506,0.0)\n",
       " RGBA{N0f8}(0.506,0.506,0.506,0.0)     RGBA{N0f8}(0.506,0.506,0.506,0.0)\n",
       " RGBA{N0f8}(0.506,0.506,0.506,0.0)  …  RGBA{N0f8}(0.506,0.506,0.506,0.0)\n",
       " RGBA{N0f8}(0.506,0.506,0.506,0.0)     RGBA{N0f8}(0.506,0.506,0.506,0.0)\n",
       " RGBA{N0f8}(0.506,0.506,0.506,0.0)     RGBA{N0f8}(0.506,0.506,0.506,0.0)\n",
       " RGBA{N0f8}(0.506,0.506,0.506,0.0)     RGBA{N0f8}(0.506,0.506,0.506,0.0)\n",
       " RGBA{N0f8}(0.506,0.506,0.506,0.0)     RGBA{N0f8}(0.506,0.506,0.506,0.0)\n",
       " RGBA{N0f8}(0.506,0.506,0.506,0.0)  …  RGBA{N0f8}(0.506,0.506,0.506,0.0)\n",
       " RGBA{N0f8}(0.506,0.506,0.506,0.0)     RGBA{N0f8}(0.506,0.506,0.506,0.0)\n",
       " RGBA{N0f8}(0.506,0.506,0.506,0.0)     RGBA{N0f8}(0.506,0.506,0.506,0.0)"
      ]
     },
     "execution_count": 18,
     "metadata": {},
     "output_type": "execute_result"
    }
   ],
   "source": [
    "using Images\n",
    "using FileIO\n",
    "img = load(\"workerzy.png\")"
   ]
  },
  {
   "cell_type": "code",
   "execution_count": 17,
   "metadata": {
    "collapsed": false
   },
   "outputs": [
    {
     "name": "stderr",
     "output_type": "stream",
     "text": [
      "WARNING: Method definition pmap(Any, Any) in module Main at In[16]:2 overwritten at In[17]:2.\n"
     ]
    }
   ],
   "source": [
    "function pmap2(f, lst)\n",
    "    np = nprocs()  # ile procesów ?\n",
    "    n = length(lst)\n",
    "    results = Vector{Any}(n)\n",
    "    i = 1\n",
    "    # indeks nastepnego zadania do zrobienia\n",
    "    nextidx() = (idx=i; i+=1; idx)\n",
    "    @sync begin\n",
    "        for p=1:np\n",
    "            if p != myid() || np == 1\n",
    "                # tworzenie lokalnych tasków feed\n",
    "                # żaden nie zacznie działać dopóki wszystkie nie zostaną utworzone i task główny nie wyjdzie \n",
    "                # z pętli @sync, gdzie będzie czekał na ich zakończenie\n",
    "                @async begin\n",
    "                    while true\n",
    "                        idx = nextidx()\n",
    "                        if idx > n\n",
    "                            break\n",
    "                        end\n",
    "                        results[idx] = remotecall_fetch(f, p, lst[idx])\n",
    "                    end\n",
    "                end\n",
    "            end\n",
    "        end\n",
    "    end\n",
    "    results\n",
    "end\n",
    "#przykładowe użycie\n",
    "M = Matrix{Float64}[rand(800,800), rand(600,600), rand(800,800), rand(600,600)]\n",
    "pmap2(svd, M);"
   ]
  },
  {
   "cell_type": "markdown",
   "metadata": {},
   "source": [
    "## Tablice współdzielone\n",
    "- Pozwalają na współdzielenie jednej tablicy pomiędzy wieloma procesami wykonywanymi na jednej maszynie ze wspólną pamięcią.\n",
    "- Każdy z procesów ma dostęp do każdej części tablicy."
   ]
  },
  {
   "cell_type": "code",
   "execution_count": 47,
   "metadata": {
    "collapsed": false
   },
   "outputs": [
    {
     "data": {
      "text/plain": [
       "10×2 SharedArray{Float64,2}:\n",
       " 0.0  0.0\n",
       " 0.0  0.0\n",
       " 0.0  0.0\n",
       " 0.0  0.0\n",
       " 0.0  0.0\n",
       " 0.0  0.0\n",
       " 0.0  0.0\n",
       " 0.0  0.0\n",
       " 0.0  0.0\n",
       " 0.0  0.0"
      ]
     },
     "execution_count": 47,
     "metadata": {},
     "output_type": "execute_result"
    }
   ],
   "source": [
    "# utworzenie tablicy współdzielonej\n",
    "S=SharedArray(Float64, (10,2))"
   ]
  },
  {
   "cell_type": "code",
   "execution_count": 48,
   "metadata": {
    "collapsed": false
   },
   "outputs": [
    {
     "data": {
      "text/plain": [
       "10×2 Array{Float64,2}:\n",
       " 2.0  0.0\n",
       " 0.0  0.0\n",
       " 0.0  0.0\n",
       " 0.0  0.0\n",
       " 0.0  0.0\n",
       " 0.0  0.0\n",
       " 0.0  0.0\n",
       " 0.0  0.0\n",
       " 0.0  0.0\n",
       " 0.0  0.0"
      ]
     },
     "execution_count": 48,
     "metadata": {},
     "output_type": "execute_result"
    }
   ],
   "source": [
    "# worker 2 ustawia w tablicy S wartosc 2 w miejscu (1,1) \n",
    "remotecall_fetch(2,setindex!,S,2,1,1)"
   ]
  },
  {
   "cell_type": "code",
   "execution_count": 49,
   "metadata": {
    "collapsed": false
   },
   "outputs": [
    {
     "data": {
      "text/plain": [
       "10×2 SharedArray{Float64,2}:\n",
       " 2.0  0.0\n",
       " 0.0  0.0\n",
       " 0.0  0.0\n",
       " 0.0  0.0\n",
       " 0.0  0.0\n",
       " 0.0  0.0\n",
       " 0.0  0.0\n",
       " 0.0  0.0\n",
       " 0.0  0.0\n",
       " 0.0  0.0"
      ]
     },
     "execution_count": 49,
     "metadata": {},
     "output_type": "execute_result"
    }
   ],
   "source": [
    "# efekt widac w masterze\n",
    "S"
   ]
  },
  {
   "cell_type": "code",
   "execution_count": 51,
   "metadata": {
    "collapsed": false
   },
   "outputs": [
    {
     "data": {
      "text/plain": [
       "4-element Array{Int64,1}:\n",
       " 2\n",
       " 3\n",
       " 4\n",
       " 5"
      ]
     },
     "execution_count": 51,
     "metadata": {},
     "output_type": "execute_result"
    }
   ],
   "source": [
    "#Wector procesów uzywających  SharedArray\n",
    "procs(S)"
   ]
  },
  {
   "cell_type": "code",
   "execution_count": 53,
   "metadata": {
    "collapsed": false
   },
   "outputs": [
    {
     "data": {
      "text/plain": [
       "10x2 Array{Float64,2}:\n",
       " 2.0  0.0\n",
       " 0.0  0.0\n",
       " 0.0  0.0\n",
       " 0.0  0.0\n",
       " 0.0  0.0\n",
       " 0.0  0.0\n",
       " 0.0  0.0\n",
       " 0.0  0.0\n",
       " 0.0  0.0\n",
       " 0.0  0.0"
      ]
     },
     "execution_count": 53,
     "metadata": {},
     "output_type": "execute_result"
    }
   ],
   "source": [
    "# zwraca dane w SharedArray jako Array\n",
    "sdata(S)"
   ]
  },
  {
   "cell_type": "code",
   "execution_count": 81,
   "metadata": {
    "collapsed": false
   },
   "outputs": [
    {
     "data": {
      "text/plain": [
       "10×10 Array{Float64,2}:\n",
       " 1.0  0.0  1.0  0.0  1.0  0.0  1.0  0.0  1.0  0.0\n",
       " 0.0  0.0  0.0  0.0  0.0  0.0  0.0  0.0  0.0  0.0\n",
       " 0.0  1.0  0.0  1.0  0.0  1.0  0.0  1.0  0.0  1.0\n",
       " 0.0  0.0  0.0  0.0  0.0  0.0  0.0  0.0  0.0  0.0\n",
       " 1.0  0.0  1.0  0.0  1.0  0.0  1.0  0.0  1.0  0.0\n",
       " 0.0  0.0  0.0  0.0  0.0  0.0  0.0  0.0  0.0  0.0\n",
       " 0.0  1.0  0.0  1.0  0.0  1.0  0.0  1.0  0.0  1.0\n",
       " 0.0  0.0  0.0  0.0  0.0  0.0  0.0  0.0  0.0  0.0\n",
       " 1.0  0.0  1.0  0.0  1.0  0.0  1.0  0.0  1.0  0.0\n",
       " 0.0  0.0  0.0  0.0  0.0  0.0  0.0  0.0  0.0  0.0"
      ]
     },
     "execution_count": 81,
     "metadata": {},
     "output_type": "execute_result"
    }
   ],
   "source": [
    "# dygresja: wypelnianie tablicy co 4 elementy (idziemy po kolumnach)\n",
    "A=zeros(10,10)\n",
    "A[1:4:length(A)]=1\n",
    "A"
   ]
  },
  {
   "cell_type": "code",
   "execution_count": 85,
   "metadata": {
    "collapsed": false
   },
   "outputs": [
    {
     "name": "stdout",
     "output_type": "stream",
     "text": [
      "2\n",
      "3\n"
     ]
    }
   ],
   "source": [
    "# kazdy worker współdzielący tablice ma swój indeks (numerowane od 1..ilość workerów) \n",
    "idx = fetch(@spawnat 3 indexpids(S))\n",
    "idx |> println\n",
    "workers()[idx] |> println"
   ]
  },
  {
   "cell_type": "code",
   "execution_count": 42,
   "metadata": {
    "collapsed": false
   },
   "outputs": [
    {
     "data": {
      "text/plain": [
       "3×4 SharedArray{Int64,2}:\n",
       " 2  5  4  3\n",
       " 3  2  5  4\n",
       " 4  3  2  5"
      ]
     },
     "execution_count": 42,
     "metadata": {},
     "output_type": "execute_result"
    }
   ],
   "source": [
    "# wypeniamy współdzieloną tablicę - każdy worker cyklicznie wpisuje swój \n",
    "#identyfikator co tyle pól, ile jest workerów.\n",
    "\n",
    "S = SharedArray(Int, (3,4), init = S -> S[indexpids(S):length(procs(S)):length(S)] = myid())"
   ]
  },
  {
   "cell_type": "code",
   "execution_count": 43,
   "metadata": {
    "collapsed": false
   },
   "outputs": [
    {
     "data": {
      "text/plain": [
       "3×4 SharedArray{Int64,2}:\n",
       " 3  2  2  2\n",
       " 3  2  2  2\n",
       " 3  2  2  2"
      ]
     },
     "execution_count": 43,
     "metadata": {},
     "output_type": "execute_result"
    }
   ],
   "source": [
    "# każdy worker wypełnia  całą tablicę swoim identyfikatorem\n",
    "# wynik jest niedeterministyczny - zależy od kolejności w jakiej workerzy wypełniają tę tablicę \n",
    "@sync begin\n",
    "    for p in procs(S)\n",
    "        @async begin\n",
    "            remotecall_wait(fill!, p, S, p)\n",
    "        end\n",
    "    end\n",
    "end\n",
    "S"
   ]
  },
  {
   "cell_type": "code",
   "execution_count": 15,
   "metadata": {
    "collapsed": false
   },
   "outputs": [
    {
     "data": {
      "text/plain": [
       "5-element LinSpace{Float64}:\n",
       " 0.0,2.5,5.0,7.5,10.0"
      ]
     },
     "execution_count": 15,
     "metadata": {},
     "output_type": "execute_result"
    }
   ],
   "source": [
    "# pomocniczo: tworzy linspace 5-ciu równoodległych elementów od 0 do 10\n",
    "linspace(0,10,5)"
   ]
  },
  {
   "cell_type": "code",
   "execution_count": 19,
   "metadata": {
    "collapsed": false
   },
   "outputs": [
    {
     "data": {
      "text/plain": [
       "5"
      ]
     },
     "execution_count": 19,
     "metadata": {},
     "output_type": "execute_result"
    }
   ],
   "source": [
    "# pomocniczo: zaokrąglanie\n",
    "round(Int, 4.51)"
   ]
  },
  {
   "cell_type": "code",
   "execution_count": 14,
   "metadata": {
    "collapsed": false
   },
   "outputs": [
    {
     "data": {
      "text/plain": [
       "5-element Array{Int64,1}:\n",
       "  0\n",
       "  2\n",
       "  5\n",
       "  8\n",
       " 10"
      ]
     },
     "execution_count": 14,
     "metadata": {},
     "output_type": "execute_result"
    }
   ],
   "source": [
    " # pomocniczo: tworzy linspace 5-ciu równoodległych elementów od 0 do 10 i zaokrągla\n",
    "[round(Int, s) for s in linspace(0,10,5)]"
   ]
  },
  {
   "cell_type": "code",
   "execution_count": 9,
   "metadata": {
    "collapsed": false
   },
   "outputs": [
    {
     "name": "stderr",
     "output_type": "stream",
     "text": [
      "WARNING: Method definition myrange(Base.SharedArray) in module Main at In[2]:3 overwritten at In[9]:3.\n",
      "WARNING: Method definition advection_chunk!(Any, Any, Any, Any, Any) in module Main at In[2]:15 overwritten at In[9]:15.\n",
      "WARNING: Method definition advection_shared_chunk!(Any, Any) in module Main at In[2]:23 overwritten at In[9]:23.\n"
     ]
    }
   ],
   "source": [
    "# żeby mieć wpływ na to, który worker działa na którym elemencie tablicy \n",
    "# możemy stworzyć ręczny podział tablicy\n",
    "# każdy worker wylicza, który kawałek tablicy dostanie\n",
    "@everywhere function myrange(q::SharedArray)\n",
    "    idx = indexpids(q)\n",
    "    if idx == 0\n",
    "        # master nie dostaje kawałka \n",
    "        return 1:0, 1:0\n",
    "    end\n",
    "    # na ile mamy podzielić?\n",
    "    nchunks = length(procs(q))\n",
    "    \n",
    "    # wyliczamy granice podziałów\n",
    "    splits = [round(Int, s) for s in linspace(0,size(q,2),nchunks+1)]\n",
    "    # zwracamy granice podziałów w odpowiednim formacie\n",
    "    1:size(q,1), splits[idx]+1:splits[idx+1]\n",
    "end\n",
    "\n",
    "# kernel obliczeniowy \n",
    "@everywhere function advection_chunk!(q, u, irange, jrange, trange)\n",
    "    @show (irange, jrange, trange)  # wyświetlanie\n",
    "    for t in trange, j in jrange, i in irange\n",
    "        q[i,j,t+1] = q[i,j,t] +  u[i,j,t]\n",
    "    end\n",
    "    q\n",
    "end\n",
    "\n",
    "#  definiujemy obliczenie kernela z wyliczonym podziałem przez funkcje myrange()\n",
    "@everywhere advection_shared_chunk!(q, u) = advection_chunk!(q, u, myrange(q)..., 1:size(q,3)-1)\n"
   ]
  },
  {
   "cell_type": "code",
   "execution_count": null,
   "metadata": {
    "collapsed": true
   },
   "outputs": [],
   "source": [
    "# wersja 1: wywołanie funkcji wg wyliczonego podziału na wielu workerach.\n",
    "function advection_shared!(q, u)\n",
    "    @sync begin\n",
    "        for p in procs(q)\n",
    "            @async remotecall_wait(advection_shared_chunk!, p, q, u)\n",
    "        end\n",
    "    end\n",
    "    q\n",
    "end\n"
   ]
  },
  {
   "cell_type": "code",
   "execution_count": 10,
   "metadata": {
    "collapsed": false
   },
   "outputs": [
    {
     "name": "stderr",
     "output_type": "stream",
     "text": [
      "WARNING: Method definition advection_serial!(Any, Any) in module Main at In[3]:1 overwritten at In[10]:1.\n"
     ]
    },
    {
     "data": {
      "text/plain": [
       "advection_serial! (generic function with 1 method)"
      ]
     },
     "execution_count": 10,
     "metadata": {},
     "output_type": "execute_result"
    }
   ],
   "source": [
    "# wersja 2: sekwencyjne obliczanie\n",
    "advection_serial!(q, u) = advection_chunk!(q, u, 1:size(q,1), 1:size(q,2), 1:size(q,3)-1)\n"
   ]
  },
  {
   "cell_type": "code",
   "execution_count": 20,
   "metadata": {
    "collapsed": false
   },
   "outputs": [
    {
     "name": "stderr",
     "output_type": "stream",
     "text": [
      "WARNING: Method definition advection_parallel!(Any, Any) in module Main at In[11]:2 overwritten at In[20]:4.\n"
     ]
    },
    {
     "data": {
      "text/plain": [
       "advection_parallel! (generic function with 1 method)"
      ]
     },
     "execution_count": 20,
     "metadata": {},
     "output_type": "execute_result"
    }
   ],
   "source": [
    "#  wersja 3: nie korzysta z ręcznego podziału, tylko z makra @parallel działającego drobnoziarniście \n",
    "# wzdłuż drugiej współrzędnej\n",
    "function advection_parallel!(q, u)\n",
    "    for t = 1:size(q,3)-1\n",
    "        @sync @parallel for j = 1:size(q,2)\n",
    "            for i = 1:size(q,1)\n",
    "                q[i,j,t+1]= q[i,j,t] + u[i,j,t]\n",
    "            end\n",
    "        end\n",
    "    end\n",
    "    q\n",
    "end\n"
   ]
  },
  {
   "cell_type": "code",
   "execution_count": 10,
   "metadata": {
    "collapsed": false
   },
   "outputs": [
    {
     "data": {
      "image/png": "[encoded data removed]",
      "text/plain": [
       "554×888 Array{RGBA{N0f8},2}:\n",
       " RGBA{N0f8}(0.0,0.0,0.0,0.0)  …  RGBA{N0f8}(0.0,0.0,0.0,0.0)        \n",
       " RGBA{N0f8}(0.0,0.0,0.0,0.0)     RGBA{N0f8}(0.0,0.0,0.0,0.0)        \n",
       " RGBA{N0f8}(0.0,0.0,0.0,0.0)     RGBA{N0f8}(0.0,0.0,0.0,0.0)        \n",
       " RGBA{N0f8}(0.0,0.0,0.0,0.0)     RGBA{N0f8}(0.0,0.0,0.0,0.0)        \n",
       " RGBA{N0f8}(0.0,0.0,0.0,0.0)     RGBA{N0f8}(0.0,0.0,0.0,0.0)        \n",
       " RGBA{N0f8}(0.0,0.0,0.0,0.0)  …  RGBA{N0f8}(0.0,0.0,0.0,0.0)        \n",
       " RGBA{N0f8}(0.0,0.0,0.0,0.0)     RGBA{N0f8}(0.0,0.0,0.0,0.0)        \n",
       " RGBA{N0f8}(0.0,0.0,0.0,0.0)     RGBA{N0f8}(0.0,0.0,0.0,0.0)        \n",
       " RGBA{N0f8}(0.0,0.0,0.0,0.0)     RGBA{N0f8}(0.0,0.0,0.0,0.0)        \n",
       " RGBA{N0f8}(0.0,0.0,0.0,0.0)     RGBA{N0f8}(0.0,0.0,0.0,0.0)        \n",
       " RGBA{N0f8}(0.0,0.0,0.0,0.0)  …  RGBA{N0f8}(0.0,0.0,0.0,0.0)        \n",
       " RGBA{N0f8}(0.0,0.0,0.0,0.0)     RGBA{N0f8}(0.0,0.0,0.0,0.0)        \n",
       " RGBA{N0f8}(0.0,0.0,0.0,0.0)     RGBA{N0f8}(0.0,0.0,0.0,0.0)        \n",
       " ⋮                            ⋱                                     \n",
       " RGBA{N0f8}(0.0,0.0,0.0,0.0)     RGBA{N0f8}(0.467,0.576,0.235,1.0)  \n",
       " RGBA{N0f8}(0.0,0.0,0.0,0.0)     RGBA{N0f8}(0.467,0.576,0.235,1.0)  \n",
       " RGBA{N0f8}(0.0,0.0,0.0,0.0)     RGBA{N0f8}(0.467,0.576,0.235,1.0)  \n",
       " RGBA{N0f8}(0.0,0.0,0.0,0.0)  …  RGBA{N0f8}(0.467,0.576,0.235,1.0)  \n",
       " RGBA{N0f8}(0.0,0.0,0.0,0.0)     RGBA{N0f8}(0.467,0.584,0.231,0.188)\n",
       " RGBA{N0f8}(0.0,0.0,0.0,0.0)     RGBA{N0f8}(0.0,0.0,0.0,0.0)        \n",
       " RGBA{N0f8}(0.0,0.0,0.0,0.0)     RGBA{N0f8}(0.0,0.0,0.0,0.0)        \n",
       " RGBA{N0f8}(0.0,0.0,0.0,0.0)     RGBA{N0f8}(0.0,0.0,0.0,0.0)        \n",
       " RGBA{N0f8}(0.0,0.0,0.0,0.0)  …  RGBA{N0f8}(0.0,0.0,0.0,0.0)        \n",
       " RGBA{N0f8}(0.0,0.0,0.0,0.0)     RGBA{N0f8}(0.0,0.0,0.0,0.0)        \n",
       " RGBA{N0f8}(0.0,0.0,0.0,0.0)     RGBA{N0f8}(0.0,0.0,0.0,0.0)        \n",
       " RGBA{N0f8}(0.0,0.0,0.0,0.0)     RGBA{N0f8}(0.0,0.0,0.0,0.0)        "
      ]
     },
     "execution_count": 10,
     "metadata": {},
     "output_type": "execute_result"
    }
   ],
   "source": [
    "using Images\n",
    "using FileIO\n",
    "img = load(\"shared_arrays.png\")"
   ]
  },
  {
   "cell_type": "code",
   "execution_count": 29,
   "metadata": {
    "collapsed": false
   },
   "outputs": [
    {
     "name": "stdout",
     "output_type": "stream",
     "text": [
      "(irange,jrange,trange) = (1:200,1:200,1:199)\n",
      "\tFrom worker 2:\t(irange,jrange,trange) = (1:200,1:50,1:199)\n",
      "\tFrom worker 3:\t(irange,jrange,trange) = (1:200,51:100,1:199)\n",
      "\tFrom worker 5:\t(irange,jrange,trange) = (1:200,151:200,1:199)\n",
      "\tFrom worker 4:\t(irange,jrange,trange) = (1:200,101:150,1:199)\n"
     ]
    }
   ],
   "source": [
    "q = SharedArray(Float64, (200,200,200))\n",
    "u = SharedArray(Float64, (200,200,200))\n",
    "\n",
    "# Uruchamiamy do celów kompilacji\n",
    "advection_serial!(q, u)\n",
    "advection_parallel!(q, u)\n",
    "advection_shared!(q,u);\n",
    "\n"
   ]
  },
  {
   "cell_type": "code",
   "execution_count": 30,
   "metadata": {
    "collapsed": false
   },
   "outputs": [
    {
     "name": "stdout",
     "output_type": "stream",
     "text": [
      "(irange,jrange,trange) = (1:200,1:200,1:199)\n",
      "  0.056974 seconds (169 allocations: 8.828 KB)\n"
     ]
    }
   ],
   "source": [
    "@time advection_serial!(q, u);"
   ]
  },
  {
   "cell_type": "code",
   "execution_count": 31,
   "metadata": {
    "collapsed": false
   },
   "outputs": [
    {
     "name": "stdout",
     "output_type": "stream",
     "text": [
      " 46.443486 seconds (318.34 k allocations: 9.752 MB)\n"
     ]
    }
   ],
   "source": [
    "@time advection_parallel!(q, u);"
   ]
  },
  {
   "cell_type": "code",
   "execution_count": 28,
   "metadata": {
    "collapsed": false
   },
   "outputs": [
    {
     "name": "stdout",
     "output_type": "stream",
     "text": [
      "\tFrom worker 2:\t(irange,jrange,trange) = (1:100,1:25,1:99)\n",
      "\tFrom worker 4:\t(irange,jrange,trange) = (1:100,51:75,1:99)\n",
      "\tFrom worker 5:\t(irange,jrange,trange) = (1:100,76:100,1:99)\n",
      "\tFrom worker 3:\t(irange,jrange,trange) = (1:100,26:50,1:99)\n",
      "  0.015676 seconds (1.12 k allocations: 69.891 KB)\n"
     ]
    }
   ],
   "source": [
    "@time advection_shared!(q,u);"
   ]
  },
  {
   "cell_type": "markdown",
   "metadata": {},
   "source": [
    "### Menadżer klastra"
   ]
  },
  {
   "cell_type": "markdown",
   "metadata": {},
   "source": [
    "Uruchomienie, zarządzanie i łączenie procesów Julii w logiczny klaster odbywa się za pośrednictwem menedżerów klastrów. ClusterManager odpowiedzialny jest za\n",
    "\n",
    "- uruchamianie procesów roboczych (workerów)\n",
    "- zarządzanie zdarzeniami w trakcie życia workerów\n",
    "- transport danych (opcjonalnie)\n",
    "\n",
    "Klaster Julii ma następujące cechy:\n",
    "\n",
    "-   proces nadrzędny (master) ma identyfikator równy 1.\n",
    "-   tylko proces nadrzędny może dodawać lub usuwać workerów.\n",
    "-   wszystkie procesy mogą się komunikować ze sobą nawzajem.\n",
    "\n",
    "Połączenia między workerami (przy użyciu wbudowanego transportu TCP / IP) są ustalane w następujący sposób:\n",
    "\n",
    " - Addprocs() jest wywoływany w procesie nadrzędnym \n",
    " - Addprocs() wywołuje odpowiednią metodę launch(), która uruchamia wymaganą liczbę procesów roboczych na odpowiednich maszynach\n",
    " - Każdy worker zaczyna słuchać na wolnym porcie i wypisuje informacje o hostach i portach na STDOUT\n",
    " - Menedżer klastrów przechwytuje STDOUT workerów i udostępnia je do procesu nadrzędnego\n",
    " - Master  nawiązuje połączenia TCP / IP z każdym workerem\n",
    " - Każdy worker jest również informowany o innych workerach\n",
    " - Każdy worker łączy się ze wszystkimi workerami, których identyfikator jest mniejszy niż identyfikator danego workera\n",
    "    W ten sposób powstaje sieć powiązań, w której każdy worker jest bezpośrednio związany z każdym innym workerem\n",
    "\n",
    "\n",
    "\n",
    "Julia oferuje dwóch wbudowanych menedżerów klastrów:\n",
    "\n",
    "    - LocalManager  - do uruchamiania dodatkowych workerów na tym samym hoście, wykorzystując wiele rdzeni (Użycie addprocs() lub addprocs(np :: Integer))\n",
    "    - SSHManager -do uruchamiania dodatkowych workerów na zdalnych hotach dostępnych przez SSH,(użycie addprocs (hostnames :: Array) -  lista nazw hostów)\n",
    "\n"
   ]
  },
  {
   "cell_type": "markdown",
   "metadata": {},
   "source": [
    "### Sieć, TCP"
   ]
  },
  {
   "cell_type": "code",
   "execution_count": 1,
   "metadata": {
    "collapsed": false
   },
   "outputs": [
    {
     "data": {
      "text/plain": [
       "Task (runnable) @0x00007ff911b26e60"
      ]
     },
     "execution_count": 1,
     "metadata": {},
     "output_type": "execute_result"
    }
   ],
   "source": [
    "# prosty serwer TCP \n",
    "@async begin\n",
    "            server = listen(2000)\n",
    "             while true\n",
    "               sock = accept(server)\n",
    "               println(\"Cześć tutaj serwer\")\n",
    "             end\n",
    "       end"
   ]
  },
  {
   "cell_type": "code",
   "execution_count": 2,
   "metadata": {
    "collapsed": false
   },
   "outputs": [
    {
     "name": "stdout",
     "output_type": "stream",
     "text": [
      "Cześć tutaj serwer\n"
     ]
    },
    {
     "data": {
      "text/plain": [
       "TCPSocket(open, 0 bytes waiting)"
      ]
     },
     "execution_count": 2,
     "metadata": {},
     "output_type": "execute_result"
    }
   ],
   "source": [
    "client1=connect(2000)"
   ]
  },
  {
   "cell_type": "code",
   "execution_count": 3,
   "metadata": {
    "collapsed": true
   },
   "outputs": [],
   "source": [
    "close(client1)"
   ]
  },
  {
   "cell_type": "code",
   "execution_count": 4,
   "metadata": {
    "collapsed": false
   },
   "outputs": [
    {
     "data": {
      "text/plain": [
       "Task (runnable) @0x00007ff912c80eb0"
      ]
     },
     "execution_count": 4,
     "metadata": {},
     "output_type": "execute_result"
    }
   ],
   "source": [
    "# Przełączenie się między obsługą wielu połączeń\n",
    "@async begin\n",
    "         server = listen(2001)\n",
    "         while true\n",
    "           sock = accept(server)\n",
    "           @async while isopen(sock)\n",
    "             write(sock,readline(sock))\n",
    "           end\n",
    "         end\n",
    "       end"
   ]
  },
  {
   "cell_type": "code",
   "execution_count": 5,
   "metadata": {
    "collapsed": false
   },
   "outputs": [
    {
     "data": {
      "text/plain": [
       "TCPSocket(open, 0 bytes waiting)"
      ]
     },
     "execution_count": 5,
     "metadata": {},
     "output_type": "execute_result"
    }
   ],
   "source": [
    "clientside = connect(\"localhost\",2001)"
   ]
  },
  {
   "cell_type": "code",
   "execution_count": 6,
   "metadata": {
    "collapsed": false
   },
   "outputs": [
    {
     "data": {
      "text/plain": [
       "Task (runnable) @0x00007ff912c909d0"
      ]
     },
     "execution_count": 6,
     "metadata": {},
     "output_type": "execute_result"
    }
   ],
   "source": [
    "# task zczytujący odpowiedzi z serwera, jeśli ich nie ma, zostaje wywłaszczony\n",
    "@async while true\n",
    "          write(STDOUT,readline(clientside))\n",
    "       end"
   ]
  },
  {
   "cell_type": "code",
   "execution_count": 7,
   "metadata": {
    "collapsed": false
   },
   "outputs": [
    {
     "name": "stdout",
     "output_type": "stream",
     "text": [
      "Hello World from the Echo Server3\n"
     ]
    }
   ],
   "source": [
    "println(clientside,\"Hello World from the Echo Server3\")"
   ]
  },
  {
   "cell_type": "code",
   "execution_count": 9,
   "metadata": {
    "collapsed": false
   },
   "outputs": [],
   "source": [
    "close(clientside)"
   ]
  },
  {
   "cell_type": "code",
   "execution_count": 10,
   "metadata": {
    "collapsed": false
   },
   "outputs": [
    {
     "data": {
      "text/plain": [
       "TCPSocket(closed, 0 bytes waiting)"
      ]
     },
     "execution_count": 10,
     "metadata": {},
     "output_type": "execute_result"
    }
   ],
   "source": [
    "clientside"
   ]
  },
  {
   "cell_type": "markdown",
   "metadata": {
    "collapsed": true
   },
   "source": [
    "## Tablice rozproszone\n",
    "- Każdy proces ma dostęp do swojej części tablicy.\n",
    "- Pozwalają na wykorzystanie pamięci wielu węzłów.\n",
    "- przydatne w środowisku rozproszonym, gdzie węzły nie mają pamięci wspólnej\n",
    "```julia\n",
    "Pkg.add(\"DistributedArrays\")\n",
    "```"
   ]
  },
  {
   "cell_type": "code",
   "execution_count": 34,
   "metadata": {
    "collapsed": false
   },
   "outputs": [
    {
     "data": {
      "text/plain": [
       "5×5×5 DistributedArrays.DArray{Tuple{Int64,Int64,Int64},3,Array{Tuple{Int64,Int64,Int64},3}}:\n",
       "[:, :, 1] =\n",
       " (1,1,1)  (1,2,1)  (1,3,1)  (1,4,1)  (1,5,1)\n",
       " (2,1,1)  (2,2,1)  (2,3,1)  (2,4,1)  (2,5,1)\n",
       " (3,1,1)  (3,2,1)  (3,3,1)  (3,4,1)  (3,5,1)\n",
       " (4,1,1)  (4,2,1)  (4,3,1)  (4,4,1)  (4,5,1)\n",
       " (5,1,1)  (5,2,1)  (5,3,1)  (5,4,1)  (5,5,1)\n",
       "\n",
       "[:, :, 2] =\n",
       " (1,1,2)  (1,2,2)  (1,3,2)  (1,4,2)  (1,5,2)\n",
       " (2,1,2)  (2,2,2)  (2,3,2)  (2,4,2)  (2,5,2)\n",
       " (3,1,2)  (3,2,2)  (3,3,2)  (3,4,2)  (3,5,2)\n",
       " (4,1,2)  (4,2,2)  (4,3,2)  (4,4,2)  (4,5,2)\n",
       " (5,1,2)  (5,2,2)  (5,3,2)  (5,4,2)  (5,5,2)\n",
       "\n",
       "[:, :, 3] =\n",
       " (1,1,3)  (1,2,3)  (1,3,3)  (1,4,3)  (1,5,3)\n",
       " (2,1,3)  (2,2,3)  (2,3,3)  (2,4,3)  (2,5,3)\n",
       " (3,1,3)  (3,2,3)  (3,3,3)  (3,4,3)  (3,5,3)\n",
       " (4,1,3)  (4,2,3)  (4,3,3)  (4,4,3)  (4,5,3)\n",
       " (5,1,3)  (5,2,3)  (5,3,3)  (5,4,3)  (5,5,3)\n",
       "\n",
       "[:, :, 4] =\n",
       " (1,1,4)  (1,2,4)  (1,3,4)  (1,4,4)  (1,5,4)\n",
       " (2,1,4)  (2,2,4)  (2,3,4)  (2,4,4)  (2,5,4)\n",
       " (3,1,4)  (3,2,4)  (3,3,4)  (3,4,4)  (3,5,4)\n",
       " (4,1,4)  (4,2,4)  (4,3,4)  (4,4,4)  (4,5,4)\n",
       " (5,1,4)  (5,2,4)  (5,3,4)  (5,4,4)  (5,5,4)\n",
       "\n",
       "[:, :, 5] =\n",
       " (1,1,5)  (1,2,5)  (1,3,5)  (1,4,5)  (1,5,5)\n",
       " (2,1,5)  (2,2,5)  (2,3,5)  (2,4,5)  (2,5,5)\n",
       " (3,1,5)  (3,2,5)  (3,3,5)  (3,4,5)  (3,5,5)\n",
       " (4,1,5)  (4,2,5)  (4,3,5)  (4,4,5)  (4,5,5)\n",
       " (5,1,5)  (5,2,5)  (5,3,5)  (5,4,5)  (5,5,5)"
      ]
     },
     "execution_count": 34,
     "metadata": {},
     "output_type": "execute_result"
    }
   ],
   "source": [
    "@everywhere using DistributedArrays\n",
    "DA = @DArray [(i,j,k) for i = 1:5, j = 1:5, k=1:5]\n"
   ]
  },
  {
   "cell_type": "code",
   "execution_count": 26,
   "metadata": {
    "collapsed": false
   },
   "outputs": [
    {
     "name": "stdout",
     "output_type": "stream",
     "text": [
      "(1:5,1:3,1:3)\n",
      "(1:5,4:5,1:3)\n",
      "(1:5,1:3,4:5)\n",
      "(1:5,4:5,4:5)\n"
     ]
    }
   ],
   "source": [
    "# localindexes - jaki zakres indeksów obejmuje dany worker\n",
    "refs = [remotecall(localindexes,w,DA) for w in workers()]\n",
    "for r in refs\n",
    "     d = fetch(r)\n",
    "     println(d)\n",
    "end"
   ]
  },
  {
   "cell_type": "code",
   "execution_count": 40,
   "metadata": {
    "collapsed": false
   },
   "outputs": [
    {
     "name": "stdout",
     "output_type": "stream",
     "text": [
      "----------\n",
      "Tuple{Int64,Int64,Int64}[(1,1,1) (1,2,1) (1,3,1); (2,1,1) (2,2,1) (2,3,1); (3,1,1) (3,2,1) (3,3,1); (4,1,1) (4,2,1) (4,3,1); (5,1,1) (5,2,1) (5,3,1)]\n",
      "\n",
      "Tuple{Int64,Int64,Int64}[(1,1,2) (1,2,2) (1,3,2); (2,1,2) (2,2,2) (2,3,2); (3,1,2) (3,2,2) (3,3,2); (4,1,2) (4,2,2) (4,3,2); (5,1,2) (5,2,2) (5,3,2)]\n",
      "\n",
      "Tuple{Int64,Int64,Int64}[(1,1,3) (1,2,3) (1,3,3); (2,1,3) (2,2,3) (2,3,3); (3,1,3) (3,2,3) (3,3,3); (4,1,3) (4,2,3) (4,3,3); (5,1,3) (5,2,3) (5,3,3)]\n",
      "----------\n",
      "Tuple{Int64,Int64,Int64}[(1,4,1) (1,5,1); (2,4,1) (2,5,1); (3,4,1) (3,5,1); (4,4,1) (4,5,1); (5,4,1) (5,5,1)]\n",
      "\n",
      "Tuple{Int64,Int64,Int64}[(1,4,2) (1,5,2); (2,4,2) (2,5,2); (3,4,2) (3,5,2); (4,4,2) (4,5,2); (5,4,2) (5,5,2)]\n",
      "\n",
      "Tuple{Int64,Int64,Int64}[(1,4,3) (1,5,3); (2,4,3) (2,5,3); (3,4,3) (3,5,3); (4,4,3) (4,5,3); (5,4,3) (5,5,3)]\n",
      "----------\n",
      "Tuple{Int64,Int64,Int64}[(1,1,4) (1,2,4) (1,3,4); (2,1,4) (2,2,4) (2,3,4); (3,1,4) (3,2,4) (3,3,4); (4,1,4) (4,2,4) (4,3,4); (5,1,4) (5,2,4) (5,3,4)]\n",
      "\n",
      "Tuple{Int64,Int64,Int64}[(1,1,5) (1,2,5) (1,3,5); (2,1,5) (2,2,5) (2,3,5); (3,1,5) (3,2,5) (3,3,5); (4,1,5) (4,2,5) (4,3,5); (5,1,5) (5,2,5) (5,3,5)]\n",
      "----------\n",
      "Tuple{Int64,Int64,Int64}[(1,4,4) (1,5,4); (2,4,4) (2,5,4); (3,4,4) (3,5,4); (4,4,4) (4,5,4); (5,4,4) (5,5,4)]\n",
      "\n",
      "Tuple{Int64,Int64,Int64}[(1,4,5) (1,5,5); (2,4,5) (2,5,5); (3,4,5) (3,5,5); (4,4,5) (4,5,5); (5,4,5) (5,5,5)]\n"
     ]
    }
   ],
   "source": [
    "# localpart - część tablicy przyporządkowana danemu workerowi\n",
    "refs = [remotecall(w,localpart,DA) for w in workers()]\n",
    "for r in refs\n",
    "     d = fetch(r)\n",
    "     print(\"----------\\n\")\n",
    "     println(d)\n",
    "end"
   ]
  },
  {
   "cell_type": "markdown",
   "metadata": {},
   "source": [
    "### zbiór Julii"
   ]
  },
  {
   "cell_type": "code",
   "execution_count": 13,
   "metadata": {
    "collapsed": false,
    "scrolled": true
   },
   "outputs": [
    {
     "name": "stdout",
     "output_type": "stream",
     "text": [
      "-1"
     ]
    },
    {
     "name": "stderr",
     "output_type": "stream",
     "text": [
      "WARNING: Method definition generate_julia(Any) in module Main at In[12]:5 overwritten at In[13]:5.\n",
      "WARNING: Method definition #generate_julia(Array{Any, 1}, Main.#generate_julia, Any) in module Main overwritten.\n",
      "WARNING: Method definition calc_julia!(Any, Any, Any) in module Main at In[12]:15 overwritten at In[13]:15.\n",
      "WARNING: Method definition #calc_julia!(Array{Any, 1}, Main.#calc_julia!, Any, Any, Any) in module Main overwritten.\n",
      "WARNING: Method definition calc_julia_main(Any, Any) in module Main at In[12]:25 overwritten at In[13]:25.\n"
     ]
    },
    {
     "name": "stdout",
     "output_type": "stream",
     "text": [
      ".8019009504752377-0.8999499749874937\n",
      "  2.380860 seconds (12.02 M allocations: 671.993 MB, 8.27% gc time)\n"
     ]
    },
    {
     "data": {
      "text/html": [
       "<?xml version=\"1.0\" encoding=\"utf-8\"?>\n",
       "<svg xmlns=\"http://www.w3.org/2000/svg\" xmlns:xlink=\"http://www.w3.org/1999/xlink\" width=\"600\" height=\"400\" viewBox=\"0 0 600 400\">\n",
       "<defs>\n",
       "  <clipPath id=\"clip00\">\n",
       "    <rect x=\"0\" y=\"0\" width=\"600\" height=\"400\"/>\n",
       "  </clipPath>\n",
       "</defs>\n",
       "<polygon clip-path=\"url(#clip00)\" points=\"\n",
       "0,400 600,400 600,0 0,0 \n",
       "  \" fill=\"#ffffff\" fill-opacity=\"1\"/>\n",
       "<defs>\n",
       "  <clipPath id=\"clip01\">\n",
       "    <rect x=\"120\" y=\"0\" width=\"421\" height=\"400\"/>\n",
       "  </clipPath>\n",
       "</defs>\n",
       "<polygon clip-path=\"url(#clip00)\" points=\"\n",
       "39.4926,384.952 596.063,384.952 596.063,3.93701 39.4926,3.93701 \n",
       "  \" fill=\"#ffffff\" fill-opacity=\"1\"/>\n",
       "<defs>\n",
       "  <clipPath id=\"clip02\">\n",
       "    <rect x=\"39\" y=\"3\" width=\"497\" height=\"382\"/>\n",
       "  </clipPath>\n",
       "</defs>\n",
       "<polyline clip-path=\"url(#clip02)\" style=\"stroke:#00002d; stroke-width:0.8; stroke-opacity:0.5; fill:none\" stroke-dasharray=\"1, 2\" points=\"\n",
       "  39.4926,379.237 39.4926,9.65223 \n",
       "  \"/>\n",
       "<polyline clip-path=\"url(#clip02)\" style=\"stroke:#00002d; stroke-width:0.8; stroke-opacity:0.5; fill:none\" stroke-dasharray=\"1, 2\" points=\"\n",
       "  163.635,379.237 163.635,9.65223 \n",
       "  \"/>\n",
       "<polyline clip-path=\"url(#clip02)\" style=\"stroke:#00002d; stroke-width:0.8; stroke-opacity:0.5; fill:none\" stroke-dasharray=\"1, 2\" points=\"\n",
       "  287.778,379.237 287.778,9.65223 \n",
       "  \"/>\n",
       "<polyline clip-path=\"url(#clip02)\" style=\"stroke:#00002d; stroke-width:0.8; stroke-opacity:0.5; fill:none\" stroke-dasharray=\"1, 2\" points=\"\n",
       "  411.92,379.237 411.92,9.65223 \n",
       "  \"/>\n",
       "<polyline clip-path=\"url(#clip02)\" style=\"stroke:#00002d; stroke-width:0.8; stroke-opacity:0.5; fill:none\" stroke-dasharray=\"1, 2\" points=\"\n",
       "  536.063,379.237 536.063,9.65223 \n",
       "  \"/>\n",
       "<polyline clip-path=\"url(#clip02)\" style=\"stroke:#00002d; stroke-width:0.8; stroke-opacity:0.5; fill:none\" stroke-dasharray=\"1, 2\" points=\"\n",
       "  46.9411,384.952 528.614,384.952 \n",
       "  \"/>\n",
       "<polyline clip-path=\"url(#clip02)\" style=\"stroke:#00002d; stroke-width:0.8; stroke-opacity:0.5; fill:none\" stroke-dasharray=\"1, 2\" points=\"\n",
       "  46.9411,289.698 528.614,289.698 \n",
       "  \"/>\n",
       "<polyline clip-path=\"url(#clip02)\" style=\"stroke:#00002d; stroke-width:0.8; stroke-opacity:0.5; fill:none\" stroke-dasharray=\"1, 2\" points=\"\n",
       "  46.9411,194.444 528.614,194.444 \n",
       "  \"/>\n",
       "<polyline clip-path=\"url(#clip02)\" style=\"stroke:#00002d; stroke-width:0.8; stroke-opacity:0.5; fill:none\" stroke-dasharray=\"1, 2\" points=\"\n",
       "  46.9411,99.1907 528.614,99.1907 \n",
       "  \"/>\n",
       "<polyline clip-path=\"url(#clip02)\" style=\"stroke:#00002d; stroke-width:0.8; stroke-opacity:0.5; fill:none\" stroke-dasharray=\"1, 2\" points=\"\n",
       "  46.9411,3.93701 528.614,3.93701 \n",
       "  \"/>\n",
       "<polyline clip-path=\"url(#clip02)\" style=\"stroke:#00002d; stroke-width:0.8; stroke-opacity:1; fill:none\" points=\"\n",
       "  39.4926,384.952 536.063,384.952 \n",
       "  \"/>\n",
       "<polyline clip-path=\"url(#clip02)\" style=\"stroke:#00002d; stroke-width:0.8; stroke-opacity:1; fill:none\" points=\"\n",
       "  39.4926,384.952 39.4926,379.237 \n",
       "  \"/>\n",
       "<polyline clip-path=\"url(#clip02)\" style=\"stroke:#00002d; stroke-width:0.8; stroke-opacity:1; fill:none\" points=\"\n",
       "  163.635,384.952 163.635,379.237 \n",
       "  \"/>\n",
       "<polyline clip-path=\"url(#clip02)\" style=\"stroke:#00002d; stroke-width:0.8; stroke-opacity:1; fill:none\" points=\"\n",
       "  287.778,384.952 287.778,379.237 \n",
       "  \"/>\n",
       "<polyline clip-path=\"url(#clip02)\" style=\"stroke:#00002d; stroke-width:0.8; stroke-opacity:1; fill:none\" points=\"\n",
       "  411.92,384.952 411.92,379.237 \n",
       "  \"/>\n",
       "<polyline clip-path=\"url(#clip02)\" style=\"stroke:#00002d; stroke-width:0.8; stroke-opacity:1; fill:none\" points=\"\n",
       "  536.063,384.952 536.063,379.237 \n",
       "  \"/>\n",
       "<polyline clip-path=\"url(#clip02)\" style=\"stroke:#00002d; stroke-width:0.8; stroke-opacity:1; fill:none\" points=\"\n",
       "  39.4926,384.952 39.4926,3.93701 \n",
       "  \"/>\n",
       "<polyline clip-path=\"url(#clip02)\" style=\"stroke:#00002d; stroke-width:0.8; stroke-opacity:1; fill:none\" points=\"\n",
       "  39.4926,384.952 46.9411,384.952 \n",
       "  \"/>\n",
       "<polyline clip-path=\"url(#clip02)\" style=\"stroke:#00002d; stroke-width:0.8; stroke-opacity:1; fill:none\" points=\"\n",
       "  39.4926,289.698 46.9411,289.698 \n",
       "  \"/>\n",
       "<polyline clip-path=\"url(#clip02)\" style=\"stroke:#00002d; stroke-width:0.8; stroke-opacity:1; fill:none\" points=\"\n",
       "  39.4926,194.444 46.9411,194.444 \n",
       "  \"/>\n",
       "<polyline clip-path=\"url(#clip02)\" style=\"stroke:#00002d; stroke-width:0.8; stroke-opacity:1; fill:none\" points=\"\n",
       "  39.4926,99.1907 46.9411,99.1907 \n",
       "  \"/>\n",
       "<polyline clip-path=\"url(#clip02)\" style=\"stroke:#00002d; stroke-width:0.8; stroke-opacity:1; fill:none\" points=\"\n",
       "  39.4926,3.93701 46.9411,3.93701 \n",
       "  \"/>\n",
       "<g clip-path=\"url(#clip00)\">\n",
       "<text style=\"fill:#00002d; fill-opacity:1; font-family:Arial,Helvetica Neue,Helvetica,sans-serif; font-size:12; text-anchor:middle;\" transform=\"rotate(0, 39.4926, 396.952)\" x=\"39.4926\" y=\"396.952\">-2</text>\n",
       "</g>\n",
       "<g clip-path=\"url(#clip00)\">\n",
       "<text style=\"fill:#00002d; fill-opacity:1; font-family:Arial,Helvetica Neue,Helvetica,sans-serif; font-size:12; text-anchor:middle;\" transform=\"rotate(0, 163.635, 396.952)\" x=\"163.635\" y=\"396.952\">-1</text>\n",
       "</g>\n",
       "<g clip-path=\"url(#clip00)\">\n",
       "<text style=\"fill:#00002d; fill-opacity:1; font-family:Arial,Helvetica Neue,Helvetica,sans-serif; font-size:12; text-anchor:middle;\" transform=\"rotate(0, 287.778, 396.952)\" x=\"287.778\" y=\"396.952\">0</text>\n",
       "</g>\n",
       "<g clip-path=\"url(#clip00)\">\n",
       "<text style=\"fill:#00002d; fill-opacity:1; font-family:Arial,Helvetica Neue,Helvetica,sans-serif; font-size:12; text-anchor:middle;\" transform=\"rotate(0, 411.92, 396.952)\" x=\"411.92\" y=\"396.952\">1</text>\n",
       "</g>\n",
       "<g clip-path=\"url(#clip00)\">\n",
       "<text style=\"fill:#00002d; fill-opacity:1; font-family:Arial,Helvetica Neue,Helvetica,sans-serif; font-size:12; text-anchor:middle;\" transform=\"rotate(0, 536.063, 396.952)\" x=\"536.063\" y=\"396.952\">2</text>\n",
       "</g>\n",
       "<g clip-path=\"url(#clip00)\">\n",
       "<text style=\"fill:#00002d; fill-opacity:1; font-family:Arial,Helvetica Neue,Helvetica,sans-serif; font-size:12; text-anchor:end;\" transform=\"rotate(0, 38.2926, 389.452)\" x=\"38.2926\" y=\"389.452\">-1.0</text>\n",
       "</g>\n",
       "<g clip-path=\"url(#clip00)\">\n",
       "<text style=\"fill:#00002d; fill-opacity:1; font-family:Arial,Helvetica Neue,Helvetica,sans-serif; font-size:12; text-anchor:end;\" transform=\"rotate(0, 38.2926, 294.198)\" x=\"38.2926\" y=\"294.198\">-0.5</text>\n",
       "</g>\n",
       "<g clip-path=\"url(#clip00)\">\n",
       "<text style=\"fill:#00002d; fill-opacity:1; font-family:Arial,Helvetica Neue,Helvetica,sans-serif; font-size:12; text-anchor:end;\" transform=\"rotate(0, 38.2926, 198.944)\" x=\"38.2926\" y=\"198.944\">0.0</text>\n",
       "</g>\n",
       "<g clip-path=\"url(#clip00)\">\n",
       "<text style=\"fill:#00002d; fill-opacity:1; font-family:Arial,Helvetica Neue,Helvetica,sans-serif; font-size:12; text-anchor:end;\" transform=\"rotate(0, 38.2926, 103.691)\" x=\"38.2926\" y=\"103.691\">0.5</text>\n",
       "</g>\n",
       "<g clip-path=\"url(#clip00)\">\n",
       "<text style=\"fill:#00002d; fill-opacity:1; font-family:Arial,Helvetica Neue,Helvetica,sans-serif; font-size:12; text-anchor:end;\" transform=\"rotate(0, 38.2926, 8.43701)\" x=\"38.2926\" y=\"8.43701\">1.0</text>\n",
       "</g>\n",
       "<g clip-path=\"url(#clip02)\">\n",
       "<image width=\"496\" height=\"381\" xlink:href=\"data:;base64,\n",
       "iVBORw0KGgoAAAANSUhEUgAAAfAAAAF9CAYAAAD7gjrgAAAgAElEQVR4nOy9eZAk2X2Y972XR1V2\n",
       "Vd/n9NzHzs6xO7s7WOyBxbU4FgAlEjxAmZJohk2ZIcti2AyGHTaDjiBF26E/ZFmUGQpZoi0aETBF\n",
       "EjxFkABIgCCwu1jsid3Z3bl27qOn77u6rsz3/Ed2ZldVV3VXd1d3V828b6Kjp6sqM19ldteX773f\n",
       "7/cE2BqDwWAwGAwthb3bDTAYmhUh5G43wbCM1mq3m2AwNB1G4Ib7BiPc+5dGX1tzQ2C4HzACNzQN\n",
       "RsCGnWKrv2vmBsDQDBiBG7YFI2PD/cxmfr+N9A2NxgjcsCZGxAZDY9js35IRv6EWRuAPKEbMBkNr\n",
       "UO/fqhH9g4cR+H2IkbPB8OBRz9+9kfz9hRF4i2HkbDAYNouR/P2FEXiTYMRsMBiaATNk3zoYge8g\n",
       "RtIGg+F+Ya3PMyP3ncEIvMEYSRsMhgcdI/edwQh8ExhJGwwGw+Ywcm8cRuBVMII2GAyGnWe9z14j\n",
       "+HIeWIEbSRsMBkNrUetz+0EV+wMhcCNrg8FguH95UMV+XwnciNpgMBgMEfe72FtO4EbSBoPBYNgK\n",
       "90sgXVML3MjaYDAYDDtJNe80q9SbQuBG1AaDwWBoVpp1KH7HBW5kbTAYDIb7gd3urW+bwI2oDQaD\n",
       "wfCgsZO99YYJ3AjbYDAYDIbqVDqyEULflMCNrA0Gg8Fg2DyNGH5fV+BG1gaDwWAwbD8blXqZwI2s\n",
       "DQaDwWBoHtaSum2kbTAYDAZD6xB529jbYDAYDIYWxAjcYDAYDIYWxAjcYDAYDIYWxAjcYDAYDIYW\n",
       "xAjcYDAYDIYWxAjcYDAYDIYWxAjcYDAYDIYWpCmWEzUYDK3A/Xq/35xrPRsM62EEbjA8ENyv8m0E\n",
       "Wz035gbAsDsYgRsMLYuRcnOw0etghG9oDEbgBkPTYIT8YLCR62xkb6iNEbjBsGMYQRs2ynq/M0bw\n",
       "DzJG4AZDQzGSNuwktX7fjNgfBIzADYZNYURtaGbW+v00cr9fMAI3GKpiBG24XzFyv18wAjcYjKwN\n",
       "hmWq/S0YqTcrRuCGBwwja4NhYxipNytG4Ib7GCPrZkYIa7ebUIbWwW43oYUwUm8GjMAN9wFG1M1A\n",
       "swl5o2yk/Ub21TBS32mMwA0tiBH2btLqom4Ea50DI/dSjNS3EyNwQ5NjZL1b7JaoRYOvud5hYVQ7\n",
       "b0bqpVReXyP0zSKEcPVuN8JgWMEIezfYDVmvL+qwTUJItF7rQ35zctxpsa86vpF6DYzQ68UI3LCL\n",
       "GFnvBs0pa4iEDaG0waLPO8Fj+hEuiqu4eNwu/JBB9wR3sz8EgjXE3npSN0KvhRF6LYzADTuMkfZO\n",
       "0/xD4eXtC+UdPm5Jl6TdjSOSHOY0F9QrKFUg0EUCVVh+Xbn4yqW+eSmaHnqzYoQeYebADduMEfZu\n",
       "sJuBZhubw64m71DcbXYfAL4u8BsHzvJndyzS9iAQyq2gMnw++QneLYzyQeFltA5QOih57wG6rHuy\n",
       "MSGWvo/dkHnlNTRCjyj9/XqwZW4JYf36bjfCcL8hAbH8ZdgphLAQQpb0YHf4+EjEhq55rZ63RAoL\n",
       "pYsgJMPWSV6dXyKvFf/sSB+pwiG84gAWnfzsfs3YQhe39Aj73MfodvbzscRHuKFuoNGAQggBaMLf\n",
       "y+hrYwOPYvnfRrdrJNG1Dc+TGTgNESVfD945MUPohgZgetm7QTOkc20uYryWuFeek8LClkkcK43S\n",
       "AQmZwpVpjqvj3JVj+BTwKVDQWQoqgyLsfUthIbF4IfFxvl14hdn8TUp73o2cM9/tIfYI0zOvRXNc\n",
       "n+3ECNywCYywd4tmkDZsJdVrLXmvPC+FFb9XWybpcQ6RVXMEuoglHDzZiYuHWhbvePFyLDKFQusg\n",
       "HlIPWWuevBr1S7FZRA5G5rVpnmvUSIzADXVipL1bNIu0Ixoh72riliJKGyv/LpePJ6UbvlK4uDKF\n",
       "1gF5lUETxMIGCHQRWJGZKpPaRkW+eptaGJG3Cs1znbaKEbhhDYy0d5P7R9xQXd4r0rZlkhP2x5iS\n",
       "Y8wHYxR1tkxCUrjYwkUIC0ckeZzHWNRFzuvXUQRILNJWHzYu48XLscSBKr3xiHqG1itZX4xG5K1E\n",
       "81yrzWAEbijBCHu3aTZpQ+PFnXT6OGJ9iCe9ft7ITgCwl26y2ue6vMGPtJ3gq4vfp6hzK3sRLknZ\n",
       "Qafuw8FhTkyRJwtAAo8iBTp1H9OMEOgwzcyWSbrEEAtMI7GYLdxAoZBI9riPMKNG6JbD3M69sSz3\n",
       "1bLbylB7M4kcjMzXp7muVz0YgT/wGGnvNs0o7YhGyRtWUsQALOnS7uxBCAtLuHzMepz3/HtMcptA\n",
       "F5FIXJkm0AX+QceTfGX+VSThvHgCj6PqMHfFBEoEJHQCgLzIowg4rPZzU45QIMuSDufNtQ7innrC\n",
       "6qBT9wMwoW+QD+bwVa4krzxiDTmvEnv11zabxMGIvD6a77pVwwj8gcWIe7dpZnFD4wLVoHakeXQO\n",
       "LOGEj5XMc1vC5e96H+Xt3AQP2X28EVxCYmHj4uk2Hkv0cyW3yDOdaW4tadptwaXsInmKnE118+LS\n",
       "HRxsTjuDvF8c4yd6B/m/pl6Lh9cDHQr7sHiMy/7Lseirngth1RiGB10yXG9Efj/SfNcuwgj8gcJI\n",
       "uxl4kMQN1QLWVl4bSVwsp42Jkscl4WOWcHFwsXE5rg+Rtm1GihkS2HRaLgdSkmf65/nuWAe5AKby\n",
       "AffUPL7wSWiXcXmPPOGceqALKFT4XQeoZYmHPfSVD2pLOHzK/TyvBK9S1Dk+JJ7jTf0ygS7wE22f\n",
       "x7MhF8Dvz//Rcs+9tKxr6wyrgxF5/TTftTMCv+8x0m4Gml3aEY3I6y7bX82iMiWili6e1c1xcZZR\n",
       "eZd96gALIoOnk4zKuwypvUzKCSQWUlsM6l6KBHz9F77Dj//2Z7Gx6HVtjrXDi1M5Pj/o8nvj0xQp\n",
       "8k+Ge/mte6MMqH6y5HGw6RJJLosbzAYj+Hpl2FwKi6TsoE10xo+dEUc5kpa8OZelSMBNeY1MMEkx\n",
       "WATAV7n4JgA2Vsa12WRuRL4RmuPaGYHflxhpNxOtIO9Gizve7zoCty2PD9kvcIG32Cce5n88kuA7\n",
       "ox382dKr+CqHEBYHOEkKjzkxT0YsoAiwcbG1i4PNz/T388pkuNebegJbOyRwUSgm5Th5snG+uIPL\n",
       "GU6QtMJ2zRV93uLVsEXCIS16yLKIg4uLR7vq5EsDXfzZeCjsW+IDloIZCsF8yZD6WtHsrRW1Dkbk\n",
       "G2f3rp8R+H2FEXcz0Qrihq3VLl9zv+vIG8rnwYWwkMiV/O+S1LHocUu4dOtBvtS7hz+fnCaFx9mO\n",
       "Nv5y8VocpNan+pkXCyyKGYoU4gC20kIvsCKq0v13iH4eEYe4GcwwJUcpUsDBZUjtY1FkGFUf0GUN\n",
       "M5I/V7VQzFYqvRmRtzq7US/fCLzFMdJuNh50cUN98gbiPPBwmxWZe1Y3x8TjjMt7ABxVh/n/fvoV\n",
       "PvRHPXHwmRAWz1mP81pwniIrw9gOLj+WOs1/yrxPQFTcpUBR52KZQ2WBl5X29FmHmA5ul7WrWw4z\n",
       "p0b5sHiKvA74gf9NfJUr2c96AgdTEOZBYeeunxF4S2Kk3Yy0irhh80t9rrvfOsUN5fIOt12JSO9w\n",
       "9xPoAof0CdpJMi5meMga4O8dXOCfXn23fD8lvXZLuPTpPfxE7yDfmsyQJU8KDw+Hm3KEWT2Kr3L4\n",
       "uoCOpbtaUvGoABa2cLGEw1EeZVJOkGGORX+Mf9L7Of712Fc3IHDYaM31ZpG5Eflm2P5rZwTeUhhx\n",
       "NyNG3GtHmlejUt7hPlYPpbc7w2SDmfg1Ua852l5iYQmHfTzMuLy7fFSLs+IkHY7kcm6B023tXFpa\n",
       "YkFkGOMmBZUpq/S2lpwetZ8nK3JILflifzdvTGm+lf/TmnXWG1matRQj8lZne66fEXjTY6TdrLSS\n",
       "uKFeeW9ljnvtbatJO9yPVfX/UQ30as+XpptZwsURSR7Vj+ETMOgmeNF/l4JaRAiLQBfjYXelg1W1\n",
       "01WND9dqstrJkqy12G2ZG4lvhcZeOyPwpsWIu1l5UMW91sphq1+78XNUbZtqEo9+rpYznhRpJBYL\n",
       "ajLO9a4cKi8VUDV5Vwqq7PVV5bWZBVJWb7dRjMhbmcZcOyPwpsJIu5l5kMRdbwS5LZMk7R7O8CTT\n",
       "YoG9dPMGb6J1wLB4iCJF9uhe3hVvkymO1eztVkOWtL9WLzySdzTsDpQVatEl0ecRa/W8S19buV09\n",
       "8l7ZdmckHh9vl2RuJL5VtnbdjMCbAiPuZqeV5L3Zee6NRI6XBpxZ0qPLHuaT7mley99hj+7jffFO\n",
       "WOSkJApcVdQaryXzesQdtSMpO/iU+yRvFG/Srjq4wfuxvIGqAofavfD15sXXGj5ffYydlTjsjsiN\n",
       "xBvB5q6bEfiuYsTd7LSSuGFzve5adcpX7Xu5x/0Z9wu8pS+wGEzGlcxs4WLLJHv1Me5wiUAX4+eq\n",
       "RXuvVXM8+i5qjA5EvW5LOAyJI3wiPcTbC2GQ2oj+gEAXUQRlEq913GoiX0viG+mFrxxjewLb1mOn\n",
       "ZW5E3gg2ds0sIaxf356GGGojAbHbjTCsQyvJWyARdf1OlS/vKYQNSKRwkNLlWOKjSMfjoPUYWZlF\n",
       "EyCFjSUT/PODX+AHmXnOJPYTFNPMW4v0yn2cEY8iRTudupe74spyr1uDKL050Mv/1yXHLv+S0gm/\n",
       "CwdHJOmyhxkSRwgsTUKm6ZJDpGQPrmwDaZEQKYSwGM9rlsQSPgFdop/HrRPc1iOARqOXz83yV0nt\n",
       "dUu6fCH5Obo5xKSY5Ittn+eyfxWNXtXe8nMml18Tsfp15dsIhBBrvibcx9r72Shi+V8j97nm8aqc\n",
       "L8NGEctf9Z1H0wPfUUyPuxVoFXFvpRBLtLRnaS3yHms/zyWOMFdQnNNX+UTiIf5T9iUkEk920ql7\n",
       "+WLPILMFwaWFIlmKLIgMefKkdIoJOUJAwDH1EGNiir26nzwBo3KU6eD2qh756vezXF5VuCSsDhxc\n",
       "TunjSASPd1vcygju5nPMkyUjMhREFp8CAeWV1qIFS8p710E8V+6IMNjtZ7sf5o1pn+PtDm/MLzIp\n",
       "p7jnX1he9GRlhbGNBbXVUXGtwbniG2EneuWmJ95I1r5eRuA7ghF3K3B/ihvWXt5z9apgEomU4XKe\n",
       "n088z1v+LQDOWAdQWvMrZ6/xW+eOMZn3abMtzvthtbSCyCGx+D8ebuM3LrhIJNNyGp8Cs8HImhXQ\n",
       "ojZAmNvdYQ3SrfqZkRMkdZo9uo+f3Cv49yMzSCz20k2Xa7PoBzzeLfn3U2/G+68VpFZajjVa3czV\n",
       "HhJJQeToUb1Myyn2q2HeUH8bz9lX249CIZGknEHmC3eqpJfVWXWtAZXbNsN2i9xIvJHUvlZG4NuK\n",
       "EXer0ArybtSCI2ulgwlhccR9lklu08d+CiLHgBogS56syOKLArZ2SekUGZFBInnWG6bdga8unCtb\n",
       "NOSAOsyw4zFRzHNZXqagFuP56WpIygPWJJIfa/sIN5by3JR38SkgsTihD3MoZfP24iJ35M1VPfBa\n",
       "+4+OIYSFg8uPp0/ztcUP8CnQqXsZ1dfinntppbaIZ+SneVe8w3/dd5Y/mhxngjvk1DzFYLFsLfHG\n",
       "z5O3psiNxBvN6mtlBL4tGHG3CvevuGHjy3yGQ+onEs+T0h4j8g7TflgTPApS62Evs4xiCZdAF7CE\n",
       "SwKPLIsEOlo4JPygKc3hfko8yZucI9CFsuFpKF9UJKJ020i64eMWFhYuHhKLAtm4DnokbolFAo8B\n",
       "NYRE4GDxa2em+fn3FhhW+1gQi8yJqVULnZQGsZXeBEgsTokP02MlaLMkna4gU4Rr+UVuymss+GME\n",
       "Klsm8VJqjTisUG8eeeuJ3Eh8O1i5VkbgDcNIu5W4v8UN6xVmWStlrHKBEQjTxX774U/yO1c9fqC+\n",
       "jdYBUrgclWfZIzrpcW2+nn+prOJZ6X4s4dIpBzmo9jMmpjll76GgFBf1HU6IfXTYFt8u/jDevpSV\n",
       "PO9Q3hKLAbWHXzjg8ju3Ao4l07xU+KBMuqf0MWZ1uNjIkx1pXptfYF4soFAM6l5uypsUKaySvsTC\n",
       "1i5TOpw2iIbKLeHSxRAJEnyivZ8fzM9xQ1wE4CxnOS8uM+Pfxle5NaUVnc/S10SjDf3uce5mf0gj\n",
       "VjbbCtshcyPy7UAZgW8dI+5Wo5nlvTVpR2x9nW6ovthI5bkrXUhkVbW0ipS0KPXLlh4fsx7nkj9J\n",
       "n+7gurxVFoxWicSiXffQo7v4VG+Kibzg2mKRaRYpiDwBCl+UD83bOpyDT+gEHbQxIWbi16iK4yR1\n",
       "mqcS++hw4Nqiz8cGBF8ev8cnUvu4nfG5p+cYlbfKRhiqrWqmlp8HykYh4qh34QLhSmu+ylLUYcxA\n",
       "2uojSZpR/zJ5f2aDNda3R4xG4q2BSSPbEkberUT4Qdqc16z+NLD1qPfmRC+nNlUiS16hK86Xjr9H\n",
       "j4dpWuXPxV9i+X0JGfei07KX734mT26pn8vzkkkxC0LQpwZI6Q5yYgkgTvuycbBxQECX7uB6tsh8\n",
       "QZHD52iig2k/DyJMFbOwadMpXujYC4UURxOd7HPbuFVcRAuFQOLicphhpE4SsFxLHZspv8D/9tQN\n",
       "RuYH+er0CL4ocLM4T0qnuC6vrJoeiFLUSnPNo3MSpsKFaWpSuLhWGkck6bMO4slOfvPYELemDhJY\n",
       "LloKAnymilfxl5c7XUlRK027q5WKJku+mjsFzaSZNR7TA98UzSkBQ22atdfdmB53xPasIFZtSL30\n",
       "/+vVK39EPsuwk+Kt4ApnxFG6XYkt4VomT2Z5/loiyJInIxfxS4a2w+dWevBRz9pC4uoEXxrs4E/G\n",
       "Finix4/3iDY6bJupYoEMYUpZgAq3wSEtHP7PT73Hz3/7YRJYTIp58uTxRaGshx6tJV4aIBfRzz5G\n",
       "9TWEsCiozKp5brmcrnaAk0zIEZKkSak0DjYDMk1/wuJaNsuYmGKau2SDGZQqVKwxDlsr1dqcFd5M\n",
       "T7xxGIFvCCPuVqMZxd1YaUds7n3Wu6JYafnU0uU+y/dVewjdEi5neZpL8jIPqWPclHfpVN1YSKbl\n",
       "VJmwXe3xiL2XXKCYVtkwHU3MlrRQ8ksHOhjPJZBCkw0k35nIE6BJYPFsr8vleVj0A4pa81y/xd0l\n",
       "yUROcbxD8NJMBoWmiI9CoUQop4R26aSN/oTDrfwSI/Ju2Rx5UqfwtEcXbTzb63J7SfBi/gMW1MSq\n",
       "vPPoXLgyFd+AJPBI6XYyYgFFgI3LC21H+MPMq+SCedRygF+0Utp6EoeNlGtdez/10iiRG4k3BiPw\n",
       "ujDibkWaTd7bI27YrLyhPoHLeA7XQQiLh6xnuCuu4AivLDWsWrR16fx3aY+9NLo8EpxV0tN28Uip\n",
       "NJ/r6eFvpxfxcJgnWza37GCTwEYi6HcS/MzhGf7DlU5sIRj2JJN5zZAnmC3AfFHxeA+8NqlQaDps\n",
       "G88W3MrmOOAluZHN0m0llp+zuJJfQCL44lCSL4+NYyH5Qtcgr86EPeRpMUeP7uSeHOcZ9yAXc3NM\n",
       "ynEel0d5Rb3D0+Ix3tM3OKb30+XYSCFY8hUFpXimT/JbEz9YPv8WL7hP81LxIgNqDwecDl7yw5z2\n",
       "+cIdgrh+fCMKxFRj99YmNxLfOkbga2LE3Yo8OOKO2D6By5JetyUcUs4gadGDIiCp00xzt2b61Opj\n",
       "rR5yLxU7hPnjn02e5kSHz+UFm3wAQsCNbJYiAQ4WNpJ/fCzLv7viodBIBJ22gy0EQ55goQhf2DuL\n",
       "FJpLcx1M5C3mCpANNAUVfuWVwiegSPS9vDd+2u2noDRvB9dXBb2VYuPi6TayYokMc6vmyit75c/K\n",
       "Z/l+8NKqKQJLOPx46iP8ceYl8sFceFOkViL6V9gukde377LjNEDkRuJbwwi8JkberUizyHv7pR2x\n",
       "tfe7lsBL5Q1gyySPWB/nA96hXfbRqwaZkmPkyeLgMqwO0E6S8/ICBbUIlEdjrxwzHFKXVdoepYlF\n",
       "X6Vz3hILqSUJXP7RAZsXxz1ygSanFPs8iw/1LvHdsTbSNhxO+zzaO8WbE33MFCwWfMgUIac0Ehjy\n",
       "BJcXithC0uOG7biZyzIt5gj1q1BiZT682rx4RBSRHuW3V+aRA1UXVonPx3KcgELzXvC9uJTrRtch\n",
       "r8bmZV7n/o3EdxUj8FUYcbciRtwbZ62KbOHzVtl89788/Cn+5Z1xzlgHGCmGVdjOdrRxYb7ITTkS\n",
       "Sy6pUxygn4viKp9rO8HXls7RrnvwRYF21ckZr5cL2TmyIktGLNRs34rEHRyc8DEtS4QusbFILP/k\n",
       "CEGbbdHphHHxGV/jWYK9bZrzcxopBO22wJZwJZNDLUdEp4TDoZRNmw3fmw0F7mDzVEc7o1nNTNFn\n",
       "VEzxRGKIbxfOrar6Vpk6Vi3FrFLc1VZmq9Zrr29N8lpsJQCuvn3F+9yiyI3EN4cReIwRd6uy2/Le\n",
       "OWlHNOb91hK4JV0s4dDvHqdNd9Cvu7kgzpEUadp0J326hz4rSUEpxvQCf/HT7/Dzf/hR3hHnlxcS\n",
       "WS210nnvqHpbSrfTrtNkRJaTTh+5QDMThMFoBYr0iDbmdZ6P96S4lRHcyC8yYLVhS8GhlOCHs3kA\n",
       "HCE50eFwMFXk26OSvFI4QtCftAEIFIzlw95xQkqyysdHUSTAX84+j4bPpZa8+r/8CT/7G/+IsWKO\n",
       "p7uTvDqT454cr1r1DVb3uCtzxSslXm250sp662stoFLKenXlIfz7GEqc5l7uXAMC49bYzkh8xzEC\n",
       "N+JuWR48ccP2yXtl31HQ2iH3aW4X3yJcB9zDEi5J2cHf7zjDH85fZJ86wLicYIFpDqpjKBR5UYjX\n",
       "5F59TCuuatbDML9+tI2v3ekiF2ge61b8wcQ0RYqrirJILFIqzfOdvfgaDqeLvDxhc6s4X5Y+Fv4T\n",
       "SCRdMhGL+rmeJH87nQEggc3z/S6/8sv/Nxf/4qP889dPcSk/ExeEiXBw8HSSY4l2Ug5cWVypx17Z\n",
       "tp9sP8Gbc2FKWIIEefIoEdCuOng40c03lyvUKR2gS25uqpZdLWnDekKLzme0XbUo+ITVQZc1jI3L\n",
       "dHCbbDBTJco9YiP12mv07o3Ed5QHXOBG3q3Kbsl7d6QdsZ3yXtl/Ze+ttNTn4+I43y7+FSmrj9P6\n",
       "US7KSyz4Y+seU8a9b4e/632EF/PX8HQbD9uDKK05H4zQpTtJYHNT3gRWlgCFsFoaQIduZ1FkSloc\n",
       "6jsRVV7D5tmeJOdmAjK6SB6fIn782n+41+PVSZd7+RyzZPBFMa7kFhEJOgpOi7C1i6c98iLPXt1P\n",
       "AZ8xMYVE0qO7SGDhSZu9bRaOgFcWZpiS4bnJkyXjT5YJHNYXVmXPHFbiCaR06bCHeVo+woIfcFXe\n",
       "QBEw5d+IS92eks8wLkf5qPsQf134IVoHWMJl3h+hGGRWtSG8WUsClJWFjf7eApUtEbmR+G7zgArc\n",
       "iLtVeTDFDdsz5117/5VlVMPtq5dMrVbIJX5tRVBcJORqueSVi5aErVrZRlb+X4f7SOgEZ7xeZgoB\n",
       "48ESXSJJj+swWwjLoEaSDvcXFoDZb3VyM5iJxR0NoxdEFqAs8jwoEVXUnrPyOLlA0WZbjBQzZJa3\n",
       "s3U4bO+RYETeZVFP46tc1aF0qC2rcN1yD1smSYsezlrHeC04z8ed09zL53lTvxy2R4Q3LinZQ04v\n",
       "xrXkH+ZxLvE2nuykSIGCypStshb1wqNj9TlHWVCTnOQs43KCHIv0q2EyIsNn0vv4g8VXS9LaAiPx\n",
       "JuEBFPhufxAbNsNuiHv3pQ3b3+te+zjV6qFX+7kyyrxU4LJC0tW2WyXu5TW7XbxYpqVBbQDH5CBz\n",
       "QYFZsUiRYhw5XotS4R+2u5nzi2QpIpGkhcOEXuQTnd18Y36ERTFTJu5VaV9Y2Ljxc1HbBtQAI/IO\n",
       "RQrLK68VypZQXSsaPT5/y+dgwD4KhCMBP9Pfzx9MTPNTfb3826l3YlH3sJdT1jBXgykyYoECWSQW\n",
       "vWqQjMiwJObitljC5TH9CO+KC2SCybgt0Upz+/VxCiLPXnopasVtOUq76uD94t+UDLlXW2jFSHy3\n",
       "eIBqoUtoSK1pw06z0/JuXF3yrdKYXnf1muf1HadaPfRqP4c10cPjJKwOBu2HaJf9FMmFbWDlhqi6\n",
       "9GWZ3F2StOkOUjrNQQZYpIiFTYIkH0oO0aFTjAdZshSWe9hBnPYV4K9atEQg0UKHxxCaReUToPlE\n",
       "T5oPdQleGJ7n7nw355cyHHN6GNHT+BSW6537lNZ418vH8IVfcgyNQ5KPpge4V/AZ0ntwRBtKQqcY\n",
       "IstCeHZEVD9e1vySyzX7c3qBHBmWxAKvL42xJBZ5JzvDKXWSBbmEJRwC4TOll/hS7x6uLBXo1f08\n",
       "l9rLncISSiiOc5CU7uag2EcBgdYWWbHEWfEE43IaWyb4pPMR5nRAr+7klrhKAYtDThfn/Ld41H6Y\n",
       "q/7F5XNQKlRd4//U8Xh9mNrp6/OA9MCboSdl2Ci7Ie7mYLuHyzd+vFr10Esfs4RDn3OUNt1BQifw\n",
       "SHBdflC2RKgjPAbUXu6J62XbeqTjfPJHeIgr+h57dT8SSbttxXPkx5PtjOeLJKWFKwU5pZgO8vRY\n",
       "CS7qOxTIlpU/jb6ftY5xtTgNwI/29fDalM89ZlEEfOunz/OJrx6nILKkdDsDupvbcpR5PQGU977L\n",
       "zsnykL9DmNNu45LS7eyhC4lAobnLFEO6lwI+P3dQ86u3zlPUK3PLtVZfKz3P0Y2OJVxc4XFYHSGP\n",
       "TwKbCTGDhaRdpzngppgq+CSkpDdhcSebx0eREg63mWRI93JJXl4eai+uCqyLatd/3P4Ut/U0Pbqd\n",
       "STHLB4WX46FzqBWlvj298PB4pidei/tc4M3ygWzYCDsp7gdX2hs77lpD6atKpAoXW7i4MsVefZT9\n",
       "Vidv6Qu4eHSqbtIkWSTHxzq7GVkKC7G8rS/GKVqw+kM7SkEbUvvpwFuuZR7wqd4Ufz49SVYskWOx\n",
       "bNi7lEiySZ1iUPfQ7ySY933Oi8uULmNaKSikOk4AACAASURBVNZ65BGJ9YA6zFV5CV9lV7W9Q/RT\n",
       "IEtOLyKx4gDAglpECIvPuE/zUvF9uvUAefI86e7jW4U3ygL5onPg4GIvv5+ETvB8+xDvz+fpd118\n",
       "Dd2u4L9/+h3+47uP8t2JAl/aJ/g3d6fIiQxZwnnyz7hP8+fZb6BUYVX+eXQ9lSqUpZ3tVnpZvB8j\n",
       "8lXcxwJvlg9mw0bYKXnfL+Le2vKo9R97IwIfck7iU6BddwHgaY8hK4wiv64myIt8nI4VVTeLeunV\n",
       "Vv4qPYYjPB7Tp/jsHs3/Pnohfr7adpUBclEA2jP2w9woLDItp8mxSJFC2ba15L1ernY9iOVVyl5I\n",
       "PMn7uRk+3d3F92YW+Xx/ipcnAjodmzvFRUbkLQKCuM3ReYrm3k/ow9xlBggD5/bIDqQgHo040Gbx\n",
       "2sIcxxKdeBZ8J/cB3aqPvVYHr+tztNPDMb2X7xS/VhbQViu1bP3iL9tb6CXej5F4GfehwJvlg9mw\n",
       "EYy466cxa5pv7Pi1BB59jxY6EVjYwiVt9fGFttNM5TVfGM7yzRGPnFIcSlncWVK8p27Hw92RQKsV\n",
       "gKnaloqAueqvWX2D4eCS1t142uOo08VrwaVYjJU3AKt75KurpJW+rhalQixd2KW0bZZwyobjXTz2\n",
       "q2HuiUlSOsVDbhcfFGZ5Mt3NXy99EB/TxuWUOEhSSs75d1EioEf1cMBJ83PHJvmlS2GVu5/rPQTA\n",
       "706OMK6uxu3OB/NryLuykMzmet/x9g0SeNgWI/EIe7cb0Fia5cPZsBF2Qt7NIe5GLfm5822oRmkq\n",
       "2I+3/R1eK97E023MiHHadCdXFvO0Ww6/cxMschzxPKSAcyrMV/64e4K7uTy9jsslf5JxcYeCXp2b\n",
       "XIkqicmTVbofQlhlQ8+wIs29uh9HCI60w9XplUjtcMOV17tYPKSOcVFeoqizoFVVwcc/12hvabS5\n",
       "0uXbSmGBDuII8U4xyAl9GIXm+SFB2u7nSx95mX/8R58kK7JANz6FshGD15lDBhaWiOrHC94KrvPa\n",
       "pQJ5smgd8G+n5jiuTjAt7mIJh1M8QR6f98T38FfJe/X72Fo99RCBbJjEhbCMxJe5T3rgzfDhbNgo\n",
       "97+4N/b+GivqSjZ/rtfKCbfEco1yGaZURT1wWybpEP1kWVwpjEIaG5e9apD3eGtV9bC1erPVFj4p\n",
       "HyKXq56LerUJPCQW3aoPjwRPdrbxnfmJsqpvpYFvrk6S1ikkknmxwJyYpKAWy9pbmRYWsVZ6WDVK\n",
       "10yPCt14spO07iahE3yso5dvLN6kR/VwQ1wqCwiM3uchfYJJOY6Ny4Dqp0sm8LUiKS2+578Yt9US\n",
       "Lo5I8pR8gtf1OeYLt+NFU0pTxMrezxaHzlftz/TEG8p9IHAj71bj/hV3/e9re2VdSmPFDdXnv2Fl\n",
       "DhzAlh5D8jgT+kYsnUhQtvTIBuH87XqLc1S2odrQeHTsysejFc/2q8M81dHOSFbjK81kkCOBxTSL\n",
       "5MVyPXUcHkv0cy23xAv9SX53cgRfFMpKp3bqXhbELEt6joLKlLV9o+KuJMqXd0SSP35iHz/19r04\n",
       "MjxanWzVNiU3UY7wOKiO8AHn4huNqGhLKUesD3Gl+ErZameb731v/D03UuBgJN7iAjfybiXuL3E3\n",
       "U++6lK2f41rihtopZGXbV6nMtt4+yp6v8h4qi8HUKgQTPV/6WGnhldIlSh0cHrb7uFPMoNAklmcU\n",
       "U8JhVudIYJMhz7xYiCu0das+rutzNSurwdakUq2CXa3zEL+35ZsiiUVOza9aREVVWaO8HnmHr60l\n",
       "3M2/RyPxxtGic+BG3K3Gdst7e8W98bavtc52M7KWtCPqvYbxCmQlXYPSbdeKFodyIVYTmRAW3XKY\n",
       "x63DnAtuxZHkpfuOhtAjokjuyqH4G8V5PFwOeR75QNOXCJcb3d+W4Bv34PN9HdzOdNLpwh8vvM9B\n",
       "uxM/OMX/cDjJL159vbwXXmsevE7BlM7taoKq5zuaR6+8Xg4un06cJtDwjfyraB0wJI/QqTvoEC4v\n",
       "Bt9ClPTkV88jW9QfuNZcwnyQ58RbsAdu5N1KtJa4GxVktjyMbHkcc57hSvEH8XAohPm124nSQV1C\n",
       "3gjr9pprRoNXvz4b7Z1HQ8zRPO6T4gmU1szrAhYiXgBFYtGnBni0rZM3shMclD1MB3nG5QRSWygR\n",
       "sF8N0W453A7mKIg8nvZwcTjqtTGSLeIIQV4HTLPIQ04Pw22Cry1cI8McEovPJM7wZ0t/s2p1sVK2\n",
       "KpRaJWtLz4cjPc7wJPNkeba9m9cW5nBxGJF3sXH5ya4D/MXMGJ72mJZTZFkkp+bplIP4FBjPX1wu\n",
       "0BJRj8C3LspG98Dj/T6AEm8hgRtxtxKtIe5Gp3KV9PiEhZQubXYfR3kUD5fz/JC8yhCo7LrLRpZG\n",
       "eA87j/ALA3v5Z3e/ia9ya27XaOq9jhsV+FrbVX0suikSYbCcJRws4cY10zt1L7a2KYh8XCs9L/L4\n",
       "ohiv411ZzzxK2QI4pvdyWdzC1i45sciw2seovEeeLCk6yTDHgNrLLS5UXRo0otHXZK0FYqLAt9JU\n",
       "tLDe+Snu6Tkecnr40X0ZvjmS5nJ+jgDFoGjn++p7+Cobz4NXC2LbLnnH+zcSbwgtUgvdyLtVEMt1\n",
       "nLdt/5uuU24R/h6Vfm3guMs1xaOv6vsPidbTtoQdLu+o7zErZ3mYx1i0sgzIY2BJ/queT/F+YZJe\n",
       "5xBtdi/t9iA5vYAlEyRkOz/X9TnS/mF+7aTPtYU0b2bv4cg2fJ1fbo8Vt63RNaM3eh1rvXb9a1VZ\n",
       "W736Y/EN23It8ej9ntSP8ERyiGLRJkBz3O2hz/JwlYvSkiI+baRZYJpA51HaR6PZow/xiL2fdpVG\n",
       "apd3eYusniejp8jrDJPcI88SAoEWmm7dz+nEAB9NH+BicZaiWoKSdoTiKL8GCoXexL/Sc1Z6HsKa\n",
       "8ivyDr878c8JkSKtu0nrFHflHcb0Au/OJOm1k/xQvUeb6OA99TofkR+nU+zjUec0E3IRWyYpBAsl\n",
       "76WWXBv5O7Y9/cYHrX56C/TAjbxbhebrde9ElbOKoKJleTtWimPyw4zKW3xYnOGc/oDnEye4ls3y\n",
       "XE+SV6cL7Ekk+EHxGgWyDKl9nPQ6+Vr2pXCvwiEp0rTpTo7LPVxW98iJRTIqrOftyjQvJM7wh5lv\n",
       "lK3bHLHRnshWr91me+C1tq82ZBzvsyQ4TQiLpOygT++hS6cJ0BxJtnEtt4RCMS7H+fGOI3x59vvx\n",
       "/G+9OdzRsf7b/uf5zfFvASvz86WBYPF+tqFXGY3C2NJjvzzFGDfj92EJh+P6URwk1+WNODoewBFJ\n",
       "uuVefAqMFS6UtS3aZ7QeeO1VxkppbM92u3rg8f4fkJ54kwvcyLsVaB5x72RZ0tVCCfexEgHtyBS/\n",
       "PPhpvjJ1gx7Vi43F/3Qix7+6mCaPj4dDliKj8h4+BfrVMCMyTLuK5swP6RPcEBfjD21HJONjZIMZ\n",
       "fJUtizCGnf/w2qq8q+2jbOi4yk3SyrKjThywZgmXBB6u9lgQ4Y3OLw2c4l+MvYmvcvglOdS10r7W\n",
       "O3fleetrS2izpVYrKZX4R+THuafnuCuuAJAWPRxU++l1EtwqznNBvVJ2Q1fW3qrtWW/YvPw1jWS7\n",
       "JQ73v8ibVOBG3K1Aq4t740P91aW9sr8VeUfyktLlpHyWWTkbB1ENqH5G5F2iNaR9CrjaY5bRcH51\n",
       "OY+31kpVaauPjJqhoBZX5jCrfBju9hz5ZnvflY9V631HwWwP69PscZO84V/H1i7/ef8e7mUt/jLz\n",
       "AQtqIl6Le62c7Y1Gj9cS93af77Xk7lndHOAk5/3vrlPbHDaW771972knBA73t8SbUOBG3s1Oc+Rz\n",
       "b1cedu38WyGsVe/dlkkEVpxrW37McGWuIfs4C0zjq+yq3mJSpzjrDvNET5Hfv7fErJxlSt1eWdyj\n",
       "Sq5x6XHqqR1euc1WWe/6b6XnXfpYNXGH+18ZOo/OkyVc2nUPv3Kwm9+8kcMXRca4WdbzrnUO13qs\n",
       "lO0W91Z67Gv3tNcbVWhssZZ62SmBw/0r8SYTuJF3M9Mc4oZakq0t6TAFab2qX6VUW7zDsVKk7UGe\n",
       "lY8BcDEYjctsBrpYtfJVlP4EK+KxhMNp/Rgf7k7we3PnKVKIh80re4zr9RY3MqS71n7Wop7rvlVp\n",
       "Vz5eed7q2b7aQiNRtHit19R6rJLtGOFohFTq7WHXbsPuyBt2VuBwf0q8iQRu5N2sNKO415J1RNRr\n",
       "bnf28CPeR/iHR0f5mXcvsV+e4lrwZhzEU+sPu7THHQ1VCmGxxz7JrB7l5zqf5nuzc1zn/VV1vS3h\n",
       "lD0WidtaToOKKKjMquHyzci7ku0IqCplM+lh672mNMLaEm4cnPZcqp+j7UX+3dgIGebK6pZHlcdg\n",
       "dX3yRog73G/j5L3Z7da/+dzYfutboGT7hWckvjWaROBG3s1I8yzxWUvcVtWeshAWH7Jf4LJ4l2ww\n",
       "gyVcnhAfIUOeq7xLoMMer1KFmqKTSFLOII/qx8lS5Ip4P87Bjua4PdlJkjTzeiJejtISLp9xn8TX\n",
       "GlsIbuezXJfXSOtunmsb5uWlEaYZKZvrBuoSOFQfPq+HrQh9o8VYarFWkZb4WCW5zUnZQY8eYEB3\n",
       "M8sSC3IeRcCvH+rnu2Pt/GX2XDz6sdY8d6PlvZHtN/t6qEfasKl65E0ib9h5gcP9JfFdFrgRd7PS\n",
       "vPK2SNgdBLrIHvc0n297iN9d+Jt4LtQRHl3WMO26izkxhYuHImBehwFN1YpwlPaSI6Rw48UlbOnh\n",
       "4FLQ4Rx2n95Du04zYLVxTl/Fp0AQrfiERZI0CZ3goOhnXC0yLafiMp571R6KBPGiE9Hx10ptWqsn\n",
       "vlMfRqWLlEB1uWxkQY9qkeVRYFoXQyyJOQICHFw+653gr7MX46mG6GapNC1srVXBdlvgG7rRqvu1\n",
       "mx0BqFeY96/A42PfByI3AjeU0Tzihsq57kjglnTZl3gCnwIH1UHe0a+QlB10MYQSAUf0MJ8YkLw6\n",
       "KbgdzJHAYVJOkVJp9ohOXtevUdS5sg9LKSz6rEMMqSH6rCRv6QsUdJY20cl/0XsUR2r+n4mwXKet\n",
       "XTp0O1mRJS/ySG1xTOzhmh7DF0UGVD+TYpqCyKII4jrdkXhUyc1DqcRLqbZc5XqBbI2kVlqXK9Ok\n",
       "ZDfD6gBDVooP92p+Z/ImzyWO8F52ZtVCHxFrlXYtTQmzpUcCj1P6GHeZ4Wyyn/ezcxTxUUIxLu4s\n",
       "j6AUV41ebCTSfKsC38g+6ppj39A13G55b/4YG2U3BQ6tL/FdErgRd7OxU+KGzaeHrQyfr8yV2jLJ\n",
       "o/bzSARXxPv8vfTT/EnmHD16gKxYQhGQZRFfZZf3sZKG5JeUNC1d1coRHp26j4ROkBVZJJKf7NnD\n",
       "i1O5OH9bobGR9Lsu+9oE35sNJeOL4vL3ldKdUQ+9VNxQPmwusRjkIAO6i/PyAkNqPwkcMiLLiP4A\n",
       "gIc4Q4dI8P3gb8sKilTS6CIuQlir5qd75X4KZOlVg0zJMfJk40C8CEu4BLqAEBZdYogf6zjIS7ML\n",
       "9Mk2uhyLb+a/X3YMS7ik6OSMPMS4n+NAoo3Hun3uLtlcWfDJ6CKdlst5fZPDaj835QiTwY26BL6V\n",
       "c7UVia8b2b5hgeyEvDd/nI2y2wKH1pb4LgjcyLuZ2Elxw9Zyu6stGhLVHI8fEQ5H7af45YNt/OK1\n",
       "F7GEy7A8wYi6WPZhaQsXWyY5pk8zKafIsRgPgzu42Lh4ug1XJ+ghTZYiD7e1MVNQfHZPgVcmkuQC\n",
       "jRQwVfBxhOBsj8XXp2bxhY+tbfpFmuPtDm/NL3FH3kIRxMcIW2/Rr4ZJ4DAr5vG0x1Gni3ZH8P7S\n",
       "AnkKpPCYE/OctAf5oDjNHS7FowfrDRNvldJ0LiksDspH8XSSG+ISioCkSHOGE4yrRWblLIqATtVN\n",
       "RmRIkKBIEV8U8XQbecJ1t3NiMa5LXil7jzS2Dq/lHt1HhjydtJGQknG1yEmvk6NpxX+YuhzfMFT2\n",
       "xNeKH1jrPG02hWwr+924vGH75ry3fpzNYiS+eXZY4EbezcJOixs2Wgp1I6li5fWhw9eV52xHUeTR\n",
       "c47wSFt9fNw5zWwx4Joeiz+kz7r7uJKfIy8KSC3xSJDApt1y6E9YdDrwv/7Cf+Sf/pu/z/6UZr4o\n",
       "+OFcljz+cu/bB8DW4Wq9XbTxmUGblyfgIjfLoqglFlJb7NX9+Cg+3OWxt63I3SWHWxnNWDHHdXmN\n",
       "rJorK/BSb6DbRqlM5bKFS9rq42F1nH2eg2vBd5ZuUiCLxMLV4dnZQxezOscvHLT48ztJciqgw7Y5\n",
       "kBJ8Z3aGgsgTLJ/f43IIX2vOcw2flepoEotHeIh7ah6AT3R28/25BWbFHEqE76lLdTErZ+P/SySz\n",
       "Yg5Pe/SQ5k398qqbm42en81G92+kh79T8g7bsFlBPji9cGhNie+gwI28m4HdEDc0to55PSuBha8r\n",
       "r4xWKvVITlF6F4S9QInFkNqPhYyHxD3tYWPhYJESDlIIlNY8PwivT1mMFXOkhMMjXeG+/3pmmqzI\n",
       "osRKcFrpcHkkPVvbeCQ4kGjjUn4GhaKDNvL4qFDTZESY6rYk5lgMJuseLt4KtaLCozQ4B5d+Ncwe\n",
       "2UFW+eQJsBA83Z2kPxEghSYXSN6ZkSwFiqzySQiLWZ1DoTmWaOdCfobP9XQxWxC8mBnF1g4Zubj8\n",
       "rsOAP1u7ONgsiNmy8/eUdYpLfrhMZoDioN3Jd/3v13VzU8lWgtHqCXDbbYFvXt6bO95maBaBQ+tJ\n",
       "fIcEbuS92+yWuGH7FiGptQ43lK4I5pByBsuilsv3Eb7GER4pOvEp0K67yIolEjrBL+7v5Mu3Ah5N\n",
       "pzmUCvi98elYvH1WEingahBGmdvaIYFLVuTYSzfXGKUgsmVR6qUk8OIArkhQNi4H1TBX5Q18ChSJ\n",
       "CrysLrHaaIlXRoZH5zGsHOfQLw7hi2J8fE+3YWsHBxsXhy6ZQArwlabNtpgr+vgEfGbAoagF1xYk\n",
       "P8yPLgekBbGso6/ScxQdo1p1OweXNt2Jg02RcLRjQt+IMxEqz02jzpHAYtg6SUFkmQ5ul835Vyuo\n",
       "U+25tdpXHxu54WiEGLdfaM0k8IhWEfkOCNzIezdpLXFH1N/myrzwiNLSp7ZM4lnd9LCXJTFHvxpm\n",
       "Qc5zQuzjB+qNlW2weFifZm/CIyHhrdwEM2IcCMUaDXmnVBolVBwkF20rtUWX7sTG4mSqjU4HvjM7\n",
       "w4QciUW8uv0rC3OEYurgiBjkmh4joRMoodhDF2/x1qrUKVgtgs1Iqpq4o3MosUhYHSTweFwc57qa\n",
       "IqU9RuQdJBanOMKsyrMgMkgtcbBJkUChyVIgQHHU6eKxbsUfjs+SF/nl9qs40K9U4NXEXa0mfLUo\n",
       "/mqv26goo/c8II8yJybQOqCHYcb0NSSSUzzBmJjCwWZS3CMfzOPrQhxTIbH4QvJJvrr4F2Xz86t6\n",
       "70bgMc0ocGgNiW+zwI28d4vdFDdsRd6wtTrnFeslSxdLODxkPcOjyV7G80Wm9RLj8h5JnV7Vc4sq\n",
       "pUVD7hILV3h06l4CFJ72SJMkQDMqRykQRrfbuAyoIZ7qaOe7CxPMiamyYK1qcomO55TcHETBcz/a\n",
       "08ftJUHSgkIAr+TukBOLLOk5osVLavXGt0pl3XEon4aIzomNG793Wzv06C6y5EmTZG/C493CaDzv\n",
       "bSF51B1i0Q8YD5aQCBws+p0k14uzKBQJXG7KcJWtyhSxtYav15M9rL9kaOV7dUSSZ+RZAN7Wl1EE\n",
       "HFVHOZZK0u1qfm/uPL1qiFF5C60DBjmI1JIELufVDwiWMxzWGk7fbok3RuD1H28rGIlvjm0UuJH3\n",
       "brDb4oatyjtiaxKPeuA/1vaTvBVcZ0aN4IgklnD58ul+/sF7t1jyJ0u2t+Jo62jOVyLjvORhtY9r\n",
       "4iIAPQwzJybLxB8N7bp4FMjGPe7VqWPlH1TRMQ6qY/QIj4viOgAH1X7uiUl8UaBTdTMjJzmuD1HU\n",
       "ipPtCQCyAfzp0ks1S7HWS60c7Wo1yCOJt4lOPuqc4F4+T4YCWZEjT74sfS66KQGQ2qJDt+MSlpg9\n",
       "2ZYmH0DKgT2e4i8nFvBw2eMmedF/Ny7YAuvPPVcdoq5DOtVuTn6x78N8Zeo2GeawsHhIHUOhmRYL\n",
       "HJQ9LARF8vhIJHNinoxYwKdARs3E7YhWiauW498Yie+0wOs/5mZpVoFDc0t8mwRu5L3TNIO4oVHy\n",
       "hs0sEbpWTzx8vvbKVxLJEecpPO0xKcfDlCjdy4KYjVOWijpX9sdc+sG/Xx+nX6S5x2z8oa4IcPHi\n",
       "KnD1fhBURs8DeLKTX913hH9x5x4Z5uL51/UKwWyGSnGXtksiec56hoJS3GCctE5xwOng7eB6PBpR\n",
       "uh8Xjy7VRV4UGNBdHEo5vJGZIi/yODh06TQ35c14tCJ6L7XkvfL+1pf4WkTn2BFJ9uqjnPG6uZHN\n",
       "cTKd5MJijl4nwSV/jB7dyTxLJHBJ4dLvujw/lOO7Yx5j+TzjYoaMWOAp+xh/mfsWmgClosI91a9N\n",
       "Y+bE6wnQa7QUt09kzSzwiGYU+TYI3Mh7J2kWcUMj5Q2NW+O7vjW8o/9LJI6V5kPiOTxp40rBW+oy\n",
       "C2qSosrGc8wCix9JfoYf+JeWh5BdJJIXOoZ5bW4Rn4BZOUuBLBk1vWruej3W6v2WPi+EhUeaBTWx\n",
       "asi2krWOXUva0TFWXifLHotGK2rtK8qp71G99IkUz/RJFn3B12fH4ujy9ea+N5LWtd6HbK3UwpWp\n",
       "EwurZDrjsNrPAjnyFML69yRW0g3b0/xVJkyps3HpVN18oN4oW1p2rWuy9Qj19dLhtkOK2yOxVhA4\n",
       "NJ/EGyxwI++dopnEDY2Wd8RWe+Hr76da7rglHN787D4+/K1xbOHi60LN9b6jofdT8hlG5V0G1B48\n",
       "XBbJkREZCiLLnBqLa7DXy1rz0D/W9hFeyY5QEDn2q2HGxDRzYpKizq4K7irbJ7Lm3HEl1X6/Khc1\n",
       "qbyZqPV4JEQXD0+3sZdustrnugyrqEWlZusdCq+3V16NaguzlAYSxuu1Rzn6yyJP6AS/dizB/3wl\n",
       "E0fQuzqJpz1G5W2KOhuPsiiCeISkNF6hGluv1GYkvtM0k8QbKHAj752g2cQd0SwCh41LPKLacPta\n",
       "57uyN/pJ5/PcU/OMyjDFaJCDjHGTpWAGqD9CvNpCH1Eq1xk+RK/jcqwdXp7OcSLt8ddLH8Sie1wc\n",
       "57y+zSmxn5FggdvyGpJwAZY9dJHXARfEeyXBdfV9aNYS38rztSVe2qOVWGWR56VD57CWnNc+dytx\n",
       "CxZFnV1zX9XaGP3crQfZo3u5J6ZQKCSSQd0TR9Wf9jr5dv79spS3/eowPcLjGqP06C46RII39evk\n",
       "VSa+8VtvdKSe9taWee3ttkfgax9zs7SKwKF5JN4ggRt5bzfNKm7YLnlDYwVe/z6rLVFa+1i1h5fX\n",
       "oq7XVCmoEm0rkXzafZY3/Ot4uo2/0z3IyJJguE1zKyM41q5JSEVeSf5qcpEiPl20cVdMcEIOk1MB\n",
       "74j34kC8rdRPX0/eR9VRBt0EJzo1L08EjIqpsuIskQzX621XHnNA7aWLFJNilqxYwtVJOnQ703Ka\n",
       "BaZrxgWUtre0rdFw/5AaokO4XBF38SlwXB9iXufJU2RBzrPA9Kq679HNQ1KkOSuPYwvB1/PfjOfD\n",
       "w+NvbLh/40Kv1ctvDYm3ksChOSTeAIEbeW8nzSxu2E55RzRqGH1j+1xvvnyt5za6fna962SH+16R\n",
       "eFQZ7dPOE1zIz+Bgc7qtnQtLi5xOpXknM0dWZMmKpbhkaSSx0mHrSnFuZGi9tD2Vj0U97896J3ht\n",
       "aYKDsoezPYI/mBylIHJlbapW6KayXaX58r+67yD/6vYMH04Ocyebx5M2WeXzMwcUv30rnK+elBN4\n",
       "uo3p5Vz+qMKbhUVad/NfDg7wZ6MFRuTd+DlXeygRlN0AVI4QVBPxylx6WBRo3h+Jn6u3glslpVMe\n",
       "a5VpLRe5kfhOstsS36LAjby3i2YXN+yEvGF7BL7+vmulVtUrcagt8lr7WbWEZ40AvNI0t9Ke35Da\n",
       "y7ScxtYOg7qHDHnmxcKqanD1FkupRaW0K3vgkbghzBH/UtdhDqby/GAyydG04vuTAdN6iUWRIaET\n",
       "pPCqLvZSuc/oWDYurk6S0AlOJnqZLwakbcmRNCz6gjtLinE/R5Y8WZGNq8e5OskxOQjAQlBkTEyT\n",
       "E5m44l3pOalM/wsfWz/if61FZuq9MRLC4qR8NkwxxOKWvM6sPxIPx0vpMmgfZzK4wU+nP8VX5v4U\n",
       "pUpjLHZ6SL1xEms1gcPuStwSwvr1zW1q5L0dhIFRzX9ud0besJnfMyHElvet0TWuQ63HV984aDSC\n",
       "Wm1ZvZ9VP5e0L3oumguXwuaziWcZV1mU0CgCsmIJjUZikxcFMjJDfvmx6F+035X3t/JYPV9SOFjC\n",
       "4bOJJ0gWe9jHEEUEUti4JDmsDgIOR9lLAYFAci2X5+05he/bKG0zUsySp4iLi4vDf3NE873ZPBq9\n",
       "3D+2EIQ3QCv/LAQyHuLuoZ39bgoNfHFflvNzNtczAVlfcDgtuZ3P4+HyVLqH6bzgXz+qeH2sh6S0\n",
       "yAQ+OXy6STMpJggIwrOzqse90rcp7zWXPr46/z68bjq+btF5jv4ffUnpIISFK9Mck0/yydQZxnQR\n",
       "ISxmxSSLcpFZMU1BL2EJGylsElY77dYAH3MfZkprbvgzLARjy6MAcvkay+Wv1X2z8G+j0ZnD1Y+1\n",
       "OXZhdestUvp3tPPH3lQPvPkF02q0Qo87YufkHbGVoi6b23etHni4//p752v1wiu3KV1opbQdlT1e\n",
       "SzgkRRoXj3bVSVZk6dDt9IkU87pAljxf7O/kK1O342CxiNKfa6VvrfWeornig+ogWQoU8emgjV47\n",
       "QW9CsrdNMZmTjOc0U8UCPgobySxL+MJf7mWr5baomgu+VJuvLl29TS7/FP4clnD1cDnkeYzlimS1\n",
       "z6xYpEgxlq8SQbxtWqdoJ8ltORrn5Xfj4wAAIABJREFU1Vceu/K8rFf9rZ4sAyksfrbjU/z+wvd5\n",
       "hLMkhMU74r24mlu7TjEpphnUvUgE3bbLqL/EuBwnyyJFnaWgMigdIIVFMVhcVWOgniH18D00Z554\n",
       "K/bCYXd64psQuJF3I2klccNuyBu2V+DV978RgdcTqV7PvirX37aEyyFOMyXHyOnFsKXL62Z/LHGE\n",
       "C9kFvv3ffZ3/7Ld+ClsIZoJ8LFVfFAlQJHSCM14vN7JZUsJBoZnVORLY3JQ3y4at68kTL02vSupU\n",
       "PASeFg6DSYesr+lLCO5kA9osyb1Cjj1ukrFCnjw+GZFdjj734yVCK49drR2S8uH6UomndIphO0Uu\n",
       "UMzrAh4OGfIccFO8XbyLL1bLuXIBlepD5munflUOqVfrjVf+HlnCxZUpTqiT9DsJzvl3cbDJizzt\n",
       "qoOsyHJEDNLjWggBP3Vwkv/3Sg+5QFHUmvPyAn16D1f918qi22sLPKJ1RN6qAoedl/gGBW7k3Sha\n",
       "TdywW/KGnRZ4vfJulLhLfxZYONIjKTs4rI7hILknJpFIDjHADcY5IgY50WGRtMI/3em8YDKvWQoU\n",
       "vlZIBINJm0vZRQasNuaCAge8JHMFRU4FzOoc82KBJTG/KhJ8LayS8+TicVjtZ1yEa3MndDgcPuR4\n",
       "SGCkGKZyfbTH471ZRdqWzBcD7um5+OYi6oFXIwoqq4bUUTCbjcTiF/eneX/O47tzYYW30v1WG4Eo\n",
       "/V5tBbSyY2HRqfv4Uu8evjJ9BVd77NeDXJU3kFicEgcZD5a4yrt1pYpVxi5E34+ph+i0XNosyYXi\n",
       "JJ5O8v+z9+ZBkmR5nd/nPb/ijryzKjMr6z76rj6mp485mQEGGBgYZmcRWsBYJLQLK4RGK6FdQ8Zo\n",
       "kVaAZKDFtJgkA4xdWGyN1QKjEczN0PRcfUzf1d1135X3ERkRGeHXe/rDwz0jIiPyqqyqrONXllaZ\n",
       "Hu7Pnz/38O/7/d7v9/2OWTn+5Qde4zNff5iLegaJwYKYJiRkSI0yKS+x6F1cJZiylXKz2HYKf/o9\n",
       "EN+Y3QPwm2y3I3DHdusAHLauULa5dtdLXrse0O52fMukoIkCNl7vNoSNLdLYpBPykBwp8tLm+3cH\n",
       "fHvWYd7z6bFMJrx64oUrEamKmzrSO3ca4iNprIRnvbkmO7ZmUDPax6fdEybS7X7MHiNrwpvVMm4j\n",
       "IczBZsjIMJY2mHU1Z/3FjmH0TuNoINkvBymFHouikhxjNMY4rdOMmXkO5QVfW1jEE+6qScFaoflO\n",
       "YB0StiTLSYyEkz6rsxRIkxYmCo2rQ6q4zDZC2+3UttC5BK651DC6v3YyznGdfFH14gmXId3LRXmV\n",
       "qGRuEAeDN8VrhNon1B6Bqq2qMV8fxKMr3YhdP5hvHchuZwCHmwfiGwTwe8B9vXY7AzfcavCGrWuE\n",
       "b7zdbrzpsdfkGEV6jBGWdYnjPMJV5qiKMrPBBVTTGupGba2scwCzEW79ZPYJXqmUqYoqJTGHTRpT\n",
       "2xxgF6YUVMOAWbGEo20GRJbLzLaEqKU2OCR2c7xX8uW5JUwMXHxGjQL9tsG361dawHw967QuHZ+n\n",
       "eRJjIDG1FY0dFkESOlddz2Nqi08N9fD8jOJYwWJ3OqDP9vnSRIoPD3v82RWFjUm/bSKF4KpbY4nl\n",
       "xKsH6OTZd8sD6HZtMftaPPk5avcRaPj1Z9/kf/zWQ9RDjacUphRcDhf5R+MZfu3yiVXn6tS+EAZD\n",
       "eow+nScrLS7qGUIUOZ0FwCdgj9HDS/oNIAKDeOmkoucBKIhBhtQgPdLhRf0yEoNRfZAT/t9sEMRh\n",
       "swC7NUC/e0EcbjyQ3wPwG2y3O3DDTgBvuDEAvhq8mz3tJNTZ8JKef/8Yn/i2YK/ayxl5OmH8OqDv\n",
       "5231HWCFba0T7eq6fe/CwNbsvdkyx3/e/yAvziqkELzFaeL65V/dX+T3zkVZ7w9kc3ytdhpoBZR2\n",
       "8G3mcP/i0pWW9eKNWkubTSAer1JndZrvG8zw1Zk6Hs3h8zZlNh3lmxdI8w/3B3xlIkePDVeWFUpD\n",
       "XYW4OmykpUXHfmJXir+YrFET9RbPPjYLC6klPWSpEfHRmxjMivnkWjvVm8fJcnGY3tRmQ+vcpkyd\n",
       "ENX4TDAvFhPVuEAE9Ok8S0RyogUyXJUTidBLRhd5zB7jRf8cu9QuzsqTSAyeNR7irL/IbllgQi1R\n",
       "FVXmubrKi8+IIg9ymHe5SFpnACiJOeb9C0ky2/rr4e22eZDZPJhvDcjugfjatgEA3wkv79vP7gTg\n",
       "hp0C3rD9AN4K3kIYHLafZUD3IBG8wXcpyl3YOtXYO2p3XkwnnOPdNLk3Spma9HmdJLp25jBDWKu2\n",
       "xx7aIb2HUMNlMcWyKHU9ZwxSWZ3noBwi0JpZtcxD2Tznqi4KzRI1eshgCYktJefVzKrks5Y2mxLL\n",
       "4nPEwDdm5bClYDlQeEqRMQ2u+VXcBqgm19EoGjMbxWRpYTJgW1QClQB4rSmzPGwC8+YJgdSR8IiD\n",
       "yXg6Rd6E3emQC1WDC1WfGj4lsbQqUhGbhcko/TzWazLjCqSAegjVQHPNrzLfWPtXIsTRDqP084mx\n",
       "kNNLKU6VQ6ZVhUl5pUVWttk6ZbfHE8bdHOCKPtnxxd8sc9urh6mLKrPBhVX641uXLb2RYL6Ftu8B\n",
       "+Jq2DoDvlJf37WN3CnDDTgJv2AiAbwy8O695N5doDdv38eHUYS4sR0DWa9qcDxYIhI/E4AF7kO/4\n",
       "pymrSCZ0LS3utcB8PeBOtrE6tN9JWKSTMlj78bG1r/VmdR5bO+w1i5hCUFeKgmkw7wVM6FIS9m4G\n",
       "zNZzRC2ldZrP3u/yv75d4EguRdUHBVgSpuo+rg5RaPxkLVo3/l8BMdmonY9C7waOMKjpIPG8249p\n",
       "Dp3H4xJ7xxYGNiaOlLx/SPP8tMCWgrnAxScki8OgY/F4n89fTPgcSGV41Z0kLk+riVoLwP/s8C7+\n",
       "YPrqqjB8HM04InczGVa4Ki921DRfi1kt+rz7sxQ/G33GHp40D/FQj+I3Jr+ypmjK9UmX3ggwvwfi\n",
       "22lrAPhOennvfLuTgBtuP/CGzVOodhMvaQ6d583hZO0xJXIcVgcZz1h8vvZCIhG6kfKjbi/NtTLe\n",
       "oTvPePTZ5tTBmj9rB3ATm986nOPXTilMbSaymbGHHIe8V7K3V16q7R63g0WPSLE7bRJo8BXUwygT\n",
       "3THgXNUlSmXTTW0IRp00SmukENRDhS0FB3Lw7pJmOQyp6aBxbo2BwMakaJkorRNAbh4bC8m+dIpD\n",
       "+ZBXFySfffoE/93zx5jXtQTsTQwcDOaptGSwd1onXysBLr7+MTXOWXky8bo7edrrMbm1W/sksJOX\n",
       "vd7EYCsAstlytNXn7Aa890B8u6wLgO+kl/fOtjsNuGGngTdcv/e9vqcbS4NC5IXHMqHN69ASyVGO\n",
       "M+5k+Bvv5eQF3eyRSiRjHOWqOENK5PhU/gH+ZOkFAlUHtkZZ2tzH1s87A/h6x7bLZUoMnrIOYEmY\n",
       "qPuYQhJolXjLHxl0OFuR+ArOuVGWefv6NURh67hfBpIsDrudFFOum2x/b7/JK/Nh0nZsJgZpQzLo\n",
       "GCgNzwzW+MZMmgUvJFAahSbUK172e/tNzlUEB3Ka4ZTHK/MOC57ivQNRm1+eiihcAlbuT3v0IL6G\n",
       "5sjCRsvPovZWb9sOKtZm2ygt63YJpbQnb6aNXjxVIVD1LWe4dwbyeyC+HdYBwHfay3tn2p0I3LAT\n",
       "wRuuD8A3Bt6GsMhbIxzQx5iVcyzpGXxdRyJJyyL/oOd+/ma+wvt68vx16RpH5C5e0K+3fCFtkeYn\n",
       "ivfzlYV5sqQB+KVDHr909kwjnLq2l9T92tZmeOsmMNKpjRi8B9UIPz+eQgJ/cCng58ZNTi6l+dDu\n",
       "GUyp+KPTQ1QChasURoMNNmMYiSdcw2sBxPbs83hbg4AVo0HGamJwIGdhAAfzPl+bFCh0EjY3pcAU\n",
       "gqIlWfCicLlqvKGO90peW1AorTGlwJYR//mZssZTmqABFAeyFm9UlpNwe7f18vZoQqcStPj3bvXj\n",
       "3Vnbum1fXWbWDcC7gXe3bRsVSYnNEFZHcRaJREqbrDHAuD5MGpsQzWvh19E6XMX81tKHLgpp2wHi\n",
       "dwKAw/aC+D0A36TdqcAd284D8OsJn68N3u1hcyltDGFjiRSmTLNLjTMnJ4GIuGRIDTEr5wgaGtax\n",
       "AAaAQ5pnrMOccOcYlT0o3SBZ0TUWRYnH7DG+6r3Q9WW+EVtPrnQt4G7+vNn7/njuMJ/cf4XfeGOY\n",
       "J/oi79iWkkBrXKWo4RM0XrQOJi5BAsoWMlnPlkgOpjNcqtVbssTjPueEhS0lwymDvAmTdSLQbXjX\n",
       "EkHGlPTZ4Co4lA/IGCHPTdtI4FAePCVYDmAgpblYFSx4IUqD0iseepAAq05C9CNWmmt+DQtJlahe\n",
       "PK5Hb7cYzC0sfrhvgC/MLWIgOeQUedE/l4B5zOK2lgTqWtGW9uegPdFtLVGUtdpqbrPZ2id8fdY+\n",
       "irqfh+xdXHKXOZzO8DX3BIsNFbW4hNEWaR7UR3mF1/B1nbwcYNY/mywfAZgyhcAgbw5TCxfwdY0j\n",
       "8r1URZWL/ssEYY3uQH4PxK/H2gB8p728d47d6cANOxG8YWved2fgbg6TQxuphrDZazyEK1w8asRU\n",
       "od9XGOH50gKPZXt5pbpAIAJ208OejMVELeSinuGwMcTpcJrff2KZX3iplydyvZyoLDMtZ5DawMFB\n",
       "EZLVWSSCqqhRFosMqV3sMrK8pN9KEp7WKj+TGNgizQesB3igJ+TfT88zpHuYFHPMi+k112ZbR6d1\n",
       "/RuiuuchNUiVSL3L1BajsodAK6b0UseSLwsTG4se6WDLyIMuB7GfuwLMUfsGloi85mcHFS/NGUgB\n",
       "//Uj5/md1/c37pHAkpAyIFCgNOxOa0wJg47Hy/MOoYqS4iLgh/GMoBrCf3LwCn9+fowz5QC/MXmK\n",
       "z3esGD3ZKUPjKcFX5yJ99PalDwPJI9ki56ouvVZUOvjzR6fwQoO/mxzgbxeirPWyLCWTOOjMYmdg\n",
       "kNFFBnQfA0aKy2GJBTmLrdP81tEU//RUFQBHO9TEckIG08MulkWJmirhqmifjQJ5bPHyjylsAu2h\n",
       "CZPloJhDvZkkKCVyuNQSPvg+RqO+4TArJvBUpWWS0UwTe794kmk5ja1T/Ejvbt5YCHmF1yj71xJP\n",
       "Pdq/+RrugThsD4g3qZHtxJf3rbfbRR3seu12BW+IFZaarRHCbdw7KS1M6dDj7GNM3ocnvQgYBQ01\n",
       "qCwfS32YjM5wlWs4ZBlQg2TJkBIWH+y3malLUjgYyqKMy2W/wgJlfAImmMMTdf7DREBVLHHGn6Ek\n",
       "FiMJTxGgBaR0ml6y/OiIyVQlxZSYRiM5li5wLphFCY0UBg/qR/jFPbtZKo8xJ5cQQuKINP3sJkuB\n",
       "nC6yFIa8srxIXdRZEIt4og4NJS9YrSzWOqLNrG8NVTIkipCqWMYTLkoofOGxoKssUSMUEShHOla6\n",
       "0a5otCfJSouUITEagPnPj1/hQmmAWkDDV5cYAgQCDVxeFigNIxnJ5XIPaSMKmwsBaQP6bI0pBL22\n",
       "JmsqSl6U/FYPJQULfmR8BjfMoBBUA/A1vDRTIGXAr3/4uzx3YZS0YZA3DYq2QArBybJiui6YqGv6\n",
       "TYeMsHm0kGXaVRgYWBg8kitwthqt14daUzANXprNsuBmOVlWeFqTxWFRLCbjGqm/tf4zsTCwEEJy\n",
       "nz3IOX+RAmnQJjmyvDmX4+FMH3hZfn6fyYmFFD9Y2Mtpb4lAeOxT+5niGs2KdbHCWbui2SqFM2GR\n",
       "Nno4Ih5FGyYP8gj/cPdBrlb7wDCQ0o4AXJiYMkVBDDCsdkVPj7AwhQ0C/od9/XypNAtopLDIih7G\n",
       "Ocxx+yhzos5PFJ5ixnd4NNPPtO/iihpv1KfZYwxwTp0nUDWU9ptC6s2B3va0q82peQluhKLazbft\n",
       "UDFreOA78eV96+1u8Lrh9gZvaPfAV6hIY49bIinYe8hSTPZ6yjrAl9xvJUlRhrARwuDD1qNcdWu4\n",
       "BPSJNIMpkx8aXeQLV3uohZoZz0OhOZRN8XJ1jjQOASE1UaMk5jqGVS1sBtUIV8XZ5LN2go44UW6X\n",
       "Gme/2QvA+WABJRRPpAfJW1Dy4Fgx4C8ma2SxCVDMixJVUe6YcNXJOoXZ2+lRW7bp1WVrBhJbO3x6\n",
       "V56vT2n6bItP75vjc5f6+YHRRf7kfJ6gsXAthWDQMfjE+BwnS0W+O2ck/pMkXvOOyswe7PGRQjNV\n",
       "s8hbipwZsCdX4WIlT7/j8tZijrypmHMNFrzIEw8V1JtC8UpDoFWS8NacKOcIgw8OSb46FTRqyaPP\n",
       "+kSaeV1DIhixsvzASI3PXXGYDyMwf6Y3nXjfgfAb/7eSwLRzt7crp43qQQYdixnX5wdH4N0li+GU\n",
       "ZjkQvF0KuMwsIYoZfaFrSH0jFi8RvUe8n9PybKKd7ok6A2qQJVGmJGYb99FIWP0Oid1c1DOkdZpP\n",
       "DOX48+klAI5nenlleS6JOsSeekznGof6Y4+/xxjhp/sP8rvTz7MczBIqjxuV2HbPEwchROr2n8ps\n",
       "s90twA07Fbxh62vfUajwPfbHKYklymKRZV2ij1EOid2c0RN4okZFzyfreIaw+B7rSS54FRYb5Cf/\n",
       "xe5h/uRaBQNJnlTC4jVgpCmHPlMiorRM6zSBCCiJOXxWwuDd6n/XvOJGSDO2NDkOqn1Mi0U+szfD\n",
       "716IQCMQAcdTg4QKXvQvrkqwisFjj9rFeXmp5bNm6wTYyfF69VJDc7kYrITRZWOMPKIyL7OxNh7t\n",
       "K7CE5IdGFKbUvFNKUQ3ADWE8q0kZmum6pBGBJ2dqpIDhlEeP7TOcrTBRyXNlOUU1kFQCgdsIr8uG\n",
       "xz7dWE83BfzQaJUTpYiS9KV5r6Vcba2ktm4miQhh7stm2J2OMt6/PeNwwV0mJ6yENKfZ+nQPADWi\n",
       "aEbMMGdhcsDJ02PBiUqNomEjEVwOS+wxilwMF+ghywnxelK10Hzv1gPxGLzb2fviZ0qISAo2o4s8\n",
       "bI7yTjCFT4CFSZ8uIhvEOd+7W/PWokU10FQCRVmt8NHXxDJF1ctj2V7+Y+U5PFXpyAHfKXTebPdK\n",
       "zFbsHoBvk91NwA23P3hD9/XvFiYzabd4kNFxRkupmCHs5GV3n36QCTHL7z5g8ssnFHVRjdafdYoD\n",
       "YhhXKc7Lywk95pjay6JYYlksEQtgvCPe6pp53om6s71v0fbVwhdWQ/DC1mmOW6NkTcHLtRn8xgQj\n",
       "rdM8nO6l14YFD67UfGZZoior645lTB36e8c9/pfXRqhqnyWW1y0Zi0ZdJr+3Z54nSW8iCmdL0dhH\n",
       "gClE4oUbAmwDskbkXT/SW+X1hSw9tmLelbgKLAG1xvDVwpW1cICMEYXmFbDoBUmpWjyZCBvgHSXe\n",
       "BY17odblZi+QISss/v5el9+8GKmptd9HW6d4Oj3CN2tXgIhIJq9zjFnRZKKuFIdyBl9ZmiSiYbU4\n",
       "nhrknVqJRblInUqUFqebJ4HrPzvJ/ejwDLUnPcY5FA/qoyzqOr96/zK/8o5CYvALe3L82SXJf3Ws\n",
       "zO+f7iVnRscs+SHzqkZZRHXye9UIb8t3yOs+PFFj2j+VTDY6U7huFsC7H7OW3a0gfg/AufuAG3Yq\n",
       "eG/uPmwk83wtgRJTpug391HXFXbr/fxAXx//ZvFNPBWBXa8cZVFPJh5NUQ9SEjMtHnb8UszoIk+n\n",
       "xtiT1czWBQVb86eLb1NVCx2pNLtZ/CJu7qshLFIix4gapyqqxMIXWZyEVlQiE29qn50jawpOLi8z\n",
       "ZKZYDkOOFSyqAZyoVnAwmW+E3R+whpnzAmZZYrcokjEN6qGipgIUOsnaXhndaMzbt8UlYxYGR7Jp\n",
       "FjzNgu81rkkmpWimiLztQcfADSMvejyrmXcFS43E5rQZeehCRGBeC4lC4g2v2zHgd3/x3/Gz//tP\n",
       "4qmohCy61/BgUfJ2SfP0oOL5aZGUlkmi9XkpoNeW1MIobP9WbWFNhbR2zfJu5C6d7mPMcLdf9hNo\n",
       "zSmuJG00R0muihmUCDnCWBLGnpdzHNHjvC7eJtQeOdHHw3IfzwffWTNqYAiLjznv5RtexIO/rEst\n",
       "z1M7B0BW5wGwtcOv3+/z2bcdxsw8V4Iy+6wCl/wKS6JMobGfi8cl3mmE0T2U8loIjbqVkbXbPca2\n",
       "1bYVEDeEMD+77T25TexuSVBrtzsBvKFT8hpESSGy6a/o30rCyMrvGkVdlcgZg/y9vnGem68xL2Zw\n",
       "VYVAuyzrRfbxIBW5xJAeQ6MZ1MPMMxnJOWoXpQOeMh7nHfUmp4MrvFaf46rv8XL9Eq4qE2iXUAdJ\n",
       "P9r/tT9/cZJYawIThAQ8au9nUpXp0QXGrDwpadBvOjxadJirRa/kEMVMuMyVoIInfErKZcjMcLJW\n",
       "5WQwTVVWKYsqgfDRQBBaBCh8AmwsDCF4pFdytuZhNOq2DQxSWOyxcvyjQ8tcWupBKcHxXJ7jhRQT\n",
       "y/DRwTRzNYPjPQ73FV2m6yZKC1LS4IPDkDMtfvGhi3xjsgelI07xQMPPHZ2iaIW8tZiiGip8rfFV\n",
       "tHZuCuh1NMd765yrWLhK4+uIk/wLLz6MpyNgl0LgaYWnNFdqAZ5WnK4oQq2xhORw3sKSEikERVvw\n",
       "7FCVSmBzorLMYafAdLic3I9O4B0F4XXLUsXK/mHH+xpNCALqosoEs0wxGyU1JkH96D5bOsX9ziDP\n",
       "FIpM1TW7zDw/OR4ytzTAVVXCxOFR4zBhaHFVzxPIAI1Cikg3PppcikbZV4ZBRgkCkxo+WmgQEahb\n",
       "2LzPfJApVcbEZq/aQ9CITLjCZVj3MlMrcsqfZYI5fEKGZYHTXKIuqiyKeZbEIkpoEIK0zPPb+x/m\n",
       "hYqFkGZj0htd++rvY9uWDXGnbz7B63ZPbttKUttd64HfjV433DngDZtnX4utmf/cEBY/kP5hvuR+\n",
       "CVhZv1s5h9HYz6ZgDBMSJrWuXfvVdO5uXOgbETCJ+2eJNIqQveoQJgY5YZEzTcYzgmeGFvjbyV7O\n",
       "VCIvqGCaXPIriafeTA0Ka6+Fx2vfe/QwZerkSTGStphzQwqWQY8F56o+vlbsyzjMuYrpcLklUSxq\n",
       "R/BUMceCF5WBAUzUBP0OvF2Kyrya68SNJKS+ElbvdyRzrkpIXJoJXUwhGMtITAleCI/3L/OtmWiN\n",
       "+ptzEX99vO7dHMa3RBQlqOkAlwAXv6UevN0D76YrvhYrW7cxbh7nTjS2jnYY0r0sssxuWeCcnqIk\n",
       "ZpO2inqQHl3kgjgJRM+lQ5pj+iAAl5ihoPOMWTnmfJdZsUiIYlD3MiXmorV8neY+p5fXvcmkXLK5\n",
       "nr25f9+ffoCJWsiicklj8bZ8h7paSr4bhrDIy0Gm/VMtKmgb8cA3p2S2tdDy7eqNb57k6S4D8HvA\n",
       "vdPsRoD3xtruFl5ffa7u/OMbOWa99qEV0JvrdP9+/hmWfDhRX2BBznJcHuR0OI2tHUaNApNhBROD\n",
       "+zI5Liy7TIsF8jpHGovdjsO8F3BKXOoY/m22ZhA3tU1WZxk1CoylDf7TIxf4d6f2MVlXHMhJXl/0\n",
       "+dmDNX7vrNkiD9o8PrECmacUgdLUdJAAq5GIlTQ8/AaApwzJrzx6gf/zrQNUg5hdTSdZ5RDVdvfZ\n",
       "JrKxZj5Vb13rjnqjm65LMGCkk79TUmJLQSVQ/MJ90/zqW2ncDhKqjrbZZxWY8uvMixI+AaN6kAkx\n",
       "R11UW8azEytbs7VPCAF+LPMo36zOILUkS5pxJ8M5t8xFGbH2bST5USLpF+PM6UurPjOETU70ITHI\n",
       "qwLDIs9oxmTOVVwLqiyKEgfYxSu81tJvicGn808wWYvG/lvhK0nWeVwDrhtr9O0CKjsJwOHuAPG7\n",
       "BsDvVuCGnQre13c/tiIb2sk6iYmsC7brcJKvte+aE4UOIN6c0CaEwTB7OWwM4SnNW5zGJs2zzl7e\n",
       "qZWZlpOJJ6UIGyVCFhWxsOb1RO2veIPHxBjlMJLcNDEYsdLM+C4mBmXqqEbIXSIJRNC5vUbmdTOt\n",
       "6sq5Vpjc8oZFrx1dYy3QPN4fkjIUC55JxZf0OyFfnlop+Womhnm01+StxZCq9hOPe4WJrVWprN0M\n",
       "IiGTw+kcJ2tlFAoTIzm+WegkQDFopZjx61SoE4iAw+YAeVPwNffEKgDfiNJYPObt27slr220rWZr\n",
       "lh59RD/IBJEEqo9PRSxQ15UWRrWVtqJnLY78BA2pUliplKgGs2hClPISEN9IEtvmdcRXt7FZux2B\n",
       "fKMgfscD+N0M3HC3g/fGz9dNFazb89OdzrS7wMi6bbYBeNRea5QgfrmunM9IyoNiatdOHl97W83W\n",
       "TO7SLHAiMehTfVRFNcna7nSNURurS8ya923PUrcwMJH0WzaP9im+OOUlIByriF3oQssah8UHLYe8\n",
       "Jfi//u1/5Hs/9UNIBEXTYl9W8lwpmrTEWeadLJ5kpHF4IJfh6nJITQUEKCQCRxhkDIOMIclaURLd\n",
       "wz0uL805vO7OUBPLKEI8akkYer2M8fVoTzcK/tBdbrRlGwZ9xh4eFPs4lJf8m8VvJYDb7nk3W7x8\n",
       "M6oP8VCqn7/z3sXHwyHNQbWPrGHwrrrGsO7njDyNgcGMd7pDKH07AHx1O5u12w3E7wE498B754H3\n",
       "9tyPrSUebt4Tbz3nxoF4LaGRzYD3Sntrl5l1ant9JbPu9Krt+3StF28jeTFin1vLlm1AlCCHaFSN\n",
       "Sx7vM/nufIBHsCrsvRaPdwz+RcPmw8MR2csXrjkAvKdf88KsoK5Cnuw3+eLsUhIeX2td2tQmwyLP\n",
       "zx8p8YWr/VysRrrlg5ZDXSlSjez1eqg5UhAULcUfz0wwrPu5KifwqOHTHPZeP5Tefp2dgb1t/xuk\n",
       "Kd1s8bNnCJtx7mNU9mAKwSk1iUIxoPtwMBhNOdRDzQV/iUl5BRObXjVAVVTp0UVe9b7QsQ586wDO\n",
       "qra2YrcTkG+MNvcOBPB7wH1nAjdsFbw31of1QDw6//qA3E10pKWMrUt/unlRa51zo0DebXu7B97p\n",
       "3F23N0DcwuSpzC6O97r85RWsTv+yAAAgAElEQVSZkLo0e9UfHbI4UTJYDhR1FeJrRdB4ofqEBB1K\n",
       "udo9+Obwu0QwnnaoBpoBR0Qc6ho+uf8Kv/Z6PyGakljqWB7WPnbtkw8DyY8N5/j2LNRCxTwVni30\n",
       "UvbhOfc0QSPa0Rw+34z3vZ7852bBu1uy5Eat/Xlsl9EVwqAgBsnqPEO6h7dlVEq2HC4QNoXYlfLa\n",
       "+rudAL66va3a7QDkdx2A3+3ADTsNvLf3flx/yd/2g3g3MG0mihkx7mNanU2SgDZ7zvUAvPm8nfvU\n",
       "LuLSmg3d7TzN2zoBeLMHbiATAZSf3F/lr68UmHJ9PAJMJIO2TT3UFO2GRy7BUzBV95EI5nVtTZ1x\n",
       "B5t9do5KEMmJfv+I4isTBmUVpdHtc3KccaNkswEKWELQY5u85l1blVW+0m7nCIKpTXKk2OOkOeWW\n",
       "GJI5zugJAuElyWtx9jZsTFK0/fO1AHwj4XLoDtrXI1cbA3kzgA+LAzjaIRA+s2KCWriQ1IC3J7Gt\n",
       "7ut2A/jqNrdqdwKI3zF14Hc7eDcLTNx6M+AGTCQ6131vxlprxDufY/1+N+/T/HvsqUhpcdR4mo9k\n",
       "H8INeliScwhpMioOUxWlyJNMxFS6ny/mMls5V3fegvjedwPvKEHNIk2Op82jHDZ3cSUsJcDcfJ5m\n",
       "DrX49+Ztho5WsKMacYmtbd6fH6LmWRwrmHxuIiRQMCUW8QjIkqIWKnKmgSUFo2nNgidY8hU1FbI/\n",
       "Z7PkaZaF27GuWglFKBTzYZ26DjiYyTDjGngK/rf3neLfX3KYCssEIsAXAWWxzDxlrqqFxrEBSqxu\n",
       "FwFaaCQGOZ0lgq/omiwM/vtHrjK5tAtTSB7LFVD1fEKAk7QBLbXPLeIiQDMXnWi+7417Fh8bH0Oj\n",
       "Pry9nnr1390mB1vxx1r5ESyRotcYQwnFb+17iK8uzeCQ5r2ZYR5ydnMhWMZV1SRbPj5vlKG+dh14\n",
       "9B2+Xp/x+kVAIBr/nV87vnbfbnsP/B5w37ked7NtL+HO+jXia/dldWJZ8ruw+T7no3wj+C6GsEmT\n",
       "o0opedltJGGp27k69ncDnrfEYEiNcp/Tz6IXMJwy+Xb9Skt9eLuZ2ua4Ncolr0pZtNKw/uZ9kn/5\n",
       "do4DqQzjWc1fzc0n9KJAS8Jbcz8Nolrkz97v8tm3HdLYPN2X4q8WpjqGudsFVOLJRlan+ak9Jl+b\n",
       "dHj/kM/vX5tvKWWD1TXczda+zcTG1BbjDLI3a/FyZQGF4tPDPXx5yudTY4I/vLLMXrNI3pLszyn+\n",
       "dO4ydaJx6VYD3hzpSJEjrwpYmFyTl/DxEvlO2Jg+eLLvBpPjtrIPtHIfPCqe4Q1exg1LyfFCGGgd\n",
       "JvXf7f1rtestI+tm258PsFM98rXu220L4Hc7cMNOAe8bfx+2ny1vexLaYvB2jCJPyWd5XbxNUQ/w\n",
       "Px1O8dVrfbxRWaZKjWFR4DMPzPEzb0+01Ph2aneAPXiijkeNmiqteyXrJa5JDD4zfB//YaKORFAQ\n",
       "DvN6mRDFh3t6+cZimSVRXgWcFhZHzQHSZsSINucqBlOSC1WfR3oslgN4uVKiJmorvOJrTAia+yi1\n",
       "sSqcvWo/3T4ZiSYA/9lIH7ZU/NVVi2lVwW2EtTdKwtL++3rWrJfeo3qisRIrYfS1CHKS68Xgp/sP\n",
       "8sWZKhLBoVSOl91ryX0G+FT+AcoNqtuAkAvi3RaK0vgccR12u3V6pjYTSl+r3nytttdPrOsW5t8u\n",
       "sLzzgfyOA/C7HbxvPXDfvPG/MVS3WwfwTuvfcejcMYoYwqIgBgnwsElTpUSaHFmdp0fnOClOdPTS\n",
       "CmKQj+X2cqEacjlcpCorLQIXnfqRJseIGuWsPNnSXsx1Hf+d1z3sl/2MpCNBkKs1n4r2CQgZMjKU\n",
       "Q58lai013bHSmIlBn0zjKkUNnxqRxKZCEYgVEpdOHu9GgHKtdfeoH6vX2febvRwrCKbqgp86fIU/\n",
       "PDnG6+7MqnGVWlITtZa16830rb0/MRh/srifbyxUcfGpiipKhJjaQqGSzPRVfWlMXLI6G4X6G+Iz\n",
       "R+QuAq3psw1edK/giVqDcjXEIU1e9/CIM8hXvFdxwyWCxrPQDOLtL/i168fXB6e1jl+VbLdFAF9p\n",
       "7543vhHrPum/jQD8HnDfSuC++WN/Y3nqtxZG7wbg8d/dFM5SIscPZo7xxeXTuA0Ky+jYWOKxwPfk\n",
       "Rpiua/KWYHda89W5SEjCE3UCPH6y5yh/uTBBzHk+rPvotxzeCq5Sb8g9xmQsWZ3H0TbPFIs8V5pj\n",
       "gAKKCIRdfAZFjoxh8Ja6nKiQ7WEgoRkFeKYnx7UaZE14p7pMs5JXDPax99tM2bqeV5qM8zpJdDHo\n",
       "WZiJKtiRbBpLRJSuNR2syl43kKSx6TcdpBC8HUzgiXrXfoWbePkbjbFNhEBUjt2iyMO9BhVf8Fo5\n",
       "iri4wm2Z1EhtkNZpnsz1M+dq5nw3kad1MIlV0uL7sqRdekQqYdAL8OjVQ1zRJxMNblgB8eaXe/c6\n",
       "8usD7k6fb6ysbSOh/Z0J4rBzgLzbvbltktjuZvC+dQlqcTLazZ843Crw7nbu9gSy5ucxEqYQSGmR\n",
       "kgX+xdjTfLMy3wBxix/OPEEm6OUtby7Sh274ySZWAgoCyVXPpRIGEFq8ulyiLmqYmDxgjiLDLDnD\n",
       "ZkjmMUKHEsvMyCmu6bmG1xY0oKzxI0KOmbv5u/p5SmKOGTGLwmBSXqEilpgWs0zqueR6BZKaDtAI\n",
       "cqToNx1AIATsSmncwOLP/8vP8cWXH+HhfAbPs7G1RY40h5xe+kWe5VDjinqL8AesiH+0T0Dbt7Un\n",
       "0sXbDCRPZIYYsC2e6K9xZdmi4mt+6ViZF2YdJJIMNj8zbjJVyRBozbyqM6Mq0EhSk5gtiWwhrQlX\n",
       "3URJEtGZRmJZSBAxkBHiCZd5UeZMrc4112NI5qhqL1p+sIZYUn7se4MQTHoeVRVgYbDLymBjMpay\n",
       "yRkWKWHyof4UEzXB0WyKd7wFjsjdlLRHVSxRYQEhBP1yvJFvECfRxT8ro9ps0ZRrfR9ts+Ad37/1\n",
       "bf2EMyHENiS33Rg/dOckunU+/473wO924L65tjPG+sYrxG3O+16LxKU9gc2RWcyGStQ/HznKv746\n",
       "hyfqpHWGUfq5SgSao/STM03O+vOkcbAwqOGtWmONzmEkSWVZU/C1+ru4jbXT9chDul5nI8FtrzrE\n",
       "kVSeb3nnEg70AmmKhs1gSvK9uxf5ykQPnoIFL2QsbZCzNF9bWKQmagzrPibELJ6otfS53bNtL1mL\n",
       "+xD/H/8knzWtgcfh8zgsbjXoYLLY/B8fOslvvfAwJV/xYI/gTFlwKK95cS6gpgNqeLjCI6vTTMqJ\n",
       "JDy9lTFr7nO8TGFiU1S97DWLpAxJoDQzvouP4qfGBf/3pTq/vN/iS9dyGBKGU5pL1UiQBSBrRZKp\n",
       "k3VYDhSzYZ1/8fAC/+RNQV1UcalhYPArI4f411fnGNWDZA2D58NvJZKe7WVcsW3E645tM2HzlnNs\n",
       "kxfeer5bS/aylt1Kj7zTfdjRAH63gvfNBe6dM8Y3T9p14wDeDbw7ZX/bMscvD72fP5qLar5TOkdW\n",
       "Z7EwcTCRCPKGRTmMwqc1/CQc7eKuSo5qD/U2c223g8/mBBA6Z6tb2JjYPGUd5pxbxsHkJ/YIPn/F\n",
       "pKYDTAzmqaBQ7DV6qYYhHx/V/KuJiy3AuJ41g7lNmn+2Zxf/9qJgieVkXR3AwlrpY4NgJUeKI9k0\n",
       "F6o+lhAcK5g8NbjIN6Z7OFpw6XVcvnStwN6s5rnZOv/4oMdvn42Y4CwkF+XlliWMrYxbDOKjai+u\n",
       "8DC1yX1OL/NeJNiyqOv84GCWz81ESX6xXruFhalNDCS/uM/kLy6n2ZeTvFqKJmMV6rw318uXl89R\n",
       "o4Kva0n/Pmg9zWvheY4b+/mq9/WWZLZbCeBwY0B85dw3nzt9PbtVIH7bAPjdCNw3D7R35tjuBPAG\n",
       "1lQoi/mhpbAxhY0QBr5akRU1hc1T8lneEifp1UOY2qSHDP2WTdoUfM9wla9MZBlIwblKyO60weuV\n",
       "Mj4BD6R6eXqwzp9dhikxz7JYSrjN28GmO3HI+i+WTqxtMYDvUuOUZSnxxGuihqMdXOGS1ulGQpif\n",
       "rLW3y1Fu1Jq9WJs0R/Q437tb86UJyJkm5/1FDCR/b1eWqzWT10t1stLisp5PzmNrp9GG5JBTpM+G\n",
       "c5VoXf53PnyCn/mbA6SxmBJRidv3Zffy/1ZP0ImzfGX8ul9Dpwx/Czv5TGKwV+3hory86rgogmI1\n",
       "auYd9ppFpoM6ZVHFx+eQHCZQmlPiEh41jqojvMZLSRZ6snbftvYN669/bweIb3SScw/Ib6zdFgB+\n",
       "t4H3zQHunTumNw+4YbNMbO3lYgCWkcMSKfJykIqeT2q7mxWcHNL8t6N7+OPLASNWlnqoyBiRjGX8\n",
       "lZ9y3SShTKGwMCmSYVosUhVlAryWcHQz6Kym7dzai6Q9ipASOQ6qgzyQT/FcZZKSmCMkZL86xLxY\n",
       "ZB9DSCF4lRNdQbDduvPFrw5FSwzSOsOALlA0LUwh+NHxMv/flQITbh2FZkJOJxOIZ529zHkh5dBP\n",
       "gLM5ke/Dmb1crPrkTJNXwjPUqKzLeLaxceuUyLiamrZ5aeBZ5wBZIyq922cVWAoCfK04K88DUSTi\n",
       "SWsvgdac9Oa5wskWCc/Y2kvINpKBfjNBHK4/M309u1lypBuxWw3iOwbA7ybgvvGgvfPH8uYCN2wV\n",
       "vA1hMWzfx7KOarI/aj/Bewdc3ik5fM/uBT5z9lriKTuk6VWDfGa/w2+fd3GFy2P2CCfcORxsPjaY\n",
       "5VxZcqK+QCzy4QoPF5egSZP6k8X9vLoQME+FqqiS1mkC4VMTy+xXe3hLvkXQ8Pw3SwzTbu1a59v1\n",
       "PeymfNYpfN8OeA+Lg0yGVXYZWQKtKSuPCnXKcqnF64eNg3CnZYd4ezdbayzW4phvv55eNUAah0k5\n",
       "mUzM2pdEYmvW3oa1CVw2C7Y3G8iT8655zPUD7MYA/c4A8h0J4HcLeN844L59xu/mAzdsdHzW8r6F\n",
       "MDhqPMOCnGVZlxjVBzmv32g5Pg6xR+Vj0Ys8RY49ahcSyVUxkzCWpXWGHp1jt52iEije4N0ElCxs\n",
       "xtQ4Hj4/vivLS3MGRUtwZrnGvChR1AUuyfNU1cKmNKOT61xjPDajdd7tmPXO2Y18xmp44VmdJ0RR\n",
       "0HkkgoCQ2Ybn3b6sAGsB1vr7bMa6Kbp1AvA4ojCqduMTIpHUcCnJSOY0rTMclEN8R72SRDOaecWv\n",
       "B8DX+yy2jQL6doJ5cu5NMLdtxtYH8xsH5DcDxHccgN/p4H1jQPv2GrNbA9qxbR68oXO9N6xWGovr\n",
       "vi2ZToDeEDYWNilyidTkkBplTk4SEra84GtUVoWjH9APMSuWGNAFavhckRfx8UiTo1cNcFmcaqGx\n",
       "hK2Hg6Nr2ljmffP1d7L1aV/XDj1b2OR1D326yLwokdZpsjjU8FkSZSpioaPmOWxNe3vtvq59ne3g\n",
       "3b4k8IRxlBm/zqFMmgvLLmXq+AT0kMUloCpq1MQyUhs8nRrjr+ovtDCvXS+Ab2W/9ex6oz3NFtOx\n",
       "tjzD27iGvjaQ377e+I4C8DsVvLcftG+/cbq1oA2bGbNuxC1ryYG2aFRLm0fkBzgrTzKi9tFDBktI\n",
       "zolrVCnhqUpyvCRaa37COMrJIOIAH9S9vCPe6EidGZ2rtR/XA9bdbKMh79ZjugirrLPu3bxPJ+a4\n",
       "2NrL0tZK5mu368nI7tz31fkCOd2Lox0W5EzLvWr+MbWFhcU/O2DzJ+dz3F+UXFkWLPkhj/VJnput\n",
       "My9KuMLlQbmHb6vX8RpCIUnftwHEO1nzsd2edUPY7JUP4WibU/q7BKrWNP4bH9N4chtPeL/H+ggF\n",
       "S/It7xxX3Fe7XsvWNdCboy/d+nn7eePtY3RLiFzWUlW6XS0mW9kewpVmApWdP06RkpJo+bk1tnni\n",
       "mbVZ19rbaSLOECIhcNE6ZEpf5BHxJBfleUyd4aK8QElNUQsXCbXfWNcMeEI8yXl9mrQaZFEukNN5\n",
       "ZuQMH8s8xNveeRQBoQ5aiEXaS8vWIhzpSEKyge9aM2FJ+yfdjl85pvV+d1dMa41eSAwc0vzK6D7e\n",
       "V+jhoDXMbDXNI84uroUVfNyEcKXTenE3IpFVwiCbIOFYUfRa+RFCtlyrEBJbpPlQZj+TvotNiqzO\n",
       "U9Q9PJEaI/DTVEQFjeY+OUavyPBXc8soLXiiV3C6DL5WnFn2qOHx3xxweG6xxnl9GaUDQGEIMzo3\n",
       "EsTKtUZj2Kp+tlWSESEkUlrJ+1gKC0umGTaPMCT2EhqC/dyHLzzm5FR0D4RI9heISHZUGIm6Wqd/\n",
       "psyw33yMQCqOicf4dP8xJuoaV2kucIkR4xhlPdtQapNJ3+Kx7/QjpRURJUm7cQ2R0pslU2TtXfxI\n",
       "9uO8672LBoToRhbT/I7dXj/2xpG/rFJ3u7ke+J3kdW+fp337jMnOm3htfew2KlqykX02kgC2ysvB\n",
       "IGUU8FS1Y4nQZk1sYCw2qz2etH2dqmjtn8XbLGxSOoeDg6lNPOFSE8styV7QeT27mwe+0Qz9rXqv\n",
       "7fc8J/oYUaM8UczweqnORXmZWkOpLEuRfzy8hz+YnKEuqmR1HoAh3cvjvTb/T+kMipCDaj+zYol/\n",
       "MNzLC3MGpoDT3iKPZXv5/PLL0TPSlJG+3nPSueRojckqBqaweUg8yXl5jphDPyYc6ncE5yo+02KR\n",
       "slhkWZewRZrj4hiXw0Uu6rda6tabz2cImw+ZH+IV/Q4ZXaRP9wBQwyUQPmWxSF1XGGYvipAL4WsE\n",
       "qt71WuK8FCltBs2DHNP7+Y76JooQS6R4j3iSc0yyyCQL7rkmL34jXnnrftdrN8ITbx3jmwjgdwJ4\n",
       "38mgvfPAuZNtU5b0Bp/FzYB40vZ1Jn5d7/dkPSBf69q3E8DXy9SWjTrwPtXHj+1K85G95/nd1w+z\n",
       "5Cs8pXhXnO/KnLbW+v96AL5da8LxdUkkB3mINBYnxOstsrHNORPdwC0m0LF1mt16gHlRxsWlJGYI\n",
       "VC1Jbuu0Lg5bn/Q1Pycxd3+chGlhc78+wgSLpHUKs7HvM71p/rx0PsntaO5XoOqJ2EpzuxIDW2aT\n",
       "67awGVf7qeFSEzVmuZwsH8XjVQs7J2jGjIcPy2eZljN41Nir9jJspTjtz1OWJWbDC/hhJckTaR2v\n",
       "9mflxgP5doP4LQHw2xm8byZo3x4gerPsxjwzGwVv2Phz22m/jQD5Zs+1me/RWkDeaQy2G7ybk70g\n",
       "SvDapcbYZeS4Gi5RlkuJ0IeDTZ4UHhH96TPFIqeWAgqWwYvBmQTI12Og6xRqXy/5artyCtbK7m+2\n",
       "5vG0RIqc6ONHCwf4zuIyl+T5RCu8eSLQLeqw9TXiRp/bJlZCGPxc77MseIKXq3OUZSmprZcY/PHj\n",
       "Ib/56j4GU5JXK6WusqftbUa/R8I+4/owY2aeb4WvROIsqGTNv5tQS5wcukse4WFzlNfCSOjF1il6\n",
       "dIFdZoaRtOT5ygwP2YO87F1hTl+i7E+0SZ92i9rc2Oz17QTxmw7gtxt432jAvrtB+tY9C5sB7ma7\n",
       "HhBPzn0DwHwj+3YD8fax2I4kthiwDWHTp4e4zxxmzveYEHOMM8iBrMXJiotEEhCyJ5Vi1g2Y1dUW\n",
       "Xe9mJa84lN6NYx2iicGY2puUm42oUebFIvNc61iiBRsH7a0A5Eafs+ZMdkNY61OWdigz67jfOu2s\n",
       "NXmLIwqGsJPP4vvqkOaI3seSdrkozzXAd/WECaBfjLNHD/OmeD2ZAHzAfJx3ginmxXTC494+QYmv\n",
       "rf0aZNvEsDlSkNO9LIslFCEpcpSZx1NVsrKXMbWXsqhwzn+RQNXXBPGoHzeupny7QLx5rMxtaXEN\n",
       "ux3Ae3uzxtcD7VsPYO3hPLj+mfxOt62C92ZM67Dr897sBW4EzJs9j+3ct922o4Ssff9Qe8yLaZaC\n",
       "fibEHDmdJWUYfGC4RMEuMFUTlHyDeqhZ0h5PFYoMOIpTS5JXvGsJJ3ynfrYInmDwkfRhzlVd5qmw\n",
       "3+xlROeRJtSCNH1ihED4LDIJTS/m9cD7er8L3Y5vfwaTzHUNQdOz0yKQg8FT8jFsKagEIa+I1/B1\n",
       "PSGL6QT6nZ71buPZbPH5FQq0t3JfdYjGwBXwrjjb8h6RsfvXtG1E7cPRFo/0WOQrj1G0JEUbMobm\n",
       "nQX4ROZh/mL5VUQT6Q0NQB7QuynqAueNM3iq0jJpaZ5c/MruR/ijiUV+oHeAa8uCF13FnL5ElajO\n",
       "Pi8HABixsrwdLKFQjeNBJS5rpxC9bIzrWmDbPHYbf1YiRbvrA/GbWka2k8H7ZoA2tAK3bWQZtI+g\n",
       "CFkILhOoestLsWDvoVcPc95/EaVa15I281JZS1HLNgrsN45TFovMBGdRyltVU7zZ8+1k2w7g3i5v\n",
       "uN026pVfz/k7eeDxmMReVpyMlRFF6np1XfpG+9S+5u2QTrTJszrNPz3i8a9OpXm0mKbHVnxxpopE\n",
       "kG6IlsxTadHSbpck7XQuU9tYmNjaIY3D4XQGKeDEcpmL8kxLKHo97/VmPvPdIiDxuKZkgb3qALNy\n",
       "Dkc7+ATURSUJr7dfwwB7koiDIWw+aB6nEihe5UQChLDx5LbmpMzm5ZCiHqBHF6iKGmWx2EKuA1E0\n",
       "5HtTD7DgKc6Gczja5n3FIt8pVZiUE0k0pXk5RGLwTwYf4KtTAZ8eV3z+io3SkSjMNXmFETUGwKyc\n",
       "o8x8wla3nteeMXoRwqASTEXet+pcmnf9HvnabbS0d7sA+E4E75sF2tAeJm+8MKWNZWRJyQIfsZ9m\n",
       "OVT0WAYvuleQSKb0ObQOGTD2cdV7fVXYbysmhEHOHKJXjrKgruLrOilZINQevq4TqNqqL8PtDubb\n",
       "7W1v9lne7P7bxXbWad92AI+TioQw+GT2fQynNKbU/PVMmUUZvZDTOsMMV4CNh5rXyzRfEfwYZdC2\n",
       "ecefTdo2tUUfOYYdh9e8a6uiFXHW8pid5oQ/hU+AROJoh1HZw7yq4eLTR47LYgqAYd3PjFhoSZBa\n",
       "C8A38oxfT4VAbGtNqOL70i/3EODxpHmIY0XN8zM+s2KJo+YAL4dnkBgMqSHKosJeMciT/YIX5zRn\n",
       "9ASB8JAYPGntZd4LOCOu8qmecT6/MMUUF9et4W73/uP/f6rnIf52vsKiKJHVWfYYRU6pSQLht/D2\n",
       "x9cRS+A20wBH5+08KYsZ+B6ydzGUgq8vzVAWiwCY2AypQU6JN1cS05rb0SGdBF465RBsnDhm9Wfb\n",
       "FV6/HhC/4QC+k4D7VhCqdF7fbnxBRfSF6HUOUAsXeFw8y9vybQCG9BhX9El8VVuVwAHQZ+1j3r+Q\n",
       "hGnfa3yUvGFxSk0ypc8xIg5xPvjuqkzXg+aTDOgC78qTFPUABZ1nyMhwXs3wwdwuvlme46x6BSmM\n",
       "jmDe3g/YmYB+I0PkNxrAYXtBvBOAN4OEISw+bD3NK+F59qgRHu9J8ZdL59bl6d5s39p5weP/W37X\n",
       "UVg0rdN8pLeHa8uCRT/kqlpECYXUkv1mL6XA50DWYcHTXPErmBjUcKmKauKtt/c/ftE3g1YnEN+u\n",
       "rO6tWns2ePt6NNDIELdJkyOtM/zOg5q/vLAbW8KcB26o8ZTm3XAFVJsT/9ZTsmuvEogjKEXdz48N\n",
       "9PORsSv84bvjPDVY448vaT46mOKVec0pNZGMv8Qgq3IMiwK/fP88v3miyNN9Di/Me0yLBUIUBpI9\n",
       "DFCwDCqBYlG5HExneKl+DU/UCRrefDNlbvN97JTU1y6tupkExrXIY5rfKe2laNeT9LadAL6tRC47\n",
       "Aby3l1AlNoONkIN0T06TTetGElctobXPNS7jqzqhdnFFnaM8TEmWMIVNrzHGs9aTTIhFLJkhJ/rQ\n",
       "UmBKB0M6zIgZ+tQuLsnzhNpnSc80SAtWGI9smeVBeZST4iwWNmmy9JHDkgJbOVQDwSVxOdofgSEd\n",
       "lPZbCBpIiBvie7uaXGEzRBnbZdFkaKUPN9I20/5WvwOdCFE67bWxvqzsJxrPniVSPCreS91QFBki\n",
       "ozL85Eiey1WT8zUXSzs8kRqj7Bt4wk1IXeLnIP5xRBpbpFFCNz0jK2eWGI3voKRd1ENEK5jJvoa2\n",
       "+L2HBJfmR9jjpLm8rCgHIYuNNV4LkywOFRUwaKW4UK+xqFwiePIJRYiJyXtSIzhBjo8PDPJmbQnQ\n",
       "GBg4IsugHsWQKdKiwLDew7KMwsmiMearWc6uj/RlrZ/u967xOXKFtEZE/VEESZ9G9UFqoooranx5\n",
       "2qLqWpx0l8iJNKf9eWZ1maLOs4teSo1a+lYyn5VzAKu+P/E9ij+TSBxSzFQtPjcpUaHJ86XlKFlw\n",
       "2WI8azLrRaBqYEb67ULw6RGHPzjrcCCT4uWlKnV8JAYpHCwsAgAlmdRl6sLlWlCOkhMFGFgYWBR1\n",
       "H77wCBvXHz+L4xylLl0yskheDpKWRaS0ycl+PL2M0kFyrdHzv/Ivepe1k8IYmDJF3h7BMrJoIhId\n",
       "IU2EMPhU7scpSZtPFT/Im97Z5G5F70ToTBATjWb3Z+l63pc3kMjlVgH4ThAJ6f7lbPW+baPA/7zn\n",
       "A/zale8ks1bHKLBHHcDEYFJOIDHYpXZREktApH0cexqPmeO8488itWRSXlq1xte8rtSc9GEIG4c0\n",
       "KZ3FwqIqyihCsjrPvJhO6D4/nn6Gr7knyOgigfDYr/bwtnyHWrjQUpu5bsbsNnnpNyP5bC27Gd53\n",
       "s63niW+21ExgtKx5P8jjTIk5AO43RjgfLOCKiFAjq3I42CyKEnVRaXmWYmKPPp1n0Iq0uGd8l/Py\n",
       "QnIuEzvxoOLjTGz2qF2UqVMR1VXhcQOJqS3SEZULAI8WU7xecgFIS5MDOYNTZZ9QgyGgz7bwlKZo\n",
       "CUYzmrdLMOnXeKKY4afvP8VvvHyYt4IJCjqPT0AfOR4qWnxx6RolMYunKvi6vqpkaT3bzvpx6Hwv\n",
       "Oy15JL83lWQZwiKm5bVJ41FDYmDrNO9NjfGc+27XzP1u0ZVOBDxxvX58LwGkjpdGTEbp53ivyXfn\n",
       "A0osJ162jcWPj1h8ex/QpKwAACAASURBVMZkxncxMXikxyJjap6fjUV0FR/qy/K381WqoobUEgeb\n",
       "HpEiZ5pM+jWuyavJMxX3wdQ2Hy+OcamqSRmCM/UKJ3ktyg1o88ab7bDxFJPyEr16mJKYZUiNcl6/\n",
       "DoAts7zPeA/fCF9K6tnjiW+vHKVMJB3s6zpVf2rN+vJW77xL2doWvfAbFkK/FeC9E4Ab1vPQGp6L\n",
       "2UveHOaQOswSyyzIGSQGAR5PyPt4Wb2Dic0xvZ+aDlBodtspAEwhmHBdRlMO79ZLfGygwJ/On2/U\n",
       "QaZ5fyZK8vAUfKH+wqraye9zHuWt2gKecCnqAmN2mueC11oAPyVy9OohRulFCsGEWsITLjNcoRrO\n",
       "olTnko9Of98pdrPBG24MgMPqdVaIQCD6f0U9zSbNRzIHeL1SZkmU8UQ9Am9V4Jf22fzJBZunB0z+\n",
       "ZrZGTljUdMDTfSneLWmqYci0WKQmltmjdlHF47FcngvVgOGUyWu1OSSSYZFnQpeSELmFmRCFWBjs\n",
       "TaWph9FryZYCS8Inxuf4swv91ENFypCJPniIpkotSX4LxErZWbM2+BE9ziu8ljCaweq10052M57t\n",
       "zQB588S8fZ3awqao+zlqDvBGcBVP1JLjbR1NkQZ0gVmxRFksdiXJaRZmif9urwIwtc1vHEnzrek+\n",
       "JmsCT2mmvAiYDQQ2Jo6UpAyJ0pp+R1LyNIHW7EpJTAlnygGuDlFoHGEwpZdQQiV9Ses041aBVxrr\n",
       "/gAPin083Cv4/Ow8NVEjrdNMy6t4qtKin958X+OxNIWNKVMUxCDPOgf4unsCT9fIiCLH9H7OiKvU\n",
       "qWBi87HMYb68fI6Knk+emdhZih2mmA1OYLDfOM677tejsWyUqq0AeYfQ/U4C8P+fvTePciS57/w+\n",
       "EXkAWQAKdd99n9Mz09Mz03OQHHJI8dDBpUSuJK4sS7QkU2s/P1lLrZ8teVeS9bS7b72WreWTZa9t\n",
       "ydpd6a1M06So1UlSpHjOcGY499nTd3V1ddddBRSABJCZEf4jK7MAFIBCVVd113D0m1fTVcjMyMiM\n",
       "QHzjd31/twu8d7eO9vaeYTPNG+rTt6IcxghcLZHEkdm4OtVP9h3iywsF7nIyzJZ90qbBQEJwoeCR\n",
       "tUyueCtURVhrujZHNmK1UgQU9FLLXfanhh7hL+dc3uTFlhSFhrA5qk9xTV6hql1KwTKqSTRvo3wv\n",
       "AfmdAG+4dQDfLAq9NohtUBzEF1WqhAu9jcO4GgWIgRFgXPYwpwr0iS5mdR5feHihIRQlgrp52Kjt\n",
       "RZXXRtQoj2bT3HDDhT6PS1WEWratE/zD/Un+ejpBLqiSkhZ9toHSkDBgOKl579gsX78xzKc+9FU+\n",
       "9YUPUA4Uc36Zd/Y6fHu5yJiVYt4rc9hxuO56vC7fiMlBonzjZmxmzQD8Ts3jTsfOlEn26eMcMLO8\n",
       "qqbwqWJi87ODE8yXDb6WW8QXHsEaSBhIbJ0gTRJ7zcqxQJ6KqGBh4YoSQ2qQG3J6g9XlnfZhJsth\n",
       "GdtozMPj4RlhsJqJhYlEkCLBOwZMHh5c4DOXB5ECBhJwIuuyL73KV6aHWK6CG2iytsBXcK3kYQnB\n",
       "u4cEfzlbYUEstY1riN6VxMAhzQE1TpEqN+Q1kqRZ0TNxLI9Y06Ibrx3XR7k70c9sxWNazDOoewnQ\n",
       "jFgOOc/ncNrihUKOvFjFwsQVJR5PHuZPS9+ON0/H9b0YCBxh8pJ4laK/QEKmKPhz+IHLOojvDIA3\n",
       "m5e37AO/HeAd+bV3RzrzbzeTTsC79ryYiF8YdJn9ZOUIfYwQiICHzaMUfcF8SbIoVlCezTyr7E90\n",
       "MeV6/LOHpvj31wP+l9Nlnp/t56jVh/YdFsU8AT6+ruCySlmvrvnOApT20Kj4J8DjyeIk80yvp6Ks\n",
       "FUoIfZ5gG2mEkBxkjDmxiEcF0GuLoV7znzXf89X71O54mflty50Cb2DTed7O2tNck2skWwn90yPy\n",
       "KJ8cGaLq9uEqiUOKe81xpvUKPooH092UqgZ3pzKAoBpACQ8Lk3ucPg5a3UwGy0TFVQL8eJFV2l/T\n",
       "jQMCfJTQVIXHm9VlrqtFciJPWZQIRAAIAhHwfD6goDx6hIMGRhzJlVKFoq/5vhGXP7iYJecJvnTu\n",
       "MDeqZf7TA1VWKimKvuBysMC8KuCJgFEzxbRfoihWQcjYZ6/X8oC1VvF8D2V9nq77tO+UNPrJ64vL\n",
       "RGOn0ayKFaZZQADvSZyg7JmcK3o83GswWTBI4fDhwSyum6KqNZ7wKAmXnCiyKkqYmGTJ8P6+LK+V\n",
       "lyiIAgLJJ/qP4Lt9jMs+PjHu8MKSYCiRYMmvYAiDjE6v+aPDvkgtydJFt0hQXYstuFGC+XKGnKcw\n",
       "heCengrPLSW5uppixAm4XhL4GjwFgRbMBy4lPJIiyXS1xI8MDOKXM3SpNKeTI3QH/axSpaILoRZM\n",
       "gK+r+LpCWa9yU0+xyE2qukRJr6DRTIgTKKn5gH2WYhD65g1hkRApEJKyKHFTFShQJqmTmJgMGEkG\n",
       "kxJfCa6WXQqiyM+PDvI3xcu4aoWXK+cIdIVA+zxmvosX9XNUJVzR50mJXparV3D9ZZQO18x1Dbx+\n",
       "Tm0/iG3j3LwlDXy3wXsvatzQOXDDRh9uFDRxj/EeVkSOGXU+1ogskQz/xWZCHcClwrDoJm2avBhc\n",
       "Wde0dbKujGGk9Xg61Jhapc208ks3aiHRzl+v7VobU0+2oqG8lbTy7cznnf4O3IoG3qkpNjaRrlmC\n",
       "kiIdc3E72uEnRrI8vSBJm5JPnpzis5f20WNrnl3ycXVIderh4wuPI3IIKUJyjBf1+TiPfONzrZt6\n",
       "I7+qic3fzx7im8sFBmQXSmumCTcFkV9cofHwMZA8ls1yKF3h92+EsSGOTlIURQIUZVGMrQAQWhMG\n",
       "1CCuKDNKD+OOxfOlRebkNGWVr/OXtpujOzV/dyKXv3bsTJlkXB+lKAsc1mO42ueHR01myyaH0hW+\n",
       "M5/EknCx5HK0ywHgGXemLp2rNl6h1nJS6/fepyao4DMgu+izDW6WPVw8PnWswr+4sA5E9yb7GUjA\n",
       "xULAauCh0JhILCEZTlpkTLhaXL+Hq3x8FDYmCoUjTabVCq5wUSJAaoMECRLaZk7epIJbF40erXGt\n",
       "CrxEsR8Sgz5jH0f1Pio6YFYsURJ5PKoYGBxSh7kp50joBO/vHuFr+Xk+OdbNv755jZTOMMskVVWM\n",
       "M3Qi6bMPY2BwTB3lu+qbuN4CzSPUd898DrcA4LsF3rsL2nCrTGjt0sQapRl4R//WEiUcMR+mQoUE\n",
       "Cfp0hkk5RQU3Buz6OxkxOYatE7jCxcJCaokvPIZ0L6/L1+MJ1wy8OzEbNueMbp+SsZnsRTDf7jze\n",
       "jfm/XfBuC+pNXDm1aUpJ2U2fHmKcfi6KKU5ygDlVIEOSlGGSlJKkEaZ2dRmSq9UCnzqi+N1LVhxg\n",
       "1Iy7u/Z5DGHX+WnPGicoB4qL+iYlkYvBo7bAiaktqqIc97dP9bEicrGP28QmoRNkdTeHk110W/CF\n",
       "4st1dbQNYfMPMqf53OprvMe6m78qfwMg9mdC/Zy83fOz0/GsBaMobkEIg5/rfZgXl31ussIB2ce7\n",
       "BjWPDM/w++cmWKh6PNxv8sWFfJw374uwTO2He4f57EprfnlYD2AzsXnUOkbJVxxOSxarcMP1OJa2\n",
       "+HpxPWdfIuN1SCJxSPDOXodrRXAMwWXXxSPgn5/O8esv91LFi/s1LDLM6lWKoogvqhsq0VnYZHQP\n",
       "PzE4yO8tXOAx6yRf815mRO3jgnq2ZdBamF1j8EPJD/CiN01OzMckMJGr0BZOTLcaVUU7K+7nafU0\n",
       "ng7nXyXI1ysyG+ZJwFZqju+U+Tx8xm0A+G4sXntV24adAe1mf0dBEI/K9zMjFpEY5MQiJZ3bkKPZ\n",
       "GKwSakxJHO3QQxejiQR5P2A6yJOTy7gU4sCOqEJQM7KDRmn1+W5Vddori+ZuX9tObiUHfKvgHd6v\n",
       "vsCEEAYfcR7haqnCg702f5q7hqktLCw+PtjH5+bCnOwf7B3gbP8K/92lkIQlqdOcscZ5xr9ITs1u\n",
       "sPjUbhR+ffxh/teb1/GpMqLG+b3Hpvj5b+9jzEzxLf+pOChICINuMchxvZ9neS72Yw6wj58eGuZ3\n",
       "5l+O27awsXHiCOFG3vNWwWp3ErTbSau1IgLwpOzmx9Jn+UZhBlNb5GQY6zKh9sc58d06Q4YkN8Ui\n",
       "FhYVKlRFqAxkdX+sgfeoHqbk5Q2kKJGsW2nCyPNoc9V4PCJsSZBAakkfaSacBK6vueStxJuGMOdf\n",
       "ksLhU8cq/Pn1Xl4sz8f9kdrgHnOcea/MoJXkkrfEtLhY57e2hMO4OoCNRQKDS/IKS/5UHJ/T7r02\n",
       "vsuoQpoQBpUgX6fJm8JmRB6jIJZJ614uV79DELO4NSo6nQM37Kz2DXsAwN9awN18QQzPNTp+L43V\n",
       "mxonV3hOTb6ssOiV49wj9/GqmuKMsZ95r8KkDANYbBxOcoBn9QsEuoopHSQG7pqPsl1qRa20O7Yb\n",
       "dZXbyU4w0O2U3EngbnX/TYPZWkSfH+M+roo3EcKItdDaxTqKRP/liVF+71qVo4ksz3ghyYvE4LQ4\n",
       "wjl1o67UZa3WC5tzgRvC5gRnuMDLsZbTeF3jhiN65gjkI97sId3LFRlWpvp49gR/uPJcXe3s3QDu\n",
       "dt+FdrKd8Y60SFPYpI0BTunj/MrpWX71pT7e5EUATOmQwOGUPso5cYXKWvBhRvdxkGEK2uOieL0u\n",
       "kCvaMLW7dyO9a7Po9EiR+L70GG+sVvBRHHYcpIBVT8dVw0KgtxjWfUzL2Q1FasbUfipUcUhwRV6o\n",
       "o0utHctmLr3N3nfjGntavgsLyZS8QZEcga4yro9yIXgqvme9tt3MYrk14I6v20HtG7YB4G8N8N75\n",
       "iHJZOwk25EuGi0qfdZAT6jhzYoVxejknrvBfDB3in01/qW3OZe3kittskjZiSocRtZ99Rg+rgccV\n",
       "eZWSztWxpzVjmOpE8253rNMFay9pM7ciuxnbsZWqZDuhdUdmVyEMhjnAL+zL8q+nFqkKN17oo2pe\n",
       "A4bDf3t6mp99yaeKGxox18BZiJCZq0t3M6h7mZSTmNgsBFebAvatspk1e46E0R3PsYjXIKUzZHSa\n",
       "bpHAlpIrKqTgzAez+GsBT9sF7u0CdaeyFZdJBOR11zeAbdoYYERNcIlXNtVI2/WnEbBr/64FbxuH\n",
       "ITXIgliKTd+10hjRbmJzVI+zpF3yYpXDYpjneDkG6WitG1MHubHGL/BDyfv5QvEbeNqtS+HqZByj\n",
       "dfNR8/t5ke/G1hxDWCRFmlP6OAXtkcDgirxGTs1S8tdSZhuY1yLZLnDDzmvfsEUA36mFbXeAezsB\n",
       "SO3ztyOpJWHpM/dR1gWO6lP0yARzqsCMvM6jxilGHMFnV5+Nd4+daL/Ncnaje0I9gNsyzY9nTvNk\n",
       "LseQTPOMfrYlN3AknYJ3u+NbXcjeakB+pzXsWtkqaG/GrW0IC1um4/Kes16ZFVGIU39WRC7u67ge\n",
       "ZIF87MPMiTyzTNYFRbbjoG4m25kLzZ41Srk8xN0MyTQvcw6PKimy9Kl+ACqiyji9vCBeoaqKVFWh\n",
       "Y/DebbDeTNrNlWab/abnNVhdWt+ruUWnWcxCrVjYsdvE13DDK+ITsCQXm9LwRveqDVp0dBdZ3c17\n",
       "+hy+vlTkPX0pfm/pibr30C/2c485DoQ8AHkv4Fn9AgV/dtO6Dc2eSwiDk+a76SONQvOs+jpJ2Y0p\n",
       "HQ6ooyQwuSgvsOrPUg3yTc3ltwLcsLP0qbVyWwH8TnCTw2ZA3b692hzubnuCLpHlx7pP8mf5ScbV\n",
       "ML2mzYVgjgHdw02xwEGGAfC04jn9xC3X5h0TR/nRgSH+3eL5OBKzNq8V2keZNy6wu2FC70TuNKjv\n",
       "BEhvB5A3k06iylvV9I6k3RyK2mlWpCKKpUjqVMyRfyorubwKs16ZlLB4nrB8ZRS1HUkr4N7tcW63\n",
       "kTkpH2ZBzmFrhxvBG6gmgWpw58F6M+m0bGurz6D1nGnmmqht6wEeIWMaXPdDIh8lAobUIDNyBliv\n",
       "/pbRaRwsJJL7e03+emUWV5RiDopGMqlHxH0Ug4AlCkyJ8xvM47X9G5HHkUjO2GP8x+Kf1WW/1PGc\n",
       "79pcaxZNXn9sK7Jb4A1bAPC9A97tFrzt3qP9ZG+MHjekgylsHpXv4nVxkcoajWFWD3DGHuMr1adb\n",
       "mrVhXTPqleOUKVDWhdi8Uzvxj+q7eSCT5svFScoUqGo3Bm9orhE1ylaJKnZKC9+K3Cl/924AcjvZ\n",
       "1G/dYI2JqBxPcIYiLr9wwOGfXnudqirG5zVj0OrkvhLJg+IhhhIWX62+zCPyHp5X5zmlj3JehH5L\n",
       "l0KczdAsEDKSO51W2Ph8dYv8HgfrVrIVEG/7+SZrW7ONnikdxtRB0iTZlwhT0BaqXlgLHCPe8D2Q\n",
       "znBfn8sXpkwCDT9xwONXJl9s+s6jdiUGnnY78m8307Q3B+3tz69b1bKbtrmL4A23CcBvDbxbTdid\n",
       "bzOSRuCOfm8MiqiNaIx8K5YI2dCiAJ8Nba8tnBGv88f2+by05PD8GnVllM96Uh9hwA5TRqYqLgXK\n",
       "3JBX43brF6n2k3ur2tKdAPHdlMagwVq5HYCy1XNrqR8NYWFKB4c0EoPjej+vi4s8II/ztHqV99un\n",
       "mat4PKe/u6VMgVbAb8sU/2L/KX530iWFw5trGni7gLBmcrstLtudm3spWLJRtgrirY61c7OE96nP\n",
       "SojSq5Kk+VDqAM+vFrgoXqtTLiKFIynSJEmzrKbr0lZr246uMYTFB+xHeLEactIrgjj47in1BL6u\n",
       "EjSsb5sD9/bGr301sZ2Zuztd+7uZdATgtx+8m5mKZMtjOyGyAaxrJ/SPpH44rlM8o85vMPnUAvg+\n",
       "fZw+0qQMg6f1S3F+bNSuxODDzlmecWf4wZ5hXlj2UShcPFZFYY0gI9R2RtQIc3IeqQ26dYYJM8Oq\n",
       "H/A8T28Y3M00cdgakL9VQbxx0YvG0ZQOI/I4VeEyoIY4p57Zk2bgSKRYp9p9gDMUtcewleRwBl7P\n",
       "KeaCUrzhi3Kxa1OpYKMWs5062LeavbBdeau7bODWwb1Tv/hmxzaLk4iuicA7Clj8mf7jfH5hjhv6\n",
       "Ys2c2vocksLgQfEurLU1/CqzjOoBFsQKx4whlv0q03KWH+4+wOfy5yjpHPnq9U3Au0Pfc0c1vDtv\n",
       "r1O5HeANHQD47QHvTrTstRQGaWMb3XFhkAo+k/IivnIpqzxn5XuRCJYocM7/1ga/SfP71IO3ISzS\n",
       "5jBnxf10WwZVFb6iV/1pFvW1usXl5/vexTeXiry3L8U3l1xyIo+7Vsqvk6COPtWPicGYlcIU8KI3\n",
       "TVkU4nq4kawzEEV1cptHYjb7gtUdbxKZ3ijfi4E/D8jHOS/Pcb++l2mWSegwv3VJLlIkh4XNaU4y\n",
       "pwpc4bXY79soOxWUVXe8Jn0QNhYcGeYAWd2NS1iwY4BupsV8/P57dHZt4+fTo9MMW0ne8GfjKnOt\n",
       "CH3iZ9ohC0072a25sheAeiuy1fV0O1p44/HN+AAMYfGwOMucKvDObJb/b/VlqqoQrzGbkUG1C85t\n",
       "JKExhM3HM2eZcTVPBa8zoiYYkmlWVIWL4nWSIs2SP0V1jTylVcWvRukcqGtl5+fOrQJ33M6dBvDO\n",
       "wLtT8/h6dKWUNl3mAFk5zCG1nwoBaWHxughpHGtJ7M/wEE/5X9py2kGkgVvC4WOpx/mr8gsAcXpD\n",
       "Y9rDg5zmsp6lW2foEw4XxfSGPMdG/2RUFm9A9zEn56muMa8BdaDfuPPdLAdys/SRfrmPMgUKwUJb\n",
       "rX2r6Td3OuWmVlrl0XYbw2R0D4fkIFWlyOsKq6JAUaxSwa1LmWokd4CdTY2KRAqDAeMgPlUOqAPM\n",
       "i2VKIh8HLEJ9fva/vc/kt14eZyFwuS4nY7aqBA62dvilff387lSOWSbXNnzelp5jJ0B7L8dL7BXZ\n",
       "DmdEp9c3A+9WefWGsOgSWQ6pg2QMi6lghRl5rc5V1w7A260RQhj82vj383/OXeGkPsQ0ywzpHt6U\n",
       "51nyonW0fq7Ums5b5WCHx7c7x3Zn/uwUcMPW5viuAPjm4L0Vv7ZR55OOJt0x41GmxUUMYZMiyz41\n",
       "hofiZfVE3eTabtJ/M/+2IWwOqWO4VEhgc0NeW7t2XaMeV8PMiiV84cUgf8bYT8YSKA2XXZesYbO/\n",
       "y+BvCzeoinIM9rDOSdwKwGs/q5VaYobIVH9UnyItLK4yy6pYAsAhHftRK7j4KswFPsEZ/vl9S/yP\n",
       "Lw/zujhPIVi4pTza3Sa7aCat0m0a2Zc+0fMgn829icTgkNrPnFhmQdzcUFs9fI7mm5zaBdESSY5x\n",
       "Oq5J3Hhu3fM1fJ/CUp5hgE9WD3JSjvGyvkREF/qwdZiLlRw/v9/mX12/uSE/O+qfIWy0DjioT3CB\n",
       "l5ouvNtJ+drt8d5MdhKw96K/u12bt2pCr533jtEbx+YYwuasuJ9zTFLFxcTmgNrHoJXgxeBaTBgV\n",
       "+bUjacZst5U1tlaaWUbbadvbB+zm7e2k3Cnwhk0AfOe1761p3Ia0OWy/I6a0m1EX4mjYRnKHZuxL\n",
       "m5nPhTCQwqbP3McRdYgKAVU8puVkTBwQnTeuj3LE6oup/l71p1EiPO7oLs4kB/nIxDKfvpCgiBvX\n",
       "tY3K7R2xenBMwXW3woIIizFUqMTcztAAFqxzATcu1rUSbTD2qcOsyJW4P7k1ataoDrCHx6juZ4kC\n",
       "rnBJ6RQOCa7La2EEverDFx6Pp0f4XOFZyirfNod9L2lCmwE31OfT16ZSZeijiotXs4n6xcHT/NHc\n",
       "LAtMxdacszzIeXGNvJ6PQV4iebf5KDf8YkwNOiOnMbH5r0cn+M3pZzZsBGq1n6wc5mHzaOw2kRj8\n",
       "T0cGeHaxh79eXkBqyY8N9fDZ+aWQOVp4fDS7n+eWqxzsSvDn7tN1Wky7rITd0rr3InDf7rm5E8De\n",
       "KlNgK/drpnlHgZC2TOOQJqt6GTe66TYNblYqrFDCFW6sSETfg8Z4iqj9LpElq/tRBIzofp5SXw2J\n",
       "T2rmwWZrxVYC0t4uwB23eacBvDl4twPu+mON2nbC6AZCLecR+QjP6hdIijQZ3UNGp7kuJ+vSqyJN\n",
       "OasHOWON81flrzStOFS7Sz0mzzIjp3ifdZpve+f4+YFjfGY+ZHSKfNG1fmtT26R0KibhVygsTGws\n",
       "fvP0Mr/6chYLg8OOgxto9qfgyWU39mEqofDw4kkvkbw3NcaFgseYY9Fvw+WCosuUPOVd6LjowMd7\n",
       "jvKXy7PxpiHq1w8MdPPMos+AbVFVmgf7A56YF0yqJUbp4UyvyR8sr4NNMxKaSHbSL3or0gy0Q202\n",
       "/P2Hko/zTe81fixzN//v6sYiFx9LnSbvweVyiZzIx/XVI27nHp1lSa7XVbd1El94saujtgBHl85y\n",
       "VIySNCTPBm/WLYK1aX+R1NKBRrnYY2qcXzji8elLkoN2mlKg6LEMyoGmrBTFwGeVMkMyzTkmOar3\n",
       "Mc0iS2KOsspv2CjsNnjvBnBvdw7tpc1kJNtaO+vM3O1pTlvdoxUZVJTNcEqdYk4sY2orXocc7VAV\n",
       "FYpiNV5raiVSRBI4HFD7WBKrcfGlS/4zAPFGsjF6PG7jewS0YXeAG7YbX9MCwHdW+65dbNejybsT\n",
       "+zjDQ1yQFwkIWKpeXr9ibcLZMsUwByiKVX5pdD+/fyPP+7oH+Wp+hoqoMKqGuCIvExBgYdOluxnW\n",
       "fSSEwUUxxVIw1RSMmpXoiygnI+0sgcOQGqUiqlSoxGXuHO0wLntwVVhNp4qPicSRZtz+wZTBqg+z\n",
       "ZQ9PK3wUEkHGsHikH97MG7xSXozP/6fHJJ++kMDBYjRpsVQNWFAlEphMyeuxP72x7F8kJuvg5egu\n",
       "HnZGgPVygp6CdwyWeXE5yfGMx5/d9HGEyWVxg5RKMy0u4quQl7pViT64Mzm/m5kLI03bEDZJ2c2Q\n",
       "GueBrn6mXY+brODoJHNyJqZ6jFweSZ3CQJLSKdy1ylefHOvmSiHBt3M5grUNkETgUsEXHhKDcXqR\n",
       "QrCgSrynN82f5K5sCFps1IYjkYSpN2fE8bgM5yU1t1Y8xMTBxhEmZ/tMVqqCjx+Z4vfP7aPgKx4Z\n",
       "UHxmJremMbn4VGMOgWblFeNxaLpIbh3UI9lp8N7OPNmLoN1KtpNW2MylBxvHstM879qgSABLhPnd\n",
       "kWLSqwapiApVUa5x/R2i4PvM6vyatW4yznbwdDme4yPyOD06y6vBN/FVuUPw3mnfdus2d0J2C7Tj\n",
       "9rc5nw0hzN9odmC7edYC0XiLuD0hBKFP22LCeZCKLlKRUFCLPCzvZ0pPry3ECZJGNwkjw6+M3scL\n",
       "BZdBPci8m+BEV5rpkkIpA7RkReQRQoZF3vFRwmdJLLIsVknrLI8lTjGjS4yKIxTFarwblWLNPySs\n",
       "tb7Jtb5rpDDoFgPcxSH2Jx18z2TUyPKBvh6mSnA23cuVSliHeDzhkDZMEtIgaQge6tcYwsAN4IG+\n",
       "CssVG0NIDnTZ5KqasvZ5s+gTBAITkzIeSii+uaTwCQjQXA/yFHSF44kelBL85/vSlArDDOgBPtI/\n",
       "zBtuCQsbA4t/0HOcXCmN1Bbh1zkEnJu+y6Ln0ycd7srCy/kKr+Q1CWHxxEoJjWa/43A5mCEnFkMr\n",
       "BRrQ8X/heEqoKSQfzovOyPvi93qLP83bNuJjAhn3PdAVijLPRX+GFVGkIlyWxSKgGVP7eTg5wbKv\n",
       "44XtbHKUASvBT01oXl9OslxJsOxBAotPHlRcyCWRSB7IZFDVJN04zOpVVijiCpdz5XzsSgktNFYY\n",
       "UCYclAj7JJDrP8JAo5llkTmdZ548SigedUbpN5PM+xUqBNxwwz6eW8lyza1wsMviy0s5AhFwtznC\n",
       "qlI4pDhjHOUnh0e5UExS0Et1Y7cuzcar3Ri2H9+N7W9ftrpwhefv3P1vj6zNgw7WVCFkbKFJGN0k\n",
       "jG4yxiBnxVkWjQK2TKO1Cs9b+w5E4xH9HbZh1ClTUbvr/dBES/UBdYjDdjcySPBb91b52myKf3e2\n",
       "ypevZxhNWsz4I+fxfQAAIABJREFULt04VNEc1gewyfCQfZxFPAbEBGVRZJZrVINVENH6H/apWenN\n",
       "ZuMXAvd2x3X35kQI3Ls7325lM7qjGngr7TsylZuGQ9ocoqKKpMwBHjfPcLNaJkBzXrwSm2E+2vUY\n",
       "3yhfxtFdePh06wz3p7NcLnhkLZMZz8VAMC+WGdeDDCcsXqssbig/F7L+lGM/piEsesQIZQoMqjF6\n",
       "6GJSTuNSqPP3RNfWms3DcngGA7qPDw8n+NacxtOa/V0WpoRcVeMYgl4bPjA+x1Qhw5s5h4VKqGX9\n",
       "xOF5npkf4DsLPkUqKHSc+qPW9LZazcbCpE9nOZB0eLJ6eUNE+5gaZ07Or70jj4ROMEDobqjiU6BM\n",
       "VVQI1to0kJja4oDRyyMDmn87H5Z2NLG5R+5j0s8xJc7jq3JHWtyd0oDamQ2b+bujcogH9QkyJJlw\n",
       "LC67LoNWkhtekcd6Uzy57DJkJkkakk9/7Ct8+svv571js3z9xjCzZUElAClgqRpQVB5Zw+YHxyv8\n",
       "X9fCdwxg6wTdOAzbCcYcwVO5AjPyZlOTZDSv4rmlw35bmGHFJtHNki4xJNNMqzCuIYWDsbbiTssw\n",
       "mA1Yq51tM6/XsyNudexulwa+PfD+3pB2fuw4TkPYdBm92MJhvzrERfH6Bhrl2utOcIbrchJX5Zre\n",
       "S2KQFn1IjNgVVDsPEzqBrRMcsnrIeT7H0hYLFU3BDxhOmrzhrvKhgTR/vHQlDIijiqty61S7ar1v\n",
       "zXO43xoR5bD7Gnd8n1sOrGwC4LthPo9APFpkTybexyX/GYQw4oGvTeGK/Jm2TJEWfXyo6zBfLIX+\n",
       "4CRpjupxzokrlHQOWzi8L3E3T1Quk9fz+KrclPqxNirTlEks4TCkxnGFi6MdPjLQx8vLmlf1VSA0\n",
       "Rz5gHOWal8cV4YIZ1bUdFt1UdIBEkBAGRzMmvoKZssIUgqwtWKwopBCUA0VFKar4BGj+w4df4pf/\n",
       "5lFsKRhxNO8cWuJXzrsxgUttUFur6PSoL+EbDr+AGd3DgO5mQeTjOsCR2NrhtDnOi8G1uqCt2mCV\n",
       "dmkjje8y/uw2LKpbyaOO5swDnOG8uBabtmUtaOow8juhEzEwSgSjiSTlQJE0JB8/uMh/vNaPp4h5\n",
       "AJKGYLLs4q29B58ADx8lFFJLRkU2jok44/QzW/Y5mDJ5vrBKCpspOYOjuxjSPaQMg5NZwXeWyjjC\n",
       "pKA9vm/A4TsLPj91sMrvXK2yKsNUNlsn6dYZ7ktn+GrpchyJrmqi0ZsVHNlqNbpOz9kJAH87g3et\n",
       "tPJrSyRS2qSMAQaZwNYJRmU3SmumWWZZzFHWhbVzwzXzcfMMs9UKC2IFWye4x+nly5UXNpBJ/WDy\n",
       "Eey1pfpbpetURUgF/ZN9h/jiQp6TySzT5QqjiQS+Duf+zWoZicARJudE6DI6K+/iWfUGJjaKgA86\n",
       "JzlfdOPCIBV/uW0qGGwHvHdnHtwuwK675w7M6dsA4NDcB17/eVTxK2UNY4lkHCG8rKZjKkdT2Jgy\n",
       "yWPGQ3w7+G7MCX1I3MecnCarB1gWs4yo/VwInmr6TLUc08c4zdFkmnKg2Z8S/EXuelwWL1oEowCj\n",
       "Ecuh4Pus6DIVqiihSGmH9/al+PpSEYnEQvLugQQlX/DSiodPwKCV4B2DPp+/4VHFI0BhIMnSxYN9\n",
       "Ji8u+0yziIcPEJtja/PImwWwtQrKa8w3ry3/93jiJN+pTMZt2zhUcSnrwhoYtK46VXfv2wDknc7B\n",
       "Wu3bEklsmSarB/iB7jFeyXksUcDCJC9Wuccc5VfOXuAPXz/Os7kSI5bDqSxMlwQ5T2NLwVLVi2lu\n",
       "j2csLhcCXBWOzX3ZBC/kQl95BT/2izdaTySStE6RIcnUmu+99n2a2HWlFw+pgwxaCQDmvQpLYpVV\n",
       "sbLB6pLUaXp0lgpVirKAqS0SOsEhs5fXgxsADOt+XuW5unS2vQbgbzXw3qmiGZtVCYvXKBGmfTlG\n",
       "L6fUXVyRU5japiRyvD9xN3/hPgkQV5mLXIMpnYlJpCJeg1qNvXYu1Wr6hrAZUftRQnGXNcDz/jWk\n",
       "NkjpVGxhyupuZuRM6PNWo/gETMnLMV+CxGBEHuN68FoTEpad0Ly/d4AbdjI+aAcBHLaWQtYMzCOy\n",
       "lk/0fJS/KV3gndYxPl/80/BY7BvKYgiLkr9Ql6dYK+2iOE3pcEDey4K4GXNMR1rpiNrHtLhUd00C\n",
       "h6zuxxWl9fa1sRbgFEZ8D4sMeV2lStifCKhNDO7qSnO5VOaj45I/uJGLTeYAjnY4m+7lciEEG4BB\n",
       "kWZeF+jGYUGskBOLcfBIJK0Y11rV8E2S5rAeY0WXKYoiprY4YvVxyVuimy5mxWKcytSrBrjGGxu4\n",
       "jbdCarL1dIitzblm9aLFGoiP6yOsyjBVL6XS5ORSDJgmNp/oP8JTCwHDSYsXy/NhG1qubcJMTAxG\n",
       "LCd21VTWNlcSEded7rcNir7mv7zrBv/VKzq2nkB7C0rt8bDN9edIEPLoN7LwRWJh06sGOe3084ab\n",
       "w8EmI20+OBrwpRuSq8xRFkUOqf28zHMbOMw7HZPdTh+7E4GQncjuVbdqLc1AvZbKGTZy+SeMbOwe\n",
       "Soo093AMV/mkDJPVwKvbAN7DMZ4Mvo2n161xEbGREKG16h51Dy+J5wm0F7fbLQZZ0WEFsseMh3hR\n",
       "XWJVzSOEwXF9LxfF63Wppq3N57cK3js/JncKtOv68NYDcNiMx7yR77x2ckdfrlYTvt1njV+A2qjO\n",
       "2ij0WvNVbTR6dNwi9Kea2Ng6yUPJMS65JXpkgrQpyXsBUyzE4D2ke3mkz+Y7SxV++e4cn369j1md\n",
       "pygL62ZdbXBcjvJAn+Ar82V+er/gqXmHnzt5ja9en+ALC4vkxGLMzNWK0KX+edefpzbNLPJzHTOG\n",
       "sKUgYQj6bagq+OjBm/zSqwJXlHApxLt3qKdt3Wl2sq1KY9RtK4apZuUzW8U1RDnxPgETVppeW3C5\n",
       "WCFrWlzxl2MT+bjsoccyGOvSfHV5BVe4a2mBQVPQbsasVyudfokbN2NR/z/afZjnVspMyRs8YBzi\n",
       "a953mtKmblUD7/S87YD4XtK+7wRgbyaN61szE3uUoaN0wBH5AO/K9PONwgyH5CDTQejuy4kFTqoT\n",
       "LIg8l/xnNqwVh8wHuaEvMiwOc1yOsBp4PB18JY4X6rMOsuRd3dAPgYElHSbECebEdQBOqVM8p5/A\n",
       "C9aZMNtp352B986OzV4A7Uh2ck7fZgCPZPP2W7GytZLGYiS1/0aAXPtZ2NfmHNSGsDiu72VOzsea\n",
       "W0b38L7uQebK8Ep1hqJYbalJ1aZzmdrCFW5M2NJ4TZhXbnFcjjAV5CiKIj06y3v70vzRyisb/NTQ\n",
       "euGsBa1hDvCR3mE+t3KNo3qcPtvkGW8SRYCpbY6KUR7uFzyzqJnU82R0mjk5hyLgrHGUN/0FBnQ3\n",
       "7x60OJcTPONfxMRmUU219ZPDzoD6ZjWwYfNa6hCmzQywj/0McpVZAPbpYZYokMCiTzpMqxUqIszR\n",
       "tzC52xrmejXUWJbEygbz+Bl7jNlKhSUK+MKL73uXNcB8tcqknI7HOtKmG5n1aj/b9DnXnmmQCVxR\n",
       "QmLQo3r4ocEMvhLMlgV/Uvx20yC23U4D3CqI32kA34ug3U7aAXotmFsiiSFsyiqPJZL0ynGW1TQF\n",
       "f24HAqXCDfG4fR8LwdVwfRGHUSgeTkyw4gV0GZIvV76Jp128oEigIitS7eZxs7myc2OzlwA7kt3Y\n",
       "jO44gEOnIA6dVhZrn36xkbgAQMrQX542h9E6oBQs111Vq3mH91inS83Qx4DqB+CGvM6YmqBHJJFC\n",
       "8JGJKp+9JvnAsMnvzr9W51eqjS4eUaM8mk3z7VyOiqhyxOin15b8Tfm1OnOqtaYJZnQPKe2wIvJx\n",
       "qb1aoKxl3KqVZpOiduNiyzT3czdpU/INP6T6lBj0McYCU/XvhHVykaROY2FSERUGVD+T8jJlla+7\n",
       "ZyMA3c7FsZU/sVELj3x8+9Rh7u3KojRccEu4VKiKSl31t8bnadyUSW3EwW99pAFw8VBofmAwxUpV\n",
       "8kLO5R8dd/mfz9sUhUtRrMbumc3Ae7MveGRFSIo0JZ2rmxPtKFxvRy7/Vmk0d+PcVvJWA+1W0gzM\n",
       "DWEhpc2geYSM7uGS/0zM59Ds3W3lXTTeT0qbQ9bDLItZ8tX1tUOhMGWSo/IhluU889XzVIMixGvX\n",
       "7pfuhL0J2pHsliXpDgN4JDsH5FEwnBAGh6yHOWWO8mzwJgCraiE8B8kh7uZkMstYl+avlxf4mdEe\n",
       "/tXNlzakaURAYMs0h9RRciIf82bX3V3YfKzrfr5VnOEjvcOUAkGuCjlPcTgteXKlQAUvLoZS/1xr\n",
       "tLA1PtCwH/Wmz3Z0hdAegNpJ7XhH5SvTZliF7Sn1fFPtvxWIx33ZpQm7WSBQY6GGHjGCqS3SOsWE\n",
       "mUHpMCXsir9MH2kOpxJ81b3QNqYgajOMd7B4wB7jeLdioSJ5Pl9izHLwtSZrSYYdzZnePJ+5muFG\n",
       "sEpBFKmKcuyWgM157cNzOi9W084aArcedLiVczsB8tsF4N8rwN1KmgF68/St2y2bAffbA7Qj2U03\n",
       "0AYA3wleX9gOiEeyXfP6+vVShGlih62HY7rVolrGliky9FGmgIlNUqcoiOUYMGP/TYsFsZnWDsSB\n",
       "H4aw6dND3GUO803/udjPfa++jykxy6K+1vActVSHNgfUYbpFgvPiKpW1PM3awW/cXDQDnU5q87Y8\n",
       "1sSH3EqEMOL31aovW+1by351OCcbx6Y2luGgPoGJwQ05zYAawsSoq+ZVK7WR+5GbA4g18Oj/CW0z\n",
       "IFIMJEymymVMDBSKE+kEl4se15hnVPcz4SR4vjzDkpiLN2Yb2KraLEStQb4zC8h2qFRv9VzY3jPd\n",
       "6j3je+8BAHs7ym6D9lsBsGtlt4Mwdw3A4VZAPJJOg942XlfLqZ6xRukX+zlrT/BKdZ53pwc5lPb4\n",
       "/M0KKyJPVZSJqoa97E8zo85vyJ0Mn6c+uC6qJGUIm3caD3DdX+WauFDHf90YeNbMR3tQn+T+dJb5\n",
       "suKX77/KTz9nxD5UiUFGZTmb6qfX1vzfy09smua1VdlgKmsR1BeZ1/erQzza08Wf5i9T0Et4uhxf\n",
       "27nJdWcmdjMrQ7sAxmbXNM752sC/h82j5L2A490mT+bCyG8bk1XCdEJXuCgRkFHdjBvdzAQFZuT1\n",
       "uo1Bo+Zdb0pvvyB1Ct7Qfh5sJS5hJ1LNGqVT98+t3mv3gPvtC8qNcjuD0N5qgF0rt4cjYxcBHHYC\n",
       "xCNp3a9W1cxg3aRuCAvLSDNgHCSjsrwj3c9rBZdJOYmNw5Aa5GX1BEpXm774KDcT1hejKEDK0Q4O\n",
       "Ca7JK3W+ztoKabUS5bPDeuCchY2Nw9/PHuLJ5TCAyifAFWVG6eF1cb7OUhDo6o5Eg7eK6q7NFY1K\n",
       "XSZI0Kcz3BQLMRd31CfYGBXfaHaPNgJ36/tw8bjEK3UWhZ2QZvO3GYivH9toUan9PALyk/oQtpR0\n",
       "W5JfvO8CX508xBdmXJbkUl2Bk2bm8VYm850E7/jYJu/yVgMM243VdoLednKzsHPgvffB+tYLfuyG\n",
       "/B1oR3K70h83cKFvlwO9tegm/Ojbayf8ada/iGu4loc3isiW9CYOMWwc47S4m8v6TRb1NK9Vr3FY\n",
       "HmRR5Jj1z3MzWNOctYdGxT8IscYuHZYHnZB3kRWDuKKII7pJ4iAI8727dQ8aAyUCHpKnuaKurIGb\n",
       "Rmt/jW88WGPW1ezjJKeMQ8yzTFW7mMJmqqzoIcWJdBJL2ySUHRK9iCoSyTF9kll9nWCtvfX30vBG\n",
       "dO2xdlzMNccJeZVDXniJLbv4kdQjFKpJ7raH6JVdvG9I8HrRY1wPsSJy2CT5yZ57CdxBhHBIi16E\n",
       "NOlmgF8cPcYrpbD6miFssmKYI/oI92WTzFQCqjKkYxQIEIKt8Kw3Si03+oZjNfOv8ZyIOzzifI+O\n",
       "65r3AZoFscICqyz4Ff76ejcvFUsURZGKKIWbNnSDhr3GBb1hUdN1924vzY+3u66WG7vpceQGfvut\n",
       "SMjBHRb9MaRN0ugh0D7hEK7Hn0TnNv5ENQjE2nN0MuadnHNr4N34Xbmzss4L3u5nr0jrNWgrss45\n",
       "vpeebXtyO7kLdiWIremNdkwTr5Xm/WwkiJHC4EczH+dLlW9T9pdi8pfoOaMX3u7F16ahRZrkfvN+\n",
       "lsUsD4nTKA2neyRfXypyWZxjkAkmg1cIlLtpm9HvtSxxjgzr7jraYVpOMqBHcUWJheAqvq5uK7d3\n",
       "sz5Ac4IUWK9iFPn6U2T59YN9/M5lFVfQsqXk8SHFF256FHE5sGaxiKhpj+v9DCZN3nBzMQWpqU0e\n",
       "SPXyN+65DZHVrZ5tq/OznQa+fk6z2IZ1LTxJmkftA1wul/i+AYdRJ2So+q3pqTheoba/rbTkrfi+\n",
       "m53fru1mstMm5WhO/Gj6cb7mXiaresnJZUbUCG/wPA+JR3hKfavuvpZ0SMleBtUYM3KK4+o43w2+\n",
       "2jIwspm0O7a9Z9wbWvbe1KTbydsrAG2rcrtZA28bgMNugXgknYH5dqQdecxE4n7eaR8m7yn+1vsq\n",
       "Ue3xVmlfLe9Rk8NtSofj4kEqosqkeqWpibrx71vK3d8ExCMxhI0tU7xD3seraipMp9JZHh9I8vyS\n",
       "otsymOjSvJ5T/NShAv/ychUPD194sU+/kR40KmNYEMtxacxIbpWyszEQr907asVgF/1eC/C1RC21\n",
       "ZvNOcry3GnXe/pqdXywa4wNqxwrqYzfu0qeZF8sYSE6YwzwbvBnT8kZ9tmWaFFkO6zE8rVihxA15\n",
       "lSPqBC+pb6JULYNd641by3ewpQXzzoL2Ww+s4XuZUGUn5U7R/d5WAIfdBnHYmq98621E0kgcU+vz\n",
       "3a60Cr7aqTa3cl4zEI/84hAu4B9OPsJ3ytdRIsDRXaS0QwKTFYpYmGRIcrArwcVSWP3r2eDNGPRg\n",
       "Y1BXs+jsWukU0NvR6Naf1zyYzcImrXvp1hkcLIpUcIVLn86yJHKsipU6utPtkLRs5zlvVRtvlGY8\n",
       "CPv0cZblAi4FLGwm1AEcLBZEngHdzWvilbprJAYOaaLqVAEBBgb9aoQ5OR3HdpQpxPES0ebWU268\n",
       "4a19vlZAvsF60fH37c4B91sPtHf+XX2vgnYkdwq84Q4AeHyPO6CNx/e+ZT9/CzPsDmrBm32+4d4d\n",
       "vM92bXUK4NG5tSlaj8oHuKTmYq74rOrFIUHIbGYwLW/WLfCbBXrVfn4r0iworZNzInKdKN1MocmL\n",
       "VQxkzMDXDMAb+90JuO504NdmHPnNRAiDlOxlvzpETuTp01mOdjnkPM1D/QGfnyliY3FdXouf28Dg\n",
       "NCdJm5Kb1TIrohCPv6ktxvUgc2IFV5QoU6C2elpt+mEkh8RppsUlukSWXjXAm8GTMdA3c3HtZfB+\n",
       "a4H27ryf73XQjuROgjfcQQCHO6uNx33YkaC9NqbZbbzLWwVzaA3onbbdCsAjtrrG6xp5ukfUCC4V\n",
       "luVCbDZvVhK1U8DrJD6hVmqtBZtJra9bYmDjkFHdpEmSkTamEMwERUaMFC/rS3VugE4qxUWyUybv\n",
       "TuIENpNm1h5TOtyj7uGKnKqjAU7pFH2kub/X5E9yV+LrTG2TIEFCh/MhQHF3spfDGcUX54soFMcT\n",
       "WZ6v3iChE/zjQwl++0qFZTlPZa2euYXNbx8Z429v9nJXtsLTCwm+Un0WgC6RZbb6Rl2VvEg6A/Db\n",
       "u7i+NYB7d9/J2wW44c6DN9xhAI/vtweAPJLd0s4j2Qqg7xaQNyuQUPd3k0A2Q1hMcIITdh+mEDzj\n",
       "TVJdW4SPqENYQtJtmlz18pxNZykG8ETl8ga/d7OqXNvhB9/4nPXmYIc0DxhHKfg+B1IWXytN1tUG\n",
       "Bzig9pExLPptgycqk/GxUTVEVB/8703k+dNrGXytyfkeCyKPK0qxRaHVxqRWOvmiR9aM+7kbpTVX\n",
       "maNP93BFXsTAIKv7eTw9wmurZS7JSzsWL9AY4NesEE54XrgxS+kMQ7qHHCU8fCSSBBYOFsOJxNq5\n",
       "YQ31gh/QZRrc8Ir89D4zDvjztBtvQiJLTlr0sarm8XQZLyjEz7R97fv2La57G7h3/z28nUAb9gZw\n",
       "R7IhjSyUVilHuyU7lWrWuv3m6Wetzm1MS9u5e8VpSx2939apX52Oj276buuvr/u9jpJWxgu6FAaH\n",
       "OcyL+hw3VYFjeh+jsp9V7VMRPkIbONJkWZW54uW47ufRYn1vuM5qZnFEHaYgSmsar8QQFkqsp7JF\n",
       "P+3SoSRG3bnhc6wVd8Di76VO8mTlWki4UrUwtMXn3zfP81dOMkAvD6cHMYXJNW+VGd8loRNhzjsm\n",
       "FeEzINMs+VUCleJkd8BT+QIuVY5YfaRUiv9kNMvqaj8rorSWGqhb9rlZOpUQ4XNbwsYSSbroxsRi\n",
       "iQJ5yjjaYVUUyOpeDCySOsmb3iIrcoUeNUBJFsLnFmvjWfPf5ulpazn5a/OiNgVv/V2uP4tGh5H4\n",
       "OsWg7uHH9mnK1TQLfgULk9PpDJVAMNElcX344GiR665NVWnyvkeRCs+slimJPKf1XVxTV9ZKnfoE\n",
       "2kMISVnl8XSZQFfWuBN86lOKtpJ+d3sW2PV0r70kty8lbj316+0jewm8oYUGHh64vVp4fN89pI1H\n",
       "sv3NzNaC4Zrfu3O/ddv7tIjIrmWZk8LgA/b7eDG4whnjEN/wvhOfYwkHhzQf6jrM04Vl0oRENPdn\n",
       "Ha4WFB/b5/K/XfUJUPjCx8OLNSxHO/zIYJYvzpfoFgkkgj7b5I3KMr7wSWibaTkJNNfKN5NaM34C\n",
       "hwNqHx6KKh7/+Aj8m0s2g1aSlCn4/rE8y5UEb+YTPDa0wlPzPZzL+3haczBlcb7oUqBMWCZ0XbPw\n",
       "1uq8G0hMbdFNF584oPmXUzOxJQLqLQztJCKI+UejB/iLaUHKMJgMlpFI+kjjE+AIk49M+HxmSlPB\n",
       "53Aiw1PehZhAp5GRb7vvLZJat0Ot9h39XfejDRIkMLWJhYlDmGaYMSxWg7DAS4DGpUJRFONa8z/T\n",
       "f4RPz32Lqips6G8rUp+tBa/dTvDeK3IbrQ1vM207kr0G3JG00MB3g9ClU9lL2njtNdvRyje/12ba\n",
       "+HaPbTi34Z3GGpcIqWBNmeRx892s+gElqnx8NMHThRJSWHSJbtK6h39zr8FnpkxGjTT9ts3xtEUp\n",
       "CNu+XLDJGgnu706SIcWIzPCz+yTPLUv+4f4kX7jp04VNj2XSZRq4gSKnKqzKHKsit07sUUsm0+EP\n",
       "1JrQNauiSEqncUWF7y4ZWBgILTiVFTy1kCRhGFxc1UwVHX7x7Mv8+dU+ClSY8cq4VAhEQCB8fALC\n",
       "/4cadiB8AhHgiSp5keeb+RwBfp3mLWv+a9QUI4uDiYWBha0dpvMON8UiJRXwgd5ehkwHN4CRpE2v\n",
       "Lbmnp0CukkEqiwWvgtQ2IDGFxXsTd6P8LHlZ8/628N4iK4YUFlIYJEWK70/eyxgjLAc+EaFPCOZh\n",
       "nw1tkdVZeshgYODhc9AKq7zNimVWdIlekWJOLLMil9HAL4wP8I3VOTwqPFW8iqfLddHnChXapToA\n",
       "b9hMA99lrXPPaN07Q6DSqbwdte1I9ip4QxsNPDx4Z7Tw+P53MFJ9M9nJlDRon2veug/bi1BvRiAT\n",
       "0bv2iBFW9EysjfXqYY7LESaDZd6R7udaKeDhfsGLy5A0JAkJ85WApCFZ9Cq4YeY3vvDrcoiPmQNc\n",
       "8paQSEZld1yDuyrKdX7yZj7y1s9V//y15Vxt7RAVHjG1RQKbFDYZw+IHxyt85prAQ2Eg+G9OFvk/\n",
       "3uxhvMvkbL/Ls4sOSsMz7swa4cxGH3er3xs/21CSFIOs6uWQ1YMtBbOVCgpNQhgcz1hcLQb8P7/w\n",
       "ef6z//3HOZ6BaVdgCliuKlb9IOZgr4gKvvDwqcbR/ZH06SGWxBwAR9UxBq0kzwcX6whnaoMOAbp0\n",
       "N/sZZChh4ZjwWqHEiOVwwQ+DEG2dYFR2M6cKVESVChV8Ed679vlMbBzdxT7Rx5JyuSzOxff8tbEz\n",
       "/Ob0c5RVHqXW6wVE0knu9+b+791bbO+s1n1nQOTtqnHD3gbuSPY0gEeye0B+68/XGZBv3ZS+E+Dd\n",
       "SSR6s0IthrCZECdYFnOYaylVx/V+VnSZbpFgXhdIYBHpcBV8ABws+q0E/QnBM4XFuNAHhJW8LExM\n",
       "bZHC4Uymi7SleXk54KbOUZSFGMQbAWkzaTT1Rv+GQJ7klDlKyhRcdV1cqgRri5JBSIFrYeAIk8Mp\n",
       "C0/D+aJLnhK+8GIA31D5a5O/G6WxX42VzYDYHB3pvXeluij6MObAkyuhyTmBiSNMpliI+3aP3Ecp\n",
       "COJxcdbGZoE847InBt2iWK0L5EvqNPeY4yx6FWbFEgaSAMVHe0f545U3MbGxdZJuneED/WluuoJV\n",
       "TzOUFPxt4QYlkcejWrcpSODwA13H+KtSPbNexN1fS3QUvreNLGzbZ137XgPvO5i//jYGbnhrgDe8\n",
       "RQA8kttJx7oV2RzEtxaZfqt+73Y54e0i0CMQN4VNwujmg/b9vFSZZ1WsUMGN/ba2dng4McFSNcAU\n",
       "gvNqBgALC1ObFEUxBr3GSmzjapRZsYhE4gsPqQ1SOkUCi8d6U/xJ7krddVuJSm+m7ZraxtEOSqgN\n",
       "fbkvMcjPnbjOH12YYDipOZfXXPGX8YVHCDvhIhZtQlr1p5M+NvYN6suTmtqKx80hgYNFQkqWlItP\n",
       "EFPPRmJqk24cMobFXFDCxCAtLMYdi4SEG67iilpkVazUvcvGtLcj6gQ35DQuhaaLliFsIirZlEqz\n",
       "z+jhYMrgi4VJ8np+w/NLDE7ou1kRBUxtMiOnSJGliouJTV7PE2iPSlBPm7szAA67QkRyW8H7zgLH\n",
       "3wH3WwO4I2kL4OEJfwfinUq78qbtRDYElNW32Y7+cws+8A7bjoLZWpU9NTG4O5UmY8LnVl8DwMbB\n",
       "1knOJsa4WC6g0PzAYIo/XLy0AcTr+9+gla5ppt06w4pcic2ztwLidf/q6O/wvdXW9R6SaT487lFV\n",
       "kt+/sVSMWd8DAAAgAElEQVQH4JHUAnnTe2ujqbberI9RXyxMHO1wNp2ly4SXVjwOpizmy4r+hMTX\n",
       "4PqaN/2FODBwvR1Jt87wWE+Gr62ElKZ9oou8Ds3yPz6a5Ldn36B5/fHOADMSR2bjcV5gquU1UdnZ\n",
       "f39qlN98tZsiLikcTqe7+MDYEr96oUxOLHCfPsVT6gkqQa5lulgzud0AfnvA+86DxtsduOGtB97w\n",
       "FgTwSPYqkDcH8fbMbVH6Uy0dqxAGCSPLac7ygn4ypqDsdJJ1Mm6tALyxf1BfXrTZ9VGt8DG1Hw+f\n",
       "VZmPGbhgo5YWX7f2e5I0P9m/jysFyaqnmPRz/NxEF5+7rvnQsMVnZ1eQSM6me5kselxjPvYB10oz\n",
       "xrFGAA8/C7cMnxzr41tzFu8fqfBHUz5F4cb9DWoWtUbgDPsu+XDvMN9ZKuNS5TdOVfiN1xO4wm26\n",
       "AYAQsCMxtcWH+/u4VhRcLpf4J6cK/PIb9ddkdJr9dooXvWl8UW1sLn4+qQ3ekZxgtuzTY5u8UVlk\n",
       "Tk7H4N0uWn27ZU1rpZEYJgLyFFlcCgS6ymPmg3y58pW6kr2NkecdMdPdJjP67oL33gGLtzt4vxWB\n",
       "O5JNATw8aW+COOw0kN8eAG/Go27JFD3mGD+cupuKgmdK8+TEIv/D/n3895Nv0CWyrAQ38HQIMDvJ\n",
       "ux5/1qafsLGgxfrn63nYnVCWNmuzlsXtuN7PqazJjAuOCT9z4ir/5Pnh2H8dUrSaFEQRX4TpXZtq\n",
       "+dqoA97o2H949yy//uQp+hMSpeGV0nqltHZt9ukMx9NJLhYqZAyLbksy0aWZdgWur1n2wriABfIo\n",
       "oRilh4L2OJvt4rWcx4mMxROri3H/o+dqZq5vFzAXPd9j9jGqSvOsf4UqbmwqbwfeWymg0qmPXwiD\n",
       "CXGCOXGdBA69apAHuvp5sbTMefV000I/OwvgsBPguHvgvXfA4u+Ae++MxXblLQ/gkewckO8GiG/U\n",
       "ahvLk0oZlul0jF4G9CimtqiICrP6crwIRwvXrZQSbcnu1kxz3aQASDsg7/S6RgCv9V0fFaPMqQLH\n",
       "E1mmKmF+dhTdHmnHzfzUUG8uP2OPcbNSxsRggTwWJkcTWa5WClgYZKTNB0cDvnRDIoUgbUquVgtU\n",
       "qNb5ndfbliSw6RMOCs1w0sKWUF07NVdVJA3BfLWKj8IRJgO2xQ9N5PnjKymm1UpTP3urwLhO/O6t\n",
       "aGq3qnlvFbibgWmtCyYqfdsscK3ZPXcGwOFWgXLnAXzvgMXbHbjhewO8oUMAD0/8OxDvuB8tADzm\n",
       "FJchd7REYkiHLqMXQ9icUncxJ1YoilXyer6umEMtgEeib3FRaAbatdJKA4+vbwHgzY41Xl+rrUdm\n",
       "dBObxxPHyFjwRH6ZPtI4huQdA/CF2UKNlqqagnizvhhIsrqbBAa/dt88f3JlAlNAOYCFiiZlCq65\n",
       "oc/Yi9r//9l78+DIsus+87v3LZkvM4FM7EDtS1dX19ILe2OzySbV4tIiLQ+1eCRZ1ljyyBN2aMYK\n",
       "K2LkkSNGIWlCjhnbE7LkoBUzYng0wZC1SxOUTFHiIoqUuHaz96qu7toX7Gsi97fcO3+8fA+ZicxE\n",
       "AgVUobpwEGigcrnvvvvQ+b1z7jm/gw4zp1vGbxwzyl4P5y2xhCQpDVKm5Ew24Etz4Y41gIVEobEx\n",
       "+YEDileXE3yrHJaoAW3L1Br/3S3jvVPZXSd52o36kfcC8E4A7XZj2c3r77V1aC9zWLOt/7+xvfDe\n",
       "XaC43+H9bgF3ZO8qgEe2PSDf+vm2A7gUBu+xP86KyOOLsPTGx2VcHeCI1U/SEExWa9QIWBBhvfSD\n",
       "chxfaybVCjd4K+4LvrkeyFuzjeAN7RtitHuu3RhCGHGrySgz/b8bmSDvSd5Z1SQNgdJQVYqklMx7\n",
       "NRLC4HDa4uP7F/mtd7LM6kJTvXmn4yW0zSdG+vjWQkBSGrx3WPPiYihs8/F9NYq+yVdmJfnAJfSL\n",
       "1/6XaAVO43lKBBYGNiZPDJp8d8lHoQhnpHFZC49HY3W6+eiU6d4tjN5aareRKlsvIN8I4I1/e51u\n",
       "ILsBeTOtUu9GQtv2wXt3gWIP3LvremyX9Qzw8MX3DsRhO0C+tfPt5oFHCWtD9nECAh5QJ5gVizwk\n",
       "91EKAi7La9SoYGHzQfsh3qguMikutW3B2JoYFoXjfzL3LJcKijf1NZaCmz15URuFy5vPrzO4W59v\n",
       "N1ZjowwbB4mBo1M8mhjhqaEar68kkAJKHpQDRTkIqOkQrCYSR5rsTxmcK5apUIvB2M6klnHC2gey\n",
       "Wa6VFHk/lPr84h9/jn/2j3+YgqeZ90IvPKjDu9HrtpAccZJcq1Rjr9pA8H1jNq8sSRa9MFTeCP92\n",
       "Hnw0xzUAr59zI+AsTNI6zZJcolHsppMH3jxOe1g39jxvJ8fa2sKzcaytwLvdY5uBeLfHdyKUfvsA\n",
       "332g2IP37rsm22XvaoDD3YH4RiH08DVG0/63wCBtDsf9kiGEhylDwDV2cFo3Q2GRFBkyegCrrkk9\n",
       "QY7XxJv4qrLuAzmyTglR7c9pbU+53R52r2M1am1DGD7/cOIMBV9z0V/A1CYZkoxYSea9KiaSGgE+\n",
       "a+duYuATIJGcdPq4WCnWBU/bf1CtJa3J+P3h44K0sDibM3hlORRNDc8lkkUVfGzMYrFmkLEUA7ZP\n",
       "NZB8d9HAMUMPftkNKAReU/g9smi+jaH/dmZqkygxTyLpI4lPwIiVYMoL68AdLPoMiwv6VizG0kt5\n",
       "3Vl9kktiEpcKEoNIxGVUjXPK6ePrtbCr3FlOYEvBxWCOWa6vq9Fu3cLptn2zmZD4Znqdd3p+uzzx\n",
       "PXi/u+zdDO7INgXw8A33HsThdkHe+zn3moXemsQWAb2xDjvqvf2s8TimEIw7gj8svLTO836cx7jC\n",
       "DDmdZZ+ZZighmSz7zOoCBbmKIqCol+IQfKMNiUMs6hsdvaLwGI3dvmwOqwc4lujjRq1MiQpKKN6f\n",
       "HuH/K78CtPf41o/ZvP8dJa8ldZoJPcSkmMfCZFBnGbOSXPNWqbUpo0pom189W+E33xolY0pcpamq\n",
       "tXNZCCpNUI3C3lEfs4QwGEuaBBqUhiU3bGwCYAgwhcQUAlsK0qbgn5+9wr995QjVIIR1oKnfXITv\n",
       "CdBEfdIcYWJKwYN9Bn+3Uljb827w7g0kNhY/c9znty87PJqzuFJUjCcl/+jBa/yXd45wqxIwGaxS\n",
       "EqV4+yUcp/MHVLSeo2qUY4kM07VQ5rYgiozqAY6kErxVDm98xo0Mk8EqrqhxwhjlVXWZATXMmeQA\n",
       "/Rb8QeEbBNrbFMRha3vbjeuz0Xs212J042NvHeC7ExT3K7zvB3BHtmmAh2+63yC+MwCPwumj1oMU\n",
       "1HzseQthkJT9nFanqOCRkwkmHIO/qpxryjZu1LO2cUjoBI/a47xVWw5lTFGM6SHmRSjyMaxzHHKS\n",
       "vF0psCoKHGIEgAviMjUq8R/+EX2SFZEnL0KlLYlBVg9zTIwxrVbJkWJOLId63C3eYLfe2O20y1uf\n",
       "6/izjQhL9LypTRJYscyoQuPpKBltLSwegfX9QwmmK4JnR8p8dzGFbYCv4FZZ4dfhLUUI++j3oYRk\n",
       "sRY+rzQorWOAN4XbheB01mSxBhPO2lhlX/CtfLHpZiJ8j2DUSDGUkFwr17CE5FjaYsWDVS9gKGEw\n",
       "VfEoUKWPJDfFbFPGerd1bpVsTes0h6wMq354I/FAxuJ7xpf5xtwAN8qaou9T1B4+AdflpTjyE23f\n",
       "NO3Dt20y0v6DszFZshv0LeHgGAMYGKwGs221D0TDze8LiRf4fOXPm7aXtloj/m6C9x647x/r2I2s\n",
       "m929TmW3a1HP6c12O+u9g1n7bmWtCV5hN6g+a5ycuZ//7fB+vrZaxZAJ+uUI1MdYEsuURJnDxhAv\n",
       "1iYRQuLoDB9Ln8CoDVIRPmndR4Ik43qYRbnEDbXAI9Y+ruopXFFhRSzXxxP0kWLKL3FLXqPMClNM\n",
       "Mctc2H1Lu2g0pkgiMMnqfk4bBykpyOoBjhrD/NChKvOlPgSCDw70kQpyuL5NVdTiPudRJy6jzZds\n",
       "+VpbnYathcjb7/Az6m8eetAGD9sjlALNU9k0L0zUyHtJTGEwZJscTJkU3TqEw9gGAsFURVP0FVcK\n",
       "NgVfU/TBVwIFmFJgSoFjSD42UUUIi0BLasFaLyZDCHK2wY8eKfDhfQVeX+zHqHvqhhT887PXuJof\n",
       "YDAR8MqSYK4KgRZ8fFzTL1MUawYfGkkwWYbnhx0MIblYqjJoJfip43m+s5Bk2q1S0T6rvl/vviX4\n",
       "wFACv5bBUSmUlgzqAfp0PzX8uLuYxMDQFsN6iGPGMKvaxajfugAUlV//a5YcyUi+MZ9k0Q277C0E\n",
       "FZZFnpP2EFeCG3Fv7uj/gcaua41dzeLH4rjG2rchLGyZImUMMij3g6yXCgqL7zG/h1t6CiEkprAx\n",
       "hMUhfQIwGBQTeIbiqHiYvFhCCANTJkmbo5ziCX5s+CH+onyeqlptnlP9Z/uOZZLOHbW20mlr9wFj\n",
       "D973l23JAw/feG964ZFtzRvvfs69Sqk2htANYcU14IawOcQpEoRlZquiQL/u45CV4Zq3ygGzj1t+\n",
       "gV8+XeMXz1u4ogZASRRiL7hR6zr6o06JLBCKffxl7duxp9/OJJLnzGd4XV2jqJcwhM2j+jTviBsM\n",
       "qiEqosJhMcI73EJqg/16hJtyJj5+BJEHOYApBFfVYtP82h9zfcZ7kyRqi4JauKIy9r7POgN4Chwj\n",
       "7NqlNLhqbT/aFBJbhlntp7OCN/PhawBsGYbHf/tf/i4/+5/+EbUgDKVLEYbQHQNKAWgNCQMqofNK\n",
       "vwWDCc2NUjhuwgi7sikNft2bi7xziSRrmQzYgndKlTjZrTHRLTonYN1jacIe6o40SRqSsh82gBmm\n",
       "nyHb5Jw3SyQuU8PnTDpD2oQLqx6ruhbmCqRSlHzNNbeIh4+FGc/NwaJEjaIoxZ76lLxBVReb/lbW\n",
       "SsF6+7CMEivTcoAfz51m1RUMJzU3S4JvVm9RFnlc3dwhTQiDrB4hL+Zjrz8nxllWk/XrleEncw/z\n",
       "+aUlpsVVkiLDon8NX1U71pOv98rbJdptFny7Dxj3I7zvV3BHtmWAh2/eg3jTeBsAvDWJDcCUSUat\n",
       "B7G1Q0EscVqd4rqcIqET9OkMg9Kh3wpfW/QD/umJZX7jQh8/ckjxmzfDDl7/9pTkV8+nyIkkb4q3\n",
       "mz4UO0lWho9tDNTW5LVwb36twUVO5TjlZHm1Oo+Hh4Hko/3jXCoGJGW4Hre8EgWxVsf9fucA36xM\n",
       "4YrqumOa2uJ/OZzlD64nKGkv7grWaZ5RljnQ1MnLYM3zjuDXb4WIlALKQZSoRt3jDsd0DPA0JCQM\n",
       "JhQrruTRgRKvLaeRhDB3gxDOvgZf6bWwOmvhdU/rOKktCuM3Jrl1y1JvOkct6SdFWlj868em+JlX\n",
       "7aYWp90srTIM088Bx2LAhmUXXq+E2yvhelk86YxQ8jWvepO4Ivy78XDD7mF07xoWPt45ebHxb8cQ\n",
       "Nqf0Wa7LsCoipfvJ6X5uyetAqKd/VB0kISVX9GzcZjap0/z6GcnPnvOZ0MO8Jd6sz61zh7O1uSmU\n",
       "WsubWAN56978ZsC3O4Fxv8H7fgd3ZLcF8HCAPYjHY3UBeOO+d2QRFG2Z4YczH+Ll0jJ5uYyjU0gM\n",
       "cjpDn7TJmJK0KTib8/jitKCifRSaJZGPvalT5hiv+5OURT4uDwLiDztoVubaKOknFp1pOFdTJjmj\n",
       "H2WFEoeNAW4GeQ4aWRSafOByJuOw4sGVWpiwFWVeSy1xSPBkf4YvFG41HeegHsMQUNQeRxIp3jdS\n",
       "Y7ZqM10RvFVaKxPrOte6zx79HkE8XHmBieRDIxblQHAmW+Jzk2l8HXrfo0moNHjdCQkZU5M2FQdS\n",
       "VSYyBWZLGVZci9mqjdJQ9EV9DWE0qagGghslQcKAtAmnslV8JfjclIz34sO5Cfz6udiYFKiiUE2d\n",
       "xlpLzBrPvVWtbaOe5FEk47Da3xQlabyuEoOnrcMYEl6tzmPqUKv9Z4/Y/Nr1MqM6x2V5jQrFeNzG\n",
       "SomNrgs0Vx5EN4EWNlk9hKnN+IZiTA/SZ1gsBOG/HSwKVAlQ/MS+DP/39CwAOZ3liJ3hr73vxPMw\n",
       "hEVGDGJrhwfEBBcIu6WlRJY+nSOr+3nR/a/1v/utAnx3QuN+gvceuJvtvgd4ZJsHeTthk/YJbIa0\n",
       "SZnD/Ozoc3xm8XJYm133HKKsc6O+B2gImwQOJjZ9KhvrSAP80Gg/n50rxmHsS3oaX7ix9jVAVg/T\n",
       "r/tYkPPYOokrqvi4nFDHeVH/LdC7EEynZiYj4ggGkoMMczprkjI1s1XBQ/0efzEFIwmL+ZrHpJgn\n",
       "0vduDaFH4fZobABT23HPcAuT7xno5xvL4Yf5oJHgkwdqfH7KYcorodAMCoeluja8ROBg8ZExk6/O\n",
       "KWoN5xh75fWs8ihBzZSCpBQYMvTEB2wYSgQUfMnZXJHFWoLDmQI3ixmKvknBk4w5HkoL3lyx8NSa\n",
       "F67iY8ETQwEns3k+e2OI+VqAr1V8vJ84WuDzkzk+eWiRP7w2xJLr8fyY4A9nCrii1hQ+bxV52Ujg\n",
       "pfW5tte0JXEwrfsY1FlMJCVcfnDc4ULeJGtDwYOXKvNILTlqDgBw1V9mRt6IbwbbVRxIDPbr4+Tl\n",
       "MiXy645vYJDVQzjawcSgQo0n00NcKlWRCEZsG8cQfHz/Cp+bzDFf9VnSFRKY7E84fMV7Ba2D+OZU\n",
       "Inkh8Szf8q7Ex1nV85S82TjypHXQ1gO/173v+wXee+Bub1tKYms2fQ8ntTXaZpPb2iW26ZYktnqp\n",
       "GGH27cvVBZ4xHmVOFMnJcUbEQT6WfpR8kOAH+s9wycvzPuNhVJCkKAqsiiWu+gu4osa/PpLl16en\n",
       "KIg8vvDI6yqDOkdFVKlQxNc1FD41UaUqKmTVIP94fIilQj+rooSpE6zKPK4qESXzdfuOEpaiayuF\n",
       "xVmeoCxdPFHj+/uPcKFa4BPjAZ+fEmQtg5eXFatUmQmK2Jgo4OHEGFMqT0CkYR7plOkY6lHCUSB8\n",
       "9ukxDExGjBSDtkQFJkOWTcEPeG1FUFUBpzIp5l2PMh4SwXuzfdR8g37T5FpJk5ChtOmpfps+0yQp\n",
       "TUBgS8l/+OjLnJ85gK8FSUNginD/el9K84HxBc6vZKgEAiEMJssWRS/Bkmuy6klMCZNlk+mKQUJC\n",
       "zoYxR2NKwbIbhtJdpblWhBcXE+Q9RaA1phBMOCb/4uwN/vM7YygNb644lALFsqryejGsGECEf4ES\n",
       "ESfrhY8ItGhOImv9Ga2jRhM0/N76pQjqf48aiUEgAkqiQg0PG5vXimVuBatcrRU5H1ynIJYpiyKD\n",
       "aohP7Pe5uppgXswjhCQhHL4/9QSLvoGWmkc4y09NTLBaGKdEFVfU4oTF5kRGA194VEWVGh5CwIxb\n",
       "QyOwMUJZWkMghcV8VTLjV1Fo5uUCV9Qk7+EMD1r7ueRfxdNlfF3jUnADjyoDjJIXC6x6t1DaR2sf\n",
       "0B3D570nr+0+gOzB+343dfseeGR7nnj9/U03M0aT+lqftY/HeYykIbkQzOCKKqNqlPP6O/EHTFQD\n",
       "Hnm7tswwrCeoESasLREm80Seepho5DbV6UphNHn4prCbmkpsuAaNe/X180vINI7MktJZVpgJG6+Q\n",
       "wdEpavVkuv/zwTT/6u0qrqgwoIY5aGRZCKosiCXKIk871bDGOvAo6hB53x8cX8A2An7r7TEAlj2X\n",
       "Y+kEr5Xy8X56ZKFimslHhjLYUlMNwqzyC3mNq1Rc220JwQN9Jj909Ba/d/kAaQNulHW8Fy4BQ8KT\n",
       "gzXmaza+gumKQAowZaih7qlwnxvg5x69yn947ShKw1NDAV+fl/HxGoVh1vKyJX1meM6u0qyoGi5e\n",
       "Uxg9PictGRP9mELGDVBMbZHGYU7ON/VL71VedW29DAb1KON6iDmxwo+NDnJuxeBr3rmmHApY/wHa\n",
       "mAvxlDjLTFBiTs7Qp3OkddjgpSRKPJ4c59vVWygRMKpGOJNJ8VJxmd98apl/+lKKE8YoF4M5DosR\n",
       "JhyDm2WPaVYwtcnj6QFeLi3zXHaAL6xOURUlFEFcLnk9eGNdW9LG+TZ73I22lfD57gPI/QDvPXB3\n",
       "s/D6bxvAw8H2IA6NEDcwDYfD1pOkdZp31LexhMOwcYQZ/x00Ab5aS+QyhMWwdZyCWsASSR7nsTgp\n",
       "zVUl/LoQS87cx4cTZ7hYKXMokeINd4a8WGTJu9ZVd7pX2dN2z0Wh/rWxuvcHb7VOrUij51q7kT1t\n",
       "HeNSLQT1x4dy/PnSAl5dW9xocx5RRnqUte2h2Gc5THmV+ntCgEKoxGbUw+hShHAesA0OpzULVUHK\n",
       "BFtqLhXC/00+NOpSDgwuFUwSEpZcKPsqBrNZz2QfT0LBh9lqgKsURR21Om2WZT3kJLlcKROqr4XF\n",
       "bY1KbglManXRFxMDB4uEDMvUXKV4fNDgpSWfX3hklj+9eoD/WrwYQ7y1Dr+jDGkHKPXSarSdtf4d\n",
       "fMR+L6+6U/TrPgaFE75GCCbVCmcSQ3zDu0iNSvweCzu+iRtWQ8zJOdz680NqnBl5A19V8HQ1DJ0r\n",
       "tykxc2NRl9vJPN9dIHm3w3sP3BvZ2vXfVoCHA+5BPB6jAeSN1k53PHx96KkLYfCY8TwGggouN8RF\n",
       "SsFC/KHVNFY9Ea6XpKLW97Ueu9184t8b907bSKl20kdvJ7va6fFGbzz62bpnC3Ts7S31WiJba1Kb\n",
       "hcGZjMOVUrhOUWnZA32CK8Ww7MxXGikEjw1IXl2uQ7cO+gFbkvdCIRdfRWHrEOAfHtdcLlgEwJWi\n",
       "FyuzNWaeN8qqRtaqyOZg4wiTlGFQDqIkREhIScaU/NSJOXwl+ZvpEU72V/jPN3x++lC4VfFbN6rM\n",
       "y6m2ZYSNdrvtRTeyxsxzUzr8xrGj/MdLYVlkiQofHRjk9/PncXWl6T3vFY/yjprhE9l9/N1Kge8d\n",
       "zPA7K+epqHx4oyOS9IsRhtUQV8QFCt5U+/4APcI7PLc973s32R64e7UdBHg46L0P8e3KTu9Fma3R\n",
       "GvuFmzKJLTNUguWeeiZvtO7d2n+2Pt8J3o1zDMdojT40K6Y1Pt4e9s3wbnysFd6tAI/+Gz7WKAzT\n",
       "DPCw9afkY2OhTvy3F0IgPz4YZrxfKQqOZTTfXvTjpCijIdFtwDb4wEiFb8w7SBHWe1cCFYfIw+OE\n",
       "sqyPDxrxOABjiQQ3amWiPmcblYwlsDmW6MOScDyj+PJ8LR7bFBJfKyaSYQLdt7wrsefdqgEAW+tG\n",
       "1st7N7LomtgyzY/3P8kfF85R1UX26we4xdvrtj6iv43vtZ/kRq3M27wae9fRtlC0/RPdqLYtG9sE\n",
       "vMMx7j2AvxvhvQfuzVjz9d8RgIcD70G8aaxNJfq1CTNvYT07XYN2kG3UZm967QZz6QXg0Qe0EAbH\n",
       "1UluyRtd92bbjRuH1+vwTugEg2SaGp1IJIPC4d89d4Ff/uYZ3jOguFQw4i5izZ2+DIbMBFII8p6P\n",
       "i0+kYw7EnvBD/ZGHrkkaEqVDL32yViFoSICKytWOpRPUAij6iqQhsST8zNkr/MpLh1jRYdJWYwvU\n",
       "dkIurfXtCSwkkgo1fOHzKw9K/tXFYk8ytp1A3A3gm4V3p6qGXjrcNQoa/X3nvdwoe1yUl6nqIhkx\n",
       "SIUiBX823u/uPWzefc73Yvj83QbvPXBv1tZf/x0DeDj4HsTbjrmlrP3e1rLdh+Y6KLc0UPmF8Y/y\n",
       "xorkO/4lloKbQPd2oxt3Gltf/2sIm2E9wWE5yDtquqkpR/QaicFPj+7nt2dn4tIpqQ0c7cR9tN+T\n",
       "GOdKtcwPTlh8dyksVytRi4HsKs1zo5q/nRPUlMLFx6tDvrG2en0IPvop4r1qR5jUdECNtc5cjeHw\n",
       "xvcA8X522CAl9JIlsOIFlJTHz59e5ZfPJ6iIyrokvLV1WIssSC2ZEFkGbZNVPxTG8bXmup/HFbV1\n",
       "CnftkgTbwbddCVi0LtHz3d6/GR102DiCYwiLPjnCM9YJzrnzKAJMbXHUHGDZd5EIjqQSfKV6kVn3\n",
       "rSYvvP18NgbDveZ9v5vgvQfurVj767+jAA8PsAfxrmPfQZi3dkAzpMOweYSkTrMsZru2HhXC4IA4\n",
       "yTRXmlpNdktii7xuC5txdYAjVj8HUoIT/VU+e8tgkkVqohZLpQ7qHPusNGlTkDRCoZSRhOblZZ9J\n",
       "FuNuXkAT4K26druDxZG0xZF0wHTFoODDjUqVGn4oCNMQtu60X+5gkRAGSWmQMSULrkdFh9555Om3\n",
       "ti1NYLHPSlP2A2wpSdW7ot3yQtnSVo87qo1ve83q53NUjtSz2RUrlOnHQSI4lk7wRqnAsExhCsFl\n",
       "NbehVC1ASmdj0ZxL4iYVik3d6eL5tewrb7WBSSeLYN4oFNR4Q2kJh0E9Gs6lvs6uqJJXMzzCEyg0\n",
       "C2KFi+7X22Sa9zaXe837frfAew/cW7XO138P4D3YnehiBjsH83Z9yA1hMWgdIauHAKiIMg9xmDe5\n",
       "SFnn1wl0DLKftE4zIfuZVqsct3J8PXgDRcBxdZIZOcPT1jFedkONawjlMferCVYpI5EcNLJcVYuY\n",
       "2iQvlzG1zaDOodB4+BiEvbBLuE3gi6RD20GqUQRmWA/G+9IOFiuUUELF2etrKxZi29FJfnDc4bMz\n",
       "1fpYoecdAVwKOJCSrLjw0Yki/89Vk1UqtOvtHYW8o/agHxlJ8oX5MqW6PGmj998I783sLUdmapvv\n",
       "6z/AF1anUKh10YzWyAbAh50TnCuFamo/c0zzq1fzsXTqWU6gtObpYcmnF9/EVcUmb7y1jSj0Bu52\n",
       "5WewBvHT8hmuiPNA2InsAXWC6/I6n32f5rm/DRX7uoXOtwLv8P33DsDfDfDeA/ftWPfrv+MADw9y\n",
       "P0McNgty2ArMux+jMTnujPW9TIrLKAKeFk+yomrMyXlWddg+NNp7DLQbX7unxCPcDFawCKU2o8YX\n",
       "h8UIJeWxJArMiVvr2k6um0d9nr9y8Az/140yB40cvtLYMhTv+KVn3+AXv/4wpoC33SUAfOHFrUuh\n",
       "e61vetIAACAASURBVG1zu6x1oG07UlNb9JNif8JBac2iG+6F/8gByVdmbV6YqLLkWkxXTC6sejw3\n",
       "IvnjuZUNtdktTEwMavWdd19467LPG9XVNpJE7XSeprZ5X/IAi27YLzyBhU/Ax4b6eXVZcUlPr4tU\n",
       "HGSYBV2iJlyGdT9pw8RXmivMxKp+WT1EWqd5PNPHn5ZeaiphjKwV4Fv5kJbCZtg8Qlr3sZ8hXuU1\n",
       "UiLLSjBFLciviwZ13vPe3LHvFYDf6/DeA/d22C4A+NrB7m2Q32mINx27Z6D3luEe/YxCl6Z0YjnX\n",
       "h/Vj1AiYk+F+5GG1nzmxjK0T5OUyigAfN95z7aXxRTsN+EgMZliNkiZBQoR7yBXts0qFkigxoYfj\n",
       "BhiNe71Gm/PslL3e9LMhg93WCT48kONSQXPLL8Sa3AEq9tJzOkPWsLmq5rvuW4crv9Yh7biVYzgh\n",
       "uFUJmAmKcfg/gc3D6T5KPrzs3mrynjvJozbubbdm6zfCfEIPU6lHG2r1mx1feE03Fg42E3aSFc9n\n",
       "0LZ433CNv5o2KSiXIlUqooIrqrhUcHVlnUgQNMO73Yd0Lx/c3erM2yWpNb13C3vea2PfG9Kp9zK8\n",
       "98C9Hdbb9d8GKdXN2L0tu7r5PuKN1ntP8c7vr8uctu053vq69cdak0Zd+4kQZO2DHOQkNeliiyQa\n",
       "k6qoclxM8Jnnb/CNW/upBuAKl0et/QzoHI7qZ0ks1WGj65KeusFrar0vbJBqrUuGHtWnOCpHuSGm\n",
       "WREr5HSO62KWJbnIPxjax1uVElPyJl4917xVerWxBzms7x0e/R5lr4e/hxnsz2dH+cQY/N7cCou6\n",
       "SEVUY29ZCUUgAnzhURQlFljFEy5a6Lbf1CVPJQJDm4yLfpKGZL6mOJOT3Kz4JLA5YvXTZ9hcq1aY\n",
       "D8ogBDYJDupx8qKAj7smK8uaHGrrNYy+BGsSqjZJDExyIknOSHA4mabmSx5J51hxNWedHDow66Vo\n",
       "kDENBm2BwmDcEYwlLGquzTIljrOPMooEaY5znCGxj5JRDa9uXZoU1n9Qt7/uaxZWxK8/p+b36q7j\n",
       "3A6860faxGu79Q/fabtbx926bXT992wz1ts63lEPfO2g964nfnteONyuJ95q3W+IupeARfvhkUd8\n",
       "3HyaBTHNaXUKSwiShuSnHljiT64PozUsuQFX9CyOdijIVRI6gYfPI+Z+5r0aF+RbuKrUlBwFNMnE\n",
       "xvNoqQlvzVxfN+825UeNNeRNdeINrzW1zWPWfm65FRwsKnj0C5ukIZnyS5REaV1iWbdGId1C9GE7\n",
       "U4O0dkhgMmYnmHarPNrvcK0UcMAxWKhpHFMwW/Uoao8SFWqiFkuFtlNT67Ye0bkfVoep4ZMTSSSC\n",
       "kvY44ji8XJ2JIwpRkxgHmwEjga81f/Av/oQP/8bHOeX08be1K03JbUmRYUiNcY1zTa07gY6h7XbW\n",
       "i7fdy1ibrfNuf7zd3/f7XvO+9zzu7bber/9dAXh44HsT4rcPcNhuiEPvIG8FuCEsLCMTa6jbMo0l\n",
       "HBwyjKpRxs0Uy76LQjMrFhnWgxREiVmuI4TBo/osNR3wJi/zo33P8jurf91Tt7N27Uo3q+ZmCJs0\n",
       "WQ6qcQpUKYpSDOLGPW8LiwlyAIwlLa5VKlTqiXJReVojxDvtS3cKzbcqw0Vh9BwpfBQ2JgOWyWhS\n",
       "MJxUTJYlizXFol9jlXIM1evyOh7uOnBvJNwTSdHG82kTZv+JoYN8dj6PQ4J+YbOgS6yKQv1mLI9L\n",
       "pa6r31Ki1ZLAtl0A7/SezQMcdi6Evrmxt8PuJXjvgXsnbHPX/64BPDz4/QxxuLMgXw9xKW32248A\n",
       "8Kx9jL9xz1FReQLtxZKuVl3H2qtLXyZFhucTZ3izssxV/Xr8eKfSs6Z/d7iR2AzEGz33CFwn1ANU\n",
       "8HCwSBsm+cDllx5Z4hdez/BkJsu5YgWPgGeyGa4UFaUgoM80+OSBCp+fSgGw6PpU8JiRMx2T5Zo8\n",
       "e2x++cgIn7pC3PvcIcFJJ8OtiscSRXzh4+FhYbGfASZZZlD3MSnDvtYJneAgw9R0wP5kgi+7rzfl\n",
       "EvRqrWsDzVEJEzuOlkSZ5179HBM4PGOd4Evut2Ols3Y94zdKWusK3m0A+MY3hdtdQrb5sW/X7hV4\n",
       "74F7p2zz1/+uAjycwL0H8e0DONwtb1wKAyltfiL7A/xR8a8ZNo4w67+DUmHmuRQ2OXMfh9TRuP75\n",
       "LfXNnj2vdrKsrTXAcHtSrBY2JjZJnWZMD9JnhFKpl9QsrqjWPWELRzv04zBg2hxISTKm5koxVEvr\n",
       "twzeqoX16FHv9G7CKOEKhnM5oA7FIfCMTjMoUjw7bHC5KHlmuMr1UoI/XrnadEPQqVtYo8fbq7W7\n",
       "8WkMrZvYpHUfjnZIk2BWLOELj0E1yIycpKqL8Q1Do3RpPLdNALzTY2vn2V2qtZfnukP83gb4vQDv\n",
       "PXDvpG3t+t91gIeTuLcgvr0Ah52AOGzOG+/WzEQiu+5jNlo78Ebj/PzYx/jUwotNYdp2+uztQuZC\n",
       "GPQxiNRG7EVKDPap/Xxy3Oa3Z+coimUiPfDofYN6lIoo81ziGOcqef6HQza/f0PiSJOK8jngJHix\n",
       "OsXPHRzg39y6Hnum3bzvyCKQQ+iR2zrJjwyP8/KS5rpa4unUCF+sXOi4r90J2r3eGEXzaryhaZyr\n",
       "iY2jUzja4dF0lnOlIqdSGc6VC3j4nEoM8GXvlTjTvHU+3QC+0Vw7d0HrLNm60ft72ZrZPgnV3se8\n",
       "Xdvt8N4D907b1q//rgA47EH8bkIcNtZav51GKVLafDzxAm/7C+TFYpPn1/h+Q9j0MUif6ieBRb9I\n",
       "8I64honNA3o/q9qNQ9yNe8XtlMNagRvtlw+qQVZFAVdUcXSKYZ1jhRJzcrItXDude7sOan06x7ge\n",
       "4v0jBhfyglm3xmV5mW4dwrrplm9kazriNo/qsySlwQU1xX49wkp9b/2DAxmylqKmJJcKgkNpzVRZ\n",
       "sC+l+dzyLBVR5knzKF92v9lUd91p77ub9TL/Tv27ex3zdiG+NYB3H/N2bDfDew/cd8Ju7/rvGoDD\n",
       "vQXx7Qc43HmIdz7mdgA97jQlbBIyzQuJZ7lSK7IkVjjGOEu6wk15tWEmBh9OnOFcJY+DjUQwK5aI\n",
       "tMsn9BDTYpFlMbvOW9zowyb2UoXTEDbu/p6NNN+j10S9rKPvqE6+tUPYZuG9mahHtMVwSp8lIQym\n",
       "WWFBTAOwXx1mn9HHeX2T0+Igr+p34rl/NHWCC8UK7x9McqkAi57L63x3Xe13PM8eQRZtl6SMAcY4\n",
       "zCzXMYTNuDrIhOznb7y/bDrvzdaFb3VPfDcBfLfCew/cd8pu//rvKoDDvQPxnQE43Pk98Y2PuVWY\n",
       "tzZNMYQdh3wNYWEJh3F1MBYPiTK6f/WBNL9yqRarr7W2y2yE91bB1xrq73Yu7UDeGLaWGBxVR3CE\n",
       "ySTLVEQZlwrtQudb6Q4WWa+h9U5bHo2lepZwyOphxvQgN+UUtk7yPmcff1b+xjpPPJ7TJj7YpTCw\n",
       "RJI+OYKtHdI6TYYkFVzm5DTjaj/n1bfiNqHtZFelsDGFja9dXvzIKE988VYc6u8d5u326ndHGH23\n",
       "AXwP3HfStufa7zqAwx7EdyPEI+sE840gHv8ubE7IJ8nLZXxcbBw+lj7My4VQpztqm6lQJLDpI8lV\n",
       "ebOtRxvVKzc2V4n+3c026ove7rWdEsaiffA+nePjuTEypuZbC4oFXWJJLsbh/sja7XevT2Tr7Vx6\n",
       "qRPvdE4SSZ8coUKxbTSjXVObXhPs4u0FYZGWg9g45FQOE4Ons5kmDXcfl2fMk/xF9Uuxdy8wsKRD\n",
       "nxzmcfkgrtJUlM939dfxguK6uW28X9665nffC99N8N4D95227bv2d1iJrVe7NxTbbk+ZrZvdrmrb\n",
       "euuu3tb7MZuUwJquUaQS15rEJuuqYSJ+fknP8CH7CabUCo5OUalZHEik+OT+gKWKgwokilAO1MTA\n",
       "R/GIeZhk0M8H0vuhNsCTyYNUvTRFsUJAY+1yL/ejzXNdUzZrt0a64RxkE7wtbI6oo4CJT8D1ikdG\n",
       "pFlyA1ZFiT7dhyfCOQmizmfhl0OGp41TEGQwhcNpTnDUOMhNfSucTYdziZTX2qmZNc96/dfaDadG\n",
       "o6hRricUKhDhXnqfGOQXD57gW4UqAV54wyYEQkikCLulh5pznb/D625gigRJkaFGmbIoURFVJms+\n",
       "BxjC0zDPTVxd5nJwI1wbYYXf0sYSSbSABV2gqjXTcoqUzHFEnKHfGCevZuJ5RX9nTd8Nj+n6FYvW\n",
       "M/x/YSt+y/b4OrsF3nvKaXfDtvfa70oPvNF2sze+cx54ZNt37tuhpd7JOrUtbfw9CqXbMhM/npYD\n",
       "calTVvfXvW6TPsPiulpiUPchEVyUlwgISJPlJ4YO8qmFF9d5iduxnx3Ns93zUU/z58yHmXarVHD5\n",
       "xEgf0xVJyYOEAW+Vi0gkLh6rotC2YUmkW54ggaOTpLGZSCT4O+9C3AVuM97vZsLasL6ETwiDH0h9\n",
       "AKf+8FuFGpaQvCOuMaCG465xkSY9wEP6KEu6wnV5KW5B224NG9cuaitr4+BSwcNtOkdD2GT1MEtM\n",
       "AXBMP8SUvEWNSlOb22hfPgq9R5Yyh/nds4f4yXPzBNrF01UG5D4eN47yZ+U/Za31aKPnfudFXXYD\n",
       "vPc87rtl23/tdz3AYfdCfOcBDtsF8Z0EOGwMcYkkaQ5ygkep4aKEitXcxtUhFuUMP5Y9zbIruFSq\n",
       "clleRmLwmHgQgG+pl/F0tWup00Zzih/vQTim8bnW+vPD6gFquEgkR60c816VsN+YZtRIkTEN3nBD\n",
       "CVMARzucTAwwWatQpIpDgiURdjWLasR9XFxdWVeX3XiuG53vZq1TT+6UyJLUGd6XPIBtQDWAgynN\n",
       "ny8tUBHlprwED3eddG48fjxuCO+sHuJDfSN8Z7XAXINgjo3DuBrHQMQNVQwkebG4bk2ApuMZwmZE\n",
       "HKEqioyqCQZFitGEhSHgj4qfC5PxlNuydncH4ncb3nvgvpu2M9f+ngA47EH8dm1zWxLbC/EoaW2f\n",
       "dZZVHXY481UVX7uYwiZh9DOsJ/DwGdNDnOcVFIoxcYwlphDCIKtHmFOX22ZGb3Ze0Fw/3U2HfaO9\n",
       "78ZuYNE4CZ3gH4zmeG1ZctlbwUDGWfUlarGEa59Ok5MJznMFRcA+dYCSqHBUDvGqfocaFWrBatdz\n",
       "7jUrvNFEy/VtlbWNVPge53GmWUFqSU3UOCbGuKJnKYvVpnr5Tip8CRyG1BjP5wbIe/BWqYxPwIrI\n",
       "x5K10XEdnUJqSUkW45uDCPADepTHkyPUFEzWKrwtzjXd1Dwjn+SCvkWf6mdeTpHSWeb1NVxVxFfV\n",
       "OOmt0774nehQdjfhvQfuu207d+3vGYDD7oT4HsDXrB0oGyEO7eVRowz1QeMgtnaYCt7aEpiajrtB\n",
       "nXvkuQFYmHj4lEV+XWi3ee7tpUrj73pDk/ckxjnWp7CE5ktzHiNWAgWU/QBTCpSGFVXDxcPDxxce\n",
       "FVGOj2Fqi3l9rWMpF2wN3K3WTtq20Rs3hB2Hvk1sjqsjXJdTMVij9VAE1KisGz9Sg7O1wzHGmWQZ\n",
       "Ryep4cZtTo8bQygNC0GVCjV84fNjo4NcKxm8USzyk4cMPnUzT03UcHSKgljBxKZEHk9XmgRoGs2W\n",
       "aRQBJW82fs32JLZtbt33wH2/285e/3sK4JHtJpDfGYDD7UB8awmBt78Xvnb89iHrpvd2CF/3Yr28\n",
       "tlHGNYLUh8xnue7nMZBURIWT5hjfCc43zCnMLg8hG4aNI1inVQZfeDyXHidna/5qaYVTiQEu1QpI\n",
       "BDmRpKYDHGnSbxmcyQYkDYXSgvmawbeXqwRoEhg40mRarTIvp+KQdAydLQiqbMY6QTxjDJPSWQDS\n",
       "Ok2IdEkCk1XKSCQnEwPcqJVj8Nao4Yo1kJvYa2umDRzt8NGBQQDeXAkoaY8xK8lTQwFfmQUpBEpr\n",
       "StrDI8AnoCIqcRe1AMVMvTd8FEaP1snXblOjldZtiHg7ogvEw9d1+8C9N+C9B+7dYjt//e9JgMPu\n",
       "gfhuB/jWs/l3BuDdHovH6aGsa7PPNwL8CfF+lihSERVyOotCsSJXAMipXPy71AY5neXZbB9fzS8D\n",
       "MCH7eZOLTSFcE5vTHMMUgnfUDBB2JbN1gudzA1wqKKoqICkN/v6BKp++HpATSaZZiaGnCLBxeD51\n",
       "GDeAWxWPt+U7FIOFJjjB7X1At70WbW5uJBJHZjmqjjFmJTmUFuxPeUyWLV5cqWAimRTz67q3SQwe\n",
       "4jDvH4GvzinmdVge6As/XCttYmGSwOQ9WYd+S3OzJPhP/+Pv8b9++h+S92C+FlAIPGr4YUmhUCS0\n",
       "zQOJLC+7t+rHkRwTY+Qsg6955ygGC3i60gTs1nK89rXjm4F47+t+N+C9B+7dZHfm+t+zAIfdAfE7\n",
       "B3DYClTvtvcdzmFztePxmBus7WbHbQVV9NqwfMkmgcN/P/Qgl4uStyp5RmWGmlLkKZMmwbRYAMAX\n",
       "blPf7GicKFkrqcNM+wQJKqJMWmVQQlGjRlqnyctlJAY5lWNUZnidC1R1EYnBEX2SiqhyXb3Rsf/2\n",
       "dllTZAQjFl85wElOWIO85c+S1f2UqJDA5kyqj4Knueyt1G9++qnhMS+naGzSEm0v/EDfQygN7xQ8\n",
       "5nXYnc3UJh8fyvHyUoCnNUO2idKQNATvG6nyxWmbAVvydrmMg8USRVxRi5Pnor13A4MkGYbVEJfE\n",
       "uTinIjJT2IzLE0ypCwTa5VPHnuPXrpe57H8n1uIHUMpdl50erne7D+DersGdhvceuHeb3bnrf08D\n",
       "HO43iG/uXO+U973dOupNY/ewtr16+J3CxcPGEQ6rfVyVNzktDpMPXNLC4oE+k/0pn9eWTW7Uyoya\n",
       "SV5X1yiRJ9DNe+UvJJ5lxQtYUGU+kOvjz1avs6Jn0DrAlhlcVWyaW3TDMKTGWJSz2DgsqpsE2o29\n",
       "w9ZSqXa2Vf30do8JDJ41vodVXeMirwOwT5wgrR1qeMzIm5xWp5gTK8xyvSkK0ZrsFyX6mQ0NVkxt\n",
       "Y2HGIfEP5rLcKmvmXRcfhURQwSOByXNDSf50aRqFwtEONVEjL5q97MjDlkhM6TQJ+0Rr7JCJk+SW\n",
       "xBw/mH6EPyx+mwf0GRSaN/yv4KvqOo98PcB3H7z3wL0b7c7evN3zAIe7D/HdCPA7Ae+NwB3Oo7fx\n",
       "bhfi7cZY9+8OAI9eG3nio/oAUkssTM44WV6uzrOfAc6LS3FdcuTFdas/b00+izz/o+IRzjoDfL12\n",
       "hX8yfJgXFwUzQYkpeYOSWo5hv5me21u1TvkJ3daq9fVNSnsNpWOwJjVra4dhPcicnMfUFsfEGJf0\n",
       "NEoEJHQCRzusigK+CCH80yOH8ZTg/128TFnnsYXD4+IUC0GVGTnDQnCtaX2j6MFT4mmmdZ6SLDKs\n",
       "hqjhcdDI8t5hzVfnFFfEFFIbrDBDVa3yqHgf1+V1TGxu1V4hUC4QbAngdwree+DejXZ38h3eFQCH\n",
       "uwvx3QbwnYZ3L+Bem8vtv3arAG99rF1memvpVCTYYmHzUechvli5gIeLgUFKZ1lhBk9XmzzlyDaT\n",
       "YNY6l2g+AL4KE8Hu1Ad1tyTDdiCP/91SineCR7AwmJTTcfLaoBpiVGa4ruepiRpVinG4PfLQHxHH\n",
       "mQvKFESRBTEdRi2Eg4eLryp4OvSQVUOIPFqbxkqGaBvAEDZJ2R973y4VsnqIglhhJZjC0+H6GsLm\n",
       "x/u+l78sX2TaPYchLGr+KusBvkEUZA/c97ndvUqDdw3AI7sbIN9NAN+pPe/NQHttLpsN+e8cwDvB\n",
       "2xAWtszwCecRPjRW4JevzYfZ56qfHCnmxDJLYo6qWt1UVvhmP2x76Z+9Wet13WDjSoHG/IG18dfg\n",
       "GZWdDbKP96f28fXyFGWxymF1mIMJB19rTCH4kvsSgXbjm6V+MUKVIhWVb8oaN2WSB/QZHCzeEK9S\n",
       "8mY7roVEIqWNIcLv4zzMNXEBV5UItItjDPCgfpjv+l9o2zilu0LbHrz3rJvdXXGedx3A4c5DfLfU\n",
       "gm8e3hskkW1xHbe6/u2FVLbX+24XOk/K/qYs6jRZ/tnYPi4XLL5emmdBTFNVq+v2pxttM72wO9nt\n",
       "wLoX20x2fydPvJ0Uqy3TTa9tLIOLxpLIpuSx6LGjnOGDuSyfyX+bnBhn2n+rqQwM1meQt5unZaQ5\n",
       "ZjzBTXWe33/4JH8zNcanl75JwZvesAY8ss2AG+4MvPfAvZvt7svivisBDu9GiHfL8r49kZatgrp5\n",
       "Drc3xlbh3Qu4G0Pl3d4Hndt9NmaEt3vdRo+3s16AvZnxNnMN2gnqdPx3S/Z+tN0QbTX8WPY0Ly7X\n",
       "OCdea1u/3nqzIzAwhR1HP7J6mIeMcQC+qV6j6M/iBaUOnnKP5yeMttnlkd1OqdgeuPdsN8Ab3sUA\n",
       "hzsL8Z0F+O3Ae33oeO294e9b+bDYrrXdati8V4/bFDamTHJMn6aGy788kuR/v75MQSzFWcuGsJtC\n",
       "5JG1C5W3W6vthPZ2fnD3Wqa3USJb9DdjCJsheZCcyvGjEyleWbJ42Z2iKkrUqIQRinrmvCkdAEr+\n",
       "Akq3V7eTwkbXZXUbrb30aaP1mBG+zTrne+Des9B2B7wBzLs9gZ20qJzk3Wrt4d3Zw44yrR8yn+MG\n",
       "b1EJlsMPyjZrtNMfJJsFd6813+2SrrQOWJJLfCx9mFvl8LwcMjxpHWXarfI254D2DVI28rp7Xadu\n",
       "4N6ptW4ct9v6hWHwDGk5QDFYaJtZH0UwltUkq2KeT8+M44oKpgizzBM47NMPMCfDHAJFQJ/q5x1m\n",
       "m8q+YqEVVQVKTcfoJczd+Vx3tsf3TsN7D9z3iu0eeMO73AOP7E5AfOc88E4fvLLra9p52kIYJIx+\n",
       "HhRPcMjqZ9GrcV3epKiXANivH2BCZPmG+hq+qqxTs4psJzz2biHdXsdqhHfkef/82BP8+tz5OIvc\n",
       "FZV13mJjSVi3zPKtlnXdDXh3ssa1i7qPmdLBMQbi+Xg69IgNYXFEP8Q1caGptnqfOsK8nMLEZlxN\n",
       "4GDF9ds/91CR/+NCEp+AOTnNTw09yK/NfhlPrYXE2yuiwaaUzrYM7M0daw/cexba7gJ3ZIYQ5i/f\n",
       "7UnsvGlA30Z5VW/HEIhtHnMjeBtIYSGExDb7MISJkCZSWrG3PZF4mAHzIErqOPN3Va4wr4sM6Bxp\n",
       "3ceimCPQHnkWmBGz7BMnKLKCJkAAGr3u+Jv9bjWJRDR+CSOet6zvsf7c2Au8WLkFddDE38j42xBW\n",
       "uDcrDIRY+7chLH4y9z7+y9I19qsDjOkRTiUH8T2HYT2EKVLURLUOKx17nY3nuj7DvPVet7d739b1\n",
       "ix+/zQ/v8P265+/wOjQ8JgSGtPnh9Ee5EszjqTKagIwcIssoj8qTTLGIFjpUJtcegfb4gHOSqpdg\n",
       "VSxTFS6n7BGqgeaZwQR/cFNywklzTl1jQI3w1eo7HOIhVphDNTQV0fWv0KLz6HauquV8Nmuta9Xd\n",
       "QnDvnG+zdu32bPfb7oQ33CceeKPtpDe+vV74xvDus/dhyiTPyCdZCCrkRJJvqK9xWD7MLNf5iP0k\n",
       "79TyLMlFfFxOqOMoFBflJaq6GHue0V5wJwWwJo9pi3/M7ULjrTW8aXOYf9j3Hmaq8IY7E/eDbuwD\n",
       "Hr0+qjvOiSQp0+Cyt8SkuBS/zhA2YxzGw6Nf9zFqpEgZ4RyuuUXS2BxyElyrVHmTl+POX63r0Ghb\n",
       "DaF3WrPtKjXbqjWuf2SRJ/4/jXyQZ0bn+Y9vDfBAxuJ3V78aq6ANW8fjOu+CWuCf5D7A7+RfIsc4\n",
       "eTHPcXWSd8QbVINVNAFKuT11BFt/vrfzwbn1tdrzuvdszXYvvOE+BDjsHMR3GuCtYXPZ4JUawsKU\n",
       "Ds/KDzKrCxhIHkxkeWFfkT+/leait8SEyPKaOB+Hj7tlDHcC+HZYu6znRhGOQ5xiTk6SJkuJPAkc\n",
       "xtUEU/IWSZ3BFy4P6kNcEpMAuFTwcNdJe1rY2DiY2iKj03HrTlsn8IVPXiw2dP9y4xuaSFO7XY33\n",
       "ViB+uwC/Ex/4jdfElEl+af8LfHpukinvzXWdvTq9TyIxpENCpjnNeyhS5RrnKPsLDZrjkbVbx7sD\n",
       "7Pj4e+Desybb3fCG+xTgsNshvhG8m19jSJvRxEOY2OTVbKxCNaiGqIgKf29gjD9duYGPy1lxjJmg\n",
       "yNN9Wb5ZWKYfh9d5CU9VNvQ4b/cDqFPmeATvT6a+ly/VXkcRkCbL9/cdY6qsuegtMUiGhDDwtGaf\n",
       "Y3G5UsbFoyIq2DrBQSNLIfC4KWeQ2kCJgFE1wqCR4Lpa4pn0CK8U8yzIuRj0h9VhAjT9wkYKwUv6\n",
       "lSaVtc2KtGxWjGW7dc43MqWDbSkZ7GZShtrnWgcYwuKY9TSXvG/hB1Gb0da/qZ1NPuvF9sC9Z822\n",
       "+8Ed2X0LcNgZiN8+wHtJWmt+XeSJh69bq9N9zvgIq9olL1aZ0VcQwuBHMu+l5MOXa+eoqHxPoWPY\n",
       "Osw3yh6P4P2p40/x769WOW4M8ZJ6ix/qO0PehYNpzTcXfL5vAm6WLXwFCzVNwhBcq1So4FITLh4e\n",
       "CoUvXPx6x6qocxUQJ6w1HtvCJkmGR4xDvBpcZVlNNXUY67YevaxDL1sPt1NPvpm66Ltj2wHrnTvH\n",
       "PXDv2Xq7d+AN9znAYfshfnsA7xXeza9vLBNr1KaOam2j1zRKhyqCuClHa9lQJzBsR2vLjURCjopH\n",
       "WJZh205bO/TrPtIkqOGTE0lK9TB3DR+J4ICV5m1/oQngigAfl6ChT/VaKdP6rYFGxa9OdeCta9DJ\n",
       "NgJyK8g3G5LfHmjfGbBsdx32dtkeuPdsvd1b4I7svgc47BaIb1asZT28DWHxgPU+rgTfbZlPqHwl\n",
       "RNix6Zh+iOvyCp5e66rV7kMn8uSjEqI/eWyCH3rlVtxcYjPNO9qeV0sUwZZpUiJLn86RF4vh4/WG\n",
       "F6a2+fHhfXxhvsqxZIrXavN4hHNP6ASDZKgRMGwkMaVgnyP4zmqBm/Jqfb9/rdVkZI0wbX68TpDw\n",
       "UwAAIABJREFUtxuaxrlDmADWelNkCJvHeIrv6q83NSnpdOyOYfjbgsJuBPadh9yeEMuetbd7E96w\n",
       "B/DYthPimwf4RnXP7QEehc4NYdFvH+Qp8QjfUWv7uBAC8IPmc1RVgCkkSUPyehDuhw+r0bjGt2lk\n",
       "YXNEn2RJLvF9mcP87eoiNVGjKJabwu69hJjbnk8HdbjW5hiRzGa/7kOhKIoSrqg26ZaHfaYtLCye\n",
       "7x/hpXyZCjWWZShIUqMSe9brZVLbQ3Tt+c7ntb7/teQsjzMpZ/FxqVCMX2dgUNVFfFXF1268XkqF\n",
       "16jbTdRuBfdu9a7b2R6496yz3bvwhvumDrwX28468c3UhG8N3tFzQkgMafOgeA++1swxiRQmZ3mS\n",
       "VaOEIUwmmWNFFFiiyJKqUhUlAnzyYjkcAxlmgEubhEjz/enHuOgt8pDcz7/7b75CMv8Ap1N9lIpD\n",
       "HBAHKMoAl7B+Wgi5FgVoqM9urHEVGC3PhRbVbq+9Lvo9rFHWKDzhsU+PcUNeoyJK9dC4T4CPJsDW\n",
       "Dimd4oXBQc7nAySSG/Ja2IqSNQlP3VQHHR0v/IqeW/+8bPqW9RrzpNHPPnGcp61TZNUETySPMauq\n",
       "FESJv9d3lHExhPRy5PQQJ+Q+XGViCQchDSbEcZJGjg8nnuRt/1J8ru3qk7cO7+2rMV5ff91rHfbm\n",
       "6q53wna6lhv26rnvXdv5v407YXseeIvdeU98M6Hz9TKh0b53wuiPvcJReZwfH94HwGcWrwHw6yf7\n",
       "+MylYdKm4Ou160ht8Ii5n6pSnNfX48QvicFHUyd4qbjMCTvHRXeFkigxoYe5Kafikq3Iq23sOgXt\n",
       "5Ug3ynzu1GikVat7vdcbercSg6eNk1z2VqiICkWxHCewdQuNR9ZrnXvjfKJOXBahlKiNw1l5kAMp\n",
       "ybVSQFJKXthX4fNTDre8IlPyBsVgIfbAGxXg2imUwVYAvg2lVHe5lGs7bK/F5551t3vb6260PYC3\n",
       "sW1r1LEhwHv1vtuHnCN4P299P5fEJAWWeEo8wmSwyrJc4PnkCSoBXKrlebovy41ygK80phQoDdNq\n",
       "FV/4AOxngAviapz8FYFREcT/3qcOccDKkPd83j9i8JfzJT44kOHLyyucSQ7whdpL60RXel6rljVv\n",
       "FX7pBPEok3xQDXLEzvAt/+14zu0S1hrf2zjW/zx+ii9OC14T5/F0pe17Wt9nCDtep2ivPqETHJUj\n",
       "AMwERSqiwkGGOS8uYWIz473VtAfebf97cwC/DeGSOyRLutO2B+49627vHnBHthdCb2vbFU7fKJTe\n",
       "rT+zJAR3PbxtJOtSo2GoN/pdIrnJdZ5PPMnl4AbTLOALn6RO88kxm+8s+3x0JMVPv+d1Xp+dwFOQ\n",
       "NCR53+OJ/gxX3QJVUWVBrBDg4+PHSV8+Lh41QPO8/RhX1Dx55XJL3iDtj/Fd9SqvVG5QkVUSXo55\n",
       "MYcQgpTMkZFDeMJFIGKpU0PaWDLFSR6hYrj10HE9lN7y1bwW6/fIw3MP954f1EcYtZLMeTVcFEoo\n",
       "JDIMjbO2RRB9W8ImTZasHuRHB4+yXM5wsQABGkunqMhy09ZC4/yjsL8tkjwuTnPEGOWpzAhzVcmQ\n",
       "zhIAt8QMk8zwoNxPSflcEG9SUXkKaqG+/90oI9p4/9x8L91JgnW9bR4ozaHxrdruCB/fiVB5fKw9\n",
       "eN+j9u6DN+x54BvadnjjnT3xboItITBO2O9nWOdYEgUOikG+5v91HIJtVTAzhEVSZDipHmRGLHKQ\n",
       "YUraw0RywEmwWAuoKJ8R2+aGW6IgigQoRvQANXwSmFyVV3B1ZU1etcVT7NapKspy/zeHTvOZ6wIb\n",
       "kxmxyH6GkAhK2mNFFCmJAn5dOa0xHN/OorH7xQgH1ThzYpmSKGBrh6/+t+/wkT86jcRgghxPD5n8\n",
       "+ULYmOW4NcjLwaW1kH5D4tv/3965x8h1nYf9d859zMzOPri73AffNCWSIiVRskSLliXZcZTabe3W\n",
       "NuzYQF9BiiZoUaQpGqBFETRI/wqKAkX+DFDEf6WNAbuxU6Sp6ziSJVkvR2JkWqQkihIpilw+9sWd\n",
       "fczr3nP6x517d2Z2Zp+zuzO73w9YkMuduffO7OH9zfedc77PJ8MD6iBTYZEBJ0Vaa0rGUjAhwymP\n",
       "y4VZ7qkZTjv7mQ2iaPmmGud+tY+3eZ8yJVJkyDNXc0PfZz/BXX0zieAhitJ7GCBruimqIgsqx0T5\n",
       "gyVTDzHNG300Y/VC2XikvbbzbSZbFW0n5xNxdyg7U9wxIvBVsFUSry+V6mifL6S/yovBC3zB/zxv\n",
       "B7eYYoyT9kFu6buccQ7zYvAzAM7yOJfUFUbNAXJqlsMMMWfL9Cqfa9wlZVM80T3IK/O3Afja4Ajf\n",
       "mbpOiXxS1/q4uY/39OWGc9yN5rYboavmh4fUUQpqjj47SI/NMqvmeaZ7iB/Nf0SBOcIquTa7Qcbv\n",
       "fYoMTzgnuVGe56CX5R8dm+KDXC/jRZefTM1RJqCkioQYAlXVXaxOOHG6W1sHDxffpkjhMep20eNp\n",
       "3iosbk87yjB37Cx5lWdB5ZIV7Y2uuVFKPF6d/jnvSS6E15kIr1EMZ5o+vtH3K0t8ZbGIuDdwPhF3\n",
       "B7Oz5Q0i8FWzUYmvTeCLW8Qe9H6ZWZ3jkBnFU5qbTOLbFB+ry8m2JIjEmXX28rA9xc/V24S2hKN8\n",
       "PHy6bB9Zm2VS38EQ4pMha3u4zxnkUjjGFFFNcUf5/KvBR/hfE5N8c2iA74yPk1cLANwNPgCW3zJW\n",
       "XZQFSArHRNkBP6lpfrdSzjT+4AAsKbwSP3/xXXLotv383d79vDAzzZDqZs5GxVsyePS5HleDaYqq\n",
       "iMFg1DJbwGwkVg+PPbabPsfnirkTXYcq11ybxkkW7i1mJeqLwzTPUlTvl7d2Zek3+r65xFcqKtOq\n",
       "G9j2S2yrxQ0i785l54s7RgS+BjZb4vG8t6N9ev2DfLP7HD+eu0HWZhnXY6TpZtgM8Q7n6dF7mSh/\n",
       "UFMeNE6px0VbfJ3FwydvZjjJo7zHW9HZlE9adTNvpjCYREyPq6fYl0rxYvkiTzinOR9eYc5OEZhC\n",
       "0olqpfelvrKaq9N0qwH2mwOUKFci5GjhXNZm2O9lWQhC0o7mvLmcLEBbfGcWPwzEQvdthngGHMC1\n",
       "Hkecfj4OZ5IoPHquxrUe+1QfA77LRKnMPVtg2Omi33e4kJ+sEX51ur3679WZAlhasa2+2Ud9X/Hl\n",
       "GsQ0q8y2uj3hzQWzE6Lu7ZA2iLg7m90jbxCBr5mtkLijMwA1cnZ1GoDALG2tCeA5WXrd/YS2hFIO\n",
       "f8f/JD8tvc+wGeWSeQ1T+fdud4QM3dxnjtLjOrxu3iYXjCVFRRpto2rUCrTmNanaleFxa9AU0esY\n",
       "NCM82dPPga6Ql8chbwKKhEypexgMI3YQH5ebapyUTZFXeQK1WJM8Y7uSTEB1VO5aL5H0HrLsS6U5\n",
       "t7fE/7iZTyTu4ZLCpUf7PLRH8+pUgSIBBkOxUnY1rHrN3TZLTs0CUFBzlfdkMVNwxByhSJDMkWul\n",
       "eC+4Q14t8EzqGH+Rf2VJoZvl6HFHeMCc5KL6BfPhBM96X+Ate5nx0uXkQ0HjefFmW+I6P+oWcQtr\n",
       "Z3eJO0YEvg62Np3ejKVby+IoPOP0M+AcIqDEvXCMYpgDGs/PAjRrFVlzzXVtI5v9vH5h3RdTT/Ne\n",
       "cZpZnUsqphUpMmIHebwvw5/Nvrskbe7ic8Qc4P7uFPNluFKcJa8Kydx09Oo1vk1xMtXPf/zUJR74\n",
       "0k/5g//2L3h+vESRKML/pYEsL08VcIlW6+cr9dINNso8VL7zcDns9fLUUMDVOQ9XwfMzk8zruaXX\n",
       "VnkN3xwa4OfTmrSj+PLBe/z+BwtMMVZp1dr4/XSUx351nJT10Wg+0lfoYYBhM8QNfZ1v9D7An+Yu\n",
       "UDC5aBeAibIeh7zHuFZ6va6fdqMFcJ0r7+2SdnJ+kXcHszvlDSLwdbN5Eoe110WvfZ5WDvvSZ7hd\n",
       "vLiqVc3NCq006ttd87yq11AtcFiaSo9LvtY+36n7YLDYJcwnwz4zzLn+NK9PFxjx0vzJ7/0x5/7T\n",
       "16JtYlYnaXQXBw8HF01GuxRN9B96JOXhVC7xTqFMaCGlNc+OGj6a93g3V6Zckd4n96S4Nm8JjOVu\n",
       "uMDRVDeHs5YXp+bpVSmm7AI+Hg6KfidF2lG8U54gazPMVlbWF8knvdar93rXF4BxlM8j9jTf/sZP\n",
       "+dJ3H2FE9eBrzURYYEJNsaBmKNg5TtkzjKtpFlSO8dJlQlsmNHFmon7evDPlLeIW1s/uFXeMCHwD\n",
       "bK7EYaVCLw2PuULnstVQL/T6FDksrZJW/3dovKit0fNra6A7POuf4W+Ltxm1g/R7LqOVxiRlAhw0\n",
       "n93Tx0IA1+aDpDuZRnF/Nk1gYDawGGs53ae4uaDIh5YeLypeM1O2LAQhZRtF4cVKYdbqiNyo6MZQ\n",
       "plyzqK0ZWdtDxmY4lenjQn6SWT2Da31m1RRf7jrDC/M3OMoI1xmnoOaT+fwjZj+nej3O5xYwGPZ7\n",
       "WS6E1/mdg8P8ztXnaubWkznzJhF4J815b7e0Y0TenUp7jJ92QAS+QTZ3i1k16z/P6orSLD2+rpNz\n",
       "3J3sIeezaBRvm1cbrkqvF3dyvCqBO8prGoFXVzer3vYVR9wDto8j6Wh+faoUEljDiR6P2/lIDWmt\n",
       "yHrQ40K/H/L40AQ/uTVMrqSYC+BzIwu8OdnFjXxU8jTtKJ4ZzvPH1wOKlDDKJHPj1S1K46+wwWuO\n",
       "i980WmUef1jxdTenzSlmKTCmryf7yQfNCJP6DrNmguM8wtvhiwSmANBA3NB6eYu4hU6gPcZPO+Fu\n",
       "9wV0OnFBlQ0dA7MKidffdFZ/zuobfHOZVx8/OraxYYOa6308nO3hB/Ov4Cp/yRzxZ5ynedW82nCh\n",
       "Xdyj3KlUQsvYLvIsJHXYm3HGOYyvFRdL4wDkWOBioYCHW0mfa97JRelxXysCC6VQEVTeormSz2dH\n",
       "x/nu1WH2+PD/xjIE1jAfBsyGFl1W9PlFsmRI4VK2IR4ORzMZrIWUAyd6At7NufxV4WKDFehVEXKD\n",
       "rWGx8PPhNG/ySvJ2K+UQqhJp1Q1Anx7hQ3tpyUr01vQAb8bmyqxdpB0j8u5U2msctQtSSrUltKL0\n",
       "alTWcvVdzKo7Pa3l3JXzqOXOs3hci0Vrj17/ACndw+e8c1wu5CjrkGdTZ7lm7lbmdV1+e/gpPl6w\n",
       "HHMOc8r/BMecIwzaA+S15VP6YW6pSZ5yHmPSzjNohng4vZebYY6D5gAGxT47wh67hy/uGeV6IcTB\n",
       "45+P7OeNXJ6psMipVD8Zm6ZfZzBWcX8my1wQcjiTxlWavAkJLTwyoLg2ZzFWEVrN6xNpHh1c4OW7\n",
       "GSZLhn963z0u3cswbwIMljxlXpwyLFCkSBmDJY3H7SDPw70+L+WmeG1hkivBbSw22dqm0KCIfmMq\n",
       "et+qS6QaQiyW0AY1EbwhTJ6nUIQ6pGjnGLIHuBNerhwnKg/aWN71SbONJNE2JwG3leVNV4N0DetU\n",
       "2msctRuSQm8hW9cEZTWs/lpWuzAujsId5aGVT9rp5RvZc/xo4UMCSmgcsrYnWdAFUWq5ZOaBxqvg\n",
       "e/QQz6SOc6jL8upkiXsskFd5Cmo+iXQ1DvvNAQ6nuhgvlplhgWJlm1m8mM3DRaN4uj/L5ZxlKK05\n",
       "0GV4eTzEU4q9KZfD2egcRUIcFJ8fSpFxDMYqhtNF/vB6rmZL2YDdg8EwoDOkHc3bwU1KarFMqsZh\n",
       "wAwSYpjR0xwxB3hfX+GkOcF5Xo8WtDXpmd6oeEv16vXaFef1tCqF3vpotN0ibpCouzNpv3HUjojA\n",
       "W8zWtyNdLStf10oL4OJ0uqvTaO1H29U4wIgd5Fgmw3gx5K6JyprO6zkKzDFk9nOddyjbwhIh6Uqx\n",
       "GWtDRtUxxrlRdz1O03lx1/qkSLHX9lIk5NvPvse/ee4h5mw5KRjjVLaPZfHpcz0WwpApu1Czfexr\n",
       "I918704uKQBTPecNtVXV4i1uWdNNhhSmEhlk8TmWTREYmC4ZLtgPeMy5n7HyfLJOoFm1tZW6kjWW\n",
       "eCu2kLVOau0obRBxdybtOZbaFRH4JtBKiUOrRR6z/j7kWkeNU3q8/VHUTR+HzCj/+sQ8//7KPTQO\n",
       "0+YmBkPZ5JcIbLmtZlA7V37anOZjfRtDiGt9vtx3kF976BL/7KcjFFWRQJXR1qHX9jCgurjJZCJv\n",
       "36Z4tKufsoGbhSIP96V4YSaqvha9qqgIzKnUINeLC6Rwkuj8pr6VNFyprww3ZPbjoLmn70VFZGwv\n",
       "3zrg8+UHL/Dsj7ujrmOVufG4lOpKAq/+t5VLqW5U4K0RW7uKG0TenUf7jqV2Rinl27XNoQqrodUS\n",
       "h80SOTSTeX1zFYhkm3L7GXVPUGCOuXACQ4in0rg6Qz6cBkhWZDfdD6385HjRz5wkrR7Le9QcZp/q\n",
       "41DW5YX5G/za8D5eums51u2SK8PPijeSamnxMRYjdI8h20+OhaRcanV1t/gxsegH6OZYt8dQyvLc\n",
       "5DxT6h6zaqrh9jGNg1OJxj9hDjOhcpx09/JS+BaBySeV2IAVU+jV70/1z5aX+EaqsG1cbCJuobW0\n",
       "73hqdyoCB5F46+ksicesJHOHA5lP1pT6XHxM9NyVaqa7Ok2/e4jT9gTnOQ/AUfsAn+7t44XZcYoU\n",
       "ucftpKpZLP5BdThJbxcrXdQgEqqHzxFzhDtqEo2m1/bwRG8Pb+QWBT+mF1P0Goen/eNcKczx64cd\n",
       "/vv1Enf1rSTiXizG0qiims+z3ifJBSHv2hs8oA7ia82l4BYjdoCP9MfMmDuLzU8q70f8YcVRPn8v\n",
       "9TRTpYBbdoYPzPmk1O2n9bP8+n15fuO9nxBW9rgvTamvV+Drl1s7SztG5N1ptP+YaneqBB4jIm81\n",
       "myFy2GyZryYqb/64mEZV3uKFcI7O0OOOcMQc41iqm6wHMyXLQmiYCotcsn+zZA66Ps0e/5uHX2lb\n",
       "2s2YvsG3H+rhP18YqMyGW8b09ZpuZ/VV3wwhJfI1j2m2RSz+Wfxaat6NSve1xznDz+wbS55bnWHI\n",
       "0J1Ub3OUT2hL7GGUKW7WdJobcA+x3xxkXuV5t/h8U4kvL/D1yU3ELbSW9h9PnUQDgceIyFvJZkkc\n",
       "tkfksL567YvPjSTuOd2kdS9DHOTre4f5o4nzPGwf4TXz17XnquqyptGMqmPMqElcfL7cfZwfzF2s\n",
       "6WPejPqqbw4OB80RHu3u5tp8wLvqajTfXqnHfrQrxf9eeGVJtqHZOeIWqr7u5oQ5wZCXYiE0XOBd\n",
       "ypX97hqHX+05w2wZXs2PYTBkbZZ5NU+gSrjWJ2MzZEhxV9/Ft2km+Ji9HOLD0qvL1kRvLPG1C07E\n",
       "LbSW9h9PncgyAo8RkbeKzZQ4tLPIlx4j3pbW6x9kvnwnSZXXzwfH6XOtfc7qX+JjPcaAGWRKT+Lb\n",
       "NAZDSeUJKCU9uxvNK9eXftU4/Obg47w1beh2He6VAm4yjSHkN/f382c3LbfUBAU1R78ZYlqPkwvv\n",
       "LJnbrqd6Tn+Psz9Zte7h8nunSvy79xYwhPg26i532t3HQhCyN+XyW2eu8Afnj6GV4kJ4HYDH3MP8\n",
       "sPh8NJ1gFhulNJJ4K+TdCeIGkXfn0BnjqVNZhcBBJN46NlvisH0ih/WVba2PzGuPt/h9XMp1n3uK\n",
       "vWaQs73dXJ4tc3bA5U+m36Ng5yjbQhKFV7cejSN3p7J4rjoCd/HxbYaszdJLhgOpNIezlremo/T7\n",
       "JXWZMiWKYS5JazcqIQuLK+td5TPgHGLUjJKnyLyaZ8QOckW/n6xkn1fzpEjRY7Nk8DjZ47HHt/z5\n",
       "1B1m1CR5M4PB8A8zT/NC8X3OqPvo8zUvFz9kKvyYfDgdSb2SUl8q8NVLTsQttJbOGE+dzioFHiMi\n",
       "bwVbIfHkXFu8BS057wZFXnusxbS3ozy+2vUl/rLwAo+ocwx5KX5Uen7ZcqNxa9NnnM9w1UxSppys\n",
       "Pp/VOQrMJXXJXSLB54kWv+21+5hRk+TCOwS2lIh7OZFUb5OrX2XvKI8D9n6MMuxjDx+qMWaZ4j5z\n",
       "kuOZLv5P4XV+d/8n+d3rf5WcI+X0cUif5q66Qb8daZhGr5X36iTXKdIGEXfn0DljaiewRoHHiMg3\n",
       "ylZKHNpZ5Ms3UVk8Tm270katTBt9X7/XPO7J3WOzPNrTxQtzt7ltP0y2fjX7IFC9l3ulVfY111uR\n",
       "eHzug5zkprpSs0jNVT7dzl4eU6f4cen/EphCw3M0mvdeT9TdSeIGkXdn0FljaqewToHHiMg3SueL\n",
       "fHXXv5pyrTGricSTxy4j8vjfqiNhR/kc5UFmdY6z3hGeK71BweSW7NduWhmtyY1K172vUbGbyl53\n",
       "HFyd5kH7CLfUBE+kDvKT0kXuBWOElX3j8XlWU7Qleuz60uWdJG8RdyfQOeNpJ7JBgceIyDfCVks8\n",
       "OW/Lfm8blfjKUfhyfcehcX/y+Pv6FexAshisuloarF3cjdBost4ID9tHuaUmCVSZaXMTpRzO8jg3\n",
       "mWbA9nCBNygEUwSmvszsWvd5S9QtbDWdNZ52Ki0SeIyIfL1sl8ST82/4d7deia/ch7z2+c3lXf3z\n",
       "+hS2r7N0qT4MIQU7F0mzKmW+2nKn9T9bC6tNi0ePbU1VNRG30Do6ayztBlos8BgR+XrpbJGvR+JL\n",
       "0+fNUuGNqI68G6XLHeVhbchBTnLSH+BOqYiLwy/UzynbQsOOYY2i8EZFXOr/Xs3KPbw30lFMxC1s\n",
       "JZ01lnYTmyTwGBH5ethuicesT+ZrXdhW2670V1Jf5eyg4s/HpzHKkLFpfhE8v8yxFiNuT2XwdZYR\n",
       "jtBjs5zs6uLiwiwn0j28VvqIAnNJY5Jhc4AbvNewbnl1BiDj9DNbHmvY7rOe5aW9dR3EOkneIu52\n",
       "pXPG0G7GUcr5/c07vK36Upt3mh1H9J6tvkDKJl/Hmn53lpU+uCkVHy+Klv/t6Lf42+IN+vxD5Cgw\n",
       "Nu/xEZe4Z+9wx36EUrpK1Lruy4n+rBxLKQdXpdhr93C7XCRPkdnAcL87xJwxzKscgS0yq6aia1Uq\n",
       "WiVe2eL1R/c/xsLsSQK6OM4J0raHeWeBjDtAKZytkmPt597mbT/tksdG4l7L5+b4OMsTXVtnNBeM\n",
       "xN0Z17q76JwxJGx6BN6I7ZZS59EuETmsJSpfTeW2xXS3q9N82v0iKeXwN/Zn9OlRps1YTYQ24Bxi\n",
       "IrzWUJb1+609lU5WgceFU8b1WFLOFKI66E84p3k5fCs5j6N83vz6FP/4u0/ygb4KwLDZxxX7VtJp\n",
       "rb5b2PpXjq+EFGIRtoLOGDvCUrZB4DEi8rXQThKH1Yp85c5msJg+3586w71wjFF9nG6b5ba+QZkS\n",
       "Hj6DZpQjTj9v22vk7PiSlHb9/vD6RicP2ZNM2TwTejyp0vb3u49xPrfAPHn+wd4Bvjd5i2l1p6Yc\n",
       "q7UhgS1h4gpsDVLprWv1ufwxGh63Q26+Iu52ozPGjbA82yjwGBH5WtgJIq+fA48F7ju9dDn9HLbH\n",
       "AfjKcDffu3uPWT1DiTxlSmToZs5OJXunH+McfZ4LQKFB05AUGfaaYXw85skTqDJH1BAAT+6F74yP\n",
       "UyYgUCUCSmgcsraHPtvLPHmu8w7Whrg6zVe6zvH50Rz/5cMiN+x7nOIx3gx+RBDmK69la/t0d4K8\n",
       "RdztRvuPGWH1bPIc+GqQefK10S7z4zGrmSevnRdfnAMHrTxcnUarqNhJSvcwYAdJ4bHH9bFBmttM\n",
       "Jj2/F+wMRTNXWT0ecNNe4yNzg2nK9Ns+PJsla3sZtiOUVchv7zvAK3MzODh8Y6SXm3Me5wY85gLF\n",
       "O7mQNCn++jde5gdvPsSA7adAmUCVmVWz9NpeyjrkCCdJqx5yJcX3Z27QbweYtGNcDy9iTAmbzBk2\n",
       "+yy83Gfktc8Fd8pct8i7XYjHS/uPGWFttEEE3ox2EVR7024ROSwXlVfv79aAg6N9vtX7ddIO5AP4\n",
       "/sIPo37a6inetC/jqTRPOud4rvTDJOqGxb7aAFr5Sb3zuGGJUlH0PWz2UVQl9thuerTPYMoh7cDn\n",
       "RnK8Nt7L9XnDTFiiSMB+L8tcEHBZXavpbtZoz3hc7nS51p6wseIrjWj3qFuk3S609zgRWkMbCzxG\n",
       "RL4aOlfk3pKfxin15WqOO8rjhPsUV+3PoyPGC9aUx78cfILvT97hQW+Ei+U7lAn4rQNDfPvGAik8\n",
       "Tma6mQ0sh7sUr83McX+6m58Xx8mrBQJKGELOOid5P5jg0fQQf5H/KaGNZA5gTPRn4xKoy9Upr/35\n",
       "WhBxCyvT3mNEaD0dIPBqROYr0akih7XVS3e0H6XcnT6G1FEAZtQ4xTCXLFKLRd+l+uizgwzbPVzV\n",
       "H0dz4zYFQFEV0dbhgB3iA32VIvmkxOo/6T3H/8y9gaN8SmYOg8FRHns5xEPuPl4K30oWvM2WbxGa\n",
       "eIX7xlp71tPO8hZxtwPtOz6EzaXDBF6NyHw52k3kyy92W0+P8Wjx26H0WabNGP16P7dKb2MwaDR7\n",
       "/KMYQnoY4J69TWAKOMrDUT4D7GdGTeDhUyRagJYiQ58dpEyZGTVBweSSiBvAU2l+tfsz/OXCu3zC\n",
       "HCWjXG4SbSs7mxnijfw4H4ZvUihPAPXR986St0i7HWi/cSFsPR0s8GpE5svRTjLfyPazJcdaRUnW\n",
       "6u1lSjkMeycIKDEXTiSR+mn1KbqVx1tE5VXrt45F54oqvfU6IwyaEd4NXiIwBSDeBx5vK9uZ4hZp\n",
       "bzftNR6E9mCHCLwakXkzOk/ksL6e41XtRuuamziVOffq2ukpnUUph5KZXzLPHddAry+hWi3tmFbI\n",
       "W8QtLNJeY0FoP9ztvoDWUz3oRebV1Bc92U5iUa0s8mqBNL7uWJyLIg+TxxsbLpF4zJB7HxDtFy+R\n",
       "x6ooIneUR8btY6p8DWuWX6hWff7G17x62kXeIu3tpD3GgNAZ7MAIvBki80a0g8yhtY1T6lPre1JH\n",
       "6NcHojKsle1gulKpzddZfJXBxcfF54AZ4bK+TMnMUTTzaOVQDufqenYvt9K8MwuyiLSqj9C/AAAE\n",
       "AklEQVS3i+3/3Qudyy4SeD0i9Ho6W+bQbFW7Vj4pt59f8Z/lbfMxALeDy/yy9yxfO5TnD68V2Kf6\n",
       "OJp1eXokx3/9oExeRYvbxsJ3CE2e0JYrq8wbzXXDWsW93dIWYW8XImyhdexigVcjMq+nHWTeqt7k\n",
       "Smm08mvahSrlcNx/iof9UX5YeAG/Mg8O8Ih9iK8cDPkPH72EW9lfvhBMJALfiLy3U9wi7e1CpC1s\n",
       "DiLwJYjMG7HdQm+lzBv9zNE+jvLQ2ueUfpKrXKRsCxSC6ZZE3tslbpH2diDCFrYGsdUSTN2XAIst\n",
       "NOtbaW7Z+THJ19qp3eZV+1UGQkJTYsg/QWAK3NP3yOoBPq2foT91bPEalqwyX/592Ng1r4/t/j3t\n",
       "XuSeIWw9EoGvGfnM04jOjdCX71u+KO2VZb3ViKC3C5G00B6IwDeMCL0Z2y112GjqfSmSCt+NiLCF\n",
       "9kQE3nJE6MvRDlJvZ0TU243IWugcdmAhl+2m0Q1ApB6znKB2k9xF1O2CCFvoXETgW4JIfTWsRWrt\n",
       "JnsRcrsjohZ2HiLwbUOkvhFEmEJzRNbC7kAE3laI1AVhbYishd2LCLztEakLQoTIWhCqEYF3JMvd\n",
       "yETuQqcighaEtSAC33GI3IV2R0QtCK1ABL6raHbjFLELrUYkLQibjQhcYOWbrQheqEcELQjbjQhc\n",
       "WAVruVmL7DsTEbIgdBoicKHFrFUEIvzNQ6QsCDsZEbiwzWxUMjv1A4DIVxCE5RGBCx2OiE4QhN3J\n",
       "Tg1fBEEQBGFHIwIXBEEQhA5EBC4IgiAIHYgIXBAEQRA6EBG4IAiCIHQgInBBEARB6EBE4IIgCILQ\n",
       "gbjWLu6jVUp8LgiCIAjtTOxtt9E/ViNSFwRBEITtoZGXY1asxCZSFwRBEITNZzlZN2JdpVRF6oIg\n",
       "CIKwftYq60a0rBZ6/cWI0AVBEAQhohXCrmfTmpk0u1gRuyAIgrBT2QxRN2PLu5FJ+l0QBEHYCWyl\n",
       "rBvRFu1EJVoXBEEQ2pXtFnUz2kLgzZBoXRAEQdhK2lXWjWhrgTdiuTdX5C4IgiCsRCdJejk6TuDL\n",
       "Ial4QRAEIWaniLoZO0rgzZBUvCAIws5lp4u6GbtC4I2QVLwgCEJnsVtF3YxdK/DlWGmQiOAFQRBa\n",
       "jwh6bYjA14FE74IgCOtDJN06ROAtRuQuCMJuRyS9NYjAtxCRuyAIOwWR9PYjAm8TVvufQUQvCMJm\n",
       "ImLuHETgHcZq/nOJ5AVBaITIeWchAt+BiOQFYfchct59iMB3KZKyF4TOQMQsNEMELizLem8eIn5B\n",
       "qEVELLQaEbiwKaznZiXSFzoFkbHQDojAhbZhozdF+QAgrBYRsLATEIELO4ZW35TlA0H7IMIVhKX8\n",
       "f+7oeFpSxN+MAAAAAElFTkSuQmCC\n",
       "\" transform=\"translate(39, 3)\"/>\n",
       "</g>\n",
       "<defs>\n",
       "  <clipPath id=\"clip03\">\n",
       "    <rect x=\"548\" y=\"3\" width=\"19\" height=\"382\"/>\n",
       "  </clipPath>\n",
       "</defs>\n",
       "</svg>\n"
      ]
     },
     "execution_count": 13,
     "metadata": {},
     "output_type": "execute_result"
    }
   ],
   "source": [
    "using Plots\n",
    "Plots.gr()\n",
    "\n",
    "# punkt o współrzędnych (x,y) należy do zbioru Julii o parametrze  c \n",
    "# jeśli dla liczby zespolonej z=x+i*y\n",
    "# ciąg zₙ₊₁=zₙ²+c , nie dąży do nieskończoności\n",
    "\n",
    "# dążenie do nieskończoności sprawdzamy ustawiająć maksymalną liczbę iteracji i sprawdzając\n",
    "# czy kolejne wyrazy ciągu nie przekroczą zadanego progu (tutaj 2) w tej (bądź mniejszej)\n",
    "# liczbie iteracji\n",
    "\n",
    "# funkcja sprawdzająca, czy punkt z należy do zbioru Julii o parametrze c\n",
    "function generate_julia(z; c=2, maxiter=200)\n",
    "    for i=1:maxiter\n",
    "        if abs(z) > 2\n",
    "            return i-1\n",
    "        end\n",
    "        z = z^2 + c\n",
    "    end\n",
    "    maxiter\n",
    "end\n",
    "\n",
    "# obliczamy zbiór Julii na płaszczyźnie punktów od-do.\n",
    "\n",
    "function calc_julia!(julia_set, xrange, yrange; maxiter=200, height=400, width_start=1, width_end=400)\n",
    "   for x=width_start:width_end\n",
    "        for y=1:height\n",
    "            z = xrange[x] + 1im*yrange[y]\n",
    "            julia_set[x, y] = generate_julia(z, c=-0.70176-0.3842im, maxiter=maxiter)\n",
    "        end\n",
    "    end\n",
    "end\n",
    "\n",
    "# główna funkcja \n",
    "\n",
    "function calc_julia_main(h,w)\n",
    "  # ustawiamy płaszczyznę\n",
    "    xmin, xmax = -2,2\n",
    "   ymin, ymax = -1,1\n",
    "   xrange = linspace(xmin, xmax, w)\n",
    "   yrange = linspace(ymin, ymax, h)\n",
    "\tprintln(xrange[100],yrange[101])\n",
    "   julia_set = Array(Int64, (w, h))\n",
    "    \n",
    "   # obliczamy\n",
    "   @time calc_julia!(julia_set, xrange, yrange, height=h, width_end=w)\n",
    "    \n",
    "    # rysujemy\n",
    "   pl=Plots.heatmap(xrange, yrange, julia_set)\n",
    "   png(\"julia\")\n",
    "   return pl\n",
    "end\n",
    "\n",
    "\n",
    "calc_julia_main(2000,2000)"
   ]
  },
  {
   "cell_type": "code",
   "execution_count": 14,
   "metadata": {
    "collapsed": false,
    "scrolled": true
   },
   "outputs": [
    {
     "data": {
      "image/png": "[encoded data removed]",
      "text/plain": [
       "400×600 Array{RGB{N0f8},2}:\n",
       " RGB{N0f8}(1.0,1.0,1.0)  RGB{N0f8}(1.0,1.0,1.0)  …  RGB{N0f8}(1.0,1.0,1.0)\n",
       " RGB{N0f8}(1.0,1.0,1.0)  RGB{N0f8}(1.0,1.0,1.0)     RGB{N0f8}(1.0,1.0,1.0)\n",
       " RGB{N0f8}(1.0,1.0,1.0)  RGB{N0f8}(1.0,1.0,1.0)     RGB{N0f8}(1.0,1.0,1.0)\n",
       " RGB{N0f8}(1.0,1.0,1.0)  RGB{N0f8}(1.0,1.0,1.0)     RGB{N0f8}(1.0,1.0,1.0)\n",
       " RGB{N0f8}(1.0,1.0,1.0)  RGB{N0f8}(1.0,1.0,1.0)     RGB{N0f8}(1.0,1.0,1.0)\n",
       " RGB{N0f8}(1.0,1.0,1.0)  RGB{N0f8}(1.0,1.0,1.0)  …  RGB{N0f8}(1.0,1.0,1.0)\n",
       " RGB{N0f8}(1.0,1.0,1.0)  RGB{N0f8}(1.0,1.0,1.0)     RGB{N0f8}(1.0,1.0,1.0)\n",
       " RGB{N0f8}(1.0,1.0,1.0)  RGB{N0f8}(1.0,1.0,1.0)     RGB{N0f8}(1.0,1.0,1.0)\n",
       " RGB{N0f8}(1.0,1.0,1.0)  RGB{N0f8}(1.0,1.0,1.0)     RGB{N0f8}(1.0,1.0,1.0)\n",
       " RGB{N0f8}(1.0,1.0,1.0)  RGB{N0f8}(1.0,1.0,1.0)     RGB{N0f8}(1.0,1.0,1.0)\n",
       " RGB{N0f8}(1.0,1.0,1.0)  RGB{N0f8}(1.0,1.0,1.0)  …  RGB{N0f8}(1.0,1.0,1.0)\n",
       " RGB{N0f8}(1.0,1.0,1.0)  RGB{N0f8}(1.0,1.0,1.0)     RGB{N0f8}(1.0,1.0,1.0)\n",
       " RGB{N0f8}(1.0,1.0,1.0)  RGB{N0f8}(1.0,1.0,1.0)     RGB{N0f8}(1.0,1.0,1.0)\n",
       " ⋮                                               ⋱                        \n",
       " RGB{N0f8}(1.0,1.0,1.0)  RGB{N0f8}(1.0,1.0,1.0)     RGB{N0f8}(1.0,1.0,1.0)\n",
       " RGB{N0f8}(1.0,1.0,1.0)  RGB{N0f8}(1.0,1.0,1.0)     RGB{N0f8}(1.0,1.0,1.0)\n",
       " RGB{N0f8}(1.0,1.0,1.0)  RGB{N0f8}(1.0,1.0,1.0)  …  RGB{N0f8}(1.0,1.0,1.0)\n",
       " RGB{N0f8}(1.0,1.0,1.0)  RGB{N0f8}(1.0,1.0,1.0)     RGB{N0f8}(1.0,1.0,1.0)\n",
       " RGB{N0f8}(1.0,1.0,1.0)  RGB{N0f8}(1.0,1.0,1.0)     RGB{N0f8}(1.0,1.0,1.0)\n",
       " RGB{N0f8}(1.0,1.0,1.0)  RGB{N0f8}(1.0,1.0,1.0)     RGB{N0f8}(1.0,1.0,1.0)\n",
       " RGB{N0f8}(1.0,1.0,1.0)  RGB{N0f8}(1.0,1.0,1.0)     RGB{N0f8}(1.0,1.0,1.0)\n",
       " RGB{N0f8}(1.0,1.0,1.0)  RGB{N0f8}(1.0,1.0,1.0)  …  RGB{N0f8}(1.0,1.0,1.0)\n",
       " RGB{N0f8}(1.0,1.0,1.0)  RGB{N0f8}(1.0,1.0,1.0)     RGB{N0f8}(1.0,1.0,1.0)\n",
       " RGB{N0f8}(1.0,1.0,1.0)  RGB{N0f8}(1.0,1.0,1.0)     RGB{N0f8}(1.0,1.0,1.0)\n",
       " RGB{N0f8}(1.0,1.0,1.0)  RGB{N0f8}(1.0,1.0,1.0)     RGB{N0f8}(1.0,1.0,1.0)\n",
       " RGB{N0f8}(1.0,1.0,1.0)  RGB{N0f8}(1.0,1.0,1.0)     RGB{N0f8}(1.0,1.0,1.0)"
      ]
     },
     "execution_count": 14,
     "metadata": {},
     "output_type": "execute_result"
    }
   ],
   "source": [
    "using Images\n",
    "using FileIO\n",
    "img = load(\"julia.png\")"
   ]
  }
 ],
 "metadata": {
  "kernelspec": {
   "display_name": "Julia 0.5.0",
   "language": "julia",
   "name": "julia-0.5"
  },
  "language_info": {
   "file_extension": ".jl",
   "mimetype": "application/julia",
   "name": "julia",
   "version": "0.5.0"
  }
 },
 "nbformat": 4,
 "nbformat_minor": 0
}
