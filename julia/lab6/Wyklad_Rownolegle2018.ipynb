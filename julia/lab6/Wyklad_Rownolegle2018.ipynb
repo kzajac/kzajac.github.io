{
 "cells": [
  {
   "cell_type": "markdown",
   "metadata": {},
   "source": [
    "## Wykład 5\n",
    "---\n",
    "+ Wykonanie współbieżne\n",
    "+ Obliczenia równoległe\n",
    "+ Operacje równoległe wysokopoziomowe\n",
    "+ Dynamiczny scheduling\n",
    "+ Komunikacja zdalna za pomocą kanałów\n",
    "+ Tablice współdzielone\n",
    "+ Menadżer klastra\n",
    "+ Tablice rozproszone\n",
    "+ zbiór Julii\n"
   ]
  },
  {
   "cell_type": "markdown",
   "metadata": {},
   "source": [
    "## Wsparcie dla wykonania współbieżnego\n",
    "\n",
    "\n",
    "https://docs.julialang.org/en/stable/manual/control-flow/#man-tasks-1\n",
    "\n",
    "Zadania (tasks)  wykonuja zdefiniowaną procedurę. \n",
    "\n",
    "Jest to inny rodzaj przepływu kontroli - od trybu wykonania zwykłych instrukcji różnia sie tym, ze mogą zostać wiele razy  przerwane i wznowione = nie muszą wykonać się po kolei.\n",
    "\n",
    "Za szeregowanie tasków (który kiedy się wykona itd.) odpowiedzialny jest Scheduler\n",
    "\n",
    "Istnieją dwa rodzaje podejścia do przełączania tasków:\n",
    "\n",
    "- <b>preemptive</b> - z wywłaszczeniem - scheduler sam decyduje kiedy przełączyć zadanie aby uzyskać płynną wielozadaniowość.\n",
    "    - plusy: często bardziej wydajne, \n",
    "    - minusy: może prowadzić do wyścigów. np. wątki w Javie. \n",
    "\n",
    "- <b>cooperative</b>  - taski są przełączane tylko w dobrze zdefiniowanych punktach synchronizacyjnych. \n",
    "    - Minusy: jeśli taski nie wykorzystują tej możliwości właściwie, nie kooperują ze sobą, aby efektywnie wykorzystać procesor,  system może działać wolno. \n",
    "    - Plusy: nie trzeba martwić się o sytuacje wyścigu (łatwiejsza implementacja). \n",
    "    - Jest to rozwiązanie, które wybrano w Julii. \n",
    "\n",
    "inne nazwy dla tasków występujących w Julii: symmetric coroutines, lightweight threads, cooperative multitasking,  one-shot continuations.\n",
    "\n",
    "Te możliwości nie oznaczają  automatycznie wykonania tasków na różnych węzłach / procesorach równolegle. \n",
    "\n",
    "Taski mogą przeplatać się w obrębie jednego węzła - mówimy wtedy o wykonaniu współbieżnym.\n",
    "\n",
    "Jeśli używamy wielu węzłów/procesorów - wykonanie jest nie tylko współbieżne, ale i równoległe.\n"
   ]
  },
  {
   "cell_type": "markdown",
   "metadata": {},
   "source": [
    "Kiedy stosuje się wielozadaniowość?\n",
    "\n",
    "- Przy rozwiązywaniu pewnych problemów sposób z wywołaniem kolejnych  funkcji nie jest oczywisty.\n",
    "\n",
    "- Przykładem jest problem producenta i konsumenta, w którym jedna złożona procedura generuje wiele wartości przez jakiś czas  i kolejna procedura ich używa. \n",
    "\n",
    "- Rozwiązanie polegające na tym,że konsument wywoła funkcję producenta nie jest wygodne, ponieważ producent może mieć więcej wartości do wygenerowania i trzeba wtedy czekać na zakończenie ich generacji, tymczasem konsument może  chcieć działać już na tych początkowych wartościach. Dlatego lepiej użyc mechanizmu przeplatającego.\n",
    "\n",
    "- W Julii mamy dostępny typ Channel, który tworzy kanał komunikacyjny FIFO między zadaniami, które mogą do niego pisać \n",
    "(funkcja put!()) oraz czytać (funkcja take!())\n",
    "\n",
    "- konstruktor dla typu  Channel przyjmuje jako argument funkcję jednoargumentową, która  definiuje   zadanie związane z danym kanałem. Możemy następnie wielokrotnie pobierać wartości z takiego kanału.\n",
    "\n"
   ]
  },
  {
   "cell_type": "code",
   "execution_count": 1,
   "metadata": {},
   "outputs": [],
   "source": [
    "function producer(c::Channel)\n",
    "           put!(c, \"start\")\n",
    "           for n=1:4\n",
    "               put!(c, 2n)\n",
    "           end\n",
    "           put!(c, \"stop\")\n",
    "end;"
   ]
  },
  {
   "cell_type": "code",
   "execution_count": 2,
   "metadata": {},
   "outputs": [],
   "source": [
    " chnl = Channel(producer);"
   ]
  },
  {
   "cell_type": "code",
   "execution_count": 3,
   "metadata": {},
   "outputs": [
    {
     "data": {
      "text/plain": [
       "\"start\""
      ]
     },
     "execution_count": 3,
     "metadata": {},
     "output_type": "execute_result"
    }
   ],
   "source": [
    "take!(chnl)"
   ]
  },
  {
   "cell_type": "code",
   "execution_count": 4,
   "metadata": {},
   "outputs": [
    {
     "data": {
      "text/plain": [
       "2"
      ]
     },
     "execution_count": 4,
     "metadata": {},
     "output_type": "execute_result"
    }
   ],
   "source": [
    "take!(chnl)"
   ]
  },
  {
   "cell_type": "code",
   "execution_count": 5,
   "metadata": {},
   "outputs": [
    {
     "data": {
      "text/plain": [
       "4"
      ]
     },
     "execution_count": 5,
     "metadata": {},
     "output_type": "execute_result"
    }
   ],
   "source": [
    "take!(chnl)"
   ]
  },
  {
   "cell_type": "code",
   "execution_count": 6,
   "metadata": {},
   "outputs": [
    {
     "data": {
      "text/plain": [
       "6"
      ]
     },
     "execution_count": 6,
     "metadata": {},
     "output_type": "execute_result"
    }
   ],
   "source": [
    "take!(chnl)"
   ]
  },
  {
   "cell_type": "code",
   "execution_count": 7,
   "metadata": {},
   "outputs": [
    {
     "data": {
      "text/plain": [
       "8"
      ]
     },
     "execution_count": 7,
     "metadata": {},
     "output_type": "execute_result"
    }
   ],
   "source": [
    "take!(chnl)"
   ]
  },
  {
   "cell_type": "code",
   "execution_count": 8,
   "metadata": {},
   "outputs": [
    {
     "data": {
      "text/plain": [
       "\"stop\""
      ]
     },
     "execution_count": 8,
     "metadata": {},
     "output_type": "execute_result"
    }
   ],
   "source": [
    "take!(chnl)"
   ]
  },
  {
   "cell_type": "code",
   "execution_count": 9,
   "metadata": {
    "scrolled": true
   },
   "outputs": [
    {
     "name": "stdout",
     "output_type": "stream",
     "text": [
      "start\n",
      "2\n",
      "4\n",
      "6\n",
      "8\n",
      "stop\n"
     ]
    }
   ],
   "source": [
    "# można też użyć pętli do konsumowania kolejnych produkowanych wartości.\n",
    "for x in Channel(producer)\n",
    "           println(x)\n",
    "       end"
   ]
  },
  {
   "cell_type": "markdown",
   "metadata": {},
   "source": [
    "Nie musimy jawnie zamykać kanału w producencie, ponieważ obiekt kanału jest zamykany automatycznie po zakończeniu zadania, z którym jest powiązany. Wiele kanałów można powiązać z zadaniem i na odwrót. "
   ]
  },
  {
   "cell_type": "code",
   "execution_count": 10,
   "metadata": {},
   "outputs": [
    {
     "data": {
      "text/plain": [
       "Task (runnable) @0x00007fd437c49270"
      ]
     },
     "execution_count": 10,
     "metadata": {},
     "output_type": "execute_result"
    }
   ],
   "source": [
    "# Zadnia można tworzyć wprost używając konstruktora typu Task()\n",
    "# konstruktor Task ten przyjmuje funkcję bezargumentową,  \n",
    "# można to obejść używająć funkcji anonimowej\n",
    "\n",
    "function mytask(myarg)\n",
    "    det(rand(myarg, myarg))\n",
    "end\n",
    "\n",
    "taskHdl = Task(() -> mytask(100))\n",
    "\n",
    "\n",
    "\n",
    "\n"
   ]
  },
  {
   "cell_type": "markdown",
   "metadata": {},
   "source": [
    " albo użyć makra (robi to samo, tylko wygodniej):\n",
    "```julia\n",
    "taskHdl = @task mytask(100)\n",
    "```"
   ]
  },
  {
   "cell_type": "code",
   "execution_count": 11,
   "metadata": {},
   "outputs": [
    {
     "data": {
      "text/plain": [
       "false"
      ]
     },
     "execution_count": 11,
     "metadata": {},
     "output_type": "execute_result"
    }
   ],
   "source": [
    "# task został zdefiniowany, ale nie uruchomiony\n",
    "istaskstarted(taskHdl)"
   ]
  },
  {
   "cell_type": "code",
   "execution_count": 12,
   "metadata": {},
   "outputs": [],
   "source": [
    "# podajemy zadanie do kolejki schedulera\n",
    "schedule(taskHdl);"
   ]
  },
  {
   "cell_type": "code",
   "execution_count": 13,
   "metadata": {},
   "outputs": [
    {
     "data": {
      "text/plain": [
       "true"
      ]
     },
     "execution_count": 13,
     "metadata": {},
     "output_type": "execute_result"
    }
   ],
   "source": [
    "#sprawdzamy, czy się zakończyło\n",
    "istaskdone(taskHdl)"
   ]
  },
  {
   "cell_type": "code",
   "execution_count": 14,
   "metadata": {},
   "outputs": [
    {
     "name": "stdout",
     "output_type": "stream",
     "text": [
      "Task (done) @0x00007fd437c49270"
     ]
    }
   ],
   "source": [
    "show(taskHdl)"
   ]
  },
  {
   "cell_type": "markdown",
   "metadata": {},
   "source": [
    "Więcej o możliwych funkcjach wykonywanych na taskach (podłączanie do kanałów, uzyskiwanie informacji, który task jest uruchomiony, możliwości niskopoziomowego przełączania się itd.):\n",
    "\n",
    "https://docs.julialang.org/en/stable/stdlib/parallel/#tasks"
   ]
  },
  {
   "cell_type": "code",
   "execution_count": 15,
   "metadata": {},
   "outputs": [
    {
     "data": {
      "text/plain": [
       "9-element Array{Symbol,1}:\n",
       " :parent    \n",
       " :storage   \n",
       " :state     \n",
       " :consumers \n",
       " :donenotify\n",
       " :result    \n",
       " :exception \n",
       " :backtrace \n",
       " :code      "
      ]
     },
     "execution_count": 15,
     "metadata": {},
     "output_type": "execute_result"
    }
   ],
   "source": [
    "# typ Task zawiera wiele informacji\n",
    "fieldnames(taskHdl)"
   ]
  },
  {
   "cell_type": "code",
   "execution_count": 16,
   "metadata": {},
   "outputs": [
    {
     "data": {
      "text/plain": [
       ":done"
      ]
     },
     "execution_count": 16,
     "metadata": {},
     "output_type": "execute_result"
    }
   ],
   "source": [
    "# stan tasku:\n",
    "\n",
    "taskHdl.state"
   ]
  },
  {
   "cell_type": "code",
   "execution_count": 17,
   "metadata": {},
   "outputs": [
    {
     "data": {
      "text/plain": [
       "-4.20992460757163e25"
      ]
     },
     "execution_count": 17,
     "metadata": {},
     "output_type": "execute_result"
    }
   ],
   "source": [
    "#wynik\n",
    "taskHdl.result"
   ]
  },
  {
   "cell_type": "markdown",
   "metadata": {},
   "source": [
    "Inne stany:\n",
    "https://docs.julialang.org/en/stable/manual/control-flow/#task-states-1"
   ]
  },
  {
   "cell_type": "markdown",
   "metadata": {},
   "source": [
    "Makro @async opakowuje wyrażenie jako Task i dodaje do kolejki  schedulara na <b> lokalnej</b> maszynie.\n",
    "Macro @sync czeka na zakończenie się wszystkich zadań wywołanych przez @async"
   ]
  },
  {
   "cell_type": "code",
   "execution_count": 18,
   "metadata": {},
   "outputs": [
    {
     "name": "stdout",
     "output_type": "stream",
     "text": [
      "--->\n",
      "* konsument zaczyna\n",
      "+ producent zaczyna\n",
      "wkladam produkt 1\n",
      "wkladam produkt 2\n",
      "wkladam produkt 3\n",
      "wkladam produkt 4\n",
      "+ producent kończy\n",
      "odebralemprodukt 1\n",
      "odebralemprodukt 2\n",
      "odebralemprodukt 3\n",
      "odebralemprodukt 4\n",
      "* konsument kończy\n",
      "<---\n"
     ]
    }
   ],
   "source": [
    "# bez wywołania funkcji yield() producent wrzuca produkty po kolei, nie przełącza się,  potem konsument je odbiera\n",
    "# funkja yield wymusza przeplatane wykonanie.\n",
    "println(\"--->\")\n",
    "\n",
    "function producent(c::Channel)\n",
    "  \n",
    "      println(\"+ producent zaczyna\")\n",
    "           for n=1:4\n",
    "               produkt=string(\"produkt \", n)\n",
    "               println(\"wkladam \", produkt)\n",
    "               put!(c, produkt)\n",
    "               #yield()\n",
    "      \n",
    "           end\n",
    "    # tutaj musimy zamknąc kanał, inaczej konsument będzie \"wisiał\" na pętli for dla kanału z którym jest powiązany\n",
    "      close(c)\n",
    "      println(\"+ producent kończy\")\n",
    "   \n",
    "end\n",
    "\n",
    "function konsument(c::Channel)\n",
    "    println(\"* konsument zaczyna\")\n",
    "    \n",
    "    for produkt in c\n",
    "           println(\"odebralem\", produkt)\n",
    "           #yield()\n",
    "    end\n",
    "   \n",
    "    println(\"* konsument kończy\")\n",
    "end\n",
    "\n",
    "\n",
    "\n",
    "@sync begin\n",
    "    c=Channel(32)\n",
    " \n",
    "    @async konsument(c)\n",
    "    @async producent(c)\n",
    "end\n",
    "\n",
    "println(\"<---\")"
   ]
  },
  {
   "cell_type": "code",
   "execution_count": 1,
   "metadata": {},
   "outputs": [
    {
     "name": "stdout",
     "output_type": "stream",
     "text": [
      "Główne zadanie\n",
      "Zadanie 1\n",
      " Zadanie 2\n",
      " Zadanie 3\n",
      "  (2) etap 1\n",
      "  (3) etap 1\n",
      "  (1) etap 1\n",
      "  (2) etap 2\n",
      " (3) etap 2\n",
      " (1) etap 2\n"
     ]
    }
   ],
   "source": [
    "# sleep() powoduje zablokowanie tasku, scheduler przełącza na inny, aktywny task. \n",
    "for i in 1:3\n",
    "    @async begin\n",
    "        print(\"Zadanie $i\\n \")\n",
    "        sleep(rand()*0.1)\n",
    "        print(\" ($i) etap 1\\n \")\n",
    "        sleep(rand()*0.1)\n",
    "        print(\" ($i) etap 2\\n\")\n",
    "        sleep(rand()*0.1)\n",
    "    end\n",
    "end\n",
    "print(\"Główne zadanie\\n\")"
   ]
  },
  {
   "cell_type": "code",
   "execution_count": 20,
   "metadata": {},
   "outputs": [
    {
     "name": "stdout",
     "output_type": "stream",
     "text": [
      "Zadanie 1\n",
      " (2) etap 1\n",
      "  (3) etap 1\n",
      "  (1) etap 1\n",
      "  (2) etap 2\n",
      " (3) etap 2\n",
      " (1) etap 2\n",
      "(1) etap 1 \n",
      "(1) etap 2\n",
      "Zadanie 2\n",
      "(2) etap 1 \n",
      "(2) etap 2\n",
      "Zadanie 3\n",
      "(3) etap 1 \n",
      "(3) etap 2\n",
      "Główne zadanie\n"
     ]
    }
   ],
   "source": [
    "# jeden ze sposobów wymuszenia kolejności - użycie ReentrantLock do synchronizacji\n",
    "l = ReentrantLock()\n",
    "@sync for i in 1:3\n",
    "    @async begin\n",
    "        lock(l)\n",
    "        try\n",
    "            print(\"Zadanie $i\\n\")\n",
    "            sleep(rand()*0.2)\n",
    "            print(\"($i) etap 1 \\n\")\n",
    "            sleep(rand()*0.2)\n",
    "            print(\"($i) etap 2\\n\")\n",
    "        finally\n",
    "            unlock(l)\n",
    "        end\n",
    "    end\n",
    "end\n",
    "print(\"Główne zadanie\\n\")"
   ]
  },
  {
   "cell_type": "markdown",
   "metadata": {},
   "source": [
    "## Wykonywanie równoległe\n",
    "\n",
    "https://docs.julialang.org/en/stable/stdlib/parallel/\n",
    "\n",
    "- Architektura master - worker.\n",
    "- master - proces, z którego sterujemy wykonaniem programu\n",
    "- master zleca wykonanie danej funkcji na innym procesie i ściąga wynik"
   ]
  },
  {
   "cell_type": "code",
   "execution_count": 3,
   "metadata": {},
   "outputs": [
    {
     "name": "stdout",
     "output_type": "stream",
     "text": [
      "4\n",
      "[2, 3, 4]\n",
      "3\n"
     ]
    }
   ],
   "source": [
    "# Uruchomienie procesów workerów (zwykle podajemy tyle, ile węzłów chcemy wykorzystać)\n",
    "# jesli uruchamiamy konsole julii to można też użyć opcji \n",
    "# julia -p ilosc_workerów\n",
    "# do usuwania workerów służy  rmprocs() - tylko dla procesu master !\n",
    "if nprocs() == 1\n",
    "    addprocs(3)\n",
    "end\n",
    "# wszystkie procesy\n",
    "nprocs() |> println\n",
    "# procesy workerów\n",
    "# tablica identyfikatorów\n",
    "workers() |> println\n",
    "# ilość\n",
    "nworkers()|> println"
   ]
  },
  {
   "cell_type": "code",
   "execution_count": 22,
   "metadata": {},
   "outputs": [
    {
     "data": {
      "text/plain": [
       "1"
      ]
     },
     "execution_count": 22,
     "metadata": {},
     "output_type": "execute_result"
    }
   ],
   "source": [
    "# każdy proces ( w tym główny) ma swój identyfikator\n",
    "myid()"
   ]
  },
  {
   "cell_type": "code",
   "execution_count": 23,
   "metadata": {},
   "outputs": [
    {
     "data": {
      "text/plain": [
       "2"
      ]
     },
     "execution_count": 23,
     "metadata": {},
     "output_type": "execute_result"
    }
   ],
   "source": [
    "# pierwszy worker\n",
    "workers()[1]"
   ]
  },
  {
   "cell_type": "code",
   "execution_count": 24,
   "metadata": {},
   "outputs": [
    {
     "data": {
      "text/plain": [
       "Future(2, 1, 5, Nullable{Any}())"
      ]
     },
     "execution_count": 24,
     "metadata": {},
     "output_type": "execute_result"
    }
   ],
   "source": [
    "# uruchom funkcje na wybranym workerze, zwraca future\n",
    "# future = \"pudełko\" na wynik, które wypełni się, jak wynik będzie gotowy\n",
    "# argumenty:\n",
    "# 1. funkcja jaka się ma wykonać\n",
    "# 2. identyfikator workera, \n",
    "# 3. parametry funkcji\n",
    "ref = remotecall(myid,workers()[1])"
   ]
  },
  {
   "cell_type": "code",
   "execution_count": 25,
   "metadata": {},
   "outputs": [
    {
     "name": "stdout",
     "output_type": "stream",
     "text": [
      "2\n"
     ]
    }
   ],
   "source": [
    "# czekamy na wynik i wypełniamy pudełko\n",
    "_id = fetch(ref)\n",
    "println(_id)"
   ]
  },
  {
   "cell_type": "code",
   "execution_count": 26,
   "metadata": {},
   "outputs": [
    {
     "name": "stdout",
     "output_type": "stream",
     "text": [
      "elapsed time: 0.590303957 seconds\n",
      "20\n",
      "elapsed time: 2.202733448 seconds\n"
     ]
    }
   ],
   "source": [
    "tic()\n",
    "ref = remotecall(x->(sleep(x);10x), workers()[1], 2)\n",
    "toc()\n",
    "tic()\n",
    "fetch(ref) |> println\n",
    "toc();"
   ]
  },
  {
   "cell_type": "code",
   "execution_count": 27,
   "metadata": {},
   "outputs": [
    {
     "data": {
      "text/plain": [
       "2×2 Array{Float64,2}:\n",
       " 1.9505   1.82577\n",
       " 1.35591  1.49358"
      ]
     },
     "execution_count": 27,
     "metadata": {},
     "output_type": "execute_result"
    }
   ],
   "source": [
    "# przekazywanie RemoteRef między procesami\n",
    "# makro @spawnat oblicza na workerze, którego identyfikator jest podany w pierwszym argumencie\n",
    "# wyrażenie podane w  drugim argumencie \n",
    "# makro - wygodniejsze w użyciu niż funkcja\n",
    "\n",
    "\n",
    "r = remotecall(()->rand(2,2),2)\n",
    "s = @spawnat 3 fetch(r)+1\n",
    "fetch(s)"
   ]
  },
  {
   "cell_type": "code",
   "execution_count": 28,
   "metadata": {},
   "outputs": [
    {
     "data": {
      "text/plain": [
       "2×2 Array{Float64,2}:\n",
       " 1.67392  1.31254\n",
       " 1.161    1.28014"
      ]
     },
     "execution_count": 28,
     "metadata": {},
     "output_type": "execute_result"
    }
   ],
   "source": [
    "# makro @spawn wybiera zdalny proces. Druga linijka wykona się na tym samym procesie co pierwsza, \n",
    "# aby nie trzeba było przesyłać danych\n",
    "# można definiować własne makra typu @spawn\n",
    "# raz ściągnięty wynik future jest przechowywany lokalnie (cache), wartość przechowywana zdalnie jest kasowana.\n",
    "r = @spawn rand(2,2)\n",
    "s = @spawn 1 .+ fetch(r)\n",
    "fetch(s)"
   ]
  },
  {
   "cell_type": "code",
   "execution_count": 29,
   "metadata": {},
   "outputs": [],
   "source": [
    "# Jeśli operujemy na dużych danych warto zadbać, aby ich niepotrzebnie nie przesyłać.\n",
    "\n",
    "# tutaj dane (wygenerowana tablica) są przesyłane z procesu 1 do procesu zdalnego\n",
    "A = rand(1000,1000)\n",
    "Bref = @spawn A^2\n",
    "fetch(Bref)\n",
    "\n",
    "# tutaj tablica generuje się już \"na miejscu\"\n",
    "Bref = @spawn rand(1000,1000)^2\n",
    "fetch(Bref);"
   ]
  },
  {
   "cell_type": "code",
   "execution_count": 30,
   "metadata": {},
   "outputs": [
    {
     "data": {
      "text/plain": [
       "rand2 (generic function with 1 method)"
      ]
     },
     "execution_count": 30,
     "metadata": {},
     "output_type": "execute_result"
    }
   ],
   "source": [
    "# Co, jeśli zdefiniujemy własne funkcje, czy będą widoczne na pozostałych procesach?\n",
    "function rand2(dims...)\n",
    "    return 2*rand(dims...)\n",
    "end"
   ]
  },
  {
   "cell_type": "code",
   "execution_count": 31,
   "metadata": {},
   "outputs": [
    {
     "data": {
      "text/plain": [
       "2×2 Array{Float64,2}:\n",
       " 0.428524  0.937599\n",
       " 1.819     0.24862 "
      ]
     },
     "execution_count": 31,
     "metadata": {},
     "output_type": "execute_result"
    }
   ],
   "source": [
    "rand2(2,2)"
   ]
  },
  {
   "cell_type": "code",
   "execution_count": 32,
   "metadata": {},
   "outputs": [
    {
     "data": {
      "text/plain": [
       "2×2 Array{Float64,2}:\n",
       " 1.42743   1.79152\n",
       " 0.522247  1.86269"
      ]
     },
     "execution_count": 32,
     "metadata": {},
     "output_type": "execute_result"
    }
   ],
   "source": [
    "#Proces nr 1 to master - wie o zdefiniowanej funkcji\n",
    "r1 = @spawnat 1 rand2(2,2)\n",
    "fetch(r1)"
   ]
  },
  {
   "cell_type": "code",
   "execution_count": 33,
   "metadata": {},
   "outputs": [
    {
     "ename": "LoadError",
     "evalue": "\u001b[91mOn worker 2:\n\u001b[91mUndefVarError: #rand2 not defined\u001b[39m\ndeserialize_datatype at ./serialize.jl:973\nhandle_deserialize at ./serialize.jl:677\ndeserialize at ./serialize.jl:637\nhandle_deserialize at ./serialize.jl:684\ndeserialize_global_from_main at ./distributed/clusterserialize.jl:154\nforeach at ./abstractarray.jl:1733\ndeserialize at ./distributed/clusterserialize.jl:56\nhandle_deserialize at ./serialize.jl:726\ndeserialize at ./serialize.jl:637\nhandle_deserialize at ./serialize.jl:681\ndeserialize at ./serialize.jl:637\nhandle_deserialize at ./serialize.jl:684\ndeserialize_msg at ./distributed/messages.jl:98\nmessage_handler_loop at ./distributed/process_messages.jl:161\nprocess_tcp_streams at ./distributed/process_messages.jl:118\n#99 at ./event.jl:73\u001b[39m",
     "output_type": "error",
     "traceback": [
      "\u001b[91mOn worker 2:\n\u001b[91mUndefVarError: #rand2 not defined\u001b[39m\ndeserialize_datatype at ./serialize.jl:973\nhandle_deserialize at ./serialize.jl:677\ndeserialize at ./serialize.jl:637\nhandle_deserialize at ./serialize.jl:684\ndeserialize_global_from_main at ./distributed/clusterserialize.jl:154\nforeach at ./abstractarray.jl:1733\ndeserialize at ./distributed/clusterserialize.jl:56\nhandle_deserialize at ./serialize.jl:726\ndeserialize at ./serialize.jl:637\nhandle_deserialize at ./serialize.jl:681\ndeserialize at ./serialize.jl:637\nhandle_deserialize at ./serialize.jl:684\ndeserialize_msg at ./distributed/messages.jl:98\nmessage_handler_loop at ./distributed/process_messages.jl:161\nprocess_tcp_streams at ./distributed/process_messages.jl:118\n#99 at ./event.jl:73\u001b[39m",
      "",
      "Stacktrace:",
      " [1] \u001b[1m#remotecall_fetch#141\u001b[22m\u001b[22m\u001b[1m(\u001b[22m\u001b[22m::Array{Any,1}, ::Function, ::Function, ::Base.Distributed.Worker, ::Base.Distributed.RRID, ::Vararg{Any,N} where N\u001b[1m)\u001b[22m\u001b[22m at \u001b[1m./distributed/remotecall.jl:354\u001b[22m\u001b[22m",
      " [2] \u001b[1mremotecall_fetch\u001b[22m\u001b[22m\u001b[1m(\u001b[22m\u001b[22m::Function, ::Base.Distributed.Worker, ::Base.Distributed.RRID, ::Vararg{Any,N} where N\u001b[1m)\u001b[22m\u001b[22m at \u001b[1m./distributed/remotecall.jl:346\u001b[22m\u001b[22m",
      " [3] \u001b[1m#remotecall_fetch#144\u001b[22m\u001b[22m\u001b[1m(\u001b[22m\u001b[22m::Array{Any,1}, ::Function, ::Function, ::Int64, ::Base.Distributed.RRID, ::Vararg{Any,N} where N\u001b[1m)\u001b[22m\u001b[22m at \u001b[1m./distributed/remotecall.jl:367\u001b[22m\u001b[22m",
      " [4] \u001b[1mcall_on_owner\u001b[22m\u001b[22m\u001b[1m(\u001b[22m\u001b[22m::Function, ::Future\u001b[1m)\u001b[22m\u001b[22m at \u001b[1m./distributed/remotecall.jl:440\u001b[22m\u001b[22m",
      " [5] \u001b[1mfetch\u001b[22m\u001b[22m\u001b[1m(\u001b[22m\u001b[22m::Future\u001b[1m)\u001b[22m\u001b[22m at \u001b[1m./distributed/remotecall.jl:460\u001b[22m\u001b[22m"
     ]
    }
   ],
   "source": [
    "# Proces nr 2 nie wie nic o nowo zdefiniowanej funkcji\n",
    "r2 = @spawnat 2 rand2(2,2)\n",
    "fetch(r2)"
   ]
  },
  {
   "cell_type": "code",
   "execution_count": 34,
   "metadata": {},
   "outputs": [],
   "source": [
    "# makro everywhere uruchamia kod na wszystkich procesach, \n",
    "# może być użyte do zdefioniowania funkcji wszędzie\n",
    "@everywhere function idtable(dims...)\n",
    "    return myid()*ones(dims...)\n",
    "end"
   ]
  },
  {
   "cell_type": "code",
   "execution_count": 35,
   "metadata": {},
   "outputs": [
    {
     "data": {
      "text/plain": [
       "2×2 Array{Float64,2}:\n",
       " 3.0  3.0\n",
       " 3.0  3.0"
      ]
     },
     "execution_count": 35,
     "metadata": {},
     "output_type": "execute_result"
    }
   ],
   "source": [
    "r1 = @spawnat 3 idtable(2,2)\n",
    "fetch(r1)"
   ]
  },
  {
   "cell_type": "code",
   "execution_count": 36,
   "metadata": {
    "scrolled": false
   },
   "outputs": [
    {
     "data": {
      "text/plain": [
       "10000"
      ]
     },
     "execution_count": 36,
     "metadata": {},
     "output_type": "execute_result"
    }
   ],
   "source": [
    "A2=10000"
   ]
  },
  {
   "cell_type": "code",
   "execution_count": 37,
   "metadata": {},
   "outputs": [
    {
     "data": {
      "text/plain": [
       "10000"
      ]
     },
     "execution_count": 37,
     "metadata": {},
     "output_type": "execute_result"
    }
   ],
   "source": [
    "# ta funkcja to efektywne połączenie remote_call() i fetch() w jednym.\n",
    "# A2 jest brane z otoczenia funcji remotecall_fetch, czyli procesu 1, \n",
    "# po wykonaniu A2 nadal istnieje w pamięci zdalnego workera workers()[2]\n",
    "remotecall_fetch(()->A2,workers()[2])"
   ]
  },
  {
   "cell_type": "markdown",
   "metadata": {},
   "source": [
    "+ Jeśli globalna zmienna jest  używana w funkcji wywoływanej zdalnie na danym workerze, to zmienna ta jest automatycznie tworzona na tym workerze.\n",
    "\n",
    "+ Stałe globalne są również zadeklarowane jako stałe na zdalnych workerach.\n",
    "\n",
    "+ Zmienne globalne są  wysyłane poprzez wywołanie zdalne, przy kolejnych wywołaniach są wywyłane wtedy, gdy zmieniła się ich  wartość. Nie ma synchronizacji globalnych zmiennych między węzłami. Przykład:"
   ]
  },
  {
   "cell_type": "code",
   "execution_count": 38,
   "metadata": {},
   "outputs": [
    {
     "data": {
      "text/plain": [
       "0"
      ]
     },
     "execution_count": 38,
     "metadata": {},
     "output_type": "execute_result"
    }
   ],
   "source": [
    "A = 10\n",
    "remotecall_fetch(()->A, 2) # worker 2\n",
    "A = 20\n",
    "remotecall_fetch(()->A, 3) # worker 3\n",
    "A = 0"
   ]
  },
  {
   "cell_type": "code",
   "execution_count": 39,
   "metadata": {},
   "outputs": [
    {
     "data": {
      "text/plain": [
       "20"
      ]
     },
     "execution_count": 39,
     "metadata": {},
     "output_type": "execute_result"
    }
   ],
   "source": [
    "@everywhere function getA()\n",
    "    A\n",
    "end\n",
    "remotecall_fetch(getA, 3)"
   ]
  },
  {
   "cell_type": "code",
   "execution_count": 40,
   "metadata": {},
   "outputs": [
    {
     "data": {
      "text/plain": [
       "10"
      ]
     },
     "execution_count": 40,
     "metadata": {},
     "output_type": "execute_result"
    }
   ],
   "source": [
    "remotecall_fetch(getA, 2)"
   ]
  },
  {
   "cell_type": "code",
   "execution_count": 41,
   "metadata": {},
   "outputs": [
    {
     "data": {
      "text/plain": [
       "0"
      ]
     },
     "execution_count": 41,
     "metadata": {},
     "output_type": "execute_result"
    }
   ],
   "source": [
    "getA()"
   ]
  },
  {
   "cell_type": "code",
   "execution_count": 4,
   "metadata": {},
   "outputs": [
    {
     "name": "stdout",
     "output_type": "stream",
     "text": [
      "\tFrom worker 2:\t                             A      8 bytes  Int64\n",
      "\tFrom worker 2:\t                          Base               Module\n",
      "\tFrom worker 2:\t                          Core               Module\n",
      "\tFrom worker 2:\t                          Main               Module\n"
     ]
    }
   ],
   "source": [
    "# let wprowadza lokalny zakres, a co za tym idzie C nie będzie automatycznie zdefiniowana w workerze 2\n",
    "A = 1;\n",
    "remotecall_fetch(()->A, 2);\n",
    "C = 3;\n",
    "let C = C\n",
    "           remotecall_fetch(()->C, 2)\n",
    "end;\n",
    "# whos() - funkcja informująca o globalnych zmiennych\n",
    "@spawnat 2 whos();"
   ]
  },
  {
   "cell_type": "markdown",
   "metadata": {},
   "source": [
    "### Operacje równoległe wysokopoziomowe"
   ]
  },
  {
   "cell_type": "code",
   "execution_count": 5,
   "metadata": {},
   "outputs": [
    {
     "data": {
      "text/plain": [
       "10409322085141927639670203491499689537738780837791755480023910122413796284563817273031715389609548981241768473547819207141766480065813697534743324177871972318309449519400285796191029154173386427179568557187635957090705352571527670654111047109630289487169691389452699579236618703725748994463357307313300"
      ]
     },
     "execution_count": 5,
     "metadata": {},
     "output_type": "execute_result"
    }
   ],
   "source": [
    "# każda operacja I^100 wykonywana jest równolegle (map) - master nie bierze udziału w obliczeniach\n",
    "# wyniki wszystkich operacji równoległych są sumowane (reduce) - wykonywana w procesie wywołującym \n",
    "\n",
    "@parallel (+) for i=1:1000 \n",
    "        BigInt(i)^100\n",
    "\n",
    "end"
   ]
  },
  {
   "cell_type": "code",
   "execution_count": 6,
   "metadata": {},
   "outputs": [
    {
     "data": {
      "text/plain": [
       "10-element Array{Float64,1}:\n",
       " 0.0\n",
       " 0.0\n",
       " 0.0\n",
       " 0.0\n",
       " 0.0\n",
       " 0.0\n",
       " 0.0\n",
       " 0.0\n",
       " 0.0\n",
       " 0.0"
      ]
     },
     "execution_count": 6,
     "metadata": {},
     "output_type": "execute_result"
    }
   ],
   "source": [
    "# tutaj każdy proces ma swoją kopię tablicy a, więć kod nie zadziała dobrze\n",
    "# @sync - czekamy na zakończenie się wszystkich obliczeń.\n",
    "# master nie bierze udziału w obliczeniach.\n",
    "a = zeros(10)\n",
    "@sync @parallel for i=1:10\n",
    "  a[i] = i\n",
    "end\n",
    "a\n"
   ]
  },
  {
   "cell_type": "code",
   "execution_count": 45,
   "metadata": {},
   "outputs": [
    {
     "data": {
      "text/plain": [
       "10-element SharedArray{Float64,1}:\n",
       "  1.0\n",
       "  2.0\n",
       "  3.0\n",
       "  4.0\n",
       "  5.0\n",
       "  6.0\n",
       "  7.0\n",
       "  8.0\n",
       "  9.0\n",
       " 10.0"
      ]
     },
     "execution_count": 45,
     "metadata": {},
     "output_type": "execute_result"
    }
   ],
   "source": [
    "# tutaj tablica jest współdzielona (SharedArray), każdy proces modyfikuje jej kawałek.\n",
    "\n",
    "a1=SharedArray(Float64,10)\n",
    "@sync @parallel for i=1:10\n",
    "  a1[i] = i\n",
    "end\n",
    "a1\n",
    "\n"
   ]
  },
  {
   "cell_type": "code",
   "execution_count": 46,
   "metadata": {},
   "outputs": [
    {
     "data": {
      "text/plain": [
       "10-element SharedArray{Int8,1}:\n",
       " 3\n",
       " 3\n",
       " 3\n",
       " 3\n",
       " 4\n",
       " 4\n",
       " 4\n",
       " 2\n",
       " 2\n",
       " 2"
      ]
     },
     "execution_count": 46,
     "metadata": {},
     "output_type": "execute_result"
    }
   ],
   "source": [
    "a2=SharedArray(Int8,10)\n",
    "@sync @parallel for i=1:10\n",
    "  a2[i] = myid()\n",
    "end\n",
    "a2"
   ]
  },
  {
   "cell_type": "code",
   "execution_count": 47,
   "metadata": {},
   "outputs": [
    {
     "data": {
      "text/plain": [
       "10-element Array{Int64,1}:\n",
       " 2\n",
       " 3\n",
       " 4\n",
       " 2\n",
       " 3\n",
       " 2\n",
       " 3\n",
       " 2\n",
       " 3\n",
       " 2"
      ]
     },
     "execution_count": 47,
     "metadata": {},
     "output_type": "execute_result"
    }
   ],
   "source": [
    "# pmap - działa podobnie jak @parallel for bez redukcji, ale jest wydajniejsza dla dłużej trwających operacji.\n",
    "\n",
    "lst = collect(1:10)\n",
    "\n",
    "pmap(x->myid(),lst)\n"
   ]
  },
  {
   "cell_type": "markdown",
   "metadata": {},
   "source": [
    "### Dynamiczny scheduling w funkcji pmap"
   ]
  },
  {
   "cell_type": "code",
   "execution_count": 48,
   "metadata": {},
   "outputs": [
    {
     "data": {
      "image/png": "[encoded data removed]",
      "text/plain": [
       "618×948 Array{RGBA{N0f8},2}:\n",
       " RGBA{N0f8}(0.506,0.506,0.506,0.0)  …  RGBA{N0f8}(0.506,0.506,0.506,0.0)\n",
       " RGBA{N0f8}(0.506,0.506,0.506,0.0)     RGBA{N0f8}(0.506,0.506,0.506,0.0)\n",
       " RGBA{N0f8}(0.506,0.506,0.506,0.0)     RGBA{N0f8}(0.506,0.506,0.506,0.0)\n",
       " RGBA{N0f8}(0.506,0.506,0.506,0.0)     RGBA{N0f8}(0.506,0.506,0.506,0.0)\n",
       " RGBA{N0f8}(0.506,0.506,0.506,0.0)     RGBA{N0f8}(0.506,0.506,0.506,0.0)\n",
       " RGBA{N0f8}(0.506,0.506,0.506,0.0)  …  RGBA{N0f8}(0.506,0.506,0.506,0.0)\n",
       " RGBA{N0f8}(0.506,0.506,0.506,0.0)     RGBA{N0f8}(0.506,0.506,0.506,0.0)\n",
       " RGBA{N0f8}(0.506,0.506,0.506,0.0)     RGBA{N0f8}(0.506,0.506,0.506,0.0)\n",
       " RGBA{N0f8}(0.506,0.506,0.506,0.0)     RGBA{N0f8}(0.506,0.506,0.506,0.0)\n",
       " RGBA{N0f8}(0.506,0.506,0.506,0.0)     RGBA{N0f8}(0.506,0.506,0.506,0.0)\n",
       " RGBA{N0f8}(0.506,0.506,0.506,0.0)  …  RGBA{N0f8}(0.506,0.506,0.506,0.0)\n",
       " RGBA{N0f8}(0.506,0.506,0.506,0.0)     RGBA{N0f8}(0.506,0.506,0.506,0.0)\n",
       " RGBA{N0f8}(0.506,0.506,0.506,0.0)     RGBA{N0f8}(0.506,0.506,0.506,0.0)\n",
       " ⋮                                  ⋱                                   \n",
       " RGBA{N0f8}(0.506,0.506,0.506,0.0)     RGBA{N0f8}(0.506,0.506,0.506,0.0)\n",
       " RGBA{N0f8}(0.506,0.506,0.506,0.0)     RGBA{N0f8}(0.506,0.506,0.506,0.0)\n",
       " RGBA{N0f8}(0.506,0.506,0.506,0.0)     RGBA{N0f8}(0.506,0.506,0.506,0.0)\n",
       " RGBA{N0f8}(0.506,0.506,0.506,0.0)     RGBA{N0f8}(0.506,0.506,0.506,0.0)\n",
       " RGBA{N0f8}(0.506,0.506,0.506,0.0)  …  RGBA{N0f8}(0.506,0.506,0.506,0.0)\n",
       " RGBA{N0f8}(0.506,0.506,0.506,0.0)     RGBA{N0f8}(0.506,0.506,0.506,0.0)\n",
       " RGBA{N0f8}(0.506,0.506,0.506,0.0)     RGBA{N0f8}(0.506,0.506,0.506,0.0)\n",
       " RGBA{N0f8}(0.506,0.506,0.506,0.0)     RGBA{N0f8}(0.506,0.506,0.506,0.0)\n",
       " RGBA{N0f8}(0.506,0.506,0.506,0.0)     RGBA{N0f8}(0.506,0.506,0.506,0.0)\n",
       " RGBA{N0f8}(0.506,0.506,0.506,0.0)  …  RGBA{N0f8}(0.506,0.506,0.506,0.0)\n",
       " RGBA{N0f8}(0.506,0.506,0.506,0.0)     RGBA{N0f8}(0.506,0.506,0.506,0.0)\n",
       " RGBA{N0f8}(0.506,0.506,0.506,0.0)     RGBA{N0f8}(0.506,0.506,0.506,0.0)"
      ]
     },
     "execution_count": 48,
     "metadata": {},
     "output_type": "execute_result"
    }
   ],
   "source": [
    "using Images\n",
    "using FileIO\n",
    "img = load(\"workerzy.png\")"
   ]
  },
  {
   "cell_type": "code",
   "execution_count": 49,
   "metadata": {},
   "outputs": [],
   "source": [
    "function pmap2(f, lst)\n",
    "    np = nprocs()  # ile procesów ?\n",
    "    n = length(lst)\n",
    "    results = Vector{Any}(n)\n",
    "    i = 1\n",
    "    # indeks nastepnego zadania do zrobienia\n",
    "    nextidx() = (idx=i; i+=1; idx)\n",
    "    @sync begin\n",
    "        for p=1:np\n",
    "            if p != myid() || np == 1\n",
    "                # tworzenie lokalnych tasków feed\n",
    "                # żaden nie zacznie działać dopóki wszystkie nie zostaną utworzone i task główny nie wyjdzie \n",
    "                # z pętli @sync, gdzie będzie czekał na ich zakończenie\n",
    "                @async begin\n",
    "                    while true\n",
    "                        idx = nextidx()\n",
    "                        if idx > n\n",
    "                            break\n",
    "                        end\n",
    "                        results[idx] = remotecall_fetch(f, p, lst[idx])\n",
    "                    end\n",
    "                end\n",
    "            end\n",
    "        end\n",
    "    end\n",
    "    results\n",
    "end\n",
    "#przykładowe użycie\n",
    "M = Matrix{Float64}[rand(800,800), rand(600,600), rand(800,800), rand(600,600)]\n",
    "pmap2(svd, M);"
   ]
  },
  {
   "cell_type": "markdown",
   "metadata": {},
   "source": [
    "### Zdalne kanały komunikacji pomiędzy zadaniami na różnych workerach (Remote Channels)"
   ]
  },
  {
   "cell_type": "code",
   "execution_count": 50,
   "metadata": {},
   "outputs": [],
   "source": [
    "# zdalny kanał przekazujący numery zadań\n",
    "const jobs = RemoteChannel(()->Channel{Int}(32));"
   ]
  },
  {
   "cell_type": "code",
   "execution_count": 51,
   "metadata": {},
   "outputs": [],
   "source": [
    "# zdalny kanał przekazujący wyniki\n",
    "const results = RemoteChannel(()->Channel{Tuple}(32));"
   ]
  },
  {
   "cell_type": "code",
   "execution_count": 52,
   "metadata": {},
   "outputs": [],
   "source": [
    "# funkcja wykonująca pewną (symulowaną sleepem) \"pracę\"\n",
    "@everywhere function do_work(jobs, results) \n",
    "           while true\n",
    "               job_id = take!(jobs)\n",
    "               exec_time = rand()\n",
    "               sleep(exec_time) # symulacja \"pracy\"\n",
    "               put!(results, (job_id, exec_time, myid()))\n",
    "           end\n",
    "       end"
   ]
  },
  {
   "cell_type": "code",
   "execution_count": 53,
   "metadata": {},
   "outputs": [],
   "source": [
    "# funkcja wkładająca  do kanału numery \"prac\"\n",
    "function make_jobs(n)\n",
    "           for i in 1:n\n",
    "               put!(jobs, i)\n",
    "           end\n",
    "end;"
   ]
  },
  {
   "cell_type": "code",
   "execution_count": 54,
   "metadata": {},
   "outputs": [],
   "source": [
    "n = 12;"
   ]
  },
  {
   "cell_type": "code",
   "execution_count": 55,
   "metadata": {},
   "outputs": [],
   "source": [
    "@schedule make_jobs(n);"
   ]
  },
  {
   "cell_type": "code",
   "execution_count": 56,
   "metadata": {},
   "outputs": [],
   "source": [
    "# startujemy zdalne zadania\n",
    "# remote_do() - funkcja podobna do remote_call(), ale nie ma mozliwości ściągnięcia wyniku poprzez fetch()\n",
    "for p in workers() \n",
    "           @async remote_do(do_work, p, jobs, results)\n",
    "end\n"
   ]
  },
  {
   "cell_type": "code",
   "execution_count": 57,
   "metadata": {},
   "outputs": [
    {
     "name": "stdout",
     "output_type": "stream",
     "text": [
      "1 finished in 0.22 seconds on worker 2\n",
      "3 finished in 0.31 seconds on worker 3\n",
      "2 finished in 0.46 seconds on worker 4\n",
      "4 finished in 0.24 seconds on worker 2\n",
      "6 finished in 0.31 seconds on worker 4\n",
      "5 finished in 0.5 seconds on worker 3\n",
      "7 finished in 0.52 seconds on worker 2\n",
      "9 finished in 0.35 seconds on worker 3\n",
      "8 finished in 0.53 seconds on worker 4\n",
      "10 finished in 0.48 seconds on worker 2\n",
      "11 finished in 0.8 seconds on worker 3\n",
      "12 finished in 0.95 seconds on worker 4\n"
     ]
    },
    {
     "data": {
      "text/plain": [
       "4.22546639"
      ]
     },
     "execution_count": 57,
     "metadata": {},
     "output_type": "execute_result"
    }
   ],
   "source": [
    "# wypisujemy wyniki\n",
    "@elapsed while n > 0 \n",
    "           job_id, exec_time, where = take!(results)\n",
    "           println(\"$job_id finished in $(round(exec_time,2)) seconds on worker $where\")\n",
    "           n = n - 1\n",
    "       end"
   ]
  },
  {
   "cell_type": "markdown",
   "metadata": {},
   "source": [
    "## Tablice współdzielone\n",
    "- Pozwalają na współdzielenie jednej tablicy pomiędzy wieloma procesami wykonywanymi na jednej maszynie ze wspólną pamięcią.\n",
    "- Każdy z procesów ma dostęp do każdej części tablicy."
   ]
  },
  {
   "cell_type": "code",
   "execution_count": 58,
   "metadata": {},
   "outputs": [
    {
     "data": {
      "text/plain": [
       "3×3 SharedArray{Int64,2}:\n",
       " 0  0  0\n",
       " 0  0  0\n",
       " 0  0  0"
      ]
     },
     "execution_count": 58,
     "metadata": {},
     "output_type": "execute_result"
    }
   ],
   "source": [
    "# utworzenie tablicy współdzielonej\n",
    "S = SharedArray{Int,2}((3,3))"
   ]
  },
  {
   "cell_type": "code",
   "execution_count": 59,
   "metadata": {},
   "outputs": [
    {
     "data": {
      "text/plain": [
       "3×3 SharedArray{Int64,2}:\n",
       " 0  0  0\n",
       " 0  0  0\n",
       " 0  7  0"
      ]
     },
     "execution_count": 59,
     "metadata": {},
     "output_type": "execute_result"
    }
   ],
   "source": [
    "S[3,2] = 7\n",
    "S"
   ]
  },
  {
   "cell_type": "code",
   "execution_count": 60,
   "metadata": {},
   "outputs": [
    {
     "data": {
      "text/plain": [
       "3×3 Array{Int64,2}:\n",
       " 2  0  0\n",
       " 0  0  0\n",
       " 0  7  0"
      ]
     },
     "execution_count": 60,
     "metadata": {},
     "output_type": "execute_result"
    }
   ],
   "source": [
    "# worker 2 ustawia w tablicy S wartosc 2 w miejscu (1,1) \n",
    "remotecall_fetch(setindex!,2,S,2,1,1)"
   ]
  },
  {
   "cell_type": "code",
   "execution_count": 61,
   "metadata": {},
   "outputs": [
    {
     "data": {
      "text/plain": [
       "3×3 SharedArray{Int64,2}:\n",
       " 2  0  0\n",
       " 0  0  0\n",
       " 0  7  0"
      ]
     },
     "execution_count": 61,
     "metadata": {},
     "output_type": "execute_result"
    }
   ],
   "source": [
    "# efekt widac w masterze\n",
    "S"
   ]
  },
  {
   "cell_type": "code",
   "execution_count": 62,
   "metadata": {},
   "outputs": [
    {
     "name": "stdout",
     "output_type": "stream",
     "text": [
      "1:3\n",
      "4:6\n",
      "7:9\n"
     ]
    }
   ],
   "source": [
    "# localindexes() - podaje sugerwany logiczny podział tablicy współdzielonej (pomocny, gdy nie chcemy, aby workerzy sobie \n",
    "# nadpisywali zawartości tablicy, oczywiście jest to podział umowny, który można zmienić\n",
    "for p in workers()\n",
    "    println(remotecall_fetch(localindexes,p,S))\n",
    "end"
   ]
  },
  {
   "cell_type": "code",
   "execution_count": 63,
   "metadata": {},
   "outputs": [
    {
     "data": {
      "text/plain": [
       "3×3 SharedArray{Int64,2}:\n",
       " 2  3  4\n",
       " 2  3  4\n",
       " 2  3  4"
      ]
     },
     "execution_count": 63,
     "metadata": {},
     "output_type": "execute_result"
    }
   ],
   "source": [
    "S = SharedArray{Int,2}((3,3), init = S -> S[Base.localindexes(S)] = myid())"
   ]
  },
  {
   "cell_type": "code",
   "execution_count": 64,
   "metadata": {},
   "outputs": [
    {
     "data": {
      "text/plain": [
       "3-element Array{Int64,1}:\n",
       " 2\n",
       " 3\n",
       " 4"
      ]
     },
     "execution_count": 64,
     "metadata": {},
     "output_type": "execute_result"
    }
   ],
   "source": [
    "#Wector procesów uzywających  SharedArray\n",
    "procs(S)"
   ]
  },
  {
   "cell_type": "code",
   "execution_count": 65,
   "metadata": {},
   "outputs": [
    {
     "name": "stdout",
     "output_type": "stream",
     "text": [
      "1\n",
      "2\n",
      "3\n"
     ]
    }
   ],
   "source": [
    "# indexpids() - kazdy worker współdzielący tablice ma swój indeks (numerowane od 1..ilość workerów) \n",
    "for p in workers()\n",
    "    println(remotecall_fetch(indexpids,p,S))\n",
    "end"
   ]
  },
  {
   "cell_type": "code",
   "execution_count": 66,
   "metadata": {},
   "outputs": [
    {
     "data": {
      "text/plain": [
       "10×10 Array{Float64,2}:\n",
       " 1.0  0.0  1.0  0.0  1.0  0.0  1.0  0.0  1.0  0.0\n",
       " 0.0  0.0  0.0  0.0  0.0  0.0  0.0  0.0  0.0  0.0\n",
       " 0.0  1.0  0.0  1.0  0.0  1.0  0.0  1.0  0.0  1.0\n",
       " 0.0  0.0  0.0  0.0  0.0  0.0  0.0  0.0  0.0  0.0\n",
       " 1.0  0.0  1.0  0.0  1.0  0.0  1.0  0.0  1.0  0.0\n",
       " 0.0  0.0  0.0  0.0  0.0  0.0  0.0  0.0  0.0  0.0\n",
       " 0.0  1.0  0.0  1.0  0.0  1.0  0.0  1.0  0.0  1.0\n",
       " 0.0  0.0  0.0  0.0  0.0  0.0  0.0  0.0  0.0  0.0\n",
       " 1.0  0.0  1.0  0.0  1.0  0.0  1.0  0.0  1.0  0.0\n",
       " 0.0  0.0  0.0  0.0  0.0  0.0  0.0  0.0  0.0  0.0"
      ]
     },
     "execution_count": 66,
     "metadata": {},
     "output_type": "execute_result"
    }
   ],
   "source": [
    "# dygresja: wypelnianie tablicy co 4 elementy (idziemy po kolumnach)\n",
    "A=zeros(10,10)\n",
    "A[1:4:length(A)]=1\n",
    "A"
   ]
  },
  {
   "cell_type": "code",
   "execution_count": 67,
   "metadata": {},
   "outputs": [
    {
     "data": {
      "text/plain": [
       "3×3 SharedArray{Int64,2}:\n",
       " 2  2  2\n",
       " 3  3  3\n",
       " 4  4  4"
      ]
     },
     "execution_count": 67,
     "metadata": {},
     "output_type": "execute_result"
    }
   ],
   "source": [
    "# można dzielić tablicę inaczej \n",
    "#tutaj cyklicznie od swojego indeksu co ilość workerów aż do długości tablicy\n",
    "S = SharedArray{Int,2}((3,3), init = S -> S[indexpids(S):length(procs(S)):length(S)] = myid())"
   ]
  },
  {
   "cell_type": "code",
   "execution_count": 68,
   "metadata": {},
   "outputs": [
    {
     "data": {
      "text/plain": [
       "3×3 Array{Int64,2}:\n",
       " 2  2  2\n",
       " 3  3  3\n",
       " 4  4  4"
      ]
     },
     "execution_count": 68,
     "metadata": {},
     "output_type": "execute_result"
    }
   ],
   "source": [
    "# zwraca dane w SharedArray jako Array\n",
    "sdata(S)"
   ]
  },
  {
   "cell_type": "code",
   "execution_count": 69,
   "metadata": {},
   "outputs": [
    {
     "data": {
      "text/plain": [
       "3×3 SharedArray{Int64,2}:\n",
       " 3  2  3\n",
       " 3  2  3\n",
       " 3  2  3"
      ]
     },
     "execution_count": 69,
     "metadata": {},
     "output_type": "execute_result"
    }
   ],
   "source": [
    "# jeśli nie zadbamy o logiczny podział, to wynik może być niedeterministyczny \n",
    "# np. każdy worker wypełnia  całą tablicę swoim identyfikatorem\n",
    "# wynik jest niedeterministyczny - zależy od kolejności w jakiej workerzy wypełniają tę tablicę \n",
    "@sync begin\n",
    "    for p in procs(S)\n",
    "        @async begin\n",
    "            remotecall_wait(fill!, p, S, p)\n",
    "        end\n",
    "    end\n",
    "end\n",
    "S"
   ]
  },
  {
   "cell_type": "code",
   "execution_count": 70,
   "metadata": {},
   "outputs": [
    {
     "data": {
      "text/plain": [
       "0.0:2.5:10.0"
      ]
     },
     "execution_count": 70,
     "metadata": {},
     "output_type": "execute_result"
    }
   ],
   "source": [
    "# pomocniczo: tworzy linspace 5-ciu równoodległych elementów od 0 do 10\n",
    "linspace(0,10,5)"
   ]
  },
  {
   "cell_type": "code",
   "execution_count": 71,
   "metadata": {},
   "outputs": [
    {
     "data": {
      "text/plain": [
       "5"
      ]
     },
     "execution_count": 71,
     "metadata": {},
     "output_type": "execute_result"
    }
   ],
   "source": [
    "# pomocniczo: zaokrąglanie\n",
    "round(Int, 4.51)"
   ]
  },
  {
   "cell_type": "code",
   "execution_count": 72,
   "metadata": {},
   "outputs": [
    {
     "data": {
      "text/plain": [
       "5-element Array{Int64,1}:\n",
       "  0\n",
       "  2\n",
       "  5\n",
       "  8\n",
       " 10"
      ]
     },
     "execution_count": 72,
     "metadata": {},
     "output_type": "execute_result"
    }
   ],
   "source": [
    " # pomocniczo: tworzy linspace 5-ciu równoodległych elementów od 0 do 10 i zaokrągla\n",
    "[round(Int, s) for s in linspace(0,10,5)]"
   ]
  },
  {
   "cell_type": "code",
   "execution_count": 73,
   "metadata": {},
   "outputs": [],
   "source": [
    "# żeby mieć wpływ na to, który worker działa na którym elemencie tablicy \n",
    "# możemy stworzyć ręczny podział tablicy\n",
    "# każdy worker wylicza, który kawałek tablicy dostanie\n",
    "@everywhere function myrange(q::SharedArray)\n",
    "    idx = indexpids(q)\n",
    "    if idx == 0\n",
    "        # master nie dostaje kawałka \n",
    "        return 1:0, 1:0\n",
    "    end\n",
    "    # na ile mamy podzielić?\n",
    "    nchunks = length(procs(q))\n",
    "    \n",
    "    # wyliczamy granice podziałów\n",
    "    splits = [round(Int, s) for s in linspace(0,size(q,2),nchunks+1)]\n",
    "    # zwracamy granice podziałów w odpowiednim formacie\n",
    "    1:size(q,1), splits[idx]+1:splits[idx+1]\n",
    "end\n",
    "\n",
    "# kernel obliczeniowy \n",
    "@everywhere function advection_chunk!(q, u, irange, jrange, trange)\n",
    "    @show (irange, jrange, trange)  # wyświetlanie\n",
    "    for t in trange, j in jrange, i in irange\n",
    "        q[i,j,t+1] = q[i,j,t] +  u[i,j,t]\n",
    "    end\n",
    "    q\n",
    "end\n",
    "\n",
    "#  definiujemy obliczenie kernela z wyliczonym podziałem przez funkcje myrange()\n",
    "@everywhere advection_shared_chunk!(q, u) = advection_chunk!(q, u, myrange(q)..., 1:size(q,3)-1)\n"
   ]
  },
  {
   "cell_type": "code",
   "execution_count": 74,
   "metadata": {},
   "outputs": [
    {
     "data": {
      "text/plain": [
       "advection_shared! (generic function with 1 method)"
      ]
     },
     "execution_count": 74,
     "metadata": {},
     "output_type": "execute_result"
    }
   ],
   "source": [
    "# wersja 1: wywołanie funkcji wg wyliczonego podziału na wielu workerach.\n",
    "function advection_shared!(q, u)\n",
    "    @sync begin\n",
    "        for p in procs(q)\n",
    "            @async remotecall_wait(advection_shared_chunk!, p, q, u)\n",
    "        end\n",
    "    end\n",
    "    q\n",
    "end\n"
   ]
  },
  {
   "cell_type": "code",
   "execution_count": 75,
   "metadata": {},
   "outputs": [
    {
     "data": {
      "text/plain": [
       "advection_serial! (generic function with 1 method)"
      ]
     },
     "execution_count": 75,
     "metadata": {},
     "output_type": "execute_result"
    }
   ],
   "source": [
    "# wersja 2: sekwencyjne obliczanie\n",
    "advection_serial!(q, u) = advection_chunk!(q, u, 1:size(q,1), 1:size(q,2), 1:size(q,3)-1)\n"
   ]
  },
  {
   "cell_type": "code",
   "execution_count": 76,
   "metadata": {},
   "outputs": [
    {
     "data": {
      "text/plain": [
       "advection_parallel! (generic function with 1 method)"
      ]
     },
     "execution_count": 76,
     "metadata": {},
     "output_type": "execute_result"
    }
   ],
   "source": [
    "#  wersja 3: nie korzysta z ręcznego podziału, tylko z makra @parallel działającego drobnoziarniście \n",
    "# wzdłuż drugiej współrzędnej\n",
    "function advection_parallel!(q, u)\n",
    "    for t = 1:size(q,3)-1\n",
    "        @sync @parallel for j = 1:size(q,2)\n",
    "            for i = 1:size(q,1)\n",
    "                q[i,j,t+1]= q[i,j,t] + u[i,j,t]\n",
    "            end\n",
    "        end\n",
    "    end\n",
    "    q\n",
    "end\n"
   ]
  },
  {
   "cell_type": "code",
   "execution_count": 77,
   "metadata": {},
   "outputs": [
    {
     "data": {
      "image/png": "[encoded data removed]",
      "text/plain": [
       "554×888 Array{RGBA{N0f8},2}:\n",
       " RGBA{N0f8}(0.0,0.0,0.0,0.0)  …  RGBA{N0f8}(0.0,0.0,0.0,0.0)        \n",
       " RGBA{N0f8}(0.0,0.0,0.0,0.0)     RGBA{N0f8}(0.0,0.0,0.0,0.0)        \n",
       " RGBA{N0f8}(0.0,0.0,0.0,0.0)     RGBA{N0f8}(0.0,0.0,0.0,0.0)        \n",
       " RGBA{N0f8}(0.0,0.0,0.0,0.0)     RGBA{N0f8}(0.0,0.0,0.0,0.0)        \n",
       " RGBA{N0f8}(0.0,0.0,0.0,0.0)     RGBA{N0f8}(0.0,0.0,0.0,0.0)        \n",
       " RGBA{N0f8}(0.0,0.0,0.0,0.0)  …  RGBA{N0f8}(0.0,0.0,0.0,0.0)        \n",
       " RGBA{N0f8}(0.0,0.0,0.0,0.0)     RGBA{N0f8}(0.0,0.0,0.0,0.0)        \n",
       " RGBA{N0f8}(0.0,0.0,0.0,0.0)     RGBA{N0f8}(0.0,0.0,0.0,0.0)        \n",
       " RGBA{N0f8}(0.0,0.0,0.0,0.0)     RGBA{N0f8}(0.0,0.0,0.0,0.0)        \n",
       " RGBA{N0f8}(0.0,0.0,0.0,0.0)     RGBA{N0f8}(0.0,0.0,0.0,0.0)        \n",
       " RGBA{N0f8}(0.0,0.0,0.0,0.0)  …  RGBA{N0f8}(0.0,0.0,0.0,0.0)        \n",
       " RGBA{N0f8}(0.0,0.0,0.0,0.0)     RGBA{N0f8}(0.0,0.0,0.0,0.0)        \n",
       " RGBA{N0f8}(0.0,0.0,0.0,0.0)     RGBA{N0f8}(0.0,0.0,0.0,0.0)        \n",
       " ⋮                            ⋱                                     \n",
       " RGBA{N0f8}(0.0,0.0,0.0,0.0)     RGBA{N0f8}(0.467,0.576,0.235,1.0)  \n",
       " RGBA{N0f8}(0.0,0.0,0.0,0.0)     RGBA{N0f8}(0.467,0.576,0.235,1.0)  \n",
       " RGBA{N0f8}(0.0,0.0,0.0,0.0)     RGBA{N0f8}(0.467,0.576,0.235,1.0)  \n",
       " RGBA{N0f8}(0.0,0.0,0.0,0.0)  …  RGBA{N0f8}(0.467,0.576,0.235,1.0)  \n",
       " RGBA{N0f8}(0.0,0.0,0.0,0.0)     RGBA{N0f8}(0.467,0.584,0.231,0.188)\n",
       " RGBA{N0f8}(0.0,0.0,0.0,0.0)     RGBA{N0f8}(0.0,0.0,0.0,0.0)        \n",
       " RGBA{N0f8}(0.0,0.0,0.0,0.0)     RGBA{N0f8}(0.0,0.0,0.0,0.0)        \n",
       " RGBA{N0f8}(0.0,0.0,0.0,0.0)     RGBA{N0f8}(0.0,0.0,0.0,0.0)        \n",
       " RGBA{N0f8}(0.0,0.0,0.0,0.0)  …  RGBA{N0f8}(0.0,0.0,0.0,0.0)        \n",
       " RGBA{N0f8}(0.0,0.0,0.0,0.0)     RGBA{N0f8}(0.0,0.0,0.0,0.0)        \n",
       " RGBA{N0f8}(0.0,0.0,0.0,0.0)     RGBA{N0f8}(0.0,0.0,0.0,0.0)        \n",
       " RGBA{N0f8}(0.0,0.0,0.0,0.0)     RGBA{N0f8}(0.0,0.0,0.0,0.0)        "
      ]
     },
     "execution_count": 77,
     "metadata": {},
     "output_type": "execute_result"
    }
   ],
   "source": [
    "using Images\n",
    "using FileIO\n",
    "img = load(\"shared_arrays.png\")"
   ]
  },
  {
   "cell_type": "code",
   "execution_count": 78,
   "metadata": {},
   "outputs": [
    {
     "name": "stdout",
     "output_type": "stream",
     "text": [
      "(irange, jrange, trange) = (1:100, 1:100, 1:99)\n",
      "\tFrom worker 3:\t(irange, jrange, trange) = (1:100, 34:67, 1:99)\n",
      "\tFrom worker 2:\t(irange, jrange, trange) = (1:100, 1:33, 1:99)\n",
      "\tFrom worker 4:\t(irange, jrange, trange) = (1:100, 68:100, 1:99)\n"
     ]
    }
   ],
   "source": [
    "q = SharedArray(Float64, (100,100,100))\n",
    "u = SharedArray(Float64, (100,100,100))\n",
    "\n",
    "# Uruchamiamy do celów kompilacji\n",
    "advection_serial!(q, u)\n",
    "advection_parallel!(q, u)\n",
    "advection_shared!(q,u);\n",
    "\n"
   ]
  },
  {
   "cell_type": "code",
   "execution_count": 79,
   "metadata": {},
   "outputs": [
    {
     "name": "stdout",
     "output_type": "stream",
     "text": [
      "(irange, jrange, trange) = (1:100, 1:100, 1:99)\n",
      "  0.012273 seconds (156 allocations: 5.359 KiB)\n"
     ]
    }
   ],
   "source": [
    "@time advection_serial!(q, u);"
   ]
  },
  {
   "cell_type": "code",
   "execution_count": 80,
   "metadata": {},
   "outputs": [
    {
     "name": "stdout",
     "output_type": "stream",
     "text": [
      "\tFrom worker 2:\t(irange, jrange, trange) = (1:100, 1:33, 1:99)\n",
      "\tFrom worker 3:\t(irange, jrange, trange) = (1:100, 34:67, 1:99)\n",
      "\tFrom worker 4:\t(irange, jrange, trange) = (1:100, 68:100, 1:99)\n",
      "  0.005609 seconds (756 allocations: 44.078 KiB)\n"
     ]
    }
   ],
   "source": [
    "@time advection_shared!(q,u);"
   ]
  },
  {
   "cell_type": "code",
   "execution_count": 81,
   "metadata": {},
   "outputs": [
    {
     "name": "stdout",
     "output_type": "stream",
     "text": [
      "  0.405066 seconds (69.73 k allocations: 2.912 MiB)\n"
     ]
    }
   ],
   "source": [
    "@time advection_parallel!(q, u);"
   ]
  },
  {
   "cell_type": "markdown",
   "metadata": {},
   "source": [
    "### Menadżer klastra"
   ]
  },
  {
   "cell_type": "markdown",
   "metadata": {},
   "source": [
    "Uruchomienie, zarządzanie i łączenie procesów Julii w logiczny klaster odbywa się za pośrednictwem menedżerów klastrów. ClusterManager odpowiedzialny jest za\n",
    "\n",
    "- uruchamianie procesów roboczych (workerów)\n",
    "- zarządzanie zdarzeniami w trakcie życia workerów\n",
    "- transport danych (opcjonalnie)\n",
    "\n",
    "Klaster Julii ma następujące cechy:\n",
    "\n",
    "-   proces nadrzędny (master) ma identyfikator równy 1.\n",
    "-   tylko proces nadrzędny może dodawać lub usuwać workerów.\n",
    "-   wszystkie procesy mogą się komunikować ze sobą nawzajem.\n",
    "\n",
    "Połączenia między workerami (przy użyciu wbudowanego transportu TCP / IP) są ustalane w następujący sposób:\n",
    "\n",
    " - Addprocs() jest wywoływany w procesie nadrzędnym \n",
    " - Addprocs() wywołuje odpowiednią metodę launch(), która uruchamia wymaganą liczbę procesów roboczych na odpowiednich maszynach\n",
    " - Każdy worker zaczyna słuchać na wolnym porcie i wypisuje informacje o hostach i portach na STDOUT\n",
    " - Menedżer klastrów przechwytuje STDOUT workerów i udostępnia je do procesu nadrzędnego\n",
    " - Master  nawiązuje połączenia TCP / IP z każdym workerem\n",
    " - Każdy worker jest również informowany o innych workerach\n",
    " - Każdy worker łączy się ze wszystkimi workerami, których identyfikator jest mniejszy niż identyfikator danego workera\n",
    "    W ten sposób powstaje sieć powiązań, w której każdy worker jest bezpośrednio związany z każdym innym workerem\n",
    "\n",
    "\n",
    "\n",
    "Julia oferuje dwóch wbudowanych menedżerów klastrów:\n",
    "\n",
    "    - LocalManager  - do uruchamiania dodatkowych workerów na tym samym hoście, wykorzystując wiele rdzeni (Użycie addprocs() lub addprocs(np :: Integer))\n",
    "    - SSHManager -do uruchamiania dodatkowych workerów na zdalnych hotach dostępnych przez SSH,(użycie addprocs (hostnames :: Array) -  lista nazw hostów)\n",
    "\n"
   ]
  },
  {
   "cell_type": "markdown",
   "metadata": {
    "collapsed": true
   },
   "source": [
    "## Tablice rozproszone\n",
    "- Każdy proces ma dostęp do swojej części tablicy.\n",
    "- Pozwalają na wykorzystanie pamięci wielu węzłów.\n",
    "- przydatne w środowisku rozproszonym, gdzie węzły nie mają pamięci wspólnej\n",
    "```julia\n",
    "Pkg.add(\"DistributedArrays\")\n",
    "```"
   ]
  },
  {
   "cell_type": "code",
   "execution_count": 82,
   "metadata": {},
   "outputs": [],
   "source": [
    "# @everywhere - wykonuje sie na kazdym procesie\n",
    "@everywhere using DistributedArrays"
   ]
  },
  {
   "cell_type": "code",
   "execution_count": 83,
   "metadata": {},
   "outputs": [
    {
     "data": {
      "text/plain": [
       "5×5 DistributedArrays.DArray{Tuple{Int64,Int64},2,Array{Tuple{Int64,Int64},2}}:\n",
       " (1, 1)  (1, 2)  (1, 3)  (1, 4)  (1, 5)\n",
       " (2, 1)  (2, 2)  (2, 3)  (2, 4)  (2, 5)\n",
       " (3, 1)  (3, 2)  (3, 3)  (3, 4)  (3, 5)\n",
       " (4, 1)  (4, 2)  (4, 3)  (4, 4)  (4, 5)\n",
       " (5, 1)  (5, 2)  (5, 3)  (5, 4)  (5, 5)"
      ]
     },
     "execution_count": 83,
     "metadata": {},
     "output_type": "execute_result"
    }
   ],
   "source": [
    "#tworzymy tablicę rozproszona pomiędzy workery \n",
    "DA1 = @DArray [(i, j) for i = 1:5, j = 1:5]"
   ]
  },
  {
   "cell_type": "code",
   "execution_count": 84,
   "metadata": {},
   "outputs": [
    {
     "name": "stdout",
     "output_type": "stream",
     "text": [
      "(1:5, 1:2)\n",
      "(1:5, 3:3)\n",
      "(1:5, 4:5)\n"
     ]
    }
   ],
   "source": [
    "# localindexes - funkcja pokazujaca jaki zakres indeksów obejmuje dany worker\n",
    "#funkcja remotecall() zwraca future, które później jest użyte do ściągnięcia wyniku w funkcji fetch() \n",
    "refs = [remotecall(localindexes,w,DA1) for w in workers()]\n",
    "for r in refs\n",
    "     d = fetch(r)\n",
    "     println(d)\n",
    "end"
   ]
  },
  {
   "cell_type": "code",
   "execution_count": 85,
   "metadata": {},
   "outputs": [
    {
     "name": "stdout",
     "output_type": "stream",
     "text": [
      "----------\n",
      "Tuple{Int64,Int64}[(1, 1) (1, 2); (2, 1) (2, 2); (3, 1) (3, 2); (4, 1) (4, 2); (5, 1) (5, 2)]\n",
      "----------\n",
      "Tuple{Int64,Int64}[(1, 3); (2, 3); (3, 3); (4, 3); (5, 3)]\n",
      "----------\n",
      "Tuple{Int64,Int64}[(1, 4) (1, 5); (2, 4) (2, 5); (3, 4) (3, 5); (4, 4) (4, 5); (5, 4) (5, 5)]\n"
     ]
    }
   ],
   "source": [
    "# localpart - jaka część tablicy przyporządkowana jest danemu workerowi\n",
    "refs = [remotecall(localpart,w,DA1) for w in workers()]\n",
    "for r in refs\n",
    "     d = fetch(r)\n",
    "     print(\"----------\\n\")\n",
    "     println(d)\n",
    "end"
   ]
  },
  {
   "cell_type": "code",
   "execution_count": 86,
   "metadata": {},
   "outputs": [],
   "source": [
    "#przykład przetwarzania tablicy rozproszonej\n",
    "@everywhere function processingExample(d::DArray)\n",
    "        println(size(d), \" \", procs(d))\n",
    "         # konstruktor tablicy rozproszonej, podajemy całkowity rozmiar, listę procesów oraz blok do...end inicjalizujacy \n",
    "         # tablicę\n",
    "        DArray(size(d),procs(d)) do I\n",
    "          println(\"mój zakres \", I)\n",
    "          fill( myid(),(length(I[1]), length(I[2])))\n",
    "        end\n",
    "end"
   ]
  },
  {
   "cell_type": "code",
   "execution_count": 87,
   "metadata": {},
   "outputs": [
    {
     "name": "stdout",
     "output_type": "stream",
     "text": [
      "(5, 5) [2 3 4]\n",
      "\tFrom worker 2:\tmój zakres (1:5, 1:2)\n",
      "\tFrom worker 3:\tmój zakres (1:5, 3:3)\n",
      "\tFrom worker 4:\tmój zakres (1:5, 4:5)\n"
     ]
    },
    {
     "data": {
      "text/plain": [
       "5×5 DistributedArrays.DArray{Int64,2,Array{Int64,2}}:\n",
       " 2  2  3  4  4\n",
       " 2  2  3  4  4\n",
       " 2  2  3  4  4\n",
       " 2  2  3  4  4\n",
       " 2  2  3  4  4"
      ]
     },
     "execution_count": 87,
     "metadata": {},
     "output_type": "execute_result"
    }
   ],
   "source": [
    "processingExample(DA1)"
   ]
  },
  {
   "cell_type": "markdown",
   "metadata": {},
   "source": [
    "### Przykład -  Gra w życie\n",
    "https://pl.wikipedia.org/wiki/Gra_w_%C5%BCycie"
   ]
  },
  {
   "cell_type": "code",
   "execution_count": 88,
   "metadata": {},
   "outputs": [],
   "source": [
    "# Przykład komunikacji z najbliższymi sąsiadami -  gra w życie\n",
    "#Sciaganie danych od sąsiadów jest realizowane przez kopiowanie danych wg odpowiednich indeksów\n",
    "\n",
    "@everywhere function life_step(d::DArray)\n",
    "        println(size(d), \" \", procs(d))\n",
    "         # konstruktor tablicy rozproszonej, podajemy całkowity rozmiar, listę procesów oraz blok do...end inicjalizujacy \n",
    "         # tablicę\n",
    "        DArray(size(d),procs(d)) do I\n",
    "        \n",
    "            # granice powiększone o brzegi sąsiadów\n",
    "            top   = mod(first(I[1])-2,size(d,1))+1\n",
    "            bot   = mod( last(I[1])  ,size(d,1))+1\n",
    "            left  = mod(first(I[2])-2,size(d,2))+1\n",
    "            right = mod( last(I[2])  ,size(d,2))+1\n",
    "            println(\"Mój zakres \", I, \" mój zakres + sąsiadujące brzegi \", \" bot=\", bot, \" top=\",top,\" left=\", left, \" right=\",right) \n",
    "           \n",
    "           \n",
    "            # lokalna tablica , do której ściagane są dane od sąsiadów\n",
    "            old = Array{Int64}(length(I[1])+2, length(I[2])+2)\n",
    "     \n",
    "            old[1      , 1      ] = d[top , left]   # left side\n",
    "            old[2:end-1, 1      ] = d[I[1], left]\n",
    "            old[end    , 1      ] = d[bot , left]\n",
    "            old[1      , 2:end-1] = d[top , I[2]]\n",
    "            old[2:end-1, 2:end-1] = d[I[1], I[2]]   # middle\n",
    "            old[end    , 2:end-1] = d[bot , I[2]]\n",
    "            old[1      , end    ] = d[top , right]  # right side\n",
    "            old[2:end-1, end    ] = d[I[1], right]\n",
    "            old[end    , end    ] = d[bot , right]\n",
    "          \n",
    "            # zwracana tablica new to wynik przetworzenia (lokalnie) naszej części tablicy, z której skomponowana zostanie wyjściowa\n",
    "            # tablica rozproszona\n",
    "            new=life_rule(old)\n",
    "         \n",
    "         \n",
    "        end\n",
    "    end"
   ]
  },
  {
   "cell_type": "code",
   "execution_count": 89,
   "metadata": {},
   "outputs": [],
   "source": [
    "# reguła gry w życie (uruchamiana na lokalnych danych)\n",
    "@everywhere function life_rule(old)\n",
    "        m, n = size(old)\n",
    "        new = similar(old, m-2, n-2)\n",
    "        for j = 2:n-1\n",
    "            for i = 2:m-1\n",
    "                nc = +(old[i-1,j-1], old[i-1,j], old[i-1,j+1],\n",
    "                       old[i  ,j-1],             old[i  ,j+1],\n",
    "                       old[i+1,j-1], old[i+1,j], old[i+1,j+1])\n",
    "                new[i-1,j-1] = (nc == 3 || nc == 2 && old[i,j])\n",
    "            end\n",
    "        end\n",
    "        new\n",
    "    end"
   ]
  },
  {
   "cell_type": "code",
   "execution_count": 90,
   "metadata": {},
   "outputs": [
    {
     "data": {
      "text/plain": [
       "15×15 DistributedArrays.DArray{Int64,2,Array{Int64,2}}:\n",
       " 0  1  0  1  0  1  0  1  0  1  0  1  0  1  0\n",
       " 1  0  1  0  1  0  1  0  1  0  1  0  1  0  1\n",
       " 0  1  0  1  0  1  0  1  0  1  0  1  0  1  0\n",
       " 1  0  1  0  1  0  1  0  1  0  1  0  1  0  1\n",
       " 0  1  0  1  0  1  0  1  0  1  0  1  0  1  0\n",
       " 1  0  1  0  1  0  1  0  1  0  1  0  1  0  1\n",
       " 0  1  0  1  0  1  0  1  0  1  0  1  0  1  0\n",
       " 1  0  1  0  1  0  1  0  1  0  1  0  1  0  1\n",
       " 0  1  0  1  0  1  0  1  0  1  0  1  0  1  0\n",
       " 1  0  1  0  1  0  1  0  1  0  1  0  1  0  1\n",
       " 0  1  0  1  0  1  0  1  0  1  0  1  0  1  0\n",
       " 1  0  1  0  1  0  1  0  1  0  1  0  1  0  1\n",
       " 0  1  0  1  0  1  0  1  0  1  0  1  0  1  0\n",
       " 1  0  1  0  1  0  1  0  1  0  1  0  1  0  1\n",
       " 0  1  0  1  0  1  0  1  0  1  0  1  0  1  0"
      ]
     },
     "execution_count": 90,
     "metadata": {},
     "output_type": "execute_result"
    }
   ],
   "source": [
    "# przykładowa tablica wejściowa\n",
    "DA = @DArray [((i+j)%2) for i = 1:15, j = 1:15]"
   ]
  },
  {
   "cell_type": "code",
   "execution_count": 91,
   "metadata": {},
   "outputs": [
    {
     "name": "stdout",
     "output_type": "stream",
     "text": [
      "(15, 15) [2 3 4]\n",
      "\tFrom worker 4:\tMój zakres (1:15, 11:15) mój zakres + sąsiadujące brzegi  bot=1 top=15 left=10 right=1\n",
      "\tFrom worker 3:\tMój zakres (1:15, 6:10) mój zakres + sąsiadujące brzegi  bot=1 top=15 left=5 right=11\n",
      "\tFrom worker 2:\tMój zakres (1:15, 1:5) mój zakres + sąsiadujące brzegi  bot=1 top=15 left=15 right=6\n"
     ]
    },
    {
     "data": {
      "text/plain": [
       "15×15 DistributedArrays.DArray{Int64,2,Array{Int64,2}}:\n",
       " 0  1  0  1  0  1  0  1  0  1  0  1  0  1  0\n",
       " 1  0  0  0  0  0  0  0  0  0  0  0  0  0  1\n",
       " 0  0  0  0  0  0  0  0  0  0  0  0  0  0  0\n",
       " 1  0  0  0  0  0  0  0  0  0  0  0  0  0  1\n",
       " 0  0  0  0  0  0  0  0  0  0  0  0  0  0  0\n",
       " 1  0  0  0  0  0  0  0  0  0  0  0  0  0  1\n",
       " 0  0  0  0  0  0  0  0  0  0  0  0  0  0  0\n",
       " 1  0  0  0  0  0  0  0  0  0  0  0  0  0  1\n",
       " 0  0  0  0  0  0  0  0  0  0  0  0  0  0  0\n",
       " 1  0  0  0  0  0  0  0  0  0  0  0  0  0  1\n",
       " 0  0  0  0  0  0  0  0  0  0  0  0  0  0  0\n",
       " 1  0  0  0  0  0  0  0  0  0  0  0  0  0  1\n",
       " 0  0  0  0  0  0  0  0  0  0  0  0  0  0  0\n",
       " 1  0  0  0  0  0  0  0  0  0  0  0  0  0  1\n",
       " 0  1  0  1  0  1  0  1  0  1  0  1  0  1  0"
      ]
     },
     "execution_count": 91,
     "metadata": {},
     "output_type": "execute_result"
    }
   ],
   "source": [
    "# krok gry w życie\n",
    "life_step(DA)"
   ]
  },
  {
   "cell_type": "markdown",
   "metadata": {},
   "source": [
    "### Zbiór Julii"
   ]
  },
  {
   "cell_type": "code",
   "execution_count": 2,
   "metadata": {
    "scrolled": true
   },
   "outputs": [
    {
     "name": "stdout",
     "output_type": "stream",
     "text": [
      "-1.8019009504752377-0.8999499749874937\n",
      "  2.207852 seconds (12.02 M allocations: 672.429 MiB, 9.76% gc time)\n"
     ]
    },
    {
     "data": {
      "image/svg+xml": [
       "<?xml version=\"1.0\" encoding=\"utf-8\"?>\n",
       "<svg xmlns=\"http://www.w3.org/2000/svg\" xmlns:xlink=\"http://www.w3.org/1999/xlink\" width=\"600\" height=\"400\" viewBox=\"0 0 600 400\">\n",
       "<defs>\n",
       "  <clipPath id=\"clip3600\">\n",
       "    <rect x=\"0\" y=\"0\" width=\"600\" height=\"400\"/>\n",
       "  </clipPath>\n",
       "</defs>\n",
       "<polygon clip-path=\"url(#clip3600)\" points=\"\n",
       "0,400 600,400 600,0 0,0 \n",
       "  \" fill=\"#ffffff\" fill-opacity=\"1\"/>\n",
       "<defs>\n",
       "  <clipPath id=\"clip3601\">\n",
       "    <rect x=\"120\" y=\"0\" width=\"421\" height=\"400\"/>\n",
       "  </clipPath>\n",
       "</defs>\n",
       "<polygon clip-path=\"url(#clip3600)\" points=\"\n",
       "39.502,375.869 520.315,375.869 520.315,11.811 39.502,11.811 \n",
       "  \" fill=\"#ffffff\" fill-opacity=\"1\"/>\n",
       "<defs>\n",
       "  <clipPath id=\"clip3602\">\n",
       "    <rect x=\"39\" y=\"11\" width=\"482\" height=\"365\"/>\n",
       "  </clipPath>\n",
       "</defs>\n",
       "<polyline clip-path=\"url(#clip3602)\" style=\"stroke:#000000; stroke-width:0.5; stroke-opacity:0.1; fill:none\" points=\"\n",
       "  39.6222,375.869 39.6222,11.811 \n",
       "  \"/>\n",
       "<polyline clip-path=\"url(#clip3602)\" style=\"stroke:#000000; stroke-width:0.5; stroke-opacity:0.1; fill:none\" points=\"\n",
       "  159.765,375.869 159.765,11.811 \n",
       "  \"/>\n",
       "<polyline clip-path=\"url(#clip3602)\" style=\"stroke:#000000; stroke-width:0.5; stroke-opacity:0.1; fill:none\" points=\"\n",
       "  279.908,375.869 279.908,11.811 \n",
       "  \"/>\n",
       "<polyline clip-path=\"url(#clip3602)\" style=\"stroke:#000000; stroke-width:0.5; stroke-opacity:0.1; fill:none\" points=\"\n",
       "  400.052,375.869 400.052,11.811 \n",
       "  \"/>\n",
       "<polyline clip-path=\"url(#clip3602)\" style=\"stroke:#000000; stroke-width:0.5; stroke-opacity:0.1; fill:none\" points=\"\n",
       "  520.195,375.869 520.195,11.811 \n",
       "  \"/>\n",
       "<polyline clip-path=\"url(#clip3602)\" style=\"stroke:#000000; stroke-width:0.5; stroke-opacity:0.1; fill:none\" points=\"\n",
       "  39.502,375.778 520.315,375.778 \n",
       "  \"/>\n",
       "<polyline clip-path=\"url(#clip3602)\" style=\"stroke:#000000; stroke-width:0.5; stroke-opacity:0.1; fill:none\" points=\"\n",
       "  39.502,284.809 520.315,284.809 \n",
       "  \"/>\n",
       "<polyline clip-path=\"url(#clip3602)\" style=\"stroke:#000000; stroke-width:0.5; stroke-opacity:0.1; fill:none\" points=\"\n",
       "  39.502,193.84 520.315,193.84 \n",
       "  \"/>\n",
       "<polyline clip-path=\"url(#clip3602)\" style=\"stroke:#000000; stroke-width:0.5; stroke-opacity:0.1; fill:none\" points=\"\n",
       "  39.502,102.871 520.315,102.871 \n",
       "  \"/>\n",
       "<polyline clip-path=\"url(#clip3602)\" style=\"stroke:#000000; stroke-width:0.5; stroke-opacity:0.1; fill:none\" points=\"\n",
       "  39.502,11.902 520.315,11.902 \n",
       "  \"/>\n",
       "<polyline clip-path=\"url(#clip3600)\" style=\"stroke:#000000; stroke-width:1; stroke-opacity:1; fill:none\" points=\"\n",
       "  39.502,375.869 520.315,375.869 \n",
       "  \"/>\n",
       "<polyline clip-path=\"url(#clip3600)\" style=\"stroke:#000000; stroke-width:1; stroke-opacity:1; fill:none\" points=\"\n",
       "  39.502,375.869 39.502,11.811 \n",
       "  \"/>\n",
       "<polyline clip-path=\"url(#clip3600)\" style=\"stroke:#000000; stroke-width:1; stroke-opacity:1; fill:none\" points=\"\n",
       "  39.6222,375.869 39.6222,370.408 \n",
       "  \"/>\n",
       "<polyline clip-path=\"url(#clip3600)\" style=\"stroke:#000000; stroke-width:1; stroke-opacity:1; fill:none\" points=\"\n",
       "  159.765,375.869 159.765,370.408 \n",
       "  \"/>\n",
       "<polyline clip-path=\"url(#clip3600)\" style=\"stroke:#000000; stroke-width:1; stroke-opacity:1; fill:none\" points=\"\n",
       "  279.908,375.869 279.908,370.408 \n",
       "  \"/>\n",
       "<polyline clip-path=\"url(#clip3600)\" style=\"stroke:#000000; stroke-width:1; stroke-opacity:1; fill:none\" points=\"\n",
       "  400.052,375.869 400.052,370.408 \n",
       "  \"/>\n",
       "<polyline clip-path=\"url(#clip3600)\" style=\"stroke:#000000; stroke-width:1; stroke-opacity:1; fill:none\" points=\"\n",
       "  520.195,375.869 520.195,370.408 \n",
       "  \"/>\n",
       "<polyline clip-path=\"url(#clip3600)\" style=\"stroke:#000000; stroke-width:1; stroke-opacity:1; fill:none\" points=\"\n",
       "  39.502,375.778 46.7142,375.778 \n",
       "  \"/>\n",
       "<polyline clip-path=\"url(#clip3600)\" style=\"stroke:#000000; stroke-width:1; stroke-opacity:1; fill:none\" points=\"\n",
       "  39.502,284.809 46.7142,284.809 \n",
       "  \"/>\n",
       "<polyline clip-path=\"url(#clip3600)\" style=\"stroke:#000000; stroke-width:1; stroke-opacity:1; fill:none\" points=\"\n",
       "  39.502,193.84 46.7142,193.84 \n",
       "  \"/>\n",
       "<polyline clip-path=\"url(#clip3600)\" style=\"stroke:#000000; stroke-width:1; stroke-opacity:1; fill:none\" points=\"\n",
       "  39.502,102.871 46.7142,102.871 \n",
       "  \"/>\n",
       "<polyline clip-path=\"url(#clip3600)\" style=\"stroke:#000000; stroke-width:1; stroke-opacity:1; fill:none\" points=\"\n",
       "  39.502,11.902 46.7142,11.902 \n",
       "  \"/>\n",
       "<g clip-path=\"url(#clip3600)\">\n",
       "<text style=\"fill:#000000; fill-opacity:1; font-family:Arial,Helvetica Neue,Helvetica,sans-serif; font-size:12; text-anchor:middle;\" transform=\"rotate(0, 39.6222, 389.669)\" x=\"39.6222\" y=\"389.669\">-2</text>\n",
       "</g>\n",
       "<g clip-path=\"url(#clip3600)\">\n",
       "<text style=\"fill:#000000; fill-opacity:1; font-family:Arial,Helvetica Neue,Helvetica,sans-serif; font-size:12; text-anchor:middle;\" transform=\"rotate(0, 159.765, 389.669)\" x=\"159.765\" y=\"389.669\">-1</text>\n",
       "</g>\n",
       "<g clip-path=\"url(#clip3600)\">\n",
       "<text style=\"fill:#000000; fill-opacity:1; font-family:Arial,Helvetica Neue,Helvetica,sans-serif; font-size:12; text-anchor:middle;\" transform=\"rotate(0, 279.908, 389.669)\" x=\"279.908\" y=\"389.669\">0</text>\n",
       "</g>\n",
       "<g clip-path=\"url(#clip3600)\">\n",
       "<text style=\"fill:#000000; fill-opacity:1; font-family:Arial,Helvetica Neue,Helvetica,sans-serif; font-size:12; text-anchor:middle;\" transform=\"rotate(0, 400.052, 389.669)\" x=\"400.052\" y=\"389.669\">1</text>\n",
       "</g>\n",
       "<g clip-path=\"url(#clip3600)\">\n",
       "<text style=\"fill:#000000; fill-opacity:1; font-family:Arial,Helvetica Neue,Helvetica,sans-serif; font-size:12; text-anchor:middle;\" transform=\"rotate(0, 520.195, 389.669)\" x=\"520.195\" y=\"389.669\">2</text>\n",
       "</g>\n",
       "<g clip-path=\"url(#clip3600)\">\n",
       "<text style=\"fill:#000000; fill-opacity:1; font-family:Arial,Helvetica Neue,Helvetica,sans-serif; font-size:12; text-anchor:end;\" transform=\"rotate(0, 33.502, 380.278)\" x=\"33.502\" y=\"380.278\">-1.0</text>\n",
       "</g>\n",
       "<g clip-path=\"url(#clip3600)\">\n",
       "<text style=\"fill:#000000; fill-opacity:1; font-family:Arial,Helvetica Neue,Helvetica,sans-serif; font-size:12; text-anchor:end;\" transform=\"rotate(0, 33.502, 289.309)\" x=\"33.502\" y=\"289.309\">-0.5</text>\n",
       "</g>\n",
       "<g clip-path=\"url(#clip3600)\">\n",
       "<text style=\"fill:#000000; fill-opacity:1; font-family:Arial,Helvetica Neue,Helvetica,sans-serif; font-size:12; text-anchor:end;\" transform=\"rotate(0, 33.502, 198.34)\" x=\"33.502\" y=\"198.34\">0.0</text>\n",
       "</g>\n",
       "<g clip-path=\"url(#clip3600)\">\n",
       "<text style=\"fill:#000000; fill-opacity:1; font-family:Arial,Helvetica Neue,Helvetica,sans-serif; font-size:12; text-anchor:end;\" transform=\"rotate(0, 33.502, 107.371)\" x=\"33.502\" y=\"107.371\">0.5</text>\n",
       "</g>\n",
       "<g clip-path=\"url(#clip3600)\">\n",
       "<text style=\"fill:#000000; fill-opacity:1; font-family:Arial,Helvetica Neue,Helvetica,sans-serif; font-size:12; text-anchor:end;\" transform=\"rotate(0, 33.502, 16.402)\" x=\"33.502\" y=\"16.402\">1.0</text>\n",
       "</g>\n",
       "<g clip-path=\"url(#clip3602)\">\n",
       "<image width=\"481\" height=\"364\" xlink:href=\"data:image/png;base64,\n",
       "iVBORw0KGgoAAAANSUhEUgAAAeEAAAFsCAYAAAD7ZAEIAAAgAElEQVR4nOy9eXAbWXrg+XsvL4AA\n",
       "CZ4idd8qVZVKdXZ1d3X15Xa7x932TLvdjvXY49gjwkeHw+FdR8w6vBsx4dmN+WM9sV6HvR07s57x\n",
       "zmVHjNfttcPta2x3u++u+1KpVLpKKkkUKVEkQQDEkZnv7R+JTAIgQII3KL2fgiEJRB7IJPHD9973\n",
       "vk+ArTEYDAaDwbDt2Dt9AgbDTiOE3OlTeKDRWu30KRgMO4aRsGHXYaR5f7HZ99NI3bCbMBI2bBtG\n",
       "nobtYLN+zozMDduBkbBh3RipGu5n1vrzbaRtWA9GwgbACNVg2Cjr+R0y4jYYCd/nGLkaDL1Lt7+f\n",
       "Rtb3L0bCuxQjV4PhwcHI+v7FSLhHMZI1GAxrZbX3DSPp3sNIeJsxcjUYDDuFiah7DyPhLcCI1mAw\n",
       "7GZWeg8zgt5cjITXgZGswWB4UDFD3puLkXAHjGgNBoNh7Zgoem080BI2ojUYDIbtwwh6OQ+EhI1s\n",
       "DQaDobfp9D59v8v5vpGwEa3BYDDcf9zv0fOulLARrsFgMBjauWC3iblnJWxEazAYDIa1stsi556Q\n",
       "sBGuwWAwGLaaXoyct1XCRrYGg8Fg6CV2OiFsSyVspGswGAyG3Uirv7ZKypsiYSNbg8FgMNzPbFXE\n",
       "vC4JG+kaDAaDwbDxiHlFCRvZGgwGg8HQPWuNmJskbKRrMBgMBsPm0ylito14DQaDwWDYXmL3GgMb\n",
       "DAaDwbBDGAkbDAaDwbBDGAkbDAaDwbBDGAkbDAaDwbBDGAkbDAaDwbBDGAkbDAaDwbBD9EQXJYPB\n",
       "cD+yns/4vddqzmDYSoyEDYb7mt022LVT52vkb9gZjIQNhl3FbpPqbmGt19VI27A5GAkbDDuKkeru\n",
       "ZC33zQjb0BkjYYNhSzGSNXTzM2BE/aBiJGwwrBsjWMNmsdrPkpH0/YqRsMGwKka2hp2m08+gkfNu\n",
       "x0jYYACMaA27k5V+bo2gdwNGwoYHDCNbw4NCu591I+Zew0jYcJ9iZGswLMcMa/caRsKG+wAj3F5D\n",
       "CGunTyFB63CnT2EXYKLmncJI2LDLMMLdKXpJrGthLedthN2IEfN2YCRs6GGMcHeC3SrbzaDTazdy\n",
       "jmn9nTRS3ihGwoYewQh3O9kJ0Yotusd6G0Rg5NwJEy1vFCGEq3f6JAwPKka828V2S3dl4UbnIkTz\n",
       "c7Tu9Oa9dtFth5g7HvuBF3MrRsorYSRs2CaMcLeL3hJuzNI5RfK1+HTqJ3hDnOeUOsU74hzP20/z\n",
       "5+U/JQjLxOJtL+b1SW6nxGyk3IqRciNGwoYtwkh3u+jtoeXmc4sFLIWFEBaOlcERabLWKHPBDQJV\n",
       "QesQrUOUDmkVbrOUd5eMk+MbKTdghGwJYf36Tp+E4X5AAqLhy7BVCGEhhEy+tu24SET9T3e0F/CP\n",
       "9/8kj3lnWGQAX1RwZJqPOo/j634+4j1NXkoOyTPgppDSRaGQ0uWM+2ny4h57Uo9QDGYQIv5Zk0D3\n",
       "sYRo+bOWbTeDxnsXXZMHOQ4SLV8P3rUwkbBhA5hod7vYyYzl9SVUtRNw9LgUFlK69NmjSCRpmSOr\n",
       "h/jZvWN8dVIxIxYoiHlcnaYiipTULK7M8lH7Mb4VvEXev4EfllC6BmzekPVOR8hgouTl7Pw92WqM\n",
       "hA1rwEh3O9nppUKbK9+l78VD0UJY2DLFkH0QG5dFnQcgJbL06QEUijvqCr4uJ3sYsPcxX7tGoCrL\n",
       "hqs7J3bBWqTcCzIGI+Tl9MZ92WyMhA2rYMS7ney0eGEjS4m6E3D0vehvSzgIYSGFC4Aj0/zHR07x\n",
       "X5+/jK8rhLqGUlHEq1DJfDFQlzCsPG/cju7kZmTcy/TGvdkMjIQNLRjpbje9IN6YzRBw49AzgCVd\n",
       "Bt3DKEKG2c/N4I0mscRRscAiZQ1gCZdquIAiSs7SSaZ0SKj9ZNul5K1WVsqsbsfqkjNC7mV6496s\n",
       "FyNhA0a8208viRc2Wkhj+fIj2TDcnLXHEcIi1DUCVSHQtUSsAgtPZpgQx3jSm+DF6k0KYpZQ1wjr\n",
       "c762TDOkx8mLGSbUQS6qF/j54X/AN+fzvB18g1D7wHJBrW24Oqaz5HpFxDFGyO3orXvUDUbCDyxG\n",
       "vDtBr8kXNj/6taSLJRz67FGG5H6G1TAZXC7JywCcVCd4S7yeyFMiEcLCEi4ZclEETIiNy1F1kClx\n",
       "j4KYB+CXJ47zO1PXqFKmpoqE2k+knpIDjIhD/EjuAH+0cIHp2gWUqrVEy+3FtZbkLiPj3UJv3adO\n",
       "GAk/UBjx7gS9KF7YvLlfWD4EHWdASyRSRvO9rswm0a0lXIbkPiQWFYqEhDi4nFTH6bctroT3eNwb\n",
       "43bFJ88ij2dyXC5VuC1mCESNGmU+5jzKF4/c4xcuvhfNK2ORJstRdZDXeQlXZsn7S2uP2w9dQzvZ\n",
       "drMe2ch4N9Fb96oRI+H7HiPenaJX5Qubk/mc7GvZWuXmJKxYxvHcryVcLOFyiIcZJMN78hoSiz1q\n",
       "AlV/s0zj8hsfuM3vvXOMp4bL/M3tFHN+jScHPf4mf5cqVWqiTJVyMnQdJ27FkXFS9KPlDdiWKQAc\n",
       "kWa/fIhb6l2qYR7PyrFHHmdKXaTsz7RZAmVkfH/QW/fLSPi+xIh3J3lQ5AvtBLy0jUyk6/CM/Wne\n",
       "EW8isZJoWAiLlMgCILGwcUnrPlztkcZjQLj02dGxK6GirAJK1KhSi9YX4zEpbwGQ0hmecPcxXa1y\n",
       "Rb7HfDiZHAfgh73PUAxCXhNv8UPek3ynepW07uMgoyzoGgVR4rp6C4AnxXO8GPwXauEC0H2VLiPj\n",
       "3UZv3C8j4fsGI96dpJfFG7N2Aa/+mlaSsCVd+p29fCH7HD9+ZIq/vTXOeCrgf5t6NZkPdmWGf33q\n",
       "IL9zIcd78kb0mI4iVU97DJPlwyMufzY7A0Bap/AJKMgFapTxqcVHw8alXw8CMM11fF1JRBQvhXJE\n",
       "mn49zLAeZFCkGE/Z3K74vCXeYSGYxA9LbUtmLp8zXllwvSRkI+Nu2Ln7ZSS86zHy3Wl6XcBbIV9Y\n",
       "WcCwVJQDIglG2ywtR5L1oenGxKxPu0/yYvUmZ+z9TPol5sUCNVEBIK37yOkBCqJEQcxTpdxUyAOi\n",
       "iNrXlfq/Jf944Dn+qnidgBoZ3Y/EYk7cISTEwmJM7WNSXqOmSljCYaF2k1DFEfRqmdW7Z2kTGBl3\n",
       "x/bfLyPhXYkR707T6+KNWW+jhVX3u4qAYWlOOHr+kpDT1hAnxBPckbcBOK6O8vs/8T2e/spwU+JW\n",
       "hhwl8qi67CRWkj1do0xYz6IOVDmZD47XFrcihcUPup/ka7VvNp3TkNxHXk3xAfEs87rCG8HXllXj\n",
       "2oxKXL0iYyPitbA998xIeNdgxNsLGPmuLt8Y2XKtRMMcsWfl+Iz3PKcHFF+9W6AsyvgE3NPvNyVS\n",
       "xVGyxMIVaT6ffZQ3FsrcFXOM62FmxDxlscioGuOifrVtgY/Wc4BofbItXGyZIiWyfKH/Ub6+cJcb\n",
       "6jxpa4iZyoVValM3sjax9YKQjYzXwtbeLyPhnsaIt5e4vwS8Ufl23r5VvtH2S+UqY7H2O/soh3PJ\n",
       "c5QOm7aVWLgywy/veZLfvvsmDi42Lqf1UQYci0qoOZ0T/OXcDHlxj5KapapKSWY0dJbNY/YnKYsK\n",
       "Ukv+0dgQL9/T/G31T1qWMq2l8pZpGHH/szX3y0i4JzHy7SUeVPmuRbywsnxb/y/r5ypahqwhilLj\n",
       "/VnCxZUZTquHsbGYYYHb4j1CXUMIi5oqJdsrHaJ0rUksrcuToL142q8j3rxqW6uxk0I2Il4rm3uv\n",
       "jIR7CiPfXuJBkm8n4VrSTa5Da73ncfc007ULXb2Jt7uWq4k4lrolXDJyiAPqMFfFBWqq1DTs3Hj8\n",
       "pLlDF/JtkvUKAo6eu5Y3XiPjB4eN3y8j4R3HiLfX2C3yhW4E3G2BjebnxwJ0rAxpa4gvn3iEf3al\n",
       "SEHMUlELuDLDi58r8+yfR3Wdr/svtxVfJ2TDea8kYYmVZFY3Jl+FyXztcgHHz22k0/OgnYBh9Spa\n",
       "q7Fxoe2EkI2I18v675WR8I5h5Ntr7Bb5rjfpqr14m5/TuKwoTqJyZZasNQrAPnWIkigxqS9HVaoa\n",
       "otFlcmt5Y1pNvNFrW5KvKzOMc5g5cYeyyhNqvyn7uTUKhs4iXknCsHok3HyMzevO1C3bKWQj4o2w\n",
       "9vtkJLztGPn2IveXgNs1Vlh6fKW5W9ca4En5PDaS1/T3UYRJNJqRwyzqfLSEZw0ybNw/gGfl0DpM\n",
       "OivFSJbk/xBPEBDyoYEcFws+hzMOf1T89rJlSHrZsHHnyHi1ZK21iDjaz9bOE7c9ppHxLmBt98hI\n",
       "eFsw4u1V7i/5QquApXCR0qXPHqWmijwsP8yoyPCC/j6+KicSs4SLI1KkZY6cHqEqqtQo45JmVI1w\n",
       "U16npstJjWagSYidlgRF59Ec6XoygyVcPpN6hpcqk6R1GohEmcbjjrwDwBcHj3IhrzmnrxFQo08P\n",
       "MMON5EMALIkz/mDhygzPWx/gu+GrpEQWnxo/nXuMP86/x+3auVVlvFYRR/vZ3CVM3bIdQjYi3iir\n",
       "3yMj4S3FyLdXuf/kCyu1FvwB9x/xKq8zzmEUIVP6atJIIdQ1PiSfQgqYC2qMOR41pZkLqyywyLgY\n",
       "4LK4QY0yEoshNUaGNMfTfVwrlznPa/i60jE6FQ3nJYWFI1K4Msuw3sOT3gSLYfQWpLRmIiX528Wo\n",
       "wlVALSnIEQs/bsjQLtLOyCFG1AQFmadf5XjUG2Gm5uNrxXl5noI/2dTQoVOWdEw3LRCbt70/ZWxE\n",
       "vFFWvj9GwluCkW8v0+sC3owyk52GoeOCGbZMJRJ2RApXpOnTOQZ1jucH+6mE8HKhgEKxIApURDGJ\n",
       "PrN6iJqocEIf5Ly42DRfC8ujyda1v/Fc8ziH+RcP2fzP7wZURRWI6kX36ywZPK7Ia0mXJNUm0o5l\n",
       "Gq87hiii72cYqS2G9SB35B1K5JM1xnk1TTXMLxOLlC577YeZCi7yvPVJvh1+nVq4sJRtvalC3n0y\n",
       "NiLeDNrfHyPhTcXIt5e5/+QL62kvKKXLafujlGSReT1FqH0OiIeYEbfxSPPpvpNcLfpcklf4pfHj\n",
       "fHn6GmWKzb2A9TgAg3qAGXmPT/Yd5kKxzDleWfENu3GdsCVcXJEmjIfE600YzorjXFCTLIp80qCh\n",
       "dZ+uSPPbJyf4hYvvJfuVWDi4DKkx7skparpcz6T2k320Dp/H65AP6lMMkMYTFm+Jd8j7Nwi1vyzh\n",
       "rHNPYujY6nCddac3wlYJ2ch4M2i+N0bCm4KRby9zf8oX1t5icHlEDJEQH7M/SUmUkFjcUOcB8KwB\n",
       "cnqME2Ivw67Fn1e+3XHO1xIOKZHlkDrKZXE+iVzj4e6VErXi6Fhi4ZHmWfsEb/q3qYgSAbWm7Wxc\n",
       "9qgJfnAky2xVcK0UMKNL5OgjIOSWnE7qTbcuY2odxo7P2xIuHmnOcJLzXKVfDzLNdcY5jKddzoff\n",
       "JlCVjgJaWcyweuWtrRPbVsjYiHiziO6NJYT16zt7IrsZCYidPgnDCvSygAUSse6fn9Vel0aI1n1r\n",
       "QKLRCEiiPI1mSl0hr6aYVTcJdZVQV6mpEkU9Ryj6eCN4i5pajCLJlq9ovyIaNpYWJ/Rxnk4fpuyn\n",
       "o6Fv4WIJB42OInFh1V+7RAoHSzjYRF9p3Q+hyyPpIQq+ZL8epyjK0XOJRB2guFyuMl8T/Okv/Rm3\n",
       "Lj/J96o3yYsFQoL6+VD/YJDhN48dY2b+KFlGKVkVEGALD1t6eCLNqN5LWRQZUINMiylm9SSKgCJz\n",
       "VGWNii6gUQ1Lt2TyJaWDLT1GUqc4aJ+hKPJIYbEv9Tj9zjhKakJVja6QoH5PWuMeWf/a/HhI1P9s\n",
       "5r6jD3gmdts40X0xkfC6MJFvr9Or8l1/1NvI5rQahPZNFhr/huY518bnNZaXjKPZT7sf4bvBeVzS\n",
       "2NqlJsqJrMNE2kvLkSws9qlDHPP6AVjwQ5TW/NoTk/z3r/VTFuVk7jet01RFFQtJRmeQCAqiiE8A\n",
       "gBIhUlsEYil6trXLoM7xgyNZ/vzeLGVRZr8e446YY0bcTqL0xkIgQNuM79Yo2pZpTomneV9c4lH9\n",
       "GO/J95MPCjPhNQJd44z8MK/6f93QHhG6L4e5+RHnZkbGJiLeHIyE14SR726gFwW8OfKFjdV+br+P\n",
       "1paDrf9erbykI9MMyX2UKXJaPYREEhBSxkehOGBHgn1dXWmInuvHrkvLxuWE3s9tnQfgX30gzy+9\n",
       "NEK1LlSpJcNkeXrI5eJClLntE1ImSuhK4zEs04ynLNIWfGx8nt+6bDMvFgiEvyx696k1Sbc167p1\n",
       "7jh+rVJY7LGOc1BNUMZnUt6kTw8wrofZ76VQwN2qzzl5jmq4QDmcS0YcWhtDNLKdmdVGxL2FkXBX\n",
       "GPnuBu5v+cJaOx9Bd1WyYEnErd2OlvazcmnJz6Y+zuVqgWNeP9eqRap1AZdFOYlQATw8fHwC4SeP\n",
       "NX5fIvG0x1N9I9wq+1R1WN+TQiJxkOQsl3xYQ6E5lUlHS6uqmmm/QpUAnwCFIhA+YX1bgFE9zJSc\n",
       "SnoRR1fC4n+YOMXv3r7LmB6iX7rcUvPcFu/h60qTqKPzW8rujtsruqQZViMccgY4F9xCiZAFfRdf\n",
       "V7CEQ8G/3ZWIYXtLY26WjI2IN4aZE14RM+e7W+glAcdzveuf7+3E2oW+fF54+X4aBRwNs3o8ZH+E\n",
       "o/I0vm3jU43mkUU0hxvP50bbRHPMl4P3mRV3uKZuMy9mKcoFPp05xjvBJD5VfBF91UQFISR71R6O\n",
       "O8MUQ4WFhYyUjqtdPFzCwEIgSFvRd21shm2XIcfBVxpXSrKWTVXBXE1RDEMEkMLhZDrDYiAIgRQe\n",
       "/WQ5YA0y5npkwn4WRBUbJ8nGHlKj3PIrfHEiwyuFMs/nBrlcW0jmgeOlXLK+5rpP5jiiT2KLFCn6\n",
       "SOs+0ni8wdtUKBCIoB5BK34m92GuhyGOlUEL0AR1abWfVxVCdJg3bodkI/PJmzVfbOaIN4aJhDti\n",
       "ot/dQK/Id3Mj3lbW/xpXa0fYKGBbpvh83+e4WM1TFCX26zFe56VkiY9qE3lJmiPkxqHrxjKU8XM9\n",
       "0uTUME+kR7Al3FiMimk8lPV4pxhFsj9/RPB716L9pIXNsYxDOYSqAlvApyZKvDWfYTGAlAV3KlBT\n",
       "mopS1JTC1wqFTobDG6NhB5uqqFEWS0lmjcRlOj/qneRauUyRCpPy2rIM78Y1yiPiEPf0+01rpa16\n",
       "MpolXLQO8XWFxWCm64i4kbVFx410H6FuRlRsIuL1YSS8DCPf3UIvCHhr5RuzNRJuHYK2hINjZaM5\n",
       "WpnihH6Uq+ICAPv1cQZIc1FepKaKbTsmtQq4Ub7RkZfmf23t4uEhtUSJutC0ZJAMjw2kGHQ1GTvk\n",
       "pXsWfZagEmpSliBtw5inOdm/yMGBeV6YnuDCgoWv4FMTi3xjuo/blUi+/ZZDTSlmdImyKCcyVmJ5\n",
       "hnc8PB1L1MHFp0aoa8vWGTfSrkpYnLA2ah9hSI1SE1Wuha/jh6U1tU9sx1YLeaMyNiJeO0bCCUa+\n",
       "uwUj3+5Yba0wRJWiIBLoYecZFsUC/XqQx9wJ3q7d5aPZMV4uFPAJ+GB2iL9dvM5etYfH+tP8bfEm\n",
       "SoSUyPMBcYZX9Tvk9AgP2eOcD6J1vq3SioUcJ2RJbSWLjyQWtrbrw88WDhY2EkdIXCkZdCyGPZip\n",
       "RPvKOJCvaZQGWwr2peGNeZ+AEIXGxebJIZvvzpUpUQaiSDhHH5aAeV3hhNfPt/0LiXBj4hKZ0b+b\n",
       "E7agvXxX62vcqWb16uuMYXO6Oq2+LzBR8XZjJGzku2vYafluj3hjNv5aV6qaJYTFkHeM0+phLsqL\n",
       "SY/gw+oEj2f7URoKvuZ2rYKN5Ja4S17cTd5cG4UVR76WcDmtHqJAhQVRwMEmRLFXj3Ai6/FWsUhB\n",
       "FJPtJBYn7VF++cwN/ulrQ9hYKBSDIsWRjE2fDZcLipwrydcUFRUvbxK4UiIFVMJo6HnYdUhbcHmx\n",
       "jF+XcJygFW0jeSY7xM8/dpFf/d5R/pdnbvKVy0f5k4WrBNTwqTWJF1j2/8Zh+VYJd9PXeLV2irC6\n",
       "kFuXlEXP30iSV4dtTUS8bTzgEjYC3i3spIC3V76wNQJe2m8s4SPuB7nhv5qsebWES06O880fneb5\n",
       "PxvltD7OZ/bCb0yd4xH1CGV8BoTHS/qFjpWzJBJXZtmvDnPKy7EYKgpByAwLVEU1WS4UI7HIqCyf\n",
       "zI0QaJgsa2wBl2rzSUZ0tFeJROBgMWJ7zAVRdnSITp63z0ljS4En4dRAyNvzFm/UpggbhBKvMT7h\n",
       "9ZNx4HKxynV5i4Ba03nZuBxVhxj3PF72r3NGHuScuoEi5PMDx/hP+ZepqVJSmWvFzkwdRNz+vkWZ\n",
       "141D4K3XN2UPk5Pj5NQwF4PvJOU12wu82wjayHineEAlbOS7W9gp+W6/eGO2SsDN+27NiJZIxtxT\n",
       "FNQMNVVk3D7FPxk5wpfvfp+qKq14PNkw9+vKDJ9LP8PL5buM6gHmWaQsygzrQTws3pPvJ/Ow8dB0\n",
       "SmcBGND9LIhCMrdsIbG1g4ONjcXDfVkKvuaeXyNAUaaWCPZseoi71ZAT/Rbfzeepihp+vLhJNA8l\n",
       "p3UfZbGYnL+tXdI6TVmUSes0aTxmxTwSyTExjtKas0MW96qCq6Uqt8RdFkUeG5f5cJJA15p6Kq8m\n",
       "npXm0y2Z5rD1GL9yuJ/fvab56QMO/8fkLaaDi2gdMuE8nBRBkVgU9Sw/5D3DhUqet4KvL6t1DdGU\n",
       "g2cNUAnmku/Fv1ehKjfI2Ih4J3jAJGzku5vYCQHvnHxhuwQMy4c1o22tttd8tWIdjftrTsiSy5Kz\n",
       "GrOm40St+Puy8f/awsHG1R6Ppoa4UMnzeCZHvqb55ceu8z+9Os68KOLj1/cVxcz9OkMNn6qo1ROu\n",
       "VH3NcK2l1CZJMlbjufzD7GlKAdyrKibDAmVRxtYOaTxKosxD9igvhu9SUrNJNnRrUY9O0omXO7ky\n",
       "Q1YM85R1ghfD83zMeZTb1Sqv6O80rUP+B94H+atqNOoghEWfyLGo8xzRp7kmLiR9lZUOUS11sqV0\n",
       "cUSaD8mPcF5cBqBfD+IT8IPZA/xh8QUWajfrlbxCI+Id5AGSsBHwbmG75buz4oWtle/Kx+hUtrL1\n",
       "360ibi3YET2n/XKlpf8vtRt0cHFJN0XFUWKWg4Xkp/aM8WfT5aQsZRzNtn0NDcldnxsa51oRbtai\n",
       "cpcPpbO8Xc4TonCwmZTvN8m3dWjcq5+TxEr+tnGR2qIiivjU8HV5aQi4zfxwO+IPK3F1sbTu4yfH\n",
       "xvjDu7P8+OgI/9e9N5J59h9Nf5DpSshVPZ00sbBxOSOOcUHfpEIx6RC1X58gjce7vI6vysk9dUSK\n",
       "MzzFjJhnWOcYsT3Oh5NkdIa3/a81DF+3ay7RpqKXSdbaMh4ACe/0G6yhW4x8187q8l39OCuJOP5/\n",
       "LFQpXX7j8Cf4nZuzzIlpAlVecXh1afslefczTL8awMPhh8b6+P9m7iXC69cZ0jjkWcQnIBB+/e/m\n",
       "Odul4zRnWTs42NomS4oR2+NAn+TZ0QL//mqqPoy8QLWeKb1SxBqfr4PLI/oEYymbd8sFbCzKVCmJ\n",
       "EuN6JGnd2KmXcuv1XeoYFbVyhKgt44ia4FODI/zRwoVoWF+neco9wDvVe8lwfJkqSij2M0RZB9yS\n",
       "01QoEhKSJkteTSVzyZZw+JT7Yb7mv4jWIWd4ilfUtwhVOYqgOwoYtioajo5lRNzKfV4xa6ffZA3d\n",
       "sp0C3lj3os1i48uP2lfDasfKvwdxNazGfS87FoLT9kdRluSL4yneuZfjrHuA63omOoKw8GSWEfbX\n",
       "C81F1bVskeJ5+ynu6AK2cDmpTjJGjoNehtthgZcr0/iihkeKfp1hj51ixLWRykFpQYjitDPOTX2H\n",
       "kGDZkHLU2nAMgSRLH6e9IWbCCnlRoKYEF2tz/FX+LvNigZqoRFnQOkARoDv8EUC/GK5H1w4FqhR9\n",
       "8AmwkFRFjaoooxD8yv5jvFryCfGjimLIpFNUu45R8XOiCwtSOGTI8aS7l5maphraWFh42qMQhnws\n",
       "N8iIk8LWDoMyxR4rAwju6iJ9Os2gHmJOzFDTi2iioiAhNXy1yMXgEoGOqp3lrSJneRpp5ciryboM\n",
       "dYcM6vZxmamutTXcp5Gwke9uYbvku/NRL2zNut/NOeZqw9KNkbAlXByRIi1z7FOHmJF3UYS4Os2A\n",
       "7mdUZLjGHfbqEQAuycv4LM1ZtnZSio/h4DKk9/Df7cvxH25FBTZqokKNcrJ9cr4N2zq4SfQ4oKPO\n",
       "SyVRoEo5OVbjOt+Oy4MaIr0kUUq4pESWkppdFvHH0WxjlaynOYstBN9XryZ1peNIfVHkk8YRzdfW\n",
       "Sl6DjYunPX7tWB//5xXJASdDoDW/+uQ1fufNYzw57POV21WOeFler00yrod5W7yB1iFVVSKsj0y0\n",
       "vsZ2VbrW29/YRMSby30o4V54szV0w3YIeLfLd33iXftxV2tpGCdZSeHiyQz9coyM7ueZ1ARvl/Mc\n",
       "cwdwpeDF6k0CUUuW/IT1JTywsgBjGR3SJ7klr6/43NZtoldqJcKLj91u2Hn5WuBmobRfYtRduc5/\n",
       "PPAc7yz4XJHX+MLASS4shARaMa0XcLC5I28nw+771AEm5c2m+fDP95/kG/k5fnQsx9FMmd+6VuGJ\n",
       "9Ahvl/Nk8FggEuwgmaah6BPqJNPiHifEXkY8i/+88JWlDx0dqnJttIWiEfHmcR9JuBfebA3d8GDI\n",
       "d32vcWPSXf/x20m4sZzlSetD3ORdFIqPWs/VazRrHh90mCrDvB9yR0VJVP/qA3l+5pUo+nvKPcCL\n",
       "/lUW9N2kXWAjceZv07m0uXeiZV618fE4kjwrTnJdzVIShaQAB9A2Go7/3y5qbCfdbqpatSaoxVnO\n",
       "jkgzqvfyY6Mj/OndOTxcyqKCj09NVJrO1cIip0eS2tYSiz1qDzPyHgHRhxuJRUpn8fC4qd+tl9as\n",
       "oVQtygWv9y5uPufG7O2Nt000HZg2j/tkTpQx8UgAACAASURBVHin33AN3RC9sW/dvdq67kXdYrHU\n",
       "1aY74rndpe45m3UOa6PtPLCQ2DJFnz3Ch72TzCuBLyrc4g4H5QSXxPtcrZS5E5aYpcjTfWPM+4p/\n",
       "OzWDIuSg3oeFpKBrlMg3RKG64YuW/2sQomF+VjQ9J+7aJOLIvCESLuiAD/dN4NdSfPVH3uP3Lw2j\n",
       "CbHqfxyR4oA+yhBjuKKPklioy2QpDmkUcLT0KPpDchat59/8WjQ62oeInxv9PFrCZbaU5gMDA3h4\n",
       "LAQBoQj50r5xXi/4lMmjCQkJWGSBUET//vVDB3l5Pqr+dYID3OQmVV2kTJ6DHMYWGWyZYkIc47A8\n",
       "zV1uRXPeOqifcUjj61u6lp3oToqbMT8MZo4Ydn0kbOS7W9jq6He3FNfYug8h67u+ndYLN/4dD0UL\n",
       "YSGwGLWPAJBTw0zJ9wl1DUek+aA8w52gwmVxvm0v3hXPg85z0u36GlvCxSNdT8zaw4DwCDXkWYwS\n",
       "p6g2NWqIlj+5HNTj1AhwsTknzzVld7cuOYpZaelRJ+IlSXZ9XbAQFjk9xkE9DsAleYUnxCm+q15q\n",
       "GiGI55nHOUyVKh/PHODWYshttUBNVJnSV/F1JTmOJVz2iRNM6stUgtmW6lltlhptQhSc7GuTomF4\n",
       "sCPiXSxhI+DdwFbKt5fLSW5lxL/E+q9tO/nGdForDEtC3uOcYja80WXzge7PY3n7w+UCXlrmY5Eh\n",
       "x2lxgKmwiItDiXJSszoQAVJL/vezFf7dxf1crBQoiwoP2aPkXMHflS+R0hmecvehgL+qfGOZhNsJ\n",
       "uBthtK6jzlijlMKZla9FU0ETyYQ4xi/sH+Kf3XxpaV69XhiksTpXPKS+fB54rRJe+700It44u1TC\n",
       "RsC9zu6Xb69EuDGbcz1Xki+0v2/dVtHqZjtYihLbnVNjxai4YEb8eOu+ZX2YWbZ8edrjYXucz+1f\n",
       "5PeuSR4fSHO1GKK0xteaAhVKokRVVJPMa1+XmypQQecOSetl2frrNmVE49dqyxSn9GNcke8m0Xrj\n",
       "Ofi6nMwBt5bLXJ+E1/f6NlPC8GCKeJdJ2Mi319l98l37+a7Uo7eXWE24raxVqKslUHX1eEPZy1jA\n",
       "GTnEkN5DSRSoUU4qXFlYpMhSoVg//pJ496u9+ISUqSbVs3L04QjBeMpGCjg7VOPrUzaP5ATfnC0z\n",
       "I2aTGsxn5REAvqfeoBzONTVlaGU9omhXAKX1OjRegxF5kF89OMa/fH+WRZFProFHmoAaNR1lfo9x\n",
       "gKv+i03RcCcJb7aAk/0aEW+IXSRhI+BeZvfM+W6GdJf2I4WFaw+QsUYRwqIaLvCc9Txfr/152044\n",
       "y/ddr8xkZQhUpW0B/q2mm3vX6TntRNzp+SuJWAqLCXmKmihzVB0iQHFXzOHgJJnCtnbZr8dQaEpU\n",
       "AZJlPxAV7njGOsFPHZvlf7xUJK37GNb9LFDGqp9nBo/bYgaJZEwPcVlewtdltI4KXbQO98Zs1j1Z\n",
       "aahfYGELF1umGBDREjBFSFksclYe4VJ4h+NyD6UwpECFY14/pwYU/+neNcoUma9dI9R+vR50zGpZ\n",
       "0Rt/XZstYXiwRLwLJGzk2+v0ZvS7VWtzm4cQ46FTS6ZxZJpDPMx1fQ6Ihgwt4RKoMn32KKMc5Eb4\n",
       "ZrKERAgLz8qRkUO4pJlQE7wefn2ZvLfqDWkt922tEl5pu07Dso2RoCUc+kSOqJTlIJ8ZHOWluUi8\n",
       "Ck1GONxghsNijFd4M5kzjetSf8J9lJerk8yJaSQWabIs6LuE2k/mtX8s80FeLs6RJcWsyDMr7lAI\n",
       "pjfcEWm169Mq4k5NMCzhsF+fIC9nyej+ZEh+L4PcZp5PDYzxBwsv44o0FV0kJbKUVZ5icCcaqm7o\n",
       "+bxVAoatkXCy7wdAxj0uYSPgXqb35LvVRTGaBSylS9beQ0YOU1KzWMJlQIwBMKiijjUFmeew2s8N\n",
       "OcW8jmr7hjpa63laPI1C42HzaDbNd0p3meY6NVVKorPWtawbfVNa7z1br4Tbbbva3Kik/sGmXq2q\n",
       "Tw8wroc51pei34GLCwEzOqqoBTClry6bMxXCIiUHKIdzy+o6x4lSH5Rn+Fbw/eh7KA7xMFfUq6g2\n",
       "Q9GrybZbGufSpXDJ2KPUVCk5ni1T9Ilc8vzGSl3xmuP4NQUq+hkZdx9GYjETXkvaFa5cGxo2S8Ax\n",
       "RsTrp4clbATcq/SOfLejElX7JKLGQhaD7hF8XSYlsmT1EAO6nwkrw9khweFMmd96P2po/2HvMK9W\n",
       "pnguM8FfLr5NVg9RESU+mznJ64VFLoq3kFg8Zz3F+XASJULuqRtUw3xXQ9tbxUYE3G77biQcPy+W\n",
       "cZosH/VO8onxEv/i/WkAnnWO8XX/NarhQldZzcn3upjr7Va67fbVze+HRCKlS0oOcJKzlESZGXGb\n",
       "/eowC6LAqB4G4D15mYVgMknCio/ZdK4dqmJFz916AcPWShjubxH3qISNgHuR3pj33a4SkO0zV6P9\n",
       "NC8lsWQ6mctLiSwT6gCfGBrgL+enecge591gmoKYx6de2YhwmVQbm9xbwsGVWfao/eTlLHf8ix2r\n",
       "TW01K93zzZBwu0zpODv4B5xn+W5wHoAvjZ3mD6fnKcg8RT1brxLlryrfla7RWqLdzbzWjcuvpHR5\n",
       "Rn6Cl9Xfo3WIK7MEuoYnM7gySzmcSz6ErSxe6C4Ra2t+ZrZawnD/irjHJGzk24vsNvmuV7Yx8Vzv\n",
       "0v4iKTRGI40CktIlbQ0xKCYoMJsMNwsR9af9pHeaq+Uy/dJlRi1Spcb7vNO2OES7ZTFLom7/RrcV\n",
       "b05bId/Wx9ot0bGEiyUcTunH+MRImv9n7q2osYMa46QzzLRf4ba8wxl5kK/5f9/1cqKVrtFWX9e1\n",
       "rCvutH030m3eZmsyoVfCiHh99JCEjYB7jV6X70pZy2tBthHuzw1/jtfyFUpU+fVHqvzqOyqZe6yp\n",
       "4vJzaVliIpFk5DBnOMmMWmRK3uK0Ps6rvMpPDXyQ/zD/DYJ64sxK0dt65ybX+mbV7RDqRvbVWsBi\n",
       "ab/tM4bj47W+Zks4BKpCoGvJtVureGPaXc+NvtFvhijWKt3m42+/gGF7JAz3n4h7RMJGwL1EbzRY\n",
       "aB3CXFm4UliMpk7zI31n+erimxxVJ3g9/DoH7Me5Vnuhq448jfO8tkzz2dQP8HX/NfoZJqOyTdFr\n",
       "K40iiecxXZFmTO3jhri4VE6wJUloteHTbtrubRXryXxe6fuxfC3h0i9HsYma2itCTukjvM9dZrgB\n",
       "LG+usNJ1W+9yos0U8Hq3W7ni2Nr2uZklKdfDdkk4Od59IuMekLARcC/RSwLuVBSjMYo67j3PjfBN\n",
       "tA6RwqXPGuKQPkkal7f0ixwWZ7gUfr9tYlMcsX7I/gzHMh5/tvgyQliUw7noOPUs3Yd4gvfk5SRj\n",
       "GaJh02H2MaaHkvWsd8RNRvVeXO0xJW8kz4+P3docANYv4UY2Q8hrWe/biW4KckB07b6QeZ5biwEK\n",
       "zSMDDtdKiutBHgvJs/05vlq6wKLOU1MlgFWH7Dv9vxObNQS9HhGsXupz7ftcXcDr2++azmGbJQz3\n",
       "h4h3WMJGwL1CL8kXIgFL4eJYGQCy9ji+rlBTxaT9XcYaxRIuOT1KRZR4Qh7nepDnfd5JknYaKx+1\n",
       "ChhAChcpog47tkzj4FLTZYSw2KeO4GDjYXNdXm9qLO+RxtVp0jrNUXuIc+pG0mbuWecYP3f6Jj/5\n",
       "5lRSbL81ooPNF8tGiK+HLdPLzi05jzW8ibfLeP4nuY/z1eIlAmqEhDi4fDp9mr8pX2hKWmv94LJS\n",
       "Q4WdlHDXx+p6n+uNwndewLAzEobdL+IdlLARcC+wHfKFtQuY+tClLVN4Vg5LOMnw5NPiOS7JK4yo\n",
       "cY47g3xgJOQrU2Wq1DhoDTIVFhkWfVxjmil1selNUAqL5+THWNA1Rq0Ur+p3qOkyfSLHfzNyHEdq\n",
       "/u3d6wDY2uW03MdFNUUgfAbVIMOij6tiks/2H+bvFqYoi8WmBvaxZOPiEY1ZzZ361raT8VaLuFPG\n",
       "8pdGPsMf5S9zUB3gsxMOt8s2f7cwRUkUKKi7SVWpVjqVyGxcbuSIFK5Ic0Y/xC3meCo1xtvlPD4B\n",
       "SijuiJtNdZJXuj7J/zdxLngt23d1jDXds60U8Pr3v1aMiNfODkjYyLcX6B35xrRKuPlxKSx+NPMT\n",
       "fCd8naPqJJfF2/za3qf48tQNjqqDvCsvAlDRUaT8M7nn+I/579Ivx+pLWqLIqrFYgiPS5PQonvYo\n",
       "izISyReG9/K1e9EQ6LBMM6+qfGIkzeUC3KyVKVMlEAE+PoHwk1Z58ZdPc6GHxshXYpESWc6Kk7yi\n",
       "32ZCHcTDoSTKTOpLyXn1iRyzwY225RNhc2oXt36vsfWeEBYfFB/ivLjMI/oE58S71HS5oR8wpGUu\n",
       "uda2THNUnWSfk+HdYBqfgHmmkg8iEA1B94kc/XqQfp3hkNfH40MBtxZtLhcCStonZ7koDSOexV9W\n",
       "XkgaKkDn4ftO12OrRbxitvWa789WC3hjx1kLOyXh5Pi7UMbbLGEj4J1mu+QL6xNwsm2b+WBLuk3n\n",
       "78gM/zD9af60/FdYwuWUeJqqqPFe+HrynDgRaEQe5ITezznxblIM38HFxiWt+3C1xzBZyvgc8vqo\n",
       "KU2fJTiU0ZzPa/alJe8Uqnx8zOG7MyHTegGANB4PpbP4Cr7vX21qOFA/a56zH+FIFv56dpZA+Dzq\n",
       "jJOxBW8vFqhSI0OavFjgYXucV8P3mFOT+CqqBrXZnXyar3FztvJh+Rg/t3+Af37rdSRWIk2Akihg\n",
       "azf5EOPgUK3Xbw5EjRP6IBfFtWSouVHY8VKtlM4CsFePUqJKjj48KbmjijycznE8q/g3997Bp9Yx\n",
       "Iu40JL7eZgvrFXHHhLl13aOtmgPe+HHWyk5LGHafiLdRwkbAO8l2yhc2p/LVSt2KWpcVtTagjx+3\n",
       "hMs+eZpBPUAahztijpIoADCkRvFwyOCRZ5ETXo7papUhx6XfFtj1w1dDWAw1lVAxq8oEhPgEBCKO\n",
       "ri0+khkj62i+O1fmmVwfXy1cBeDzA8f4i/wkEIkrrVMMizTPjkouLkimq1UCFPOiyKS+1FUBCtic\n",
       "aDhuGDBo7eOLuRO8MFfBJ+RkOst3qlejXkTaYq8exUfxE/tt/ua2hSsFgdYESrOga9TwkxKSj7sT\n",
       "fGZfkX/znsV1eX3pfmFxXB1BoShR4/FsP7cWQy7r2wQiipht7TKsBymIInv0EA9lPUZTmm/NVHlD\n",
       "v9BxSddar8taM87XEmlvRxS8PgGv71hrpRckDLtLxNskYSPgnWK75QubW3pytbaBjWUk42znRik3\n",
       "rt+1hEPchzaOzlzSSB1t5+DgaZcjzgBDnuB6KZLswT4HKeCtYpEMHv22xfUgT0mUUKJ5OLrp3LDI\n",
       "6H4+np3g3YLPLEVqolrveesSoiiLMmmd5om+Ib5RucpseKOrudCN0C5pqrFEpEeaX9xzgq9O+fiE\n",
       "PNWf5XLRZ8C2OTOoOTFQ5NvTA0xVFIUgpIyPg2SeUtNxDltDXFRT1ETDsHL9733qABLJ+/K9plaF\n",
       "Ni4Si88PHOOPFy6xqPP4utLU1L7ba7LeTOduZNxu370dBa/vWGulVyQMu0fE2yBhI+CdYCfkC+tp\n",
       "vNDdebabJ46J2wk+Jp9nUt6kpKI54DiZC5Yi5JTIMqb2kZdzHFT7mKfEfjnIVT3Nz+4d49KCw3dK\n",
       "d1GEDOscEsGRdIpSoHknmCZEcdbZy3StygJljjqDnAtuNfV8bZ0HdnCbylLauJzShzgvLifzyHEW\n",
       "d+typs0UcWuJyPjaxVWqHtWPkxY2N5hJXue1WhEbi2dzfRQCuFbycYRgf5/N5VIFhebpXJrj/VU+\n",
       "efwiX/jm0LIPJnHSWkzjUHUrKZHltD7OBXGFii42ladMtt9g5nbrtZDCYtg6SEpnmFKXmpaitasn\n",
       "vVIzja0W8foFvPZjrRcj4rWxxRI2At5udkq+sPWdjzqJOC4zGWdS/7eDz/PHC5ewcQmo0a8Huc3V\n",
       "puSsszzNgbTH65W77GWQt8Q7WPUG8TYutnb5YOoAL1RuEohaIlGJha0d0jrNMFkeyzk8PlTin78/\n",
       "SZniigX9YyH360FyeoCCKGFrm5qoMqxzXJQX0DpM1sbCxmXcTryN1y0eIdgnTlIShSZx2rgMqVHK\n",
       "opyMEjyTzXGzHJIPaxSpoFB4uPzMAZf/+9YCPtE19rRHQeZRhAT1pV2tc8WNry95bS3RaLulXcm2\n",
       "a3iDjV/roLWPw+ogC5TJyznyaiqZtviVPY/xW3fOU1PFRPwpOcAPec/w/dp1KhS5V7vSVERkWca7\n",
       "kXBPSRh6X8RbKGEj4O1kJ+UL6xVwzMZEHLcVtGWKE/IDAGRIU6bKlLzBQXWUK7xFtUFurSUm42zp\n",
       "x/UjXOMOw3qQH97j8dI9wev6YrJG2MLCJc2wGmFK3kyyoWNJtP7Cx8Pfj+rHuC5vkVNDPOwNMe+H\n",
       "zKsqw5aH0nBHFXFxuCnfB+AZ6yG+HbyCEFbSJQjW+ya/ROtSosYlRHHSlS3T7FNHKMgFDqoJZonK\n",
       "dFZFFYXCwSZaeLU0yuDgcFAMM56yuLxYZsT2cKUgbQneLucBurpeKzWpaCfiVV9vy+uL77ODS0pn\n",
       "qYkyXxg4yWvzVW7IKaS2+M2HXV68O8rv3juXHHNIjye9oFvbJm6niDcu4e6PtV56TcIxvSrjLZKw\n",
       "EfB2sdPyhY0KGNZa77lVxFJYHEw9Q4k8BX+Sfmcfj6hHeFF9Ha2bI6+4j2u8FOckjzMlb3FcHeWC\n",
       "fLdpKLL5mEvS/oA4yzl9lSpLy3YaI7x2c4oSiSVcjunTXBUXUISMc5i73Ez27+DSp3Ocknu5rmaZ\n",
       "5nq9gMXy8o2ttK6F7gbZct2TrlDC5TnrKVKWxBZwqxIlj92St9vOe8dZ0w4OtrYZII0nLGwhmVGL\n",
       "zMrZ+jKwRUrkl12vptexgoTbvu6Wof/G1/KLox/h382eJ6uHGNQD3JF3kqj8qDpCiSou0ZTFyXSW\n",
       "uVrImZzke7NVpsUsaZ3min4NpcOkx3Dj+e2EiDdHwt0da730qoShN0W8BRI2At4O7g/5xqz9tXSK\n",
       "iJc/b7loDrpPck/dwBEpDumTuDiMWimuh3N8ODvCHxS+ljy/MaHLEi771BGypJgW9whEXCHrMN/0\n",
       "36ak5rqK3NrJD6Ka00f0aW7Iq23F3l5a648O251DLOH4w8ab9fXLjdXCgGTofo/ayzF3gGu1Iv2k\n",
       "+JH9misFl78oXiWglmzXGPk2nnM3Iu70vHY0vg5bpvmI9QTnglvs12PckFMoQlyd4pSc4ECfZH9f\n",
       "yCuzkkqoSFmS0wMgBXxrpsoNOUleTdEvx5J2ko3n13Wd702smLV5Eu7ueOvFiLh7NlnCRsBbTS/I\n",
       "FzZTwLBxCXfeT+tSpsZ/2zJFxhrliH6IKjXm5F3mw0mC+hrd+PmuzPLTA8/z/xZf4xH1CEOOS58l\n",
       "+PTeIv/5eppzRKIqqJllkonfgFeKTlubP8THjpvZnxXHeUG/kaydbWSjbyitP0+NxUxaz63dY3FG\n",
       "s6vTDOocaRzmKVGQ+WTNdLuh59VEvPS8lYXc7veh8TU0D0dby+b9JZJhPciAcJnWBWqiiqs90nhc\n",
       "ke8S6hpH9GneUd9rGlXp9KFopdfTnYxXy/jebLltjZB6WcLQWyLeRAkbAW8lvSJf2GwBx2ydiBtp\n",
       "XNLU+Pey57W8xnjZk8DCkxlyciJJ1ipTpBzOJetYY9olUHXKUI6OaSUdnPapIxx1Brniz1IVVYpi\n",
       "blk1rkf1Y7wlXk+23a+Pc9wZ5JvBK8kwdre0a+DQTrrtHo/nyc+II7yn7iG1TM65k4Rj1hLJr/WN\n",
       "s1HC8Qea0xzmAtextcuX9u3hryclN5ihKqrUKCevy9XpJOM9Q45RNcK8WCAQPnfCK/hhcUURd3O+\n",
       "6+2gtBtE3OsSht4R8SZJ2Ah4q+gl+cb0toS721+nCLl5/8ujRCEsPCuH1iG+Lnd9rm3336GpPYAj\n",
       "UljCTap6TaiJelKURZWAflLcEncJhE9AjYzuZ1jnCNHMiFkcbPboId7kFaDzPPWK59eFhBsjy/h5\n",
       "AbVlGdExa3nji4/j4PLDfY/yRrHApHyfil7ez7kdS4l30Xz7AXWIA26aA32Cv5u/xxf3DPLWvMSz\n",
       "BO+U89yS15tKbQph8RHrCV4NL/Nx7yT/pfomhWA6mR+GzkPTraxPyLtXxLtBwjE7LeNNkLAR8FbQ\n",
       "i/KFrRJwzM6JeGl/K9dYTrZtEyl3s92y77URcbKeWKZ4XD/Fe/IG+9VeJIIRx+P0AOzvq/L7NxR5\n",
       "sVDPWl5aWiSxOKgOcFleSjoTwdrnVRvPpd3jsYBTOsugzlGlRlmUCUQtaWoBLFsjvBKxMF3SZFQW\n",
       "JRTHrRGuB3kO2zleV1eo1iPW1tKY8fb9epiaKCddrYbUGA+5w9yrBVySS9vH27oi6hwV18Ju/MAi\n",
       "kbgyyyl1inO8SlWVmiS89LpWl063lbeWC7nTsLcR8WaxkyLeoISNgDebXpUvbLWAYfMlvPo+NyJi\n",
       "WDma7NSpqOmxFSTcuqzmoDpKlRpVUcXBYVQP8FOHQ/71dZ+ZeuZva8GQ1bKqO9F4Dq2PwVJilsRi\n",
       "VO3huVyOQEGfrfn2XAmJZFLealusox3x/s6Kk8yG1eTxnz2i+cvJPibSgslFzZwfYAmY1xVKokRB\n",
       "zAPgkqZfDeDhMCzTXNd3OS73cE5fo0yxJcmtfSGOlYbLW+tWr1SwI95fdM2Wfj6kdMna41TDhaQl\n",
       "Z6vwFQqJjJpXNO1794l4N0kYdk7ElhDWr69vUyPgzSKab5RdCGXn2HoBw3p+poQQqzxD17/a71uj\n",
       "21z3aJv296P5cY1G0OkcWvezfJ+N1zX+nqiL1xIOGTmEEhqBZEHMUxNVQhEAgj7S/EVhioLIExIk\n",
       "59P4N/W/BbKrLykcbOEyyl4+1XcKWRsixEIIgUsKjzRnxQlQKTQSGxeB5E5VcTjtkrLgUrlCiGJQ\n",
       "D+LoFIEIEESiFUSyWf4nGtKuqUjtIQoPm0sLHoHW3KtqPEtQCH18FH247LX7WVQwpIcZ1P38+09d\n",
       "5v2Zwzyc0zjhAN8O36JGGaUDIiWEaHT9zTa6Lgq17FpFj4fJ40syXPp+dK908nvb+CWlgyP7OGQ/\n",
       "zrPOU+StsL40Lkq6y8oRtAApHCzp0mcPM26f5BPes8wLwWJ4r/5zFR1HJz+/y+Ol6Od/Mxe4yI7H\n",
       "WivR78UOtqtfI/E93f7jrisS7l1Z7DZ6OfKN2R4Bx2xkzfDa97tS1nLbyHWFbNxu99NY17r1POLk\n",
       "LFdm+aRzlsVQ8aa6BsBpDhNoRVH7nEz38b2Gal6ttZlXS4ha6RzjeWhXp/mR3AFem69yIO1R8BW/\n",
       "cPoOv/n2CFUdMuZ4VJRiJixTxScQ0QeBuGpWHOW1nmMrS5XIXA7qcWYpthQCsfGwkQiqBJSpooRK\n",
       "jlNf3VxffhRlNv9X+y3+5e3LTclsqxUI6ZS93U2ZzPhethaBsWWaPfoABTGPxOIXJw7y5akbADxl\n",
       "HeVccJu7+lpyDv1ylIKaoeRPL533Lh6e3m3RMGx/RLwOCRsBb5TdIN6Y7RUwbJ2E2+97LRLuNpN6\n",
       "pf20NpawhMsPe8/zRm2KaaKuQ3Gf47jrkkTwaCbL82MlvnwtSDo4xVWrJBKvLp9DboZ3a7OMi4Fl\n",
       "rQVXo3Ge1yWNpz2OyjFKYcCQ4/JIDm6XBfeqij5LcrtapUpIUD+T1vNSoll+q62bTv6uN9TwtMdR\n",
       "e4inhzXfuasZS9mECgYc+E7pLlWqSQemGFu7yXxwuzKZ7c6jXZGVdsP4rTJs/OC0Xz5ERmc45vXz\n",
       "bnWO/dYAb+pLSab1abmPQujTbzk8NQwjns+37ri87t9inilqqkQ1zDd9IGj6UNCliKNte2ct8W6U\n",
       "MGyviNcoYSPgjWIEvBrrLWG59n13K+CV7tl6omCBxdPyoxxKp0hZcLFYoUSVeTmfFJN4xN5LMQgY\n",
       "dR32pCBlaRZDwdViSEpK7vpVSlQJUaTx8LAYclzODGoWapK/WLhJRRTbJkd1wmqQYUpneco9QNqC\n",
       "1xfn8HAYFCmGXRvPgncXF7EQfHbCoRxKDmfK/ME1F09KrurpJgk30k7EjXPNUscZ0TYSi2f7xrhW\n",
       "8rkj5okGoqM39cYmEa37btcwoh1pskmSVk6P4mmPO/IWDi5PyVN8O3yJUPttI+RO1cbi9d1xgtnH\n",
       "3NNcr5RZYJGfmsjxF1MBnrDwtWKWIsNkOZbx+JPSdxmS+7lVeyOpcQ6sEA3HbMe6YiPirWQNEjYC\n",
       "Xi+7SbwxOyPgmO6u10Yk3EnAa10/vNI+Oj3WOnQZtxB0RdRaMa37SOs0GTzGXY9KGP2KZm3JrWoF\n",
       "gAXKBCJIsqGljmZW91sDTIVFyqJMVVSTLOVGETUKymr9YNISlUZFLRx+du8YX51UzLOYRN8HrRxS\n",
       "wIl+wUtzVeYpJZFwTLusYQebo3KMfFhjvv5BIUQlw8ppneKY148t4I1q1NHKJ2iServoeqWIOyRs\n",
       "SiY7rA5yW8yQ0RkGSJMWNq6U5MMaZXwm5fvUdGNZ0vZLkRordAFJtbHW5Vtp3YetHSSSvJwjqjY2\n",
       "hofFW+J1Qu3jq3JTeczW5K/1riuO2cnmD0bEnekyMcsIeL0YAa+H7o6/elJWI62RS2NClJUk1FjC\n",
       "5kujP8ZbtUls6SGFzaPW8wxYEywwk2y70lfzcayOyVhCxMlQFo/yOA/Ze7ml7xGKEFu7FMUiiyEc\n",
       "7UtxrVpiKixxxOtnMowqO9XwCUQUHY4zFKWBaUFWuAyLLE/2DXHaG2GmYtWTo+qiaPjTmpgFy6M8\n",
       "LTSvFhYpiUo07ys0oQjJ6wp5VWWv08dkrUaIQgvqyVciSVqzG/SX1mkOyGE8S/IzR8tk9RDCz2Ap\n",
       "FwubfdYAJzIpioGmqjRzukxAWE/yEQgkup6ollzHhn9Hx4z+HydWyeTVOjik2KP2UMXHw+Ox9CDl\n",
       "UJNzbEZSkkcGLKYWiZZdMcoYE8yLvSVmJAAAIABJREFUWYSIzkAKq+XLrk8rOKRklhx7GGAIi3p7\n",
       "SHEUV/VRFlVsHO7KSSosogkZ1sPs9VJcDW8hhcXj4llqtkRImy+NfoqXy+81JJI1Jtu1Y/WkIiFE\n",
       "8rW+BKSNJC7tngStRrYjWauLSHin35B3H7tRvI3svIRXv37rnQtuVzErHkaU9UIZz1mf4KK4xpAa\n",
       "ZVJeI9S1JNmmFMy0XaqydF4rn3trxazGRB6IIqp+OcZxdYQjGYdXS3Pck9PYuGR0P//0aIrfvqr4\n",
       "paMW/+v1e03rcZN9NkSzUZRs4eFx0h7lzfD9NS1XajdUnER9SGztsF8OUlWKAhX8epZ2NBzdsPxG\n",
       "R9t4uPziUcHf3M4y6MLNRYXSUFEhVR3WB5yjSHvY8rgRzqOESqLlRuKGEeOinxldYp/VjxQkiWzt\n",
       "rkt8PeLhblvbONhkcClQqWdlO1TxKcioe1VG92NrGwvJgigwqHN8KNfPnxQu4FPDweWsOMmNcJ6y\n",
       "KCeVtvao/WRI4yCpEjAr5plnallBkD6R4wwnucB1JtQEo1aKvw/+nkCVk+HwleeH27G2CG5tUfL6\n",
       "osPdGg3D1kbERsKbyG6XL/SCgGFzJbxcwK49wDPyE0gEb/IKOTmBq1P1Z0syOsN1eTlpKA9LjQfW\n",
       "29cX2gs4+XebtcGNj0NUVGJCHSCNy6zIUxKFpDJVO+IEq8NqHx8etZmpCKYqikIQJVMtUGaQPhwh\n",
       "caXkvf+fvTcPkiO77/w+7+VVWVV9H+gDjWuAATAYzAwxw+EM75FISiQlWdLStMSVHJapldZSaFda\n",
       "2aGIDdPhkGLXK2ntla2QHF6ttFrdkleyTi5JcXiJnCGHQ5DE3LiBRgN9d9ddlcd7/iMrs7Oqq7ur\n",
       "gQbQmJkfogJdVZkvz3rf/F3fr1qgIRqdx0oBcBw2BjC1iYvDASeLAla9AFtK3rMn5A+utzJbRevJ\n",
       "pmcscIXJsG1RDlQCwrUmDMeA2w7m8Tbvs/pZ8BvssR0eHQyRQvPsosl1v8IRN8/X6teS8HW87/H+\n",
       "72OEUwMmCw2BFFAPoRJorvllVkUBJcIEqKcYRgqB0ppjvSa9tkokDrcSo0hXeBvCbrmf0hZfc1vm\n",
       "ccmjCBPBiFvXLt4+eHQHyG8C8U7ZFiC8Gybk3W+vB/CF3QLAsHMgvLEHbMoM77M/yFfVafJikP1q\n",
       "knHH4XnvGo/Ze5lu1Jh0XF7wZrmuz28ozBBbtzzR6X1p+awDM1UnVq5OJBrt68eWzoFGVboZxvVQ\n",
       "szBIcygf9a0+V15a5212IpuwsHC0TQ8ZegyLtw1r9ucr/MXVHuqhoqEUAWverOoQxmsG4DEQ9Eib\n",
       "QKsWDzi9ThqM144p7isWOJg4wiBvmlSDEIXmwxOK/zyjsDE50WdR8uGFaoEQRU2s0YwGohUMpTaS\n",
       "Vqr282pqm2E9mOhTxyxk3VBXbtXqBNH98F7zvZzWr1AM5whUbR0Ap+12CkSs39ZWoLnN8e5hEIbb\n",
       "A8SbgPBumZB3t70JwDttOwHAG3ucG4Whe8w9uOQp62X26SPss3p5LnyZui63eMOxdQrpbjbJbmYb\n",
       "cTNH33Wmx9xKVAHWQBiiAquP9B/kv6wsIrUkh4tC0Uj19MZADCTgZ6S2b2oLC5MeMozYNlII3rOn\n",
       "xqevO/zsgzN89tpenl8KqekAhSZMAepe2+WpsTqfn83gKY0tBYfy8GpRUw2jdaLtaiwkrjDJGBJP\n",
       "aVZVo6XAK+odlvz797/Mz3z2JHsyFgVPMRtWklC2RLDXynHZL1IWlaRau1O/cjctVD5rwNsNAG+3\n",
       "z7iTt7sVL/V2AWG7/NTrt7cRgL4JxLdiG4DwbpmQd6e9XoA3tt0DwHBrILx1H3CshiSRGNJFCgOl\n",
       "w5bcrCEsxjnEorixzuuJbS9HeTw/xN9WzzCp9tMQHtf1uZZwY7e9ue371/q97Pjd5prA64UVTpn7\n",
       "mPMa9Bk2D/YLTi+H+FoTEDJkOUy4gpIPL9UKzUrk1okyzumuhaMl/9WeLJ+diwA39nAdKWkotR40\n",
       "hWAqZ1Ly4a1DPhdKFpcrIUrrCLCbs5AhIGsYSCHISIEChp2oRavsC8oBXKxXE6+5PXQNJPsee/bt\n",
       "PcubVVR3am3aiu4ytm7JPjaqKeiGj/pWAEAIg++0v5dvcIaVxsX1+9xlG1RnMH4TiG/WOlRH76YJ\n",
       "effZmwB8u62bFqBOVdHdA/D7ne/l3T3HWQ5cDnM/y2IJQ5j0GCM8ZZ+CoI+KqGA0K2Bj2kgpDAxp\n",
       "kxMDnDAnOTUY4FfGqOiAJ3sGeNm/HlXxCtGsfN6aLnJtv9ZXVsu271uOZQMPOf4uSy9vNe8jCGyG\n",
       "dB++0gxaNn/6K/+BT37+MTwlCFQEgFUVsNgI+ZFDRSqNASqe5ES2j3nfSwV/o3+xZywQnKsEBKkA\n",
       "sgAsIflnx5e5XOwjZ5oECozm9aqGmkDBUsNk2YvWk0LgGgaTWYN6GC0rheDxYcX5sqYeahYaIddr\n",
       "ikUvYCVYa4GKSEF1C1Vn7M1rdGo53VJVHZ+j9Lrt71sfoFqXWbtWUfV3MkbL57Ll87V93Kyor7US\n",
       "Nz12eplOL0OYmIaLIe2kihshMJrV26bh8rDxXqQ2mBJjrJjRw+Up833cUBfW7teO4xvJSwPR5Wz3\n",
       "3bZXRXyvUVq2205WTbd5wrttQt4d9noD3th2HwDfrBe8MQC39/3GIWhb5pvczIP06SEqooQijKqQ\n",
       "VZ6KLCdeU1qdKBaDd3Do0TmO57KseJp6qHiRc/h4SfVr7EELYXRkZUr2tc3bjT3yrZ62N8sLpxWO\n",
       "HrP38lJjCQuTfVYvWUNwpV4jJyxqOkhIP9bWjYqnTuTyXK74DFgmdaUYcQweH67x+1d1atnocaLH\n",
       "sPjo/irDbpXPzuxh3PV5dtFE6WhZWwq+f6rImZVebtQEDQVKa6QQmALGXI2nBPN18JTGU1HVdOwp\n",
       "+7o1X2w2j3XAMnl0KOSzs5rjvRZfKa4k9JlpmxKDzKuoUCyHQ4MAiaRGg5qoMaIHmJbXOopgpK3T\n",
       "NTmgj1IRFRbFjeT7PexviYx0EoK4VflDSN3XwmavcQILi/uMIZ5Xr1BTBULtJ9s2hM2QnKJOmZoq\n",
       "4OtIJCKtCiWEwScmv4t/N/ctTuiTnJPnqakCfXKMgpql6F1reszxMbTfz296xNu1N0F4C3u9AjC8\n",
       "XkC4A/+ytBOwTf9I4qd5W+axZY5/MXqS35qfoV/1Y2IQENJHlgJVfAIcbD4wnGemKnCam71WCzmr\n",
       "bnCIMQDOi0gpyNVZcjrHO/t7qAYwnNE8txQwp4sctQc5HVylqBeAzXOPQhg8qB7EEoKK9ilSRQnF\n",
       "qO7nZflKx3XbQ9NpAo50YZap7QTwDSTDup8hy+FcsLh+TB1xNpsYuFjkDBNPKULNugKqOBRtCUHe\n",
       "NAia4PqJx1/l/zt7lEtlSahACrAkmBICBeNuNEY1ECx50MRr6qFGCnAMwXfsqWBIxcVSjq8uqiT0\n",
       "bUqBLSV9VnRtfA1KrxVhtVQmN715B5Mh08EUgomsIGNozhY1V4ICFVHBE7WWcHU7y5iBwYAexdUZ\n",
       "Dth55rwGM3Iuuf4hirzOEaIoyBU8aoSEDOpR+nQvi2KZWXV2Q0WmjSyegw4Zj+Ljc129mqRQLJFJ\n",
       "gD5OpUgMbOHiNfWuR9jLe/JjfLE8i60dpsXZZJumdKmFKygdYgobU2boF2NMqj0MWQ6zfo1lscol\n",
       "/zm0DglVXI2/EQivfdetvdGBOAXCu21Cvrv2egZfeH0BcNrrNYSFZeSxRAYhjEgSrtlaZAqbY+JR\n",
       "ZuUNPj58iD9ZWMDVLn1kGbBM9mYF9/U0eG7J4VqtQc4wqYWKGbFAIPwW9ql21ikbl4Nqimkxh4VJ\n",
       "QSwlk2CsV+s324ksbMbUXlblKl6TNnFAjfDRPf381VyV9w7meXa5zpxYQolwS9ar9H6krZ39qtNn\n",
       "MU/z2hhN2GqCcA6HfW6Gjx+d5g/PT1FqpryP9Spma5Kr1SivmzEk7xoN+eJcXH0u+Knj1/nMtQnq\n",
       "ocALIxCWAu7r8VioW9hSUw8FI5mA4wPL/O3VPTQUuAYsNyDQmqA5O/3+z/0R/83//kNJCB3AFJKg\n",
       "CQIP9kWV3vUQLpYDfK356aNFfuO1Xk72WZwvh7x/LOBKxeHbqz6GIKmkbhBQE/UkGtKpUCt+kIE1\n",
       "FjEDyVM9Y5wuVtlru9RDTd6MislW/IB5sUq/znNWvorWIb6ur0VJumx1S3OM2zLHhDrAiMgTalim\n",
       "zLjs5RucSSIuw3qcT9yX4e9m+vlK4yISgx7Vy4PuAF+rX2NQ9zMv54kkKIeYlTfoU4PMiPMJmO/j\n",
       "ONd4LXmIrati9DtSXosXnOz/m0B8i7l6Yes3AXjNXu/gC/cmAENnEJbCQEqbQfsQpWCOfnOCo+p+\n",
       "nhw2ma4Ivtg4x3e6R3i6do4aZUb1XlbEPCY2GZ3D0Q45XEbNDKo54U+4kjPlaqTWg+I+a5CCHzCe\n",
       "sZhv+LwgXmmrkO1c6bp+/5shYpFPOIVvyHk+0r+Pjz/2DX7xHx5jT0bzzEoNF4sJ1+JMbYmKLHck\n",
       "5ejWNgLj9v7Z5hltAeFhkcOUgh85WOKPLvWSNyWLnp94xBKJa0iyhsSWgmEHZutroWZLRrNLzoy0\n",
       "hrOmps8KmcxWOLrnBi/c2Mt0JUslkLiGYq5uECiYyoUs1A2uVnUCvEpDoCNvPEiAMrpoTw5m+NZK\n",
       "wKquJ15wusJbIhkULnnT4KofhaVdLHwUY5bLgl/HRDIvVnC1S1GU1olDxN5ubAYSWzs4WEm0IGtI\n",
       "3jHicXJ4gX9+xqFBIyHo6BSa7ur6tRUN/vyeR/mt+at41JKUgyeiv+O0ydvtQ1ysVwkIGZZZKsrn\n",
       "R/YrfutKSAOPQPgcN/fwlfCFpPiwHhZbHggyshdTupT861FYe1sgzLrltrJ7GYhvEYQz9252fAft\n",
       "TfC9W3Yrgg0RCMdhZsfo5Z3Ge3hWPcs+jnNFv8ij4u18TX0BAFPYuMYAY2qKWTmN0czx2trllL2X\n",
       "aqC4pJaS0dMqPQfVFN83qfjVG+dJq/O0cwvD5j/I9h7gdA44lhA0saP8tLbp1T2URaWlr9XRDmN6\n",
       "CEdKruiIYGMjqcBOXnDsxcWTdqflO1VDy6ZuctznG/0tGLGcqOWoR/P+qWl+/cUpFHEeeJUr5Txn\n",
       "SyYjTpT3NaVm0vWYq9ucGlrh+cUBPCV4ZLDEc4s9rHpRaFkRAfiH9hb5/GwvezKao70V/vxqllLo\n",
       "EzRLsNKV0kBLODpdKZ0+xnS4fVC6VJTPsijh4+NqN9JtRtGreziZ62GhrhiwJTfqPkXdQCI54GSZ\n",
       "bkTiDGtjS47Y/Vz1KszLeRQhU2ovr4gz61rd1rVKNT9vLyhs7w1Pk7lYwsXB5Z32EfZmo8jBl1bK\n",
       "DAqXovbIC4vHBk0O5mu8UshythRSC6NzMiMWeNAc5wvBcwSqjqfKXfBWd8qTbwaebwLxVvaGB+E3\n",
       "AvjC6xGA19bfqA8Y1iYsKWzMJi2lISxM6XKfOsq8XOBDPfv5TPE6ZRER6//KoTF+7bzJmJnla+rF\n",
       "xLsY1KNIDGqiSk7lGRd9nOZb65iQNvNYO5FtpNV3XPIA5HQPJ+0x5hoNStRpNB8GHG3TR5Z9WQvX\n",
       "gF5L8+nlVQIRILUkED77xQhX9EIiepBmu3pXboIXymUcTGr40TJtgJUG4Ogsy+TvNNlGXOMNUVW0\n",
       "JKpslgJMITBTf1sSjvUFNELJqiephOBIGHYUgRZMV6Jxhhz4pZ/4Q/7Zb/xjlhoqiU6YUnCsF0yp\n",
       "eW4xIviIveCctLClYClo8JY+l2cKUV44FrgAWjzY2PboQVap8FhuiC/WrnQMQ6evGUCP6sPF4Yib\n",
       "58ePXeUXvjnIqigmD0mOdrhPjvKivowiSiXEmsbJvnRQSdrM4pa69Pt4v+KHuPgBLk1T6mgbF5sh\n",
       "06EQ+OQMk8WwxvFsnudrC5TEKg2iPLhLnoXgAoGqbyEcsV0Q7rzOZvZGA+I3LAi/UcAX7n0Ahu1X\n",
       "RUfrRH8bwkJKm5wxzLg+CEBDNFjQl9cVtRzWJ5iX81QoEKhaAlDvMd/Oi2oagGNiL4XQY1kUcLXL\n",
       "BV5o4QPuxjp5N6Z0ccmT0z0M6j4ARqwMK75Hj2FhSsGK7yUcx/G+Odg81tNDr6X5m5W5FsD5sT2j\n",
       "XCqbvFKu84OTgteKDr2W5lsrIaYUzIdrXtxxt4fJrOYLS5FoQgy4cdjZQjJiOSggaFYwSyGwpSDQ\n",
       "mp86tsjvnB0lZwp8Bf/qfc/yW199goVGBLArjWYuV0agfH9PyPmSga+iimgpYNgRLHtQDdS6EHTa\n",
       "XEPyQJ/kfCl6nzUEY67GFHC+BOUgmgynWWw5V8CmOsfdah8PqT2syMV1HjZEOeNxNUqZelQAJ3LY\n",
       "UlIKfRqEzMpZ+tQA/+ndM/z3X5riqjiXqqhXrTn6prrWiJqgJItEGk9r91pafjKK6mQ4ZoxRDUPy\n",
       "pslbBhR/uDCHq13eP9jPp5eXKchlAD6xb4J/efUsgarhyj769BBXwhfwVSXhq+5Gx/h20Vzeq2C8\n",
       "XSB+w4HwGwl84fUMwJuP1alFqd/eT6g93ms+zqcan0U1Jz4hDI7LJ7nESzzAWziRd/lU9Ryr4XUC\n",
       "7bXkyWIqSku6TIjDTKuXt5XbS/5OtxMJK/FosqKPKbWXnLDot01O9IWUAslDAyV+76KLLSUZKTnn\n",
       "LyeygWk2qI7bbSvCinOZvbj0GTaVMBrFlSbvGtX8w7xICoyWggY+IRNWjgW/nni/rjR5xwgMOh5f\n",
       "nHOphwpP6aRQCqLCKdnW0m0KweEewbvHFvnk9AhSwNuGy/y/V92mJx1JNgoBzagpjgGXq41myDlW\n",
       "Roq4p00Z9TsPOyaHexTPLWmO9Ro8vdpKxdkOwpsBb/t53K4Wc9zGZmHiapdRmaemop7qObFEVRQw\n",
       "sXlE3selYIV5OUOoPYQwGFP7+Kl9Wf7VtStkdJ5B3c+pnjwXywEfnAj599dXqIjoyWNYjXLY6eNG\n",
       "o86AaXNGXW6pHWhPRTzAIS7qOcb1EC+JtQdHW+axiKJES8HlpAgLOuWt7xwIw70JxG+C8Ab2RgNf\n",
       "2I0AfHPXYLs0le3WDsjtf7csm8q3weZFVpu9X7d8e+VyKhf8k4Pv4LPLRXI4mBh4BPiEnMjlKfma\n",
       "94/X+KMrBg1CajSS8LBCMSxynBcziZDDZkC8lhOOuJD7pcOejMFkVlMNBNdrkQe6EkbA285IBWs0\n",
       "lnFFuRRxX6+movykhSjaZjN0LaK/bSn52MEif3alD0+plkrneHlbRgVesXedMwULjRBPKcrabwHT\n",
       "2DuP+aM/OFHDNQN+84JJjUZLODptprYIhJ+E69O94Olz2Ik9ayOLz22cThhVo1HRGhavybNRPb32\n",
       "1kVM0q1UQhhYwuVRcYKX9ZWEQnVaXkyWt7D5/vwJTherGAhMJDnDZDmMhDfuc7N8pvHNlr7fY+o4\n",
       "M3KOB+UUL6ppinohqdSOQVYTRoVXzXzwxhrG3RZldbI3gbiTvSFA+E0A3g1289dgu2INnawTe9bG\n",
       "29uYOrKb5Tcduy2PbQg76e2M3zu49Oh+GjSSwqwRPZC0LA2rIQDGzCye0rxnVPMb8+e39oSbQHy/\n",
       "3seirjAosmSN6LtAaw7nDb5RqNEjbfZlDTIGfL6w1FGSMPao479j4F37TnCyx+V6bW3dqHpaMO6G\n",
       "vFIwWPVDaiqgnYTjyWGTs0VY8Lx1xVfAOiCOZQjj9z95QPJbl3ULL3ZsFiZ9ZHm43+LLqyV8AgbJ\n",
       "4xFwo1lIFedxY9tMKandDGHzo/0n+f3VFzAw+GD2BH9Veb4l3NztWLGlUxZj4hAFscSQGqOfHH2G\n",
       "jRTwajjLuB7iZfkygaqtW19iMK4PctAc4IvBMy3FYWGTrGProiy4NRBev/527F4D4+6v7+sYhN8E\n",
       "391gt3YNblY3eCPrJKawHUCGzqDcLRCnPeKEXCT1mRAGQ3KKEsstP+KMiCTu/C2kCztZO3lHXMAD\n",
       "UX57MayxKooJqHZSLmofX+q1Yq00GAOJVOGxvEvB0xzKw7PLjaZ6k+IDYwZfXzKoh4pV1Wjb1prE\n",
       "4aLn00jAIpqmGgQtmsVAR55rC5P/4YDJl+ZyTGY1X1lq4KMwEIzbGUYzgtmaxpQRY9eNuk+BKmVR\n",
       "wRP1JKybroSPrVsmra0EGG6m5SyOnuzjOEooGjRYZmZT1SVYq3n47/of5xsrUV3BtLyIhd2Uu5zk\n",
       "nDxPRa0wJKd43NrPn1f+skNY+lZBeP0Y27V7BYzf0CD8RgRfeKMDcPfb3EjVaEPg7AKIuwHhbvSE\n",
       "0+tuto3NBBw6fd+JRat92VaQba3eTgNxGoCjsSOay9gDPuS6LHkhhdBb58VCZ5nE6L3AwqBH2hzK\n",
       "G8zXNeVAIQX87IlZfuWFUWo64F1DGf5uablF9and4v0cJM+JXoflBonnPZlx8JTmZL9ipmpQ9GGu\n",
       "4ZMzDC6oef7zU3N87xf6qVNOKpuj/d4e+G78fefWpO1Yp3u4fZz0Q1668PDDoy5/NV+mJmqM6SEs\n",
       "IXhkwOD0SsCCLnPE7ufvva/QI4fx8Sj40/hhZV2P8M0BcGxvAnFsrysQfqOCL+w2AN6Z63BzILz1\n",
       "9reSFuwIoJsA8WYA3K2m8M3IGbavuxWXdKfPN2XVSrU2jeshHu5zAHiuUG0L8RqcyLuUA9ib1ZxZ\n",
       "jbSFPYIEhAPCdR722r6t9SHHeV4TA0dKMoZkwBb81wdn+esrY1ythuRNg7lGg3mx0jJme5g6fiyI\n",
       "jkUmn40ZeYZsg1qouegV+eGJLN9YsnjGP5fk1mMPGDbu601/17799u86rd8N+G7GprWZbVaDEOXp\n",
       "bQaZACKd6JJYpaoLfG/2Mf64+HfJvofab6uS3ikQbh3rZu1eAOOtaUlfJyD8RgXg1yP4wq0AcGw7\n",
       "C8Sd8sTpyuuYXnCziXWzbXbyhNu3t/G+rAfhJMfcPhlv8L7T52kQNpCctMeoBopjfYJXC5oJV3Ku\n",
       "7HMgZ3GjFrIva1ALoRLoKNxb1ww5grma4npYWieRGOeXB8njCIOGDnlLv8P1Giw0fDwCJIJ3DDl8\n",
       "YamGh08Oh+8eM/mjuRV8/HXA1+m8xV58rIfsYlOmTiACGjQSatA0AMPGueCNGNJ2CoQ7Ae/2Cn3W\n",
       "PwTGIAxgygyWiNrhCmqWUPsE2kM1+91vb0643V7/QLx1HYEw/9c7sie3yTrJvL1RbHcAsEHEa7Rz\n",
       "+7Iz13OrYqqttqFblon/TmT9hBERfsjHmBKHCY2IPtOR+aaEoWjKyUXrbrS9mPZibTsb5ZJFapn1\n",
       "soaGsBFIbDI8wgMoZScSjPEy6e3E223/XyAxtIXRZJMykGR0hmP2MCMZwYV6jb0Zi9PVFa76FRoE\n",
       "jJguxSCkoQRDjmDAFjzYX+P0CvSYBrYhmAlLhCJI5AIT2UGhqAmfio6KsByd4YOTJV5cNckZJrMU\n",
       "eLVWoipqeMKnJCp8q1LGFx5KKELRrHBOvRAksoW/fNThS4sxoYWJjcW/OTXPXHGcQZHjVL6XsJ5n\n",
       "WZRa9i26A3TLOU/LFKZfyXVuXqdO0obt43V+HybLJp/p9Z9tbXrtJaIWuIPiYWqywq8ceJhnig0G\n",
       "9SjvzO7l4cwUl4IKdVUi0PVUZbRuCk20b3ur99u1W5cEjGU2d6s04layh/e0J/ym93s37fad+517\n",
       "qNrE8+zi3mlvaYq9XyEMes0JDAw8XaOfMQpioSON5Xbk6Dbc1w1AOl1RfVgdwSRq18maBq8Fcwmd\n",
       "ZScztc0j1iRXvQolUW4Zc78cpBB6SAQ/d6zMJ17TqbYd1dH7lEgc7eAShawVmif6enimUKAsKsly\n",
       "nfLB6bDxlBikonxMDApUqYnaln2+a2OvZ7oytc3PTI7gKcmnb8ANVvmh0UE+M+fzkb2C37lWZb/Z\n",
       "R48lKXiKF/XlRP1oo7HTUYYhNca/OOjwh5cdXhCvJDzMsD5UnWbNgq1FHLq5d7q9v+JozaPyXZzh\n",
       "eRphoaWNSeuwxQvu7KVv4LnvAm84bbvRM96cyvYeBOE3wfdu2e0/7zsf1bh5IE6Hmw1h8TbjfZyT\n",
       "5xlSY/SS5WP74E+uCh7tz/Cl1QJv7+vjL0uvUtflDRm0hDA4pB9gUS7gUaOmClsewUYFV/HnLnl+\n",
       "ZuwAv3e9yHcNDvK15QZFaoyIPGXtsyxW1wGng8NRcxjXjKqDlxqKkYzkcsXHEoKGDlmm3ARytY5l\n",
       "qpOlc8nx8h2X0+2h7yhk/OMTg1wq2yw34KX6StLn2y3j1XaqjdPsVv2qn6Iobdoz3GldG5cpNUaJ\n",
       "OnvNHmaDKotyCa9JBblPHSQg5ICd51v+DAWxgKeiB5J0nrld2jD9fbt1G5beLEzfaYzNwTe2jb/b\n",
       "bUAMuw+MN65cv4dA+I0KvnC3AfjOnPfbk1a4ORDuROwhkThGRCc5KY+yLOY5qY/zsjiLxGCv2kev\n",
       "sPmmeGGd1xNrvI6pvUmLTUWWqVNOiBw67cOjPMQZXm1pTZIYzUDxGhjsVxMMWCb7coJrVc2C51HB\n",
       "o19kKOoGDfwWsft2AYOGUtTwE+WouPI4aQfagGVqM9uoZapT4ZeBxNQWB80BfmCqSj00yBghv3bJ\n",
       "xxOtbUxpso1YAzht3YJxe//0lJrAxGCRIjVRSy0XEaN4LZ81Qbyp0dyveymJMiEKC4uj5jAALwY3\n",
       "kpYnH49Yk/hhZ4S/975JIywSNK/9ZhrDm4HvVnnxzdZt8da7Avh7C4hh94DxPQ/Cb0QAvnvAe+fP\n",
       "9e3L628fhDdi1koXY0lhJ8UuMe2kIWzeKh6iEgbscx0+0ziTrGths1/tp4bHoMiSN02qQYivNYfy\n",
       "Fk9XL2LrDL26h1Ejy6G8wYoH12tR/2qsPRyLSWR1Lw+a45SDkGkWgQicJmU//ZbB8941LExqotoM\n",
       "y1q8IzvBQl1RCD18FEfcLA0FRT+k1OwHzQmLOV1q8zxVSwETbB+ENyr8cnDIaRcXi32uQ8FXlIIQ\n",
       "j4BGU1wiRCUV1C4WA6ZNIfCTJ7zVAAAgAElEQVS5IZbwRH2d9wrdUU3GFj/QxD3Up8x9FP2oCrsa\n",
       "Kp7ao/jd2aV1HrlEcswYYywjqYVwrhZVjZ/M5/ng5BL/52s59tgOc16DCg1yOEzL60m4WxHiqUqL\n",
       "xnAMxOkJe6s2qI2sW/BNxrxFEF4b+00w7rj9exWE34jgC3cLgO/Oub69hXXbA+HNqqIlEintqL3D\n",
       "mKJBDV9HOq6DTHC/HKMShixSpCQLLcAQE2Q42sHVLsMix7KuURGVxHu6zxhiyJGcGqzzn6b9JGQd\n",
       "sj4HKjGYVPtZlPOJEk779wYGGfIJZ7SFhaNtesjwkSnN52cjCUIpQAhYqAf4WvNwv8XXV2tMOi7l\n",
       "IOSBPsmZlZAbukBBLncVqm1/v1ELlERygFEq2icnLKQQNJRiwDJZ8CO+aFeY7MlYrHghy2GDgEgT\n",
       "VwnFE7kRXipXuS4j6s7NcrkbWTrHmwZjRzvY2uFBd4BXagV6yNAgpCQqycNQOqLwRF+eq1WNLQXH\n",
       "ehVP7b3GlcIAf3TJBaCoPY5mszxbu05BRA9Oo2oSFwcHk2/rryVc5e0Vyq3HtPMADDsHwtE23gTi\n",
       "jtvvcI53dXX0Gw2ARVx5i9h64R2xdGXznQf9qHr0dh/rBlXJNwHAcSW+FAYedQSCnBignxF84TFp\n",
       "9FNUHu8b6uFSLWRKj/EdfXso1rK8t3eUaw2fgJCqrLIoVimLEr6IBNY9UWdVeVQ8g0LD5Yx+LQLg\n",
       "5qSsCKLJufkKdYNVFvBprPsuXl4RRqFcofFFgyE9RAOfXpFh1XMYzQjevafEuaJDJVDUlOL7JhXf\n",
       "XjW4ppeYCVdZoMAL9QXmxRJVUcJvMklFZJJr/+JCq/RnSfVwE9iS9zquyI7WKVGjIQIq2qOuA0IU\n",
       "voKD2QyutJr9woIPT1aZLru4wiLUAoXmsl9gVa4QslZ5DST7143F+xr9H5mBxZge5mS+hw/vXeb8\n",
       "ai8NHXnoCgVCILVkmF5+/e1X+dr1PUzXfN49CpfKUPAly7VePjdn8uHJgPm6zfWwyKqvmJMzKEKO\n",
       "qmMsyRUOmyOc1t/G1/XmPscvUv/TPK5uQWSzY+/8nRCyi3PWXTWzECJ53VzV8q1XTXeyu19JvX67\n",
       "u9ITfiOC752z3XFu70xbWfde8EYA3E7IIYXNEfkYnmgkod5+1U8PGQIU373H5rNzAd8zIfnKgsk1\n",
       "v4xPQCCCSL1X+C3h07RYwGbkEBt5RJvxWnfSnTUweH/mBKerSzjYHHJ6uNwo42LxjmGbv1paRGrJ\n",
       "D4wM4BiKP5ktsCIXNqXLbLe4N9nE5qnMEWZqPnN6TXMX4IS1h3NeVDCWw0WhGJQuSuskDNxQin1Z\n",
       "q3neIVBQ8BUTruR0qUwDn3HZyyMDkotlwTP+qzSobXi+NrP0+cnrAR6yxjnnreJgccjJM92oUaSa\n",
       "5KJjiyMMUkscbA7YeT6yf5V/e86khwyLFBO1q7qoUNbLSfW8IaJjM4RNJVjsKhTdLQjfjCecbGMH\n",
       "PeL1275zXNPd2J32jDud+10Hwm8kAL4z4Lu7zued6+nunqyjUyvSSfMpTmR7+Pv6S9RUAV9HAgGW\n",
       "yPDxwSf50nKFRbmEq7MM6h4OuBn6bHh4oML1aobzJYO5Znh3j2NRDhSVMKTHNBhyJD0m/EXpVdL8\n",
       "xMC6gq7NGJk2Pb62tiZD2PzNW/P82HM9TDLEVRaSfKqJzYd69vNMocBys7q3nbAi3c6y9bbXqrYH\n",
       "1RBjRp4B2+DF2gp7RA8V7SMROMKgrH08fBrCS8g3YmA7bg3zmhdp31qYPNHbhy3h7wsLSC1piAZ1\n",
       "UUnC0O0cz+n973af0w8u0CpR2L6srV16dQ8hCheHfunQUIppMYcSIaa2kqKsuGI+1P5aOD+lYJS2\n",
       "ncgHb7TuZp93sq0B+eZB8k4oMHVrdxKM28//rgHhNwr43n7g3b3n8c6SqmwPhNOeryFd7pOneDI/\n",
       "xKeq58jpHnwClpmJRhZ2Qnxv6wyudnFxGDUzeEqTNSIt3koY8uSwyacWizREs/BJu/zwpMVvXF9o\n",
       "qew1sZPJGmgBlO2Ab8djbd5zhrDJiDzvd4/xdO0cNcot4NqnRyiJ5Y5gtpl1Zvhan2fdr6a4P5/h\n",
       "Ri3kXSOaFc8gY2i+uOAzL1aoieq6ivJY1Sg2E5s+NUg/OQ64GU7XF1gUN9rO181N2BuxlnUC5PjV\n",
       "pwYYJM8lOZ3kib2mNy4xksr1C/IyEoPlcDqpho5ts6rojT7bzj3R7Zib2e0EY+gWkF8fQLwrQfj1\n",
       "DsC3F3h397m782xmXXhqHbzgjDnAlHyAmqjyQwMH+bulZT5xv+BfnquiREiJ5UQizpZ5fnHqMH9w\n",
       "RTItrwMkIu4/MLSHzyyWqTW9zDE9RIUGT/Tl+evSxQRQTGwG1VBScfud/UN8ebWERFASZRa4tk7+\n",
       "brsTZ9o246LeavnNbHPO6/XgZWIzqcYpU+eg1c8FfxkXh4CQWXltnQceWzdKRDcTgt7seNqPJR1m\n",
       "lxiMqTHm5UKiuBRHNWLCjvRDVDrCsRlJx814r3cakJPtbrje7Qbk2wfGdwKIdx0Iv54B+PaA771x\n",
       "vu4OlWiXwNEBhNOecM7ag6cqHVVp0oo0UXuSzaTazweGehmwA/76RsC0vAbAg+IQWUPyfHAJRdhS\n",
       "xWxhY2LTo/sZ1r04wsCUgsWwxqy8QUbnWNCXCbVPu203xNpu3cozbrXORttqD+lCBMQmNqNqDJ8A\n",
       "F4dBw8FTivNiumMVeDeh5Vt5MElbp31uB+H/efJ+/nBa8cun5vnVb+9jPqxSETUaRH3M78ruZaGu\n",
       "+Lp+EV/X1skL3goId/t9u22XtONmtpFs6yaJPjazzQH53gTjXQPCr1fw3VngvbfO0d3j8O7+PG1V\n",
       "Fb2RxyiEgS3zjMkjFMQiLnnebh9i2IE/Ln0zEUYXKaB2cNmv9nNFXokqlXWtxbuNx2/vPe2TY6yo\n",
       "6+vyw7diW0kfrl++87XcfJ323Pr6kHT8WTsrVbe6vXDzxUrr93e9OlVMqhJ75J1C0HHUw9QWR+1B\n",
       "rnk1xiyXJb+BiUFAmPQDx1KInqq0HE83+eBurHvN2rWHzYzsxZQuJf961+ITG40nkWTNYfrkGDe8\n",
       "F5OHxu2TgLRbpweuja7zvdXO1H5u70qL0usNgHe2tSjdNrS7LW4xWmtFuNMWn6vubGNyjvQYUXtI\n",
       "3K4Rta1ELQ2KgJJeJiv7OMFhjvYKLpXhYnip2UqkUDpgH8f5wYEDTMoRFr2Ak/Y4YZBljDFmmUHp\n",
       "oNlCFLS0F8WFOxW10lymtQ2opf1nmw88cRtO+6dsMFbrsbd+s9G2E7EIETN5ZXjKPsH1sMyHcke4\n",
       "4tVAQNhsn4rbnZL2ojsIwNGRtB6jEBJH5PiZ0aO8UtZIEck+jKgxfBEyqkZRaJ50J1j2QwwkQSgY\n",
       "MBw+ONHgJx6+wEvz44RaUNY+WoCJRT8jVClGv5fmduP7S7S14mxF9t9usUhEp5eUFqZ0yVt7cIwe\n",
       "xuRhPFHDlnmOqKMUjBIhEWjG4hOxAEWn8QxhIoWBIW0yRh+HzEdpGD4DcoJVdYNIMzpq30ofy2b7\n",
       "2KklSsZc16mXJhq2c8tTPF/urD95+1qZWse8457w6wWAd8bjvXfOxe5Rqrq5c9YtReVm38e9wqPW\n",
       "/SyH0xt6M8l6GJjC5n5xisviNeqquCVp/4b7sM1c94bLbNMjjtbpTs84/V2cQ7VxecQ4SKA0F9Q8\n",
       "IYqqKCbeL6yvwE5/lrbtAvB2i8vi6xt7w3k9wAd6J7hcVtRVyFTW4tO1l4AoLxzzTo8ZeR4ZkHxu\n",
       "scZPHlT8b5eLybh1UeEBDnGWKEUxqAa5KF5G6xBf17e8h7br6bZ81rz/TJnBEDbvMR/hJX+OHp1H\n",
       "IvHw+dBID88vaa7oBWbUawwaU6yo63iq3HHbQhhYwsUxenlQPYghYDxjseSFBErzbfEydVXkKI/g\n",
       "YPIN9Q/4qrKFgIGBKTP8yv738u9m5lhS03iqzHH5JP9oLMdvz89wtfE8oYoL2tIpizvjHe+kV3xX\n",
       "w9H3OgC/3oF39wBtu93aOduuYtJW33cK1W5n/Vu1rQC5W93iljFvUckp/Xm6RalPDdCLS59hU1ch\n",
       "jw2a/NnK1YSCc7M88FbFWZ1A+FZzxOkHLlO65OjD1hkC4bOqZ5NtGMLmdx+Y4uOvzK3j/Y6BPEcf\n",
       "PaqXKaMPTymO9Zr8bekKRb2wYbsSbO/hrOMxEGlb2zLHKU4xwxIVUeKYPsiwY7LYCPjwZMhLqw7P\n",
       "lpcIhM/HRkf4jwvXGFZDXJEXccknldzx/sTjfsB+irpSnNHn6NNDVESJQTXEopynRtSKZQmXUHuM\n",
       "sJfL4bdQylt3vSSSjDnI++138LT3LPdxkmW5jEeNHxk4yv+z9CwNVSFUtUThae08td8btx+MbxcQ\n",
       "3xEQvlfB906D7u4FwTtlO3+fdAPA0P09ut4L7P6adbON7fxWbgaMb9UTbgfads83Q54n7P08411E\n",
       "YvCEvZ/z9YgMJB6rQJVDdi+DtuAz1YvUKHcBuFv3Tndu5bn5SXijB5ZOlj6Hlsgwrg8Sc4VJJNPy\n",
       "EgC+rrXkTdeJT+xAoZlMXRMhDI7yCCVR5j45yst6OlG5ktpgXA8n/doX5GvJw8FG+xePCZFOsSVc\n",
       "fmzgJH+w8ho+Hr6uEagmn3fKy2+/NlLYWNLl+7Pv5FP1Mzi4HNMHyZsGP//IJX7pG/u5qOdY5jrV\n",
       "cIVQReO2nqPt5I1ju8XK7R0C4jsKwvcaAN9u4H0TaO/M/dAt+KbtZoE42eYOA3I3y20GxO3nYCcA\n",
       "WGKQF4M85R7iYqXBjIj6nW3t0q/72Gvlue5XmLByZKSgGIQcyht8sbAEQKOpiJTXOQDm5Y0W1rDY\n",
       "Oun3AuToo6gXkiKuTu1b2wXezYCv2/tofVGa5CEepcewkmrp9H627/dG+7wdUO50vUXTI55QB5gy\n",
       "+vi6fhGICs5G1ATjspeK8rkgL+Dp2rrzujbW+pTEIJPURZlGk161E3h3CrfHHnUsfmIIG1u4mNgc\n",
       "VPsYdxy+6l9kSk1QpMYF/U2ClDe85hFvfG5uFxjfcyB8LwDwzlUzd1P0s9n52Oym2Llw7E48ae9m\n",
       "uxnwjW2ngBG6B+Rteb4bFZZtcH/INq+1m7E2C7Wnvd+YrCRiDOtjxMrwT4/N8rmZMU4NrfI31wY4\n",
       "VysTNAPO7bSd0FohHb+PtxP34t7PXq7oBYZ1PzlpsaiqNPBwcXisN88fF5/p2Aa0ke3k/d9N2L8T\n",
       "/anEICv6GFVjzMtZynq5Y1Vxu21XuWpDBbC4al3YuOQB8KjhNR8U0tcBoFeMMK5GeXIww9eWI1GN\n",
       "BbHCoO5nWaxSFisJyUya/OWdxlv5mnqR9zkP8cnaM+va7eJWv8fFYwzaBi/UlxgXfZwXM6yomaSD\n",
       "4N/sf4Rfnl7gp8fH+cWZ56gGi1F4exOPOLbbQQJyq0B8x3LCuxmA7xzwGjhmLxCFXzJGL0XvWmo5\n",
       "g7w5CkDJv3FLZf0btd7E23ibfBuf9/4uooZQ63mA73VwvhXwjW0nALHddhqMNyrAWbfdVKtUvB/x\n",
       "3zdb7JMGFpd8wiTmapeD5gCB1tRCxT85XOE3zjuEaN475FIOBPN1eMGbbfJor91/mykxmdpOpA5z\n",
       "OLxlwOQbKx7TcjbJq3YLwHfi/t4o/J8O3x7SDzAvZ4n1i6fldRQhVV1oyS23XytTuvQwSIDXFWhv\n",
       "lDZpSR8ImwfUcWZFlDNO03/GywAcVkcSWUkbiyNulufrs1REqaXKPTYLmz49RI/OcziTZ9kLuajn\n",
       "KIuV6Fiw+b6eI/xp6ZvJMcS0sPG+povW4uKySX0YC5Mz/mfXrnnL8d8qGG8+Rst4t1KVfydAeLcB\n",
       "8J3q3e3k9UphYJu9WMJl0JjiHc4hCp7iklrCx2dOX0TrkGHjADPet1smlZuxuNLwgPEIC1yjropY\n",
       "IqqOrKsiofaS3MpGcmn3EiDvBPjGdjtAOLadZKlqXy4Nwmnv1zF6+eGet1AK4NuVAqtyFUXIfjXJ\n",
       "S+IFYGe4lWOv1dQ2/2RsD39+o0FJRJ6RqS16ydIjba7ohYQhLBpDMqj7Adhru7zkz+ETYGEiMfgf\n",
       "D7g8u5Dn5ECdP5uGGTmHq7NMiUGu6AVm9cUtw7rd3Ms7UQjVbu152Yd4jAvyAmNqLx8a6eEfFnwW\n",
       "RZGj5jDPh+eRGBxjP6uqQY0Gk0Yvl9QCR809nA7PN4lORnCxuCKv42iHiihRUgtrx9oBGNo98Pj/\n",
       "H+0/yReWy6yKAjmdY8ro46yaJRB+wgC2NsZaf3Sv7qEoSgSidZn2857ReT42PMHzy5pTg4LfW7qA\n",
       "IsTGZVSNcFa8sFZstUnoOj1Hpa9193PWzeSNO6/XMsZuBuHdAsA7z1a1VfVr+/bWQDgGxmHrPhrU\n",
       "cHDx8XiXeZKnvagCMC5e2OzJts+aok8Ps48Rngm/gErlYSD6wUlpM24eZ1XP8rA+lfxge3SeK/Ii\n",
       "bxUP8rT/GbQOkx9B2u4FQN5J4E3b7QRhuH1ALFL3WiIuIHP0ihHqlJOwcSdvZ6MCqM3oKNPfdyKz\n",
       "SN439YId7TBl9FMKfSo0Eh5tqSXf2T/Ey4WArGmw4kefO8JgmsXEa04rTsX7HnuNG7FSQed791YB\n",
       "t1trfzAyhA1ERVsxxzSQMK4BnMz28V0TqxQ8hy8vuFyt1SlSoyZqiRBEO7HJRtcx2Q+xtp3YQx3U\n",
       "fRzOulQCzZIXUKLOIaeHF7xZGqLRcg842klISZSGulJIBGdVVCnuaIeH3CH6LPh2sYaNyV7X4iuN\n",
       "K+voPNP73A6qaSBOq0l1KsK79Tmrmxan9cu2280C8W0l67jbALzzerwG3RBndC62ksl3cVN6LVzG\n",
       "UxVqukigG1zTy9zPSQqygClsBs19vNN6gllRIGP08cO9T3E+XMWQDrbMJuNNcwWNaoabBVKYSGFi\n",
       "Spe3yHeS1VkaMppuh/QgE0YvoYbvGZjg6fqFpjB9tLwmRCCiCVwYINbCljG5wFbN9bfTooeY1gb/\n",
       "22XbGftm9qMz+cXNjZteTiAxhc2QsZ/7OU7NCHjceJAj9gA/d8ggG0wyXff5QO8kojFAoSlKL5DJ\n",
       "dY9feTGAISy0aD7siNZtxbrARrPuN/4s8ZTj+x7JPx7ey7WK5J/ut7lUtlE6mtIMDCxMcjhM130G\n",
       "LJtZv0aDgCoNCqKKQJLRGfp0L9/RO06xnqEsyojm+v3s4d8eHmNm+SBVGXCcEyyIOWIKjvUtP2mN\n",
       "3s0tmiR116/O16z5HbK5PwGgCXQjak3SkRzipL6PZblAWRRZ9jWrlSE+uVykX7pMq1WUUOzRA/zE\n",
       "VJ6vFmuEBIRNKcXk94lMrtM6wo7m9Yr30SVHDpcrfglDmSxRjh5iQpM+kaWK17y6ZiTRiMEhc5BV\n",
       "P8TXiiVVo6gb2M1/FiZeILnQKFOjQVnUuBoUUEI1x7H4+PAhzlTLTfKZtftuH0epywZZ2UdW9jPB\n",
       "fdRljV5jFE9XUTogTV4Sz+3RfSlSx7lGJfvR3h/EZ4SyKGBIm5i0xDH7OWa9k+/pf5wXvIvJFYrW\n",
       "hY21jzcjAbnZufA2kXXcLQC+2/zMG0+aRuIF20Yve40TzOmLyRO8LXMc0McwMZiVN4gJ4QtirdHf\n",
       "J0CJkAfEFC/raR6z9vM57/mWJ8l0HildbRjTJprYuDrLE9kxnq6dw9YunqglYazvcd/O042XyOo+\n",
       "AuFxUE3xmjzLsn+5xVPeGQ3Sze12ebjd2Hbv31u532+Vp7l9mfZq0/s4yaJc4BP79vB/XImUiRqi\n",
       "wQ/27+PVgmYlbCRUmtH+ROv26H4mGaChI06rObFEvRlWjpdrD1Pa2uWUvZfXGitURKVlH+Owsqsz\n",
       "TJg5loIGA4ZDKYyiN640OZQ3OFvyCTUYAj48ofj0DZMRx6DPhoN5jz+d8egXGYraY1msYiAxtYVE\n",
       "8mTPAK+UGrwqX+Mdxkk+630paY/p1uvdKf5p6K54Ln2ft+eMJQZPyFOc0RcSj/mj/Yf5xnLAOXmh\n",
       "YyU5tKpubbQvcRtZEl4m8s6ljpZzcBinn2Hb4kajQYk6IQoLEweTA67LwbziiwserjB5ZMDg68sB\n",
       "HgE+Id8xlONiWfBKYwklFI62yeEwYjlc92vMytkWhSkTG1PbfE/fXkypuVETfK1+rcmZ7q3zitPH\n",
       "lTOGOaCPMi9n+fmJfZxedvjzyucwhM0BTjAjLrRQhRrCpkcO06CW5KAr/lxb73F0ZmNr9ZI7RVV2\n",
       "xhPeERC+0wB8t4EXtvJYoknRlBkm7YcZVkNURI1FcQNf17hfn+R4Lsvf115NQDKnc+Sw2es6mAKG\n",
       "HM2rRUUh9OgzbGwpeTGYQYmQnMpznzVInyX4VP1MM893mMviNYQweJt4mCvhCo+4Q8zVA94xIigF\n",
       "kt9ZeS65AQxhM64PYmGyKlcT7VOAueBsS3P9VuGfe93uJADHthkQb5f4Ix2OjsaOc39rDFBxRbOJ\n",
       "zYAaxsGiRoOKXMvdxpKMLhYFqkgkh5weRjPwydKVJLRoYvOQsY9L/iqD5FmmzNvyAzxfLvB4Tx+X\n",
       "KyHzqpxM4IPCpag9DAQ2JjnD4G3DmleLBjkDpIC3DFb59HWX75sq8x8v2vzzYyUWaln+r6uVpKq6\n",
       "PbxpYJDXA7w1M8Hf1r68xsu9QyxUt2LdFNC1X68YhONrFl+v33wgy59fHuOZymwi9ygx+OmxKWaq\n",
       "FrM1eN67Rl2Uk3PTydpTB+m/pTb4mckRbtRsrlYE1VCTMwVXa9Gc4AgDW0r2ugaLDU2fLagEkZ8Y\n",
       "aI2nNIXAJ0DhE1KjgRIKv0mLOa6HmMw4fNk71/Lwd0wf5DLzydzjUaOuy0ndSrvsY3zeJAauMYAi\n",
       "ZEDvoSAWAXibfJBz4TwVUQLg7dYRvuy/mug5+7qe8LxDdC9IaZM399AIizhGL6velVQrlJcC47Z5\n",
       "8CZAuDML2S2C8J0C4NsnB3gz/aSbAzCs/cDiUEmcrzVE9MrIXhxcJAYfGzzIZxbLHHd7mKsH5E2D\n",
       "jCG4Ufc5krd4trxEQzSSiSgth/fzE/v419dfW9eHuLavBvfrk7zC6Y7fSSSGsDmsH+CqvISna1TC\n",
       "xU1BOLbXAxjfDQCG2wPC0Dqx541hsrqPqigA0f3yg71H+MZqHR9FpemVTMp+5lWZQZHlBqvNitco\n",
       "CgO03HPtE3xM0HFM7OWhfsmPPnyGH/vcfVSaWskSg1OZEVwDXinXMTEYz1goDY4BezKa907M8YXr\n",
       "e/jZDzzNf/nqk/zuZQMfhYXERzFqZhjJROer4sPT/jfX5Rbj95sB8N24Xze7VrAGKKbM8LHet3Gt\n",
       "qvlWGKlu2drlQ717WfHgdH2hCbDRb9LCwtE2gyJLTQe4wmSGJY4Yo6wEkXTEvJxdl+N/p32EK/Ua\n",
       "y6KA3wxrR9/LlghDFMUQ5HA4lLcYcTRHeqp8bi7HuKu5L1/nRs1hpibxQigFGgmJjvb/9OASv3du\n",
       "jNPe9aQtLdaGbhfrSLe8TapxGgRcl1fJkGdVz7bUvezjODPifCKWYgmXt4oH+eX3vMBHPr8HicGg\n",
       "7uFkb4bTxSoBIY/19PB8qcSijKJ/78kc4i+rX04eUu/XJxk2MtRVyLfFi1SCRRyZoxzME4Tl3Q3C\n",
       "txuAd6MO72bh57S1y+UZwuIt5vtwMJiWs1SIJsbvtB/ipfoKJVnE1BYGEls7KBSBiG4+WzscdQY4\n",
       "7V2jKgr4pItSWiei2LYqUIn37wP2UzwXvkZW9ybSebEMWze9i7Hda4B8M/funQDgrbbTrYd1n3gL\n",
       "NVHjsNzDWXWDQHjcr/exqCuEKI7Y/az6AQ/0WlyvRQU6QfOe+W8PhPzalSoNGigR3WNpRaBO+5QO\n",
       "dUbHGIcbLSwsTG3yQ2M9fGZWM56xmK5HgJwzDCphSM4wmHAl3yqXGTZcRhyDhwY8/u/r8wAckxPM\n",
       "h1VqNFiRESANqTG+d3iQ55dCvq6fQ6Hwm5rPnSps75Zt9dCU9oQzIo+Ny0E1Ra3pReaFxVTWYqYa\n",
       "4GvNgZzF85WIbjIGUolkjx5kTixTF2th2Kgd6BBPFxf41RMhv/ziAB8YM/iz2chTnDR6mQ+ryTgG\n",
       "klGZp6L85rgCRxj02yY5E0q+5v5eWG4Iin6UQljxFFLAW4c0C3WDLxcKxL3hrs4wZuQohB7jTobL\n",
       "jTINfKbF2Y7EJZ0Yugxh8b9MPsqv35hticbEoW0Tm5zuAeC4NUygQWmNKQRzfh2fkGWxyseGJ/jd\n",
       "pQssBpdR2muec7ulCLEWrhCENWLA3SwkfddB+HYC8G4EX9gIgDduT1hbL7qRYq84zuFFXrGVVC5+\n",
       "f/4ELxTrfHQK/sN0jRW5mIyR0z3URDXxSN5pHePz/pmudUtj2yxP1m014mZ2tye8rexugm9sN+sF\n",
       "byffmA5JxzniuO+2R+folw5DjsGx3pCCLyn7gqvVkH4rIk2IqmQVhxhDobnMHAWx0BLKE23bgqhH\n",
       "FMDGZVAN0RAe++Uge12Df6jMEqJwtMO7eod4vhgV81iYDIscWdPgtWAOgOPmHl4LFvnoyCC/vXgx\n",
       "8aAMDH5+/Ah/PaM5lHPwFDw22ODZRYfP+9+kERYTvuM7FcHZbg4fOle0mzJDRuTJ6j7G9TBDloME\n",
       "3jHq81rBZraukEIw4QquVRU/MFXll64stVSPbxSOjh+Q/vXBCX7zgsnPHmkwV8vyF9eghk8Dn0A0\n",
       "AV1LjjtD/MJjr3B6Zh+/fTkqJrSQOMJgf85irhaJWgzbFpaEc7UqCsWw4SIR1FXIZeaSaIqjHR53\n",
       "x/hi/SIVCi2AG9NcAh1z+en5cq84ynf1D/O1lXpUpS3PoggT0hGJwUE1RYUGy2KVQHjUKCeh+CXv\n",
       "QstcaRk5LOEmYe+av0g3AAyvUxDeTSHntG3UftTJOgnGp/9O8nTCZsI4zjE5wavqeuLhthcgQDSx\n",
       "ZXUfp+y9XGyU8AkYl72YQjAdFijJIk86+/lk7Zmk6X07wuGdOXe3py+6ke0GUL7Ze/V23OM36wXf\n",
       "TMEPkDz8GcJOxAhG9MjvHCMAACAASURBVAADhkMh9JAILCFp6JCctJjWyxy3hrnqVViUS9Qp4+la\n",
       "C5lC+/GMiANUmwWFGZ3nAWOCc+E8NVFNCP3jQsG3W8d43r9CnSgXHXt9MWGEImRMTXLY6WnJc8aM\n",
       "TNExRUxPB9U+vsXXkyIeWM9TfLfuv44Ri7ZiOlPYHBaPMC9vUNfllrCsrTPkdY4nevv4drHGIdfl\n",
       "tVqZfXYOUwhOe9dRqIT7uagbzDcFFNqLtNIPS2NqCqN5D767v4+XCwEXmU3AMi7Sag9Pf2w8z1/f\n",
       "CAjR5IXFso5qBt47mOdzy8VmO1nkPZvaStJn7VGU+D4YUCM0RINe3UMDjxlxHk9VWh7yOp2/9oeX\n",
       "9INmDxk8ApZFgVkdVUCb0sXCTgpNY6KiTsVY2xGB2CkAhptsUdrpySluLdp5i1uMtm9prdytxmtt\n",
       "o1n7e22s9I8vKq3/yaHv5ox3nWlu8FbzMOfC8wTaQxEQaXIStWOI6EcQioAbqoilHfJkOJSzmW8E\n",
       "/KMJm9OlKtPhCo7IUdellOps3GrR3naxZht6C+vK6G9Or3N9e9Htb3ESwmjb5s2tv5Mmu7jHN5q4\n",
       "N9uX+MG1U8Vt1MIStV1IYbFX7aMoC5REmVVdTxSNl0WRkqgSaoknGpzXVymKAgfVPq5zNfIsdUha\n",
       "+zh+gUZKi1+YPMDTxWv00I+pbPpFjkWxQkUtowgIVB2POpfVjaT4xtd1PF3BpIc5cRWfBgEeBbnK\n",
       "rCrTEFU8Gk2QDZo5Xx9fV6npIjP6MqFuJPuhm21AkL7f75Z1al9aex+3FZ0w76euBW+1DrOsoty7\n",
       "R4MMWYpylYtemQfsYeYbPjNynuWwzmU1H50bUcPULuflWX58bIJnKnMEutG8TrplHojPUVkWKYsi\n",
       "JVHglcYi82KJUERtT7GO8FE5SUUFSAz6yXEi18MXl2vU8KiKKqtU0CIKXfu+zftH/3/23j1Kkuuu\n",
       "8/zcG4/MyMzKrHdVV3X1o1rdrVe3ZKklWQ8sS8KyjY3NDixjMMvYPJYd2BlYdoAd9jAzO+zhHM7C\n",
       "DLMsM7DAMCxgWMYLGPwAG+OnrIdluaWW1N3qd1dXdXU9siorMytfEffuH5ERlZmVmZX17GpJvz51\n",
       "uiozMuJGxM37jd/r+7W4ljNZkBkqokxZlDhmjuF5Jk8lhzDLfUzpqfA+upSpyDIFkcfEZkKf5t8f\n",
       "vIdPpy9VQbJVO1jVoRD+/37LpEfE6EJicU6/zDRXWVCTuLqEKSIMc5A5dcXntlbFqqft1u3XB99W\n",
       "c6XVQ9xG5lbzz6zbE95KAN4NVc611i7c3CzEDD5I3mM+ySn1dbT2eNh4mm+4n2tzjHrvuFlla7Bf\n",
       "R6YwsRlTezGRPNRr8weLJ8PPB6Tp7Vhn2nkCrd7bSp3WjVqr3ON22Hbtd7OUlW1D0y0qoi0R5V3m\n",
       "/Zz0rpIlXRc6rlU6Ar8SVWJQqubWIjgcVPtQaCblDRbUZEu5vZbnHH4v7DoPtd22tR6NIWy+O3aC\n",
       "G0WPCW+RvMxhaouiyLOsM1R0cVXedzOe71pzfT22nihHEJ24W7yTs5zkHyUe4b9mvxK+NyJuo0sn\n",
       "SIoIk8xzgyvVY1TTWBgUVKbl+NtJTzZjPQNC5rNe1QfAolykV/XyXQNxPj2bZUlkKYuVFiNHx6jg\n",
       "Uq4W4dWGwiM4RHWcR2MjfGr5+bDGpDZV0ErMotU1C6KIwbppCpsn7XfxunudZbFEl+4mKxZJuxOh\n",
       "hnF9C1JjBLDdvd9+ko7AbgoI7ybwXavPN2nvpaKL2DKOIWyWyhMIYfCx7g/wp1kfeB2jh2E1FhYb\n",
       "HOIYr6ln1lwQakEYWi9KUZHgPnmEV9RlcjpNRRfb5n87LUrZKAh3su/dbjcj1NzJGNasjG6YL1GZ\n",
       "5A59NxfkBfapgySFTUX7X+lLciKsIfing7fxlRtwQ2fJizxFkaNCucq/7N/HhOilXw1ygVMdVRtv\n",
       "1mpzfT1yhAI5rCoQdOluTG2y30yxNyYpePBaPsdeK84L3lnS7gSqpn2lk7m4lYC7lnWa92/GfBbu\n",
       "QxgkjSFynl8b0qxoqd2+mylgNQJycL0lBg9a45wsT9Wxc0F9RXwtYH9f6jbmS4L9ccWnZv20WK3C\n",
       "VVC9fLs6ygV5icPqEGflGwyrvbzufb1t4Wdj3UFQV3O38S4m5CVuV0e5IifJ6TRD7GcP3dyetHgx\n",
       "s8w1eZVfOTjCj5z5Al7Ik9+q/7fWOpvjWxmKhnWC8GYXrp2mkqw7dkfhxSaAKG1+evDD/G76GVJy\n",
       "iDG1l4+MCf5kQjEn0iyLDGW9IuXV6cK1Vs9g8NQX0N0F+ZzLvNbU8w1srfxvJ+9tdLHajaC8k0VV\n",
       "nVgnwNupPGFtQc8BfTsz8jqH1SF+6ugSP3sujcIjqhOMM8yczhMnQlxalJTiySHJH8xe432J/fzJ\n",
       "0tfbRlMabavucyMA/VjPe/h09goz3gW/wEYc5zKvARCVSSxssmqOiiqEALzVc3g7rNWcWXXfO8j7\n",
       "h/tssm0zqtGg8PNR415OepfqwDXwfE+YB7lWLpCnEBbk7dH9jEaiYTtY7T4H9V4qVEjqLmbkNEf0\n",
       "AU7yMr2M1BES1ZIHGcImgkPamyBpDNGnhjld+TKwvvkUeML3mE9xsvL5Ve932/t50j7BpwtfoOQu\n",
       "NDyoNZsT6yg63cSc2hIQ3j0AvFYP5XqP036CS2kjkUSMFL3GGE844zyzPMVHB4b4/bmLRHWchI7j\n",
       "YHNavLJK0Lpxn0/bT/DFSnMvOQDf49xPgQoFShx3+vhc8fm2Wp21th4Qbvf+Vi1iOwXMG5mfmwXU\n",
       "TqyTUHPwoLUeayZZ1+j5JMUAv3Y4xS+flXx4IMVnZ/P8j+Pw2xeNkJntmD3M5VKO1/UL29pj234R\n",
       "Wus7vRIxMoVNRRdWKYHtJtBtZp0CcbvX15Ks9I+zujUyKGQbUaNkRZ739/RT9gRfXJrlmD3AxZJf\n",
       "9NZvOLhKs6TLzIk0RZFjWWda8AsY9DJCUndxjpdbRk5qSTFqq5LDSN6G5pVHp7KwmwXeWtvqMHRg\n",
       "OwLCmwPgVpN06/cJ9SQbtf8Hnulj5tOcEqcpqqXwNUs4PGEd5+9K9dqmK2P1hbUflvdwxpvG0Q4G\n",
       "kiWRZZxhXhfnQ2GHe8URBqKSgYjmDxdPrbsFCda/iHZSHX0r2U6Aa611+t1oFnoMwrEpOcT7Yof5\n",
       "1PJK21lgx7mfV/hW3T3pBBSbjStYlEfUAQZEgm/pb4aycet9gOt0m620W3lews6Aca3iVW1EbVjt\n",
       "4/29vXwuncYVFWa5Ri8jHGCQ82KSiI4AhEpWGTEfhsIbzRAWKTlMr+pjQl7EVQWEMBhiP1P6PCUv\n",
       "E65bwDrBd6OdGJsLM7fc7zZ5wIF1BMIbbvHY8GLYLGS3Wiawua31lNTcmoFvrQZr+H+TEvnD3MOS\n",
       "yJJmalV7QPDZmEgR1Qn6dS9JYWNKwZznFzmMRxKcKs/yVHIA29B8bmGOLh1nSk6GLR6NikdrkXHA\n",
       "+sD4VgjrNbPGRU1Ku67vr12/aGCb8dLWsnaLqBQGd4oHORBJcKrsq9KkdJL/Ydzj/7oI3zUQ51Oz\n",
       "GX7pqOJfnMuwpGfX7OPuVJqw1rwOcqs7AbYbmWu7OdLSzNYLwq3e70Q+EXywfH/0IV4pzIeUpMED\n",
       "Xato3FPWo3y+/CVg9dpSy/B1hz5OgTI5kaco8vxo/zh/MnuDR2MjfKlwkbQ3Qcnzi8dqIxfN16v1\n",
       "3cfNqB+t6zibXP+2BIR3zgNuD7xS2ETMHj7ovId/KL/IYvnKqu3vtZ7mZfeLq0gn1hxn9RzvsN7N\n",
       "vJxmybtBrzFGiSDXW66rEjWEzZAYJ80U93IPb4jLDKphlkQWC4sZcW1VHuUp6x1MlopcF3ME8m5x\n",
       "HPbaDi+6Pk1dUEQTsA3daxzkGe9kUxCG5gvuegg6OukX9o+ze4B4rUVMChtLOnTJfiqUKSo/7HqA\n",
       "u7ikfZ7tQeMQH+zaz+8tfGFbmJXWyu01LpYfTT7G3+au8PGBvfzDDUVESvLKl/3rF3EuMk1R5JAY\n",
       "/LvDvfzW2STn5AUG1R4uizMhz24nD2bQWcpis9diq+fMm6neYCNAvBYIN86pA9zFtJxYKa4K28xW\n",
       "KD5h7ZqSZsesFQsxhI0tHGI6Rb/u5aNjkj+b0EzIa2TUDX6891H+w8yn2vbntrPOtH873996bCcA\n",
       "GLYJhDsH305CzdUnOmnzn29/D794aYq9ah8nUjHOLFW4ziI3uEJC9LJfjXJGnmVMHeRV76tNVYDa\n",
       "FcYYwuJO4zGm5TWOqiOckxc4pA5yRp4NQ4RBPiQpBuhSST48kOJKXtIX0Xwyc74px24tcbqJja2j\n",
       "3GuP8ELlYljaX2kQ0g6+KM08n9rzqbVW1ZMJo58l70bbL1ynbR67pcI0sLpqT2HTa47xoHGUa5U8\n",
       "d8UTOAZcW1ZccTO4wiUrFsPr7ZBgQU3RqNiyldYscuIzWM2Q0+nqeRoha1pUJ4jrOEOii8eH4D/N\n",
       "nAf8IpqDagwASwiWdJmr8hKH1CFOi1cpqqW2BC2NthXAux1zYTeCbafW6Vq5WRBu1VERbGeJKAnR\n",
       "y3F5gJfUG6F4QTsA7iRiJITBXfJRLnAKIQzG9BGm5QQFbwEhDH6g6zH+y+Jn0NojaY/h6TJllccS\n",
       "UZbK16rHa+UQbHQubf182Sz4wnqLzdqA8PaEodtNtObMVIEkoBAGlozTa46FPWExneROcw//UP7q\n",
       "qh60tUCrsaClsQctYBv6cOwhnlmeoijyYU9lrSSYrR0szFDhBMDWDkndxQcHuvjsbJ60TNOtugFI\n",
       "y/k6zzcA7FqB7kZADqxdX6AjU36nXk3byRD7GaWPJV0iK3JM6fPh/v7brsf5i9w3OMq9vKqfW8VW\n",
       "s9ZE2skey0Zr1uYRLE6WdLBEtJoCiOOKCnGVYMzoZihq8DfLL665KK0aXzWv1qjU0/acahZIQ1j0\n",
       "yFFG1RASwSV5ta4/V+Fh4wBQJEczkvsuernX2MdX3W+FbWqdVjTD5kPN2/UAtl3Au5O95us5xmZA\n",
       "uFU0JfBKA/t49708ny7jopiQ13ApU1CZsMCz2bzp9Lv/iPl+nvU+jxAGx+RjvOz+Q8t2o1Y9uv62\n",
       "m5lPuxN8w33dTBBuDcDrA18pDCwjji0TjMk7mdLnwtBiQLo9LA+zIG5Q8BaAldxWo/fbzKS0+Y+H\n",
       "HuOnL36LUXmUtJjBwKCoc+HnDGFzQryDI10Gz2VyjFhxTnqX/M9jMKqGeN+wyfNzkmtulpIoU6FC\n",
       "IMIQweKueILz+SKL+FqrY0Y3Z/S1ulaBxn68FVGG5uOXGNjC4aeHjvBrN15lRB1gVk6FnrajY5RE\n",
       "iXE9Qr9t8ULlCi5lojpORsyFhA33mfs4XZljv+zlq+5XWup3rnUtd9La9Vi26rMWYkUWrkCu7lz2\n",
       "6INc42wIMJaI+qQD1ShKcIyUHOKIPkBFK2bEArNc41/vvZtfnbzsRxma3KvaBfKYvpdz0vdqU7qP\n",
       "uI6zJLIYSBztUMGlJEqhpNugGuSSPIdbJaZoRXLfaR/vRj3f3ejt7sRc3BI+hKZtRBsvzKrVje41\n",
       "xggkCH9izxCfnYLxhMWZXIEcRTJyIVxjah/Ma50TieQJ62Ge8U5hYfN9ydv57fnPdOTA1DkGLe/H\n",
       "7gde2FrwhfXPzx0C4bXCzs37cw1h0WsdoEI5XIyGxTi9OoWNSZYiFzhV59G0erJrPC9D2Ngyzqi+\n",
       "jQg2SyJLREdYkLOh8HOweNtVyUFTW0R0pI4j1cLkyd4kX07nUCh6RYycrmAg+NAek09c9193RQV/\n",
       "avs3vJardZxh7kyZfHXRV1byUHX5nMb8ssTAIcGgGiQpIpS0F+aa77NHcLXmajnPUSfBxUKBe5IO\n",
       "zy1lyIk8ZVGs43KNigSDag/n9ckwkhDYduQKN2qN4NtYXXwvD3BJXg0L2QKLigQSg6hOcMLey/lS\n",
       "lmk5icQgrrsY1n1ckhOhIkuUBCes/XyjciacB0GLh6NjHDYGed2bCsXuA/WpVmBliSi2cIiSoF/1\n",
       "sc+Oc7oyx5joJa8qRIRBRSsUmpRhs+CVmBULlEWRPJkwOtHowUB7fvDw9Q16v7sJfHfDA+CGo4IN\n",
       "n2sGwmv1CzcLP1siync5j/Bs6QpdKsmYkcLV2qe2xWQ80tVUda32GAEnfcBfP+Wdrurnrq5qbvx9\n",
       "PdXNmwPe1fvbKttq8IWNzdWWILwdAFwLuo7VD6z0/VW8fHhciaTPPgT43qFDAlPb9Opu4kS4VANQ\n",
       "BfyClSPqCArNQz1R/m5xjmv6bMtcX6PXZMpo+LsQBnFSPB4d54XCNCVR8t/TBgcYIioNFJo5r4BE\n",
       "ctiJUVEwV64QlQZDjuRKvkJJe1SqN/lHD2juG73Kr754B6dL8yjhv25qkwgWDhb/aC8MOcv8xrkI\n",
       "P3nI5RcvTYVPsauv6EooPPj5pf19/OVEjL0xyVRBo7RmOCo5mirzzIyFAuYrJa6LOZZFpk44ux3B\n",
       "yM1oU2nnFQSpgoiR5AnrHTzcX+LFdARbwsV8iQ+NCn79+jkCxR0Tmx/tH+fPZ9McNfs5XVXpOWoO\n",
       "sex6zOk8FVwcIpxIJvjakq8gZCD5jvgw1woeV1SaiLZJy/kQrBvlJGuvQ/CQl9IDHMAPP19kOizI\n",
       "OxbtY7HisS9mkLA0KUtxZslgvuSxqEpkRZ4SJVxRpl8NrHrQhM0B8Frv7Yaiqt0AvO1sPetjqz7u\n",
       "tuHnNaqfg300tkl+vXIGIIyIBeL2AD2qnx8bc/jzCTiWjPJXuddC1jRPV+rWyyCl17QgtMPq5t3o\n",
       "9cL2gG+4790Hws0B2DQcHKMnfE9VwyVae0hh028e4GN9h/jE3BS9uhsLgyEriqs1UghMAacrfv9a\n",
       "XmTD3KqNg0s5BKZ/tmeYfzv5rbrK5sDqOVRXcsJj+ggRLA5EElwvFUkZNtNenoIoYmoTA8ljqRQD\n",
       "UY9vzguUhh5b4mlIWtAb0byxBF2WIO/CYtmlpD1Ulbw7Li1mVI4VcW6TQSPGpOeH2r9/uIvPT3v8\n",
       "wt0L/NxrBk8lB/jr7MW6yumojofaoapmP6a2OBHv43K+giUEozGTieUKuaoX5WCFXp9frLHCO70e\n",
       "1aWdtmZFKZZ0kEgeEA9yos/gb+bSzMtpJAY9agCHCINGjDNqCoB/OjLIKws2syWPOa/AvYkEUwUV\n",
       "atnmPQ8Xj7FolOvFCk8PC/5sOosrXCpUcEVlVQqhMW/bOObaKIrUBhEi/Mz+GP/P5SrxBAZ9tsmI\n",
       "I3h9qUK3ZXKuvIiBpF/EeUNcxdQ2R+QezqsbONrhgv52RxWtGwVg/9xuHlHLzZ5r67VO1snaws8A\n",
       "MA1hhepTDxpHW7YEQXsyjlCVrWY9q1VdO1taoFx1JAJFpLIo4VWjc10qyV3RHr5YfgWAOCnG1DAl\n",
       "PL7t/v3q1shV49v9hVaBbSf4wsbn7o6AsBAS00iQMAcpqTxxs5979N1EpcGcV+QNcSoMgXxP7DG+\n",
       "UvRlqPrVACe6ungxm8XE4L5kjFNLRdJVybNPPnGDX/jKMb6pX62rXh7Vt3GV0yujEBbdYpgiOUbU\n",
       "PiKYTMrrq4TKg8kceFABmJva4j57hB8+PM3/8WofccPAlgIFdJkC24BRR7HHKXEhF+V6QfDkUJ5z\n",
       "2RizJcHFnN9uotBUcJuGp8EH0l6dYn/U4evlc8BK+FFiMKiGcbDoMW3OeTOM0kdBuzjCJK2Xw5y0\n",
       "f+V9MbL7ogP02PDZpWuUhU/Yf69xkL0xwSeWnm/J8LUbgHitHttGis/g76esdxC3/O1ni4oZt4iF\n",
       "pILCQvKxAx7vf+ez/Mbnn+LdIzf48tQQN4qCkgdSwPViBRePOxJRCh68VPT5cP0QtsMfPHmBP3r5\n",
       "OK8sKs7oa2EhVa3VcuyaVY1dqQ0sTCQGe+gmrZcZlAkm1SIAcRwsJPd3R/mLpXPhg1dMp1gWGXLe\n",
       "XEee8Gb6om8WAN9q4NvM1srrSiRS2sSNfmzhsE8d5Lx4va5IsPFzd3BfuD4226clHH5x5Ci/PnU1\n",
       "nC/BnAvSZw8n+jiXq7AnalH0NDnXYyhqcrqQ5en+BJ9I+y2SJQoU1VLYlqnUyriC47crtApsYwB8\n",
       "64Scmx5nE/N3x0BYVgtkhDDotvdT8paIGEly7g2UKteRYhjCxhLRULzgMet2vlHxQSmuuzhsDPK8\n",
       "ehWAlO5nQdxAYlDwFpoCCvhhb1gRzg4qUW0d5QCDnBGX6gDvMfswk8US18U8ABYWUkscIlgYmEhS\n",
       "poUtBabwATluQqas6Y8IrhU8ykpRqo5lnxMl72pihmBfXLPHKfObk7MosSLGDdT93iwU7V9Voy7P\n",
       "OezAaKzCb01PhGDh6BiPxIf53gPT/OTry758GLXFGR6tFJgC2w76wk6s0z5bQ9h80HmMbxanyImF\n",
       "MAQdPjxVFyILi3++L86As8x/ONPFx8fL/PVEgveOFPh2OobSkPfg9qTH83OCvOdRxtdOTQqbtC5Q\n",
       "wcVAMigTHIgbvJDNcCKR4vncAr0kSJPjoNXNK97VumjMd3XtZ6YIF0tZFIoUsZCStCAKYX1BXCVw\n",
       "iFCiwoKcC+9Xbataq5D0bgPhtyIA11qrHG8AwkPmEcBfe1xRoVt1U8HlurgU1jMIYfAjPQ/SZSqe\n",
       "mdUMRU1OFubZb/TwvPZpIg/oo1yR55EYvC96nExFc6GSJi9zSG1wtzlKWSkyXpmUYXN7UjJfErga\n",
       "rhVK5CmTF3kKwl8f3uPczun8Mm+IU1jCoV/vIa4d5uQ8k+WX/Qd27bG1ALz1936ngDc83ibnb1MQ\n",
       "3trWpGYh6frXgxakuDWEJaII4Qs/Z9VcHRm4X0h1iMu8hqfLfG/8Se7rLfHrU1cZVMNcFmfJe3Or\n",
       "ChD8sa0otgyIAzwU3cseR+Mqwacz13BFuS7caOMwrIYZsRxmKyXylCiJMlJL7oj0MZ7Q/MN8HgsD\n",
       "G5MHek1OLngUtMvjAzaXcpLLhQIl3HAB7yLKnkiEubLf31zCDxMFRVrB8WtDnbXW7Gm4kbS9tif5\n",
       "sDrE/b0mf754PgTn4+IQz6mXQhAO9rtVBT8bsU7nW2116Hfa7+IZ7xS3q6Pc0RXh2exCXYShV3eT\n",
       "FDaLusg/HrW5lLPJlGG25PHePS6fmfJTCIaAI10WF3MeBeUC0GVYLHgl+swIU66fivB7i9268cR1\n",
       "nKORHl4qXwvl3AKTGHV/R3WCId2HiSQiDCZZCHuWax/+9qv99BgRbk8J/mLxKhEdQWLws/tj/PLV\n",
       "G2GOuFYsZL2EI9sZjr6VAHhjvMX11kxIodbqnQu/0PSoOsIlOYGpbZZFhqcid/HpwjcA6JID2Nqh\n",
       "LAo85RzmueXpECSDQsFG8iAIOkZWIkJP2id4sXKFO8UYr+uJMAoTWEonmZbTKDyG1R5cPC6LM5RV\n",
       "PtzfkBjnmvcaZW/JXyPaAPDNJNWAnQfe8LhbMId2AIShUxpKKQyktPnh7u/hhdw8F9RLVMJJ4edT\n",
       "Dhj3cl90mE9m/7rpYtGu+tCUDt3GCEWdY1QfYkHOERA3DKsxJsWFlRFVVT9+tH+cP5y7Fr4eeFZS\n",
       "SyxMUsTIUqwbi0TSLaJ4GrpMgwvefBVYVfVsJaP04WlI41fZDogEszpHEoc5sUhazNTlG9u1K9We\n",
       "IxDmIn9u7x7+/KpkrkrWf4fVz9lymrsifZwqz5IR89Ucaj9XOb3qi90p+cP6S/LXN78aq0ODvtvj\n",
       "3M8leZVD6gA/cTjHvzpfICf8djWJwYjay4OpBC9kcpSo4AofRE1t+jl0DIYth+lKAQNBqQqyJgYJ\n",
       "YZEwTd4/UuD3ryjeNxDjj+dXCgKbRS5gdc93OO4gl13TKtXMIjgc0Qe4PWnxtcwCT3T38NjQPJ+6\n",
       "2kemonhJvcFBdYAJOUXam+ioor2ZbRcQr2cu7CQAbwXgrsda6Y+3KtKKGCkkElM6OCT4SPdtPJsu\n",
       "0WVYpL0SGbFEXmQZUaMYCF7Wz9Z1AQRtm7aMExMplnUmDHMbwuL74g/xF/kXUXg8ZjzASXWBrJpF\n",
       "CIMj+hjnxethKLqWZyH8vU0YunMA3tp7cLOANzz+Fs2pHQJhWJ/60RrN7muV9K9RjdispzTYvja3\n",
       "GOSHa8Obj0b2c61QoYzLPUmHTAVeKcyHVdRH5DAKTVRKpICzZZ8s3ZcIW/F4IjrCMXuYi6UsXUTp\n",
       "s03ipuD8coG0yJAR82HlIrS+4aLhPGrHHLBzOdohicM+J8pjAwVSdom/m+rm1LLfEjUpr6yQUFQ9\n",
       "5or2K6cbhdm3g1Wq6Xm1qQ6F5hWisLIYNVaQm9rGwmSM/jBF0GPZLLsed6ZMvri4UrUe0TZxInQZ\n",
       "FhPeYijvFqQOYAV8m/V419qqytKaOVB3vrXEHtV7F9ddFMQyZQpESbCkZ0NPpVVF+1aBsH+M7eVy\n",
       "3i4Q3mnA7cQ6WbMCR+Mp62m+qV9lvxonK3KURIn9aoSXxUt0i2Guu6fDfG1ghrCQwuYR491cZZaM\n",
       "mCNTmWi7bgTdBhEZ5yn7Yb7m+v3CgZjMXOUCriq2BeGd4nAOj3eTgTewrY0EbiEIw1pADJ2IKzRX\n",
       "SGr+uWaTuxFUg9dXxtiadeaIPsaMnKWMX8T0w32HeCmtOdEr+MTcSn9oeHzqgcHUNkndxZLI4ory\n",
       "Kk+pNld5RA4z4WXIizzdOsW7exP80eKpurztiifc3uvvkgPEdVf4hS1QYUbO4lLmPuM2zro3OCgH\n",
       "mPSWcIjQLSOc4QoKjxPGbZx15+jXSb5jwOKzs1mm5TUOqUO8wott88aweWBup58bnuuqfsvVnsWw\n",
       "GGe/GGBCpymIZUbVEN8/BqcWojw8kOPXLhfCsLKFyV3WENfKfstRWiyG11hWoXu/GCCryiyxHOZu\n",
       "u3SC790T4Xenb4T316W8CoTXimCsOr/q+dylj3Gl2sfcrbq5J56iy4Q/zX6bkre0JYVZ69luvUB8\n",
       "s0B4NwJvK1vLSzZltR5GJvF0mYouEpVJBtjLZe9kCIwbteDBddS+hznvMkIYDIlxLCwOyj5StuSZ\n",
       "ki/AUNEFyu5SmfzDPgAAIABJREFUUxBuD8Bbdz92C/AGtvUtmTsOwoF1mAdsK1m4uoldCIPj1ndS\n",
       "wWVSnMdVxVBRRwqjyohUU5FczUED/OOud/DX2ZWq1ITuYVwM0WsbnC/myIpc6KGGx8VvRQnIH05E\n",
       "hzlXWKZMBYkkgsl5ubrSudbbGdZ9vC5P19FNtgLftTxiQ1gkRC8mNlnSIclJ8H7t5w1hExMpJAZj\n",
       "aoQJ6fcmD6phLorXW+aMA9uJha9dzq3RGzaETVIMMKaGub/H5tsLLnlK5EUh7LuF5sBY+zAVeM3H\n",
       "7GEGo5AwNV+e90PWP3Vbid89H8cxJKYQXHIXKIgCFiZ5ka1j5FrLK25ltfeqkSmr04egrQRi6ByM\n",
       "dxqEbyXwbWbN5negYf6E/QGeV8+Tc2fqKpRrbb3nX3s8IQy6rD0A4TECS9p7KXpLqOraWXKXIFyb\n",
       "tkcyMLDdBrq1th3Rmy0HYVgPEAe2Ue+4/vNBTjlm9vOvRh/kt65f5xfGBvhfrpxEoZBIeuQot+lR\n",
       "rusMx6J9pMseL+gXmzalG8Liu5xH+PvSKzwk7+br3jfr2pnAZ2RK6B56dTdpsciA7kEieKg3wrPp\n",
       "ItflDEt6FlgdirSFE1Zp1zI91XNIN6eP68TDagx51lojaA+qYWbkNMs609QD78Sz28oFca2Cl0YA\n",
       "/oHkI7y4lKNAiQg2/TJGXlWYE4vsFwO8wbXQa20WEg7C1sHvQe4/6A03MTjsJPjuvQu8NN/Nk6PT\n",
       "/PaZYWYrRdIiE4aNa1vemjGeBdYK1Jpv2zoKAVtTPLeVYLzVDwBNx3GLg+9aVjv/N3+u7T7f7nvW\n",
       "idf75gfewLYrfbIKhLeCMxU2AsSBrSd3vPqztWIPhrAwpcMh8Q6SOEzIKd5pjXO9VOKS9FtJyrpQ\n",
       "V23YWG3aKnQNKwLpERyiOkGaySY5wPrJVZt3toXDIXWIuLS4rpaYlVNhWPMBcTcTXoYpeZmyyjf1\n",
       "Rtfz5WwFas3CurV/W8LhAXE3Wa/SVIe003DrWuII67FGwoJg3MF1TYoB8mSajrH2s7WV5IOq6hEI\n",
       "P+caCJw/nurjYs4jaRoUlWaqkmfEinOtkmNRZCiLArZ2GNUDjMcjfKlwkZxO1z3I+GNov8i0A9/w\n",
       "7zbXcCPc0ZvZDtb3ILHZY4XH3DHwfXOD/Fq23aHmWwF0a207iwh3IQgHthEwrgdMU0YxpEPM6KGX\n",
       "EcbFEL90/xV+/eRBcq7HGXGJEgXeFz3OXy1/nYoqhOGXleMYqwgiTBnFEg4WNj/Uc5Q/WDhFRRfa\n",
       "hm+bgfchdZSEsELuZyU8pDZQwuNOMcYFNUOXTnCWk2vmZddrzXKsteOzhO+hj6mDqGpmW6G4Li6F\n",
       "RVvBuXZqnQJ20/E2rbCv9WRli9fbF8QEPNxPx8ZJlzUXy0ukiIUAU6DCbdEEz5X9/Pkj9jjPla/U\n",
       "KR3B6kjBVgMwrH3f15Ob34pWplrrNG2y0WNsD/i+DbSd21sPeAPb7ir+bQNh2AogrrVWbDTt5Q8N\n",
       "YWFIh4iM8xN9D/PHC2excehVvVzgFE/ZD/OF8jMU3fSqhSRorj9g3Mss1zCqPNcBoX+/GiQt54nr\n",
       "LjJinuPiMFEp+Xz5S3UedcB33GuMUSDHfjXOnJzn4wN7+cTMLKa2eDjRx13dJT4zadAfMZkruZwR\n",
       "l4jrLkbp4yVeoqzyW6J720qPNHg4SIoBPti1nzNLLraUTHgZsnKJPJlVHh74ueXfv2OIj70+gadX\n",
       "iFe6xTCmtkIxAlcVVoW3N3wOzXJpDfOtGeA2e6+2mtrG4ft79vFi2iUqDTJemSUKZORC2FbUHGhr\n",
       "Q3ebA+DG/a16bwvBeC3bCPHHWgo869k/bHc49ubZ5oUNttPeuqAb2E610G1LTrhuX1sKxNAZGFc9\n",
       "OmmzL3KCHx0c5f+bznNaPYstE/TJMf6n0SF+/sqX16w0FMLXML5ffgclXM5ykqhMco++E1MK+myD\n",
       "68UKnoZX5auUvKWQQrPZvmyZoEeOkPYmGJVH2S8GONEn+OxsFhsLhSIrctxlDfEV9ySeLofFZZsp\n",
       "wOmEhSooUhvXd5KWvuD8EfbyOheJ6nj4mX95IMnvXJI82e9wckEx7eVYlIu4lMOitvc6dzGx7Ita\n",
       "HEhIPr/ks1qVdaGm+ns1Vd9GziGwtUDY36ZZKLs6X6pAHNNJDCSH5CCmFJz0LlGm0NTzhU7akrbG\n",
       "E161TSfe7DoW08aHs6hMckAf5Q39Usv5V/s5KXyJvZnKG6uKytqOsc37Gwfg3QG8uxtoG+1t4A1s\n",
       "J3vYtx2Ew31uORhDJxKJzfKNa5GkN99nQyVu1bvukaMs6mn2MM6Eep2yqq2ObT4hm/UvO0YPd+jj\n",
       "nJfnKKscA+IAC8JX/Cl4C2ET/VbYqh7FFnnvoO0nL7IEVJgH5QB9tsH//MCrPHv5EJ+ZjJD1KmTx\n",
       "Q9THYileKEzTpRPMyXm6VTdp6VN/2jrKx4cG+c2Zs3W6zVtBldgJAAfn1rhNLZFG0EImtcF3Jvby\n",
       "t/mLPGKP89WyL20IaxepracQq9X27fbfzjZbJxDc++OcoITLeCTBRKnA7QmHHlvzhfQil/Qr4faG\n",
       "sHjCepgjSTi5oHiFMyy6U6Eknn8enWvTbvRcfLu5wPtWA9zA3izAG9hOs7jtGAjDdgExdB6qbr1t\n",
       "O2ss6wd/8dlj301GTbPsznX81L86RLpSCNVljeAqn0Q92M9mPd1Ot28EYn9sPgOPECuKQGNqBBMD\n",
       "F48+K8J0pcBe2wlJSSq4df3RjWQWBkadN1xrGwXjjQJwbRg6eD/4vXb8tT3AnRaltQbW9YHxZvLo\n",
       "tRaAa48cIaOm68YRXL+ggwD8FIMtfAWo/Wo/V+SVkDYxuA4Bz/sPdL2DuRJ8o3yRAjlSup9pda7u\n",
       "gbTx3Gtf33zrzc0B31sLdOFt4F3bdhqAYYdBGLYTiKEdwLavqt7YPtdb1bsyllYPDe16Ytc3/rXu\n",
       "YSsQhrV1Sx8QdzMQlXxt2afzjBAhrh0GjRg/d89VfuGlQT46JvnfJ99okytd30PGWrZW6LlxmwCA\n",
       "bRxu02PYUpL2ShQoYWEyI6frSDhajXktkNwIPeRmPeNmRWyBdF5R5BlWe+g3HFylKWmPObFEViyG\n",
       "ohHBPiJVGcYT5kGWPcWr2lc3G1N7+dAek4Wyyefnl0LGtUZRkEYglcJ/qMtXbqx6aK27ph3PiZ1f\n",
       "MG8d4N36a/NmBV64OeAb2I6DcHiMmwTGsBlAbr//rQTl9dyDdgDdKeC3AuEAgIPP+AVcNo10noNq\n",
       "ICSED/LCjSIUa4HXer8I7aqgW51nbf53WO3FxKBAiUNWL5cqiySIMimv1/UTN6OkbEVHuZatl6Vq\n",
       "s8xIQJ13O8BeunQCheax7i6+uDhPwBCWlvN1cngf6hrnuUyOOBGmqzzjjo7ydH+Cv5y/EUY9AMbU\n",
       "CD+0X/GvJs5TVn4BmykduuhFaoNfORzjl9/QfKCvlz9buISjY0yo1ym6C6vOszMQ3tlFc/eD7/Zd\n",
       "jzcz+MLNBWC4iSAM2w3EsHkSkM0fY73AvB2AvNY+G2kjg0puhcchdYArcooyKypBNg4Bx/RBNUaa\n",
       "HBm50DIEvR4g7uwcaz10g369h/uiA1wuFFkkT0amQzABQm3oxn5hR8cY1D08PmBR9AQ9tsfXZgV7\n",
       "HIM3ckWuyImmIelGW29xmcSgS/eSEbN15C8OCZ5yDvOFwhmKupa8ZXOLYONDFPgkMyZ2eJ0kBrZ2\n",
       "+KmRAf50skJe+PnviLZ5X3+SZ+fcUEd72VPYUjDjFkNJxrIohmQlwbh7GQ2ZxN4XO8yzVVEWr6FK\n",
       "fn0AvHML5u4G3u29Dm924A3sZgMwgCGE+W8aX9w8MHVqGoHY1v2zJtDr8EeIjYwl+Hzz4+jqv86v\n",
       "abNtdYvXmx9v9TWt/+xqL9h/z2/rkghktRrYZUnmEUiiOo4UJrZ22K9H2CN6MZVDlgIGkgoennDD\n",
       "fYlqwFewQoohkCCC+aURSDRN5axXmcRAIFf2X5PTdUWFG24JF4USig+mxjhsDbJYjBDRMaLa4bg1\n",
       "wpKnqj6fSaCj5KG5vKyZLwrO5DyK2qNQEaTJ80B0lJTqARXFFb6H32zMQshVP1S3EdVr6hPsG5hY\n",
       "RInTrbt5f/IAV8sVDGERwSGiY4hKlBKaP39Q8P9er84dQFT/dXq9/Gsmw7kQUmFWr7snPCqUwv0D\n",
       "fCg5zsSyiaFNLBVh0Iizx3Y4k3WxhKA/YnBnSvFQf5GiFyEuLQquoCxcPOFL4n24Zx8vFa5S0QVy\n",
       "ep4CWQxhsd8YJF3xmPbO1VTFB+eyck5rn1/n578Z230AHFyv4GfrzQfe7dv/brL6+Xdzrakn7L+x\n",
       "M95weLxd4BXX2nbkkAPrtBJ7ve/VHaNNsVKtmlTc7A89F09XwtxvQvQS1XEfsrRFP0myFPkXh10+\n",
       "eaWby+UcJcoooahQqfPWLExMbZEkxljE4WLJlxI8bHfzSuU6ObEQhqo3GoKO4PCIdTvjCc3JBcV1\n",
       "tUQEi/u6EkwVFClLYkpQ1dl9dblCREpihiTnekghSKsCEkke///DdjevVW6ExzK1xZBIMupYfKl4\n",
       "ri7M3qlZ2PSoAT4ynKLkSf5ydgElFB/u6+eZOd93PBBJcLGUpUSZ+2J9fKH4Wt316SR/XltU1ex6\n",
       "QTN2NKOONaxedWqFttPCZK+V4NEBl09PKb5zyORvb5QxkWQpsih9XWRHx7B1hHPqxZD0phX9aWCr\n",
       "wvpt58P2ey27B3x30ON/i3i9ge0G77fWdg0Ih8e9ibniVrZ+QN4cEG8nCAcMYEEf6GPm/bziXWVU\n",
       "DXFGnq5Ww45ToMQdkT6+Y7DI56YsjndLLuYEy67i4QHF56c94obJv33oHD/3jUPMsYQSCqklEWwc\n",
       "LLoMi48dyvB3U728kSsyKW+EYe124d3251Xf02tih4u/Q4ReI4IpBP/N2DJfvpEg72qkEDgGXF4u\n",
       "UaCCi6+kpISiVuc5AAol6kPmjWH2WmsFyI0580BU/ag5xOODZf56UtJlGsQMyftGs7w438VCGW4U\n",
       "K9zQvtLVlPQL32qrkltZI6d54/UKIgePW8e5WlomLRYpVik6a7etBeAnkgO8mFnmnd0xXl6sMCMW\n",
       "+e7efr42X2TIinLSu0pER8iLLMs6Q0UXqxSw9Zq0jWNs9Te0A+G3AgDvcJ77bfDdFbbrQDg8/g63\n",
       "M3VqnQPyxoF4syDcziMKQNgUNveIhyjhUqDEjJwEIKX7edgZ4ezyMklhA/CDBwvsTy3wpWt7ObMk\n",
       "KSvNvpjguUxuFaD5+c44EQyyFLnDSfFqYYGyKFESpbDgab1A3Fh4FahQjahR7krEeC4/Gz4AmBj0\n",
       "GhF6bIMbxQoF7SIRDFgRFiouESlRWpPXFeLC4jIzBHrBjeNRLcbYTolJYpBSvewRKY73GLyeUSRM\n",
       "g8lSgQe6HV5erGAJwUDURGvfWy8rzRPDJT45IchSpCTKYYRBCW8VTWbtMSM49KtBJuWVpu8HVeD9\n",
       "aoB/MmbxUjrKfElxwZunQgUDSVzH6RUOczpPQRRC/evanLHEoEul6CdJ3DB4Q02TxlfesoRDBIe0\n",
       "57OmNerdbg6AYVsLj24a+N6E6u63GPAGtlsBGNqAsP/m20DczDoD4o2B8HYCcO3vgTcM1Z5QGa9b\n",
       "sMfUCHlKxIkwZEe4US7x00fzfG6yj1O5nB++dWI4BkwXFWe81b2nBpKPDffxpRsrYeCkZfCSe7Up\n",
       "GHdiRs11rQ2f2jrKHt1HyrRYcP0wb8B57dd3+7KSNiZdpkHKklwt+J5xIHWoRBORjCaA3M4CIA68\n",
       "3wgRpJY170uGRBf5Ks94l7RJWgYRCecKy1hIUobNQFTyzPIUrqiEod4KLifsvSxWPCbVYqhxPEY/\n",
       "CdPgVfc6y2IpfBiycehW3aSIMeJY9NhwMecx4y2zJLKURZGnYuNczPkPBTHTIOe6pPUyDjZX5JU6\n",
       "2c6nI8e5WigRN0y+qV8JPd5a8ZPaMPR6+oLh5oDwzQHgm9TX/BYE4N0MvoHtahAO7NYE4/WB8GbA\n",
       "dz0tSs2qok1hEzGSvMd+By+XZlkQM3h4WNiY2Ng6yt2mrzJ01p0LvacunWBRLKFQTbV6be0gkXWL\n",
       "saMd+kni4oX6xa28zdbnuzrkamsnzEUH4LQyjgg/c9Ci6BlEDY+/nIhxyV3AFRUCYQqgqSdca+v1\n",
       "2CUGUgdsXGb1b/+BwPcbLSJSklaFuohCYKY2iWCRFBEWdZE4NgO2zd6Y4Gpes1Bxw8r1YHyN3rKF\n",
       "zXFu51u80nRBCtrNoiSIq0Q41ml5LSRVqT0fIQzeoY+xpMtck1dReNypj3BKnKZXDzKpzgJQ8jJN\n",
       "88Abp6jchr7XHQPgmwcEb0XgDexWAGC4RUA4sJ2kvuzUNgrEsiY8vHqfmyftWE9/cKAOVfu+LeOk\n",
       "9AD3WqNcLucwMbgqL4UeVr/qY9iMcc3N0kWUCTldBwarx92kAEgbJHVXyDvd6rOtrHafdf/rWiCU\n",
       "VU/YwNQmd0V76I3AwUSZ35tK14FwYLU54VXHrKpcrTXW2rFIJBEdoZcEEWFQ0ZoDcYvZoqIvInE1\n",
       "FFzNWXeOEqWG/Uh6dTcJYTGrcyRxeKg3wt+l0/zwSJLfnL4cCkt0IijRyhyZCkPWF8XrLT9jCJuo\n",
       "SPA9XbfzjUyGd3Wn+NZikY/s03ziKiyxzLyc5rC6jee9v6/T6V6TuGQHQXhnAPjmgsBbFYBvFfAN\n",
       "rC0I+xvsLiCG7QDj7QLiJixONeBrCAshjLqimoiR4jgn+Jb6GrpaHdvJpOrkPjUF/CYkHbCaqKP2\n",
       "8wFhxzF9Bx89UOLfXSoxL6eb5nib5XJtHO4WB0jZkmxFccXN8CN7Y3zymubpIYs/m0mzh27euwds\n",
       "qfjNydmQCrPWmhF01Hqf/t8+CDvaIUUMF4+4tJjQ6XCsXs1iFQBy7XkndJxHUimey2SR1YaeAqVq\n",
       "3nT1QhccMxjPLx8V/PszPkFGyrC5otJ159KlE+yz45ysTIYRhWbnFdERjppDLLseJe3hojgvz9X0\n",
       "E7fqx96YklOtNdNtFsIgpQdYZBpbOHh4LLlTdUVZnXrB4Vh3AIi3F4BvPgC8Db63lt2SIBzY1oHx\n",
       "5s+xlaRirdUCcKDO1G2O8KH4XZQUvLA8S0bM86/3jfEvr5xmjz7IJf3ylog3rAXAteML/27wjlde\n",
       "X03+0MnxmlU2H9H7uDNlMl0Ax4SPHb3ML7w0iF+W5ALwv92u+fmzxbYeaKMXHLJEVSFxv+ylrBQ/\n",
       "dLDI30528UYpU1dQ1swkBvdGBzCF3+L0/ftcTmccygqmCoplz2NP1OKVwgKucJFa8p6eXr6xUOC+\n",
       "ZIyZouZceZGy8L3bwOturL5u9n/jOIKiqFHZzaucC3O1AV1krXUCwOtl/ArvnbCwpR+2juAwokbJ\n",
       "U+CSfhlXraiHrTcUHY5jB8g6tgeEbz4AvFXBF25dAIYOQNjfaPcCMWwVGG+1N7zawxQNXrAUNqaw\n",
       "MYRFSg5TIEdFF3CVr0hUy7+r1xleXBnX2uDbOM7w74bt2oFxq88161MNiqvMas45KGAytUmCKAXK\n",
       "VUpEP7fbLGS8auxILCx+cKiHv512yVPCxuLdfQ7PzJdQaGxMBiIWIw58e7FERBiUtEc60AmuycdK\n",
       "LbEwGTG6GHIk8yXNcFQwU9TETb/l6eqyxx7H4HK+wuGExVRBcXtKcCajiZmSU+XpVTnnVoVfa1Vf\n",
       "t2MfWy8Id8pa1g4QpTBCbevacHPj8Tqpiu70mL5tbrHdWgDePQv/WxWAb2XwDexNAcKwG4G46pFV\n",
       "vV5DWNVtDH4g+QH+ZvlFYiJFl+6mgg82aaaqno1qSYK/UcH2VsBbaxsF4Wbv1X6+GTmEic0j1mHu\n",
       "76vwp1PLjNtJHEMwX/aY9nI1XmPQw+utAuPa4xtIBnUPQ5EIOddjX8zgQ/un+a+Xhlkoa4qeoqRU\n",
       "tQCqum90WEHdzHxurcCXFtiYRKTkeLfk2rIgYcJruQKVuvC75MFUDICXMyWui/m2hV/NQLj292YC\n",
       "EoF1AsL++61bhVaBf4tFrd1DYDtJyvVIF641hhXb2Hdg6wB49yz8b1XwhTcHAEOHIOxvuPuBGLYC\n",
       "jDd+no0gLIWBZcRJWWNY2GTVHO+xH+VceZEBkeC+HpOTCx4VrZkW8zja4cODCT4zU+C8eK1OkQZW\n",
       "L06daiWvZWuBr39u9XnWdu837ieQQoyS4G/evcj3fWmIQ3KQvOcxFLFIWjAa8zi1KLGlYLJYwpEm\n",
       "3ZZBbwReWyqRJrdm6FhqyQf6evnafBFHmPz8sRl+47VhlIaEKRmMCi7mPLKqjF8XXT/1m+WDfaJM\n",
       "H4RThk2fbXCxUMCrArjbJKdcO87GB4d2oejg91Yg3LjtWtKHrcC4lSfcyQPfmoxXHQJxu9e3S8Bh\n",
       "8yC8uxb9tyoAv1nAN7COQdjf+G0gbnnMFuHoUJFI2nxv/Ht4oXKFeTVBXPZwWN3GFTkZEt+PqXG6\n",
       "iHJ/j81/WXyhrrJ09fFW5AV7GQ37Ua9yek12pVa2Vn53veC7Ms4V3d6g5Smh46SIsSdq4WpwlWbY\n",
       "8cO918tFPDQWkkf7IkwuC941lOc/XXZXtfEAYR9uMD4Lkwhm9TW/kCoiDPpti7myT97hNQBwt4wQ\n",
       "NSQP9Hl8ftrDEpKS9ni4N8LFHKRswZmcD75uCJ7+OGoZt2rHVgvEtRYUbXkounWSfsPhjL4WfqZW\n",
       "wcnfrgVYtbnHVlW0oqhzdfeii17m1URTIK4Fv1YRl45IN9YBxC33scVA/DYA3/r2ZgPfwN6UIBzY\n",
       "5sB4fee63pxwAKCBMHqt1/i4+QiX3AWui0s041c2pcOd6k6ui3luN3xPL+OVWSTPvJwmpfuY1heb\n",
       "ej7tz2G1t2sImw/HT/C5ZZ/P+L/rPsYfLZ4KK3I729fK70HvscRgjxrExiRNDguTx7q7eHmxQobl\n",
       "sCirdiwRLH78gOB3Lq94l11EyVPPzhRsX+vFmkgGbJsjSXh2zg2BNNgu8LzvSHlcLxjMlTRltfLV\n",
       "GHEkp7IrHnBgqubv+vxvfX75iVQfRc/PI2dVmftTDudzHmZVNGTZ80jrZfpFnDfE1TqPuJ33/1OD\n",
       "t/GVGYEtBdPuMgBzch6pDYZ0H7NigYSOsySyRIiQFYuUKNRVVHu6svJ3kxqERlt3nneNPHG797Yi\n",
       "NL05AN5dC//b4Pvms3WBsP+BWwuIYTNg3Pm5rlUd3VgZLZFIaYe5WlkFY0tESYoB7pZjvKomQk7n\n",
       "2jampyPv4ELBX3B7jQh5z8X14Zr7kjH+KvdaHdPRmBrnqjhHQvRyp9jPt/RrVHTAR7w6BAtVEocq\n",
       "kcNRdSRkoJqRMwBhb2qnVbX+FVnd11vbM9yKbCPY1tQmDhF+8pBLwTX53JRDznUp6ZU878r2koSw\n",
       "sKVkIGKQdzWmEJSVrv6ounC0RGBKgS0l378/wycuJcNtPE2YQ/bPWSMRxKWFLX0AVBoWKi4Z/PtS\n",
       "6/0GjF0SgYVBjxEhZkpGHIiZmsllwY2ix6IqMSfSdcQn7QAY/Nz6bXqUOZ0nIEbxUDhEiGDwg/s9\n",
       "vnDdocsSvJbPYWFgY+LikafEd/Ym+Z30MxuuQegUkGvXjWYFXM0+H+aaNwnEGwfh3bX4vw3Ab05r\n",
       "KmXY3tYjy7dbbKOSiZ1IIbbqE24UUKh6Z9LClFH6rUPEZDemdHy5P2Fiigh36WMsUyJJnBvMsSAW\n",
       "fNk9YftAjcFVL82yKDBu9JPxKgxHosx4y9yQ07xRTtOlu/mZkX3kssM8mhjlRtlFC5OyKPBje7t4\n",
       "fdFhWeYQSGwZY0SPc495mAVKfqU2Q+zX+xnUA+wVg6R1npzIkxfLqFDSr6Y6uupzNvuBoCWppoir\n",
       "5nOBdJ0SHq6o4AoXTQB6wQOCCD/zru4UX7phkrQsshVJwdM4hoGFUb1bolpQJdHAqGNR8kAKgSHB\n",
       "FIKK9kUdpBB8ZH+RguuQsiQfGZ9nqRzjqzMRPPxtDCGwpMAUPoiaQmIJSVSa2FIQNSTvHi7SbUum\n",
       "CqJaVe0/UIxaCQrKI4LFkOnQa9oILXl0UHMuq5koVJhc1rhKkFUV8hRBaELZRiExsEJ/vvbHl4q0\n",
       "kNogwzKe8APsh6xuYsLGQPLxQ0VOZ+KMxRSTBQlKUkFxWV7lOhMsiFm+VbiK0u7KfalKTQohQ9nD\n",
       "tj/CwJA2+417KIhl/x4Iq7qP6gOnsLGkQ595gO/teieWu4+MzHJUPkiaaf/uCgNTOnzA+QDXRZaY\n",
       "2U9J+Q96UviSmMGYmn/X2vkS65Ws8zbwme21txoA7yapwe22dXvC/oduPW8YNuoRd0KC0Wy/qz3h\n",
       "2v7g/cYxMmKegspgSodf2XeEX746BUBK9fLe3l6+kF6kIAp8dGCIby9Icq5LzDA4401TFsW63GFt\n",
       "3tDCxsahSyWZlVOUdaEufFwre2cIm336MP/5XRP8k6+OkpELDKthIhh0GRZlpZjTeTwUCaJclzNN\n",
       "2a0kBj2qn3l5Y9V7ddehwRtu9lozso0x+gFImAa3dYGrYbogWPb86XtbF7yeURS8hvyrwAdQ4QN0\n",
       "zJT02jBX0igNthRYEm7r8ngja1BRfn4aoCfiP7gNRDQ//s7n+F///mEsCXlX8yNHZviPZ/pD71pp\n",
       "jS0lpvRn2WylFHrngYeq0JgYvLvPYXJZcLqQDcc5aMRwlebeHoOliuBossRfTGruSEQ5mHD5gxsz\n",
       "NTNL8t09QyxVBC9mfQnE2mvVRZQey8ZVmqxXoceyma34bW9pkSEvshTI4arCqpTFemsJDGFziGMU\n",
       "RIFenSJl2GF++245xlfcb4RjM6VDnBSDarCu8NDfj8WAOEBERwC4Li6R9+ZQqoxX5dmuy2M39ZCa\n",
       "FZKtF7x2n+f1VgLgt4Ln22gbAmH/g7cmEMNGwLj9ua4Fws1ywqaMMmAeokCOQAmnS3dzwhng9HKO\n",
       "fsMh77mkTIt5t0SBMiVRrhMacClTqQJxK93ZRtai1udQEzautlMFrEi1edy7xQEuqBlKVQIKU1t0\n",
       "6yS/+o614PSzAAAgAElEQVQ0v3dmH+cKOQqUyMpMzRgaqrprQPdxZz8v5ufpJs4NkW5yFVeYp0zt\n",
       "Nww9kkrx7UyBPjNCWWnyqlLdRhARBg/2S1wlOLO0AqhSQF9E8n/+1J/wS//3R5mvskOOxTWm0MyV\n",
       "JCUFcQO6bUXEUJzJmD4oax+wXa3D35XWKDQVHRRl+X8HOeOV0PVKC1Rjvri2oMzCxMGihMuxRIKv\n",
       "5adqtvfCcP1+McAVPYupLZRQmNrkvb3dLFUEBc8nFcmwTKka0o5omy6iDEUinCpPkxc+8BfIhSQw\n",
       "zVqYOqHkDOaKIWzu416u6wx5mcPRMRQeaTFDICbxkLybaXeZn7nN5ecvTqPwSOgenk6O8NnsFQbV\n",
       "ABfkWVxVCEHX1WVUwxibUWCuAPJmQXj3AcBbBYDfiuAb2AbC0YHdimHpwNYbnm4flhai2b6qC2yL\n",
       "oiyACiWEELzLvI+0KrFH95GpKFKGzZEugyeHyljSYrboLw8DIoHWBu/tHuCY00OPGmDK81VzPOrV\n",
       "azS6GmbU1Wzxyj9P+xlkBLWvVq9I8LdCCMHt+i5yIo/EYFAN0mfZZDwXS1vY2sbEJEaEcwv9XCou\n",
       "o9H0iTh3RftJqhR3Ob3kyzYemghREjqJBqI4DOleSp7A1ZoSFT/sKmQ11B0EPP3Qq9QrocjJUhkX\n",
       "j5xyKWo/fB18JmaYPDqwzHzJxtOCD+7NciUXxZACT8FnXjiOJeE7hrIsVSII4N6+RdKlKOOJMsue\n",
       "QcHzQbyoBHelXB4eyPJG1kEBlhD87PFrFCvdlDyDiDTIKzcEXV29ggIR/q5rirdq+56V8KupPeHh\n",
       "CUVeFCiIIhfddPV1FyX8e+eKMhVRZpYFKqJMSRRwRYWKqHChUISKQ7rsMS3myct8NbRfqRagSS6r\n",
       "OcqiiIGFqt5rLaqpBOF/G4Qfi/ZDybRJMwgjDFn7n4FpZsjLLC7+2P75yCjppUHyooSFzbxaRgnN\n",
       "1xYUUWLcKfcxZiX52vI1KqLEgpgHYFQfomSUcXXRH6cweNh4D7NijtuMBygYBR633sN1MYsiCKNT\n",
       "nRv1/sTbALz77a0Udm5lmwBheBuIfVsNwn6PsGFEMWWU7sgBLBlFC40UZjVPZmEbvnzgNT3PCfMQ\n",
       "l/UsRVxKWvHeIY8/viJJlyRpXUAiGY1GOKsmea00z+vFDFe8OWztoIWHISxiIsU/G7qT5/I3ql9g\n",
       "HRbb1ILwyhnV/wtAOQBjgSAt0sTpwSHGr92TJyKi5EtxYlWGKxAUKDOlMiyLAkVRIsMy026eKWa5\n",
       "7C6wLJbxhAsIHKJ4wmNAd+OhSZkWeeURxUIjsDC5zerFUQ6e9vO7ovrPrP4lkfQIh3f2RpkqqBAe\n",
       "NOBpeDVjMlOEZU/z+mIEBYw6ggMJj6Lnh6Zd5Y89YSlipuKJgxcplqIobaIRlJRAa8FUQfJGNory\n",
       "Lw+GFFzLppgq+LnlglIo7c8kE4OoMBiN+IpO//2hIhczXcSwKVVrp7XQBMQj/qOPV/WWvRA4V4Db\n",
       "q27jrrpXwfseLmVRZIY0abFAWRTxcMPPIASGNrnfGcasJIjoKO/tHmKAQf7wiUlYuJ+LJY9xfRsn\n",
       "ouP8/+y9e3Bk2X3f9znnvvqiG2gAAwwwwMwAO++ZnR3OvpdcihSplSlRVEKLtFwlS0qimE5UtFWy\n",
       "HTupOIlc5UpUsl2KXCrFericVOkR2ZYpShSlkBRFUlwuucvdJXdndnd25/0eDJ6N7kbjvs7JH7fv\n",
       "RXejG2i8ZoCZ/k5hF2jc92305/7O+f1+3ztqofoAZqRztcu/zPR7IWQaGcdQlpzUxyj4NqVQMW7u\n",
       "ohxpHByyuDyd68WMXAAirdHKQup4Fh2hKYk5dulhPOmRl7v58ezTvBZd4mPuEzzd6xItjPC2eJeK\n",
       "mqfX2seiKsS9qptAuP0P9+0F4ORv90FWB75L2iCEV3MR2u7aHBAvh7BME1MMaafDuqawGRenKIn5\n",
       "attKgxF9kFCEqMihKIt4okJO5/jq/CyPuv1cCgoU5BxFUWS/2cfPjwm+PWNQEFMEuoInKpzmBErZ\n",
       "jOhBrpbB1N0syAUUYXWANP4oJ/2gqv9Khud19aFKo5HCwhQOQhiM6f0sCp/X7wxwd9HCkoJAQd4y\n",
       "KUYRz/b0cMUvVSO2AF8sEgifiJAQP4VCJELKokQoAuZFCYWgEiksDD41KrlesrAwOdpj8NSugIkF\n",
       "h9M9LkXP5H84usib0zm6hc2j3S4jroHSglmPNFFKItK5X0MK/sM//kP+5OVTAJRDmPYkWQsqEVQi\n",
       "yQujd5nzMlwtZbg4u4tblQw5K+LWgomv4oznrAV9tuZvHbjFy5PdeJFm1tc8NxhyuRTPB1tScjBr\n",
       "8WheUA5NNNDvCD4wPMk7c71MB0lzkBjCtQ9DccSs0yYeaaJabdONmtdqIZzkxNd+JVFhso5GE4mI\n",
       "W2EJlwzP97t8Y7bEB3eZ/NKbLt/1rhERUhE+pUBQFAWU0Ehh4IgslshU3w8GGZljgFEcchzRh6nI\n",
       "MP77F7KaPBVXhE+LOa5HsxTFAtNqgWH66TfiBxnXMPnQbh+wKIUQKkFARCQifnZwL28szNOv+5hQ\n",
       "Vyipad4JruLpMhejCb67cI3r+hKlcIJQVVgIJ+ORn3Qocz0Q3o4AfnDVgW+j1PrnhGu1k+eHYXPm\n",
       "iJceRqr9kaWNEAaPWM/Qr3sZtlymA4+bcoI5fYdQLRJqHykMXKOPUFWq2zHYp4/gC48P54b5RukO\n",
       "k8SJLrZwU4/XxqSWQC+idBSDXR7DwuJS9Bqw+nxLo8ewFAbD8ggDup+CmGdG3CVxP8qrPgwkJVHG\n",
       "QFIRC0gMRtUQQ7bDFb9ERSymnsT1V62+NMnWLlmdZczMc6RHsBgJbi3E867ToYdHmM6p1pZSGUge\n",
       "68ojBVgCPAWFIC47CpVOS4ieG5Ac6C4TKclfTWTxong+N2OI6nnDLjsuEwK4XRGYEkIFgQKlwZDw\n",
       "SE7xN4+8y7945RhKx6VOpTDudFY7/xsfXzWXWYAtJeUopELQ1C840WFzgOnAY0rM1c0fJ85Ra+mi\n",
       "tXQcBifUce6KOaSW9NBFVlgEWnNWnl2xoUsS2faIQZ4w9/OuP8OQ6OGZXSZTi4IuE16cK1IW5fT+\n",
       "H9KjAFziDkfkHva68TY8BaNdmi9PlfDwsTDJ00WBBUwMQiLm5Byf2T3Kr949g6/K+Kq0zD0scRtT\n",
       "KJSqr2lOrkqt2huK7gD4XulhnvNtrfh+bwqE4w093CCuhbAUBj32XvJymIK6gyvzHFaHeEuc4R8O\n",
       "neZf3PxSXd2vrJYfWSKDK/NkyDGtrqcZzbF1oIUr8zwlj3MxmiYg4Eb0FkovzQWveo6r3KN03rp6\n",
       "Dsm+IQb9iDjMBFfTZQf0HrI6yxXxblv7qjVwMLHZp/YyKWZxtYuLg0LhYFKueurulrnUcrBWpjZ5\n",
       "vqePd+YDXhgWvDZtMBvE84ONTTisamlRXJIUg9GWgt0ZsKXmTkUQVhOtpBA4Eva4mlN983z+ek/a\n",
       "sEMKwfsHQm5XLF4YnWCq0sV/vNpFMQrShKxEP7Nf8MqUy6QXkZGS2SBkPGvxVrm0rM2lgSSLgytM\n",
       "yjpgLOOyEGmuBfMEhDzq7OJV/waLolQdfm7echLae9hK4LuayUOtOYfWUZ1jliFsLGxOcpiMIemz\n",
       "Be+UFyiKMh4eofDTzP3G0qqsylGWJUL8+GfdTUFMU1YzRDpIAdwqEWtzs6K3FxgeVAh3ANxKmwzh\n",
       "eGMPN4ghgfESxFbcX3WZp6wf5U31LbLmAE9yCk8pynicUS8uPfXXlBVJacevKb/pB2gzNTbjaOqu\n",
       "1BARQ31f6XasDRuXbfV60say9vVWpUq1toTpslrWvZ40wwCwMDCrr9SWKD0/qHl5ShLq+C2/xzWY\n",
       "9uIIGuIa4i5DUgrj6Das6ZjVa5tI4KcO3uX/OreLilpqkJImXdV838wU4nRXH5cWFjmSy/CxkRl+\n",
       "471sGrU7wqDHMhhxBf/yl36bn/ofP8N8GBJoRYWA/XaW18NrlCnUD1W3YUm4ksFCs220UqOn8E/m\n",
       "nuXVYpFhI8uHhyK+NWnyenSBCqV6j2zc2DFL2/TqPAecbl4KzlFW8QPWSZ5gQszwg9kRblQivuJ9\n",
       "oamPdgfAO0cd8K6mpfu9qRCON9gBcTvewlAPuOS69TkHeJJTfNX/wobeyM0j0dYgbgbgZsfZGq7L\n",
       "HZWauSglatY9q3YftSBOhqCXXqvvFV0LYYnkQKaLnAk5S7MYCaa8eCZ/sVrPuxBFVMuLMapzyFII\n",
       "xrMGB7sDvjtt0W3B9XKYDjnXnqcjJZ5acmKSCF4YMvmTiYVlw+fN+lxbmDzq5um24FZFMx14mBhY\n",
       "QvBEv8HZOU0h8hmyHV4P4xaWSWQZ0bwULVErQK/WOrKd+uDG0qQRcRhH29yUV/lE1yleKU1zg/pR\n",
       "kbR3uLAZ0Hu4zaU6Y5JkCkXpiKhat7wRAMfntrMg3AHww6b6+73pEI432gExrDVprQk013gdW133\n",
       "ZgYMtSVTdcuuchyt7A1ro+EkES3u6WSvOvfYuM3aVpYSSU5nGbd6uBGU02hTIhk2suRtycRiwK+/\n",
       "cIa/95UTTdtX9koHWwoWI0VFhwQojGrU7AqTLsPgWI/gUgl8pbGl4CPDi3ztToYbfiXdVrWPFa4w\n",
       "eWqXwQt7b/BrZ0f52IjHNyZclNZM+j5FFuv8kGEpMm4VzTtYSCRlKiih+NG+Af5o7nJdY5RmQ9Gt\n",
       "YLoRO8NGtWob2ez92ewhzRAWGZHjGeME14L5tIVqhRLFcKKuFnjlOuBEm9GmcnuA4kEBcAe87Wr5\n",
       "/d4SCMcb7oC4bntrziJf/fq1gnSroeZkGNGULj3GEE+I43w9/HpbH7Ir2Rs2AtgQNsNqHy5O2gu5\n",
       "WcMOU9t11n4QN/9I5Go3TcLqtuCtQoBPyKdHJV+8FUe+XaaR9o+OE7maewQn0fLS/uOo2ULiCANT\n",
       "SIrKX9Zso/6Yl9YxMXCkJGNIfmJ/kaulLC9PCYpRQJFFPOGnPtGw3CYxje+15JncLgAulQIsIfB0\n",
       "xG0xjS8W6xKzmrkpreQxvFYrw/S1VtaDTZZdbdRECIMRcYjH7GFuehX2OS6v+jd4yt7Lbc/jqrxJ\n",
       "Sc/wnHyCv/T/glAt1p/HCslXTY+xA+B7rg6A21Xz+71lEI43vnNBvJWmD+sr61o7lJu5Nu22jiAx\n",
       "qFDCV6W66KNub9VOSJH2lwGkcfvx75ai38/sOsm8Lzk3HyKFQGnNdaaq2cFx96denWevlSNrCjJG\n",
       "nIk86Ghenw25xmRd5JaAWmqDZzN7OV8pMWJlef9AiNKC12YMJnyPQcvhYjBHKMK642w2f+xi4QiD\n",
       "jDTImbLO4jBMa3fr/2h+eiTHNyYMfKXSOeIr3gIVvHSfSQ1wbberZnK0wyNyEF8pAq2YY4EeXEwM\n",
       "uk2D4YxkIKP59lTIVXkLn8qKEauJTVZ306/zVPC5I2/g66UovjZCrr3na/UTXkm1QJY1IyKw9H4a\n",
       "U4coi3J6bX2xSEHd4RRPotC8qr6OH843OZ72jmWnQPhBAHAHvmtR6/u9pRCOd9AB8Yr72OIIecku\n",
       "0cKULj9o/iBT0SJ35B2OMcZZzrOgC3V/UIaw6WWYft2Lg0mAokyFu/ImBgZdOo+rXfYZvbypzxPg\n",
       "Y2Hzye5jfKdQZE4U6NHdRChCEVIWRSQG3aoHBwuPgKTHcRm/OnQbpzkloG7mIJRE46fkOErDrajI\n",
       "gMgyoYuEIqyLPOMrtRRt7jN6mYm8dCg7iYAz0kAK2NslmfPhh/eU+I3LOu3H3GhJWOtZ3E0GR0pu\n",
       "qjlCEdSVF8Xrrhxxtrx/GJwy9nM+nKprU9rK2jDxaf5fx3bx65cjfuGA5F9dXqQs4g5Wu9QQT2T7\n",
       "uFIOuCivUFRLDzmb5Z7UmFOQNQfSbRvCZkSNMyunOKLHeSn6enweKwxDrwfA8frbH8I7HcAd+K5H\n",
       "9xHC8U46IG57fxucR65VWmYkbQxh8fcHP86/n32FLpHnETXOW+INAF6wn+WmV+GyvJQCdVCN4Auv\n",
       "rim/1AYODgEBJTGb1ixD8z/MJDI+pE+kpUNZbJ4fsJlYFBR8zVwQsidj8VYl7jVtYjAlp+vMKZL/\n",
       "t0reWva7hqxqC4uDxi6kEOxyBLcrEVNRBQeTPtPmULfgdH+Rz13rZjFS3Fbz+NXe2NB8PjexVTzd\n",
       "3cW3itNxC8rqcdbCuNkDRbtJUBKDvOrj+Z4+QhV7EYdapRnTLhY3xWRdb2lbOxx1+njXm8XB4tFs\n",
       "jjPluKbX1BZFGWdXP2UcYjLwOMvrRDqoA3EzAK/1g1cIg3HjNK52OadeSd+LP9f7UX5r+k83bf63\n",
       "/hjbhVsHwmtVB7wb0cr3+55AON7RzgTx+iEM6wVxuu+2gNx6H636VtfayxnC4jF9Go+Iu3ISRURe\n",
       "9RE3iwioiIVlmblaRzWm8MvnGWv3me4PA1u4jKj9uFjkDRtfxYlS81QoizJ79ABX5fW6OVCjyfm1\n",
       "48QEpGCSGLzPGSTUcMkrUqnOtUaoNFru1Tnyhs1lNUlA/XB2ch5LV1zGxhVkebrP4UIxbgJyPSqk\n",
       "kXYvXXxiRPI7tyerPZzrnacaQVw732s0edgwsXG0g6tdho0cN6P5KuRj+CcPBj3ELSFHnQylML43\n",
       "GUMw4XuU8aiIChWxgE8ldddaCcLNPnzb+UBerRyq1TbWGwHH29z+EO4A+GHT6vf7nkE43tnDCGLY\n",
       "KIyhHSCvXAbV6JI0ar+PWXWTT2Y/wKWyxwwl+slhCYmnIz4+bPIHdwr00MVYxuWv/XOpY1PUZBgx\n",
       "UbOoNRkO/6DxNK+r9wjw2a1G8YRHQUwB4OBSodT8HBpKm1Yqa6qNgi0sdutexrMWryxMpsPdsPpQ\n",
       "cbNEtCRb+4AYwlOKnxr3uVp2cQ3Fn98JiNAc7erCi2DGD5nTi3gEnO7qoxLB6zVNN2B556tmqi3l\n",
       "yugcH+/ZS4+tODsnmA18PCIqeCRNPwYth0WlOJAz6DLiEq27izDlB+RMk7fD2/hiMX7wUL1kcTiS\n",
       "y7AYwbXKIq+pb8atRxqHp1f5IF6pXr123ZW2s5EoON729jZs2EkA7oB3M9Te/b6nEI532AHxRrUy\n",
       "kFtnqybzw1CtdzXy2DJLL8Octkb5gd0+057F6zNQjAK6DYtz6ha+iIedT4nD3IzmOer0ccmLhzhv\n",
       "qneXoruGP9zVGn00a/JRu2ztccddieOI0NYuofDrljG1jYPD89lB5oO43eTkYsjzg4LXZgSXw1k8\n",
       "4aVDxNA6Km08jmY1y6a2qlF2NVMagz2Ow0Kk2OVI9riatwswG/hkDZPLahJPeGmCVW2970qqPe8j\n",
       "epwJPc9Ru59rfpkKXnpOjcf12XGTFyezvFUuodBUxCIBQdpzHGCIMd5nD/MX3otxAp6O0ii4XXDG\n",
       "16+9JiBrAzBszVD02re9GeoA+GFT+/f7nkM43unOA/HGIQybCWJYCcbNQSyEQdYaolsOUFRxBCqR\n",
       "DIpxTpp7eD26DMBnh/fxG3fiYeFu3ctdcSM1gG9M5GmcP1xLnXGz+uX615eO28Lmn+w5xH+4GUd+\n",
       "vvCQGOmwMsRzv1JLXBwcTBQajzBO9qrJ8O4nx3UxUdebuZnSoWBt1x2nRVxGZWoTB4sBwyUjJZOB\n",
       "hyMM/tGj0/zmud10W5IbFY/Hex3+rHADX1RSD+hEa2k3mgC59trUHuP7M3s5X1kgJyxMITlXbTF6\n",
       "So7TZUi+FryJr0rp8DPUw68ZgNs5xmYQXuswdquyqM3Nil77djdDOwHAHfBuptZ2v+8LhOMd7ywQ\n",
       "bw6EYbNBDKvDuBbChrAYtI/wnHmU18NrzOk7+Cr2CzaERVb2s6ALRDqIS3lknifEcd5Td7ilzqVD\n",
       "0c2Po3njj83ouCUx+CH7FEd7Im5XDH7hme/xma8ewyOkIhY5aOyiGEb4hEgEQ7ZDKVRIEZc/lVVA\n",
       "hQCJwCOgIGfrkr8alezbxCav+nBx8KvZ139jVw8LoeA7hVIajQLkdJZhI8c5fSOFe0ZnGdL9HMpm\n",
       "+M7CndTofj2JTrXHVQtjE5tRtYcJMZ2OWgQ1c9AObnpPa40bmgE4/XkDkXCr5dubB27UVkG4/W1v\n",
       "RB0AP2xa+/2+bxCOd/6wghjuR1QshYEpM+nwZWNnKSEMbJnDMXoohRNp32pY3mxi+f6XDzc3M4Jo\n",
       "XKcd+LrkOCnGuajuMiYGmVEVPAKKch6feGi1W/eS1Vl6RYZIQ59lMtIluFPR/OjIAr9zZclust9w\n",
       "eFOfT4eFV1IyBy0xGFGjKBQf7MuyEMaOSy8VCkzJu3XJZEvXbDnI1lKq1Hgtan9OhqgH1G7+uzGL\n",
       "P7hqMCXmCQhwtIODzXV5mUBXWtYGrwTh2mNu9XOt2gVxq9+tDGLYnC5Za9vmRrWdAdwB71Zofff7\n",
       "vkI4PoCdA+LNhTDc7+Hp+nXbe61RzYaSpbBxZJaTPMF78r20KUjtOkIYZEQOIG0qkezPweWwOsgu\n",
       "2+Rdf4bZatZ2Mh9cFDPLSqNqXX4cXE7Lg1wNC4yZeS5G00gtKcsSPpU0wWzl86pPBkteS4wIXO3i\n",
       "YDMnCnUOR617N7cfWdZey2S/hrA5pA5zXd5Is6GTL0c75HUPf2ef5OaCw7l5mA48FJqb8jaPqH28\n",
       "IV5Pu1G1C+F2jnct7TFX2+ZGQLzdILxdAdyB71Zp/ff7vkM4PogOiDdLa0nagtX7U7drf1jXulLY\n",
       "dJtD/A3nFN/wzvOEcYhvRd9f1hBkVI1x3M3jRZrHehV/dHeOH+rdxY0FzQ2/wg15LQXmSv63jcqI\n",
       "HCNqP+/LdfMXC2+lQ7Nr+QBq7AaWgNjExqTqYkV7xgor1VLXL9faUvAUT3JXzBIQMqD7MRDMiAJl\n",
       "Uaw+GFiM6kGKLFYbrERIJHfknXQeOtI+gY5BnJaYtQnidmQJFyEMvKhQZ0eYbr+NYeoHAcTbEcAd\n",
       "+G6lNna/twWEE+0EGG8+hOF+gzjRRoCcDC1bRo7dxsG4jlb3MCWnKVMg6bSVzFkC2Lg42mEfA3xs\n",
       "RPFvb90lFD7HGOMcV6lQqqlHXv88ajtauTd2DOGc7sPRDkooHpG7OKuv4FNJh6DXA+F2rSjj45AY\n",
       "wuZD5pNcDOa4KS6m235Mn+Ytcabu2C3s9JgPWv1cDua4Ja8QqkrL5KxE7fSJNoWNa/Thkkuj84K6\n",
       "g6fKaZnTSpFy3f5W7JjVTM2GzzsQblQHvlutjd/rbQVh2P4g3hoIw70FcXv7W4tBRPJ6bUQshMFx\n",
       "+X6uiHMYwuagOppmNtvaYUh0M699ZsQccXMQv2ljEKDh+5WzcduxcWx1Ps2zt2MI27h0qzy9ZKkQ\n",
       "MCcKacbzag5Hja+tZQ61HTXzeDaly7PifbypL6YPNMl+Il1rLrF61nIzY4ZuOQDASQ7zt8cqfOV2\n",
       "joVIMxv4vC3f5m/lHuf351/EV6W6czSlS68xQp8axMHminiXcjRFqBZbJoRtrpfw6ttZr7YLgDvw\n",
       "vRfanHttCGH+803Z0qZJr9Pg4N5IIFZfaF3SsImAF2K141x9f7r6b/n90DS7T0LIeHlEdRkQZgZP\n",
       "l+gWA/TpHl4YyHHUzRGFcQJVr2nzIwNZBkUvmTDPvA5ACBxcDqlHCITkKfMoN/QkSi+VGsUfMrrm\n",
       "a/nx1R6jrvm3/B7WLyeqc9ZQmyVtITF4oXuUDwworhZjL6VHrWGC0GFRVKpnXV0fiRQGjnAxhc2T\n",
       "8jFuM4VAxlFi9ZiXzmNJqvr7tfwTDecde0GF3NA38fUCGh0/TEibMX2UeTmX3lsB6THHx7d0PELI\n",
       "9NpIjPQhVAiJJRx+wDrBm+o6Xy+UuB2WEZHNPBWKYo4z3rWlbQuJFBZSWPxU90eZ8gRjRh+LWpGj\n",
       "l4pcxJA2e6zjzKuJ9J6kXzXHknzp6lHVX7/1xBSbE4dsBwA3ez91tBXavHu97SLhRNs5It66aBg2\n",
       "KyLeaMvLVmrl1NT4fW17TCkMDorHqYgKQ7qf9/c7nC0o+myD85USEolPQBaHy/IKEM+97la7mRPz\n",
       "lMQs/3X/CX5j6lstk52aDSe3Os7k+Jotk0R5WfK4ugtPePSrfgZkF6FWeDpinkpqGJFE8M1MFUbV\n",
       "HkwkoxmHUMNipHgpej11plqrr2+6XM16rUYr6jPM42HsIcYYk/28p26zIAoELEXGg+xlgqtIDA7o\n",
       "Y1wS5+octJpdu0bvaAeXk+IA39VvpnP4rXqKW8LlmDrKRXmZYTXKed5A64hQ+6mxQ+3yQhg8Iz/C\n",
       "2/JtisEtuq0RsuS5vvhq9XrURtD3tmZ4+8C3o3ujzb3f2xbCsH1BvLUQhnvT5nL9+1oNxBKJlDb7\n",
       "jFPMiol4HWKLw2cGp/hH7/goEbFPDfN4r8Pn5s9ja5dFUSLAX7GsZk3H2aImOf5d6wYhyXzqsNoL\n",
       "wKNunkqk8ZVmOvQ41OUysRhxXc+kIE62aSAJCJFIHO0AxM1B5B26VU86JxufU+vzW31OdJVzrzkf\n",
       "x+hB64gPmk/yavQuAHvVfnwCdsscUsBM5NErHXotg3e8WQpyljE1ylviTFOYtrpeM3K6bp7cwua0\n",
       "OMLTuzR/cddjRswxzm7eEG8vu8+Nbk6OzHKQx7guL6f+1OVqSdoF9V1CtYhSfs066wXx+q/1/QZw\n",
       "B773Wpt/v7c1hBNtNxhvPYTh3pg/rH9fq3kX77IPkiHHc/YYX/ZeZVHNpw1BbJnjF3ef4Ffvnknn\n",
       "KfNymLzqoweXq/I6c9GtZR/Kaz0maFZnu3qrzNo2mRBH5bEVYz5tzGFh8fdGe/jdGz4ePhJJjgx5\n",
       "w2ava/BqqYAnfAICXO0yK6cI8etKi7K6m1v6/DIDhWZaS+Zyo69v4/nZMosQBkfUMWZEAVs7hCKk\n",
       "W2cpiHmKYq6ujKtVNOuS45f2j/DGbJYzhYAZSlREhVAEad100s3r2cxeXl68sWze/zF9nNvMcToz\n",
       "yI2Kx5u8lj7UGMJiDwcoijlMbEJ8fqLnMP/33It4USGdQ25l+rDVIL6fAO7A935oa+73joAwbC8Q\n",
       "d6CIVIgAACAASURBVCC8cq1xs3aUtb+zhMuwPMyiKDMTXd9QmUw7bTITQ/mMyHFMH+ScuMiibm4W\n",
       "UVtvDPXNOmpNIj73oVm+dvEIF4sOrxUqSASHshluLoQEWjOeteg24ZXCAiER43aON4PbGEj2MUBF\n",
       "h7wl3iDSQdq3uVEbLRlaCcaGsKod1Gys6kPGCX2I98S1OscnibGsrrq2YUiXznPSHOVyMEcPLkO2\n",
       "k57ncXOIrCm4UllEoZkRBSQGz2cHOdwT8Du3Jzkghrip5ugly3V5i7zqY1LeYlGX6sqcJJJIB2lX\n",
       "txG1lzPqRfxwfkXjh61yVrpfAO7A935p6+73joEwdEDcrtaX2La5IG78vm69FtHoalq1ZrkJdAxh\n",
       "Y4kMXSLPT/Qc5vPzl9L63mTI1MBgv3oEheKWvFE9xiVo2TrDETnM1Wi2bn+9ZAlQuFh0mwbDGckH\n",
       "h+a5MJ/j7JxgPgw5lLN4vVjCwuATwxa/cfcCHksWgs2GYTcK39WuicSg39jHhzMH+P7CLBVRwdUu\n",
       "BhKvOr9ta4d+chzttvhG6Q5lUWw67137YJLVWcbMPMUwoozHY7lcbPG4EGdij2UtZj3NlWA+HSVI\n",
       "DDV8KnhU6uaSa0cIavta1w5hty5pqv95dRi3f83vB4A78L2f2tr7vaMgDNsHxA87hNdSvrQajNtd\n",
       "vt1lEvCYwuZ94ll+YMBhalHwbsnjrpilW+eYEXOpE5OpbQ6JPYx2GbxRKpLFRiK5KK/UgWdMjfF3\n",
       "H4n40q0cb/h3AHC1i41Fj7AxpcAUAl9pfnhPxH+6GWIhuS2mUCKGy/POAc5XYig/25fhjwoXmItu\n",
       "EWp/xf7N7arp9W8AcTI6MCIO06tzmEiGHIcjPYpXphQzupK6LgF8PD/C5+cvAfCJ7gO8WljgA30u\n",
       "pUDwrfJkeo0SBycTg37pkjEkXYbAqe4+VFAM4xKmIcfhglcgTxdlPDwCZmVsKpLV3ezWfdUysPll\n",
       "PctrI+TGWuSV/Ihbg3j7ArgD3/utrb/fOw7CsD1AvF0hfD+j4Hj/Kzf0aLm9Va7nSrXJTV9v6Fud\n",
       "zFWb0sXC5u/uOs7FkuSdSoHdMoenFAUWyOJwu+pxvChKaXSW7KvRWvCCuJ66LDk4KbiSrOms7gag\n",
       "KOZY0AUUEb80eprfvjnPVXWmpX3gZqixjzeAJV365AhPGI/wTjhBXvdQpoKDzaNd3ZRDzVvBBKa2\n",
       "+Fh/P1dK8FL4dl0ddFIz/Zx1AEvCu5XYyAJgSPTwgQGDb0wGHO92uFVRnMgLrpUFC5HGloJr3gIu\n",
       "FjOU8IVHRSzUuUsZGJzUR7kgbjKtri8brn/EOI2jbd7TrxFpn//S/RH+tPIVAlVOl9E6IlI+7YG4\n",
       "vet+LwHcge920L253zsSwnD/QbwdIbz++urNiYLjY1h/163VQNxq/ZWiv1oQmzLDj2aeZdqLkAIK\n",
       "kU9WWBzqNhntCnlj1uSat0BRlFNoJh27IB7a7mUYC5Oj5hC3gjKX5XlCVSHphV1RhfSYJAa2cDmp\n",
       "j/K2uMAJfYiX9XfSUhwg7SzVSpsWDQsDgUG/uY8FXUi3OyIOk9UuHgF35HWeFI/ypj7Poi61LAFL\n",
       "sqEb58rjSNjC1CYuDnttl0Pd8PXpCr3SYaaaFf7RXVk+N3MbhcLVLp7wUp/jxmYmhrDIiX6KapKf\n",
       "yX+A3y28lF5rgKPqCJfldT47vI9fvv06h/SjXJbned44zRfK/6mNzOntBeAOfLeL7t0D146FcKL7\n",
       "BeN7A2FoF5D3AsCrtbWMj2Njy2wWiFvNhdZGxLv1XqSWWJg86uZ5fXGSUfo4K97F1xUCvVgDheYf\n",
       "js0SqqQwsESGbjlIVnfzQz3D7HFD/vxOwHV5g0/nD/Fvp78ErN27d61adl2SBLlVMqhrl01qviF+\n",
       "EEmWTZLWTGxc3cUP9Qzz58WrHNAjzOgF5uQcprY4Ioc5p26lw///7eAYgRL8P9MXWdAFbOHyhDjO\n",
       "VLRIj7B5Sf31slroYXmEcYaY0QsMGzmuR3M42Hxq2OW70wYXgzmm5QSH1UFe0y+l9znSQZpJndQT\n",
       "rwXCHfg+bLr38/07HsLwoIO4HahtLYDbgW98HO3fh7XOE6+2frOh13SbNRnPSVZw4kxkYfPD7jG+\n",
       "UjlHgJ8ONX8id5jfK3xjQ0lTK2VuJ7XC9+LDt91r1cz3OVnWEhn+8NQwv31uL68EcXKbic1JuY/L\n",
       "YZzc5Ys4uSqRhc2YGsMjJCDklryC1hG2cAnwCVX8oKN0hNLLTTZqM+oNYadz2fs5zpiZ5/vqIhmd\n",
       "pSCmiLRPOZpC64jEktMSGUphXKceROVqE5DtBeAOfLeT7k/G+wMBYbg/IN4OTTu2Yg64XejWH8fm\n",
       "ZDpvNoSTc7Flli6R5xPZY7xSLBChGDPzjGclb88HSASjXSafK7+4zGGoFXjX8gHa0tB+E/7w1zN6\n",
       "0GrkoBmIkwcXS7gMq334wmNK3Ga33ktAwKDuY1LMMsOt9Nolyz+iDvEu368zjHCNPrSO+PGup7hU\n",
       "9vhO+KVlHcSWIm+Lw8ZzXNVneUw8QwWfa+I8C9EsSvsIYbDPOMVF78V03WZD0FA7DN2Bb0eNun81\n",
       "3w8MhOHeg/h+Q3jtAF5hGHid126913ytJgsrrdsMwI1DrMnwZLLsAPvYzyDviSvpMiE+RTWVJgKt\n",
       "NVt5PVaFm612M85Xg3AydG8Ii336CJPyFr5eKq1K1GyYPll3P8cpyxJFZviI9Th/vvhXqYMTLM9s\n",
       "bnXc4/az3Ajf4LTxES7LC3yi6xR/tvAmU4vnVsyGjvfReM07AO6oUfe369kDBeFE9wrG9wvCG2lJ\n",
       "uV7Y1u9/Y9tYL4BXmgsWGJjCxpSZOkjUbruV4XwtSNrJVm73Q7Qd6G6VPWOrtpzNtlFb0vWzvR/m\n",
       "D+Zf5gme4Jy4yLAaZUB2cZbzlNXMshaTzUYJbJlDIhkWB/iV45J//rZDFofH8xl+e+aLy9yS1tei\n",
       "sx3grrz8svW3+MO4A9/tqPvf9/uBhDDcGxDfDyOHtXoFS2GseC3a+WDYrGu5niHo1ZKwaiO4j1o/\n",
       "yFl1nT1qN0NWhvPBDLNykgCf/6bvMb4+XeE9cSbtUgWtTe2bXZfNgO9WfBC32xRlpSH72ujVwWZA\n",
       "dlFUPgdcl6955+oaaRjCppt+5vQdKtEsSi1lkNd2uJLSbmpP2K4tYSttdjvKDnwfVt1/AMO2tDLc\n",
       "LN0LS8RmtnibpWYuP42vGdXlZLp8DN2qdZy0MKWDa/bTY41iSgeExDG60SgM6fCs+TEmxO34PISs\n",
       "+cBesozbiETN8Sw/Q1l3/WqXbVyncTuCJVu9BCLX9W0CPDwZUYo0PznUy3cXJpFIsuEgr6rvxVmy\n",
       "hNUobun5cyUAt2sPp1B121zPNtanFtaSCIQw2G0dYUQcJjSqrxHbLCKq8701w/QlUaAgZpgQMxRF\n",
       "iekw5JQ5RkUJPt17mLlKNxVRpqRnYsCi0VWLSaVDSH7WIZHyqtAN06FnTZgeb2sryuSaqbaXXa7V\n",
       "r3cM362LQTq2gttVW3vf16oHGMJwL0C8NRBuFv3Jht8v/Szr4GUgZdIX2ERKm5y5m0fUIQYYxpA5\n",
       "9jCGb2pGxREkBvNijogQtFrymF3hq9kbuBlAVwJvAojVgLvsdw3wNYRFxujlh53nmNYBtnD5Z/uH\n",
       "qHh5/nj+Ih4VAl3hQnQFlcxFVv8lWj6k2syfeHWtDOB7oXofZY1GCoNQhJjSJaOzPGUe5xbTCGFw\n",
       "nCf54Z7DXA8DehkCCT+efZyZQPJ85iC3ozImJj+z12CP2cvbBU1Zh2gkSiiUULhGL4vRXBXAS+ea\n",
       "POQsXZP2gFQP3rUq2Ucb+9nCKKgD3+2s7RH91uqBHY6u1VYOTW/+kPRKADbS4eWM2ceAMY4iYsJ/\n",
       "ByEMTOkiMXCNPgK9lAAjkWRlf7q9BR3XTcbbNrBllnI4VefjullJRM3mJqWwOSif4BrvpL//AfM5\n",
       "XlZnKUdT6XBlbZKQa/SxqOaXZdAmc48Qt5AcEFmO9JgUA7i0sMiEmGFBzLOoS2lS0WplR+up3W11\n",
       "vdYL4I2Cu9HVSlTfN5ZwsWWWIcZ4PjvIW6UKHiESwTn9WjrcbAiLXjHMPjXMVXmTbpXHwmROzgEw\n",
       "ryeJtE9W9lNWM5TCuw22gtDWUPCavX9rtb2cjzrDzttd2w/A8JBAGHYKiFeOgKWw08jWlXkWdYmM\n",
       "yOHrCj/V8xRfnZ9kD73cJv6gVESURZG86uemuFBnGAD1JTiN83aNWg3K7badTDo3dZtD9Ovd9Os8\n",
       "JRZ5KtfHH5dfTvsCG8KiRwxSIe7c1KeHeMoZ4ev+WwT46ZyuIWye5BRX9ST7GKCs43IjgKf7HL40\n",
       "N0VRzKGIqh2wlpsmtJMFvd7M580oY9qoGueEDWFx2vgId+QdfCqU1SxetNRFK/GCnuI6C+EUpnSJ\n",
       "tI8lXADGxEmu8Q6BqhBVs51XshRcfp73FrzQgW9H2xPA8BBBONFWwHhzINzOEHT1O1mNVOxxXHL8\n",
       "9K5x3puXXPKKdJMhaxhcVHc5bOzmTXUFV3chMSiLIvN6klAtrmoYsFkfLM1KY5K+zpbIpNHZIXWY\n",
       "STGLQrFHD1Cu9iKOUPTgMiOKVMQC//Jwjj+41M+r0YXUck9isFvtASCLg0RwU0wSiti/19VdaT2r\n",
       "ieSyvIatXe6o91pm+La6Bmut923nOt7rD/EkKjZlhiAqr3oMtfD+iP1jvBS9iGP0oHVEOZpqsBNc\n",
       "a9ZyK23ONekkXT3s2r7wTfTQQRg2H8Qbh3C7mdBLmcDJB6lEcsB6hkliCz5buJjYaeeixPP1n+zv\n",
       "51euTzKtrq9YYrIZbRRXMlswhI1r9PF++T4A3lRXqtZ5LgO6nw/1u7xd0HxkOOTNWRulYWIx9ugt\n",
       "sEAcJytcHCwMbsrbJAbySYSfIccipTqrQhuXrO5mVtylrGZXjYZXO/92Rws2sy/0+kp57oVaNcVY\n",
       "/zY2Q53o92HX9gcwPKQQhu0E4rWUItU3VGic95PSTocMa183pctBdZT3xJlqdnDzGs3NsNJbfh7N\n",
       "y4kSQwVLxK5GNi6OdsjqLN1ksIRACsGBnMEb8xV+blzxxZtdvBNO4AmvDryKiIglH9paJecqMeLl\n",
       "GobkG69Bs+vQzvVYaS59XcPbm/Yhv7WwWDtwtx5eHfg+7NoZ8E1k3u8DuF9KeszeX21O44wk8Ubr\n",
       "iIDKko2fjkDY/C8jJ/jNm7PpOcvqY5ciamjeUX88WXMgTZRai93eSq5GtXrBfhYJvO7fYlGU+XDX\n",
       "GAVf8244haszHHG6+eT4Tb75ZoZfvaowtY+Li6ktsrj4BAwbOc7pG5QppNtVTY41sRhsdvxSGHXQ\n",
       "a3asrc4r3YY06Df2cTd4r87vNlmv3aH+jcH3HgBuk2t0N1Md+Ha00wAMD3EknGgzQby2aHg9LSmX\n",
       "sqMNYZEx+xkRh7ilL9RZ7lkiw7A4gK0d9sgeRrsMvlG+gYPDBFfjtow1TRWEMPiAfJrv6/c4rA4C\n",
       "cF1MUBCTaB3hq3Kd9d5a1cpQodalx5QuJ9VJfEJsTK6LCULhxw8KiV2eNnBwcLRNni4MAfPa4668\n",
       "S4iPRyW9DvUdsZp3yop/1975JMdriQyH9Al2mxleVmcJdAVD2Ayr/RTkDABT4ZU02a3RgL7ZMcBG\n",
       "4Ls1cNiOEW4zdeZ8O1rSzgMwPMSRcKLtERHXa6WhaCEMLCPL++SHUt/bEQ7RT563+V68pLDZxwBX\n",
       "xF2mlMmnBiR/tjBDEUDHv0/OuJdhfn5kN//u1l126z0MOhYDDoTzAygRMc8kiesQgKp5ZFsJyCs5\n",
       "CKXrJ0O4AiLtc0dMk9VZPEIWRb2frY3LVz9xk5/+wuMcybp8a+EWC2KeoGqP12woOt0vMgVhY1Ta\n",
       "aN+XHn/1QWeIMQ7K3RQin8vySnUeWdFnS/KVAQwkkVYUZYGT4gDf1W/SZfTRyzBP2Xv5sv8ylWg2\n",
       "LQlb9hCwTeC7XeZx16IOgDuKtTPhm+ihj4QTbVprxrai4bVEwcsdgaS0kUgM6VYbVtj82iOn+ddX\n",
       "Kmk5zmlxhFtRkWEjx9v6KgBjapRuw+JNfbEus/gT2WN8s7RU3qSI6NY57sq7VEjqa/06p5vGMqdG\n",
       "rdSjutEgPn5tqcVi898bqc3ggNrND/b18KW5KabE7WUAboxul0e/7ZVbJYlkFjYmsY9uXvXj4qDQ\n",
       "9IoMo67FcwMV/uO1OHqXSG6pc/F+dESkKnXXbeMQ3jgY1l8idP+h1DFY6KheOxvA0IFwnTYDxBuF\n",
       "cG1jjlrVJmP97Z5PMe1FXNC3GdK7uCDPY2CQIceoGmKOMhJJDy5lPB5183y/Ms0vjme4XHb5wmSB\n",
       "D+f7+HzxfJrYJDEYUXu5JW+kP+9WewgIGRI9mEJyrMfgc/PnOajGOd5j8f/Ov0SjBV0rV53l59lw\n",
       "ftR3zGoGYoe4GYmJjSLCp5JmQK8UCTdud1SNcU2cX3Gd2mOIRw6WDOxNbfOMsxdfaS758zzq5nl1\n",
       "8Q5lUaSoJvFUOW18stpQ9NogvH443I/a3M1UB74d1WvnwzdRB8INujcgXi0jur4UqX4ZI42CHZlF\n",
       "CINH9fuYEDOctke44pX41B6H781Y/INTl/iV741jCsGNoMzfP6j45UsLeMIjJJ5vDar/b+xEZWHT\n",
       "pfMoEaXA83WF5+QThFrzGm+m868So26eOVHSqSvpVgX1UehKtnuNpvISA6daZuRql3lRxBeV9BwS\n",
       "NT4EJJnXts7gapefHc3y728VmBV3CfCbPkDUzldb2BxWhwC4LaYZZzdTupzuX2IwoAa5Ja9RUQUC\n",
       "vRhfC7V0vislZbUP4XV0h9oQeNe3z83WvYAvdAC8s/TgABg6EG6qrQdxq8YcBoa0GbefZY8e4Jx8\n",
       "h0o0S1TTTjJpduHILIawEcLgEXWYsFqks8/IY0tBqDVSCHY5gqwBLxWKePiEIsDWDo9YvWSk4JXg\n",
       "KkVm6vbRGL01Pb/qw0BW9vOP9zzCv7s1T1kUyepustrFI8DCrMIqLosysZnXkysmQ0mWhoCTsqJu\n",
       "3UtWZ5kXRVztctzp45JXwiPAxeGunMSnsmy7EoOnjKNcDGbI4tIrHfptg1KouBsuUhRlyqIIQLfK\n",
       "c9zZxYwf4OmIy/IKAE8ZR/l2dCbdtoVNTvdREFMEulqLLWx+yHqc257HZ4+U+cULtxlUI5wLv7kM\n",
       "wo3XtT0Ir6XrVge8a9pXB747SA8WfBN1INxCWwvixui2vje0KTMY0uVJ+QOc5XWEMPio9Qxf9b+d\n",
       "9oM2hEVeDlOhVDcU7QqTm8witcTFISQiIOS4s4vX/Rtp9PjpnmN8dW6aaXkHvwqT2nnflepoYbn5\n",
       "+0meZKKaWJXs96jbzeRiyNviQhqtrjYEDPGwc5fuYVQP8l8dWOSVqW5uLCimQ48Si4QiJCCI23aI\n",
       "+kYddceIgaltLExMbWFhkqeLCgFFUU6H3f/mwC6+PLmAR0BRzlNkpm7uu1Wm9dJ+4uzuPj3EP9jb\n",
       "zz+9+vWWkTCsJxpup+vWZnxAPdiJVsv21wHwDtKDCWDoQHhFbR2Ia+c7l5szPGp9lLIoc8IYYTr0\n",
       "mBEFBnQvZ3mdQC+mH9qWdDnKaSp43BQXkBjYwiVDjmNiL2f1JUJ8TGwyOssBMcRQxuALlZfjPQqb\n",
       "n9/1Pv7z1DQ/OdjPH05OUhELzKpbBCoGczsZ0LUlR4aw0gYcGZ1DiSgd+k4iW4mB1xC51s4BGxiM\n",
       "qP0EhBhIHnXzvFspIZHstV3Gc/DF2Ym0e5YSK0TW2sDCpFvn+PEhlz+4O0mEIhRB3Xy4xMCnUteX\n",
       "uhmAmw1fN6ujbta8Y33D0iuDogPfdeyvA98dpAcXvok6EF5FGwXxatFw7TB0j72Xn8w9y1+WbmBh\n",
       "UhSxEcMJfYjvqG8R6EoaYaVzpcKu60A1ro9xRZyjS+RZ0IW0BOtHnGf5/7yX6zpGPSmeZ4/j8NfB\n",
       "WzxjnOD16AIlPYOvynXD0ytdk6QxSDyMbJGV/TxjHOXdcIqsdqngEYoAV7uMGN3sciRZE/60dC7t\n",
       "dLV0RZai6+TL1NVM8Op/HW1jY6WRbFT9I7Ww6NU5/o8nJvg3Z8bI24I3ygWOZfK8tTiLLzwCwhTY\n",
       "ja0ua4+lFr61jT9qh+mbmWAkv0u0Whet9uqFm9+DnQ7few1e6MB35+nBBzB0INyW7gWIDRm3m6yd\n",
       "+82YfXjRfAre2uMRwuAx8yMcy+T5svcqOdFP0oM5FD53gtjecMg8wj8cGeX3bwR8Zlzwq1eLXI3O\n",
       "EFUj3VbDqyueT4Mjkilseo0RQny6dJ5RPciBrMMuR/PmbIQUgkt6AoWiX/dSwaMiKrjapSIqhGLp\n",
       "/FzdRUUsVI+jCmUdI9jCwtE2H8jnuVCMGHQM3qzMVq+kxMXGRLLLsum2BO8slNLh+FAEKbAVih7d\n",
       "zXx1PnhRlKqvL0XFj6j9eETMiDlc7dJLF1NinqfcQb5YeRVflVct00rkyCyfHXyO35u+wkT4HrbM\n",
       "0S0HmPTfS6PrWh/eJT14AL4f8IUOgHeWHg74JupAuE1tNYjjfawtmau2e9YR83kKcoaCmmAxnFk2\n",
       "dFrrhJNEwyseb835NoNyLYgNESdR2TLLT+ef4vPzl5AYnJT7OKuu85Q1xoTncVleS+uT4+3GJT9j\n",
       "apRDOYdyABe8ImVRToEZn7nkffYwj/ZGvDdv4CkIleZWENfgxjGyQCLoM22mQ48YuRpVjXeT5Q7b\n",
       "vYQaRlyBKeBrhWnKsr4xSByBWzjaYYAeuk2DLkPynlfgpryKr0pN53qT6/G0eJZ57eFi8bZ8m386\n",
       "fJIv3YZz4iIv/vgUH/rCEAU1QaR9QlVB64h91hNc8V9usARcvv2dCOD7BV7owHdn6eGCb6IOhNeo\n",
       "ewHj1vtuvW5jc4zVorNWzTTqhppbgLjZMo3zwxADv3a5xtpfiZE2wvhkzwE+degy/9ure/mV91/m\n",
       "t84c4dXSbBqpx5GwiURgYXCoy6USwYwf+wdnDInS4CuFIn5LZ6RB3pYUfMWhbslCCFfKIXN6EYkk\n",
       "JOJfPT7Lvzm7j/PhVB2Iu3WOx3I5LpQ8botpDCQBIT26m24ynJPvVhPZ6oeVDWGn55fXg4zqQUIU\n",
       "e+wM3ZZACnijVOSqvICvymRkD0fUEc7Jd5j1Lq0I4Z0G4PsJX+gAeGfp4QQwdCC8Zt3POuKW21tj\n",
       "BN2oRiA3msBDfRepxuWgHsLx8vUOT0vf1yRgVUuRPmgd44JXpFdkiDQUWCAgBCCLywf6XL43G+IT\n",
       "IhGYGLyv1+JWJY6IpYC8LSjHieMMZGDGg7kgwleKQCtCFAFRWsoVijCdU26WZd2s3Cmjs5ww9/Bu\n",
       "OEFBTPOEOM539Vmy5JHa4IXcXs4UK9yWd3mha4yXS7NYmDzV3c03S5M8ag9yxr9DUczRpXu4Grya\n",
       "PmSk2dRbGgVvPZTuN3ihA9+dpfv/frnf6kB4ndq6iLhR69vPymBuvm3ZAFjLyDJunMbWDrNyiqnw\n",
       "ClCfMd0I33RbNQ0vDGGlwA1q2mXGR7CUhFVr1JAkY7naZUBksaWkGAVIJHsyFh8eWuCrd7qwJBzr\n",
       "iXh26A7X53s5X+xi0hNUQliMNBlDsBBpnt4VUQ4N5nzBmflF5iijRDXK1hIlFB4eofDTbO6oAchJ\n",
       "QtZKCVcSiS1zHFFHmKfCTXERgAP6GBfEW6mVZBCV0nKzduaDt3vHqw58O1qb7v/7ZbuoA+EN6N61\n",
       "uUy09UBO5pmFMOgyB7BEBiGMav/ooK5LliEsdon9TOtrdcPGS/uN54tH1Dg5Moy7Lt/0zqcJULVK\n",
       "AOzqLhxtp5HwUma0xMWKh6OFxJaSjJTYUrA7A4sRdJnwWG+Zr97JEmpwJLgGXCoHVHS8vZ8bV/zW\n",
       "FY2DyfFchndLHpaQ7OuyCBV8vzJNQc7UlVA1qxleS7tOQ1ic5mluiklyOssRJ8/nF75IqBZbABh2\n",
       "CoS3A3yhA+Cdo+3xftlO6kB4g7r3IG7U5g9dG9LGNnroMvqwhcunux/ldwsvxT2UhU2kfYQwOKiO\n",
       "UqZCKOKIrlvnuCGvsqhLy9ypJAYZkeOT3cf4TqHIp4Zdfm9iluezg3x54VJdZvIhPUqvbVIKI2Yi\n",
       "D7+aZpUjwwHX5UYlSBOtHCmr88E67hKGoMuULEaKYhhhCLClJKzaP83oSto5LDkuU5sctHqZCBa5\n",
       "Le8u674lMfh41zH+eOF7aTRcW+oFyyGajBYY1czxMTXGPAucj76TrtsugGF7uRxtF/BCB747S9vn\n",
       "fbOd1IHwJujeOjCtpPaPY6UkL6iPiLutPUQ6wBIZesQgUhucNEe5FswzI6fTvtLN4AT1Xrx79COM\n",
       "yl6KymdSzPKZPYP8n3feS4d+DQxsXIbVMFNiprp+jGdTW2mCloPJkJWhzxEoDe+VK0gEecOmEPlJ\n",
       "P63q8hJHGIy6Fq8vTOMJb2kuVkRIbaTfx521LDy8ut+72o2hj8W4k+OSV+SQ082fL34jnktu0rCj\n",
       "8ftmbkrNE+i2H4S3E3gTdQC8U7T93jvbSR0Ib5I205N44zCu1VpsE+vXqQWxa/ThGD2cVCcZdCwk\n",
       "cNNbZELMsCDmGVF7cbG4Lu9wN7pYB6X4nIy6zOkkYavWoCExjmicIza1Ra/u4RcPhfz1RC+VCCYW\n",
       "I2ZUhUoVli4OFgZ9hsORHsFrsz4zlNJ5X0fb/PrT0/z3380DsEfkuSBupvO/jQ8NEoPT8iAAN8Ji\n",
       "OhxuYqBQnJPv4pJLu4u106yjJZy3pEHH5gCqA9+O1q/t997ZjupAeBO1fUGcqB0LxfrlDGnzhPUx\n",
       "zqpvYwqbAWM8hdYjaj9viTPs14d5T7+W1rwubbM+yzoBMSxBNwGxIWwG9B526z5uiklc7fJju/r5\n",
       "y+kSc6JQ19DD1HZdBJu0pVTotMbY0Q4VUanuK07w+rXHi/zy90eQQtBjxete8orckteWJWEl/sUJ\n",
       "kJMmKD4VPmCe4Cv+t9KIv7ZrVrM+0c1aV67ctnKjEN44pLYjfKED4J2h7fne2a4SQthVCG/FgfwM\n",
       "VQAAEFZJREFUh/7Dp80EMWwVjBOtbqkohYFrDdBrjCAxmPDfQUqbceM0M+Iuc/6Vpo0rkutgygx9\n",
       "5j4qqpDCKCN7OKaOcl5eoE/vrrMVVERYwmVMHaBXZPjZA2X+p8u306xqo9rgI4Hjp3v38z//nf/M\n",
       "j/z6xymKMgFB6toEMUzH1ChzLHDS7eNaZSl6TzKgW5lK2MKN/YOxyaocp9xd3Kh4XJd3mFU340Yg\n",
       "2m9Zk+3ILINinBvRW6m/cK0as6NhM0qU1g+p7Qpe6MB3Z2j7vn+2s2ogDB0Qb442G8Rw/2G8klZq\n",
       "/GHKDCeMD+IJnwmuMsQYRTHHCQ5wlvN4VNLM68YourE2OenMlSXPqBrCxKDAAgMiy3jWpN/R/OV0\n",
       "ibvyTl1nLiA1sThl7eGV8EKa/dw4f93sYSJJRgOqiWMnuCYvV32Sm3cfE8LgxzIfZMaPuKBvUxCT\n",
       "eNE8APvkCRQRWZ3lTPi1uuHqjXXMWh+otjN8oQPg7a/t/f7Z7mqAcKIOjDeqrQAxbDWMobXXcXvL\n",
       "JmqsOU7aa+atfTymj+PpiHkqXBfvpYYRUD93XFtnnDhE7VLDzMpJAuq7Vf3mkUf4hfNLtoy1+4bY\n",
       "B7hL5zkmR3hTXyTEr0sG83UltXKE1b2UT/Ikx3IuX1u4yoDaxZyIATsrJtJzMYSNS47PDo3z6xMX\n",
       "OawOciBn8ZWF+OFjQO/hhn4XQ1j0imGyKhd7ECt/HV2z1g6qDnw72pi29/tnp6gFhBN1YLxRbRWM\n",
       "YSuB3O7c8erry5p5Ydvo4YPGR3gx+hrD5hFuh+80NadwjDx5OUSIT4BPljy71W5mxBxKRBSZSUFX\n",
       "O+farLVmXM9s4+ByUI1TxqMoSngiTuhytMP/ftTkn70bMsHVptndjcPNsm7bFq7Mc0If4YK4jq0z\n",
       "lMRs+vuMztGju5FInuruJmPAi3NF5kSBBVHA1xUCvVgdDfDT2uFWEXFzCK8NVh34drQxbe/3z07T\n",
       "KhBO1IHxRrSVIIb7A2NYP5DjdZtF3AncZLU0aoQT6gSWkAzYFm950xRlgW6VZ1reoaxmmw4fJ+sv\n",
       "JX8Z6Vyyic0LXWPcWVRIIQDoMgTf8+4wI+7iq1KdZzMs91Su7RJmiQwneJxx1+ViZYEyFWblJIoI\n",
       "G5dDeh8Tep4euugzHGwpmAw8+kwbpeE76vV0uDvSPsPiQDz3zlWe4DR/5f8JkfJJQFsP4fZhtd3B\n",
       "m6gD4O2snfEe2mky21tM0QHx+tXYuGLTt1/949h8GCcfiM2PPQHCyjBe2kYt2FZaQwmQGrLkebLP\n",
       "5vcLZ7ACm0VR4gPyCV7U38WPyvGy1W2m0akGIS0G2MeCmMfE5qQY51he8Edzl1FEfL9UooKXRs6V\n",
       "sMLTmRG+tHgj3aZeYZ5YE1W7iMXR6hvi25xZWBo+l0rGRg4C5rVHWZaYZZLb2sUJHQpymkpYSCNg\n",
       "iMFuSZd9DDCly5TVFC/L78QPESK+dusBcAe+HW1cO+M9tFPVZiTcqA6Q16Otjojr9rXp92gjLk/N\n",
       "t7Gak1Ntclbt643fw3IXJyEMPp37IFfLAUe6Lb4zX8DE4F2+X9eGMj0yYacPS15USF9vlfVd+3Pj\n",
       "vk2ZoUvkKasZIh2k3cAeF88RovieehG/mqTVDD6rD0OvDqwOfDvamHbG++dB0DohDB0Qr187F8bt\n",
       "HfdaXJ2agXitdorJz40wTOZr+/RuJriKr8rLulvByh2u6o614VomCWdJMpkhbEbEIbI6yy15DYBS\n",
       "NIWv6rOo6+d7E7WTCd2Jfjvaau2M986DpA18Qis6N2x9upcfPhqVfm1cbUJAq7YbS6zme1y3bJOm\n",
       "F3X7JVqWWV1RBa6rt1lU84TVedekqUazL1Xzr9n+a/9pHbHPOEXWHODMf5HBlllu6Qtcl5fp0nn+\n",
       "9YHR1FNZqbhOOEoznxu/6q/dWgG8ufd5a1XbN7uj7aLO5/n90gYi4UZ1IuO16l5GxMv2fY9MI5ZH\n",
       "xSvbJ9avu3w/rXyNa0ubbJnlgD7GDXmVsppN511X6+/cDLztwEIIgyH7GBP+uaYdwxL4xlqrO1Jn\n",
       "6LmjrdLOeN886NpECNeqA+S16EGGcat2mLDUm3r5Oq3hm/xeCrsO4LbMonWEIWz26EcYoIeQiHPy\n",
       "nbQOuba9JLTf57nZz9BOFL9W4LZet5k68O1ofdoZ75uHRVsE4UQdGLer+wni9BjWdb/WAuJ6Y4gX\n",
       "nE/y1C7Bn0zOooTC1RnOhF9rsY2lZC2BgSOzZGU/eb2L/7+9u/lx4yzgOP6dF4/tbNa7STYvu0lI\n",
       "QkKatEpSKmiFQEVUlIAAcYAb4sKFUznSv6M3uCBxAglacUCCUiQQQkWiQFqJQmmbpm3INpuku9m3\n",
       "2OuXeTiMxzv22l7b8Xpm7N/nFO3ajrOezHefeXmerx2Y461VQ86xWKvUeMu60bjH+IeHL/PCnWuN\n",
       "88Eh39SaIp53DrBeWWwcku40x3P43M4eJrw7n9+O4iuDScd2M2n2OMIhxbhX6Yxxb/cT25bHXO4C\n",
       "xdoKJ+1H+VLhMC+tv0nJbFD1S1Tr52uh81XJ0cPO560nuGffJW/2MWdmWbKWOWwOcKWQ59cbbzaW\n",
       "V2xdRMHG5pD1CTK45E2ebxye5q01m5e3/sJWbXXHer+hXpcdDN7/8OMLCrD0Kx3byyQbUYRDinGv\n",
       "khBj6CfIvcyyFQTUtXNccZ9h1srxmvkbM/YxVvzFph33M97T/KH8x7bhi158ZWPj2vnGhBwewZ83\n",
       "WW1axGGKGTZZbZpS8h/fXua7v/wc1+0bABzx53nXvE6xFsx41Rri4a501P11drxuSnamim8SpGNb\n",
       "kcCIIxylIO8mKSGGXmO827zT9bmgbY+Cd4KaqeDZUyz4p7lrL1KjhoPDAXMEnxqb1jouHl/df4qf\n",
       "r73aGM1mrFzToeXga3my5Jk2s0ybKVatNYrWAwA8k2PWFFjITPGv6i2ezJ7glfK14Erp+ig5PGcc\n",
       "vXIamlc66rawQvCYvVlqMOkBVniTINnbiHQWY4RDivFu0hXj1iucmyMcng/OOFMU3AUumYvM5zIs\n",
       "larcNyWWrfusW8tUTLA2cRhBqz5F5FFOAbBu3W9ahCGDh0eeab9ABpeiVQLgmwfn+OvHZZbZni+6\n",
       "XP/eGf8kz11Y5Qdv36TsBzNwOVaG5489wVLJ5cvHl3jx/WO8tPEq65WPmqaPbLUXywwmPb6gAMcv\n",
       "+duIdJeACEcpyN0kKcawW5CjtxAFj/OcAk+6X+GaeRWAU/Ylps0UBcvjJvcoWg/4fPaT/H7rGp82\n",
       "l9jvOvx26+XtV7Q8Zp0FzvpnOJrN8np5kZIVxHPBP06RLXx8snhM4ZG3XXJO8Hc/qNZYM2WKbFG2\n",
       "tihaD6jWV2ICKJmNRlAcy8OnxkVzmb9XX9le1KFxf+9Ow15iMMkBVnjjltxtQ/qXsAiHFONu0hPj\n",
       "8Irm7Quz8pk5jtnnueNfZ6u2StaZ4bj9CLf8/1KpL0NY9UtNrxIuyBBeGe1aXuN8sGN5jVWSPJMn\n",
       "S5ZnZw5z7f4WBzIez86X+Odynu9ffI8fvTZPkXLjNe/Yt/GpccY/zX02+ZD/NBZSaJq8w9++zzgw\n",
       "mcsLKr5xSu52IQ8noRGOUpA7SVuModOUlu3/HeGha9fOMZM5Sdnf4HE+yw37JkU2Glc+//j8GX71\n",
       "/iH+XHkTjzyu8Zg3c5ybyvHG5ioz7GM+l+GNrbucdQ6xXq3xjn2dCmUcHHLsx6fGir/YdOFW2d8A\n",
       "gtmuwhi3hngYSwuGkhpgxTcuydweZLhSEOEoBbmdNMa48diO80w3L4Fo2x5HvQt8p3CB36z+j4/N\n",
       "h5T8tcbI2LEyePZ+suR57thpXrh9HYBpM8sxc4gb9k2qlLFxGldPRy/MguB88CXzOO/Y7wLwKf8c\n",
       "m5RZtpdZ8W/xoHqPmqkMZWnBqCTGV+GNS/K2BdlbKYtwlILcKj0xhkFm22pd7CH89zpWhsfcL/L0\n",
       "7Aw/Wf4d5+2nuG3fZMbMsWItUfWL9ccFh66nzUGezJ7g2tZtbpv32PI3G/cnh1F37VxjZaWN6hJV\n",
       "v9R0XngY8YXkBVjxjUOytgEZrRRHOEpBbpWUIA96a1Pb12qZeSsqOgWmZQUrKLWb4CPrFKiZMqXa\n",
       "2o7bkcLnnnCvsMwtbBzulz/YMe/zuI1+Fd44JOfzl3iNSYSjFORW6Qoy9DoDV+vj7UiEo2sR23Yw\n",
       "As5YOX726Dm+9++3qdRHx379kHT0fuDg67ut6dv8vX4kIcAK76jF/5lLMo1hhKMU5Kj0xRh6m4kr\n",
       "eFw4G9esd5q16mLjOxkrzxH7LDY2D6w1Sia44GqfNUOVMivVm43DzZ0m5RhGgOOOr8I7agqv7G7M\n",
       "K+WjdTK3RdfNjfV99LXubft1d6F13eL6Od36Lxpfz12l4C6QswsUnKMAlKxNZswhHjOXeH7+Cjkz\n",
       "BUDOLrDPnWv5JaXW5u+Ivp/exbnOb1I+88ngo32O9MuN+w2MTut/ijH//WMX7da9Hfl7qH8m/Y2M\n",
       "W2PiYIyPZdn4psbBzGmWK+/zjn+S5ep7wTOcChWnzBH/OCv2XR5x5/jpR0tczszzp0owYj5sneYz\n",
       "U1+gagwvrv8ieH8POfqNM7wyKoqtPJwxPxzdj8mOclTch60HX+O42/3I21NmhvceH3BPslG7R8UU\n",
       "qdQ2u1z9DEleaEHRHSVFV4ZL5WnQYaRQ9BBmHDv4wQ/fbh8qDg8jbx9OruGbcuNK56vZq5RNkSvW\n",
       "UxTcBZ7xvtXl9qPuP4Pw/Y4qwHF/PpNFh5hlb2kk3BP9rhIV50h5sFFy+/fbOlpuPb/czqhHuors\n",
       "KCmyMnqK8EAU5VbpC/PudGh5Eii8Ei9FeGgU5nbiPr+cRAptXBRcSZ4Jujp6r+nq63Y6BWcS4qzY\n",
       "xknBlXRQhPdMu52AwhzqJ1BJCrbCmkQKrqSXIjxSCvMgFD7ZpuDKeFGEY9dpp6I4yyRTbGUyKMKJ\n",
       "pVGzTALFViabIpwq3XZYCrQklUIr0okiPDZ0WFviptiK9EsRHnu77RgVaemFAiuyFxThidfLzlWh\n",
       "Hn+KrEgcFGHpQT87aAU7GRRVkTRQhGXI+t35K9q9UVRFxpEiLDGLKy6DxF8hFJHhUoRlQimoIhI/\n",
       "HQsUERGJiSIsIiISE0VYREQkJoqwiIhITBRhERGRmCjCIiIiMXGN2b5Vw7LUZBERkb0Wttdt98WQ\n",
       "oiwiIvLwWvsa6jpZR6cnKc4iIiI7depmJwPNmKURs4iISP/RbTWUaSs1YhYRkXH2sLHtZE/njtaI\n",
       "WURE0mivottqpAs4aMQsIiJJMqrYdpKIVZTa/RAUZhERGaa4g9tOIiLcTrcflgItIiLtJDG03SQ2\n",
       "wt1o5CwiImkLbjupjHA7GjmLiIyfcQhtN2MT4W50QZiISLKNe2w7mYgId6LRs4jI6ExqaLuZ6Ah3\n",
       "o0CLiPRPoe2PIjyA3TYyRVpExpUiO1yK8B7QKFpE0kyhHR1FeMR63bgVaxEZNsU1eRThhNIhbxHp\n",
       "lyKbPopwSmlELTI5FNfxpQiPOcVaJLkUV1GEBRhsZ6Bwi2xTUGUQirAMrN+djqItaaKoyigowjIy\n",
       "w9qpKebSjeIpaaIIS+oMeyerqMdL0ZRJ9n9vQfI0+dZkPQAAAABJRU5ErkJggg==\n",
       "\" transform=\"translate(40, 12)\"/>\n",
       "</g>\n",
       "<defs>\n",
       "  <clipPath id=\"clip3603\">\n",
       "    <rect x=\"532\" y=\"11\" width=\"19\" height=\"365\"/>\n",
       "  </clipPath>\n",
       "</defs>\n",
       "<g clip-path=\"url(#clip3603)\">\n",
       "<image width=\"18\" height=\"364\" xlink:href=\"data:image/png;base64,\n",
       "iVBORw0KGgoAAAANSUhEUgAAABIAAAFsCAYAAADBkelSAAACHUlEQVR4nO2c223EMAwEqUD9V5Eu\n",
       "4yOvBPpjEAwIqoCF9kU5vljnyd8KYP0QIBERN+thgAoC4qhVzqVmcw0Te7BGHLWgkk0BgdQo1yZr\n",
       "lH8Q0Ca7Wxy1Ux8GKBICOhAQaT+lESQ2aD9Gbe1vgU4mAiSkRgEpk824NjnZRvsh1yj7la6N1Qi0\n",
       "35ZsnWtC+yORF1pxo3zUMNcYjZTUVqMeCMFBqUFAUGeN1HRA5Ds2CKjyIEBK+xlqt8qnEUSNAiLf\n",
       "+Y+lFslgTdaImkc3itmUkJpxZm+ym3XLppHwOKI0Eh5HXPt1gw2035Zs0P6x7QeT7aO2rrVAtooY\n",
       "2++z33aukf8PKSutUKNN9j8C5WrUraXWL18gZ2s09mlk8DzaZPdAQvtDRk1oP/TjupMaZT+Uo8Gl\n",
       "NdpPAQmpYa7pks2VFhtsOo249iMwS+3NMs5sBEbZ/qXWA/ke2AfPbIya8WEUAtJVZO3vF2g/g6Oc\n",
       "2XM1AqnZkg0eRxAQtSOlRmt/s4TUVqMXQAyOcmbr5pFu1N6CPqoRJntwaXU5MrZfl+zB1MCfM6Dv\n",
       "sn3n2s7sF0A6apTYGDWhRkmVVpjswa5R1Ar6etmo0cGo2a4JoXYE2n909nPJttkPltZ2/xGYbOge\n",
       "LZ/9Oo2WWr/A0kI34GA7Iv/KnksNm0eDNeKo6dq/rvVAVEWoHQmHf+kumcaoBfQmArwngnON0sjX\n",
       "fs7+udQgoC/rNOfnsknqIwAAAABJRU5ErkJggg==\n",
       "\" transform=\"translate(532, 12)\"/>\n",
       "</g>\n",
       "<g clip-path=\"url(#clip3600)\">\n",
       "<text style=\"fill:#000000; fill-opacity:1; font-family:Arial,Helvetica Neue,Helvetica,sans-serif; font-size:12; text-anchor:start;\" transform=\"rotate(0, 559.315, 379.281)\" x=\"559.315\" y=\"379.281\">0</text>\n",
       "</g>\n",
       "<g clip-path=\"url(#clip3600)\">\n",
       "<text style=\"fill:#000000; fill-opacity:1; font-family:Arial,Helvetica Neue,Helvetica,sans-serif; font-size:12; text-anchor:start;\" transform=\"rotate(0, 559.315, 333.774)\" x=\"559.315\" y=\"333.774\">25</text>\n",
       "</g>\n",
       "<g clip-path=\"url(#clip3600)\">\n",
       "<text style=\"fill:#000000; fill-opacity:1; font-family:Arial,Helvetica Neue,Helvetica,sans-serif; font-size:12; text-anchor:start;\" transform=\"rotate(0, 559.315, 288.267)\" x=\"559.315\" y=\"288.267\">50</text>\n",
       "</g>\n",
       "<g clip-path=\"url(#clip3600)\">\n",
       "<text style=\"fill:#000000; fill-opacity:1; font-family:Arial,Helvetica Neue,Helvetica,sans-serif; font-size:12; text-anchor:start;\" transform=\"rotate(0, 559.315, 242.76)\" x=\"559.315\" y=\"242.76\">75</text>\n",
       "</g>\n",
       "<g clip-path=\"url(#clip3600)\">\n",
       "<text style=\"fill:#000000; fill-opacity:1; font-family:Arial,Helvetica Neue,Helvetica,sans-serif; font-size:12; text-anchor:start;\" transform=\"rotate(0, 559.315, 197.253)\" x=\"559.315\" y=\"197.253\">100</text>\n",
       "</g>\n",
       "<g clip-path=\"url(#clip3600)\">\n",
       "<text style=\"fill:#000000; fill-opacity:1; font-family:Arial,Helvetica Neue,Helvetica,sans-serif; font-size:12; text-anchor:start;\" transform=\"rotate(0, 559.315, 151.745)\" x=\"559.315\" y=\"151.745\">125</text>\n",
       "</g>\n",
       "<g clip-path=\"url(#clip3600)\">\n",
       "<text style=\"fill:#000000; fill-opacity:1; font-family:Arial,Helvetica Neue,Helvetica,sans-serif; font-size:12; text-anchor:start;\" transform=\"rotate(0, 559.315, 106.238)\" x=\"559.315\" y=\"106.238\">150</text>\n",
       "</g>\n",
       "<g clip-path=\"url(#clip3600)\">\n",
       "<text style=\"fill:#000000; fill-opacity:1; font-family:Arial,Helvetica Neue,Helvetica,sans-serif; font-size:12; text-anchor:start;\" transform=\"rotate(0, 559.315, 60.731)\" x=\"559.315\" y=\"60.731\">175</text>\n",
       "</g>\n",
       "<g clip-path=\"url(#clip3600)\">\n",
       "<text style=\"fill:#000000; fill-opacity:1; font-family:Arial,Helvetica Neue,Helvetica,sans-serif; font-size:12; text-anchor:start;\" transform=\"rotate(0, 559.315, 15.2238)\" x=\"559.315\" y=\"15.2238\">200</text>\n",
       "</g>\n",
       "<polyline clip-path=\"url(#clip3600)\" style=\"stroke:#000000; stroke-width:1; stroke-opacity:1; fill:none\" points=\"\n",
       "  550.315,375.869 550.315,375.869 556.315,375.869 550.315,375.869 550.315,330.361 556.315,330.361 550.315,330.361 550.315,284.854 556.315,284.854 550.315,284.854 \n",
       "  550.315,239.347 556.315,239.347 550.315,239.347 550.315,193.84 556.315,193.84 550.315,193.84 550.315,148.333 556.315,148.333 550.315,148.333 550.315,102.825 \n",
       "  556.315,102.825 550.315,102.825 550.315,57.3182 556.315,57.3182 550.315,57.3182 550.315,11.811 556.315,11.811 550.315,11.811 \n",
       "  \"/>\n",
       "</svg>\n"
      ]
     },
     "execution_count": 2,
     "metadata": {},
     "output_type": "execute_result"
    }
   ],
   "source": [
    "using Plots\n",
    "Plots.gr()\n",
    "\n",
    "# punkt o współrzędnych (x,y) należy do zbioru Julii o parametrze  c \n",
    "# jeśli dla liczby zespolonej z=x+i*y\n",
    "# ciąg zₙ₊₁=zₙ²+c , nie dąży do nieskończoności\n",
    "\n",
    "# dążenie do nieskończoności sprawdzamy ustawiająć maksymalną liczbę iteracji i sprawdzając\n",
    "# czy kolejne wyrazy ciągu nie przekroczą zadanego progu (tutaj 2) w tej (bądź mniejszej)\n",
    "# liczbie iteracji\n",
    "\n",
    "# funkcja sprawdzająca, czy punkt z należy do zbioru Julii o parametrze c\n",
    "function generate_julia(z; c=2, maxiter=200)\n",
    "    for i=1:maxiter\n",
    "        if abs(z) > 2\n",
    "            return i-1\n",
    "        end\n",
    "        z = z^2 + c\n",
    "    end\n",
    "    maxiter\n",
    "end\n",
    "\n",
    "# obliczamy zbiór Julii na płaszczyźnie punktów od-do.\n",
    "\n",
    "function calc_julia!(julia_set, xrange, yrange; maxiter=200, height=400, width_start=1, width_end=400)\n",
    "   for x=width_start:width_end\n",
    "        for y=1:height\n",
    "            z = xrange[x] + 1im*yrange[y]\n",
    "            julia_set[x, y] = generate_julia(z, c=-0.70176-0.3842im, maxiter=maxiter)\n",
    "        end\n",
    "    end\n",
    "end\n",
    "\n",
    "# główna funkcja \n",
    "\n",
    "function calc_julia_main(h,w)\n",
    "  # ustawiamy płaszczyznę\n",
    "    xmin, xmax = -2,2\n",
    "   ymin, ymax = -1,1\n",
    "   xrange = linspace(xmin, xmax, w)\n",
    "   yrange = linspace(ymin, ymax, h)\n",
    "\tprintln(xrange[100],yrange[101])\n",
    "   julia_set = Array(Int64, (w, h))\n",
    "    \n",
    "   # obliczamy\n",
    "   @time calc_julia!(julia_set, xrange, yrange, height=h, width_end=w)\n",
    "    \n",
    "    # rysujemy\n",
    "   pl=Plots.heatmap(xrange, yrange, julia_set)\n",
    "   png(\"julia\")\n",
    "   return pl\n",
    "end\n",
    "\n",
    "\n",
    "calc_julia_main(2000,2000)"
   ]
  },
  {
   "cell_type": "code",
   "execution_count": 3,
   "metadata": {
    "scrolled": true
   },
   "outputs": [
    {
     "data": {
      "image/png": "[encoded data removed]",
      "text/plain": [
       "2400×3600 Array{RGB{N0f8},2}:\n",
       " RGB{N0f8}(1.0,1.0,1.0)  RGB{N0f8}(1.0,1.0,1.0)  …  RGB{N0f8}(1.0,1.0,1.0)\n",
       " RGB{N0f8}(1.0,1.0,1.0)  RGB{N0f8}(1.0,1.0,1.0)     RGB{N0f8}(1.0,1.0,1.0)\n",
       " RGB{N0f8}(1.0,1.0,1.0)  RGB{N0f8}(1.0,1.0,1.0)     RGB{N0f8}(1.0,1.0,1.0)\n",
       " RGB{N0f8}(1.0,1.0,1.0)  RGB{N0f8}(1.0,1.0,1.0)     RGB{N0f8}(1.0,1.0,1.0)\n",
       " RGB{N0f8}(1.0,1.0,1.0)  RGB{N0f8}(1.0,1.0,1.0)     RGB{N0f8}(1.0,1.0,1.0)\n",
       " RGB{N0f8}(1.0,1.0,1.0)  RGB{N0f8}(1.0,1.0,1.0)  …  RGB{N0f8}(1.0,1.0,1.0)\n",
       " RGB{N0f8}(1.0,1.0,1.0)  RGB{N0f8}(1.0,1.0,1.0)     RGB{N0f8}(1.0,1.0,1.0)\n",
       " RGB{N0f8}(1.0,1.0,1.0)  RGB{N0f8}(1.0,1.0,1.0)     RGB{N0f8}(1.0,1.0,1.0)\n",
       " RGB{N0f8}(1.0,1.0,1.0)  RGB{N0f8}(1.0,1.0,1.0)     RGB{N0f8}(1.0,1.0,1.0)\n",
       " RGB{N0f8}(1.0,1.0,1.0)  RGB{N0f8}(1.0,1.0,1.0)     RGB{N0f8}(1.0,1.0,1.0)\n",
       " RGB{N0f8}(1.0,1.0,1.0)  RGB{N0f8}(1.0,1.0,1.0)  …  RGB{N0f8}(1.0,1.0,1.0)\n",
       " RGB{N0f8}(1.0,1.0,1.0)  RGB{N0f8}(1.0,1.0,1.0)     RGB{N0f8}(1.0,1.0,1.0)\n",
       " RGB{N0f8}(1.0,1.0,1.0)  RGB{N0f8}(1.0,1.0,1.0)     RGB{N0f8}(1.0,1.0,1.0)\n",
       " ⋮                                               ⋱                        \n",
       " RGB{N0f8}(1.0,1.0,1.0)  RGB{N0f8}(1.0,1.0,1.0)     RGB{N0f8}(1.0,1.0,1.0)\n",
       " RGB{N0f8}(1.0,1.0,1.0)  RGB{N0f8}(1.0,1.0,1.0)     RGB{N0f8}(1.0,1.0,1.0)\n",
       " RGB{N0f8}(1.0,1.0,1.0)  RGB{N0f8}(1.0,1.0,1.0)  …  RGB{N0f8}(1.0,1.0,1.0)\n",
       " RGB{N0f8}(1.0,1.0,1.0)  RGB{N0f8}(1.0,1.0,1.0)     RGB{N0f8}(1.0,1.0,1.0)\n",
       " RGB{N0f8}(1.0,1.0,1.0)  RGB{N0f8}(1.0,1.0,1.0)     RGB{N0f8}(1.0,1.0,1.0)\n",
       " RGB{N0f8}(1.0,1.0,1.0)  RGB{N0f8}(1.0,1.0,1.0)     RGB{N0f8}(1.0,1.0,1.0)\n",
       " RGB{N0f8}(1.0,1.0,1.0)  RGB{N0f8}(1.0,1.0,1.0)     RGB{N0f8}(1.0,1.0,1.0)\n",
       " RGB{N0f8}(1.0,1.0,1.0)  RGB{N0f8}(1.0,1.0,1.0)  …  RGB{N0f8}(1.0,1.0,1.0)\n",
       " RGB{N0f8}(1.0,1.0,1.0)  RGB{N0f8}(1.0,1.0,1.0)     RGB{N0f8}(1.0,1.0,1.0)\n",
       " RGB{N0f8}(1.0,1.0,1.0)  RGB{N0f8}(1.0,1.0,1.0)     RGB{N0f8}(1.0,1.0,1.0)\n",
       " RGB{N0f8}(1.0,1.0,1.0)  RGB{N0f8}(1.0,1.0,1.0)     RGB{N0f8}(1.0,1.0,1.0)\n",
       " RGB{N0f8}(1.0,1.0,1.0)  RGB{N0f8}(1.0,1.0,1.0)     RGB{N0f8}(1.0,1.0,1.0)"
      ]
     },
     "execution_count": 3,
     "metadata": {},
     "output_type": "execute_result"
    }
   ],
   "source": [
    "using Images\n",
    "using FileIO\n",
    "img = load(\"julia.png\")"
   ]
  },
  {
   "cell_type": "code",
   "execution_count": null,
   "metadata": {},
   "outputs": [],
   "source": []
  }
 ],
 "metadata": {
  "kernelspec": {
   "display_name": "Julia 0.6.2",
   "language": "julia",
   "name": "julia-0.6"
  },
  "language_info": {
   "file_extension": ".jl",
   "mimetype": "application/julia",
   "name": "julia",
   "version": "0.6.2"
  }
 },
 "nbformat": 4,
 "nbformat_minor": 1
}
