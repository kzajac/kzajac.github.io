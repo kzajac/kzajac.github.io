{
 "cells": [
  {
   "cell_type": "markdown",
   "metadata": {},
   "source": [
    "## Plan wykładu\n",
    "\n",
    "+ Uruchamianie programów zewnętrznych\n",
    "+ Wywoływanie C\n",
    "+ Zanurzanie Julii w innych programach\n",
    "+ Tworzenie własnych pakietów\n",
    "+ JuliaCon"
   ]
  },
  {
   "cell_type": "markdown",
   "metadata": {},
   "source": [
    "## Uruchamianie programów zewnętrznych\n",
    "\n",
    "https://docs.julialang.org/en/v0.6.0/manual/running-external-programs/"
   ]
  },
  {
   "cell_type": "code",
   "execution_count": 1,
   "metadata": {},
   "outputs": [
    {
     "data": {
      "text/plain": [
       "`python -c \"print 'dwa plus dwa to {}'.format(2+2)\"`"
      ]
     },
     "execution_count": 1,
     "metadata": {},
     "output_type": "execute_result"
    }
   ],
   "source": [
    "cmd =`python -c \"print 'dwa plus dwa to {}'.format(2+2)\"`"
   ]
  },
  {
   "cell_type": "markdown",
   "metadata": {},
   "source": [
    "- Zamiast natychmiast uruchamiać polecenie, Julia tworzy obiekt Cmd do reprezentowania polecenia.\n",
    "- Można użyć tego obiektu do połączenia polecenia z innymi (pipe), uruchomienia itp.\n",
    "- Gdy polecenie jest uruchamiane,  wyjście domyślnie przechodzi do STDOUT\n",
    "- Polecenie nie jest uruchamiane przez powłokę,  Julia analizuje składnię poleceń bezpośrednio, odpowiednio interpolując zmienne \n",
    "- Polecenie jest uruchamiane jako proces potomny, używając wywołań fork i exec.\n",
    "\n"
   ]
  },
  {
   "cell_type": "code",
   "execution_count": 2,
   "metadata": {},
   "outputs": [
    {
     "data": {
      "text/plain": [
       "Cmd"
      ]
     },
     "execution_count": 2,
     "metadata": {},
     "output_type": "execute_result"
    }
   ],
   "source": [
    "typeof(cmd)"
   ]
  },
  {
   "cell_type": "code",
   "execution_count": 6,
   "metadata": {},
   "outputs": [
    {
     "name": "stdout",
     "output_type": "stream",
     "text": [
      "dwa plus dwa to 4\n"
     ]
    }
   ],
   "source": [
    "# wynik działania jest wysyłany na STDOUT\n",
    "ret=run(cmd)"
   ]
  },
  {
   "cell_type": "code",
   "execution_count": 7,
   "metadata": {},
   "outputs": [],
   "source": [
    "# funkcja run nic nie zwraca\n",
    "ret"
   ]
  },
  {
   "cell_type": "code",
   "execution_count": 8,
   "metadata": {},
   "outputs": [
    {
     "data": {
      "text/plain": [
       "\"dwa plus dwa to 4\\n\""
      ]
     },
     "execution_count": 8,
     "metadata": {},
     "output_type": "execute_result"
    }
   ],
   "source": [
    "# wczytanie outputu do zmiennej\n",
    "a = readstring(cmd)"
   ]
  },
  {
   "cell_type": "code",
   "execution_count": 11,
   "metadata": {},
   "outputs": [
    {
     "data": {
      "text/plain": [
       "String"
      ]
     },
     "execution_count": 11,
     "metadata": {},
     "output_type": "execute_result"
    }
   ],
   "source": [
    "typeof(a)"
   ]
  },
  {
   "cell_type": "code",
   "execution_count": 5,
   "metadata": {},
   "outputs": [
    {
     "data": {
      "text/plain": [
       "\"dwa plus dwa to 4\""
      ]
     },
     "execution_count": 5,
     "metadata": {},
     "output_type": "execute_result"
    }
   ],
   "source": [
    "# obcięcie końca linii.\n",
    "chomp(a)"
   ]
  },
  {
   "cell_type": "code",
   "execution_count": 72,
   "metadata": {},
   "outputs": [
    {
     "name": "stdout",
     "output_type": "stream",
     "text": [
      "1\n",
      "2\n",
      "3\n"
     ]
    }
   ],
   "source": [
    "# open() służy to komunikacji z wejściem/wyjściem danej komendy  \n",
    "open(`less`, \"w\", STDOUT) do io\n",
    "           for i = 1:3\n",
    "               println(io, i)\n",
    "           end\n",
    "       end"
   ]
  },
  {
   "cell_type": "markdown",
   "metadata": {},
   "source": [
    "### Interpolacja"
   ]
  },
  {
   "cell_type": "code",
   "execution_count": 12,
   "metadata": {},
   "outputs": [
    {
     "data": {
      "text/plain": [
       "\"/etc/passwd\""
      ]
     },
     "execution_count": 12,
     "metadata": {},
     "output_type": "execute_result"
    }
   ],
   "source": [
    "file = \"/etc/passwd\""
   ]
  },
  {
   "cell_type": "code",
   "execution_count": 13,
   "metadata": {},
   "outputs": [
    {
     "data": {
      "text/plain": [
       "`sort /etc/passwd`"
      ]
     },
     "execution_count": 13,
     "metadata": {},
     "output_type": "execute_result"
    }
   ],
   "source": [
    "# interpolacja\n",
    "cmd = `sort $file`"
   ]
  },
  {
   "cell_type": "code",
   "execution_count": 14,
   "metadata": {},
   "outputs": [
    {
     "data": {
      "text/plain": [
       "\"/Volumes/External HD/data.csv\""
      ]
     },
     "execution_count": 14,
     "metadata": {},
     "output_type": "execute_result"
    }
   ],
   "source": [
    "file1 = \"/Volumes/External HD/data.csv\""
   ]
  },
  {
   "cell_type": "code",
   "execution_count": 15,
   "metadata": {},
   "outputs": [
    {
     "data": {
      "text/plain": [
       "`sort '/Volumes/External HD/data.csv'`"
      ]
     },
     "execution_count": 15,
     "metadata": {},
     "output_type": "execute_result"
    }
   ],
   "source": [
    "# Julia wstawia znaki '' , aby pokazać użytkownikowi, że zadbała o spację w nazwie pliku. \n",
    "`sort $file1`"
   ]
  },
  {
   "cell_type": "code",
   "execution_count": 16,
   "metadata": {},
   "outputs": [
    {
     "data": {
      "text/plain": [
       "`sort '/Volumes/External HD/data.csv'`"
      ]
     },
     "execution_count": 16,
     "metadata": {},
     "output_type": "execute_result"
    }
   ],
   "source": [
    "# powyższe działa też w przypadku iterpolacji\n",
    "path = \"/Volumes/External HD\"\n",
    "name = \"data\"\n",
    "ext = \"csv\"\n",
    "`sort $path/$name.$ext`"
   ]
  },
  {
   "cell_type": "code",
   "execution_count": 17,
   "metadata": {},
   "outputs": [
    {
     "data": {
      "text/plain": [
       "`grep foo /etc/passwd '/Volumes/External HD/data.csv'`"
      ]
     },
     "execution_count": 17,
     "metadata": {},
     "output_type": "execute_result"
    }
   ],
   "source": [
    "#jeśli chcemy więcej plików - robimy tablicę\n",
    "files = [\"/etc/passwd\",\"/Volumes/External HD/data.csv\"]\n",
    "`grep foo $files`"
   ]
  },
  {
   "cell_type": "code",
   "execution_count": null,
   "metadata": {},
   "outputs": [],
   "source": [
    "names = [\"foo\",\"bar\",\"baz\"]"
   ]
  },
  {
   "cell_type": "code",
   "execution_count": 19,
   "metadata": {},
   "outputs": [
    {
     "data": {
      "text/plain": [
       "2-element Array{String,1}:\n",
       " \"aux\"\n",
       " \"log\""
      ]
     },
     "execution_count": 19,
     "metadata": {},
     "output_type": "execute_result"
    }
   ],
   "source": [
    "exts = [\"aux\",\"log\"]"
   ]
  },
  {
   "cell_type": "code",
   "execution_count": 37,
   "metadata": {},
   "outputs": [
    {
     "data": {
      "text/plain": [
       "`ls -lf foo.aux foo.log bar.aux bar.log baz.aux baz.log`"
      ]
     },
     "execution_count": 37,
     "metadata": {},
     "output_type": "execute_result"
    }
   ],
   "source": [
    "# iloczyn kartezjański zbioru names i exts`ls -f $names.$exts`)\n",
    "`ls -lf $names.$exts`"
   ]
  },
  {
   "cell_type": "code",
   "execution_count": 21,
   "metadata": {},
   "outputs": [
    {
     "name": "stdout",
     "output_type": "stream",
     "text": [
      "104\n",
      "105\n",
      "106\n",
      "8000\n",
      "65534\n"
     ]
    }
   ],
   "source": [
    "# użycie pipe \n",
    "run(pipeline(`cut -d: -f3 /etc/passwd`, `sort -n`, `tail -n5`))"
   ]
  },
  {
   "cell_type": "code",
   "execution_count": 30,
   "metadata": {},
   "outputs": [
    {
     "name": "stdout",
     "output_type": "stream",
     "text": [
      "hello\n",
      "world\n"
     ]
    }
   ],
   "source": [
    "#równoległe uruchamianie komend\n",
    "run(`echo hello` & `echo world`)"
   ]
  },
  {
   "cell_type": "code",
   "execution_count": 31,
   "metadata": {},
   "outputs": [
    {
     "name": "stdout",
     "output_type": "stream",
     "text": [
      "hello\n",
      "world\n"
     ]
    }
   ],
   "source": [
    "# podłączenie outputu równolegle uruchomionych komend do inputu następnej komendy poprzez pipe\n",
    "run(pipeline(`echo world` & `echo hello`, `sort`))"
   ]
  },
  {
   "cell_type": "markdown",
   "metadata": {},
   "source": [
    "## Wywoływanie funkcji  C w Julii"
   ]
  },
  {
   "cell_type": "markdown",
   "metadata": {},
   "source": [
    "Julia ma filozofię \"no boilerplate\": \n",
    "\n",
    "- funkcje mogą być wywoływane bezpośrednio z Julii bez jakiegokolwiek kodu \"kleju\", generowania kodu lub kompilacji - nawet  w trybie interaktywnym.\n",
    "\n",
    "- Osiąga się to poprzez odpowiednie wywołanie z użyciem składni ccall (), która wygląda jak zwykłe wywołanie funkcji.\n",
    "\n",
    "- Kod, który ma zostać wywołany, musi być dostępny jako biblioteka współdzielona ( np. opcja -shared  -fPIC) \n",
    "\n",
    "- Instrukcje maszyn generowane przez kompilator JIT  są takie same, jak natywne wywołanie C (narzut jest taki sam)   \n",
    "\n",
    "- Biblioteki i funkcje współdzielone są odwoływane przez krotkę formularza (:function, \"library\") lub (\"function\", \"library\"), gdzie funkcja jest nazwą wywoływaną przez C. \n",
    "\n",
    "- Nazwa funkcji może być użyta samodzielnie w miejsce krotki (:funkcja lub \"funkcja\"). W takim przypadku nazwa funkcji bedzie wzięta z  bieżącego procesu.\n",
    "\n",
    "- można też  użyć ccall(), aby faktycznie wygenerować wywołanie funkcji biblioteki"
   ]
  },
  {
   "cell_type": "code",
   "execution_count": 67,
   "metadata": {},
   "outputs": [
    {
     "data": {
      "text/plain": [
       "14807193"
      ]
     },
     "execution_count": 67,
     "metadata": {},
     "output_type": "execute_result"
    }
   ],
   "source": [
    "#(:Funkcja, biblioteka), typ zwracany, krotka typów wejściowych , argumenty\n",
    "t = ccall( (:clock, \"libc\"), Int32, ())"
   ]
  },
  {
   "cell_type": "code",
   "execution_count": 68,
   "metadata": {},
   "outputs": [
    {
     "data": {
      "text/plain": [
       "Int32"
      ]
     },
     "execution_count": 68,
     "metadata": {},
     "output_type": "execute_result"
    }
   ],
   "source": [
    "typeof(t)"
   ]
  },
  {
   "cell_type": "code",
   "execution_count": 69,
   "metadata": {},
   "outputs": [
    {
     "data": {
      "text/plain": [
       "Cstring(0x00007ffc75e9bc82)"
      ]
     },
     "execution_count": 69,
     "metadata": {},
     "output_type": "execute_result"
    }
   ],
   "source": [
    "# musi być  (Cstring,), a nie  (Cstring) żeby uzyskać krotkę\n",
    "shell = ccall((:getenv, \"libc\"), Cstring, (Cstring,), \"SHELL\")"
   ]
  },
  {
   "cell_type": "code",
   "execution_count": 70,
   "metadata": {},
   "outputs": [
    {
     "data": {
      "text/plain": [
       "Cstring"
      ]
     },
     "execution_count": 70,
     "metadata": {},
     "output_type": "execute_result"
    }
   ],
   "source": [
    "typeof(shell)"
   ]
  },
  {
   "cell_type": "code",
   "execution_count": 71,
   "metadata": {},
   "outputs": [
    {
     "data": {
      "text/plain": [
       "\"/bin/bash\""
      ]
     },
     "execution_count": 71,
     "metadata": {},
     "output_type": "execute_result"
    }
   ],
   "source": [
    "# konwersja na Juliowy String. unsafe t.j. zakończy się błędem, jeśli wskaźnik nie wskazuje na co powinien . \n",
    "shell_in_julia=unsafe_string(shell)"
   ]
  },
  {
   "cell_type": "code",
   "execution_count": 72,
   "metadata": {},
   "outputs": [
    {
     "data": {
      "text/plain": [
       "String"
      ]
     },
     "execution_count": 72,
     "metadata": {},
     "output_type": "execute_result"
    }
   ],
   "source": [
    "typeof(shell_in_julia)"
   ]
  },
  {
   "cell_type": "code",
   "execution_count": 73,
   "metadata": {},
   "outputs": [
    {
     "data": {
      "text/plain": [
       "getenv (generic function with 1 method)"
      ]
     },
     "execution_count": 73,
     "metadata": {},
     "output_type": "execute_result"
    }
   ],
   "source": [
    "# zwykle opakowuje się ccall tak, aby obsłużyc błedy.\n",
    "# Błedy w różnych bibliotekach C są zwracane w różny sposób -może być NULL, może byc -1 itd.\n",
    "function getenv(var::AbstractString)\n",
    "  val = ccall((:getenv, \"libc\"),\n",
    "              Cstring, (Cstring,), var)\n",
    "  if val == C_NULL\n",
    "    error(\"getenv: undefined variable: \", var)\n",
    "  end\n",
    "  unsafe_string(val)\n",
    "end\n"
   ]
  },
  {
   "cell_type": "code",
   "execution_count": 74,
   "metadata": {},
   "outputs": [
    {
     "data": {
      "text/plain": [
       "\"/usr/local/bin:/usr/local/sbin:/usr/local/bin:/usr/sbin:/usr/bin:/sbin:/bin\""
      ]
     },
     "execution_count": 74,
     "metadata": {},
     "output_type": "execute_result"
    }
   ],
   "source": [
    "getenv(\"PATH\")"
   ]
  },
  {
   "cell_type": "code",
   "execution_count": 75,
   "metadata": {},
   "outputs": [
    {
     "ename": "LoadError",
     "evalue": "\u001b[91mgetenv: undefined variable: FOOBAR\u001b[39m",
     "output_type": "error",
     "traceback": [
      "\u001b[91mgetenv: undefined variable: FOOBAR\u001b[39m",
      "",
      "Stacktrace:",
      " [1] \u001b[1mgetenv\u001b[22m\u001b[22m\u001b[1m(\u001b[22m\u001b[22m::String\u001b[1m)\u001b[22m\u001b[22m at \u001b[1m./In[73]:7\u001b[22m\u001b[22m"
     ]
    }
   ],
   "source": [
    "getenv(\"FOOBAR\")"
   ]
  },
  {
   "cell_type": "markdown",
   "metadata": {},
   "source": [
    "## Zanurzanie w C - przykład\n",
    "\n",
    "https://docs.julialang.org/en/v0.6.2/manual/embedding/\n",
    "\n",
    "```c\n",
    "#include <julia.h>\n",
    "\n",
    "int main(int argc, char *argv[])\n",
    "{\n",
    "    /* required: setup the Julia context */\n",
    "    jl_init(NULL);\n",
    "\n",
    "    /* run Julia commands */\n",
    "    jl_eval_string(\"print(sqrt(2.0))\");\n",
    "\n",
    "    /* strongly recommended: notify Julia that the\n",
    "         program is about to terminate. this allows\n",
    "         Julia time to cleanup pending write requests\n",
    "         and run all finalizers\n",
    "    */\n",
    "    jl_atexit_hook(0);\n",
    "    return 0;\n",
    "}\n",
    "}\n",
    "```\n",
    "---\n",
    "\n",
    "```\n",
    "gcc -o test -fPIC -I$JULIA_DIR/include/julia -L$JULIA_DIR/lib test.c -ljulia $JULIA_DIR/lib/julia/libstdc++.so.6\n",
    "\n",
    "```\n",
    "---\n",
    "\n"
   ]
  },
  {
   "cell_type": "markdown",
   "metadata": {},
   "source": [
    "## Wywoływanie kodu z Pythona\n",
    "\n",
    "Pakiet PyCall  https://github.com/JuliaPy/PyCall.jl\n",
    "\n",
    "```julia\n",
    "pkg.add(\"PyCall\")\n",
    "```"
   ]
  },
  {
   "cell_type": "code",
   "execution_count": 76,
   "metadata": {},
   "outputs": [
    {
     "name": "stderr",
     "output_type": "stream",
     "text": [
      "\u001b[1m\u001b[36mINFO: \u001b[39m\u001b[22m\u001b[36mPrecompiling module Conda.\n",
      "\u001b[39m\u001b[1m\u001b[36mINFO: \u001b[39m\u001b[22m\u001b[36mPrecompiling module PyCall.\n",
      "\u001b[39m"
     ]
    }
   ],
   "source": [
    "using PyCall"
   ]
  },
  {
   "cell_type": "code",
   "execution_count": 77,
   "metadata": {},
   "outputs": [],
   "source": [
    "# importujemy moduł Pythonowy\n",
    "@pyimport numpy as np"
   ]
  },
  {
   "cell_type": "code",
   "execution_count": 78,
   "metadata": {},
   "outputs": [
    {
     "data": {
      "text/plain": [
       "4-element Array{Int64,1}:\n",
       " 1\n",
       " 2\n",
       " 3\n",
       " 4"
      ]
     },
     "execution_count": 78,
     "metadata": {},
     "output_type": "execute_result"
    }
   ],
   "source": [
    "a = np.array([1,2,3,4])"
   ]
  },
  {
   "cell_type": "code",
   "execution_count": 79,
   "metadata": {},
   "outputs": [
    {
     "data": {
      "text/plain": [
       "Array{Int64,1}"
      ]
     },
     "execution_count": 79,
     "metadata": {},
     "output_type": "execute_result"
    }
   ],
   "source": [
    "typeof(a)"
   ]
  },
  {
   "cell_type": "code",
   "execution_count": 80,
   "metadata": {},
   "outputs": [
    {
     "data": {
      "text/plain": [
       "4-element Array{Float64,1}:\n",
       "  0.841471\n",
       "  0.909297\n",
       "  0.14112 \n",
       " -0.756802"
      ]
     },
     "execution_count": 80,
     "metadata": {},
     "output_type": "execute_result"
    }
   ],
   "source": [
    "np.sin(a)"
   ]
  },
  {
   "cell_type": "code",
   "execution_count": 81,
   "metadata": {},
   "outputs": [
    {
     "data": {
      "text/plain": [
       "10-element Array{Int64,1}:\n",
       "  0\n",
       "  1\n",
       "  4\n",
       "  9\n",
       " 16\n",
       " 25\n",
       " 36\n",
       " 49\n",
       " 64\n",
       " 81"
      ]
     },
     "execution_count": 81,
     "metadata": {},
     "output_type": "execute_result"
    }
   ],
   "source": [
    "pyeval(\"[i**2 for i in range(10)]\")"
   ]
  },
  {
   "cell_type": "code",
   "execution_count": 82,
   "metadata": {},
   "outputs": [],
   "source": [
    "@pyimport os"
   ]
  },
  {
   "cell_type": "code",
   "execution_count": 83,
   "metadata": {},
   "outputs": [
    {
     "ename": "LoadError",
     "evalue": "\u001b[91mtype PyObject has no field path\u001b[39m",
     "output_type": "error",
     "traceback": [
      "\u001b[91mtype PyObject has no field path\u001b[39m",
      ""
     ]
    }
   ],
   "source": [
    "# różnica  wołamy foo[:bar] oraz foo[:bar](...) a nie foo.bar and foo.bar(...)\n",
    "os.sys.path"
   ]
  },
  {
   "cell_type": "code",
   "execution_count": 84,
   "metadata": {},
   "outputs": [
    {
     "data": {
      "text/plain": [
       "7-element Array{String,1}:\n",
       " \"/usr/lib/python2.7\"                      \n",
       " \"/usr/lib/python2.7/plat-x86_64-linux-gnu\"\n",
       " \"/usr/lib/python2.7/lib-tk\"               \n",
       " \"/usr/lib/python2.7/lib-old\"              \n",
       " \"/usr/lib/python2.7/lib-dynload\"          \n",
       " \"/usr/local/lib/python2.7/dist-packages\"  \n",
       " \"/usr/lib/python2.7/dist-packages\"        "
      ]
     },
     "execution_count": 84,
     "metadata": {},
     "output_type": "execute_result"
    }
   ],
   "source": [
    "os.sys[:path]"
   ]
  },
  {
   "cell_type": "markdown",
   "metadata": {},
   "source": [
    "## Pakiety\n",
    "\n",
    "https://docs.julialang.org/en/v0.6.2/manual/packages/\n",
    "\n",
    "- Pakiety Julia to po prostu repozytoria git\n",
    "\n",
    "- Oficjalne pakiety Julia są zarejestrowane w repozytorium METADATA.jl, dostępne w dobrze znanej lokalizacji\n",
    "https://github.com/JuliaLang/METADATA.jl Zawiera ono informacje o linku do każdego pakietu oraz jego wersji.\n",
    "\n",
    "- użytkownicy mogą tworzyć swoje własne repozytoria METADATA. Pozwala to na wybieranie, które pakiety są dostępne do automatycznej instalacji. Można dopuścić tylko sprawdzone i zatwierdzone wersje pakietów albo udostępniać prywatne pakiety\n",
    "\n",
    "- Polecenia Pkg.add() i Pkg.rm() współdziałają z zarejestrowanymi pakietami\n",
    "\n",
    "- menedżer pakietów może również instalować i pracować z niezarejestrowanymi pakietami. Aby zainstalować niezarejestrowany pakiet, używa się Pkg.clone(URL), gdzie URL to git URL, z którego pakiet można sklonować.\n",
    "\n",
    "```julia\n",
    "Pkg.clone(\"git://example.com/path/to/Package.jl.git\")\n",
    "```\n",
    "\n",
    "- każdy użytkownik ma lokaną kopię METADATA w katalogu .julia/VERSION/METADATA np. /home/user/.julia/v0.6/METADATA\n",
    "\n",
    "- Pakiet do tworzenia i rejestrowanie pakietów\n",
    "\n",
    "```julia\n",
    "Pkg.add(\"PkgDev\")\n",
    "```"
   ]
  },
  {
   "cell_type": "code",
   "execution_count": 3,
   "metadata": {},
   "outputs": [],
   "source": [
    "using PkgDev"
   ]
  },
  {
   "cell_type": "code",
   "execution_count": 1,
   "metadata": {},
   "outputs": [
    {
     "name": "stderr",
     "output_type": "stream",
     "text": [
      "\u001b[1m\u001b[36mINFO: \u001b[39m\u001b[22m\u001b[36mInitializing AGH_Julia_Lab2 repo: C:\\Users\\kzajac\\AppData\\Local\\JuliaPro-0.6.2.2w\\pkgs-0.6.2.2\\v0.6\\AGH_Julia_Lab2\n",
      "\u001b[39m\u001b[1m\u001b[36mINFO: \u001b[39m\u001b[22m\u001b[36mGenerating LICENSE.md\n",
      "\u001b[39m\u001b[1m\u001b[36mINFO: \u001b[39m\u001b[22m\u001b[36mGenerating README.md\n",
      "\u001b[39m\u001b[1m\u001b[36mINFO: \u001b[39m\u001b[22m\u001b[36mGenerating src/AGH_Julia_Lab2.jl\n",
      "\u001b[39m\u001b[1m\u001b[36mINFO: \u001b[39m\u001b[22m\u001b[36mGenerating test/runtests.jl\n",
      "\u001b[39m\u001b[1m\u001b[36mINFO: \u001b[39m\u001b[22m\u001b[36mGenerating REQUIRE\n",
      "\u001b[39m\u001b[1m\u001b[36mINFO: \u001b[39m\u001b[22m\u001b[36mGenerating .gitignore\n",
      "\u001b[39m\u001b[1m\u001b[36mINFO: \u001b[39m\u001b[22m\u001b[36mGenerating .travis.yml\n",
      "\u001b[39m\u001b[1m\u001b[36mINFO: \u001b[39m\u001b[22m\u001b[36mGenerating appveyor.yml\n",
      "\u001b[39m\u001b[1m\u001b[36mINFO: \u001b[39m\u001b[22m\u001b[36mGenerating .codecov.yml\n",
      "\u001b[39m\u001b[1m\u001b[36mINFO: \u001b[39m\u001b[22m\u001b[36mCommitting AGH_Julia_Lab2 generated files\n",
      "\u001b[39m"
     ]
    }
   ],
   "source": [
    "# tworzymy pakiet lokalnie \n",
    "# jeśli mamy skonfigurowany dostęp do githuba poprzez gita \n",
    "# (https://help.github.com/articles/connecting-to-github-with-ssh/) PkgDev wygeneruje dla nas url\n",
    "# nie wygeneruje zdalnego repo  na Githubie (trzeba to zrobić ręcznie)\n",
    "\n",
    "PkgDev.generate(\"AGH_Julia_Lab2\",\"MIT\", force=true)"
   ]
  },
  {
   "cell_type": "markdown",
   "metadata": {},
   "source": [
    "Zawartość wygenerowanego pakietu:\n",
    "\n",
    "```console\n",
    "kzajac@tabaluga MINGW64 ~/AppData/Local/JuliaPro-0.6.2.2w/pkgs-0.6.2.2/v0.6/AGH_Julia_Lab2 (master)\n",
    "$ ls -la\n",
    "total 88\n",
    "drwxr-xr-x 1 kzajac 197121    0 cze 13 14:29 ./\n",
    "drwxr-xr-x 1 kzajac 197121    0 cze 13 14:29 ../\n",
    "-rw-r--r-- 1 kzajac 197121   15 cze 13 14:29 .codecov.yml\n",
    "drwxr-xr-x 1 kzajac 197121    0 cze 14 10:09 .git/\n",
    "-rw-r--r-- 1 kzajac 197121   29 cze 13 14:29 .gitignore\n",
    "-rw-r--r-- 1 kzajac 197121 1130 cze 13 14:29 .travis.yml\n",
    "-rw-r--r-- 1 kzajac 197121 2148 cze 13 14:29 appveyor.yml\n",
    "-rw-r--r-- 1 kzajac 197121 1209 cze 13 14:29 LICENSE.md\n",
    "-rw-r--r-- 1 kzajac 197121   17 cze 13 14:29 README.md\n",
    "-rw-r--r-- 1 kzajac 197121   10 cze 13 14:29 REQUIRE\n",
    "drwxr-xr-x 1 kzajac 197121    0 cze 13 14:29 src/\n",
    "drwxr-xr-x 1 kzajac 197121    0 cze 13 14:29 test/\n",
    "```\n"
   ]
  },
  {
   "cell_type": "markdown",
   "metadata": {},
   "source": [
    "Zakladamy ręcznie repozytorium  na githubie i  przesylamy do niego zawartość wygenerowanego pakietu :\n",
    "```console\n",
    "kzajac@tabaluga MINGW64 ~/AppData/Local/JuliaPro-0.6.2.2w/pkgs-0.6.2.2/v0.6/AGH_Julia_Lab2 (master)\n",
    "$ git remote add origin git@github.com:kzajac/AGH_Julia_Lab2.jl.git\n",
    "\n",
    "kzajac@tabaluga MINGW64 ~/AppData/Local/JuliaPro-0.6.2.2w/pkgs-0.6.2.2/v0.6/AGH_Julia_Lab2 (master)\n",
    "$ git push -u origin master\n",
    "Warning: Permanently added the RSA host key for IP address '192.30.253.113' to the list of known hosts.\n",
    "Counting objects: 15, done.\n",
    "Delta compression using up to 8 threads.\n",
    "Compressing objects: 100% (8/8), done.\n",
    "Writing objects: 100% (15/15), 3.12 KiB | 533.00 KiB/s, done.\n",
    "Total 15 (delta 1), reused 0 (delta 0)\n",
    "remote: Resolving deltas: 100% (1/1), done.\n",
    "To github.com:kzajac/AGH_Julia_Lab2.jl.git\n",
    " * [new branch]      master -> master\n",
    "Branch master set up to track remote branch master from origin.\n",
    "```\n",
    "\n",
    "Mozna ogladac na :\n",
    "https://github.com/kzajac/AGH_Julia_Lab2.jl"
   ]
  },
  {
   "cell_type": "code",
   "execution_count": 4,
   "metadata": {},
   "outputs": [
    {
     "name": "stderr",
     "output_type": "stream",
     "text": [
      "\u001b[1m\u001b[36mINFO: \u001b[39m\u001b[22m\u001b[36mRegistering AGH_Julia_Lab2 at https://github.com/kzajac/AGH_Julia_Lab2.jl.git\n",
      "\u001b[39m\u001b[1m\u001b[36mINFO: \u001b[39m\u001b[22m\u001b[36mCommitting METADATA for AGH_Julia_Lab2\n",
      "\u001b[39m"
     ]
    }
   ],
   "source": [
    "# po zakomitowaniu zmian możemy zarejestrować nasz pakiet w lokalnym METADATA\n",
    "PkgDev.register(\"AGH_Julia_Lab2\")"
   ]
  },
  {
   "cell_type": "markdown",
   "metadata": {},
   "source": [
    "Zawartość podkatalogu METADATA dotycząca naszego pakietu:\n",
    "\n",
    "```console\n",
    "kzajac@tabaluga MINGW64 ~/AppData/Local/JuliaPro-0.6.2.2w/pkgs-0.6.2.2/v0.6/METADATA/AGH_Julia_Lab2 (metadata-v2)\n",
    "$ ls\n",
    "url\n",
    "\n",
    "kzajac@tabaluga MINGW64 ~/AppData/Local/JuliaPro-0.6.2.2w/pkgs-0.6.2.2/v0.6/METADATA/AGH_Julia_Lab2 (metadata-v2)\n",
    "$ cat url\n",
    "https://github.com/kzajac/AGH_Julia_Lab2.jl.git\n",
    "```\n"
   ]
  },
  {
   "cell_type": "markdown",
   "metadata": {},
   "source": [
    "Można otagować numerem wersji\n",
    "```julia\n",
    "PkgDev.tag(\"AGH_Julia_Lab2\")\n",
    "```"
   ]
  },
  {
   "cell_type": "markdown",
   "metadata": {},
   "source": [
    "```console\n",
    "kzajac@tabaluga MINGW64 ~/AppData/Local/JuliaPro-0.6.2.2w/pkgs-0.6.2.2/v0.6/METADATA/AGH_Julia_Lab2 (metadata-v2)\n",
    "$ ls\n",
    "url  versions/\n",
    "\n",
    "kzajac@tabaluga MINGW64 ~/AppData/Local/JuliaPro-0.6.2.2w/pkgs-0.6.2.2/v0.6/METADATA/AGH_Julia_Lab2 (metadata-v2)\n",
    "$ ls versions/\n",
    "0.0.1/\n",
    "```\n"
   ]
  },
  {
   "cell_type": "markdown",
   "metadata": {},
   "source": [
    "Jeśli chcemy, aby nasz pakiet stał się oficjalnym pakietem należy zarejestrować go w oficjalnym repo METADATA poprzez:\n",
    "Można to zrobić ręcznie albo  komendą  \n",
    "```julia\n",
    "PkgDev.publish()\n",
    "``` \n",
    "\n",
    "Można też to zrobić ręcznie  poprzez wykonanie kroków:\n",
    "\n",
    "- zrobic fork repozytorium METADATA  na własne konto na Githubie \n",
    "- skonfigurować je jako repozytorium zdalne dla lokalnego repozytorium METADATA\n",
    "- zrobić operacje push do tego zdalnego repozytorium swoich zmian w lokalnym METADATA  \n",
    "- otworzyć  pull request do centralnego METADATA\n",
    "\n",
    "\n"
   ]
  },
  {
   "cell_type": "markdown",
   "metadata": {
    "collapsed": true
   },
   "source": [
    "## JuliaCon\n",
    "http://juliacon.org/2018/"
   ]
  },
  {
   "cell_type": "markdown",
   "metadata": {},
   "source": [
    "\n",
    "Ciekawe Pakiety :\n",
    "\n",
    "- Flux machine learning with Julia http://fluxml.ai/Flux.jl/stable/\n",
    "- Analiza języków naturalnych https://github.com/JuliaText/TextAnalysis.jl\n",
    "- Query http://www.david-anthoff.com/Query.jl/stable/querycommands.html\n",
    "- Problemy optymalizacyjne (programowanie z ograniczeniami) \n",
    "    * https://github.com/JuliaOpt/juliaopt-notebooks/blob/master/notebooks/Shuvomoy%20-%20Getting%20started%20with%20JuMP.ipynb\n",
    "    * https://github.com/JuliaOpt/juliaopt-notebooks/blob/master/notebooks/JuMP-Sudoku.ipynb\n",
    "- Celeste - analiza obrazów z ciałami niebieskimi\n",
    "\n",
    "    - ciała niebieskie dostarczają fotonów, które składają się na wyprodukowanie pixela w obrazku\n",
    "\n",
    "    - duże dane (teleskopy produkują setki GB  na dobę, będą produkować TB )\n",
    "\n",
    "    - https://github.com/jeff-regier/Celeste.jl"
   ]
  }
 ],
 "metadata": {
  "kernelspec": {
   "display_name": "Julia 0.6.2",
   "language": "julia",
   "name": "julia-0.6"
  },
  "language_info": {
   "file_extension": ".jl",
   "mimetype": "application/julia",
   "name": "julia",
   "version": "0.6.2"
  }
 },
 "nbformat": 4,
 "nbformat_minor": 1
}
