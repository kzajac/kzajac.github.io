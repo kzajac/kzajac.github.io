{
 "cells": [
  {
   "cell_type": "markdown",
   "metadata": {},
   "source": [
    "## Ogłoszenie\n",
    "\n",
    "- za tydzień 8 czerwca zajęcia z powodów ode mnie niezależnych  odbędą się krócej (do 12:30). W związku z tym zachęcam do przyjścia już o 11:00, a nie o 11:15, będę w sali mogła odebrać zadania.\n",
    "\n",
    "- w następny piątek, 9 czerwca w godzina wykładu (9:35-11:05) odbędzie się dodatkowe zaliczenie czyli możliwość oddania zadań, dla tych, którzy nie zdążyli.\n",
    "\n",
    "- UWAGA: zarezerwowałam na tę okoliczność salę z komputerami 4.31 i tam będę czekać o 9:35 (nie na sali wykładowej). Jeśli nikt nie przyjdzie, będę w tych godzinach w swoim pokoju 3.54 - można przyjść i oddać.\n",
    "\n",
    "- po terminie 9 czerwca nie będzie już możliwości oddania zadań, wpisuję wszystko do WU.\n",
    "\n",
    "## Plan wykładu\n",
    "\n",
    "+ Uruchamianie programów zewnętrznych\n",
    "+ Wywoływanie C\n",
    "+ Zanurzanie Julii w innych programach\n",
    "+ Tworzenie własnych pakietów\n",
    "+ JuliaCon"
   ]
  },
  {
   "cell_type": "markdown",
   "metadata": {},
   "source": [
    "## Uruchamianie programów zewnętrznych"
   ]
  },
  {
   "cell_type": "code",
   "execution_count": 2,
   "metadata": {
    "collapsed": false
   },
   "outputs": [
    {
     "data": {
      "text/plain": [
       "`python -c \"print 'dwa plus dwa to {}'.format(2+2)\"`"
      ]
     },
     "execution_count": 2,
     "metadata": {},
     "output_type": "execute_result"
    }
   ],
   "source": [
    "cmd =`python -c \"print 'dwa plus dwa to {}'.format(2+2)\"`"
   ]
  },
  {
   "cell_type": "markdown",
   "metadata": {},
   "source": [
    "- Zamiast natychmiast uruchamiać polecenie, Julia tworzy obiekt Cmd do reprezentowania polecenia.\n",
    "- Można użyć tego obiektu do połączenia polecenia z innymi (pipe), uruchomienia itp.\n",
    "- Gdy polecenie jest uruchamiane,  wyjście domyślnie przechodzi do STDOUT\n",
    "- Polecenie nie jest uruchamiane przez powłokę,  Julia analizuje składnię poleceń bezpośrednio, odpowiednio interpolując zmienne \n",
    "- Polecenie jest uruchamiane jako proces potomny, używając wywołań fork i exec."
   ]
  },
  {
   "cell_type": "code",
   "execution_count": 3,
   "metadata": {
    "collapsed": false
   },
   "outputs": [
    {
     "data": {
      "text/plain": [
       "Cmd"
      ]
     },
     "execution_count": 3,
     "metadata": {},
     "output_type": "execute_result"
    }
   ],
   "source": [
    "typeof(cmd)"
   ]
  },
  {
   "cell_type": "code",
   "execution_count": 4,
   "metadata": {
    "collapsed": false
   },
   "outputs": [
    {
     "name": "stdout",
     "output_type": "stream",
     "text": [
      "dwa plus dwa to 4\n"
     ]
    }
   ],
   "source": [
    "run(cmd)"
   ]
  },
  {
   "cell_type": "code",
   "execution_count": 5,
   "metadata": {
    "collapsed": false
   },
   "outputs": [
    {
     "data": {
      "text/plain": [
       "\"dwa plus dwa to 4\\n\""
      ]
     },
     "execution_count": 5,
     "metadata": {},
     "output_type": "execute_result"
    }
   ],
   "source": [
    "# czytanie outputu \n",
    "a = readstring(cmd)"
   ]
  },
  {
   "cell_type": "code",
   "execution_count": 6,
   "metadata": {
    "collapsed": false
   },
   "outputs": [
    {
     "data": {
      "text/plain": [
       "\"dwa plus dwa to 4\""
      ]
     },
     "execution_count": 6,
     "metadata": {},
     "output_type": "execute_result"
    }
   ],
   "source": [
    "# obcięcie końca linii.\n",
    "chomp(a)"
   ]
  },
  {
   "cell_type": "code",
   "execution_count": 72,
   "metadata": {
    "collapsed": false
   },
   "outputs": [
    {
     "name": "stdout",
     "output_type": "stream",
     "text": [
      "1\n",
      "2\n",
      "3\n"
     ]
    }
   ],
   "source": [
    "# open() służy to komunikacji z wejściem/wyjściem danej komendy  \n",
    "open(`less`, \"w\", STDOUT) do io\n",
    "           for i = 1:3\n",
    "               println(io, i)\n",
    "           end\n",
    "       end"
   ]
  },
  {
   "cell_type": "markdown",
   "metadata": {},
   "source": [
    "### Interpolacja"
   ]
  },
  {
   "cell_type": "code",
   "execution_count": 8,
   "metadata": {
    "collapsed": false
   },
   "outputs": [
    {
     "data": {
      "text/plain": [
       "\"/etc/passwd\""
      ]
     },
     "execution_count": 8,
     "metadata": {},
     "output_type": "execute_result"
    }
   ],
   "source": [
    "file = \"/etc/passwd\""
   ]
  },
  {
   "cell_type": "code",
   "execution_count": 9,
   "metadata": {
    "collapsed": false
   },
   "outputs": [
    {
     "data": {
      "text/plain": [
       "`sort /etc/passwd`"
      ]
     },
     "execution_count": 9,
     "metadata": {},
     "output_type": "execute_result"
    }
   ],
   "source": [
    "# interpolacja\n",
    "cmd = `sort $file`"
   ]
  },
  {
   "cell_type": "code",
   "execution_count": 7,
   "metadata": {
    "collapsed": false
   },
   "outputs": [
    {
     "data": {
      "text/plain": [
       "\"/Volumes/External HD/data.csv\""
      ]
     },
     "execution_count": 7,
     "metadata": {},
     "output_type": "execute_result"
    }
   ],
   "source": [
    "file1 = \"/Volumes/External HD/data.csv\""
   ]
  },
  {
   "cell_type": "code",
   "execution_count": 9,
   "metadata": {
    "collapsed": false
   },
   "outputs": [
    {
     "data": {
      "text/plain": [
       "`sort '/Volumes/External HD/data.csv'`"
      ]
     },
     "execution_count": 9,
     "metadata": {},
     "output_type": "execute_result"
    }
   ],
   "source": [
    "# Julia wstawia znaki '' , aby pokazać użytkownikowi, że zadbała o spację w nazwie pliku. \n",
    "`sort $file1`"
   ]
  },
  {
   "cell_type": "code",
   "execution_count": 10,
   "metadata": {
    "collapsed": false
   },
   "outputs": [
    {
     "data": {
      "text/plain": [
       "`sort '/Volumes/External HD/data.csv'`"
      ]
     },
     "execution_count": 10,
     "metadata": {},
     "output_type": "execute_result"
    }
   ],
   "source": [
    "# powyższe działa też w przypadku iterpolacji\n",
    "path = \"/Volumes/External HD\"\n",
    "name = \"data\"\n",
    "ext = \"csv\"\n",
    "`sort $path/$name.$ext`"
   ]
  },
  {
   "cell_type": "code",
   "execution_count": 11,
   "metadata": {
    "collapsed": false
   },
   "outputs": [
    {
     "data": {
      "text/plain": [
       "`grep foo /etc/passwd '/Volumes/External HD/data.csv'`"
      ]
     },
     "execution_count": 11,
     "metadata": {},
     "output_type": "execute_result"
    }
   ],
   "source": [
    "#jeśli chcemy więcej plików - robimy tablicę\n",
    "files = [\"/etc/passwd\",\"/Volumes/External HD/data.csv\"]\n",
    "`grep foo $files`"
   ]
  },
  {
   "cell_type": "code",
   "execution_count": 11,
   "metadata": {
    "collapsed": false
   },
   "outputs": [
    {
     "data": {
      "text/plain": [
       "3-element Array{ASCIIString,1}:\n",
       " \"foo\"\n",
       " \"bar\"\n",
       " \"baz\""
      ]
     },
     "execution_count": 11,
     "metadata": {},
     "output_type": "execute_result"
    }
   ],
   "source": [
    "names = [\"foo\",\"bar\",\"baz\"]"
   ]
  },
  {
   "cell_type": "code",
   "execution_count": 12,
   "metadata": {
    "collapsed": false
   },
   "outputs": [
    {
     "data": {
      "text/plain": [
       "2-element Array{ASCIIString,1}:\n",
       " \"aux\"\n",
       " \"log\""
      ]
     },
     "execution_count": 12,
     "metadata": {},
     "output_type": "execute_result"
    }
   ],
   "source": [
    "exts = [\"aux\",\"log\"]"
   ]
  },
  {
   "cell_type": "code",
   "execution_count": 13,
   "metadata": {
    "collapsed": false
   },
   "outputs": [
    {
     "data": {
      "text/plain": [
       "`ls -f foo.aux foo.log bar.aux bar.log baz.aux baz.log`"
      ]
     },
     "execution_count": 13,
     "metadata": {},
     "output_type": "execute_result"
    }
   ],
   "source": [
    "# iloczyn kartezjański zbioru names i exts\n",
    "`ls -f $names.$exts`"
   ]
  },
  {
   "cell_type": "code",
   "execution_count": 14,
   "metadata": {
    "collapsed": false
   },
   "outputs": [
    {
     "name": "stdout",
     "output_type": "stream",
     "text": [
      "115\n",
      "116\n",
      "1000\n",
      "1001\n",
      "65534\n"
     ]
    }
   ],
   "source": [
    "# użycie pipe \n",
    "run(pipeline(`cut -d: -f3 /etc/passwd`, `sort -n`, `tail -n5`))"
   ]
  },
  {
   "cell_type": "markdown",
   "metadata": {},
   "source": [
    "## Wywoływanie funkcji  C w Julii"
   ]
  },
  {
   "cell_type": "markdown",
   "metadata": {},
   "source": [
    "Julia ma filozofię \"no boilerplate\": \n",
    "\n",
    "- funkcje mogą być wywoływane bezpośrednio z Julii bez jakiegokolwiek kodu \"kleju\", generowania kodu lub kompilacji - nawet  w trybie interaktywnym.\n",
    "\n",
    "- Osiąga się to poprzez odpowiednie wywołanie z użyciem składni ccall (), która wygląda jak zwykłe wywołanie funkcji.\n",
    "\n",
    "- Kod, który ma zostać wywołany, musi być dostępny jako biblioteka współdzielona ( np. opcja -shared  -fPIC) \n",
    "\n",
    "- Instrukcje maszyn generowane przez kompilator JIT  są takie same, jak natywne wywołanie C (narzut jest taki sam)   \n",
    "\n",
    "- Biblioteki i funkcje współdzielone są odwoływane przez krotkę formularza (:function, \"library\") lub (\"function\", \"library\"), gdzie funkcja jest nazwą wywoływaną przez C. \n",
    "\n",
    "- Nazwa funkcji może być użyta samodzielnie w miejsce krotki (:funkcja lub \"funkcja\"). W takim przypadku nazwa funkcji bedzie wzięta z  bieżącego procesu.\n",
    "\n",
    "- można też  użyć ccall(), aby faktycznie wygenerować wywołanie funkcji biblioteki"
   ]
  },
  {
   "cell_type": "code",
   "execution_count": 13,
   "metadata": {
    "collapsed": false
   },
   "outputs": [
    {
     "data": {
      "text/plain": [
       "138228795"
      ]
     },
     "execution_count": 13,
     "metadata": {},
     "output_type": "execute_result"
    }
   ],
   "source": [
    "#(:Funkcja, biblioteka), typ zwracany, krotka typów wejściowych , argumenty\n",
    "t = ccall( (:clock, \"libc\"), Int32, ())"
   ]
  },
  {
   "cell_type": "code",
   "execution_count": 14,
   "metadata": {
    "collapsed": false
   },
   "outputs": [
    {
     "data": {
      "text/plain": [
       "Int32"
      ]
     },
     "execution_count": 14,
     "metadata": {},
     "output_type": "execute_result"
    }
   ],
   "source": [
    "typeof(t)"
   ]
  },
  {
   "cell_type": "code",
   "execution_count": 24,
   "metadata": {
    "collapsed": false
   },
   "outputs": [
    {
     "data": {
      "text/plain": [
       "Cstring(0x00007ffc470d5a93)"
      ]
     },
     "execution_count": 24,
     "metadata": {},
     "output_type": "execute_result"
    }
   ],
   "source": [
    "# musi być  (Cstring,), a nie  (Cstring) żeby uzyskać krotkę\n",
    "shell = ccall((:getenv, \"libc\"), Cstring, (Cstring,), \"SHELL\")"
   ]
  },
  {
   "cell_type": "code",
   "execution_count": 27,
   "metadata": {
    "collapsed": false
   },
   "outputs": [
    {
     "data": {
      "text/plain": [
       "Cstring"
      ]
     },
     "execution_count": 27,
     "metadata": {},
     "output_type": "execute_result"
    }
   ],
   "source": [
    "typeof(shell)"
   ]
  },
  {
   "cell_type": "code",
   "execution_count": 25,
   "metadata": {
    "collapsed": false
   },
   "outputs": [
    {
     "data": {
      "text/plain": [
       "\"/bin/bash\""
      ]
     },
     "execution_count": 25,
     "metadata": {},
     "output_type": "execute_result"
    }
   ],
   "source": [
    "# konwersja na Juliowy String. unsafe t.j. zakończy się błędem, jeśli wskaźnik nie wskazuje na co powinien . \n",
    "shell_in_julia=unsafe_string(shell)"
   ]
  },
  {
   "cell_type": "code",
   "execution_count": 26,
   "metadata": {
    "collapsed": false
   },
   "outputs": [
    {
     "data": {
      "text/plain": [
       "String"
      ]
     },
     "execution_count": 26,
     "metadata": {},
     "output_type": "execute_result"
    }
   ],
   "source": [
    "typeof(shell_in_julia)"
   ]
  },
  {
   "cell_type": "code",
   "execution_count": 17,
   "metadata": {
    "collapsed": false
   },
   "outputs": [
    {
     "data": {
      "text/plain": [
       "getenv (generic function with 1 method)"
      ]
     },
     "execution_count": 17,
     "metadata": {},
     "output_type": "execute_result"
    }
   ],
   "source": [
    "# zwykle opakowuje się ccall tak, aby obsłużyc błedy.\n",
    "# Błedy w różnych bibliotekach C są zwracane w różny sposób -może być NULL, może byc -1 itd.\n",
    "function getenv(var::AbstractString)\n",
    "  val = ccall((:getenv, \"libc\"),\n",
    "              Cstring, (Cstring,), var)\n",
    "  if val == C_NULL\n",
    "    error(\"getenv: undefined variable: \", var)\n",
    "  end\n",
    "  unsafe_string(val)\n",
    "end\n"
   ]
  },
  {
   "cell_type": "code",
   "execution_count": 20,
   "metadata": {
    "collapsed": false
   },
   "outputs": [
    {
     "data": {
      "text/plain": [
       "\"/home/user/.julia/v0.5/Conda/deps/usr/bin:/usr/local/sbin:/usr/local/bin:/usr/sbin:/usr/bin:/sbin:/bin:/usr/games:/usr/local/games:/snap/bin\""
      ]
     },
     "execution_count": 20,
     "metadata": {},
     "output_type": "execute_result"
    }
   ],
   "source": [
    "getenv(\"PATH\")"
   ]
  },
  {
   "cell_type": "code",
   "execution_count": 21,
   "metadata": {
    "collapsed": false
   },
   "outputs": [
    {
     "ename": "LoadError",
     "evalue": "getenv: undefined variable: FOOBAR",
     "output_type": "error",
     "traceback": [
      "getenv: undefined variable: FOOBAR",
      "",
      " in getenv(::String) at ./In[17]:5"
     ]
    }
   ],
   "source": [
    "getenv(\"FOOBAR\")"
   ]
  },
  {
   "cell_type": "markdown",
   "metadata": {},
   "source": [
    "## Zanurzanie w C - przykład\n",
    "\n",
    "```c\n",
    "#include <julia.h>\n",
    "\n",
    "int main(int argc, char *argv[])\n",
    "{\n",
    "    /* required: setup the Julia context */\n",
    "    jl_init(NULL);\n",
    "\n",
    "    /* run Julia commands */\n",
    "    jl_eval_string(\"print(sqrt(2.0))\");\n",
    "\n",
    "    /* strongly recommended: notify Julia that the\n",
    "         program is about to terminate. this allows\n",
    "         Julia time to cleanup pending write requests\n",
    "         and run all finalizers\n",
    "    */\n",
    "    jl_atexit_hook(0);\n",
    "    return 0;\n",
    "}\n",
    "}\n",
    "```\n",
    "---\n",
    "\n",
    "```\n",
    "gcc -o test -fPIC -I$JULIA_DIR/include/julia -L$JULIA_DIR/lib test.c -ljulia $JULIA_DIR/lib/julia/libstdc++.so.6\n",
    "\n",
    "```\n",
    "---\n",
    "\n"
   ]
  },
  {
   "cell_type": "markdown",
   "metadata": {},
   "source": [
    "## Wywoływanie kodu z Pythona\n",
    "```julia\n",
    "pkg.add(\"PyCall\")\n",
    "```"
   ]
  },
  {
   "cell_type": "code",
   "execution_count": 41,
   "metadata": {
    "collapsed": false
   },
   "outputs": [],
   "source": [
    "using PyCall"
   ]
  },
  {
   "cell_type": "code",
   "execution_count": 33,
   "metadata": {
    "collapsed": false
   },
   "outputs": [],
   "source": [
    "@pyimport numpy as np"
   ]
  },
  {
   "cell_type": "code",
   "execution_count": 34,
   "metadata": {
    "collapsed": false
   },
   "outputs": [
    {
     "data": {
      "text/plain": [
       "4-element Array{Int64,1}:\n",
       " 1\n",
       " 2\n",
       " 3\n",
       " 4"
      ]
     },
     "execution_count": 34,
     "metadata": {},
     "output_type": "execute_result"
    }
   ],
   "source": [
    "a = np.array([1,2,3,4])"
   ]
  },
  {
   "cell_type": "code",
   "execution_count": 61,
   "metadata": {
    "collapsed": false
   },
   "outputs": [
    {
     "data": {
      "text/plain": [
       "Array{Int64,1}"
      ]
     },
     "execution_count": 61,
     "metadata": {},
     "output_type": "execute_result"
    }
   ],
   "source": [
    "typeof(a)"
   ]
  },
  {
   "cell_type": "code",
   "execution_count": 62,
   "metadata": {
    "collapsed": false
   },
   "outputs": [
    {
     "data": {
      "text/plain": [
       "4-element Array{Float64,1}:\n",
       "  0.841471\n",
       "  0.909297\n",
       "  0.14112 \n",
       " -0.756802"
      ]
     },
     "execution_count": 62,
     "metadata": {},
     "output_type": "execute_result"
    }
   ],
   "source": [
    "np.sin(a)"
   ]
  },
  {
   "cell_type": "code",
   "execution_count": 43,
   "metadata": {
    "collapsed": false
   },
   "outputs": [
    {
     "data": {
      "text/plain": [
       "10-element Array{Any,1}:\n",
       "  0\n",
       "  1\n",
       "  4\n",
       "  9\n",
       " 16\n",
       " 25\n",
       " 36\n",
       " 49\n",
       " 64\n",
       " 81"
      ]
     },
     "execution_count": 43,
     "metadata": {},
     "output_type": "execute_result"
    }
   ],
   "source": [
    "pyeval(\"[i**2 for i in range(10)]\")"
   ]
  },
  {
   "cell_type": "code",
   "execution_count": 35,
   "metadata": {
    "collapsed": false
   },
   "outputs": [],
   "source": [
    "@pyimport os"
   ]
  },
  {
   "cell_type": "code",
   "execution_count": 36,
   "metadata": {
    "collapsed": false
   },
   "outputs": [
    {
     "ename": "LoadError",
     "evalue": "type PyObject has no field path",
     "output_type": "error",
     "traceback": [
      "type PyObject has no field path",
      ""
     ]
    }
   ],
   "source": [
    "# różnica  wołamy foo[:bar] and foo[:bar](...) a nie foo.bar and foo.bar(...)\n",
    "os.sys.path"
   ]
  },
  {
   "cell_type": "code",
   "execution_count": 37,
   "metadata": {
    "collapsed": false
   },
   "outputs": [
    {
     "data": {
      "text/plain": [
       "7-element Array{Any,1}:\n",
       " \"/usr/lib/python2.7\"                      \n",
       " \"/usr/lib/python2.7/plat-x86_64-linux-gnu\"\n",
       " \"/usr/lib/python2.7/lib-tk\"               \n",
       " \"/usr/lib/python2.7/lib-old\"              \n",
       " \"/usr/lib/python2.7/lib-dynload\"          \n",
       " \"/usr/local/lib/python2.7/dist-packages\"  \n",
       " \"/usr/lib/python2.7/dist-packages\"        "
      ]
     },
     "execution_count": 37,
     "metadata": {},
     "output_type": "execute_result"
    }
   ],
   "source": [
    "os.sys[:path]"
   ]
  },
  {
   "cell_type": "markdown",
   "metadata": {},
   "source": [
    "## Pakiety\n",
    "\n",
    "- Pakiety Julia to po prostu repozytoria git\n",
    "\n",
    "- Oficjalne pakiety Julia są zarejestrowane w repozytorium METADATA.jl, dostępne w dobrze znanej lokalizacji\n",
    "https://github.com/JuliaLang/METADATA.jl\n",
    "\n",
    "- użytkownicy mogą tworzyć swoje własne repozytoria METADATA. Pozwala to na wybieranie, które są dostępne do automatycznej instalacji. Można dopuścić tylko sprawdzone i zatwierdzone wersje pakietów albo udostępniać prywatne pakiety\n",
    "\n",
    "- Polecenia Pkg.add() i Pkg.rm() współdziałają z zarejestrowanymi pakietami\n",
    "\n",
    "- menedżer pakietów może również instalować i pracować z niezarejestrowanymi pakietami. Aby zainstalować niezarejestrowany pakiet, używa się Pkg.clone(URL), gdzie URL to git URL, z którego pakiet można sklonować.\n",
    "\n",
    "```julia\n",
    "Pkg.clone(\"git://example.com/path/to/Package.jl.git\")\n",
    "```\n",
    "\n",
    "- każdy użytkownik ma lokane METADATA w katalogu .julia/VERSION/METADATA np. /home/user/.julia/v0.5/METADATA\n",
    "\n",
    "- Pakiet do tworzenia i rejestrowanie pakietów\n",
    "\n",
    "```julia\n",
    "Pkg.add(\"PkgDev\")\n",
    "```"
   ]
  },
  {
   "cell_type": "code",
   "execution_count": 75,
   "metadata": {
    "collapsed": false
   },
   "outputs": [
    {
     "name": "stderr",
     "output_type": "stream",
     "text": [
      "\u001b[1m\u001b[34mINFO: Initializing AGH_Julia_Lab2 repo: /home/user/.julia/v0.5/AGH_Julia_Lab2\n",
      "\u001b[0m\u001b[1m\u001b[34mINFO: Origin: https://github.com/kzajac/AGH_Julia_Lab2.jl.git\n",
      "\u001b[0m\u001b[1m\u001b[34mINFO: Generating LICENSE.md\n",
      "\u001b[0m\u001b[1m\u001b[34mINFO: Generating README.md\n",
      "\u001b[0m\u001b[1m\u001b[34mINFO: Generating src/AGH_Julia_Lab2.jl\n",
      "\u001b[0m\u001b[1m\u001b[34mINFO: Generating test/runtests.jl\n",
      "\u001b[0m\u001b[1m\u001b[34mINFO: Generating REQUIRE\n",
      "\u001b[0m\u001b[1m\u001b[34mINFO: Generating .gitignore\n",
      "\u001b[0m\u001b[1m\u001b[34mINFO: Generating .travis.yml\n",
      "\u001b[0m\u001b[1m\u001b[34mINFO: Generating appveyor.yml\n",
      "\u001b[0m\u001b[1m\u001b[34mINFO: Generating .codecov.yml\n",
      "\u001b[0m\u001b[1m\u001b[34mINFO: Committing AGH_Julia_Lab2 generated files\n",
      "\u001b[0m"
     ]
    }
   ],
   "source": [
    "# tworzymy pakiet lokalnie \n",
    "# jeśli mamy skonfigurowany dostęp do githuba poprzez gita \n",
    "# (https://help.github.com/articles/connecting-to-github-with-ssh/) PkgDev wygeneruje dla nas url\n",
    "# nie wygeneruje zdalnego repo  na Githubie (trzeba to zrobić ręcznie)\n",
    "\n",
    "using PkgDev\n",
    "PkgDev.generate(\"AGH_Julia_Lab2\",\"MIT\", force=true)"
   ]
  },
  {
   "cell_type": "code",
   "execution_count": 76,
   "metadata": {
    "collapsed": false
   },
   "outputs": [
    {
     "name": "stderr",
     "output_type": "stream",
     "text": [
      "\u001b[1m\u001b[34mINFO: Registering AGH_Julia_Lab2 at https://github.com/kzajac/AGH_Julia_Lab2.jl.git\n",
      "\u001b[0m\u001b[1m\u001b[34mINFO: Committing METADATA for AGH_Julia_Lab2\n",
      "\u001b[0m"
     ]
    }
   ],
   "source": [
    "# po zakomitowaniu zmian możemy zarejestrować nasz pakiet w lokalnym METADATA\n",
    "PkgDev.register(\"AGH_Julia_Lab2\")"
   ]
  },
  {
   "cell_type": "code",
   "execution_count": 77,
   "metadata": {
    "collapsed": false
   },
   "outputs": [
    {
     "name": "stderr",
     "output_type": "stream",
     "text": [
      "\u001b[1m\u001b[34mINFO: Tagging AGH_Julia_Lab2 v0.0.1\n",
      "\u001b[0m\u001b[1m\u001b[34mINFO: Committing METADATA for AGH_Julia_Lab2\n",
      "\u001b[0m"
     ]
    }
   ],
   "source": [
    "# można otagować numerem wersji\n",
    "PkgDev.tag(\"AGH_Julia_Lab2\")"
   ]
  },
  {
   "cell_type": "markdown",
   "metadata": {},
   "source": [
    "Jeśli chcemy, aby nasz pakiet stał się oficjalnym pakietem należy zarejestrować go w oficjalnym repo METADATA poprzez wykonanie kroków:\n",
    "\n",
    "- zrobic fork repozytorium METADATA  na własne konto na Githubie \n",
    "- zrobić operacje push do tego \"zforkowanego\" repozytorium  \n",
    "- otworzyć  a pull request\n",
    "\n",
    "Można to zrobić ręcznie albo  komendą  \n",
    "```julia\n",
    "PkgDev.publish()\n",
    "``` \n"
   ]
  },
  {
   "cell_type": "markdown",
   "metadata": {
    "collapsed": true
   },
   "source": [
    "## JuliaCon\n",
    "http://juliacon.org/2017/"
   ]
  },
  {
   "cell_type": "markdown",
   "metadata": {},
   "source": [
    "- Celeste - analiza obrazów z ciałami niebieskimi\n",
    "\n",
    "- ciała niebieskie dostarczają fotonów, które składają się na wyprodukowanie pixela w obrazku\n",
    "\n",
    "- duże dane (teleskopy produkują setki GB  na dobę, będą produkować TB )\n",
    "\n",
    "- https://github.com/jeff-regier/Celeste.jl"
   ]
  }
 ],
 "metadata": {
  "kernelspec": {
   "display_name": "Julia 0.5.0",
   "language": "julia",
   "name": "julia-0.5"
  },
  "language_info": {
   "file_extension": ".jl",
   "mimetype": "application/julia",
   "name": "julia",
   "version": "0.5.0"
  }
 },
 "nbformat": 4,
 "nbformat_minor": 0
}
