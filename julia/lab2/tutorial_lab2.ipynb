{
 "cells": [
  {
   "cell_type": "markdown",
   "metadata": {
    "deletable": true,
    "editable": true
   },
   "source": [
    "---\n",
    "\n",
    "Tutorial na podstawie:\n",
    "- [1] Julia High Performance Programming - Ivo Balbaert\n",
    "- [2] http://docs.julialang.org/en/stable/manual/performance-tips/\n",
    "- [3] Wykład 1\n",
    "\n",
    "Zawartosc:\n",
    "\n",
    "- type-stability ([1] str. 256)\n",
    "- wydajność typów złożonych prostych i abstrakcyjnych\n",
    "- rozbijanie funkcji na miejsze\n",
    "- bariery funkcji\n",
    "\n",
    "Przydatne materiały z pierwszego wykładu:\n",
    "\n",
    "- makra: @inbounds i @inbounds, więcej w [1] (str. 313)\n",
    "- zmienne globalne, więcej w [1] (str. 277)\n",
    "\n",
    "---"
   ]
  },
  {
   "cell_type": "code",
   "execution_count": 1,
   "metadata": {
    "collapsed": false,
    "deletable": true,
    "editable": true
   },
   "outputs": [
    {
     "name": "stdout",
     "output_type": "stream",
     "text": [
      "Julia Version 0.5.0\n",
      "Commit 3c9d753 (2016-09-19 18:14 UTC)\n",
      "Platform Info:\n",
      "  System: Linux (x86_64-linux-gnu)\n",
      "  CPU: Westmere E56xx/L56xx/X56xx (Nehalem-C)\n",
      "  WORD_SIZE: 64\n",
      "  BLAS: libopenblas (NO_LAPACKE DYNAMIC_ARCH NO_AFFINITY Nehalem)\n",
      "  LAPACK: liblapack.so.3\n",
      "  LIBM: libopenlibm\n",
      "  LLVM: libLLVM-3.7.1 (ORCJIT, westmere)\n"
     ]
    },
    {
     "name": "stderr",
     "output_type": "stream",
     "text": [
      "\u001b[1m\u001b[34mINFO: Cloning BenchmarkTools from https://github.com/JuliaCI/BenchmarkTools.jl\n",
      "\u001b[0m\u001b[1m\u001b[34mINFO: Computing changes...\n",
      "\u001b[0m\u001b[1m\u001b[34mINFO: Cloning cache of JLD from https://github.com/JuliaIO/JLD.jl.git\n",
      "\u001b[0m\u001b[1m\u001b[34mINFO: Cloning cache of LegacyStrings from https://github.com/JuliaArchive/LegacyStrings.jl.git\n",
      "\u001b[0m\u001b[1m\u001b[34mINFO: Installing JLD v0.6.9\n",
      "\u001b[0m\u001b[1m\u001b[34mINFO: Installing LegacyStrings v0.2.0\n",
      "\u001b[0m\u001b[1m\u001b[34mINFO: Building Blosc\n",
      "\u001b[0m\u001b[1m\u001b[34mINFO: Building HDF5\n",
      "\u001b[0m\u001b[1m\u001b[34mINFO: Package database updated\n",
      "\u001b[0m\u001b[1m\u001b[34mINFO: Nothing to be done\n",
      "\u001b[0m\u001b[1m\u001b[34mINFO: METADATA is out-of-date — you may not have the latest version of BenchmarkTools\n",
      "\u001b[0m\u001b[1m\u001b[34mINFO: Use `Pkg.update()` to get the latest versions of your packages\n",
      "\u001b[0m\u001b[1m\u001b[34mINFO: Precompiling module JLD.\n",
      "\u001b[0mWARNING: could not import Base.lastidx into LegacyStrings\n"
     ]
    }
   ],
   "source": [
    "versioninfo()\n",
    "Pkg.clone(\"https://github.com/JuliaCI/BenchmarkTools.jl\")\n",
    "Pkg.add(\"BenchmarkTools\")\n",
    "using BenchmarkTools"
   ]
  },
  {
   "cell_type": "markdown",
   "metadata": {
    "deletable": true,
    "editable": true
   },
   "source": [
    "## Type-stability\n",
    "---"
   ]
  },
  {
   "cell_type": "code",
   "execution_count": 2,
   "metadata": {
    "collapsed": false,
    "deletable": true,
    "editable": true
   },
   "outputs": [
    {
     "data": {
      "text/plain": [
       "BenchmarkTools.Trial: \n",
       "  memory estimate:  0 bytes\n",
       "  allocs estimate:  0\n",
       "  --------------\n",
       "  minimum time:     2.309 ns (0.00% GC)\n",
       "  median time:      2.314 ns (0.00% GC)\n",
       "  mean time:        2.327 ns (0.00% GC)\n",
       "  maximum time:     9.936 ns (0.00% GC)\n",
       "  --------------\n",
       "  samples:          10000\n",
       "  evals/sample:     1000"
      ]
     },
     "execution_count": 2,
     "metadata": {},
     "output_type": "execute_result"
    }
   ],
   "source": [
    "# Type unstable version\n",
    "@benchmark trunc(2.5)"
   ]
  },
  {
   "cell_type": "code",
   "execution_count": 19,
   "metadata": {
    "collapsed": false,
    "deletable": true,
    "editable": true
   },
   "outputs": [
    {
     "data": {
      "text/plain": [
       "================ Benchmark Results ========================\n",
       "     Time per evaluation: 2.57 ns [2.51 ns, 2.62 ns]\n",
       "Proportion of time in GC: 0.00% [0.00%, 0.00%]\n",
       "        Memory allocated: 0.00 bytes\n",
       "   Number of allocations: 0 allocations\n",
       "       Number of samples: 3901\n",
       "   Number of evaluations: 82201\n",
       "         R² of OLS model: 0.955\n",
       " Time spent benchmarking: 3.53 s\n"
      ]
     },
     "execution_count": 19,
     "metadata": {},
     "output_type": "execute_result"
    }
   ],
   "source": [
    "# Type stable version\n",
    "\n",
    "function trunc_fixed(x)\n",
    "    if x < 0\n",
    "        return zero(x)\n",
    "    else\n",
    "        return x\n",
    "    end\n",
    "end\n",
    "\n",
    "@benchmark trunc_fixed(2.5)"
   ]
  },
  {
   "cell_type": "code",
   "execution_count": 24,
   "metadata": {
    "collapsed": false,
    "deletable": true,
    "editable": true
   },
   "outputs": [
    {
     "name": "stdout",
     "output_type": "stream",
     "text": [
      "Variables:\n",
      "  #self#::Base.#trunc\n",
      "  x::Float64\n",
      "\n",
      "Body:\n",
      "  begin \n",
      "      return (Base.box)(Base.Float64,(Base.trunc_llvm)(x::Float64))\n",
      "  end::Float64\n"
     ]
    }
   ],
   "source": [
    "# to warun against type unstability\n",
    "@code_warntype trunc(2.5)"
   ]
  },
  {
   "cell_type": "markdown",
   "metadata": {
    "collapsed": false,
    "deletable": true,
    "editable": true
   },
   "source": [
    "## Typy złożone\n",
    "---\n",
    "Wydajność typów złożonych. Brak informacji o type, uniemożliwia kompilatorowi podjęcie decyzji o konieczności używani *pointer inderection*. Więcej w [1] str. 273."
   ]
  },
  {
   "cell_type": "code",
   "execution_count": 21,
   "metadata": {
    "collapsed": false,
    "deletable": true,
    "editable": true
   },
   "outputs": [
    {
     "ename": "LoadError",
     "evalue": "invalid redefinition of constant Point",
     "output_type": "error",
     "traceback": [
      "invalid redefinition of constant Point",
      ""
     ]
    }
   ],
   "source": [
    "# Bad Performacne\n",
    "immutable BadPoint\n",
    "    x\n",
    "    y\n",
    "end\n",
    "\n",
    "# Good Performance\n",
    "immutable GoodPoint\n",
    "    x::Float64\n",
    "    y::Float64\n",
    "end"
   ]
  },
  {
   "cell_type": "markdown",
   "metadata": {
    "collapsed": false,
    "deletable": true,
    "editable": true
   },
   "source": [
    "### Typy abstrakcyjne\n",
    "Uzywając drugiego sposobu, kompilator może dokonać optymalizacji. [1] str. 274"
   ]
  },
  {
   "cell_type": "code",
   "execution_count": 22,
   "metadata": {
    "collapsed": false,
    "deletable": true,
    "editable": true
   },
   "outputs": [],
   "source": [
    "# Bad Performacne\n",
    "immutable AbstractBadPoint\n",
    "    x::AbstractFloat\n",
    "    y::AbstractFloat\n",
    "end\n",
    "\n",
    "# Good Performance\n",
    "immutable AbstractGoodPoint{ T <: AbstractFloat}\n",
    "    x::T\n",
    "    y::T\n",
    "end"
   ]
  },
  {
   "cell_type": "markdown",
   "metadata": {
    "collapsed": false,
    "deletable": true,
    "editable": true
   },
   "source": [
    "## Dzielenie funkcji ma mniejsze\n",
    "Praktyka ta pomaga w kompilatorowi w inlinowaniu kodu [1] (str. 282) i rzecz jasna zmniejsza ilość operacji np. typu flow control [2]."
   ]
  },
  {
   "cell_type": "code",
   "execution_count": 23,
   "metadata": {
    "collapsed": false,
    "deletable": true,
    "editable": true
   },
   "outputs": [
    {
     "data": {
      "text/plain": [
       "norm (generic function with 3 methods)"
      ]
     },
     "execution_count": 23,
     "metadata": {},
     "output_type": "execute_result"
    }
   ],
   "source": [
    "# Zamiast\n",
    "function norm(A)\n",
    "    if isa(A, Vector)\n",
    "        return sqrt(real(dot(A,A)))\n",
    "    elseif isa(A, Matrix)\n",
    "        return max(svd(A)[2])\n",
    "    else\n",
    "        error(\"norm: invalid argument\")\n",
    "    end\n",
    "end\n",
    "\n",
    "# Piszemy\n",
    "norm(x::Vector) = sqrt(real(dot(x,x)))\n",
    "norm(A::Matrix) = max(svd(A)[2])"
   ]
  },
  {
   "cell_type": "markdown",
   "metadata": {
    "collapsed": false,
    "deletable": true,
    "editable": true
   },
   "source": [
    "## Bariery Funkcji\n",
    "\n",
    "Kolejna optymalizacja mająca pomóc kompilatorowi w rozpoznawaniu typów. W przypadki drugi, kompilator może wygenerować kilka typów konkretnych funkcji dla różnych typów wywpłania, zamiast trzymać jedną z wywpłaniem o niezdefiniowanym typie. Więcej na [2]."
   ]
  },
  {
   "cell_type": "code",
   "execution_count": 44,
   "metadata": {
    "collapsed": false,
    "deletable": true,
    "editable": true
   },
   "outputs": [],
   "source": [
    "# Zamiast\n",
    "function strange_twos(n)\n",
    "    a = Array(rand(Bool) ? Int64 : Float64, n)\n",
    "    for i = 1:n\n",
    "        a[i] = 2\n",
    "    end\n",
    "    return a\n",
    "end\n",
    "\n",
    "# lepiej napisać\n",
    "function fill_twos!(a)\n",
    "    for i=1:length(a)\n",
    "        a[i] = 2\n",
    "    end\n",
    "end\n",
    "\n",
    "function strange_twos(n)\n",
    "    a = Array(rand(Bool) ? Int64 : Float64, n)\n",
    "    fill_twos!(a)\n",
    "    return a\n",
    "end"
   ]
  }
 ],
 "metadata": {
  "kernelspec": {
   "display_name": "Julia 0.5.0",
   "language": "julia",
   "name": "julia-0.5"
  },
  "language_info": {
   "file_extension": ".jl",
   "mimetype": "application/julia",
   "name": "julia",
   "version": "0.5.0"
  }
 },
 "nbformat": 4,
 "nbformat_minor": 0
}
